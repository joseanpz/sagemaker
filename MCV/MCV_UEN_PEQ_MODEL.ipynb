{
 "cells": [
  {
   "cell_type": "code",
   "execution_count": 1,
   "metadata": {
    "scrolled": true
   },
   "outputs": [
    {
     "name": "stdout",
     "output_type": "stream",
     "text": [
      "MemTotal:       32949048 kB\r\n",
      "MemFree:        31443944 kB\r\n",
      "MemAvailable:   32006348 kB\r\n",
      "Buffers:          121112 kB\r\n",
      "Cached:           769036 kB\r\n",
      "SwapCached:            0 kB\r\n",
      "Active:           903564 kB\r\n",
      "Inactive:         426848 kB\r\n",
      "Active(anon):     440292 kB\r\n",
      "Inactive(anon):       48 kB\r\n",
      "Active(file):     463272 kB\r\n",
      "Inactive(file):   426800 kB\r\n",
      "Unevictable:           0 kB\r\n",
      "Mlocked:               0 kB\r\n",
      "SwapTotal:             0 kB\r\n",
      "SwapFree:              0 kB\r\n",
      "Dirty:                44 kB\r\n",
      "Writeback:             0 kB\r\n",
      "AnonPages:        440472 kB\r\n",
      "Mapped:           120644 kB\r\n",
      "Shmem:                60 kB\r\n",
      "Slab:              93684 kB\r\n",
      "SReclaimable:      71484 kB\r\n",
      "SUnreclaim:        22200 kB\r\n",
      "KernelStack:        4000 kB\r\n",
      "PageTables:         5532 kB\r\n",
      "NFS_Unstable:          0 kB\r\n",
      "Bounce:                0 kB\r\n",
      "WritebackTmp:          0 kB\r\n",
      "CommitLimit:    16474524 kB\r\n",
      "Committed_AS:    1507648 kB\r\n",
      "VmallocTotal:   34359738367 kB\r\n",
      "VmallocUsed:           0 kB\r\n",
      "VmallocChunk:          0 kB\r\n",
      "AnonHugePages:         0 kB\r\n",
      "ShmemHugePages:        0 kB\r\n",
      "ShmemPmdMapped:        0 kB\r\n",
      "HugePages_Total:       0\r\n",
      "HugePages_Free:        0\r\n",
      "HugePages_Rsvd:        0\r\n",
      "HugePages_Surp:        0\r\n",
      "Hugepagesize:       2048 kB\r\n",
      "DirectMap4k:       16384 kB\r\n",
      "DirectMap2M:     3129344 kB\r\n",
      "DirectMap1G:    31457280 kB\r\n"
     ]
    }
   ],
   "source": [
    "!cat /proc/meminfo"
   ]
  },
  {
   "cell_type": "code",
   "execution_count": 2,
   "metadata": {},
   "outputs": [
    {
     "name": "stdout",
     "output_type": "stream",
     "text": [
      "Collecting xgboost\n",
      "\u001b[?25l  Downloading https://files.pythonhosted.org/packages/8f/15/606f81a2b8a8e82eaa10683cb3f3074905ec65d3bcef949e3f0909f165a5/xgboost-0.80-py2.py3-none-manylinux1_x86_64.whl (15.8MB)\n",
      "\u001b[K    100% |████████████████████████████████| 15.8MB 3.3MB/s eta 0:00:01\n",
      "\u001b[?25hCollecting msgpack\n",
      "\u001b[?25l  Downloading https://files.pythonhosted.org/packages/22/4e/dcf124fd97e5f5611123d6ad9f40ffd6eb979d1efdc1049e28a795672fcd/msgpack-0.5.6-cp36-cp36m-manylinux1_x86_64.whl (315kB)\n",
      "\u001b[K    100% |████████████████████████████████| 317kB 42.5MB/s ta 0:00:01\n",
      "\u001b[?25hRequirement already satisfied: scipy in /home/ec2-user/anaconda3/envs/python3/lib/python3.6/site-packages (from xgboost) (1.1.0)\n",
      "Requirement already satisfied: numpy in /home/ec2-user/anaconda3/envs/python3/lib/python3.6/site-packages (from xgboost) (1.15.1)\n",
      "Installing collected packages: xgboost, msgpack\n",
      "Successfully installed msgpack-0.5.6 xgboost-0.80\n",
      "\u001b[33mYou are using pip version 10.0.1, however version 18.0 is available.\n",
      "You should consider upgrading via the 'pip install --upgrade pip' command.\u001b[0m\n"
     ]
    }
   ],
   "source": [
    "!pip install xgboost msgpack"
   ]
  },
  {
   "cell_type": "code",
   "execution_count": 3,
   "metadata": {},
   "outputs": [],
   "source": [
    "import pandas as pd\n",
    "import numpy as np\n",
    "import seaborn as sns\n",
    "import matplotlib.pyplot as plt\n",
    "import io\n",
    "import time\n",
    "import json\n",
    "import gc\n",
    "import pickle\n",
    "\n",
    "from sklearn import preprocessing as prp\n",
    "from sklearn.metrics import roc_curve, auc\n",
    "from sklearn.metrics import (accuracy_score, r2_score, confusion_matrix,\n",
    "f1_score, recall_score, precision_score)\n",
    "\n",
    "import os\n",
    "import boto3\n",
    "import re\n",
    "\n",
    "import xgboost as xgb\n",
    "\n",
    "# ruta de trabajo en s3\n",
    "bucket = 'boi-banregio'\n",
    "target = 'BMI'\n",
    "feat_part_number = 40\n",
    "\n",
    "pd.options.display.max_rows = 4000\n",
    "\n",
    "# s3 resource\n",
    "s3_bucket_resource = boto3.resource('s3').Bucket(bucket)"
   ]
  },
  {
   "cell_type": "code",
   "execution_count": 4,
   "metadata": {},
   "outputs": [],
   "source": [
    "from itertools import chain, zip_longest\n",
    "\n",
    "def predict(probs, threshold):\n",
    "    preds = []\n",
    "    for prob in probs:\n",
    "        if prob > threshold:\n",
    "            preds.append(1)\n",
    "        else:\n",
    "            preds.append(0)\n",
    "    return np.array(preds)\n",
    "\n",
    "# fval for hyperparameters\n",
    "def val_func(pred_probs, dmat):\n",
    "    thrs = [0.3, 0.4, 0.5, 0.6, 0.7, 0.8]\n",
    "    ret = []\n",
    "    for thr in thrs:\n",
    "        preds = predict(pred_probs, thr)\n",
    "        score = f1_score(preds, dmat.get_float_info('label'))\n",
    "        ret.append(('f1_score_thr{}'.format(thr), score))\n",
    "    return ret\n",
    "\n",
    "def val_func_thr(bst, dtest, test_y):\n",
    "    f1_sc = 0\n",
    "    max_step = 0\n",
    "    thr_sample = (dtest, test_y)\n",
    "    _score_preds = bst.predict(thr_sample[0])\n",
    "    for thr_step in np.linspace(0, 1, 101):\n",
    "        _preds = predict(_score_preds, thr_step)\n",
    "        f1_sc_step = f1_score(thr_sample[1], _preds)        \n",
    "        if f1_sc_step >= f1_sc:\n",
    "            f1_sc = f1_sc_step\n",
    "            max_step = thr_step\n",
    "    # threshold = max_step\n",
    "    return max_step, f1_sc  # threshold, f1score max value\n",
    "\n",
    "def pretty_table(matrix):\n",
    "    matrix_aux = chain.from_iterable(\n",
    "        zip_longest(\n",
    "            *(x.splitlines() for x in y),\n",
    "            fillvalue='')\n",
    "        for y in [[str(e) for e in row] for row in matrix])\n",
    "\n",
    "    s = [[str(e) for e in row] for row in matrix_aux]\n",
    "    lens = [max(map(len, col)) for col in zip(*s)]\n",
    "    fmt = '\\t'.join('{{:{}}}'.format(x) for x in lens)\n",
    "    table = [fmt.format(*row) for row in s]\n",
    "    print('\\n'.join(table))\n",
    "    \n",
    "def get_xgb_feat_importances(clf):\n",
    "    if isinstance(clf, xgb.XGBModel):\n",
    "        # clf has been created by calling\n",
    "        # xgb.XGBClassifier.fit() or xgb.XGBRegressor().fit()\n",
    "        fscore = clf.booster().get_fscore()\n",
    "    else:\n",
    "        # clf has been created by calling xgb.train.\n",
    "        # Thus, clf is an instance of xgb.Booster.\n",
    "        fscore = clf.get_fscore()\n",
    "\n",
    "    feat_importances = []\n",
    "    for ft, score in fscore.items():\n",
    "        feat_importances.append({'Feature': ft, 'Importance': score})\n",
    "    feat_importances = pd.DataFrame(feat_importances)\n",
    "    feat_importances = feat_importances.sort_values(\n",
    "        by='Importance', ascending=False).reset_index(drop=True)\n",
    "    # Divide the importances by the sum of all importances\n",
    "    # to get relative importances. By using relative importances\n",
    "    # the sum of all importances will equal to 1, i.e.,\n",
    "    # np.sum(feat_importances['importance']) == 1\n",
    "    feat_importances['Importance'] /= feat_importances['Importance'].sum()\n",
    "    # Print the most important features and their importances\n",
    "    print(feat_importances.head())\n",
    "    return feat_importances"
   ]
  },
  {
   "cell_type": "markdown",
   "metadata": {},
   "source": [
    "### Cargamos información"
   ]
  },
  {
   "cell_type": "code",
   "execution_count": 5,
   "metadata": {},
   "outputs": [],
   "source": [
    "# Aquí colocamos la ruta de nuestro directorio, el nombre de nuestro archivo y si tiene o no cabecera\n",
    "prefix = 'datalake/data/InteligenciaRiesgos/M&M/MCV/DATASETS_3/JAT_MCV_VAR_VARIABLES_SELECCION/PARTITION'"
   ]
  },
  {
   "cell_type": "code",
   "execution_count": 6,
   "metadata": {},
   "outputs": [],
   "source": [
    "target_file_name = \"TARGETS.csv\"\n",
    "target_file_key = \"{}/{}\".format(prefix, target_file_name)\n",
    "target_obj = s3_bucket_resource.Object(target_file_key).get()\n",
    "target_data = pd.read_csv(io.BytesIO(target_obj['Body'].read())).loc[:,[target]]"
   ]
  },
  {
   "cell_type": "code",
   "execution_count": 155,
   "metadata": {},
   "outputs": [],
   "source": [
    "# model_features_file_name = \"MODEL_DATASET/MODEL_FEATURES.csv\"\n",
    "model_features_file_name = \"MODEL_DATASET/MODEL_FEATURES+EXTRAS.csv\"\n",
    "model_features_file_key = \"{}/{}\".format(prefix, model_features_file_name)\n",
    "model_features_obj = s3_bucket_resource.Object(model_features_file_key).get()\n",
    "model_features_data = pd.read_csv(io.BytesIO(model_features_obj['Body'].read()))"
   ]
  },
  {
   "cell_type": "code",
   "execution_count": 6,
   "metadata": {},
   "outputs": [],
   "source": [
    "date_features_file_name = \"EXTRA_FEATURES/MCV_TRIMESTRE.csv\"\n",
    "date_features_file_key = \"{}/{}\".format(prefix, date_features_file_name)\n",
    "date_features_obj = s3_bucket_resource.Object(date_features_file_key).get()\n",
    "date_features_data = pd.read_csv(io.BytesIO(date_features_obj['Body'].read()))"
   ]
  },
  {
   "cell_type": "code",
   "execution_count": 8,
   "metadata": {},
   "outputs": [],
   "source": [
    "rfc_key_features_file_name = \"EXTRA_FEATURES/MCV_VAR_RFC_FECHA_LLAVE.csv\"\n",
    "rfc_key_features_file_key = \"{}/{}\".format(prefix, rfc_key_features_file_name)\n",
    "rfc_key_features_obj = s3_bucket_resource.Object(rfc_key_features_file_key).get()\n",
    "rfc_key_features_data = pd.read_csv(io.BytesIO(rfc_key_features_obj['Body'].read()))"
   ]
  },
  {
   "cell_type": "code",
   "execution_count": null,
   "metadata": {},
   "outputs": [],
   "source": [
    "monto_linea_features_file_name = \"EXTRA_FEATURES/JAT_MCV_VAR_VARIABLES_SELECCION_MONTO_LINEA.csv\"\n",
    "monto_linea_features_file_key = \"{}/{}\".format(prefix, monto_linea_features_file_name)\n",
    "monto_linea_features_obj = s3_bucket_resource.Object(monto_linea_features_file_key).get()\n",
    "monto_linea_features_data = pd.read_csv(io.BytesIO(monto_linea_features_obj['Body'].read()))"
   ]
  },
  {
   "cell_type": "markdown",
   "metadata": {},
   "source": [
    "### Selección de modelo con instancias independientes\n"
   ]
  },
  {
   "cell_type": "code",
   "execution_count": 102,
   "metadata": {},
   "outputs": [
    {
     "name": "stdout",
     "output_type": "stream",
     "text": [
      "(9714, 3)\n",
      "(8975, 3)\n",
      "(8240, 3)\n",
      "(7534, 3)\n",
      "(6863, 3)\n",
      "(6123, 3)\n",
      "(5400, 3)\n",
      "(4734, 3)\n",
      "(4162, 3)\n",
      "(3546, 3)\n",
      "(2959, 3)\n",
      "(2368, 3)\n",
      "(789, 3)\n",
      "(1173, 3)\n",
      "(775, 3)\n"
     ]
    },
    {
     "data": {
      "text/plain": [
       "10500"
      ]
     },
     "metadata": {},
     "output_type": "display_data"
    },
    {
     "data": {
      "text/plain": [
       "387027"
      ]
     },
     "metadata": {},
     "output_type": "display_data"
    }
   ],
   "source": [
    "def sampler(data, periods, sample, sample_exclude, month_size=500, seed=0):\n",
    "    if periods:\n",
    "        period = (data['FECHA'] == periods.pop()) & (~sample_exclude)\n",
    "        local_universe = data[period].drop_duplicates('RFC')\n",
    "        print(local_universe.shape)                                                                                                                                                                                                                                                                                                                                                                                                                                                                                                                                                                                                                                                                                                                                                                                                                                                                                                                                                                                                                                                                                                                                                                                                                                                                                                                                                                                                                                                                                                                                                                                                                                                                                                                                                                                                                                                                                                                                                                                                                                                                                                                                                                                                                                                                                                                                                                                                                                                                                                                                                                                                                                                                                                                                                                                                                 \n",
    "        period_sample = local_universe.sample(month_size, random_state=seed)\n",
    "        sample = pd.Series(data.index.isin(period_sample.index)) | sample\n",
    "        sample_exclude = data['RFC'].isin(period_sample['RFC']) | sample_exclude\n",
    "        return sampler(data, periods, sample, sample_exclude, month_size, seed)\n",
    "    else:\n",
    "        return sample, sample_exclude\n",
    "\n",
    "\n",
    "periods = [201609, 201610, 201611, 201612, 201701, \n",
    "           201702, 201703, 201704, 201705, 201706, \n",
    "           201707, 201708, 201709, 201710, 201711]\n",
    "sample = pd.Series([False]*rfc_key_features_data.shape[0])\n",
    "sample_exclude = sample\n",
    "sample, sample_exclude = sampler(rfc_key_features_data, periods, sample, sample_exclude, month_size=700)\n",
    "display(sample.sum())\n",
    "display(sample_exclude.sum())"
   ]
  },
  {
   "cell_type": "code",
   "execution_count": 196,
   "metadata": {},
   "outputs": [
    {
     "name": "stdout",
     "output_type": "stream",
     "text": [
      "(7890, 3)\n",
      "(7151, 3)\n",
      "(6526, 3)\n",
      "(5862, 3)\n",
      "(5163, 3)\n",
      "(4630, 3)\n",
      "(4043, 3)\n",
      "(3404, 3)\n",
      "(2911, 3)\n",
      "(2368, 3)\n",
      "(1817, 3)\n",
      "(1308, 3)\n",
      "(799, 3)\n"
     ]
    },
    {
     "data": {
      "text/plain": [
       "7800"
      ]
     },
     "metadata": {},
     "output_type": "display_data"
    },
    {
     "data": {
      "text/plain": [
       "325071"
      ]
     },
     "metadata": {},
     "output_type": "display_data"
    }
   ],
   "source": [
    "periods2 = [201503, 201504, 201505, \n",
    "            201506, 201507, 201508, 201509, 201510, \n",
    "            201511, 201512, 201601, 201602, 201603]\n",
    "sample2 = pd.Series([False]*rfc_key_features_data.shape[0])\n",
    "sample_exclude2 = sample2\n",
    "sample2, sample_exclude2 = sampler(rfc_key_features_data, periods2, sample2, sample_exclude2, month_size=600)\n",
    "display(sample2.sum())\n",
    "display(sample_exclude2.sum())"
   ]
  },
  {
   "cell_type": "code",
   "execution_count": 185,
   "metadata": {},
   "outputs": [
    {
     "data": {
      "text/plain": [
       "(6460, 3)"
      ]
     },
     "metadata": {},
     "output_type": "display_data"
    },
    {
     "data": {
      "text/plain": [
       "(6473, 3)"
      ]
     },
     "metadata": {},
     "output_type": "display_data"
    },
    {
     "data": {
      "text/plain": [
       "(6627, 3)"
      ]
     },
     "metadata": {},
     "output_type": "display_data"
    },
    {
     "data": {
      "text/plain": [
       "(6691, 3)"
      ]
     },
     "metadata": {},
     "output_type": "display_data"
    },
    {
     "data": {
      "text/plain": [
       "(6766, 3)"
      ]
     },
     "metadata": {},
     "output_type": "display_data"
    },
    {
     "data": {
      "text/plain": [
       "(6928, 3)"
      ]
     },
     "metadata": {},
     "output_type": "display_data"
    },
    {
     "data": {
      "text/plain": [
       "(7010, 3)"
      ]
     },
     "metadata": {},
     "output_type": "display_data"
    },
    {
     "data": {
      "text/plain": [
       "(6993, 3)"
      ]
     },
     "metadata": {},
     "output_type": "display_data"
    },
    {
     "data": {
      "text/plain": [
       "(7219, 3)"
      ]
     },
     "metadata": {},
     "output_type": "display_data"
    },
    {
     "data": {
      "text/plain": [
       "(7298, 3)"
      ]
     },
     "metadata": {},
     "output_type": "display_data"
    },
    {
     "data": {
      "text/plain": [
       "(7301, 3)"
      ]
     },
     "metadata": {},
     "output_type": "display_data"
    },
    {
     "data": {
      "text/plain": [
       "(7501, 3)"
      ]
     },
     "metadata": {},
     "output_type": "display_data"
    },
    {
     "data": {
      "text/plain": [
       "(7653, 3)"
      ]
     },
     "metadata": {},
     "output_type": "display_data"
    },
    {
     "data": {
      "text/plain": [
       "(7715, 3)"
      ]
     },
     "metadata": {},
     "output_type": "display_data"
    },
    {
     "data": {
      "text/plain": [
       "(7890, 3)"
      ]
     },
     "metadata": {},
     "output_type": "display_data"
    },
    {
     "data": {
      "text/plain": [
       "(7989, 3)"
      ]
     },
     "metadata": {},
     "output_type": "display_data"
    },
    {
     "data": {
      "text/plain": [
       "(8038, 3)"
      ]
     },
     "metadata": {},
     "output_type": "display_data"
    },
    {
     "data": {
      "text/plain": [
       "(8308, 3)"
      ]
     },
     "metadata": {},
     "output_type": "display_data"
    },
    {
     "data": {
      "text/plain": [
       "(8469, 3)"
      ]
     },
     "metadata": {},
     "output_type": "display_data"
    },
    {
     "data": {
      "text/plain": [
       "(8551, 3)"
      ]
     },
     "metadata": {},
     "output_type": "display_data"
    }
   ],
   "source": [
    "dates = [201501, 201502, 201503, 201504, 201505, \n",
    "         201506, 201507, 201508, 201509, 201510, \n",
    "         201511, 201512, 201601, 201602, 201603, \n",
    "         201604, 201605, 201606, 201607, 201608]\n",
    "\n",
    "\n",
    "\n",
    "for date in dates:\n",
    "    period = (rfc_key_features_data['FECHA'] == date)# & ~sample_exclude\n",
    "    local_universe = rfc_key_features_data[period].drop_duplicates('RFC')\n",
    "    display(local_universe.shape)"
   ]
  },
  {
   "cell_type": "code",
   "execution_count": 103,
   "metadata": {},
   "outputs": [
    {
     "data": {
      "text/plain": [
       "10500"
      ]
     },
     "execution_count": 103,
     "metadata": {},
     "output_type": "execute_result"
    }
   ],
   "source": [
    "len(rfc_key_features_data[sample]['RFC'].unique())"
   ]
  },
  {
   "cell_type": "code",
   "execution_count": 113,
   "metadata": {},
   "outputs": [
    {
     "data": {
      "text/plain": [
       "1294"
      ]
     },
     "execution_count": 113,
     "metadata": {},
     "output_type": "execute_result"
    }
   ],
   "source": [
    "per = (rfc_key_features_data['FECHA'] == 201601) &  (~sample_exclude)\n",
    "per.sum()"
   ]
  },
  {
   "cell_type": "code",
   "execution_count": null,
   "metadata": {},
   "outputs": [],
   "source": []
  },
  {
   "cell_type": "markdown",
   "metadata": {},
   "source": [
    "### Variable \"BUENO\""
   ]
  },
  {
   "cell_type": "code",
   "execution_count": 10,
   "metadata": {},
   "outputs": [],
   "source": [
    "BUENO = target_data['BMI'] == 0"
   ]
  },
  {
   "cell_type": "markdown",
   "metadata": {},
   "source": [
    "### Variables \"TRIMESTRE\", \"PERIODO\""
   ]
  },
  {
   "cell_type": "code",
   "execution_count": 132,
   "metadata": {},
   "outputs": [
    {
     "data": {
      "text/plain": [
       "207622"
      ]
     },
     "metadata": {},
     "output_type": "display_data"
    }
   ],
   "source": [
    "TRIMESTRE = (date_features_data['TRIMESTRE'] == 3) | (date_features_data['TRIMESTRE'] == 4)\n",
    "display(TRIMESTRE.sum())"
   ]
  },
  {
   "cell_type": "code",
   "execution_count": 52,
   "metadata": {},
   "outputs": [
    {
     "data": {
      "text/plain": [
       "94908"
      ]
     },
     "metadata": {},
     "output_type": "display_data"
    },
    {
     "data": {
      "text/plain": [
       "13634"
      ]
     },
     "metadata": {},
     "output_type": "display_data"
    }
   ],
   "source": [
    "# PERIODO = ((date_features_data['FECHA'] == 201501) \n",
    "# | (date_features_data['FECHA'] == 201508) \n",
    "# | (date_features_data['FECHA'] == 201603)\n",
    "# | (date_features_data['FECHA'] == 201610)\n",
    "# | (date_features_data['FECHA'] == 201705))\n",
    "\n",
    "PERIODO_TRAIN = ((date_features_data['FECHA'] == 201701)\n",
    "                 |(date_features_data['FECHA'] == 201609) \n",
    "                 |(date_features_data['FECHA'] == 201606)\n",
    "                 |(date_features_data['FECHA'] == 201602)\n",
    "                 |(date_features_data['FECHA'] == 201511)\n",
    "                 |(date_features_data['FECHA'] == 201507)\n",
    "                 |(date_features_data['FECHA'] == 201504)\n",
    "                 |(date_features_data['FECHA'] == 201501))\n",
    "PERIODO_TEST = date_features_data['FECHA'] == 201707\n",
    "\n",
    "display(PERIODO_TRAIN.sum())\n",
    "display(PERIODO_TEST.sum())"
   ]
  },
  {
   "cell_type": "code",
   "execution_count": 122,
   "metadata": {},
   "outputs": [
    {
     "data": {
      "text/plain": [
       "13892"
      ]
     },
     "metadata": {},
     "output_type": "display_data"
    }
   ],
   "source": [
    "PERIODO = date_features_data['FECHA'] == 201711\n",
    "display(PERIODO.sum())"
   ]
  },
  {
   "cell_type": "code",
   "execution_count": 172,
   "metadata": {},
   "outputs": [
    {
     "data": {
      "text/plain": [
       "61982"
      ]
     },
     "metadata": {},
     "output_type": "display_data"
    }
   ],
   "source": [
    "PERIODO2 = ((date_features_data['FECHA'] == 201504) \n",
    "| (date_features_data['FECHA'] == 201511) \n",
    "| (date_features_data['FECHA'] == 201606)\n",
    "| (date_features_data['FECHA'] == 201701)\n",
    "| (date_features_data['FECHA'] == 201708))\n",
    "display(PERIODO2.sum())"
   ]
  },
  {
   "cell_type": "markdown",
   "metadata": {},
   "source": [
    "### Variable \"DIAS_ATRASO\""
   ]
  },
  {
   "cell_type": "code",
   "execution_count": 97,
   "metadata": {},
   "outputs": [],
   "source": [
    "DATRASO = model_features_data['DIAS_ATRASO'] > 0"
   ]
  },
  {
   "cell_type": "code",
   "execution_count": 13,
   "metadata": {
    "scrolled": true
   },
   "outputs": [
    {
     "data": {
      "text/plain": [
       "21783"
      ]
     },
     "metadata": {},
     "output_type": "display_data"
    },
    {
     "data": {
      "text/html": [
       "<div>\n",
       "<style scoped>\n",
       "    .dataframe tbody tr th:only-of-type {\n",
       "        vertical-align: middle;\n",
       "    }\n",
       "\n",
       "    .dataframe tbody tr th {\n",
       "        vertical-align: top;\n",
       "    }\n",
       "\n",
       "    .dataframe thead th {\n",
       "        text-align: right;\n",
       "    }\n",
       "</style>\n",
       "<table border=\"1\" class=\"dataframe\">\n",
       "  <thead>\n",
       "    <tr style=\"text-align: right;\">\n",
       "      <th></th>\n",
       "      <th>AVG_R_BAL_BY_CRED_LIM_12M</th>\n",
       "      <th>DEUDA_TOT</th>\n",
       "      <th>MIN_R_BAL_BY_MAX_BAL_03M</th>\n",
       "      <th>MAX_D_CRED_LIM_TO_BAL_03M</th>\n",
       "      <th>AVG_D_CRED_LIM_TO_BAL_06M</th>\n",
       "      <th>AVG_PND_MENOS_R_BAL_BY_MAX_BAL_06M</th>\n",
       "      <th>AVG_R_BAL_BY_MAX_BAL_12M</th>\n",
       "      <th>AVG_PND_MENOS_BAL_12M</th>\n",
       "      <th>BK12_MAX_CREDIT_AMT</th>\n",
       "      <th>AVG_PND_MAS_BAL_12M</th>\n",
       "      <th>...</th>\n",
       "      <th>MAX_AVG2_VP_MES_U06M_2</th>\n",
       "      <th>MIN_AVG_HI_CALCAR_CEIL_12M</th>\n",
       "      <th>AVG_PND_MAS_MAX_HI_CALCAR_L_12M</th>\n",
       "      <th>MAX_MS_CL_BRG_R_CL_ACC</th>\n",
       "      <th>AVG_PND_MAS_MAX_HI_CALCAR_CEIL_12M</th>\n",
       "      <th>SUM_PAGOREALIZADO_PERIODO</th>\n",
       "      <th>DIAS_ATRASO</th>\n",
       "      <th>DPCV_CAP</th>\n",
       "      <th>DPCV_INT</th>\n",
       "      <th>DPCV_MIN</th>\n",
       "    </tr>\n",
       "  </thead>\n",
       "  <tbody>\n",
       "    <tr>\n",
       "      <th>165</th>\n",
       "      <td>0.232773</td>\n",
       "      <td>1.067227</td>\n",
       "      <td>0.190022</td>\n",
       "      <td>2.304053</td>\n",
       "      <td>2.676436</td>\n",
       "      <td>0.058188</td>\n",
       "      <td>0.227256</td>\n",
       "      <td>4.271565</td>\n",
       "      <td>1.580645</td>\n",
       "      <td>4.114161</td>\n",
       "      <td>...</td>\n",
       "      <td>-0.046345</td>\n",
       "      <td>-0.944444</td>\n",
       "      <td>-0.874797</td>\n",
       "      <td>20.0</td>\n",
       "      <td>-0.601990</td>\n",
       "      <td>-0.255973</td>\n",
       "      <td>23</td>\n",
       "      <td>38</td>\n",
       "      <td>38</td>\n",
       "      <td>38</td>\n",
       "    </tr>\n",
       "    <tr>\n",
       "      <th>184</th>\n",
       "      <td>0.338380</td>\n",
       "      <td>0.327731</td>\n",
       "      <td>0.213416</td>\n",
       "      <td>-0.277413</td>\n",
       "      <td>-0.279964</td>\n",
       "      <td>0.199422</td>\n",
       "      <td>-0.621106</td>\n",
       "      <td>-0.319099</td>\n",
       "      <td>-0.161290</td>\n",
       "      <td>-0.321483</td>\n",
       "      <td>...</td>\n",
       "      <td>-0.060490</td>\n",
       "      <td>-0.236111</td>\n",
       "      <td>1.901492</td>\n",
       "      <td>-13.0</td>\n",
       "      <td>4.459378</td>\n",
       "      <td>-0.255973</td>\n",
       "      <td>20</td>\n",
       "      <td>41</td>\n",
       "      <td>41</td>\n",
       "      <td>41</td>\n",
       "    </tr>\n",
       "    <tr>\n",
       "      <th>191</th>\n",
       "      <td>0.661387</td>\n",
       "      <td>0.428571</td>\n",
       "      <td>-0.360803</td>\n",
       "      <td>-0.287763</td>\n",
       "      <td>-0.305304</td>\n",
       "      <td>0.298017</td>\n",
       "      <td>0.312038</td>\n",
       "      <td>-0.314110</td>\n",
       "      <td>0.129032</td>\n",
       "      <td>-0.311103</td>\n",
       "      <td>...</td>\n",
       "      <td>0.092392</td>\n",
       "      <td>2.472222</td>\n",
       "      <td>2.934360</td>\n",
       "      <td>-1.0</td>\n",
       "      <td>18.716509</td>\n",
       "      <td>-0.255973</td>\n",
       "      <td>21</td>\n",
       "      <td>40</td>\n",
       "      <td>40</td>\n",
       "      <td>40</td>\n",
       "    </tr>\n",
       "    <tr>\n",
       "      <th>192</th>\n",
       "      <td>0.679216</td>\n",
       "      <td>0.428571</td>\n",
       "      <td>-0.360803</td>\n",
       "      <td>-0.287763</td>\n",
       "      <td>-0.304487</td>\n",
       "      <td>0.309719</td>\n",
       "      <td>0.298596</td>\n",
       "      <td>-0.312733</td>\n",
       "      <td>0.129032</td>\n",
       "      <td>-0.311609</td>\n",
       "      <td>...</td>\n",
       "      <td>0.000000</td>\n",
       "      <td>2.472222</td>\n",
       "      <td>2.934360</td>\n",
       "      <td>-1.0</td>\n",
       "      <td>18.716509</td>\n",
       "      <td>0.000000</td>\n",
       "      <td>53</td>\n",
       "      <td>8</td>\n",
       "      <td>8</td>\n",
       "      <td>8</td>\n",
       "    </tr>\n",
       "    <tr>\n",
       "      <th>231</th>\n",
       "      <td>0.334981</td>\n",
       "      <td>0.991597</td>\n",
       "      <td>0.249036</td>\n",
       "      <td>-0.293028</td>\n",
       "      <td>-0.299668</td>\n",
       "      <td>-1.145997</td>\n",
       "      <td>-2.112532</td>\n",
       "      <td>-0.287546</td>\n",
       "      <td>0.709677</td>\n",
       "      <td>-0.309638</td>\n",
       "      <td>...</td>\n",
       "      <td>-0.049772</td>\n",
       "      <td>2.097222</td>\n",
       "      <td>2.545581</td>\n",
       "      <td>-24.0</td>\n",
       "      <td>11.936559</td>\n",
       "      <td>-0.255973</td>\n",
       "      <td>22</td>\n",
       "      <td>39</td>\n",
       "      <td>39</td>\n",
       "      <td>39</td>\n",
       "    </tr>\n",
       "  </tbody>\n",
       "</table>\n",
       "<p>5 rows × 404 columns</p>\n",
       "</div>"
      ],
      "text/plain": [
       "     AVG_R_BAL_BY_CRED_LIM_12M  DEUDA_TOT  MIN_R_BAL_BY_MAX_BAL_03M  \\\n",
       "165                   0.232773   1.067227                  0.190022   \n",
       "184                   0.338380   0.327731                  0.213416   \n",
       "191                   0.661387   0.428571                 -0.360803   \n",
       "192                   0.679216   0.428571                 -0.360803   \n",
       "231                   0.334981   0.991597                  0.249036   \n",
       "\n",
       "     MAX_D_CRED_LIM_TO_BAL_03M  AVG_D_CRED_LIM_TO_BAL_06M  \\\n",
       "165                   2.304053                   2.676436   \n",
       "184                  -0.277413                  -0.279964   \n",
       "191                  -0.287763                  -0.305304   \n",
       "192                  -0.287763                  -0.304487   \n",
       "231                  -0.293028                  -0.299668   \n",
       "\n",
       "     AVG_PND_MENOS_R_BAL_BY_MAX_BAL_06M  AVG_R_BAL_BY_MAX_BAL_12M  \\\n",
       "165                            0.058188                  0.227256   \n",
       "184                            0.199422                 -0.621106   \n",
       "191                            0.298017                  0.312038   \n",
       "192                            0.309719                  0.298596   \n",
       "231                           -1.145997                 -2.112532   \n",
       "\n",
       "     AVG_PND_MENOS_BAL_12M  BK12_MAX_CREDIT_AMT  AVG_PND_MAS_BAL_12M  \\\n",
       "165               4.271565             1.580645             4.114161   \n",
       "184              -0.319099            -0.161290            -0.321483   \n",
       "191              -0.314110             0.129032            -0.311103   \n",
       "192              -0.312733             0.129032            -0.311609   \n",
       "231              -0.287546             0.709677            -0.309638   \n",
       "\n",
       "       ...     MAX_AVG2_VP_MES_U06M_2  MIN_AVG_HI_CALCAR_CEIL_12M  \\\n",
       "165    ...                  -0.046345                   -0.944444   \n",
       "184    ...                  -0.060490                   -0.236111   \n",
       "191    ...                   0.092392                    2.472222   \n",
       "192    ...                   0.000000                    2.472222   \n",
       "231    ...                  -0.049772                    2.097222   \n",
       "\n",
       "     AVG_PND_MAS_MAX_HI_CALCAR_L_12M  MAX_MS_CL_BRG_R_CL_ACC  \\\n",
       "165                        -0.874797                    20.0   \n",
       "184                         1.901492                   -13.0   \n",
       "191                         2.934360                    -1.0   \n",
       "192                         2.934360                    -1.0   \n",
       "231                         2.545581                   -24.0   \n",
       "\n",
       "     AVG_PND_MAS_MAX_HI_CALCAR_CEIL_12M  SUM_PAGOREALIZADO_PERIODO  \\\n",
       "165                           -0.601990                  -0.255973   \n",
       "184                            4.459378                  -0.255973   \n",
       "191                           18.716509                  -0.255973   \n",
       "192                           18.716509                   0.000000   \n",
       "231                           11.936559                  -0.255973   \n",
       "\n",
       "     DIAS_ATRASO  DPCV_CAP  DPCV_INT  DPCV_MIN  \n",
       "165           23        38        38        38  \n",
       "184           20        41        41        41  \n",
       "191           21        40        40        40  \n",
       "192           53         8         8         8  \n",
       "231           22        39        39        39  \n",
       "\n",
       "[5 rows x 404 columns]"
      ]
     },
     "metadata": {},
     "output_type": "display_data"
    },
    {
     "data": {
      "text/html": [
       "<div>\n",
       "<style scoped>\n",
       "    .dataframe tbody tr th:only-of-type {\n",
       "        vertical-align: middle;\n",
       "    }\n",
       "\n",
       "    .dataframe tbody tr th {\n",
       "        vertical-align: top;\n",
       "    }\n",
       "\n",
       "    .dataframe thead th {\n",
       "        text-align: right;\n",
       "    }\n",
       "</style>\n",
       "<table border=\"1\" class=\"dataframe\">\n",
       "  <thead>\n",
       "    <tr style=\"text-align: right;\">\n",
       "      <th></th>\n",
       "      <th>BMI</th>\n",
       "    </tr>\n",
       "  </thead>\n",
       "  <tbody>\n",
       "    <tr>\n",
       "      <th>165</th>\n",
       "      <td>0</td>\n",
       "    </tr>\n",
       "    <tr>\n",
       "      <th>184</th>\n",
       "      <td>0</td>\n",
       "    </tr>\n",
       "    <tr>\n",
       "      <th>191</th>\n",
       "      <td>0</td>\n",
       "    </tr>\n",
       "    <tr>\n",
       "      <th>192</th>\n",
       "      <td>0</td>\n",
       "    </tr>\n",
       "    <tr>\n",
       "      <th>231</th>\n",
       "      <td>0</td>\n",
       "    </tr>\n",
       "  </tbody>\n",
       "</table>\n",
       "</div>"
      ],
      "text/plain": [
       "     BMI\n",
       "165    0\n",
       "184    0\n",
       "191    0\n",
       "192    0\n",
       "231    0"
      ]
     },
     "metadata": {},
     "output_type": "display_data"
    }
   ],
   "source": [
    "INDETERMINADOS1 = DATRASO & BUENO\n",
    "display(INDETERMINADOS1.sum())\n",
    "display(model_features_data[INDETERMINADOS1].head())\n",
    "display(target_data[INDETERMINADOS1].head())"
   ]
  },
  {
   "cell_type": "code",
   "execution_count": 14,
   "metadata": {
    "scrolled": true
   },
   "outputs": [
    {
     "data": {
      "text/plain": [
       "8139"
      ]
     },
     "metadata": {},
     "output_type": "display_data"
    },
    {
     "data": {
      "text/html": [
       "<div>\n",
       "<style scoped>\n",
       "    .dataframe tbody tr th:only-of-type {\n",
       "        vertical-align: middle;\n",
       "    }\n",
       "\n",
       "    .dataframe tbody tr th {\n",
       "        vertical-align: top;\n",
       "    }\n",
       "\n",
       "    .dataframe thead th {\n",
       "        text-align: right;\n",
       "    }\n",
       "</style>\n",
       "<table border=\"1\" class=\"dataframe\">\n",
       "  <thead>\n",
       "    <tr style=\"text-align: right;\">\n",
       "      <th></th>\n",
       "      <th>AVG_R_BAL_BY_CRED_LIM_12M</th>\n",
       "      <th>DEUDA_TOT</th>\n",
       "      <th>MIN_R_BAL_BY_MAX_BAL_03M</th>\n",
       "      <th>MAX_D_CRED_LIM_TO_BAL_03M</th>\n",
       "      <th>AVG_D_CRED_LIM_TO_BAL_06M</th>\n",
       "      <th>AVG_PND_MENOS_R_BAL_BY_MAX_BAL_06M</th>\n",
       "      <th>AVG_R_BAL_BY_MAX_BAL_12M</th>\n",
       "      <th>AVG_PND_MENOS_BAL_12M</th>\n",
       "      <th>BK12_MAX_CREDIT_AMT</th>\n",
       "      <th>AVG_PND_MAS_BAL_12M</th>\n",
       "      <th>...</th>\n",
       "      <th>MAX_AVG2_VP_MES_U06M_2</th>\n",
       "      <th>MIN_AVG_HI_CALCAR_CEIL_12M</th>\n",
       "      <th>AVG_PND_MAS_MAX_HI_CALCAR_L_12M</th>\n",
       "      <th>MAX_MS_CL_BRG_R_CL_ACC</th>\n",
       "      <th>AVG_PND_MAS_MAX_HI_CALCAR_CEIL_12M</th>\n",
       "      <th>SUM_PAGOREALIZADO_PERIODO</th>\n",
       "      <th>DIAS_ATRASO</th>\n",
       "      <th>DPCV_CAP</th>\n",
       "      <th>DPCV_INT</th>\n",
       "      <th>DPCV_MIN</th>\n",
       "    </tr>\n",
       "  </thead>\n",
       "  <tbody>\n",
       "    <tr>\n",
       "      <th>17</th>\n",
       "      <td>0.381797</td>\n",
       "      <td>0.025210</td>\n",
       "      <td>-0.187112</td>\n",
       "      <td>0.198939</td>\n",
       "      <td>0.175669</td>\n",
       "      <td>-0.163765</td>\n",
       "      <td>0.100633</td>\n",
       "      <td>0.941063</td>\n",
       "      <td>1.838710</td>\n",
       "      <td>0.909134</td>\n",
       "      <td>...</td>\n",
       "      <td>8.612719</td>\n",
       "      <td>0.027778</td>\n",
       "      <td>1.150324</td>\n",
       "      <td>35.0</td>\n",
       "      <td>1.439060</td>\n",
       "      <td>-0.255973</td>\n",
       "      <td>0</td>\n",
       "      <td>61</td>\n",
       "      <td>61</td>\n",
       "      <td>61</td>\n",
       "    </tr>\n",
       "    <tr>\n",
       "      <th>18</th>\n",
       "      <td>0.419356</td>\n",
       "      <td>0.050420</td>\n",
       "      <td>-0.144246</td>\n",
       "      <td>0.198851</td>\n",
       "      <td>0.083267</td>\n",
       "      <td>-0.117075</td>\n",
       "      <td>0.142812</td>\n",
       "      <td>0.956309</td>\n",
       "      <td>1.483871</td>\n",
       "      <td>0.938580</td>\n",
       "      <td>...</td>\n",
       "      <td>8.612719</td>\n",
       "      <td>0.031746</td>\n",
       "      <td>1.659959</td>\n",
       "      <td>38.0</td>\n",
       "      <td>3.377949</td>\n",
       "      <td>22.373370</td>\n",
       "      <td>0</td>\n",
       "      <td>61</td>\n",
       "      <td>61</td>\n",
       "      <td>61</td>\n",
       "    </tr>\n",
       "    <tr>\n",
       "      <th>19</th>\n",
       "      <td>0.421595</td>\n",
       "      <td>0.050420</td>\n",
       "      <td>-0.144246</td>\n",
       "      <td>0.172649</td>\n",
       "      <td>-0.006546</td>\n",
       "      <td>0.066218</td>\n",
       "      <td>0.150384</td>\n",
       "      <td>0.932683</td>\n",
       "      <td>1.483871</td>\n",
       "      <td>0.964386</td>\n",
       "      <td>...</td>\n",
       "      <td>8.612719</td>\n",
       "      <td>0.031746</td>\n",
       "      <td>1.659959</td>\n",
       "      <td>38.0</td>\n",
       "      <td>3.377949</td>\n",
       "      <td>-0.255973</td>\n",
       "      <td>0</td>\n",
       "      <td>61</td>\n",
       "      <td>61</td>\n",
       "      <td>61</td>\n",
       "    </tr>\n",
       "    <tr>\n",
       "      <th>20</th>\n",
       "      <td>0.425842</td>\n",
       "      <td>0.050420</td>\n",
       "      <td>0.343823</td>\n",
       "      <td>-0.295746</td>\n",
       "      <td>-0.046834</td>\n",
       "      <td>0.085795</td>\n",
       "      <td>0.154574</td>\n",
       "      <td>0.906707</td>\n",
       "      <td>1.483871</td>\n",
       "      <td>0.994868</td>\n",
       "      <td>...</td>\n",
       "      <td>6.008875</td>\n",
       "      <td>0.031746</td>\n",
       "      <td>1.659959</td>\n",
       "      <td>38.0</td>\n",
       "      <td>3.377949</td>\n",
       "      <td>-0.255973</td>\n",
       "      <td>0</td>\n",
       "      <td>61</td>\n",
       "      <td>61</td>\n",
       "      <td>61</td>\n",
       "    </tr>\n",
       "    <tr>\n",
       "      <th>185</th>\n",
       "      <td>0.353418</td>\n",
       "      <td>0.352941</td>\n",
       "      <td>0.213416</td>\n",
       "      <td>-0.277413</td>\n",
       "      <td>-0.283433</td>\n",
       "      <td>0.310314</td>\n",
       "      <td>-0.399825</td>\n",
       "      <td>-0.319681</td>\n",
       "      <td>-0.193548</td>\n",
       "      <td>-0.320201</td>\n",
       "      <td>...</td>\n",
       "      <td>-0.055167</td>\n",
       "      <td>-0.236111</td>\n",
       "      <td>2.481172</td>\n",
       "      <td>-10.0</td>\n",
       "      <td>7.174556</td>\n",
       "      <td>-0.255973</td>\n",
       "      <td>0</td>\n",
       "      <td>61</td>\n",
       "      <td>61</td>\n",
       "      <td>61</td>\n",
       "    </tr>\n",
       "  </tbody>\n",
       "</table>\n",
       "<p>5 rows × 404 columns</p>\n",
       "</div>"
      ],
      "text/plain": [
       "     AVG_R_BAL_BY_CRED_LIM_12M  DEUDA_TOT  MIN_R_BAL_BY_MAX_BAL_03M  \\\n",
       "17                    0.381797   0.025210                 -0.187112   \n",
       "18                    0.419356   0.050420                 -0.144246   \n",
       "19                    0.421595   0.050420                 -0.144246   \n",
       "20                    0.425842   0.050420                  0.343823   \n",
       "185                   0.353418   0.352941                  0.213416   \n",
       "\n",
       "     MAX_D_CRED_LIM_TO_BAL_03M  AVG_D_CRED_LIM_TO_BAL_06M  \\\n",
       "17                    0.198939                   0.175669   \n",
       "18                    0.198851                   0.083267   \n",
       "19                    0.172649                  -0.006546   \n",
       "20                   -0.295746                  -0.046834   \n",
       "185                  -0.277413                  -0.283433   \n",
       "\n",
       "     AVG_PND_MENOS_R_BAL_BY_MAX_BAL_06M  AVG_R_BAL_BY_MAX_BAL_12M  \\\n",
       "17                            -0.163765                  0.100633   \n",
       "18                            -0.117075                  0.142812   \n",
       "19                             0.066218                  0.150384   \n",
       "20                             0.085795                  0.154574   \n",
       "185                            0.310314                 -0.399825   \n",
       "\n",
       "     AVG_PND_MENOS_BAL_12M  BK12_MAX_CREDIT_AMT  AVG_PND_MAS_BAL_12M  \\\n",
       "17                0.941063             1.838710             0.909134   \n",
       "18                0.956309             1.483871             0.938580   \n",
       "19                0.932683             1.483871             0.964386   \n",
       "20                0.906707             1.483871             0.994868   \n",
       "185              -0.319681            -0.193548            -0.320201   \n",
       "\n",
       "       ...     MAX_AVG2_VP_MES_U06M_2  MIN_AVG_HI_CALCAR_CEIL_12M  \\\n",
       "17     ...                   8.612719                    0.027778   \n",
       "18     ...                   8.612719                    0.031746   \n",
       "19     ...                   8.612719                    0.031746   \n",
       "20     ...                   6.008875                    0.031746   \n",
       "185    ...                  -0.055167                   -0.236111   \n",
       "\n",
       "     AVG_PND_MAS_MAX_HI_CALCAR_L_12M  MAX_MS_CL_BRG_R_CL_ACC  \\\n",
       "17                          1.150324                    35.0   \n",
       "18                          1.659959                    38.0   \n",
       "19                          1.659959                    38.0   \n",
       "20                          1.659959                    38.0   \n",
       "185                         2.481172                   -10.0   \n",
       "\n",
       "     AVG_PND_MAS_MAX_HI_CALCAR_CEIL_12M  SUM_PAGOREALIZADO_PERIODO  \\\n",
       "17                             1.439060                  -0.255973   \n",
       "18                             3.377949                  22.373370   \n",
       "19                             3.377949                  -0.255973   \n",
       "20                             3.377949                  -0.255973   \n",
       "185                            7.174556                  -0.255973   \n",
       "\n",
       "     DIAS_ATRASO  DPCV_CAP  DPCV_INT  DPCV_MIN  \n",
       "17             0        61        61        61  \n",
       "18             0        61        61        61  \n",
       "19             0        61        61        61  \n",
       "20             0        61        61        61  \n",
       "185            0        61        61        61  \n",
       "\n",
       "[5 rows x 404 columns]"
      ]
     },
     "metadata": {},
     "output_type": "display_data"
    },
    {
     "data": {
      "text/html": [
       "<div>\n",
       "<style scoped>\n",
       "    .dataframe tbody tr th:only-of-type {\n",
       "        vertical-align: middle;\n",
       "    }\n",
       "\n",
       "    .dataframe tbody tr th {\n",
       "        vertical-align: top;\n",
       "    }\n",
       "\n",
       "    .dataframe thead th {\n",
       "        text-align: right;\n",
       "    }\n",
       "</style>\n",
       "<table border=\"1\" class=\"dataframe\">\n",
       "  <thead>\n",
       "    <tr style=\"text-align: right;\">\n",
       "      <th></th>\n",
       "      <th>BMI</th>\n",
       "    </tr>\n",
       "  </thead>\n",
       "  <tbody>\n",
       "    <tr>\n",
       "      <th>17</th>\n",
       "      <td>1</td>\n",
       "    </tr>\n",
       "    <tr>\n",
       "      <th>18</th>\n",
       "      <td>1</td>\n",
       "    </tr>\n",
       "    <tr>\n",
       "      <th>19</th>\n",
       "      <td>1</td>\n",
       "    </tr>\n",
       "    <tr>\n",
       "      <th>20</th>\n",
       "      <td>1</td>\n",
       "    </tr>\n",
       "    <tr>\n",
       "      <th>185</th>\n",
       "      <td>1</td>\n",
       "    </tr>\n",
       "  </tbody>\n",
       "</table>\n",
       "</div>"
      ],
      "text/plain": [
       "     BMI\n",
       "17     1\n",
       "18     1\n",
       "19     1\n",
       "20     1\n",
       "185    1"
      ]
     },
     "metadata": {},
     "output_type": "display_data"
    }
   ],
   "source": [
    "INDETERMINADOS2 = ~DATRASO & ~BUENO\n",
    "display(INDETERMINADOS2.sum())\n",
    "display(model_features_data[INDETERMINADOS2].head())\n",
    "display(target_data[INDETERMINADOS2].head())"
   ]
  },
  {
   "cell_type": "markdown",
   "metadata": {},
   "source": [
    "### **Variable \"REVOLVENTE\"**"
   ]
  },
  {
   "cell_type": "code",
   "execution_count": 11,
   "metadata": {},
   "outputs": [],
   "source": [
    "data_revol_file_name = \"DATA_PART{}.csv\".format(5)\n",
    "data_revol_file_key = \"{}/{}\".format(prefix, data_revol_file_name)\n",
    "data_revol_obj = s3_bucket_resource.Object(data_revol_file_key).get()\n",
    "data_revol = pd.read_csv(io.BytesIO(data_revol_obj['Body'].read()))\n",
    "REVOLVENTE = data_revol['REVOLVENTE'] == 1\n",
    "del data_revol\n",
    "display((REVOLVENTE).sum())"
   ]
  },
  {
   "cell_type": "markdown",
   "metadata": {},
   "source": [
    "### Modelo completo"
   ]
  },
  {
   "cell_type": "code",
   "execution_count": 113,
   "metadata": {},
   "outputs": [],
   "source": [
    "# elegimos el modelo completo\n",
    "np.random.seed(0)\n",
    "rand_split = np.random.rand(len(model_features_data))\n",
    "train_list = (rand_split < 0.8) & ~(DATRASO & BUENO)\n",
    "test_list = rand_split >= 0.8\n",
    "\n",
    "feature_data_train = model_features_data[train_list].drop('DIAS_ATRASO', axis=1)\n",
    "feature_data_test = model_features_data[test_list].drop('DIAS_ATRASO', axis=1)\n",
    "\n",
    "target_data_train = target_data[train_list]\n",
    "target_data_test = target_data[test_list]"
   ]
  },
  {
   "cell_type": "markdown",
   "metadata": {},
   "source": [
    "### Datos de entrenamiento y prueba por periodos"
   ]
  },
  {
   "cell_type": "code",
   "execution_count": 57,
   "metadata": {},
   "outputs": [],
   "source": [
    "# elegimos el modelo completo\n",
    "# np.random.seed(0)\n",
    "# rand_split = np.random.rand(len(model_features_data))\n",
    "# train_list = (rand_split < 0.8) & \n",
    "# test_list = rand_split >= 0.8\n",
    "\n",
    "feature_data_train = model_features_data[PERIODO_TRAIN]\n",
    "feature_data_test = model_features_data[PERIODO_TEST]\n",
    "\n",
    "target_data_train = target_data[PERIODO_TRAIN]\n",
    "target_data_test = target_data[PERIODO_TEST]"
   ]
  },
  {
   "cell_type": "markdown",
   "metadata": {},
   "source": [
    "### Submodelos"
   ]
  },
  {
   "cell_type": "code",
   "execution_count": 197,
   "metadata": {},
   "outputs": [
    {
     "data": {
      "text/plain": [
       "18300"
      ]
     },
     "execution_count": 197,
     "metadata": {},
     "output_type": "execute_result"
    }
   ],
   "source": [
    "# submodelo\n",
    " \n",
    "# BOOL_INDEX = REVOLVENTE & ~INDETERMINADOS1 & ~INDETERMINADOS2\n",
    "# BOOL_INDEX = REVOLVENTE & (INDETERMINADOS1 | INDETERMINADOS2)\n",
    "# BOOL_INDEX = REVOLVENTE\n",
    "# BOOL_INDEX = TRIMESTRE\n",
    "# BOOL_INDEX = PERIODO2\n",
    "# BOOL_INDEX = -INDETERMINADOS1\n",
    "BOOL_INDEX = sample | sample2\n",
    "BOOL_INDEX.sum()"
   ]
  },
  {
   "cell_type": "code",
   "execution_count": 198,
   "metadata": {},
   "outputs": [],
   "source": [
    "# elegimos submodelo\n",
    "submodel_features_data = model_features_data[BOOL_INDEX]\n",
    "subtarget_data = target_data[BOOL_INDEX]"
   ]
  },
  {
   "cell_type": "code",
   "execution_count": null,
   "metadata": {},
   "outputs": [],
   "source": [
    "SUBDATRASO = submodel_features_data['DIAS_ATRASO'] > 0\n",
    "SUBBUENO = subtarget_data['BMI'] == 0\n",
    "\n",
    "SUBINDETERMINADO1 = SUBDATRASO & SUBBUENO\n",
    "SUBINDETERMINADO2 = ~SUBDATRASO & ~SUBBUENO"
   ]
  },
  {
   "cell_type": "code",
   "execution_count": 240,
   "metadata": {},
   "outputs": [],
   "source": [
    "np.random.seed(9)\n",
    "rand_split = np.random.rand(BOOL_INDEX.sum())\n",
    "train_list = (rand_split < 0.8)  # & ~SUBINDETERMINADOS1\n",
    "test_list = rand_split >= 0.8\n",
    "\n",
    "feature_data_train = submodel_features_data[train_list]\n",
    "feature_data_test = submodel_features_data[test_list]\n",
    "\n",
    "target_data_train = subtarget_data[train_list]\n",
    "target_data_test = subtarget_data[test_list]"
   ]
  },
  {
   "cell_type": "code",
   "execution_count": 141,
   "metadata": {},
   "outputs": [
    {
     "data": {
      "text/plain": [
       "8429"
      ]
     },
     "execution_count": 141,
     "metadata": {},
     "output_type": "execute_result"
    }
   ],
   "source": [
    "train_list.sum()"
   ]
  },
  {
   "cell_type": "markdown",
   "metadata": {},
   "source": [
    "### Definimos Dmatrices del modelos"
   ]
  },
  {
   "cell_type": "code",
   "execution_count": 241,
   "metadata": {},
   "outputs": [],
   "source": [
    "train_y = target_data_train[target].values\n",
    "test_y = target_data_test[target].values\n",
    "\n",
    "train_X = feature_data_train.loc[:,:].values\n",
    "test_X = feature_data_test.loc[:,:].values\n",
    "\n",
    "dtrain = xgb.DMatrix(\n",
    "    train_X, \n",
    "    label=train_y, \n",
    "    feature_names=feature_data_train.columns\n",
    ")\n",
    "dtest = xgb.DMatrix(\n",
    "    test_X, \n",
    "    label=test_y, \n",
    "    feature_names=feature_data_test.columns\n",
    ")"
   ]
  },
  {
   "cell_type": "markdown",
   "metadata": {},
   "source": [
    "learning_rate =0.1,\n",
    "n_estimators=200,\n",
    "max_depth=12,\n",
    "min_child_weight=19.50392156038251,\n",
    "gamma= 0.001,\n",
    "subsample=1,  # 0.8\n",
    "colsample_bytree=1,  # 0.4\n",
    "objective= 'binary:logistic',\n",
    "#nthread=4,\n",
    "reg_lambda=10,  # 17\n",
    "max_delta_step= 50,  # 100\n",
    "scale_pos_weight=24,  # 100\n",
    "early_stopping_rounds = 100,\n",
    "stratified = True,\n",
    "seed=1\n",
    "\n",
    "params = {\n",
    "    'objective': 'binary:logistic', \n",
    "    'eta':0.1, \n",
    "    'max_depth': 12, \n",
    "    'eval_metric': 'auc',\n",
    "    'max_delta_step': 10,\n",
    "    'min_child_weight': 19.50392156038251,\n",
    "    'gamma': 0.001,\n",
    "    'subsample': 1,  # 0.8\n",
    "    'colsample_bytree': 1,  # 0.4\n",
    "    # nthread=4,\n",
    "    'reg_lambda': 10,  # 17\n",
    "    'max_delta_step': 50,  # 100\n",
    "    'scale_pos_weight': 24,  # 100\n",
    "    'early_stopping_rounds': 100,\n",
    "    'stratified': True,\n",
    "    'seed': 1\n",
    "}\n",
    "num_round = 100"
   ]
  },
  {
   "cell_type": "code",
   "execution_count": 248,
   "metadata": {
    "scrolled": true
   },
   "outputs": [
    {
     "name": "stdout",
     "output_type": "stream",
     "text": [
      "[00:10:01] /workspace/src/tree/updater_prune.cc:74: tree pruning end, 1 roots, 14 extra nodes, 0 pruned nodes, max_depth=3\n",
      "[0]\teval-auc:0.856559\teval-f1_score_thr0.2:0.099456\teval-f1_score_thr0.3:0.099456\teval-f1_score_thr0.4:0.099456\teval-f1_score_thr0.5:0.4\teval-f1_score_thr0.6:0\teval-f1_score_thr0.7:0\n",
      "[00:10:01] /workspace/src/tree/updater_prune.cc:74: tree pruning end, 1 roots, 14 extra nodes, 0 pruned nodes, max_depth=3\n",
      "[1]\teval-auc:0.859343\teval-f1_score_thr0.2:0.099456\teval-f1_score_thr0.3:0.099456\teval-f1_score_thr0.4:0.099456\teval-f1_score_thr0.5:0.4\teval-f1_score_thr0.6:0\teval-f1_score_thr0.7:0\n",
      "[00:10:01] /workspace/src/tree/updater_prune.cc:74: tree pruning end, 1 roots, 14 extra nodes, 0 pruned nodes, max_depth=3\n",
      "[2]\teval-auc:0.88144\teval-f1_score_thr0.2:0.099456\teval-f1_score_thr0.3:0.099456\teval-f1_score_thr0.4:0.099456\teval-f1_score_thr0.5:0.389706\teval-f1_score_thr0.6:0\teval-f1_score_thr0.7:0\n"
     ]
    },
    {
     "name": "stderr",
     "output_type": "stream",
     "text": [
      "/home/ec2-user/anaconda3/envs/python3/lib/python3.6/site-packages/sklearn/metrics/classification.py:1137: UndefinedMetricWarning: F-score is ill-defined and being set to 0.0 due to no true samples.\n",
      "  'recall', 'true', average, warn_for)\n",
      "/home/ec2-user/anaconda3/envs/python3/lib/python3.6/site-packages/sklearn/metrics/classification.py:1137: UndefinedMetricWarning: F-score is ill-defined and being set to 0.0 due to no true samples.\n",
      "  'recall', 'true', average, warn_for)\n",
      "/home/ec2-user/anaconda3/envs/python3/lib/python3.6/site-packages/sklearn/metrics/classification.py:1137: UndefinedMetricWarning: F-score is ill-defined and being set to 0.0 due to no true samples.\n",
      "  'recall', 'true', average, warn_for)\n",
      "/home/ec2-user/anaconda3/envs/python3/lib/python3.6/site-packages/sklearn/metrics/classification.py:1137: UndefinedMetricWarning: F-score is ill-defined and being set to 0.0 due to no true samples.\n",
      "  'recall', 'true', average, warn_for)\n",
      "/home/ec2-user/anaconda3/envs/python3/lib/python3.6/site-packages/sklearn/metrics/classification.py:1137: UndefinedMetricWarning: F-score is ill-defined and being set to 0.0 due to no true samples.\n",
      "  'recall', 'true', average, warn_for)\n",
      "/home/ec2-user/anaconda3/envs/python3/lib/python3.6/site-packages/sklearn/metrics/classification.py:1137: UndefinedMetricWarning: F-score is ill-defined and being set to 0.0 due to no true samples.\n",
      "  'recall', 'true', average, warn_for)\n"
     ]
    },
    {
     "name": "stdout",
     "output_type": "stream",
     "text": [
      "[00:10:01] /workspace/src/tree/updater_prune.cc:74: tree pruning end, 1 roots, 14 extra nodes, 0 pruned nodes, max_depth=3\n",
      "[3]\teval-auc:0.881549\teval-f1_score_thr0.2:0.099456\teval-f1_score_thr0.3:0.099456\teval-f1_score_thr0.4:0.099456\teval-f1_score_thr0.5:0.389706\teval-f1_score_thr0.6:0\teval-f1_score_thr0.7:0\n",
      "[00:10:02] /workspace/src/tree/updater_prune.cc:74: tree pruning end, 1 roots, 14 extra nodes, 0 pruned nodes, max_depth=3\n",
      "[4]\teval-auc:0.888648\teval-f1_score_thr0.2:0.099456\teval-f1_score_thr0.3:0.099456\teval-f1_score_thr0.4:0.099456\teval-f1_score_thr0.5:0.389706\teval-f1_score_thr0.6:0\teval-f1_score_thr0.7:0\n",
      "[00:10:02] /workspace/src/tree/updater_prune.cc:74: tree pruning end, 1 roots, 14 extra nodes, 0 pruned nodes, max_depth=3\n",
      "[5]\teval-auc:0.90068\teval-f1_score_thr0.2:0.099456\teval-f1_score_thr0.3:0.099456\teval-f1_score_thr0.4:0.29883\teval-f1_score_thr0.5:0.357143\teval-f1_score_thr0.6:0\teval-f1_score_thr0.7:0\n"
     ]
    },
    {
     "name": "stderr",
     "output_type": "stream",
     "text": [
      "/home/ec2-user/anaconda3/envs/python3/lib/python3.6/site-packages/sklearn/metrics/classification.py:1137: UndefinedMetricWarning: F-score is ill-defined and being set to 0.0 due to no true samples.\n",
      "  'recall', 'true', average, warn_for)\n",
      "/home/ec2-user/anaconda3/envs/python3/lib/python3.6/site-packages/sklearn/metrics/classification.py:1137: UndefinedMetricWarning: F-score is ill-defined and being set to 0.0 due to no true samples.\n",
      "  'recall', 'true', average, warn_for)\n",
      "/home/ec2-user/anaconda3/envs/python3/lib/python3.6/site-packages/sklearn/metrics/classification.py:1137: UndefinedMetricWarning: F-score is ill-defined and being set to 0.0 due to no true samples.\n",
      "  'recall', 'true', average, warn_for)\n",
      "/home/ec2-user/anaconda3/envs/python3/lib/python3.6/site-packages/sklearn/metrics/classification.py:1137: UndefinedMetricWarning: F-score is ill-defined and being set to 0.0 due to no true samples.\n",
      "  'recall', 'true', average, warn_for)\n",
      "/home/ec2-user/anaconda3/envs/python3/lib/python3.6/site-packages/sklearn/metrics/classification.py:1137: UndefinedMetricWarning: F-score is ill-defined and being set to 0.0 due to no true samples.\n",
      "  'recall', 'true', average, warn_for)\n",
      "/home/ec2-user/anaconda3/envs/python3/lib/python3.6/site-packages/sklearn/metrics/classification.py:1137: UndefinedMetricWarning: F-score is ill-defined and being set to 0.0 due to no true samples.\n",
      "  'recall', 'true', average, warn_for)\n"
     ]
    },
    {
     "name": "stdout",
     "output_type": "stream",
     "text": [
      "[00:10:02] /workspace/src/tree/updater_prune.cc:74: tree pruning end, 1 roots, 14 extra nodes, 0 pruned nodes, max_depth=3\n",
      "[6]\teval-auc:0.899825\teval-f1_score_thr0.2:0.099456\teval-f1_score_thr0.3:0.099456\teval-f1_score_thr0.4:0.465116\teval-f1_score_thr0.5:0.372093\teval-f1_score_thr0.6:0\teval-f1_score_thr0.7:0\n",
      "[00:10:02] /workspace/src/tree/updater_prune.cc:74: tree pruning end, 1 roots, 14 extra nodes, 0 pruned nodes, max_depth=3\n",
      "[7]\teval-auc:0.901564\teval-f1_score_thr0.2:0.099456\teval-f1_score_thr0.3:0.099456\teval-f1_score_thr0.4:0.488323\teval-f1_score_thr0.5:0.372093\teval-f1_score_thr0.6:0\teval-f1_score_thr0.7:0\n",
      "[00:10:02] /workspace/src/tree/updater_prune.cc:74: tree pruning end, 1 roots, 14 extra nodes, 0 pruned nodes, max_depth=3\n",
      "[8]\teval-auc:0.901667\teval-f1_score_thr0.2:0.099456\teval-f1_score_thr0.3:0.099456\teval-f1_score_thr0.4:0.494577\teval-f1_score_thr0.5:0.357143\teval-f1_score_thr0.6:0\teval-f1_score_thr0.7:0\n"
     ]
    },
    {
     "name": "stderr",
     "output_type": "stream",
     "text": [
      "/home/ec2-user/anaconda3/envs/python3/lib/python3.6/site-packages/sklearn/metrics/classification.py:1137: UndefinedMetricWarning: F-score is ill-defined and being set to 0.0 due to no true samples.\n",
      "  'recall', 'true', average, warn_for)\n",
      "/home/ec2-user/anaconda3/envs/python3/lib/python3.6/site-packages/sklearn/metrics/classification.py:1137: UndefinedMetricWarning: F-score is ill-defined and being set to 0.0 due to no true samples.\n",
      "  'recall', 'true', average, warn_for)\n",
      "/home/ec2-user/anaconda3/envs/python3/lib/python3.6/site-packages/sklearn/metrics/classification.py:1137: UndefinedMetricWarning: F-score is ill-defined and being set to 0.0 due to no true samples.\n",
      "  'recall', 'true', average, warn_for)\n",
      "/home/ec2-user/anaconda3/envs/python3/lib/python3.6/site-packages/sklearn/metrics/classification.py:1137: UndefinedMetricWarning: F-score is ill-defined and being set to 0.0 due to no true samples.\n",
      "  'recall', 'true', average, warn_for)\n",
      "/home/ec2-user/anaconda3/envs/python3/lib/python3.6/site-packages/sklearn/metrics/classification.py:1137: UndefinedMetricWarning: F-score is ill-defined and being set to 0.0 due to no true samples.\n",
      "  'recall', 'true', average, warn_for)\n",
      "/home/ec2-user/anaconda3/envs/python3/lib/python3.6/site-packages/sklearn/metrics/classification.py:1137: UndefinedMetricWarning: F-score is ill-defined and being set to 0.0 due to no true samples.\n",
      "  'recall', 'true', average, warn_for)\n"
     ]
    },
    {
     "name": "stdout",
     "output_type": "stream",
     "text": [
      "[00:10:02] /workspace/src/tree/updater_prune.cc:74: tree pruning end, 1 roots, 14 extra nodes, 0 pruned nodes, max_depth=3\n",
      "[9]\teval-auc:0.901862\teval-f1_score_thr0.2:0.099456\teval-f1_score_thr0.3:0.099456\teval-f1_score_thr0.4:0.52093\teval-f1_score_thr0.5:0.372093\teval-f1_score_thr0.6:0\teval-f1_score_thr0.7:0\n",
      "[00:10:02] /workspace/src/tree/updater_prune.cc:74: tree pruning end, 1 roots, 14 extra nodes, 0 pruned nodes, max_depth=3\n",
      "[10]\teval-auc:0.901185\teval-f1_score_thr0.2:0.099456\teval-f1_score_thr0.3:0.099456\teval-f1_score_thr0.4:0.501241\teval-f1_score_thr0.5:0.372093\teval-f1_score_thr0.6:0\teval-f1_score_thr0.7:0\n",
      "[00:10:02] /workspace/src/tree/updater_prune.cc:74: tree pruning end, 1 roots, 14 extra nodes, 0 pruned nodes, max_depth=3\n",
      "[11]\teval-auc:0.901796\teval-f1_score_thr0.2:0.099456\teval-f1_score_thr0.3:0.099456\teval-f1_score_thr0.4:0.510101\teval-f1_score_thr0.5:0.372093\teval-f1_score_thr0.6:0\teval-f1_score_thr0.7:0\n"
     ]
    },
    {
     "name": "stderr",
     "output_type": "stream",
     "text": [
      "/home/ec2-user/anaconda3/envs/python3/lib/python3.6/site-packages/sklearn/metrics/classification.py:1137: UndefinedMetricWarning: F-score is ill-defined and being set to 0.0 due to no true samples.\n",
      "  'recall', 'true', average, warn_for)\n",
      "/home/ec2-user/anaconda3/envs/python3/lib/python3.6/site-packages/sklearn/metrics/classification.py:1137: UndefinedMetricWarning: F-score is ill-defined and being set to 0.0 due to no true samples.\n",
      "  'recall', 'true', average, warn_for)\n",
      "/home/ec2-user/anaconda3/envs/python3/lib/python3.6/site-packages/sklearn/metrics/classification.py:1137: UndefinedMetricWarning: F-score is ill-defined and being set to 0.0 due to no true samples.\n",
      "  'recall', 'true', average, warn_for)\n",
      "/home/ec2-user/anaconda3/envs/python3/lib/python3.6/site-packages/sklearn/metrics/classification.py:1137: UndefinedMetricWarning: F-score is ill-defined and being set to 0.0 due to no true samples.\n",
      "  'recall', 'true', average, warn_for)\n",
      "/home/ec2-user/anaconda3/envs/python3/lib/python3.6/site-packages/sklearn/metrics/classification.py:1137: UndefinedMetricWarning: F-score is ill-defined and being set to 0.0 due to no true samples.\n",
      "  'recall', 'true', average, warn_for)\n",
      "/home/ec2-user/anaconda3/envs/python3/lib/python3.6/site-packages/sklearn/metrics/classification.py:1137: UndefinedMetricWarning: F-score is ill-defined and being set to 0.0 due to no true samples.\n",
      "  'recall', 'true', average, warn_for)\n"
     ]
    },
    {
     "name": "stdout",
     "output_type": "stream",
     "text": [
      "[00:10:02] /workspace/src/tree/updater_prune.cc:74: tree pruning end, 1 roots, 14 extra nodes, 0 pruned nodes, max_depth=3\n",
      "[12]\teval-auc:0.902297\teval-f1_score_thr0.2:0.099456\teval-f1_score_thr0.3:0.099456\teval-f1_score_thr0.4:0.511392\teval-f1_score_thr0.5:0.371747\teval-f1_score_thr0.6:0.357143\teval-f1_score_thr0.7:0\n",
      "[00:10:02] /workspace/src/tree/updater_prune.cc:74: tree pruning end, 1 roots, 14 extra nodes, 0 pruned nodes, max_depth=3\n",
      "[13]\teval-auc:0.902644\teval-f1_score_thr0.2:0.099456\teval-f1_score_thr0.3:0.292254\teval-f1_score_thr0.4:0.51269\teval-f1_score_thr0.5:0.372093\teval-f1_score_thr0.6:0.357143\teval-f1_score_thr0.7:0\n",
      "[00:10:02] /workspace/src/tree/updater_prune.cc:74: tree pruning end, 1 roots, 14 extra nodes, 0 pruned nodes, max_depth=3\n",
      "[14]\teval-auc:0.91787\teval-f1_score_thr0.2:0.099456\teval-f1_score_thr0.3:0.386139\teval-f1_score_thr0.4:0.508906\teval-f1_score_thr0.5:0.373134\teval-f1_score_thr0.6:0.361446\teval-f1_score_thr0.7:0\n"
     ]
    },
    {
     "name": "stderr",
     "output_type": "stream",
     "text": [
      "/home/ec2-user/anaconda3/envs/python3/lib/python3.6/site-packages/sklearn/metrics/classification.py:1137: UndefinedMetricWarning: F-score is ill-defined and being set to 0.0 due to no true samples.\n",
      "  'recall', 'true', average, warn_for)\n",
      "/home/ec2-user/anaconda3/envs/python3/lib/python3.6/site-packages/sklearn/metrics/classification.py:1137: UndefinedMetricWarning: F-score is ill-defined and being set to 0.0 due to no true samples.\n",
      "  'recall', 'true', average, warn_for)\n",
      "/home/ec2-user/anaconda3/envs/python3/lib/python3.6/site-packages/sklearn/metrics/classification.py:1137: UndefinedMetricWarning: F-score is ill-defined and being set to 0.0 due to no true samples.\n",
      "  'recall', 'true', average, warn_for)\n"
     ]
    },
    {
     "name": "stdout",
     "output_type": "stream",
     "text": [
      "[00:10:02] /workspace/src/tree/updater_prune.cc:74: tree pruning end, 1 roots, 14 extra nodes, 0 pruned nodes, max_depth=3\n",
      "[15]\teval-auc:0.919619\teval-f1_score_thr0.2:0.099456\teval-f1_score_thr0.3:0.456193\teval-f1_score_thr0.4:0.506394\teval-f1_score_thr0.5:0.374532\teval-f1_score_thr0.6:0.361446\teval-f1_score_thr0.7:0\n",
      "[00:10:02] /workspace/src/tree/updater_prune.cc:74: tree pruning end, 1 roots, 14 extra nodes, 0 pruned nodes, max_depth=3\n",
      "[16]\teval-auc:0.919211\teval-f1_score_thr0.2:0.099456\teval-f1_score_thr0.3:0.47619\teval-f1_score_thr0.4:0.514139\teval-f1_score_thr0.5:0.374532\teval-f1_score_thr0.6:0.358566\teval-f1_score_thr0.7:0\n",
      "[00:10:03] /workspace/src/tree/updater_prune.cc:74: tree pruning end, 1 roots, 14 extra nodes, 0 pruned nodes, max_depth=3\n",
      "[17]\teval-auc:0.921408\teval-f1_score_thr0.2:0.099456\teval-f1_score_thr0.3:0.492701\teval-f1_score_thr0.4:0.510309\teval-f1_score_thr0.5:0.379182\teval-f1_score_thr0.6:0.350598\teval-f1_score_thr0.7:0\n"
     ]
    },
    {
     "name": "stderr",
     "output_type": "stream",
     "text": [
      "/home/ec2-user/anaconda3/envs/python3/lib/python3.6/site-packages/sklearn/metrics/classification.py:1137: UndefinedMetricWarning: F-score is ill-defined and being set to 0.0 due to no true samples.\n",
      "  'recall', 'true', average, warn_for)\n",
      "/home/ec2-user/anaconda3/envs/python3/lib/python3.6/site-packages/sklearn/metrics/classification.py:1137: UndefinedMetricWarning: F-score is ill-defined and being set to 0.0 due to no true samples.\n",
      "  'recall', 'true', average, warn_for)\n",
      "/home/ec2-user/anaconda3/envs/python3/lib/python3.6/site-packages/sklearn/metrics/classification.py:1137: UndefinedMetricWarning: F-score is ill-defined and being set to 0.0 due to no true samples.\n",
      "  'recall', 'true', average, warn_for)\n"
     ]
    },
    {
     "name": "stdout",
     "output_type": "stream",
     "text": [
      "[00:10:03] /workspace/src/tree/updater_prune.cc:74: tree pruning end, 1 roots, 14 extra nodes, 0 pruned nodes, max_depth=3\n",
      "[18]\teval-auc:0.921504\teval-f1_score_thr0.2:0.099456\teval-f1_score_thr0.3:0.494253\teval-f1_score_thr0.4:0.506527\teval-f1_score_thr0.5:0.380597\teval-f1_score_thr0.6:0.344\teval-f1_score_thr0.7:0\n",
      "[00:10:03] /workspace/src/tree/updater_prune.cc:74: tree pruning end, 1 roots, 14 extra nodes, 0 pruned nodes, max_depth=3\n",
      "[19]\teval-auc:0.921676\teval-f1_score_thr0.2:0.099456\teval-f1_score_thr0.3:0.491089\teval-f1_score_thr0.4:0.506527\teval-f1_score_thr0.5:0.383764\teval-f1_score_thr0.6:0.361446\teval-f1_score_thr0.7:0\n",
      "[00:10:03] /workspace/src/tree/updater_prune.cc:74: tree pruning end, 1 roots, 14 extra nodes, 0 pruned nodes, max_depth=3\n",
      "[20]\teval-auc:0.922\teval-f1_score_thr0.2:0.099456\teval-f1_score_thr0.3:0.504098\teval-f1_score_thr0.4:0.503937\teval-f1_score_thr0.5:0.382353\teval-f1_score_thr0.6:0.354839\teval-f1_score_thr0.7:0\n"
     ]
    },
    {
     "name": "stderr",
     "output_type": "stream",
     "text": [
      "/home/ec2-user/anaconda3/envs/python3/lib/python3.6/site-packages/sklearn/metrics/classification.py:1137: UndefinedMetricWarning: F-score is ill-defined and being set to 0.0 due to no true samples.\n",
      "  'recall', 'true', average, warn_for)\n",
      "/home/ec2-user/anaconda3/envs/python3/lib/python3.6/site-packages/sklearn/metrics/classification.py:1137: UndefinedMetricWarning: F-score is ill-defined and being set to 0.0 due to no true samples.\n",
      "  'recall', 'true', average, warn_for)\n",
      "/home/ec2-user/anaconda3/envs/python3/lib/python3.6/site-packages/sklearn/metrics/classification.py:1137: UndefinedMetricWarning: F-score is ill-defined and being set to 0.0 due to no true samples.\n",
      "  'recall', 'true', average, warn_for)\n"
     ]
    },
    {
     "name": "stdout",
     "output_type": "stream",
     "text": [
      "[00:10:03] /workspace/src/tree/updater_prune.cc:74: tree pruning end, 1 roots, 14 extra nodes, 0 pruned nodes, max_depth=3\n",
      "[21]\teval-auc:0.921784\teval-f1_score_thr0.2:0.099456\teval-f1_score_thr0.3:0.503171\teval-f1_score_thr0.4:0.496042\teval-f1_score_thr0.5:0.382353\teval-f1_score_thr0.6:0.346774\teval-f1_score_thr0.7:0\n",
      "[00:10:03] /workspace/src/tree/updater_prune.cc:74: tree pruning end, 1 roots, 14 extra nodes, 0 pruned nodes, max_depth=3\n",
      "[22]\teval-auc:0.921887\teval-f1_score_thr0.2:0.099456\teval-f1_score_thr0.3:0.507659\teval-f1_score_thr0.4:0.498674\teval-f1_score_thr0.5:0.391304\teval-f1_score_thr0.6:0.346774\teval-f1_score_thr0.7:0\n",
      "[00:10:03] /workspace/src/tree/updater_prune.cc:74: tree pruning end, 1 roots, 14 extra nodes, 0 pruned nodes, max_depth=3\n",
      "[23]\teval-auc:0.922379\teval-f1_score_thr0.2:0.202914\teval-f1_score_thr0.3:0.507726\teval-f1_score_thr0.4:0.498674\teval-f1_score_thr0.5:0.388278\teval-f1_score_thr0.6:0.348178\teval-f1_score_thr0.7:0\n"
     ]
    },
    {
     "name": "stderr",
     "output_type": "stream",
     "text": [
      "/home/ec2-user/anaconda3/envs/python3/lib/python3.6/site-packages/sklearn/metrics/classification.py:1137: UndefinedMetricWarning: F-score is ill-defined and being set to 0.0 due to no true samples.\n",
      "  'recall', 'true', average, warn_for)\n",
      "/home/ec2-user/anaconda3/envs/python3/lib/python3.6/site-packages/sklearn/metrics/classification.py:1137: UndefinedMetricWarning: F-score is ill-defined and being set to 0.0 due to no true samples.\n",
      "  'recall', 'true', average, warn_for)\n",
      "/home/ec2-user/anaconda3/envs/python3/lib/python3.6/site-packages/sklearn/metrics/classification.py:1137: UndefinedMetricWarning: F-score is ill-defined and being set to 0.0 due to no true samples.\n",
      "  'recall', 'true', average, warn_for)\n"
     ]
    },
    {
     "name": "stdout",
     "output_type": "stream",
     "text": [
      "[00:10:03] /workspace/src/tree/updater_prune.cc:74: tree pruning end, 1 roots, 14 extra nodes, 0 pruned nodes, max_depth=3\n",
      "[24]\teval-auc:0.922211\teval-f1_score_thr0.2:0.234246\teval-f1_score_thr0.3:0.515695\teval-f1_score_thr0.4:0.505376\teval-f1_score_thr0.5:0.388278\teval-f1_score_thr0.6:0.354839\teval-f1_score_thr0.7:0\n",
      "[00:10:03] /workspace/src/tree/updater_prune.cc:74: tree pruning end, 1 roots, 14 extra nodes, 0 pruned nodes, max_depth=3\n",
      "[25]\teval-auc:0.924065\teval-f1_score_thr0.2:0.301418\teval-f1_score_thr0.3:0.519362\teval-f1_score_thr0.4:0.508108\teval-f1_score_thr0.5:0.379182\teval-f1_score_thr0.6:0.354839\teval-f1_score_thr0.7:0\n",
      "[00:10:03] /workspace/src/tree/updater_prune.cc:74: tree pruning end, 1 roots, 14 extra nodes, 0 pruned nodes, max_depth=3\n",
      "[26]\teval-auc:0.925632\teval-f1_score_thr0.2:0.360836\teval-f1_score_thr0.3:0.51954\teval-f1_score_thr0.4:0.508108\teval-f1_score_thr0.5:0.369811\teval-f1_score_thr0.6:0.353414\teval-f1_score_thr0.7:0\n"
     ]
    },
    {
     "name": "stderr",
     "output_type": "stream",
     "text": [
      "/home/ec2-user/anaconda3/envs/python3/lib/python3.6/site-packages/sklearn/metrics/classification.py:1137: UndefinedMetricWarning: F-score is ill-defined and being set to 0.0 due to no true samples.\n",
      "  'recall', 'true', average, warn_for)\n",
      "/home/ec2-user/anaconda3/envs/python3/lib/python3.6/site-packages/sklearn/metrics/classification.py:1137: UndefinedMetricWarning: F-score is ill-defined and being set to 0.0 due to no true samples.\n",
      "  'recall', 'true', average, warn_for)\n",
      "/home/ec2-user/anaconda3/envs/python3/lib/python3.6/site-packages/sklearn/metrics/classification.py:1137: UndefinedMetricWarning: F-score is ill-defined and being set to 0.0 due to no true samples.\n",
      "  'recall', 'true', average, warn_for)\n"
     ]
    },
    {
     "name": "stdout",
     "output_type": "stream",
     "text": [
      "[00:10:03] /workspace/src/tree/updater_prune.cc:74: tree pruning end, 1 roots, 14 extra nodes, 0 pruned nodes, max_depth=3\n",
      "[27]\teval-auc:0.9264\teval-f1_score_thr0.2:0.389952\teval-f1_score_thr0.3:0.526559\teval-f1_score_thr0.4:0.504065\teval-f1_score_thr0.5:0.362934\teval-f1_score_thr0.6:0.353414\teval-f1_score_thr0.7:0\n",
      "[00:10:03] /workspace/src/tree/updater_prune.cc:74: tree pruning end, 1 roots, 14 extra nodes, 0 pruned nodes, max_depth=3\n",
      "[28]\teval-auc:0.92639\teval-f1_score_thr0.2:0.422977\teval-f1_score_thr0.3:0.526559\teval-f1_score_thr0.4:0.505435\teval-f1_score_thr0.5:0.365759\teval-f1_score_thr0.6:0.352\teval-f1_score_thr0.7:0\n",
      "[00:10:03] /workspace/src/tree/updater_prune.cc:74: tree pruning end, 1 roots, 14 extra nodes, 0 pruned nodes, max_depth=3\n",
      "[29]\teval-auc:0.927196\teval-f1_score_thr0.2:0.436562\teval-f1_score_thr0.3:0.525581\teval-f1_score_thr0.4:0.501377\teval-f1_score_thr0.5:0.357977\teval-f1_score_thr0.6:0.353414\teval-f1_score_thr0.7:0\n"
     ]
    },
    {
     "name": "stderr",
     "output_type": "stream",
     "text": [
      "/home/ec2-user/anaconda3/envs/python3/lib/python3.6/site-packages/sklearn/metrics/classification.py:1137: UndefinedMetricWarning: F-score is ill-defined and being set to 0.0 due to no true samples.\n",
      "  'recall', 'true', average, warn_for)\n",
      "/home/ec2-user/anaconda3/envs/python3/lib/python3.6/site-packages/sklearn/metrics/classification.py:1137: UndefinedMetricWarning: F-score is ill-defined and being set to 0.0 due to no true samples.\n",
      "  'recall', 'true', average, warn_for)\n",
      "/home/ec2-user/anaconda3/envs/python3/lib/python3.6/site-packages/sklearn/metrics/classification.py:1137: UndefinedMetricWarning: F-score is ill-defined and being set to 0.0 due to no true samples.\n",
      "  'recall', 'true', average, warn_for)\n"
     ]
    },
    {
     "name": "stdout",
     "output_type": "stream",
     "text": [
      "[00:10:04] /workspace/src/tree/updater_prune.cc:74: tree pruning end, 1 roots, 14 extra nodes, 0 pruned nodes, max_depth=3\n",
      "[30]\teval-auc:0.926918\teval-f1_score_thr0.2:0.441958\teval-f1_score_thr0.3:0.527059\teval-f1_score_thr0.4:0.498615\teval-f1_score_thr0.5:0.365759\teval-f1_score_thr0.6:0.352\teval-f1_score_thr0.7:0\n",
      "[00:10:04] /workspace/src/tree/updater_prune.cc:74: tree pruning end, 1 roots, 14 extra nodes, 0 pruned nodes, max_depth=3\n",
      "[31]\teval-auc:0.927408\teval-f1_score_thr0.2:0.449635\teval-f1_score_thr0.3:0.523585\teval-f1_score_thr0.4:0.498615\teval-f1_score_thr0.5:0.372093\teval-f1_score_thr0.6:0.352\teval-f1_score_thr0.7:0\n",
      "[00:10:04] /workspace/src/tree/updater_prune.cc:74: tree pruning end, 1 roots, 14 extra nodes, 0 pruned nodes, max_depth=3\n",
      "[32]\teval-auc:0.928016\teval-f1_score_thr0.2:0.46015\teval-f1_score_thr0.3:0.527316\teval-f1_score_thr0.4:0.502793\teval-f1_score_thr0.5:0.365759\teval-f1_score_thr0.6:0.352\teval-f1_score_thr0.7:0\n"
     ]
    },
    {
     "name": "stderr",
     "output_type": "stream",
     "text": [
      "/home/ec2-user/anaconda3/envs/python3/lib/python3.6/site-packages/sklearn/metrics/classification.py:1137: UndefinedMetricWarning: F-score is ill-defined and being set to 0.0 due to no true samples.\n",
      "  'recall', 'true', average, warn_for)\n",
      "/home/ec2-user/anaconda3/envs/python3/lib/python3.6/site-packages/sklearn/metrics/classification.py:1137: UndefinedMetricWarning: F-score is ill-defined and being set to 0.0 due to no true samples.\n",
      "  'recall', 'true', average, warn_for)\n",
      "/home/ec2-user/anaconda3/envs/python3/lib/python3.6/site-packages/sklearn/metrics/classification.py:1137: UndefinedMetricWarning: F-score is ill-defined and being set to 0.0 due to no true samples.\n",
      "  'recall', 'true', average, warn_for)\n"
     ]
    },
    {
     "name": "stdout",
     "output_type": "stream",
     "text": [
      "[00:10:04] /workspace/src/tree/updater_prune.cc:74: tree pruning end, 1 roots, 14 extra nodes, 0 pruned nodes, max_depth=3\n",
      "[33]\teval-auc:0.927466\teval-f1_score_thr0.2:0.459418\teval-f1_score_thr0.3:0.527316\teval-f1_score_thr0.4:0.498615\teval-f1_score_thr0.5:0.365759\teval-f1_score_thr0.6:0.352\teval-f1_score_thr0.7:0\n",
      "[00:10:04] /workspace/src/tree/updater_prune.cc:74: tree pruning end, 1 roots, 14 extra nodes, 0 pruned nodes, max_depth=3\n",
      "[34]\teval-auc:0.92659\teval-f1_score_thr0.2:0.470588\teval-f1_score_thr0.3:0.529833\teval-f1_score_thr0.4:0.5\teval-f1_score_thr0.5:0.359375\teval-f1_score_thr0.6:0.352\teval-f1_score_thr0.7:0\n",
      "[00:10:04] /workspace/src/tree/updater_prune.cc:74: tree pruning end, 1 roots, 14 extra nodes, 0 pruned nodes, max_depth=3\n",
      "[35]\teval-auc:0.926377\teval-f1_score_thr0.2:0.477273\teval-f1_score_thr0.3:0.5311\teval-f1_score_thr0.4:0.495822\teval-f1_score_thr0.5:0.368627\teval-f1_score_thr0.6:0.352\teval-f1_score_thr0.7:0\n"
     ]
    },
    {
     "name": "stderr",
     "output_type": "stream",
     "text": [
      "/home/ec2-user/anaconda3/envs/python3/lib/python3.6/site-packages/sklearn/metrics/classification.py:1137: UndefinedMetricWarning: F-score is ill-defined and being set to 0.0 due to no true samples.\n",
      "  'recall', 'true', average, warn_for)\n",
      "/home/ec2-user/anaconda3/envs/python3/lib/python3.6/site-packages/sklearn/metrics/classification.py:1137: UndefinedMetricWarning: F-score is ill-defined and being set to 0.0 due to no true samples.\n",
      "  'recall', 'true', average, warn_for)\n",
      "/home/ec2-user/anaconda3/envs/python3/lib/python3.6/site-packages/sklearn/metrics/classification.py:1137: UndefinedMetricWarning: F-score is ill-defined and being set to 0.0 due to no true samples.\n",
      "  'recall', 'true', average, warn_for)\n"
     ]
    },
    {
     "name": "stdout",
     "output_type": "stream",
     "text": [
      "[00:10:04] /workspace/src/tree/updater_prune.cc:74: tree pruning end, 1 roots, 14 extra nodes, 0 pruned nodes, max_depth=3\n",
      "[36]\teval-auc:0.926166\teval-f1_score_thr0.2:0.482529\teval-f1_score_thr0.3:0.532374\teval-f1_score_thr0.4:0.497207\teval-f1_score_thr0.5:0.359375\teval-f1_score_thr0.6:0.352\teval-f1_score_thr0.7:0\n",
      "[00:10:04] /workspace/src/tree/updater_prune.cc:74: tree pruning end, 1 roots, 14 extra nodes, 0 pruned nodes, max_depth=3\n",
      "[37]\teval-auc:0.925788\teval-f1_score_thr0.2:0.482293\teval-f1_score_thr0.3:0.53494\teval-f1_score_thr0.4:0.5\teval-f1_score_thr0.5:0.367188\teval-f1_score_thr0.6:0.352\teval-f1_score_thr0.7:0\n",
      "[00:10:04] /workspace/src/tree/updater_prune.cc:74: tree pruning end, 1 roots, 14 extra nodes, 0 pruned nodes, max_depth=3\n",
      "[38]\teval-auc:0.925601\teval-f1_score_thr0.2:0.493056\teval-f1_score_thr0.3:0.531401\teval-f1_score_thr0.4:0.498599\teval-f1_score_thr0.5:0.367188\teval-f1_score_thr0.6:0.345382\teval-f1_score_thr0.7:0\n"
     ]
    },
    {
     "name": "stderr",
     "output_type": "stream",
     "text": [
      "/home/ec2-user/anaconda3/envs/python3/lib/python3.6/site-packages/sklearn/metrics/classification.py:1137: UndefinedMetricWarning: F-score is ill-defined and being set to 0.0 due to no true samples.\n",
      "  'recall', 'true', average, warn_for)\n",
      "/home/ec2-user/anaconda3/envs/python3/lib/python3.6/site-packages/sklearn/metrics/classification.py:1137: UndefinedMetricWarning: F-score is ill-defined and being set to 0.0 due to no true samples.\n",
      "  'recall', 'true', average, warn_for)\n",
      "/home/ec2-user/anaconda3/envs/python3/lib/python3.6/site-packages/sklearn/metrics/classification.py:1137: UndefinedMetricWarning: F-score is ill-defined and being set to 0.0 due to no true samples.\n",
      "  'recall', 'true', average, warn_for)\n"
     ]
    },
    {
     "name": "stdout",
     "output_type": "stream",
     "text": [
      "[00:10:04] /workspace/src/tree/updater_prune.cc:74: tree pruning end, 1 roots, 14 extra nodes, 0 pruned nodes, max_depth=3\n",
      "[39]\teval-auc:0.925658\teval-f1_score_thr0.2:0.488576\teval-f1_score_thr0.3:0.53012\teval-f1_score_thr0.4:0.502825\teval-f1_score_thr0.5:0.373541\teval-f1_score_thr0.6:0.345382\teval-f1_score_thr0.7:0\n",
      "[00:10:04] /workspace/src/tree/updater_prune.cc:74: tree pruning end, 1 roots, 14 extra nodes, 0 pruned nodes, max_depth=3\n",
      "[40]\teval-auc:0.925743\teval-f1_score_thr0.2:0.491103\teval-f1_score_thr0.3:0.531401\teval-f1_score_thr0.4:0.502825\teval-f1_score_thr0.5:0.373541\teval-f1_score_thr0.6:0.33871\teval-f1_score_thr0.7:0\n",
      "[00:10:04] /workspace/src/tree/updater_prune.cc:74: tree pruning end, 1 roots, 14 extra nodes, 0 pruned nodes, max_depth=3\n",
      "[41]\teval-auc:0.925747\teval-f1_score_thr0.2:0.494585\teval-f1_score_thr0.3:0.533981\teval-f1_score_thr0.4:0.504249\teval-f1_score_thr0.5:0.373541\teval-f1_score_thr0.6:0.33871\teval-f1_score_thr0.7:0\n"
     ]
    },
    {
     "name": "stderr",
     "output_type": "stream",
     "text": [
      "/home/ec2-user/anaconda3/envs/python3/lib/python3.6/site-packages/sklearn/metrics/classification.py:1137: UndefinedMetricWarning: F-score is ill-defined and being set to 0.0 due to no true samples.\n",
      "  'recall', 'true', average, warn_for)\n",
      "/home/ec2-user/anaconda3/envs/python3/lib/python3.6/site-packages/sklearn/metrics/classification.py:1137: UndefinedMetricWarning: F-score is ill-defined and being set to 0.0 due to no true samples.\n",
      "  'recall', 'true', average, warn_for)\n",
      "/home/ec2-user/anaconda3/envs/python3/lib/python3.6/site-packages/sklearn/metrics/classification.py:1137: UndefinedMetricWarning: F-score is ill-defined and being set to 0.0 due to no true samples.\n",
      "  'recall', 'true', average, warn_for)\n"
     ]
    },
    {
     "name": "stdout",
     "output_type": "stream",
     "text": [
      "[00:10:04] /workspace/src/tree/updater_prune.cc:74: tree pruning end, 1 roots, 14 extra nodes, 0 pruned nodes, max_depth=3\n",
      "[42]\teval-auc:0.925901\teval-f1_score_thr0.2:0.49635\teval-f1_score_thr0.3:0.53528\teval-f1_score_thr0.4:0.507123\teval-f1_score_thr0.5:0.373541\teval-f1_score_thr0.6:0.33871\teval-f1_score_thr0.7:0.020513\n",
      "[00:10:04] /workspace/src/tree/updater_prune.cc:74: tree pruning end, 1 roots, 14 extra nodes, 0 pruned nodes, max_depth=3\n",
      "[43]\teval-auc:0.928651\teval-f1_score_thr0.2:0.496324\teval-f1_score_thr0.3:0.53528\teval-f1_score_thr0.4:0.502857\teval-f1_score_thr0.5:0.367188\teval-f1_score_thr0.6:0.33871\teval-f1_score_thr0.7:0.020513\n",
      "[00:10:05] /workspace/src/tree/updater_prune.cc:74: tree pruning end, 1 roots, 14 extra nodes, 0 pruned nodes, max_depth=3\n",
      "[44]\teval-auc:0.92859\teval-f1_score_thr0.2:0.5\teval-f1_score_thr0.3:0.536585\teval-f1_score_thr0.4:0.505682\teval-f1_score_thr0.5:0.393939\teval-f1_score_thr0.6:0.33871\teval-f1_score_thr0.7:0.020513\n",
      "[00:10:05] /workspace/src/tree/updater_prune.cc:74: tree pruning end, 1 roots, 14 extra nodes, 0 pruned nodes, max_depth=3\n",
      "[45]\teval-auc:0.929141\teval-f1_score_thr0.2:0.504673\teval-f1_score_thr0.3:0.531707\teval-f1_score_thr0.4:0.504298\teval-f1_score_thr0.5:0.387833\teval-f1_score_thr0.6:0.33871\teval-f1_score_thr0.7:0.020513\n",
      "[00:10:05] /workspace/src/tree/updater_prune.cc:74: tree pruning end, 1 roots, 14 extra nodes, 0 pruned nodes, max_depth=3\n",
      "[46]\teval-auc:0.929704\teval-f1_score_thr0.2:0.507519\teval-f1_score_thr0.3:0.531707\teval-f1_score_thr0.4:0.504298\teval-f1_score_thr0.5:0.393939\teval-f1_score_thr0.6:0.33871\teval-f1_score_thr0.7:0.020513\n",
      "[00:10:05] /workspace/src/tree/updater_prune.cc:74: tree pruning end, 1 roots, 14 extra nodes, 0 pruned nodes, max_depth=3\n",
      "[47]\teval-auc:0.929765\teval-f1_score_thr0.2:0.507576\teval-f1_score_thr0.3:0.531707\teval-f1_score_thr0.4:0.505747\teval-f1_score_thr0.5:0.387833\teval-f1_score_thr0.6:0.33871\teval-f1_score_thr0.7:0.020513\n",
      "[00:10:05] /workspace/src/tree/updater_prune.cc:74: tree pruning end, 1 roots, 14 extra nodes, 0 pruned nodes, max_depth=3\n",
      "[48]\teval-auc:0.929715\teval-f1_score_thr0.2:0.510476\teval-f1_score_thr0.3:0.533007\teval-f1_score_thr0.4:0.5\teval-f1_score_thr0.5:0.393939\teval-f1_score_thr0.6:0.33871\teval-f1_score_thr0.7:0.079602\n",
      "[00:10:05] /workspace/src/tree/updater_prune.cc:74: tree pruning end, 1 roots, 14 extra nodes, 0 pruned nodes, max_depth=3\n",
      "[49]\teval-auc:0.929631\teval-f1_score_thr0.2:0.512428\teval-f1_score_thr0.3:0.528117\teval-f1_score_thr0.4:0.498567\teval-f1_score_thr0.5:0.406015\teval-f1_score_thr0.6:0.33871\teval-f1_score_thr0.7:0.079602\n",
      "[00:10:05] /workspace/src/tree/updater_prune.cc:74: tree pruning end, 1 roots, 14 extra nodes, 0 pruned nodes, max_depth=3\n",
      "[50]\teval-auc:0.931197\teval-f1_score_thr0.2:0.505747\teval-f1_score_thr0.3:0.528117\teval-f1_score_thr0.4:0.498567\teval-f1_score_thr0.5:0.401487\teval-f1_score_thr0.6:0.33871\teval-f1_score_thr0.7:0.089109\n",
      "[00:10:05] /workspace/src/tree/updater_prune.cc:74: tree pruning end, 1 roots, 14 extra nodes, 0 pruned nodes, max_depth=3\n",
      "[51]\teval-auc:0.931135\teval-f1_score_thr0.2:0.505792\teval-f1_score_thr0.3:0.533007\teval-f1_score_thr0.4:0.5\teval-f1_score_thr0.5:0.401487\teval-f1_score_thr0.6:0.33871\teval-f1_score_thr0.7:0.079602\n",
      "[00:10:05] /workspace/src/tree/updater_prune.cc:74: tree pruning end, 1 roots, 14 extra nodes, 0 pruned nodes, max_depth=3\n",
      "[52]\teval-auc:0.930991\teval-f1_score_thr0.2:0.510721\teval-f1_score_thr0.3:0.534314\teval-f1_score_thr0.4:0.49711\teval-f1_score_thr0.5:0.402985\teval-f1_score_thr0.6:0.33871\teval-f1_score_thr0.7:0.089109\n",
      "[00:10:05] /workspace/src/tree/updater_prune.cc:74: tree pruning end, 1 roots, 14 extra nodes, 0 pruned nodes, max_depth=3\n",
      "[53]\teval-auc:0.930971\teval-f1_score_thr0.2:0.510721\teval-f1_score_thr0.3:0.529412\teval-f1_score_thr0.4:0.5\teval-f1_score_thr0.5:0.4\teval-f1_score_thr0.6:0.33871\teval-f1_score_thr0.7:0.089109\n",
      "[00:10:05] /workspace/src/tree/updater_prune.cc:74: tree pruning end, 1 roots, 14 extra nodes, 0 pruned nodes, max_depth=3\n",
      "[54]\teval-auc:0.931229\teval-f1_score_thr0.2:0.516634\teval-f1_score_thr0.3:0.531017\teval-f1_score_thr0.4:0.49711\teval-f1_score_thr0.5:0.405904\teval-f1_score_thr0.6:0.337349\teval-f1_score_thr0.7:0.107843\n",
      "[00:10:05] /workspace/src/tree/updater_prune.cc:74: tree pruning end, 1 roots, 14 extra nodes, 0 pruned nodes, max_depth=3\n",
      "[55]\teval-auc:0.930958\teval-f1_score_thr0.2:0.516634\teval-f1_score_thr0.3:0.532338\teval-f1_score_thr0.4:0.502924\teval-f1_score_thr0.5:0.417582\teval-f1_score_thr0.6:0.337349\teval-f1_score_thr0.7:0.107317\n",
      "[00:10:05] /workspace/src/tree/updater_prune.cc:74: tree pruning end, 1 roots, 14 extra nodes, 0 pruned nodes, max_depth=3\n",
      "[56]\teval-auc:0.931038\teval-f1_score_thr0.2:0.518664\teval-f1_score_thr0.3:0.529703\teval-f1_score_thr0.4:0.5\teval-f1_score_thr0.5:0.417582\teval-f1_score_thr0.6:0.33871\teval-f1_score_thr0.7:0.116505\n",
      "[00:10:06] /workspace/src/tree/updater_prune.cc:74: tree pruning end, 1 roots, 14 extra nodes, 0 pruned nodes, max_depth=3\n",
      "[57]\teval-auc:0.93103\teval-f1_score_thr0.2:0.518664\teval-f1_score_thr0.3:0.529703\teval-f1_score_thr0.4:0.5\teval-f1_score_thr0.5:0.416058\teval-f1_score_thr0.6:0.33871\teval-f1_score_thr0.7:0.134615\n",
      "[00:10:06] /workspace/src/tree/updater_prune.cc:74: tree pruning end, 1 roots, 14 extra nodes, 0 pruned nodes, max_depth=3\n",
      "[58]\teval-auc:0.931245\teval-f1_score_thr0.2:0.519685\teval-f1_score_thr0.3:0.526055\teval-f1_score_thr0.4:0.501475\teval-f1_score_thr0.5:0.421818\teval-f1_score_thr0.6:0.337349\teval-f1_score_thr0.7:0.134615\n",
      "[00:10:06] /workspace/src/tree/updater_prune.cc:74: tree pruning end, 1 roots, 14 extra nodes, 0 pruned nodes, max_depth=3\n",
      "[59]\teval-auc:0.93103\teval-f1_score_thr0.2:0.52071\teval-f1_score_thr0.3:0.527363\teval-f1_score_thr0.4:0.5\teval-f1_score_thr0.5:0.427536\teval-f1_score_thr0.6:0.33871\teval-f1_score_thr0.7:0.143541\n",
      "[00:10:06] /workspace/src/tree/updater_prune.cc:74: tree pruning end, 1 roots, 14 extra nodes, 0 pruned nodes, max_depth=3\n",
      "[60]\teval-auc:0.93058\teval-f1_score_thr0.2:0.520875\teval-f1_score_thr0.3:0.53\teval-f1_score_thr0.4:0.502959\teval-f1_score_thr0.5:0.427536\teval-f1_score_thr0.6:0.33871\teval-f1_score_thr0.7:0.152381\n",
      "[00:10:06] /workspace/src/tree/updater_prune.cc:74: tree pruning end, 1 roots, 14 extra nodes, 0 pruned nodes, max_depth=3\n",
      "[61]\teval-auc:0.930705\teval-f1_score_thr0.2:0.522772\teval-f1_score_thr0.3:0.531017\teval-f1_score_thr0.4:0.502959\teval-f1_score_thr0.5:0.418773\teval-f1_score_thr0.6:0.33871\teval-f1_score_thr0.7:0.161137\n",
      "[00:10:06] /workspace/src/tree/updater_prune.cc:74: tree pruning end, 1 roots, 14 extra nodes, 0 pruned nodes, max_depth=3\n",
      "[62]\teval-auc:0.930451\teval-f1_score_thr0.2:0.520875\teval-f1_score_thr0.3:0.532338\teval-f1_score_thr0.4:0.504451\teval-f1_score_thr0.5:0.42446\teval-f1_score_thr0.6:0.33871\teval-f1_score_thr0.7:0.161137\n",
      "[00:10:06] /workspace/src/tree/updater_prune.cc:74: tree pruning end, 1 roots, 14 extra nodes, 0 pruned nodes, max_depth=3\n",
      "[63]\teval-auc:0.930487\teval-f1_score_thr0.2:0.522954\teval-f1_score_thr0.3:0.533666\teval-f1_score_thr0.4:0.494048\teval-f1_score_thr0.5:0.417266\teval-f1_score_thr0.6:0.33871\teval-f1_score_thr0.7:0.150943\n",
      "[00:10:06] /workspace/src/tree/updater_prune.cc:74: tree pruning end, 1 roots, 14 extra nodes, 0 pruned nodes, max_depth=3\n",
      "[64]\teval-auc:0.930698\teval-f1_score_thr0.2:0.528226\teval-f1_score_thr0.3:0.535\teval-f1_score_thr0.4:0.495522\teval-f1_score_thr0.5:0.422939\teval-f1_score_thr0.6:0.33871\teval-f1_score_thr0.7:0.159624\n",
      "[00:10:06] /workspace/src/tree/updater_prune.cc:74: tree pruning end, 1 roots, 14 extra nodes, 0 pruned nodes, max_depth=3\n",
      "[65]\teval-auc:0.930655\teval-f1_score_thr0.2:0.530364\teval-f1_score_thr0.3:0.533666\teval-f1_score_thr0.4:0.501493\teval-f1_score_thr0.5:0.422939\teval-f1_score_thr0.6:0.33871\teval-f1_score_thr0.7:0.159624\n",
      "[00:10:06] /workspace/src/tree/updater_prune.cc:74: tree pruning end, 1 roots, 14 extra nodes, 0 pruned nodes, max_depth=3\n",
      "[66]\teval-auc:0.930831\teval-f1_score_thr0.2:0.530364\teval-f1_score_thr0.3:0.536341\teval-f1_score_thr0.4:0.497006\teval-f1_score_thr0.5:0.422939\teval-f1_score_thr0.6:0.33871\teval-f1_score_thr0.7:0.176744\n",
      "[00:10:06] /workspace/src/tree/updater_prune.cc:74: tree pruning end, 1 roots, 14 extra nodes, 0 pruned nodes, max_depth=3\n"
     ]
    },
    {
     "name": "stdout",
     "output_type": "stream",
     "text": [
      "[67]\teval-auc:0.931434\teval-f1_score_thr0.2:0.532258\teval-f1_score_thr0.3:0.537688\teval-f1_score_thr0.4:0.495522\teval-f1_score_thr0.5:0.422939\teval-f1_score_thr0.6:0.33871\teval-f1_score_thr0.7:0.176744\n",
      "[00:10:06] /workspace/src/tree/updater_prune.cc:74: tree pruning end, 1 roots, 14 extra nodes, 0 pruned nodes, max_depth=3\n",
      "[68]\teval-auc:0.932024\teval-f1_score_thr0.2:0.529293\teval-f1_score_thr0.3:0.537688\teval-f1_score_thr0.4:0.495522\teval-f1_score_thr0.5:0.422939\teval-f1_score_thr0.6:0.33871\teval-f1_score_thr0.7:0.175926\n",
      "[00:10:06] /workspace/src/tree/updater_prune.cc:74: tree pruning end, 1 roots, 14 extra nodes, 0 pruned nodes, max_depth=3\n",
      "[69]\teval-auc:0.931645\teval-f1_score_thr0.2:0.532258\teval-f1_score_thr0.3:0.542714\teval-f1_score_thr0.4:0.5\teval-f1_score_thr0.5:0.422939\teval-f1_score_thr0.6:0.33871\teval-f1_score_thr0.7:0.167442\n",
      "[00:10:07] /workspace/src/tree/updater_prune.cc:74: tree pruning end, 1 roots, 14 extra nodes, 0 pruned nodes, max_depth=3\n",
      "[70]\teval-auc:0.931385\teval-f1_score_thr0.2:0.532258\teval-f1_score_thr0.3:0.539043\teval-f1_score_thr0.4:0.498516\teval-f1_score_thr0.5:0.422939\teval-f1_score_thr0.6:0.337349\teval-f1_score_thr0.7:0.184332\n",
      "[00:10:07] /workspace/src/tree/updater_prune.cc:74: tree pruning end, 1 roots, 14 extra nodes, 0 pruned nodes, max_depth=3\n",
      "[71]\teval-auc:0.930894\teval-f1_score_thr0.2:0.534413\teval-f1_score_thr0.3:0.542714\teval-f1_score_thr0.4:0.504451\teval-f1_score_thr0.5:0.422939\teval-f1_score_thr0.6:0.330645\teval-f1_score_thr0.7:0.175926\n",
      "[00:10:07] /workspace/src/tree/updater_prune.cc:74: tree pruning end, 1 roots, 14 extra nodes, 0 pruned nodes, max_depth=3\n",
      "[72]\teval-auc:0.930908\teval-f1_score_thr0.2:0.535497\teval-f1_score_thr0.3:0.546366\teval-f1_score_thr0.4:0.498516\teval-f1_score_thr0.5:0.422939\teval-f1_score_thr0.6:0.330645\teval-f1_score_thr0.7:0.167442\n",
      "[00:10:07] /workspace/src/tree/updater_prune.cc:74: tree pruning end, 1 roots, 14 extra nodes, 0 pruned nodes, max_depth=3\n",
      "[73]\teval-auc:0.931032\teval-f1_score_thr0.2:0.539554\teval-f1_score_thr0.3:0.546366\teval-f1_score_thr0.4:0.498516\teval-f1_score_thr0.5:0.42446\teval-f1_score_thr0.6:0.337349\teval-f1_score_thr0.7:0.183486\n",
      "[00:10:07] /workspace/src/tree/updater_prune.cc:74: tree pruning end, 1 roots, 14 extra nodes, 0 pruned nodes, max_depth=3\n",
      "[74]\teval-auc:0.93032\teval-f1_score_thr0.2:0.537374\teval-f1_score_thr0.3:0.546366\teval-f1_score_thr0.4:0.498516\teval-f1_score_thr0.5:0.42446\teval-f1_score_thr0.6:0.330645\teval-f1_score_thr0.7:0.183486\n",
      "[00:10:07] /workspace/src/tree/updater_prune.cc:74: tree pruning end, 1 roots, 14 extra nodes, 0 pruned nodes, max_depth=3\n",
      "[75]\teval-auc:0.930215\teval-f1_score_thr0.2:0.539554\teval-f1_score_thr0.3:0.547739\teval-f1_score_thr0.4:0.498516\teval-f1_score_thr0.5:0.430108\teval-f1_score_thr0.6:0.330645\teval-f1_score_thr0.7:0.183486\n",
      "[00:10:07] /workspace/src/tree/updater_prune.cc:74: tree pruning end, 1 roots, 14 extra nodes, 0 pruned nodes, max_depth=3\n",
      "[76]\teval-auc:0.930542\teval-f1_score_thr0.2:0.54065\teval-f1_score_thr0.3:0.547739\teval-f1_score_thr0.4:0.502959\teval-f1_score_thr0.5:0.427046\teval-f1_score_thr0.6:0.330645\teval-f1_score_thr0.7:0.183486\n",
      "[00:10:07] /workspace/src/tree/updater_prune.cc:74: tree pruning end, 1 roots, 14 extra nodes, 0 pruned nodes, max_depth=3\n",
      "[77]\teval-auc:0.931423\teval-f1_score_thr0.2:0.541752\teval-f1_score_thr0.3:0.549118\teval-f1_score_thr0.4:0.508876\teval-f1_score_thr0.5:0.428571\teval-f1_score_thr0.6:0.330645\teval-f1_score_thr0.7:0.191781\n",
      "[00:10:07] /workspace/src/tree/updater_prune.cc:74: tree pruning end, 1 roots, 14 extra nodes, 0 pruned nodes, max_depth=3\n",
      "[78]\teval-auc:0.932138\teval-f1_score_thr0.2:0.543967\teval-f1_score_thr0.3:0.551378\teval-f1_score_thr0.4:0.510386\teval-f1_score_thr0.5:0.427046\teval-f1_score_thr0.6:0.330645\teval-f1_score_thr0.7:0.190909\n",
      "[00:10:07] /workspace/src/tree/updater_prune.cc:74: tree pruning end, 1 roots, 14 extra nodes, 0 pruned nodes, max_depth=3\n",
      "[79]\teval-auc:0.932355\teval-f1_score_thr0.2:0.543967\teval-f1_score_thr0.3:0.547739\teval-f1_score_thr0.4:0.5\teval-f1_score_thr0.5:0.427046\teval-f1_score_thr0.6:0.330645\teval-f1_score_thr0.7:0.190909\n",
      "[00:10:07] /workspace/src/tree/updater_prune.cc:74: tree pruning end, 1 roots, 14 extra nodes, 0 pruned nodes, max_depth=3\n",
      "[80]\teval-auc:0.932415\teval-f1_score_thr0.2:0.543967\teval-f1_score_thr0.3:0.545455\teval-f1_score_thr0.4:0.505952\teval-f1_score_thr0.5:0.427046\teval-f1_score_thr0.6:0.323887\teval-f1_score_thr0.7:0.182648\n",
      "[00:10:08] /workspace/src/tree/updater_prune.cc:74: tree pruning end, 1 roots, 14 extra nodes, 0 pruned nodes, max_depth=3\n",
      "[81]\teval-auc:0.932656\teval-f1_score_thr0.2:0.545082\teval-f1_score_thr0.3:0.547739\teval-f1_score_thr0.4:0.505952\teval-f1_score_thr0.5:0.427046\teval-f1_score_thr0.6:0.323887\teval-f1_score_thr0.7:0.182648\n",
      "[00:10:08] /workspace/src/tree/updater_prune.cc:74: tree pruning end, 1 roots, 12 extra nodes, 0 pruned nodes, max_depth=3\n",
      "[82]\teval-auc:0.932755\teval-f1_score_thr0.2:0.543967\teval-f1_score_thr0.3:0.547739\teval-f1_score_thr0.4:0.510386\teval-f1_score_thr0.5:0.427046\teval-f1_score_thr0.6:0.330645\teval-f1_score_thr0.7:0.190909\n",
      "[00:10:08] /workspace/src/tree/updater_prune.cc:74: tree pruning end, 1 roots, 14 extra nodes, 0 pruned nodes, max_depth=3\n",
      "[83]\teval-auc:0.932882\teval-f1_score_thr0.2:0.540984\teval-f1_score_thr0.3:0.552764\teval-f1_score_thr0.4:0.505952\teval-f1_score_thr0.5:0.421429\teval-f1_score_thr0.6:0.331984\teval-f1_score_thr0.7:0.2\n",
      "[00:10:08] /workspace/src/tree/updater_prune.cc:74: tree pruning end, 1 roots, 12 extra nodes, 0 pruned nodes, max_depth=3\n",
      "[84]\teval-auc:0.932477\teval-f1_score_thr0.2:0.542094\teval-f1_score_thr0.3:0.549118\teval-f1_score_thr0.4:0.504451\teval-f1_score_thr0.5:0.421429\teval-f1_score_thr0.6:0.331984\teval-f1_score_thr0.7:0.2\n",
      "[00:10:08] /workspace/src/tree/updater_prune.cc:74: tree pruning end, 1 roots, 14 extra nodes, 0 pruned nodes, max_depth=3\n",
      "[85]\teval-auc:0.932512\teval-f1_score_thr0.2:0.542094\teval-f1_score_thr0.3:0.552764\teval-f1_score_thr0.4:0.5\teval-f1_score_thr0.5:0.421429\teval-f1_score_thr0.6:0.331984\teval-f1_score_thr0.7:0.2\n",
      "[00:10:08] /workspace/src/tree/updater_prune.cc:74: tree pruning end, 1 roots, 14 extra nodes, 0 pruned nodes, max_depth=3\n",
      "[86]\teval-auc:0.93315\teval-f1_score_thr0.2:0.540984\teval-f1_score_thr0.3:0.554156\teval-f1_score_thr0.4:0.501493\teval-f1_score_thr0.5:0.427046\teval-f1_score_thr0.6:0.331984\teval-f1_score_thr0.7:0.208145\n",
      "[00:10:08] /workspace/src/tree/updater_prune.cc:74: tree pruning end, 1 roots, 14 extra nodes, 0 pruned nodes, max_depth=3\n",
      "[87]\teval-auc:0.933186\teval-f1_score_thr0.2:0.539095\teval-f1_score_thr0.3:0.554156\teval-f1_score_thr0.4:0.502994\teval-f1_score_thr0.5:0.432624\teval-f1_score_thr0.6:0.331984\teval-f1_score_thr0.7:0.2\n",
      "[00:10:08] /workspace/src/tree/updater_prune.cc:74: tree pruning end, 1 roots, 14 extra nodes, 0 pruned nodes, max_depth=3\n",
      "[88]\teval-auc:0.933321\teval-f1_score_thr0.2:0.536885\teval-f1_score_thr0.3:0.557789\teval-f1_score_thr0.4:0.507463\teval-f1_score_thr0.5:0.427046\teval-f1_score_thr0.6:0.330645\teval-f1_score_thr0.7:0.191781\n",
      "[00:10:08] /workspace/src/tree/updater_prune.cc:74: tree pruning end, 1 roots, 14 extra nodes, 0 pruned nodes, max_depth=3\n",
      "[89]\teval-auc:0.933297\teval-f1_score_thr0.2:0.537988\teval-f1_score_thr0.3:0.554156\teval-f1_score_thr0.4:0.511905\teval-f1_score_thr0.5:0.432624\teval-f1_score_thr0.6:0.323887\teval-f1_score_thr0.7:0.2\n",
      "[00:10:08] /workspace/src/tree/updater_prune.cc:74: tree pruning end, 1 roots, 14 extra nodes, 0 pruned nodes, max_depth=3\n",
      "[90]\teval-auc:0.93351\teval-f1_score_thr0.2:0.537988\teval-f1_score_thr0.3:0.555556\teval-f1_score_thr0.4:0.511905\teval-f1_score_thr0.5:0.421429\teval-f1_score_thr0.6:0.323887\teval-f1_score_thr0.7:0.2\n",
      "[00:10:08] /workspace/src/tree/updater_prune.cc:74: tree pruning end, 1 roots, 14 extra nodes, 0 pruned nodes, max_depth=3\n",
      "[91]\teval-auc:0.933537\teval-f1_score_thr0.2:0.536885\teval-f1_score_thr0.3:0.555556\teval-f1_score_thr0.4:0.511905\teval-f1_score_thr0.5:0.427046\teval-f1_score_thr0.6:0.323887\teval-f1_score_thr0.7:0.2\n",
      "[00:10:08] /workspace/src/tree/updater_prune.cc:74: tree pruning end, 1 roots, 14 extra nodes, 0 pruned nodes, max_depth=3\n",
      "[92]\teval-auc:0.933811\teval-f1_score_thr0.2:0.537988\teval-f1_score_thr0.3:0.557789\teval-f1_score_thr0.4:0.511905\teval-f1_score_thr0.5:0.421429\teval-f1_score_thr0.6:0.330645\teval-f1_score_thr0.7:0.2\n"
     ]
    },
    {
     "name": "stdout",
     "output_type": "stream",
     "text": [
      "[00:10:08] /workspace/src/tree/updater_prune.cc:74: tree pruning end, 1 roots, 14 extra nodes, 0 pruned nodes, max_depth=3\n",
      "[93]\teval-auc:0.933754\teval-f1_score_thr0.2:0.537988\teval-f1_score_thr0.3:0.557789\teval-f1_score_thr0.4:0.511905\teval-f1_score_thr0.5:0.427046\teval-f1_score_thr0.6:0.337349\teval-f1_score_thr0.7:0.208145\n",
      "[00:10:09] /workspace/src/tree/updater_prune.cc:74: tree pruning end, 1 roots, 14 extra nodes, 0 pruned nodes, max_depth=3\n",
      "[94]\teval-auc:0.933879\teval-f1_score_thr0.2:0.539095\teval-f1_score_thr0.3:0.557789\teval-f1_score_thr0.4:0.511905\teval-f1_score_thr0.5:0.421429\teval-f1_score_thr0.6:0.337349\teval-f1_score_thr0.7:0.208145\n",
      "[00:10:09] /workspace/src/tree/updater_prune.cc:74: tree pruning end, 1 roots, 14 extra nodes, 0 pruned nodes, max_depth=3\n",
      "[95]\teval-auc:0.933844\teval-f1_score_thr0.2:0.540206\teval-f1_score_thr0.3:0.554156\teval-f1_score_thr0.4:0.513433\teval-f1_score_thr0.5:0.419929\teval-f1_score_thr0.6:0.337349\teval-f1_score_thr0.7:0.2\n",
      "[00:10:09] /workspace/src/tree/updater_prune.cc:74: tree pruning end, 1 roots, 14 extra nodes, 0 pruned nodes, max_depth=3\n",
      "[96]\teval-auc:0.933745\teval-f1_score_thr0.2:0.543568\teval-f1_score_thr0.3:0.552764\teval-f1_score_thr0.4:0.508982\teval-f1_score_thr0.5:0.421429\teval-f1_score_thr0.6:0.337349\teval-f1_score_thr0.7:0.183486\n",
      "[00:10:09] /workspace/src/tree/updater_prune.cc:74: tree pruning end, 1 roots, 14 extra nodes, 0 pruned nodes, max_depth=3\n",
      "[97]\teval-auc:0.933757\teval-f1_score_thr0.2:0.542443\teval-f1_score_thr0.3:0.554156\teval-f1_score_thr0.4:0.51497\teval-f1_score_thr0.5:0.431095\teval-f1_score_thr0.6:0.337349\teval-f1_score_thr0.7:0.191781\n",
      "[00:10:09] /workspace/src/tree/updater_prune.cc:74: tree pruning end, 1 roots, 14 extra nodes, 0 pruned nodes, max_depth=3\n",
      "[98]\teval-auc:0.933872\teval-f1_score_thr0.2:0.541322\teval-f1_score_thr0.3:0.556391\teval-f1_score_thr0.4:0.513433\teval-f1_score_thr0.5:0.431095\teval-f1_score_thr0.6:0.337349\teval-f1_score_thr0.7:0.216216\n",
      "[00:10:09] /workspace/src/tree/updater_prune.cc:74: tree pruning end, 1 roots, 14 extra nodes, 0 pruned nodes, max_depth=3\n",
      "[99]\teval-auc:0.934016\teval-f1_score_thr0.2:0.542443\teval-f1_score_thr0.3:0.555\teval-f1_score_thr0.4:0.51497\teval-f1_score_thr0.5:0.431095\teval-f1_score_thr0.6:0.336\teval-f1_score_thr0.7:0.216216\n",
      "[00:10:09] /workspace/src/tree/updater_prune.cc:74: tree pruning end, 1 roots, 14 extra nodes, 0 pruned nodes, max_depth=3\n",
      "[100]\teval-auc:0.934085\teval-f1_score_thr0.2:0.543568\teval-f1_score_thr0.3:0.551378\teval-f1_score_thr0.4:0.51497\teval-f1_score_thr0.5:0.431095\teval-f1_score_thr0.6:0.349206\teval-f1_score_thr0.7:0.2\n",
      "[00:10:09] /workspace/src/tree/updater_prune.cc:74: tree pruning end, 1 roots, 14 extra nodes, 0 pruned nodes, max_depth=3\n",
      "[101]\teval-auc:0.934058\teval-f1_score_thr0.2:0.538302\teval-f1_score_thr0.3:0.552764\teval-f1_score_thr0.4:0.51497\teval-f1_score_thr0.5:0.429577\teval-f1_score_thr0.6:0.350598\teval-f1_score_thr0.7:0.191781\n",
      "[00:10:09] /workspace/src/tree/updater_prune.cc:74: tree pruning end, 1 roots, 14 extra nodes, 0 pruned nodes, max_depth=3\n",
      "[102]\teval-auc:0.934098\teval-f1_score_thr0.2:0.53719\teval-f1_score_thr0.3:0.554156\teval-f1_score_thr0.4:0.51497\teval-f1_score_thr0.5:0.429577\teval-f1_score_thr0.6:0.350598\teval-f1_score_thr0.7:0.191781\n",
      "[00:10:09] /workspace/src/tree/updater_prune.cc:74: tree pruning end, 1 roots, 14 extra nodes, 0 pruned nodes, max_depth=3\n",
      "[103]\teval-auc:0.934151\teval-f1_score_thr0.2:0.542443\teval-f1_score_thr0.3:0.555556\teval-f1_score_thr0.4:0.51497\teval-f1_score_thr0.5:0.424028\teval-f1_score_thr0.6:0.347826\teval-f1_score_thr0.7:0.2\n",
      "[00:10:09] /workspace/src/tree/updater_prune.cc:74: tree pruning end, 1 roots, 14 extra nodes, 0 pruned nodes, max_depth=3\n",
      "[104]\teval-auc:0.934244\teval-f1_score_thr0.2:0.540206\teval-f1_score_thr0.3:0.555556\teval-f1_score_thr0.4:0.51497\teval-f1_score_thr0.5:0.429577\teval-f1_score_thr0.6:0.347826\teval-f1_score_thr0.7:0.208145\n",
      "[00:10:09] /workspace/src/tree/updater_prune.cc:74: tree pruning end, 1 roots, 14 extra nodes, 0 pruned nodes, max_depth=3\n",
      "[105]\teval-auc:0.934381\teval-f1_score_thr0.2:0.536082\teval-f1_score_thr0.3:0.558376\teval-f1_score_thr0.4:0.51497\teval-f1_score_thr0.5:0.429577\teval-f1_score_thr0.6:0.347826\teval-f1_score_thr0.7:0.208145\n",
      "[00:10:09] /workspace/src/tree/updater_prune.cc:74: tree pruning end, 1 roots, 14 extra nodes, 0 pruned nodes, max_depth=3\n",
      "[106]\teval-auc:0.934452\teval-f1_score_thr0.2:0.540206\teval-f1_score_thr0.3:0.558376\teval-f1_score_thr0.4:0.516517\teval-f1_score_thr0.5:0.429577\teval-f1_score_thr0.6:0.347826\teval-f1_score_thr0.7:0.216216\n",
      "[00:10:10] /workspace/src/tree/updater_prune.cc:74: tree pruning end, 1 roots, 14 extra nodes, 0 pruned nodes, max_depth=3\n",
      "[107]\teval-auc:0.934455\teval-f1_score_thr0.2:0.541322\teval-f1_score_thr0.3:0.562025\teval-f1_score_thr0.4:0.51497\teval-f1_score_thr0.5:0.42807\teval-f1_score_thr0.6:0.355731\teval-f1_score_thr0.7:0.208145\n",
      "[00:10:10] /workspace/src/tree/updater_prune.cc:74: tree pruning end, 1 roots, 14 extra nodes, 0 pruned nodes, max_depth=3\n",
      "[108]\teval-auc:0.934542\teval-f1_score_thr0.2:0.543568\teval-f1_score_thr0.3:0.560606\teval-f1_score_thr0.4:0.519403\teval-f1_score_thr0.5:0.426573\teval-f1_score_thr0.6:0.355731\teval-f1_score_thr0.7:0.208145\n",
      "[00:10:10] /workspace/src/tree/updater_prune.cc:74: tree pruning end, 1 roots, 14 extra nodes, 0 pruned nodes, max_depth=3\n",
      "[109]\teval-auc:0.934579\teval-f1_score_thr0.2:0.540206\teval-f1_score_thr0.3:0.565657\teval-f1_score_thr0.4:0.517857\teval-f1_score_thr0.5:0.425087\teval-f1_score_thr0.6:0.362205\teval-f1_score_thr0.7:0.216216\n",
      "[00:10:10] /workspace/src/tree/updater_prune.cc:74: tree pruning end, 1 roots, 14 extra nodes, 0 pruned nodes, max_depth=3\n",
      "[110]\teval-auc:0.934643\teval-f1_score_thr0.2:0.539095\teval-f1_score_thr0.3:0.562025\teval-f1_score_thr0.4:0.51632\teval-f1_score_thr0.5:0.425087\teval-f1_score_thr0.6:0.362205\teval-f1_score_thr0.7:0.216216\n",
      "[00:10:10] /workspace/src/tree/updater_prune.cc:74: tree pruning end, 1 roots, 14 extra nodes, 0 pruned nodes, max_depth=3\n",
      "[111]\teval-auc:0.934594\teval-f1_score_thr0.2:0.539095\teval-f1_score_thr0.3:0.556962\teval-f1_score_thr0.4:0.525074\teval-f1_score_thr0.5:0.418118\teval-f1_score_thr0.6:0.362205\teval-f1_score_thr0.7:0.216216\n",
      "[00:10:10] /workspace/src/tree/updater_prune.cc:74: tree pruning end, 1 roots, 14 extra nodes, 0 pruned nodes, max_depth=3\n",
      "[112]\teval-auc:0.93444\teval-f1_score_thr0.2:0.539095\teval-f1_score_thr0.3:0.556962\teval-f1_score_thr0.4:0.52071\teval-f1_score_thr0.5:0.425087\teval-f1_score_thr0.6:0.362205\teval-f1_score_thr0.7:0.208145\n",
      "[00:10:10] /workspace/src/tree/updater_prune.cc:74: tree pruning end, 1 roots, 14 extra nodes, 0 pruned nodes, max_depth=3\n",
      "[113]\teval-auc:0.934225\teval-f1_score_thr0.2:0.540206\teval-f1_score_thr0.3:0.556962\teval-f1_score_thr0.4:0.51632\teval-f1_score_thr0.5:0.425087\teval-f1_score_thr0.6:0.362205\teval-f1_score_thr0.7:0.208145\n",
      "[00:10:10] /workspace/src/tree/updater_prune.cc:74: tree pruning end, 1 roots, 14 extra nodes, 0 pruned nodes, max_depth=3\n",
      "[114]\teval-auc:0.934175\teval-f1_score_thr0.2:0.541322\teval-f1_score_thr0.3:0.564232\teval-f1_score_thr0.4:0.52071\teval-f1_score_thr0.5:0.41958\teval-f1_score_thr0.6:0.362205\teval-f1_score_thr0.7:0.208145\n",
      "[00:10:10] /workspace/src/tree/updater_prune.cc:74: tree pruning end, 1 roots, 14 extra nodes, 0 pruned nodes, max_depth=3\n",
      "[115]\teval-auc:0.933942\teval-f1_score_thr0.2:0.541322\teval-f1_score_thr0.3:0.564232\teval-f1_score_thr0.4:0.525074\teval-f1_score_thr0.5:0.41958\teval-f1_score_thr0.6:0.362205\teval-f1_score_thr0.7:0.208145\n",
      "[00:10:10] /workspace/src/tree/updater_prune.cc:74: tree pruning end, 1 roots, 14 extra nodes, 0 pruned nodes, max_depth=3\n",
      "[116]\teval-auc:0.93419\teval-f1_score_thr0.2:0.541322\teval-f1_score_thr0.3:0.562814\teval-f1_score_thr0.4:0.51632\teval-f1_score_thr0.5:0.41958\teval-f1_score_thr0.6:0.367188\teval-f1_score_thr0.7:0.208145\n",
      "[00:10:10] /workspace/src/tree/updater_prune.cc:74: tree pruning end, 1 roots, 14 extra nodes, 0 pruned nodes, max_depth=3\n",
      "[117]\teval-auc:0.934025\teval-f1_score_thr0.2:0.540206\teval-f1_score_thr0.3:0.562814\teval-f1_score_thr0.4:0.51632\teval-f1_score_thr0.5:0.41958\teval-f1_score_thr0.6:0.367188\teval-f1_score_thr0.7:0.208145\n",
      "[00:10:10] /workspace/src/tree/updater_prune.cc:74: tree pruning end, 1 roots, 14 extra nodes, 0 pruned nodes, max_depth=3\n"
     ]
    },
    {
     "name": "stdout",
     "output_type": "stream",
     "text": [
      "[118]\teval-auc:0.934053\teval-f1_score_thr0.2:0.539095\teval-f1_score_thr0.3:0.564232\teval-f1_score_thr0.4:0.530973\teval-f1_score_thr0.5:0.426573\teval-f1_score_thr0.6:0.375\teval-f1_score_thr0.7:0.2\n",
      "[00:10:10] /workspace/src/tree/updater_prune.cc:74: tree pruning end, 1 roots, 14 extra nodes, 0 pruned nodes, max_depth=3\n",
      "[119]\teval-auc:0.934188\teval-f1_score_thr0.2:0.540206\teval-f1_score_thr0.3:0.562025\teval-f1_score_thr0.4:0.530973\teval-f1_score_thr0.5:0.425087\teval-f1_score_thr0.6:0.381323\teval-f1_score_thr0.7:0.208145\n",
      "[00:10:11] /workspace/src/tree/updater_prune.cc:74: tree pruning end, 1 roots, 14 extra nodes, 0 pruned nodes, max_depth=3\n",
      "[120]\teval-auc:0.934316\teval-f1_score_thr0.2:0.541322\teval-f1_score_thr0.3:0.565657\teval-f1_score_thr0.4:0.529412\teval-f1_score_thr0.5:0.425087\teval-f1_score_thr0.6:0.381323\teval-f1_score_thr0.7:0.208145\n",
      "[00:10:11] /workspace/src/tree/updater_prune.cc:74: tree pruning end, 1 roots, 14 extra nodes, 0 pruned nodes, max_depth=3\n",
      "[121]\teval-auc:0.934496\teval-f1_score_thr0.2:0.540206\teval-f1_score_thr0.3:0.562025\teval-f1_score_thr0.4:0.530973\teval-f1_score_thr0.5:0.425087\teval-f1_score_thr0.6:0.375\teval-f1_score_thr0.7:0.216216\n",
      "[00:10:11] /workspace/src/tree/updater_prune.cc:74: tree pruning end, 1 roots, 14 extra nodes, 0 pruned nodes, max_depth=3\n",
      "[122]\teval-auc:0.934268\teval-f1_score_thr0.2:0.539095\teval-f1_score_thr0.3:0.562025\teval-f1_score_thr0.4:0.526627\teval-f1_score_thr0.5:0.430556\teval-f1_score_thr0.6:0.375\teval-f1_score_thr0.7:0.224215\n",
      "[00:10:11] /workspace/src/tree/updater_prune.cc:74: tree pruning end, 1 roots, 14 extra nodes, 0 pruned nodes, max_depth=3\n",
      "[123]\teval-auc:0.934231\teval-f1_score_thr0.2:0.539095\teval-f1_score_thr0.3:0.564885\teval-f1_score_thr0.4:0.526627\teval-f1_score_thr0.5:0.435986\teval-f1_score_thr0.6:0.381323\teval-f1_score_thr0.7:0.232143\n",
      "[00:10:11] /workspace/src/tree/updater_prune.cc:74: tree pruning end, 1 roots, 14 extra nodes, 0 pruned nodes, max_depth=3\n",
      "[124]\teval-auc:0.934315\teval-f1_score_thr0.2:0.540206\teval-f1_score_thr0.3:0.561224\teval-f1_score_thr0.4:0.530973\teval-f1_score_thr0.5:0.435986\teval-f1_score_thr0.6:0.381323\teval-f1_score_thr0.7:0.216216\n",
      "[00:10:11] /workspace/src/tree/updater_prune.cc:74: tree pruning end, 1 roots, 14 extra nodes, 0 pruned nodes, max_depth=3\n",
      "[125]\teval-auc:0.934307\teval-f1_score_thr0.2:0.540206\teval-f1_score_thr0.3:0.564885\teval-f1_score_thr0.4:0.526627\teval-f1_score_thr0.5:0.43299\teval-f1_score_thr0.6:0.387597\teval-f1_score_thr0.7:0.232143\n",
      "[00:10:11] /workspace/src/tree/updater_prune.cc:74: tree pruning end, 1 roots, 14 extra nodes, 0 pruned nodes, max_depth=3\n",
      "[126]\teval-auc:0.934425\teval-f1_score_thr0.2:0.539419\teval-f1_score_thr0.3:0.559796\teval-f1_score_thr0.4:0.52071\teval-f1_score_thr0.5:0.434483\teval-f1_score_thr0.6:0.379845\teval-f1_score_thr0.7:0.232143\n",
      "[00:10:11] /workspace/src/tree/updater_prune.cc:74: tree pruning end, 1 roots, 14 extra nodes, 0 pruned nodes, max_depth=3\n",
      "[127]\teval-auc:0.934427\teval-f1_score_thr0.2:0.545833\teval-f1_score_thr0.3:0.561224\teval-f1_score_thr0.4:0.52819\teval-f1_score_thr0.5:0.434483\teval-f1_score_thr0.6:0.379845\teval-f1_score_thr0.7:0.246696\n",
      "[00:10:11] /workspace/src/tree/updater_prune.cc:74: tree pruning end, 1 roots, 12 extra nodes, 0 pruned nodes, max_depth=3\n",
      "[128]\teval-auc:0.934355\teval-f1_score_thr0.2:0.541667\teval-f1_score_thr0.3:0.564885\teval-f1_score_thr0.4:0.526627\teval-f1_score_thr0.5:0.434483\teval-f1_score_thr0.6:0.381323\teval-f1_score_thr0.7:0.231111\n",
      "[00:10:11] /workspace/src/tree/updater_prune.cc:74: tree pruning end, 1 roots, 14 extra nodes, 0 pruned nodes, max_depth=3\n",
      "[129]\teval-auc:0.934439\teval-f1_score_thr0.2:0.542797\teval-f1_score_thr0.3:0.564885\teval-f1_score_thr0.4:0.525074\teval-f1_score_thr0.5:0.434483\teval-f1_score_thr0.6:0.381323\teval-f1_score_thr0.7:0.231111\n",
      "[00:10:11] /workspace/src/tree/updater_prune.cc:74: tree pruning end, 1 roots, 12 extra nodes, 0 pruned nodes, max_depth=3\n",
      "[130]\teval-auc:0.934469\teval-f1_score_thr0.2:0.542797\teval-f1_score_thr0.3:0.561224\teval-f1_score_thr0.4:0.525074\teval-f1_score_thr0.5:0.435986\teval-f1_score_thr0.6:0.379845\teval-f1_score_thr0.7:0.246696\n",
      "[00:10:11] /workspace/src/tree/updater_prune.cc:74: tree pruning end, 1 roots, 14 extra nodes, 0 pruned nodes, max_depth=3\n",
      "[131]\teval-auc:0.934481\teval-f1_score_thr0.2:0.543933\teval-f1_score_thr0.3:0.561224\teval-f1_score_thr0.4:0.525074\teval-f1_score_thr0.5:0.435986\teval-f1_score_thr0.6:0.379845\teval-f1_score_thr0.7:0.238938\n",
      "[00:10:11] /workspace/src/tree/updater_prune.cc:74: tree pruning end, 1 roots, 14 extra nodes, 0 pruned nodes, max_depth=3\n",
      "[132]\teval-auc:0.934367\teval-f1_score_thr0.2:0.545073\teval-f1_score_thr0.3:0.561224\teval-f1_score_thr0.4:0.52071\teval-f1_score_thr0.5:0.434483\teval-f1_score_thr0.6:0.379845\teval-f1_score_thr0.7:0.238938\n",
      "[00:10:12] /workspace/src/tree/updater_prune.cc:74: tree pruning end, 1 roots, 14 extra nodes, 0 pruned nodes, max_depth=3\n",
      "[133]\teval-auc:0.934316\teval-f1_score_thr0.2:0.541667\teval-f1_score_thr0.3:0.561224\teval-f1_score_thr0.4:0.521994\teval-f1_score_thr0.5:0.438356\teval-f1_score_thr0.6:0.379845\teval-f1_score_thr0.7:0.254386\n",
      "[00:10:12] /workspace/src/tree/updater_prune.cc:74: tree pruning end, 1 roots, 14 extra nodes, 0 pruned nodes, max_depth=3\n",
      "[134]\teval-auc:0.93437\teval-f1_score_thr0.2:0.541667\teval-f1_score_thr0.3:0.559796\teval-f1_score_thr0.4:0.521994\teval-f1_score_thr0.5:0.438356\teval-f1_score_thr0.6:0.379845\teval-f1_score_thr0.7:0.245614\n",
      "[00:10:12] /workspace/src/tree/updater_prune.cc:74: tree pruning end, 1 roots, 14 extra nodes, 0 pruned nodes, max_depth=3\n",
      "[135]\teval-auc:0.934768\teval-f1_score_thr0.2:0.5375\teval-f1_score_thr0.3:0.56266\teval-f1_score_thr0.4:0.521994\teval-f1_score_thr0.5:0.438356\teval-f1_score_thr0.6:0.379845\teval-f1_score_thr0.7:0.254386\n",
      "[00:10:12] /workspace/src/tree/updater_prune.cc:74: tree pruning end, 1 roots, 14 extra nodes, 0 pruned nodes, max_depth=3\n",
      "[136]\teval-auc:0.934689\teval-f1_score_thr0.2:0.540881\teval-f1_score_thr0.3:0.561224\teval-f1_score_thr0.4:0.517647\teval-f1_score_thr0.5:0.439863\teval-f1_score_thr0.6:0.379845\teval-f1_score_thr0.7:0.245614\n",
      "[00:10:12] /workspace/src/tree/updater_prune.cc:74: tree pruning end, 1 roots, 12 extra nodes, 0 pruned nodes, max_depth=3\n",
      "[137]\teval-auc:0.935122\teval-f1_score_thr0.2:0.542017\teval-f1_score_thr0.3:0.564103\teval-f1_score_thr0.4:0.521994\teval-f1_score_thr0.5:0.439863\teval-f1_score_thr0.6:0.379845\teval-f1_score_thr0.7:0.245614\n",
      "[00:10:12] /workspace/src/tree/updater_prune.cc:74: tree pruning end, 1 roots, 14 extra nodes, 0 pruned nodes, max_depth=3\n",
      "[138]\teval-auc:0.935089\teval-f1_score_thr0.2:0.544304\teval-f1_score_thr0.3:0.558376\teval-f1_score_thr0.4:0.516129\teval-f1_score_thr0.5:0.439863\teval-f1_score_thr0.6:0.381323\teval-f1_score_thr0.7:0.246696\n",
      "[00:10:12] /workspace/src/tree/updater_prune.cc:74: tree pruning end, 1 roots, 14 extra nodes, 0 pruned nodes, max_depth=3\n",
      "[139]\teval-auc:0.935067\teval-f1_score_thr0.2:0.542017\teval-f1_score_thr0.3:0.559796\teval-f1_score_thr0.4:0.526316\teval-f1_score_thr0.5:0.439863\teval-f1_score_thr0.6:0.379845\teval-f1_score_thr0.7:0.254386\n",
      "[00:10:12] /workspace/src/tree/updater_prune.cc:74: tree pruning end, 1 roots, 14 extra nodes, 0 pruned nodes, max_depth=3\n",
      "[140]\teval-auc:0.935171\teval-f1_score_thr0.2:0.545455\teval-f1_score_thr0.3:0.567089\teval-f1_score_thr0.4:0.513274\teval-f1_score_thr0.5:0.446735\teval-f1_score_thr0.6:0.381323\teval-f1_score_thr0.7:0.254386\n",
      "[00:10:12] /workspace/src/tree/updater_prune.cc:74: tree pruning end, 1 roots, 14 extra nodes, 0 pruned nodes, max_depth=3\n",
      "[141]\teval-auc:0.935206\teval-f1_score_thr0.2:0.545455\teval-f1_score_thr0.3:0.568528\teval-f1_score_thr0.4:0.511765\teval-f1_score_thr0.5:0.446735\teval-f1_score_thr0.6:0.381323\teval-f1_score_thr0.7:0.254386\n",
      "[00:10:12] /workspace/src/tree/updater_prune.cc:74: tree pruning end, 1 roots, 14 extra nodes, 0 pruned nodes, max_depth=3\n",
      "[142]\teval-auc:0.935664\teval-f1_score_thr0.2:0.54661\teval-f1_score_thr0.3:0.565657\teval-f1_score_thr0.4:0.514793\teval-f1_score_thr0.5:0.446735\teval-f1_score_thr0.6:0.381323\teval-f1_score_thr0.7:0.262009\n",
      "[00:10:12] /workspace/src/tree/updater_prune.cc:74: tree pruning end, 1 roots, 14 extra nodes, 0 pruned nodes, max_depth=3\n",
      "[143]\teval-auc:0.935663\teval-f1_score_thr0.2:0.543524\teval-f1_score_thr0.3:0.567089\teval-f1_score_thr0.4:0.513274\teval-f1_score_thr0.5:0.435986\teval-f1_score_thr0.6:0.381323\teval-f1_score_thr0.7:0.262009\n"
     ]
    },
    {
     "name": "stdout",
     "output_type": "stream",
     "text": [
      "[00:10:12] /workspace/src/tree/updater_prune.cc:74: tree pruning end, 1 roots, 14 extra nodes, 0 pruned nodes, max_depth=3\n",
      "[144]\teval-auc:0.935712\teval-f1_score_thr0.2:0.542373\teval-f1_score_thr0.3:0.568528\teval-f1_score_thr0.4:0.511765\teval-f1_score_thr0.5:0.44898\teval-f1_score_thr0.6:0.381323\teval-f1_score_thr0.7:0.268398\n",
      "[00:10:12] /workspace/src/tree/updater_prune.cc:74: tree pruning end, 1 roots, 12 extra nodes, 0 pruned nodes, max_depth=3\n",
      "[145]\teval-auc:0.935872\teval-f1_score_thr0.2:0.542373\teval-f1_score_thr0.3:0.568528\teval-f1_score_thr0.4:0.521994\teval-f1_score_thr0.5:0.443686\teval-f1_score_thr0.6:0.375\teval-f1_score_thr0.7:0.268398\n",
      "[00:10:13] /workspace/src/tree/updater_prune.cc:74: tree pruning end, 1 roots, 14 extra nodes, 0 pruned nodes, max_depth=3\n",
      "[146]\teval-auc:0.935862\teval-f1_score_thr0.2:0.541226\teval-f1_score_thr0.3:0.569975\teval-f1_score_thr0.4:0.521994\teval-f1_score_thr0.5:0.447458\teval-f1_score_thr0.6:0.375\teval-f1_score_thr0.7:0.26087\n",
      "[00:10:13] /workspace/src/tree/updater_prune.cc:74: tree pruning end, 1 roots, 12 extra nodes, 0 pruned nodes, max_depth=3\n",
      "[147]\teval-auc:0.935874\teval-f1_score_thr0.2:0.540084\teval-f1_score_thr0.3:0.564885\teval-f1_score_thr0.4:0.520468\teval-f1_score_thr0.5:0.44898\teval-f1_score_thr0.6:0.375\teval-f1_score_thr0.7:0.26087\n",
      "[00:10:13] /workspace/src/tree/updater_prune.cc:74: tree pruning end, 1 roots, 14 extra nodes, 0 pruned nodes, max_depth=3\n",
      "[148]\teval-auc:0.935832\teval-f1_score_thr0.2:0.542373\teval-f1_score_thr0.3:0.562025\teval-f1_score_thr0.4:0.520468\teval-f1_score_thr0.5:0.447458\teval-f1_score_thr0.6:0.375\teval-f1_score_thr0.7:0.26087\n",
      "[00:10:13] /workspace/src/tree/updater_prune.cc:74: tree pruning end, 1 roots, 14 extra nodes, 0 pruned nodes, max_depth=3\n",
      "[149]\teval-auc:0.935881\teval-f1_score_thr0.2:0.542373\teval-f1_score_thr0.3:0.562025\teval-f1_score_thr0.4:0.520468\teval-f1_score_thr0.5:0.454237\teval-f1_score_thr0.6:0.375\teval-f1_score_thr0.7:0.25974\n",
      "[00:10:13] /workspace/src/tree/updater_prune.cc:74: tree pruning end, 1 roots, 14 extra nodes, 0 pruned nodes, max_depth=3\n",
      "[150]\teval-auc:0.93581\teval-f1_score_thr0.2:0.542373\teval-f1_score_thr0.3:0.563452\teval-f1_score_thr0.4:0.520468\teval-f1_score_thr0.5:0.454237\teval-f1_score_thr0.6:0.372093\teval-f1_score_thr0.7:0.25974\n",
      "[00:10:13] /workspace/src/tree/updater_prune.cc:74: tree pruning end, 1 roots, 14 extra nodes, 0 pruned nodes, max_depth=3\n",
      "[151]\teval-auc:0.935684\teval-f1_score_thr0.2:0.539278\teval-f1_score_thr0.3:0.562025\teval-f1_score_thr0.4:0.524781\teval-f1_score_thr0.5:0.454237\teval-f1_score_thr0.6:0.372093\teval-f1_score_thr0.7:0.26087\n",
      "[00:10:13] /workspace/src/tree/updater_prune.cc:74: tree pruning end, 1 roots, 14 extra nodes, 0 pruned nodes, max_depth=3\n",
      "[152]\teval-auc:0.935803\teval-f1_score_thr0.2:0.536998\teval-f1_score_thr0.3:0.563452\teval-f1_score_thr0.4:0.51895\teval-f1_score_thr0.5:0.454237\teval-f1_score_thr0.6:0.364341\teval-f1_score_thr0.7:0.258621\n",
      "[00:10:13] /workspace/src/tree/updater_prune.cc:74: tree pruning end, 1 roots, 14 extra nodes, 0 pruned nodes, max_depth=3\n",
      "[153]\teval-auc:0.936044\teval-f1_score_thr0.2:0.541226\teval-f1_score_thr0.3:0.559796\teval-f1_score_thr0.4:0.524781\teval-f1_score_thr0.5:0.457912\teval-f1_score_thr0.6:0.372093\teval-f1_score_thr0.7:0.267241\n",
      "[00:10:13] /workspace/src/tree/updater_prune.cc:74: tree pruning end, 1 roots, 12 extra nodes, 0 pruned nodes, max_depth=3\n",
      "[154]\teval-auc:0.936063\teval-f1_score_thr0.2:0.541226\teval-f1_score_thr0.3:0.559796\teval-f1_score_thr0.4:0.523256\teval-f1_score_thr0.5:0.457912\teval-f1_score_thr0.6:0.372093\teval-f1_score_thr0.7:0.267241\n",
      "[00:10:13] /workspace/src/tree/updater_prune.cc:74: tree pruning end, 1 roots, 14 extra nodes, 0 pruned nodes, max_depth=3\n",
      "[155]\teval-auc:0.935992\teval-f1_score_thr0.2:0.538136\teval-f1_score_thr0.3:0.559796\teval-f1_score_thr0.4:0.523256\teval-f1_score_thr0.5:0.457912\teval-f1_score_thr0.6:0.372093\teval-f1_score_thr0.7:0.268398\n",
      "[00:10:13] /workspace/src/tree/updater_prune.cc:74: tree pruning end, 1 roots, 12 extra nodes, 0 pruned nodes, max_depth=3\n",
      "[156]\teval-auc:0.936287\teval-f1_score_thr0.2:0.542373\teval-f1_score_thr0.3:0.559796\teval-f1_score_thr0.4:0.524781\teval-f1_score_thr0.5:0.457912\teval-f1_score_thr0.6:0.370656\teval-f1_score_thr0.7:0.267241\n",
      "[00:10:13] /workspace/src/tree/updater_prune.cc:74: tree pruning end, 1 roots, 14 extra nodes, 0 pruned nodes, max_depth=3\n",
      "[157]\teval-auc:0.936341\teval-f1_score_thr0.2:0.542373\teval-f1_score_thr0.3:0.558376\teval-f1_score_thr0.4:0.524781\teval-f1_score_thr0.5:0.457912\teval-f1_score_thr0.6:0.372093\teval-f1_score_thr0.7:0.266094\n",
      "[00:10:13] /workspace/src/tree/updater_prune.cc:74: tree pruning end, 1 roots, 12 extra nodes, 0 pruned nodes, max_depth=3\n",
      "[158]\teval-auc:0.936375\teval-f1_score_thr0.2:0.543524\teval-f1_score_thr0.3:0.558376\teval-f1_score_thr0.4:0.524781\teval-f1_score_thr0.5:0.452703\teval-f1_score_thr0.6:0.370656\teval-f1_score_thr0.7:0.266094\n",
      "[00:10:14] /workspace/src/tree/updater_prune.cc:74: tree pruning end, 1 roots, 14 extra nodes, 0 pruned nodes, max_depth=3\n",
      "[159]\teval-auc:0.936384\teval-f1_score_thr0.2:0.54661\teval-f1_score_thr0.3:0.558376\teval-f1_score_thr0.4:0.526316\teval-f1_score_thr0.5:0.451178\teval-f1_score_thr0.6:0.383142\teval-f1_score_thr0.7:0.266094\n",
      "[00:10:14] /workspace/src/tree/updater_prune.cc:74: tree pruning end, 1 roots, 14 extra nodes, 0 pruned nodes, max_depth=3\n",
      "[160]\teval-auc:0.936312\teval-f1_score_thr0.2:0.539278\teval-f1_score_thr0.3:0.562025\teval-f1_score_thr0.4:0.523256\teval-f1_score_thr0.5:0.457912\teval-f1_score_thr0.6:0.383142\teval-f1_score_thr0.7:0.273504\n",
      "[00:10:14] /workspace/src/tree/updater_prune.cc:74: tree pruning end, 1 roots, 14 extra nodes, 0 pruned nodes, max_depth=3\n",
      "[161]\teval-auc:0.93669\teval-f1_score_thr0.2:0.542373\teval-f1_score_thr0.3:0.565657\teval-f1_score_thr0.4:0.526316\teval-f1_score_thr0.5:0.457912\teval-f1_score_thr0.6:0.383142\teval-f1_score_thr0.7:0.273504\n",
      "[00:10:14] /workspace/src/tree/updater_prune.cc:74: tree pruning end, 1 roots, 14 extra nodes, 0 pruned nodes, max_depth=3\n",
      "[162]\teval-auc:0.936773\teval-f1_score_thr0.2:0.541226\teval-f1_score_thr0.3:0.565657\teval-f1_score_thr0.4:0.523256\teval-f1_score_thr0.5:0.452703\teval-f1_score_thr0.6:0.383142\teval-f1_score_thr0.7:0.273504\n",
      "[00:10:14] /workspace/src/tree/updater_prune.cc:74: tree pruning end, 1 roots, 12 extra nodes, 0 pruned nodes, max_depth=3\n",
      "[163]\teval-auc:0.936717\teval-f1_score_thr0.2:0.541226\teval-f1_score_thr0.3:0.565657\teval-f1_score_thr0.4:0.52907\teval-f1_score_thr0.5:0.452703\teval-f1_score_thr0.6:0.383142\teval-f1_score_thr0.7:0.273504\n",
      "[00:10:14] /workspace/src/tree/updater_prune.cc:74: tree pruning end, 1 roots, 14 extra nodes, 0 pruned nodes, max_depth=3\n",
      "[164]\teval-auc:0.936817\teval-f1_score_thr0.2:0.542373\teval-f1_score_thr0.3:0.565657\teval-f1_score_thr0.4:0.52907\teval-f1_score_thr0.5:0.452703\teval-f1_score_thr0.6:0.383142\teval-f1_score_thr0.7:0.273504\n",
      "[00:10:14] /workspace/src/tree/updater_prune.cc:74: tree pruning end, 1 roots, 12 extra nodes, 0 pruned nodes, max_depth=3\n",
      "[165]\teval-auc:0.936826\teval-f1_score_thr0.2:0.542373\teval-f1_score_thr0.3:0.567089\teval-f1_score_thr0.4:0.52907\teval-f1_score_thr0.5:0.457912\teval-f1_score_thr0.6:0.383142\teval-f1_score_thr0.7:0.273504\n",
      "[00:10:14] /workspace/src/tree/updater_prune.cc:74: tree pruning end, 1 roots, 12 extra nodes, 0 pruned nodes, max_depth=3\n",
      "[166]\teval-auc:0.936916\teval-f1_score_thr0.2:0.543524\teval-f1_score_thr0.3:0.567089\teval-f1_score_thr0.4:0.52907\teval-f1_score_thr0.5:0.452703\teval-f1_score_thr0.6:0.381679\teval-f1_score_thr0.7:0.273504\n",
      "[00:10:14] /workspace/src/tree/updater_prune.cc:74: tree pruning end, 1 roots, 10 extra nodes, 0 pruned nodes, max_depth=3\n",
      "[167]\teval-auc:0.936872\teval-f1_score_thr0.2:0.542373\teval-f1_score_thr0.3:0.567089\teval-f1_score_thr0.4:0.52907\teval-f1_score_thr0.5:0.445946\teval-f1_score_thr0.6:0.375479\teval-f1_score_thr0.7:0.273504\n",
      "[00:10:14] /workspace/src/tree/updater_prune.cc:74: tree pruning end, 1 roots, 14 extra nodes, 0 pruned nodes, max_depth=3\n",
      "[168]\teval-auc:0.936913\teval-f1_score_thr0.2:0.543524\teval-f1_score_thr0.3:0.563452\teval-f1_score_thr0.4:0.52907\teval-f1_score_thr0.5:0.449664\teval-f1_score_thr0.6:0.381679\teval-f1_score_thr0.7:0.280851\n",
      "[00:10:14] /workspace/src/tree/updater_prune.cc:74: tree pruning end, 1 roots, 14 extra nodes, 0 pruned nodes, max_depth=3\n"
     ]
    },
    {
     "name": "stdout",
     "output_type": "stream",
     "text": [
      "[169]\teval-auc:0.93719\teval-f1_score_thr0.2:0.542373\teval-f1_score_thr0.3:0.564885\teval-f1_score_thr0.4:0.530612\teval-f1_score_thr0.5:0.449664\teval-f1_score_thr0.6:0.381679\teval-f1_score_thr0.7:0.280851\n",
      "[00:10:14] /workspace/src/tree/updater_prune.cc:74: tree pruning end, 1 roots, 12 extra nodes, 0 pruned nodes, max_depth=3\n",
      "[170]\teval-auc:0.93716\teval-f1_score_thr0.2:0.538136\teval-f1_score_thr0.3:0.564885\teval-f1_score_thr0.4:0.526316\teval-f1_score_thr0.5:0.449664\teval-f1_score_thr0.6:0.381679\teval-f1_score_thr0.7:0.280851\n",
      "[00:10:14] /workspace/src/tree/updater_prune.cc:74: tree pruning end, 1 roots, 12 extra nodes, 0 pruned nodes, max_depth=3\n",
      "[171]\teval-auc:0.937148\teval-f1_score_thr0.2:0.542373\teval-f1_score_thr0.3:0.564885\teval-f1_score_thr0.4:0.530612\teval-f1_score_thr0.5:0.449664\teval-f1_score_thr0.6:0.381679\teval-f1_score_thr0.7:0.280851\n",
      "[00:10:15] /workspace/src/tree/updater_prune.cc:74: tree pruning end, 1 roots, 14 extra nodes, 0 pruned nodes, max_depth=3\n",
      "[172]\teval-auc:0.937149\teval-f1_score_thr0.2:0.543524\teval-f1_score_thr0.3:0.564885\teval-f1_score_thr0.4:0.530612\teval-f1_score_thr0.5:0.454849\teval-f1_score_thr0.6:0.381679\teval-f1_score_thr0.7:0.273504\n",
      "[00:10:15] /workspace/src/tree/updater_prune.cc:74: tree pruning end, 1 roots, 14 extra nodes, 0 pruned nodes, max_depth=3\n",
      "[173]\teval-auc:0.937334\teval-f1_score_thr0.2:0.540426\teval-f1_score_thr0.3:0.564885\teval-f1_score_thr0.4:0.524781\teval-f1_score_thr0.5:0.456376\teval-f1_score_thr0.6:0.381679\teval-f1_score_thr0.7:0.280851\n",
      "[00:10:15] /workspace/src/tree/updater_prune.cc:74: tree pruning end, 1 roots, 14 extra nodes, 0 pruned nodes, max_depth=3\n",
      "[174]\teval-auc:0.937365\teval-f1_score_thr0.2:0.540426\teval-f1_score_thr0.3:0.564885\teval-f1_score_thr0.4:0.527536\teval-f1_score_thr0.5:0.451178\teval-f1_score_thr0.6:0.381679\teval-f1_score_thr0.7:0.280851\n",
      "[00:10:15] /workspace/src/tree/updater_prune.cc:74: tree pruning end, 1 roots, 10 extra nodes, 0 pruned nodes, max_depth=3\n",
      "[175]\teval-auc:0.937341\teval-f1_score_thr0.2:0.541578\teval-f1_score_thr0.3:0.564885\teval-f1_score_thr0.4:0.52907\teval-f1_score_thr0.5:0.451178\teval-f1_score_thr0.6:0.381679\teval-f1_score_thr0.7:0.288136\n",
      "[00:10:15] /workspace/src/tree/updater_prune.cc:74: tree pruning end, 1 roots, 12 extra nodes, 0 pruned nodes, max_depth=3\n",
      "[176]\teval-auc:0.937401\teval-f1_score_thr0.2:0.541578\teval-f1_score_thr0.3:0.564885\teval-f1_score_thr0.4:0.52907\teval-f1_score_thr0.5:0.451178\teval-f1_score_thr0.6:0.381679\teval-f1_score_thr0.7:0.288136\n",
      "[00:10:15] /workspace/src/tree/updater_prune.cc:74: tree pruning end, 1 roots, 14 extra nodes, 0 pruned nodes, max_depth=3\n",
      "[177]\teval-auc:0.937392\teval-f1_score_thr0.2:0.547771\teval-f1_score_thr0.3:0.564885\teval-f1_score_thr0.4:0.523529\teval-f1_score_thr0.5:0.451178\teval-f1_score_thr0.6:0.381679\teval-f1_score_thr0.7:0.273504\n",
      "[00:10:15] /workspace/src/tree/updater_prune.cc:74: tree pruning end, 1 roots, 14 extra nodes, 0 pruned nodes, max_depth=3\n",
      "[178]\teval-auc:0.937448\teval-f1_score_thr0.2:0.550847\teval-f1_score_thr0.3:0.564885\teval-f1_score_thr0.4:0.521994\teval-f1_score_thr0.5:0.451178\teval-f1_score_thr0.6:0.381679\teval-f1_score_thr0.7:0.273504\n",
      "[00:10:15] /workspace/src/tree/updater_prune.cc:74: tree pruning end, 1 roots, 10 extra nodes, 0 pruned nodes, max_depth=3\n",
      "[179]\teval-auc:0.937451\teval-f1_score_thr0.2:0.550847\teval-f1_score_thr0.3:0.564885\teval-f1_score_thr0.4:0.523529\teval-f1_score_thr0.5:0.456376\teval-f1_score_thr0.6:0.381679\teval-f1_score_thr0.7:0.273504\n",
      "[00:10:15] /workspace/src/tree/updater_prune.cc:74: tree pruning end, 1 roots, 12 extra nodes, 0 pruned nodes, max_depth=3\n",
      "[180]\teval-auc:0.937436\teval-f1_score_thr0.2:0.550847\teval-f1_score_thr0.3:0.564885\teval-f1_score_thr0.4:0.530612\teval-f1_score_thr0.5:0.456376\teval-f1_score_thr0.6:0.381679\teval-f1_score_thr0.7:0.273504\n",
      "[00:10:15] /workspace/src/tree/updater_prune.cc:74: tree pruning end, 1 roots, 14 extra nodes, 0 pruned nodes, max_depth=3\n",
      "[181]\teval-auc:0.937464\teval-f1_score_thr0.2:0.549683\teval-f1_score_thr0.3:0.564885\teval-f1_score_thr0.4:0.533333\teval-f1_score_thr0.5:0.451178\teval-f1_score_thr0.6:0.381679\teval-f1_score_thr0.7:0.280851\n",
      "[00:10:15] /workspace/src/tree/updater_prune.cc:74: tree pruning end, 1 roots, 12 extra nodes, 0 pruned nodes, max_depth=3\n",
      "[182]\teval-auc:0.9376\teval-f1_score_thr0.2:0.549683\teval-f1_score_thr0.3:0.564885\teval-f1_score_thr0.4:0.533333\teval-f1_score_thr0.5:0.451178\teval-f1_score_thr0.6:0.381679\teval-f1_score_thr0.7:0.280851\n",
      "[00:10:15] /workspace/src/tree/updater_prune.cc:74: tree pruning end, 1 roots, 14 extra nodes, 0 pruned nodes, max_depth=3\n",
      "[183]\teval-auc:0.937635\teval-f1_score_thr0.2:0.545455\teval-f1_score_thr0.3:0.563452\teval-f1_score_thr0.4:0.531792\teval-f1_score_thr0.5:0.451178\teval-f1_score_thr0.6:0.386364\teval-f1_score_thr0.7:0.295359\n",
      "[00:10:15] /workspace/src/tree/updater_prune.cc:74: tree pruning end, 1 roots, 12 extra nodes, 0 pruned nodes, max_depth=3\n",
      "[184]\teval-auc:0.937542\teval-f1_score_thr0.2:0.54661\teval-f1_score_thr0.3:0.564885\teval-f1_score_thr0.4:0.537572\teval-f1_score_thr0.5:0.451178\teval-f1_score_thr0.6:0.386364\teval-f1_score_thr0.7:0.295359\n",
      "[00:10:16] /workspace/src/tree/updater_prune.cc:74: tree pruning end, 1 roots, 14 extra nodes, 0 pruned nodes, max_depth=3\n",
      "[185]\teval-auc:0.937513\teval-f1_score_thr0.2:0.54661\teval-f1_score_thr0.3:0.563452\teval-f1_score_thr0.4:0.54023\teval-f1_score_thr0.5:0.451178\teval-f1_score_thr0.6:0.386364\teval-f1_score_thr0.7:0.295359\n",
      "[00:10:16] /workspace/src/tree/updater_prune.cc:74: tree pruning end, 1 roots, 14 extra nodes, 0 pruned nodes, max_depth=3\n",
      "[186]\teval-auc:0.937549\teval-f1_score_thr0.2:0.545455\teval-f1_score_thr0.3:0.563452\teval-f1_score_thr0.4:0.537572\teval-f1_score_thr0.5:0.456376\teval-f1_score_thr0.6:0.386364\teval-f1_score_thr0.7:0.295359\n",
      "[00:10:16] /workspace/src/tree/updater_prune.cc:74: tree pruning end, 1 roots, 14 extra nodes, 0 pruned nodes, max_depth=3\n",
      "[187]\teval-auc:0.93778\teval-f1_score_thr0.2:0.542373\teval-f1_score_thr0.3:0.566327\teval-f1_score_thr0.4:0.536023\teval-f1_score_thr0.5:0.456376\teval-f1_score_thr0.6:0.386364\teval-f1_score_thr0.7:0.295359\n",
      "[00:10:16] /workspace/src/tree/updater_prune.cc:74: tree pruning end, 1 roots, 14 extra nodes, 0 pruned nodes, max_depth=3\n",
      "[188]\teval-auc:0.937809\teval-f1_score_thr0.2:0.542373\teval-f1_score_thr0.3:0.566327\teval-f1_score_thr0.4:0.537572\teval-f1_score_thr0.5:0.456376\teval-f1_score_thr0.6:0.386364\teval-f1_score_thr0.7:0.295359\n",
      "[00:10:16] /workspace/src/tree/updater_prune.cc:74: tree pruning end, 1 roots, 12 extra nodes, 0 pruned nodes, max_depth=3\n",
      "[189]\teval-auc:0.937839\teval-f1_score_thr0.2:0.542373\teval-f1_score_thr0.3:0.562025\teval-f1_score_thr0.4:0.543353\teval-f1_score_thr0.5:0.456376\teval-f1_score_thr0.6:0.392453\teval-f1_score_thr0.7:0.295359\n",
      "[00:10:16] /workspace/src/tree/updater_prune.cc:74: tree pruning end, 1 roots, 14 extra nodes, 0 pruned nodes, max_depth=3\n",
      "[190]\teval-auc:0.937767\teval-f1_score_thr0.2:0.545455\teval-f1_score_thr0.3:0.562025\teval-f1_score_thr0.4:0.534483\teval-f1_score_thr0.5:0.456376\teval-f1_score_thr0.6:0.392453\teval-f1_score_thr0.7:0.302521\n",
      "[00:10:16] /workspace/src/tree/updater_prune.cc:74: tree pruning end, 1 roots, 10 extra nodes, 0 pruned nodes, max_depth=3\n",
      "[191]\teval-auc:0.937665\teval-f1_score_thr0.2:0.545455\teval-f1_score_thr0.3:0.562025\teval-f1_score_thr0.4:0.530259\teval-f1_score_thr0.5:0.456376\teval-f1_score_thr0.6:0.392453\teval-f1_score_thr0.7:0.302521\n",
      "[00:10:16] /workspace/src/tree/updater_prune.cc:74: tree pruning end, 1 roots, 14 extra nodes, 0 pruned nodes, max_depth=3\n",
      "[192]\teval-auc:0.93781\teval-f1_score_thr0.2:0.545455\teval-f1_score_thr0.3:0.562025\teval-f1_score_thr0.4:0.54023\teval-f1_score_thr0.5:0.454849\teval-f1_score_thr0.6:0.398496\teval-f1_score_thr0.7:0.302521\n",
      "[00:10:16] /workspace/src/tree/updater_prune.cc:74: tree pruning end, 1 roots, 12 extra nodes, 0 pruned nodes, max_depth=3\n",
      "[193]\teval-auc:0.937831\teval-f1_score_thr0.2:0.54661\teval-f1_score_thr0.3:0.563452\teval-f1_score_thr0.4:0.53913\teval-f1_score_thr0.5:0.454849\teval-f1_score_thr0.6:0.398496\teval-f1_score_thr0.7:0.309623\n",
      "[00:10:16] /workspace/src/tree/updater_prune.cc:74: tree pruning end, 1 roots, 14 extra nodes, 0 pruned nodes, max_depth=3\n",
      "[194]\teval-auc:0.937999\teval-f1_score_thr0.2:0.544304\teval-f1_score_thr0.3:0.566327\teval-f1_score_thr0.4:0.541787\teval-f1_score_thr0.5:0.456376\teval-f1_score_thr0.6:0.404494\teval-f1_score_thr0.7:0.302521\n"
     ]
    },
    {
     "name": "stdout",
     "output_type": "stream",
     "text": [
      "[00:10:16] /workspace/src/tree/updater_prune.cc:74: tree pruning end, 1 roots, 14 extra nodes, 0 pruned nodes, max_depth=3\n",
      "[195]\teval-auc:0.938018\teval-f1_score_thr0.2:0.544304\teval-f1_score_thr0.3:0.569231\teval-f1_score_thr0.4:0.530612\teval-f1_score_thr0.5:0.456376\teval-f1_score_thr0.6:0.404494\teval-f1_score_thr0.7:0.302521\n",
      "[00:10:16] /workspace/src/tree/updater_prune.cc:74: tree pruning end, 1 roots, 14 extra nodes, 0 pruned nodes, max_depth=3\n",
      "[196]\teval-auc:0.938173\teval-f1_score_thr0.2:0.545455\teval-f1_score_thr0.3:0.564885\teval-f1_score_thr0.4:0.536443\teval-f1_score_thr0.5:0.456376\teval-f1_score_thr0.6:0.398496\teval-f1_score_thr0.7:0.294118\n",
      "[00:10:16] /workspace/src/tree/updater_prune.cc:74: tree pruning end, 1 roots, 10 extra nodes, 0 pruned nodes, max_depth=3\n",
      "[197]\teval-auc:0.938063\teval-f1_score_thr0.2:0.545455\teval-f1_score_thr0.3:0.564885\teval-f1_score_thr0.4:0.536443\teval-f1_score_thr0.5:0.456376\teval-f1_score_thr0.6:0.398496\teval-f1_score_thr0.7:0.294118\n",
      "[00:10:17] /workspace/src/tree/updater_prune.cc:74: tree pruning end, 1 roots, 14 extra nodes, 0 pruned nodes, max_depth=3\n",
      "[198]\teval-auc:0.938053\teval-f1_score_thr0.2:0.545455\teval-f1_score_thr0.3:0.566327\teval-f1_score_thr0.4:0.534884\teval-f1_score_thr0.5:0.461538\teval-f1_score_thr0.6:0.404494\teval-f1_score_thr0.7:0.294118\n",
      "[00:10:17] /workspace/src/tree/updater_prune.cc:74: tree pruning end, 1 roots, 12 extra nodes, 0 pruned nodes, max_depth=3\n",
      "[199]\teval-auc:0.938132\teval-f1_score_thr0.2:0.544304\teval-f1_score_thr0.3:0.566327\teval-f1_score_thr0.4:0.540698\teval-f1_score_thr0.5:0.463087\teval-f1_score_thr0.6:0.410448\teval-f1_score_thr0.7:0.28692\n",
      "                       Feature  Importance\n",
      "0                  DIAS_ATRASO    0.051901\n",
      "1    MIN_R_BAL_BY_CRED_LIM_06M    0.033626\n",
      "2  AVG_MAX_DIAS_PARA_PAGO_U06M    0.026316\n",
      "3                        DS_CL    0.025585\n",
      "4    AVG_R_BAL_BY_CRED_LIM_12M    0.022661\n"
     ]
    },
    {
     "data": {
      "text/html": [
       "<div>\n",
       "<style scoped>\n",
       "    .dataframe tbody tr th:only-of-type {\n",
       "        vertical-align: middle;\n",
       "    }\n",
       "\n",
       "    .dataframe tbody tr th {\n",
       "        vertical-align: top;\n",
       "    }\n",
       "\n",
       "    .dataframe thead th {\n",
       "        text-align: right;\n",
       "    }\n",
       "</style>\n",
       "<table border=\"1\" class=\"dataframe\">\n",
       "  <thead>\n",
       "    <tr style=\"text-align: right;\">\n",
       "      <th></th>\n",
       "      <th>Feature</th>\n",
       "      <th>Importance</th>\n",
       "    </tr>\n",
       "  </thead>\n",
       "  <tbody>\n",
       "    <tr>\n",
       "      <th>0</th>\n",
       "      <td>DIAS_ATRASO</td>\n",
       "      <td>0.051901</td>\n",
       "    </tr>\n",
       "    <tr>\n",
       "      <th>1</th>\n",
       "      <td>MIN_R_BAL_BY_CRED_LIM_06M</td>\n",
       "      <td>0.033626</td>\n",
       "    </tr>\n",
       "    <tr>\n",
       "      <th>2</th>\n",
       "      <td>AVG_MAX_DIAS_PARA_PAGO_U06M</td>\n",
       "      <td>0.026316</td>\n",
       "    </tr>\n",
       "    <tr>\n",
       "      <th>3</th>\n",
       "      <td>DS_CL</td>\n",
       "      <td>0.025585</td>\n",
       "    </tr>\n",
       "    <tr>\n",
       "      <th>4</th>\n",
       "      <td>AVG_R_BAL_BY_CRED_LIM_12M</td>\n",
       "      <td>0.022661</td>\n",
       "    </tr>\n",
       "    <tr>\n",
       "      <th>5</th>\n",
       "      <td>AVG_VENC1M_OP_ACC_03M</td>\n",
       "      <td>0.021930</td>\n",
       "    </tr>\n",
       "    <tr>\n",
       "      <th>6</th>\n",
       "      <td>MIN_AVG2_VP_PER_U03M_2</td>\n",
       "      <td>0.018275</td>\n",
       "    </tr>\n",
       "    <tr>\n",
       "      <th>7</th>\n",
       "      <td>MAX_VP_MES_2</td>\n",
       "      <td>0.017544</td>\n",
       "    </tr>\n",
       "    <tr>\n",
       "      <th>8</th>\n",
       "      <td>MIN_R_BAL_BY_MAX_BAL_06M</td>\n",
       "      <td>0.017544</td>\n",
       "    </tr>\n",
       "    <tr>\n",
       "      <th>9</th>\n",
       "      <td>DEUDA_TOT</td>\n",
       "      <td>0.016813</td>\n",
       "    </tr>\n",
       "    <tr>\n",
       "      <th>10</th>\n",
       "      <td>AVG_PND_MAS_R_BAL_BY_CRED_LIM_12M</td>\n",
       "      <td>0.013158</td>\n",
       "    </tr>\n",
       "    <tr>\n",
       "      <th>11</th>\n",
       "      <td>AVG_PND_MENOS_R_BAL_BY_CRED_LIM_12M</td>\n",
       "      <td>0.013158</td>\n",
       "    </tr>\n",
       "    <tr>\n",
       "      <th>12</th>\n",
       "      <td>MIN_MS_OP_BRG_R_OP_ACC</td>\n",
       "      <td>0.013158</td>\n",
       "    </tr>\n",
       "    <tr>\n",
       "      <th>13</th>\n",
       "      <td>AVG_PND_MAS_AVG_HI_CALCAR_FLOOR_12M</td>\n",
       "      <td>0.012427</td>\n",
       "    </tr>\n",
       "    <tr>\n",
       "      <th>14</th>\n",
       "      <td>AVG_VENC1M_BRG_OP_ACC_03M</td>\n",
       "      <td>0.011696</td>\n",
       "    </tr>\n",
       "    <tr>\n",
       "      <th>15</th>\n",
       "      <td>NUM_VIGENTEH_12M</td>\n",
       "      <td>0.010965</td>\n",
       "    </tr>\n",
       "    <tr>\n",
       "      <th>16</th>\n",
       "      <td>SUM_PAGOREALIZADO_PERIODO</td>\n",
       "      <td>0.010965</td>\n",
       "    </tr>\n",
       "    <tr>\n",
       "      <th>17</th>\n",
       "      <td>MS_OP</td>\n",
       "      <td>0.010965</td>\n",
       "    </tr>\n",
       "    <tr>\n",
       "      <th>18</th>\n",
       "      <td>MAX_MS_CL_CL_ACC</td>\n",
       "      <td>0.010965</td>\n",
       "    </tr>\n",
       "    <tr>\n",
       "      <th>19</th>\n",
       "      <td>MAX_R_BAL_BY_MAX_BAL_03M</td>\n",
       "      <td>0.010965</td>\n",
       "    </tr>\n",
       "    <tr>\n",
       "      <th>20</th>\n",
       "      <td>PCT_OP_ACC</td>\n",
       "      <td>0.010965</td>\n",
       "    </tr>\n",
       "    <tr>\n",
       "      <th>21</th>\n",
       "      <td>AVG_AVG2_VP_PER_U03M</td>\n",
       "      <td>0.010234</td>\n",
       "    </tr>\n",
       "    <tr>\n",
       "      <th>22</th>\n",
       "      <td>MAX_MAX_DIAS_PARA_PAGO_U03M</td>\n",
       "      <td>0.010234</td>\n",
       "    </tr>\n",
       "    <tr>\n",
       "      <th>23</th>\n",
       "      <td>R_BAL_BY_CRED_LIM</td>\n",
       "      <td>0.009503</td>\n",
       "    </tr>\n",
       "    <tr>\n",
       "      <th>24</th>\n",
       "      <td>MAX_R_BAL_BY_CRED_LIM_03M</td>\n",
       "      <td>0.008772</td>\n",
       "    </tr>\n",
       "    <tr>\n",
       "      <th>25</th>\n",
       "      <td>AVG_VENC30M_BK_OP_ACC_03M</td>\n",
       "      <td>0.008772</td>\n",
       "    </tr>\n",
       "    <tr>\n",
       "      <th>26</th>\n",
       "      <td>AVG_MAX_VP_MES_U12M_2</td>\n",
       "      <td>0.008041</td>\n",
       "    </tr>\n",
       "    <tr>\n",
       "      <th>27</th>\n",
       "      <td>MAX_MS_CL_BK_CL_ACC</td>\n",
       "      <td>0.008041</td>\n",
       "    </tr>\n",
       "    <tr>\n",
       "      <th>28</th>\n",
       "      <td>MIN_R_BAL_BY_MAX_BAL_03M</td>\n",
       "      <td>0.008041</td>\n",
       "    </tr>\n",
       "    <tr>\n",
       "      <th>29</th>\n",
       "      <td>AVG_MS_OP_BRG_R_OP_ACC</td>\n",
       "      <td>0.008041</td>\n",
       "    </tr>\n",
       "    <tr>\n",
       "      <th>30</th>\n",
       "      <td>MIN_MS_OP_BRG_OP_ACC</td>\n",
       "      <td>0.007310</td>\n",
       "    </tr>\n",
       "    <tr>\n",
       "      <th>31</th>\n",
       "      <td>MAX_VENC59_BK_CS_OP_ACC_03M</td>\n",
       "      <td>0.007310</td>\n",
       "    </tr>\n",
       "    <tr>\n",
       "      <th>32</th>\n",
       "      <td>DPCV_INT</td>\n",
       "      <td>0.007310</td>\n",
       "    </tr>\n",
       "    <tr>\n",
       "      <th>33</th>\n",
       "      <td>AVG_MAX_DIAS_PARA_PAGO_U03M</td>\n",
       "      <td>0.007310</td>\n",
       "    </tr>\n",
       "    <tr>\n",
       "      <th>34</th>\n",
       "      <td>AVG_MS_OP_BK_R_OP_ACC</td>\n",
       "      <td>0.007310</td>\n",
       "    </tr>\n",
       "    <tr>\n",
       "      <th>35</th>\n",
       "      <td>AVG_PND_MAS_MAX_HI_CALCAR_L_03M</td>\n",
       "      <td>0.007310</td>\n",
       "    </tr>\n",
       "    <tr>\n",
       "      <th>36</th>\n",
       "      <td>AVG_PND_MENOS_AVG_HI_CALCAR_CEIL_03M</td>\n",
       "      <td>0.007310</td>\n",
       "    </tr>\n",
       "    <tr>\n",
       "      <th>37</th>\n",
       "      <td>MIN_BAL_12M</td>\n",
       "      <td>0.006579</td>\n",
       "    </tr>\n",
       "    <tr>\n",
       "      <th>38</th>\n",
       "      <td>DPCV_CAP</td>\n",
       "      <td>0.006579</td>\n",
       "    </tr>\n",
       "    <tr>\n",
       "      <th>39</th>\n",
       "      <td>AVG_R_BAL_BY_MAX_BAL_03M</td>\n",
       "      <td>0.006579</td>\n",
       "    </tr>\n",
       "    <tr>\n",
       "      <th>40</th>\n",
       "      <td>MAX_PCT_VENC30M_03M</td>\n",
       "      <td>0.006579</td>\n",
       "    </tr>\n",
       "    <tr>\n",
       "      <th>41</th>\n",
       "      <td>AVG2_VP_PER</td>\n",
       "      <td>0.006579</td>\n",
       "    </tr>\n",
       "    <tr>\n",
       "      <th>42</th>\n",
       "      <td>AVG2_VP_MES_2</td>\n",
       "      <td>0.006579</td>\n",
       "    </tr>\n",
       "    <tr>\n",
       "      <th>43</th>\n",
       "      <td>MIN_AVG2_VP_PER_U06M</td>\n",
       "      <td>0.006579</td>\n",
       "    </tr>\n",
       "    <tr>\n",
       "      <th>44</th>\n",
       "      <td>AVG_PCT_VENC89_12M</td>\n",
       "      <td>0.005848</td>\n",
       "    </tr>\n",
       "    <tr>\n",
       "      <th>45</th>\n",
       "      <td>MAX_MS_CL_BRG_CL_ACC</td>\n",
       "      <td>0.005848</td>\n",
       "    </tr>\n",
       "    <tr>\n",
       "      <th>46</th>\n",
       "      <td>DS_OL_CL</td>\n",
       "      <td>0.005848</td>\n",
       "    </tr>\n",
       "    <tr>\n",
       "      <th>47</th>\n",
       "      <td>SUM_PAGOREALIZADO_MES</td>\n",
       "      <td>0.005848</td>\n",
       "    </tr>\n",
       "    <tr>\n",
       "      <th>48</th>\n",
       "      <td>MIN_R_BAL_BY_CRED_LIM_12M</td>\n",
       "      <td>0.005848</td>\n",
       "    </tr>\n",
       "    <tr>\n",
       "      <th>49</th>\n",
       "      <td>AVG_PCT_VIGENTEC_BRG_R_OP_ACC</td>\n",
       "      <td>0.005848</td>\n",
       "    </tr>\n",
       "    <tr>\n",
       "      <th>50</th>\n",
       "      <td>PCT_BRG_OP_ACC</td>\n",
       "      <td>0.005848</td>\n",
       "    </tr>\n",
       "    <tr>\n",
       "      <th>51</th>\n",
       "      <td>NBK12_PCT_PROMT</td>\n",
       "      <td>0.005848</td>\n",
       "    </tr>\n",
       "    <tr>\n",
       "      <th>52</th>\n",
       "      <td>MAX_PCT_VENC1M_BRG_CS_OP_ACC_03M</td>\n",
       "      <td>0.005848</td>\n",
       "    </tr>\n",
       "    <tr>\n",
       "      <th>53</th>\n",
       "      <td>MAX_VENC1M_BRG_OP_ACC_03M</td>\n",
       "      <td>0.005848</td>\n",
       "    </tr>\n",
       "    <tr>\n",
       "      <th>54</th>\n",
       "      <td>MIN_AVG1_VP_MES_U03M</td>\n",
       "      <td>0.005848</td>\n",
       "    </tr>\n",
       "    <tr>\n",
       "      <th>55</th>\n",
       "      <td>AVG_MS_OP_BK_CS_OP_ACC</td>\n",
       "      <td>0.005117</td>\n",
       "    </tr>\n",
       "    <tr>\n",
       "      <th>56</th>\n",
       "      <td>MIN_R_BAL_BY_CRED_LIM_03M</td>\n",
       "      <td>0.005117</td>\n",
       "    </tr>\n",
       "    <tr>\n",
       "      <th>57</th>\n",
       "      <td>MAX_R_BAL_BY_CRED_LIM_12M</td>\n",
       "      <td>0.005117</td>\n",
       "    </tr>\n",
       "    <tr>\n",
       "      <th>58</th>\n",
       "      <td>AVG_PND_MAS_R_BAL_BY_MAX_BAL_06M</td>\n",
       "      <td>0.005117</td>\n",
       "    </tr>\n",
       "    <tr>\n",
       "      <th>59</th>\n",
       "      <td>AVG_MIN_VP_PER_U12M_2</td>\n",
       "      <td>0.005117</td>\n",
       "    </tr>\n",
       "    <tr>\n",
       "      <th>60</th>\n",
       "      <td>MAX_PCT_VENC30M_BRG_OP_ACC_03M</td>\n",
       "      <td>0.005117</td>\n",
       "    </tr>\n",
       "    <tr>\n",
       "      <th>61</th>\n",
       "      <td>AVG_PCT_VIGENTEC_BRG_R_OP_ACC_06M</td>\n",
       "      <td>0.005117</td>\n",
       "    </tr>\n",
       "    <tr>\n",
       "      <th>62</th>\n",
       "      <td>MAX_MIN_VP_MES_U06M</td>\n",
       "      <td>0.004386</td>\n",
       "    </tr>\n",
       "    <tr>\n",
       "      <th>63</th>\n",
       "      <td>MAX_SALINI_BK_CL_ACC</td>\n",
       "      <td>0.004386</td>\n",
       "    </tr>\n",
       "    <tr>\n",
       "      <th>64</th>\n",
       "      <td>BK_DEUDA_CP</td>\n",
       "      <td>0.004386</td>\n",
       "    </tr>\n",
       "    <tr>\n",
       "      <th>65</th>\n",
       "      <td>BK12_NUM_CRED</td>\n",
       "      <td>0.004386</td>\n",
       "    </tr>\n",
       "    <tr>\n",
       "      <th>66</th>\n",
       "      <td>MAX_VENC29_BRG_OP_ACC_03M</td>\n",
       "      <td>0.004386</td>\n",
       "    </tr>\n",
       "    <tr>\n",
       "      <th>67</th>\n",
       "      <td>AVG_PND_MENOS_AVG_HI_CALCAR_FLOOR_12M</td>\n",
       "      <td>0.004386</td>\n",
       "    </tr>\n",
       "    <tr>\n",
       "      <th>68</th>\n",
       "      <td>AVG_PND_MAS_PCT_VENC59_03M</td>\n",
       "      <td>0.004386</td>\n",
       "    </tr>\n",
       "    <tr>\n",
       "      <th>69</th>\n",
       "      <td>AVG_MAX_VP_MES_U03M_2</td>\n",
       "      <td>0.004386</td>\n",
       "    </tr>\n",
       "    <tr>\n",
       "      <th>70</th>\n",
       "      <td>AVG_PND_MENOS_R_BAL_BY_MAX_BAL_12M</td>\n",
       "      <td>0.004386</td>\n",
       "    </tr>\n",
       "    <tr>\n",
       "      <th>71</th>\n",
       "      <td>MAX_MAX_VP_MES_U03M_2</td>\n",
       "      <td>0.004386</td>\n",
       "    </tr>\n",
       "    <tr>\n",
       "      <th>72</th>\n",
       "      <td>MIN_SALINI_BK_CL_ACC_06M</td>\n",
       "      <td>0.004386</td>\n",
       "    </tr>\n",
       "    <tr>\n",
       "      <th>73</th>\n",
       "      <td>AVG_PCT_VENC1M_BRG_OP_ACC</td>\n",
       "      <td>0.003655</td>\n",
       "    </tr>\n",
       "    <tr>\n",
       "      <th>74</th>\n",
       "      <td>MAX_PCT_VENC89_BK_OP_ACC_06M</td>\n",
       "      <td>0.003655</td>\n",
       "    </tr>\n",
       "    <tr>\n",
       "      <th>75</th>\n",
       "      <td>AVG_AVG2_VP_MES_U03M_2</td>\n",
       "      <td>0.003655</td>\n",
       "    </tr>\n",
       "    <tr>\n",
       "      <th>76</th>\n",
       "      <td>MIN_VIGENTEH_06M</td>\n",
       "      <td>0.003655</td>\n",
       "    </tr>\n",
       "    <tr>\n",
       "      <th>77</th>\n",
       "      <td>AVG_MAX_HI_CALCAR_L_12M</td>\n",
       "      <td>0.003655</td>\n",
       "    </tr>\n",
       "    <tr>\n",
       "      <th>78</th>\n",
       "      <td>SUM_AMORTIZACIONEXIGIBLE</td>\n",
       "      <td>0.003655</td>\n",
       "    </tr>\n",
       "    <tr>\n",
       "      <th>79</th>\n",
       "      <td>AVG_PCT_VIGENTEC_OP_ACC</td>\n",
       "      <td>0.003655</td>\n",
       "    </tr>\n",
       "    <tr>\n",
       "      <th>80</th>\n",
       "      <td>MAX_VIGENTEC_BRG_R_OP_ACC</td>\n",
       "      <td>0.003655</td>\n",
       "    </tr>\n",
       "    <tr>\n",
       "      <th>81</th>\n",
       "      <td>AVG_MAX_HI_CALCAR_FLOOR_12M</td>\n",
       "      <td>0.003655</td>\n",
       "    </tr>\n",
       "    <tr>\n",
       "      <th>82</th>\n",
       "      <td>MIN_SALINI_BRG_R_OP_ACC</td>\n",
       "      <td>0.003655</td>\n",
       "    </tr>\n",
       "    <tr>\n",
       "      <th>83</th>\n",
       "      <td>MONTHS_ON_FILE_BANKING</td>\n",
       "      <td>0.003655</td>\n",
       "    </tr>\n",
       "    <tr>\n",
       "      <th>84</th>\n",
       "      <td>AVG_PND_MAS_MAX_HI_CALCAR_FLOOR_03M</td>\n",
       "      <td>0.003655</td>\n",
       "    </tr>\n",
       "    <tr>\n",
       "      <th>85</th>\n",
       "      <td>MAX_PCT_VENC30M_06M</td>\n",
       "      <td>0.003655</td>\n",
       "    </tr>\n",
       "    <tr>\n",
       "      <th>86</th>\n",
       "      <td>AVG_MAX_HI_CALCAR_CEIL_12M</td>\n",
       "      <td>0.003655</td>\n",
       "    </tr>\n",
       "    <tr>\n",
       "      <th>87</th>\n",
       "      <td>MAX_MS_OP_BK_R_OP_ACC</td>\n",
       "      <td>0.002924</td>\n",
       "    </tr>\n",
       "    <tr>\n",
       "      <th>88</th>\n",
       "      <td>AVG_PND_MAS_PCT_VENC59_12M</td>\n",
       "      <td>0.002924</td>\n",
       "    </tr>\n",
       "    <tr>\n",
       "      <th>89</th>\n",
       "      <td>AVG_MIN_VP_PER_U06M_2</td>\n",
       "      <td>0.002924</td>\n",
       "    </tr>\n",
       "    <tr>\n",
       "      <th>90</th>\n",
       "      <td>MAX_PCT_VENC59_03M</td>\n",
       "      <td>0.002924</td>\n",
       "    </tr>\n",
       "    <tr>\n",
       "      <th>91</th>\n",
       "      <td>AVG_PND_MENOS_VIGENTEH_12M</td>\n",
       "      <td>0.002924</td>\n",
       "    </tr>\n",
       "    <tr>\n",
       "      <th>92</th>\n",
       "      <td>MIN_MAX_HI_CALCAR_FLOOR_12M</td>\n",
       "      <td>0.002924</td>\n",
       "    </tr>\n",
       "    <tr>\n",
       "      <th>93</th>\n",
       "      <td>MAX_VENC30M_OP_ACC_03M</td>\n",
       "      <td>0.002924</td>\n",
       "    </tr>\n",
       "    <tr>\n",
       "      <th>94</th>\n",
       "      <td>AVG_PCT_VIGENTEC_BRG_CS_OP_ACC_03M</td>\n",
       "      <td>0.002924</td>\n",
       "    </tr>\n",
       "    <tr>\n",
       "      <th>95</th>\n",
       "      <td>AVG_MS_CL_BK_CL_ACC</td>\n",
       "      <td>0.002924</td>\n",
       "    </tr>\n",
       "    <tr>\n",
       "      <th>96</th>\n",
       "      <td>AVG_PND_MENOS_MAX_HI_CALCAR_CEIL_12M</td>\n",
       "      <td>0.002924</td>\n",
       "    </tr>\n",
       "    <tr>\n",
       "      <th>97</th>\n",
       "      <td>MAX_MS_OP_BRG_OP_ACC</td>\n",
       "      <td>0.002924</td>\n",
       "    </tr>\n",
       "    <tr>\n",
       "      <th>98</th>\n",
       "      <td>MIN_VIGENTEH_12M</td>\n",
       "      <td>0.002924</td>\n",
       "    </tr>\n",
       "    <tr>\n",
       "      <th>99</th>\n",
       "      <td>AVG_PCT_VENC30M_BRG_CS_OP_ACC_03M</td>\n",
       "      <td>0.002924</td>\n",
       "    </tr>\n",
       "    <tr>\n",
       "      <th>100</th>\n",
       "      <td>MAX_VENC30M_BK_OP_ACC_12M</td>\n",
       "      <td>0.002924</td>\n",
       "    </tr>\n",
       "    <tr>\n",
       "      <th>101</th>\n",
       "      <td>MAX_PCT_VENC1M_BRG_OP_ACC_12M</td>\n",
       "      <td>0.002924</td>\n",
       "    </tr>\n",
       "    <tr>\n",
       "      <th>102</th>\n",
       "      <td>AVG_MAX_VP_MES_U06M</td>\n",
       "      <td>0.002924</td>\n",
       "    </tr>\n",
       "    <tr>\n",
       "      <th>103</th>\n",
       "      <td>MAX_R_BAL_BY_CRED_LIM_06M</td>\n",
       "      <td>0.002924</td>\n",
       "    </tr>\n",
       "    <tr>\n",
       "      <th>104</th>\n",
       "      <td>AVG_PND_MAS_R_BAL_BY_MAX_BAL_03M</td>\n",
       "      <td>0.002924</td>\n",
       "    </tr>\n",
       "    <tr>\n",
       "      <th>105</th>\n",
       "      <td>MAX_VIGENTEC_BRG_R_OP_ACC_06M</td>\n",
       "      <td>0.002924</td>\n",
       "    </tr>\n",
       "    <tr>\n",
       "      <th>106</th>\n",
       "      <td>AVG_SALINI_OTHER_FIN_LSG_CL_ACC</td>\n",
       "      <td>0.002924</td>\n",
       "    </tr>\n",
       "    <tr>\n",
       "      <th>107</th>\n",
       "      <td>AVG_MS_OP_OP_ACC</td>\n",
       "      <td>0.002924</td>\n",
       "    </tr>\n",
       "    <tr>\n",
       "      <th>108</th>\n",
       "      <td>MAX_PCT_VENC29_BRG_R_OP_ACC_06M</td>\n",
       "      <td>0.002193</td>\n",
       "    </tr>\n",
       "    <tr>\n",
       "      <th>109</th>\n",
       "      <td>MAX_VIGENTEC_BRG_CS_OP_ACC_03M</td>\n",
       "      <td>0.002193</td>\n",
       "    </tr>\n",
       "    <tr>\n",
       "      <th>110</th>\n",
       "      <td>MAX_SALINI_OTHER_FIN_CL_ACC</td>\n",
       "      <td>0.002193</td>\n",
       "    </tr>\n",
       "    <tr>\n",
       "      <th>111</th>\n",
       "      <td>MIN_SALINI_OTHER_FIN_LSG_OP_ACC_03M</td>\n",
       "      <td>0.002193</td>\n",
       "    </tr>\n",
       "    <tr>\n",
       "      <th>112</th>\n",
       "      <td>MAX_VIGENTEC_BK_CS_OP_ACC_03M</td>\n",
       "      <td>0.002193</td>\n",
       "    </tr>\n",
       "    <tr>\n",
       "      <th>113</th>\n",
       "      <td>AVG_VENC89_BK_OP_ACC_06M</td>\n",
       "      <td>0.002193</td>\n",
       "    </tr>\n",
       "    <tr>\n",
       "      <th>114</th>\n",
       "      <td>MAX_VENCIDO1MAS_03M</td>\n",
       "      <td>0.002193</td>\n",
       "    </tr>\n",
       "    <tr>\n",
       "      <th>115</th>\n",
       "      <td>MAX_AVG1_VP_MES_U06M</td>\n",
       "      <td>0.002193</td>\n",
       "    </tr>\n",
       "    <tr>\n",
       "      <th>116</th>\n",
       "      <td>MIN_SALINI_CL_ACC_03M</td>\n",
       "      <td>0.002193</td>\n",
       "    </tr>\n",
       "    <tr>\n",
       "      <th>117</th>\n",
       "      <td>AVG_AVG2_VP_MES_U12M</td>\n",
       "      <td>0.002193</td>\n",
       "    </tr>\n",
       "    <tr>\n",
       "      <th>118</th>\n",
       "      <td>MIN_VIGENTEH_03M</td>\n",
       "      <td>0.002193</td>\n",
       "    </tr>\n",
       "    <tr>\n",
       "      <th>119</th>\n",
       "      <td>AVG_VIGENTEC_LSE_LSG_OP_ACC_12M</td>\n",
       "      <td>0.002193</td>\n",
       "    </tr>\n",
       "    <tr>\n",
       "      <th>120</th>\n",
       "      <td>MAX_SALINI_LSE_CL_ACC</td>\n",
       "      <td>0.002193</td>\n",
       "    </tr>\n",
       "    <tr>\n",
       "      <th>121</th>\n",
       "      <td>MAX_PCT_VENC1M_BRG_CS_OP_ACC_06M</td>\n",
       "      <td>0.002193</td>\n",
       "    </tr>\n",
       "    <tr>\n",
       "      <th>122</th>\n",
       "      <td>MIN_SALINI_OTHER_FIN_CL_ACC</td>\n",
       "      <td>0.002193</td>\n",
       "    </tr>\n",
       "    <tr>\n",
       "      <th>123</th>\n",
       "      <td>MIN_MS_OP_OP_ACC</td>\n",
       "      <td>0.002193</td>\n",
       "    </tr>\n",
       "    <tr>\n",
       "      <th>124</th>\n",
       "      <td>AVG_PND_MENOS_R_BAL_BY_CRED_LIM_03M</td>\n",
       "      <td>0.002193</td>\n",
       "    </tr>\n",
       "    <tr>\n",
       "      <th>125</th>\n",
       "      <td>MAX_PCT_VENC89_06M</td>\n",
       "      <td>0.002193</td>\n",
       "    </tr>\n",
       "    <tr>\n",
       "      <th>126</th>\n",
       "      <td>BK12_NUM_TC_ACT</td>\n",
       "      <td>0.002193</td>\n",
       "    </tr>\n",
       "    <tr>\n",
       "      <th>127</th>\n",
       "      <td>AVG_AVG1_VP_PER_U12M</td>\n",
       "      <td>0.002193</td>\n",
       "    </tr>\n",
       "    <tr>\n",
       "      <th>128</th>\n",
       "      <td>AVG_PND_MAS_PCT_VENC89_03M</td>\n",
       "      <td>0.002193</td>\n",
       "    </tr>\n",
       "    <tr>\n",
       "      <th>129</th>\n",
       "      <td>AVG_PND_MENOS_R_BAL_BY_MAX_BAL_06M</td>\n",
       "      <td>0.002193</td>\n",
       "    </tr>\n",
       "    <tr>\n",
       "      <th>130</th>\n",
       "      <td>AVG_PND_MAS_MAX_HI_CALCAR_FLOOR_12M</td>\n",
       "      <td>0.002193</td>\n",
       "    </tr>\n",
       "    <tr>\n",
       "      <th>131</th>\n",
       "      <td>AVG_VENC30M_OP_ACC_12M</td>\n",
       "      <td>0.002193</td>\n",
       "    </tr>\n",
       "    <tr>\n",
       "      <th>132</th>\n",
       "      <td>MAX_SALINI_BRG_CL_ACC_12M</td>\n",
       "      <td>0.002193</td>\n",
       "    </tr>\n",
       "    <tr>\n",
       "      <th>133</th>\n",
       "      <td>AVG_VENC1M_BK_OP_ACC</td>\n",
       "      <td>0.002193</td>\n",
       "    </tr>\n",
       "    <tr>\n",
       "      <th>134</th>\n",
       "      <td>AVG_PND_MAS_PCT_VENC89_12M</td>\n",
       "      <td>0.002193</td>\n",
       "    </tr>\n",
       "    <tr>\n",
       "      <th>135</th>\n",
       "      <td>MIN_D_CRED_LIM_TO_BAL_06M</td>\n",
       "      <td>0.002193</td>\n",
       "    </tr>\n",
       "    <tr>\n",
       "      <th>136</th>\n",
       "      <td>AVG_PND_MAS_AVG_HI_CALCAR_L_03M</td>\n",
       "      <td>0.002193</td>\n",
       "    </tr>\n",
       "    <tr>\n",
       "      <th>137</th>\n",
       "      <td>AVG_PND_MENOS_PCT_VENC59_12M</td>\n",
       "      <td>0.002193</td>\n",
       "    </tr>\n",
       "    <tr>\n",
       "      <th>138</th>\n",
       "      <td>MAX_MS_CL_BRG_R_CL_ACC</td>\n",
       "      <td>0.001462</td>\n",
       "    </tr>\n",
       "    <tr>\n",
       "      <th>139</th>\n",
       "      <td>PCT_BRG_R_OP_ACC</td>\n",
       "      <td>0.001462</td>\n",
       "    </tr>\n",
       "    <tr>\n",
       "      <th>140</th>\n",
       "      <td>AVG_VENC89_OP_ACC_06M</td>\n",
       "      <td>0.001462</td>\n",
       "    </tr>\n",
       "    <tr>\n",
       "      <th>141</th>\n",
       "      <td>MAX_VENC1M_BK_OP_ACC_03M</td>\n",
       "      <td>0.001462</td>\n",
       "    </tr>\n",
       "    <tr>\n",
       "      <th>142</th>\n",
       "      <td>MAX_VENC1M_BK_OP_ACC_06M</td>\n",
       "      <td>0.001462</td>\n",
       "    </tr>\n",
       "    <tr>\n",
       "      <th>143</th>\n",
       "      <td>MIN_SALINI_OTHER_FIN_OP_ACC</td>\n",
       "      <td>0.001462</td>\n",
       "    </tr>\n",
       "    <tr>\n",
       "      <th>144</th>\n",
       "      <td>AVG_AVG_HI_CALCAR_L_06M</td>\n",
       "      <td>0.001462</td>\n",
       "    </tr>\n",
       "    <tr>\n",
       "      <th>145</th>\n",
       "      <td>MIN_SALINI_GBN_CF_CL_ACC</td>\n",
       "      <td>0.001462</td>\n",
       "    </tr>\n",
       "    <tr>\n",
       "      <th>146</th>\n",
       "      <td>MAX_VENC1M_OP_ACC_03M</td>\n",
       "      <td>0.001462</td>\n",
       "    </tr>\n",
       "    <tr>\n",
       "      <th>147</th>\n",
       "      <td>MAX_MS_CL_BK_CS_CL_ACC</td>\n",
       "      <td>0.001462</td>\n",
       "    </tr>\n",
       "    <tr>\n",
       "      <th>148</th>\n",
       "      <td>AVG_PND_MAS_PCT_VENC59_06M</td>\n",
       "      <td>0.001462</td>\n",
       "    </tr>\n",
       "    <tr>\n",
       "      <th>149</th>\n",
       "      <td>AVG_VIGENTEC_BRG_R_OP_ACC_06M</td>\n",
       "      <td>0.001462</td>\n",
       "    </tr>\n",
       "    <tr>\n",
       "      <th>150</th>\n",
       "      <td>MIN_SALINI_OTHER_FIN_LSG_OP_ACC</td>\n",
       "      <td>0.001462</td>\n",
       "    </tr>\n",
       "    <tr>\n",
       "      <th>151</th>\n",
       "      <td>NUM_VENC59_12M</td>\n",
       "      <td>0.001462</td>\n",
       "    </tr>\n",
       "    <tr>\n",
       "      <th>152</th>\n",
       "      <td>MAX_PCT_VENC89_03M</td>\n",
       "      <td>0.001462</td>\n",
       "    </tr>\n",
       "    <tr>\n",
       "      <th>153</th>\n",
       "      <td>MAX_DIAS_PARA_PAGO</td>\n",
       "      <td>0.001462</td>\n",
       "    </tr>\n",
       "    <tr>\n",
       "      <th>154</th>\n",
       "      <td>MIN_SALINI_OTHER_FIN_LSG_OP_ACC_12M</td>\n",
       "      <td>0.001462</td>\n",
       "    </tr>\n",
       "    <tr>\n",
       "      <th>155</th>\n",
       "      <td>MAX_VENC1M_OP_ACC_06M</td>\n",
       "      <td>0.001462</td>\n",
       "    </tr>\n",
       "    <tr>\n",
       "      <th>156</th>\n",
       "      <td>MAX_SALINI_CL_ACC</td>\n",
       "      <td>0.001462</td>\n",
       "    </tr>\n",
       "    <tr>\n",
       "      <th>157</th>\n",
       "      <td>AVG_SALINI_CL_ACC</td>\n",
       "      <td>0.001462</td>\n",
       "    </tr>\n",
       "    <tr>\n",
       "      <th>158</th>\n",
       "      <td>PCT_BRG_R_CL_ACC</td>\n",
       "      <td>0.001462</td>\n",
       "    </tr>\n",
       "    <tr>\n",
       "      <th>159</th>\n",
       "      <td>AVG_VENC29_BK_OP_ACC_03M</td>\n",
       "      <td>0.001462</td>\n",
       "    </tr>\n",
       "    <tr>\n",
       "      <th>160</th>\n",
       "      <td>MAX_VENC1M_BK_CS_OP_ACC_12M</td>\n",
       "      <td>0.001462</td>\n",
       "    </tr>\n",
       "    <tr>\n",
       "      <th>161</th>\n",
       "      <td>MAX_PCT_VENC29_BRG_OP_ACC_03M</td>\n",
       "      <td>0.001462</td>\n",
       "    </tr>\n",
       "    <tr>\n",
       "      <th>162</th>\n",
       "      <td>MIN_SALINI_OTHER_FIN_OP_ACC_03M</td>\n",
       "      <td>0.001462</td>\n",
       "    </tr>\n",
       "    <tr>\n",
       "      <th>163</th>\n",
       "      <td>AVG_SALINI_BK_CS_CL_ACC</td>\n",
       "      <td>0.001462</td>\n",
       "    </tr>\n",
       "    <tr>\n",
       "      <th>164</th>\n",
       "      <td>AVG_D_CRED_LIM_TO_BAL_06M</td>\n",
       "      <td>0.001462</td>\n",
       "    </tr>\n",
       "    <tr>\n",
       "      <th>165</th>\n",
       "      <td>AVG_SALINI_BRG_CL_ACC_12M</td>\n",
       "      <td>0.001462</td>\n",
       "    </tr>\n",
       "    <tr>\n",
       "      <th>166</th>\n",
       "      <td>MAX_VENC29_BK_CS_OP_ACC_12M</td>\n",
       "      <td>0.001462</td>\n",
       "    </tr>\n",
       "    <tr>\n",
       "      <th>167</th>\n",
       "      <td>AVG_R_BAL_BY_CRED_LIM_06M</td>\n",
       "      <td>0.001462</td>\n",
       "    </tr>\n",
       "    <tr>\n",
       "      <th>168</th>\n",
       "      <td>AVG_PND_MENOS_PCT_VENC29_06M</td>\n",
       "      <td>0.001462</td>\n",
       "    </tr>\n",
       "    <tr>\n",
       "      <th>169</th>\n",
       "      <td>MAX_MIN_VP_PER_U06M_2</td>\n",
       "      <td>0.001462</td>\n",
       "    </tr>\n",
       "    <tr>\n",
       "      <th>170</th>\n",
       "      <td>MAX_PCT_VENC89_12M</td>\n",
       "      <td>0.001462</td>\n",
       "    </tr>\n",
       "    <tr>\n",
       "      <th>171</th>\n",
       "      <td>MAX_MAX_VP_MES_U12M</td>\n",
       "      <td>0.001462</td>\n",
       "    </tr>\n",
       "    <tr>\n",
       "      <th>172</th>\n",
       "      <td>AVG_AVG2_VP_PER_U06M</td>\n",
       "      <td>0.001462</td>\n",
       "    </tr>\n",
       "    <tr>\n",
       "      <th>173</th>\n",
       "      <td>MAX_VENC29_BRG_OP_ACC</td>\n",
       "      <td>0.001462</td>\n",
       "    </tr>\n",
       "    <tr>\n",
       "      <th>174</th>\n",
       "      <td>AVG_PCT_VENC30M_03M</td>\n",
       "      <td>0.001462</td>\n",
       "    </tr>\n",
       "    <tr>\n",
       "      <th>175</th>\n",
       "      <td>AVG_VENC89_OP_ACC_03M</td>\n",
       "      <td>0.001462</td>\n",
       "    </tr>\n",
       "    <tr>\n",
       "      <th>176</th>\n",
       "      <td>AVG_PCT_VENC59_12M</td>\n",
       "      <td>0.001462</td>\n",
       "    </tr>\n",
       "    <tr>\n",
       "      <th>177</th>\n",
       "      <td>AVG_PND_MENOS_MAX_HI_CALCAR_L_06M</td>\n",
       "      <td>0.001462</td>\n",
       "    </tr>\n",
       "    <tr>\n",
       "      <th>178</th>\n",
       "      <td>AVG_PND_MENOS_VENCIDO1MAS_03M</td>\n",
       "      <td>0.001462</td>\n",
       "    </tr>\n",
       "    <tr>\n",
       "      <th>179</th>\n",
       "      <td>MAX_VENC1M_BRG_CS_OP_ACC_03M</td>\n",
       "      <td>0.001462</td>\n",
       "    </tr>\n",
       "    <tr>\n",
       "      <th>180</th>\n",
       "      <td>AVG_AVG1_VP_MES_U03M_2</td>\n",
       "      <td>0.001462</td>\n",
       "    </tr>\n",
       "    <tr>\n",
       "      <th>181</th>\n",
       "      <td>MAX_SALINI_OP_ACC_03M</td>\n",
       "      <td>0.001462</td>\n",
       "    </tr>\n",
       "    <tr>\n",
       "      <th>182</th>\n",
       "      <td>AVG_PCT_VENC59_OP_ACC_12M</td>\n",
       "      <td>0.001462</td>\n",
       "    </tr>\n",
       "    <tr>\n",
       "      <th>183</th>\n",
       "      <td>NBK12_DEUDA_CP</td>\n",
       "      <td>0.001462</td>\n",
       "    </tr>\n",
       "    <tr>\n",
       "      <th>184</th>\n",
       "      <td>MIN_MS_OP_BK_R_OP_ACC</td>\n",
       "      <td>0.001462</td>\n",
       "    </tr>\n",
       "    <tr>\n",
       "      <th>185</th>\n",
       "      <td>AVG_PND_MENOS_R_BAL_BY_CRED_LIM_06M</td>\n",
       "      <td>0.001462</td>\n",
       "    </tr>\n",
       "    <tr>\n",
       "      <th>186</th>\n",
       "      <td>AVG_PND_MAS_AVG_HI_CALCAR_CEIL_12M</td>\n",
       "      <td>0.000731</td>\n",
       "    </tr>\n",
       "    <tr>\n",
       "      <th>187</th>\n",
       "      <td>MAX_PCT_VIGENTEC_BRG_CS_OP_ACC</td>\n",
       "      <td>0.000731</td>\n",
       "    </tr>\n",
       "    <tr>\n",
       "      <th>188</th>\n",
       "      <td>AVG_MS_OP_BRG_OP_ACC</td>\n",
       "      <td>0.000731</td>\n",
       "    </tr>\n",
       "    <tr>\n",
       "      <th>189</th>\n",
       "      <td>AVG_MAX_DIAS_PARA_PAGO_U12M</td>\n",
       "      <td>0.000731</td>\n",
       "    </tr>\n",
       "    <tr>\n",
       "      <th>190</th>\n",
       "      <td>AVG_PND_MENOS_PCT_VENC29_12M</td>\n",
       "      <td>0.000731</td>\n",
       "    </tr>\n",
       "    <tr>\n",
       "      <th>191</th>\n",
       "      <td>AVG_PND_MAS_VIGENTEH_03M</td>\n",
       "      <td>0.000731</td>\n",
       "    </tr>\n",
       "    <tr>\n",
       "      <th>192</th>\n",
       "      <td>MAX_SALINI_CL_ACC_06M</td>\n",
       "      <td>0.000731</td>\n",
       "    </tr>\n",
       "    <tr>\n",
       "      <th>193</th>\n",
       "      <td>MAX_BAL_06M</td>\n",
       "      <td>0.000731</td>\n",
       "    </tr>\n",
       "    <tr>\n",
       "      <th>194</th>\n",
       "      <td>MAX_MIN_VP_MES_U12M</td>\n",
       "      <td>0.000731</td>\n",
       "    </tr>\n",
       "    <tr>\n",
       "      <th>195</th>\n",
       "      <td>MIN_AVG2_VP_PER_U12M</td>\n",
       "      <td>0.000731</td>\n",
       "    </tr>\n",
       "    <tr>\n",
       "      <th>196</th>\n",
       "      <td>AVG_VIGENTEC_LSE_OP_ACC_03M</td>\n",
       "      <td>0.000731</td>\n",
       "    </tr>\n",
       "    <tr>\n",
       "      <th>197</th>\n",
       "      <td>AVG_MS_OP_BK_OP_ACC</td>\n",
       "      <td>0.000731</td>\n",
       "    </tr>\n",
       "    <tr>\n",
       "      <th>198</th>\n",
       "      <td>MAX_VIGENTEC_BRG_R_OP_ACC_03M</td>\n",
       "      <td>0.000731</td>\n",
       "    </tr>\n",
       "    <tr>\n",
       "      <th>199</th>\n",
       "      <td>MAX_PCT_VIGENTEC_BK_OP_ACC_12M</td>\n",
       "      <td>0.000731</td>\n",
       "    </tr>\n",
       "    <tr>\n",
       "      <th>200</th>\n",
       "      <td>MIN_R_BAL_BY_MAX_BAL_12M</td>\n",
       "      <td>0.000731</td>\n",
       "    </tr>\n",
       "    <tr>\n",
       "      <th>201</th>\n",
       "      <td>MAX_PCT_VENC1M_OP_ACC</td>\n",
       "      <td>0.000731</td>\n",
       "    </tr>\n",
       "    <tr>\n",
       "      <th>202</th>\n",
       "      <td>AVG_VIGENTEC_BRG_OP_ACC_06M</td>\n",
       "      <td>0.000731</td>\n",
       "    </tr>\n",
       "    <tr>\n",
       "      <th>203</th>\n",
       "      <td>MAX_VENC29_06M</td>\n",
       "      <td>0.000731</td>\n",
       "    </tr>\n",
       "    <tr>\n",
       "      <th>204</th>\n",
       "      <td>AVG_SALINI_BK_CL_ACC_12M</td>\n",
       "      <td>0.000731</td>\n",
       "    </tr>\n",
       "    <tr>\n",
       "      <th>205</th>\n",
       "      <td>MAX_VENC30M_BRG_CS_OP_ACC_03M</td>\n",
       "      <td>0.000731</td>\n",
       "    </tr>\n",
       "    <tr>\n",
       "      <th>206</th>\n",
       "      <td>AVG_MAX_VP_PER_U03M_2</td>\n",
       "      <td>0.000731</td>\n",
       "    </tr>\n",
       "    <tr>\n",
       "      <th>207</th>\n",
       "      <td>AVG_PND_MAS_VENC59_06M</td>\n",
       "      <td>0.000731</td>\n",
       "    </tr>\n",
       "    <tr>\n",
       "      <th>208</th>\n",
       "      <td>MAX_MAX_HI_CALCAR_FLOOR_12M</td>\n",
       "      <td>0.000731</td>\n",
       "    </tr>\n",
       "    <tr>\n",
       "      <th>209</th>\n",
       "      <td>MIN_AVG2_VP_MES_U06M_2</td>\n",
       "      <td>0.000731</td>\n",
       "    </tr>\n",
       "    <tr>\n",
       "      <th>210</th>\n",
       "      <td>MAX_MAX_VP_PER_U12M_2</td>\n",
       "      <td>0.000731</td>\n",
       "    </tr>\n",
       "    <tr>\n",
       "      <th>211</th>\n",
       "      <td>AVG_PND_MAS_R_BAL_BY_MAX_BAL_12M</td>\n",
       "      <td>0.000731</td>\n",
       "    </tr>\n",
       "    <tr>\n",
       "      <th>212</th>\n",
       "      <td>MIN_MS_OP_BK_CS_OP_ACC</td>\n",
       "      <td>0.000731</td>\n",
       "    </tr>\n",
       "    <tr>\n",
       "      <th>213</th>\n",
       "      <td>AVG_PND_MAS_AVG_HI_CALCAR_L_06M</td>\n",
       "      <td>0.000731</td>\n",
       "    </tr>\n",
       "    <tr>\n",
       "      <th>214</th>\n",
       "      <td>AVG_PCT_VENC59_03M</td>\n",
       "      <td>0.000731</td>\n",
       "    </tr>\n",
       "    <tr>\n",
       "      <th>215</th>\n",
       "      <td>MIN_MAX_VP_MES_U12M</td>\n",
       "      <td>0.000731</td>\n",
       "    </tr>\n",
       "    <tr>\n",
       "      <th>216</th>\n",
       "      <td>MAX_PCT_VENC30M_BRG_OP_ACC_12M</td>\n",
       "      <td>0.000731</td>\n",
       "    </tr>\n",
       "    <tr>\n",
       "      <th>217</th>\n",
       "      <td>AVG_PND_MAS_AVG_HI_CALCAR_CEIL_03M</td>\n",
       "      <td>0.000731</td>\n",
       "    </tr>\n",
       "    <tr>\n",
       "      <th>218</th>\n",
       "      <td>AVG_PCT_VENC89_OP_ACC_12M</td>\n",
       "      <td>0.000731</td>\n",
       "    </tr>\n",
       "    <tr>\n",
       "      <th>219</th>\n",
       "      <td>AVG_PCT_VENC59_06M</td>\n",
       "      <td>0.000731</td>\n",
       "    </tr>\n",
       "    <tr>\n",
       "      <th>220</th>\n",
       "      <td>AVG_SALINI_LSE_CL_ACC</td>\n",
       "      <td>0.000731</td>\n",
       "    </tr>\n",
       "    <tr>\n",
       "      <th>221</th>\n",
       "      <td>AVG_VENC1M_BRG_CS_OP_ACC</td>\n",
       "      <td>0.000731</td>\n",
       "    </tr>\n",
       "    <tr>\n",
       "      <th>222</th>\n",
       "      <td>MAX_VENC1M_BRG_OP_ACC_06M</td>\n",
       "      <td>0.000731</td>\n",
       "    </tr>\n",
       "    <tr>\n",
       "      <th>223</th>\n",
       "      <td>AVG_R_BAL_BY_CRED_LIM_03M</td>\n",
       "      <td>0.000731</td>\n",
       "    </tr>\n",
       "    <tr>\n",
       "      <th>224</th>\n",
       "      <td>AVG_PND_MAS_R_BAL_BY_CRED_LIM_03M</td>\n",
       "      <td>0.000731</td>\n",
       "    </tr>\n",
       "    <tr>\n",
       "      <th>225</th>\n",
       "      <td>AVG_PND_MAS_MAX_HI_CALCAR_CEIL_03M</td>\n",
       "      <td>0.000731</td>\n",
       "    </tr>\n",
       "    <tr>\n",
       "      <th>226</th>\n",
       "      <td>AVG_PND_MAS_R_BAL_BY_CRED_LIM_06M</td>\n",
       "      <td>0.000731</td>\n",
       "    </tr>\n",
       "    <tr>\n",
       "      <th>227</th>\n",
       "      <td>MIN_AVG1_VP_PER_U12M</td>\n",
       "      <td>0.000731</td>\n",
       "    </tr>\n",
       "    <tr>\n",
       "      <th>228</th>\n",
       "      <td>AVG_PND_MAS_AVG_HI_CALCAR_FLOOR_06M</td>\n",
       "      <td>0.000731</td>\n",
       "    </tr>\n",
       "    <tr>\n",
       "      <th>229</th>\n",
       "      <td>AVG_VENC1M_BK_OP_ACC_03M</td>\n",
       "      <td>0.000731</td>\n",
       "    </tr>\n",
       "    <tr>\n",
       "      <th>230</th>\n",
       "      <td>MAX_MIN_VP_MES_U06M_2</td>\n",
       "      <td>0.000731</td>\n",
       "    </tr>\n",
       "    <tr>\n",
       "      <th>231</th>\n",
       "      <td>AVG_AVG1_VP_MES_U06M</td>\n",
       "      <td>0.000731</td>\n",
       "    </tr>\n",
       "    <tr>\n",
       "      <th>232</th>\n",
       "      <td>MAX_VENC29_OP_ACC_03M</td>\n",
       "      <td>0.000731</td>\n",
       "    </tr>\n",
       "    <tr>\n",
       "      <th>233</th>\n",
       "      <td>AVG_PND_MAS_MAX_HI_CALCAR_L_12M</td>\n",
       "      <td>0.000731</td>\n",
       "    </tr>\n",
       "    <tr>\n",
       "      <th>234</th>\n",
       "      <td>AVG_VENC29_BK_CS_OP_ACC_03M</td>\n",
       "      <td>0.000731</td>\n",
       "    </tr>\n",
       "    <tr>\n",
       "      <th>235</th>\n",
       "      <td>AVG_PCT_VIGENTEC_BRG_R_OP_ACC_12M</td>\n",
       "      <td>0.000731</td>\n",
       "    </tr>\n",
       "    <tr>\n",
       "      <th>236</th>\n",
       "      <td>AVG_AVG1_VP_PER_U03M_2</td>\n",
       "      <td>0.000731</td>\n",
       "    </tr>\n",
       "    <tr>\n",
       "      <th>237</th>\n",
       "      <td>MAX_CRED_LIM_12M</td>\n",
       "      <td>0.000731</td>\n",
       "    </tr>\n",
       "    <tr>\n",
       "      <th>238</th>\n",
       "      <td>AVG_AVG_HI_CALCAR_CEIL_12M</td>\n",
       "      <td>0.000731</td>\n",
       "    </tr>\n",
       "    <tr>\n",
       "      <th>239</th>\n",
       "      <td>MAX_PCT_VENC59_12M</td>\n",
       "      <td>0.000731</td>\n",
       "    </tr>\n",
       "    <tr>\n",
       "      <th>240</th>\n",
       "      <td>MIN_VP_PER</td>\n",
       "      <td>0.000731</td>\n",
       "    </tr>\n",
       "    <tr>\n",
       "      <th>241</th>\n",
       "      <td>AVG_MS_OP_BRG_CS_OP_ACC</td>\n",
       "      <td>0.000731</td>\n",
       "    </tr>\n",
       "    <tr>\n",
       "      <th>242</th>\n",
       "      <td>AVG_PCT_VENC1M_BRG_OP_ACC_03M</td>\n",
       "      <td>0.000731</td>\n",
       "    </tr>\n",
       "    <tr>\n",
       "      <th>243</th>\n",
       "      <td>MAX_VIGENTEC_LSE_OP_ACC_03M</td>\n",
       "      <td>0.000731</td>\n",
       "    </tr>\n",
       "    <tr>\n",
       "      <th>244</th>\n",
       "      <td>NUM_MAX_HI_CALCAR_FLOOR_12M</td>\n",
       "      <td>0.000731</td>\n",
       "    </tr>\n",
       "    <tr>\n",
       "      <th>245</th>\n",
       "      <td>MAX_MAX_HI_CALCAR_FLOOR_06M</td>\n",
       "      <td>0.000731</td>\n",
       "    </tr>\n",
       "    <tr>\n",
       "      <th>246</th>\n",
       "      <td>AVG_VIGENTEC_BRG_CS_OP_ACC_06M</td>\n",
       "      <td>0.000731</td>\n",
       "    </tr>\n",
       "  </tbody>\n",
       "</table>\n",
       "</div>"
      ],
      "text/plain": [
       "                                   Feature  Importance\n",
       "0                              DIAS_ATRASO    0.051901\n",
       "1                MIN_R_BAL_BY_CRED_LIM_06M    0.033626\n",
       "2              AVG_MAX_DIAS_PARA_PAGO_U06M    0.026316\n",
       "3                                    DS_CL    0.025585\n",
       "4                AVG_R_BAL_BY_CRED_LIM_12M    0.022661\n",
       "5                    AVG_VENC1M_OP_ACC_03M    0.021930\n",
       "6                   MIN_AVG2_VP_PER_U03M_2    0.018275\n",
       "7                             MAX_VP_MES_2    0.017544\n",
       "8                 MIN_R_BAL_BY_MAX_BAL_06M    0.017544\n",
       "9                                DEUDA_TOT    0.016813\n",
       "10       AVG_PND_MAS_R_BAL_BY_CRED_LIM_12M    0.013158\n",
       "11     AVG_PND_MENOS_R_BAL_BY_CRED_LIM_12M    0.013158\n",
       "12                  MIN_MS_OP_BRG_R_OP_ACC    0.013158\n",
       "13     AVG_PND_MAS_AVG_HI_CALCAR_FLOOR_12M    0.012427\n",
       "14               AVG_VENC1M_BRG_OP_ACC_03M    0.011696\n",
       "15                        NUM_VIGENTEH_12M    0.010965\n",
       "16               SUM_PAGOREALIZADO_PERIODO    0.010965\n",
       "17                                   MS_OP    0.010965\n",
       "18                        MAX_MS_CL_CL_ACC    0.010965\n",
       "19                MAX_R_BAL_BY_MAX_BAL_03M    0.010965\n",
       "20                              PCT_OP_ACC    0.010965\n",
       "21                    AVG_AVG2_VP_PER_U03M    0.010234\n",
       "22             MAX_MAX_DIAS_PARA_PAGO_U03M    0.010234\n",
       "23                       R_BAL_BY_CRED_LIM    0.009503\n",
       "24               MAX_R_BAL_BY_CRED_LIM_03M    0.008772\n",
       "25               AVG_VENC30M_BK_OP_ACC_03M    0.008772\n",
       "26                   AVG_MAX_VP_MES_U12M_2    0.008041\n",
       "27                     MAX_MS_CL_BK_CL_ACC    0.008041\n",
       "28                MIN_R_BAL_BY_MAX_BAL_03M    0.008041\n",
       "29                  AVG_MS_OP_BRG_R_OP_ACC    0.008041\n",
       "30                    MIN_MS_OP_BRG_OP_ACC    0.007310\n",
       "31             MAX_VENC59_BK_CS_OP_ACC_03M    0.007310\n",
       "32                                DPCV_INT    0.007310\n",
       "33             AVG_MAX_DIAS_PARA_PAGO_U03M    0.007310\n",
       "34                   AVG_MS_OP_BK_R_OP_ACC    0.007310\n",
       "35         AVG_PND_MAS_MAX_HI_CALCAR_L_03M    0.007310\n",
       "36    AVG_PND_MENOS_AVG_HI_CALCAR_CEIL_03M    0.007310\n",
       "37                             MIN_BAL_12M    0.006579\n",
       "38                                DPCV_CAP    0.006579\n",
       "39                AVG_R_BAL_BY_MAX_BAL_03M    0.006579\n",
       "40                     MAX_PCT_VENC30M_03M    0.006579\n",
       "41                             AVG2_VP_PER    0.006579\n",
       "42                           AVG2_VP_MES_2    0.006579\n",
       "43                    MIN_AVG2_VP_PER_U06M    0.006579\n",
       "44                      AVG_PCT_VENC89_12M    0.005848\n",
       "45                    MAX_MS_CL_BRG_CL_ACC    0.005848\n",
       "46                                DS_OL_CL    0.005848\n",
       "47                   SUM_PAGOREALIZADO_MES    0.005848\n",
       "48               MIN_R_BAL_BY_CRED_LIM_12M    0.005848\n",
       "49           AVG_PCT_VIGENTEC_BRG_R_OP_ACC    0.005848\n",
       "50                          PCT_BRG_OP_ACC    0.005848\n",
       "51                         NBK12_PCT_PROMT    0.005848\n",
       "52        MAX_PCT_VENC1M_BRG_CS_OP_ACC_03M    0.005848\n",
       "53               MAX_VENC1M_BRG_OP_ACC_03M    0.005848\n",
       "54                    MIN_AVG1_VP_MES_U03M    0.005848\n",
       "55                  AVG_MS_OP_BK_CS_OP_ACC    0.005117\n",
       "56               MIN_R_BAL_BY_CRED_LIM_03M    0.005117\n",
       "57               MAX_R_BAL_BY_CRED_LIM_12M    0.005117\n",
       "58        AVG_PND_MAS_R_BAL_BY_MAX_BAL_06M    0.005117\n",
       "59                   AVG_MIN_VP_PER_U12M_2    0.005117\n",
       "60          MAX_PCT_VENC30M_BRG_OP_ACC_03M    0.005117\n",
       "61       AVG_PCT_VIGENTEC_BRG_R_OP_ACC_06M    0.005117\n",
       "62                     MAX_MIN_VP_MES_U06M    0.004386\n",
       "63                    MAX_SALINI_BK_CL_ACC    0.004386\n",
       "64                             BK_DEUDA_CP    0.004386\n",
       "65                           BK12_NUM_CRED    0.004386\n",
       "66               MAX_VENC29_BRG_OP_ACC_03M    0.004386\n",
       "67   AVG_PND_MENOS_AVG_HI_CALCAR_FLOOR_12M    0.004386\n",
       "68              AVG_PND_MAS_PCT_VENC59_03M    0.004386\n",
       "69                   AVG_MAX_VP_MES_U03M_2    0.004386\n",
       "70      AVG_PND_MENOS_R_BAL_BY_MAX_BAL_12M    0.004386\n",
       "71                   MAX_MAX_VP_MES_U03M_2    0.004386\n",
       "72                MIN_SALINI_BK_CL_ACC_06M    0.004386\n",
       "73               AVG_PCT_VENC1M_BRG_OP_ACC    0.003655\n",
       "74            MAX_PCT_VENC89_BK_OP_ACC_06M    0.003655\n",
       "75                  AVG_AVG2_VP_MES_U03M_2    0.003655\n",
       "76                        MIN_VIGENTEH_06M    0.003655\n",
       "77                 AVG_MAX_HI_CALCAR_L_12M    0.003655\n",
       "78                SUM_AMORTIZACIONEXIGIBLE    0.003655\n",
       "79                 AVG_PCT_VIGENTEC_OP_ACC    0.003655\n",
       "80               MAX_VIGENTEC_BRG_R_OP_ACC    0.003655\n",
       "81             AVG_MAX_HI_CALCAR_FLOOR_12M    0.003655\n",
       "82                 MIN_SALINI_BRG_R_OP_ACC    0.003655\n",
       "83                  MONTHS_ON_FILE_BANKING    0.003655\n",
       "84     AVG_PND_MAS_MAX_HI_CALCAR_FLOOR_03M    0.003655\n",
       "85                     MAX_PCT_VENC30M_06M    0.003655\n",
       "86              AVG_MAX_HI_CALCAR_CEIL_12M    0.003655\n",
       "87                   MAX_MS_OP_BK_R_OP_ACC    0.002924\n",
       "88              AVG_PND_MAS_PCT_VENC59_12M    0.002924\n",
       "89                   AVG_MIN_VP_PER_U06M_2    0.002924\n",
       "90                      MAX_PCT_VENC59_03M    0.002924\n",
       "91              AVG_PND_MENOS_VIGENTEH_12M    0.002924\n",
       "92             MIN_MAX_HI_CALCAR_FLOOR_12M    0.002924\n",
       "93                  MAX_VENC30M_OP_ACC_03M    0.002924\n",
       "94      AVG_PCT_VIGENTEC_BRG_CS_OP_ACC_03M    0.002924\n",
       "95                     AVG_MS_CL_BK_CL_ACC    0.002924\n",
       "96    AVG_PND_MENOS_MAX_HI_CALCAR_CEIL_12M    0.002924\n",
       "97                    MAX_MS_OP_BRG_OP_ACC    0.002924\n",
       "98                        MIN_VIGENTEH_12M    0.002924\n",
       "99       AVG_PCT_VENC30M_BRG_CS_OP_ACC_03M    0.002924\n",
       "100              MAX_VENC30M_BK_OP_ACC_12M    0.002924\n",
       "101          MAX_PCT_VENC1M_BRG_OP_ACC_12M    0.002924\n",
       "102                    AVG_MAX_VP_MES_U06M    0.002924\n",
       "103              MAX_R_BAL_BY_CRED_LIM_06M    0.002924\n",
       "104       AVG_PND_MAS_R_BAL_BY_MAX_BAL_03M    0.002924\n",
       "105          MAX_VIGENTEC_BRG_R_OP_ACC_06M    0.002924\n",
       "106        AVG_SALINI_OTHER_FIN_LSG_CL_ACC    0.002924\n",
       "107                       AVG_MS_OP_OP_ACC    0.002924\n",
       "108        MAX_PCT_VENC29_BRG_R_OP_ACC_06M    0.002193\n",
       "109         MAX_VIGENTEC_BRG_CS_OP_ACC_03M    0.002193\n",
       "110            MAX_SALINI_OTHER_FIN_CL_ACC    0.002193\n",
       "111    MIN_SALINI_OTHER_FIN_LSG_OP_ACC_03M    0.002193\n",
       "112          MAX_VIGENTEC_BK_CS_OP_ACC_03M    0.002193\n",
       "113               AVG_VENC89_BK_OP_ACC_06M    0.002193\n",
       "114                    MAX_VENCIDO1MAS_03M    0.002193\n",
       "115                   MAX_AVG1_VP_MES_U06M    0.002193\n",
       "116                  MIN_SALINI_CL_ACC_03M    0.002193\n",
       "117                   AVG_AVG2_VP_MES_U12M    0.002193\n",
       "118                       MIN_VIGENTEH_03M    0.002193\n",
       "119        AVG_VIGENTEC_LSE_LSG_OP_ACC_12M    0.002193\n",
       "120                  MAX_SALINI_LSE_CL_ACC    0.002193\n",
       "121       MAX_PCT_VENC1M_BRG_CS_OP_ACC_06M    0.002193\n",
       "122            MIN_SALINI_OTHER_FIN_CL_ACC    0.002193\n",
       "123                       MIN_MS_OP_OP_ACC    0.002193\n",
       "124    AVG_PND_MENOS_R_BAL_BY_CRED_LIM_03M    0.002193\n",
       "125                     MAX_PCT_VENC89_06M    0.002193\n",
       "126                        BK12_NUM_TC_ACT    0.002193\n",
       "127                   AVG_AVG1_VP_PER_U12M    0.002193\n",
       "128             AVG_PND_MAS_PCT_VENC89_03M    0.002193\n",
       "129     AVG_PND_MENOS_R_BAL_BY_MAX_BAL_06M    0.002193\n",
       "130    AVG_PND_MAS_MAX_HI_CALCAR_FLOOR_12M    0.002193\n",
       "131                 AVG_VENC30M_OP_ACC_12M    0.002193\n",
       "132              MAX_SALINI_BRG_CL_ACC_12M    0.002193\n",
       "133                   AVG_VENC1M_BK_OP_ACC    0.002193\n",
       "134             AVG_PND_MAS_PCT_VENC89_12M    0.002193\n",
       "135              MIN_D_CRED_LIM_TO_BAL_06M    0.002193\n",
       "136        AVG_PND_MAS_AVG_HI_CALCAR_L_03M    0.002193\n",
       "137           AVG_PND_MENOS_PCT_VENC59_12M    0.002193\n",
       "138                 MAX_MS_CL_BRG_R_CL_ACC    0.001462\n",
       "139                       PCT_BRG_R_OP_ACC    0.001462\n",
       "140                  AVG_VENC89_OP_ACC_06M    0.001462\n",
       "141               MAX_VENC1M_BK_OP_ACC_03M    0.001462\n",
       "142               MAX_VENC1M_BK_OP_ACC_06M    0.001462\n",
       "143            MIN_SALINI_OTHER_FIN_OP_ACC    0.001462\n",
       "144                AVG_AVG_HI_CALCAR_L_06M    0.001462\n",
       "145               MIN_SALINI_GBN_CF_CL_ACC    0.001462\n",
       "146                  MAX_VENC1M_OP_ACC_03M    0.001462\n",
       "147                 MAX_MS_CL_BK_CS_CL_ACC    0.001462\n",
       "148             AVG_PND_MAS_PCT_VENC59_06M    0.001462\n",
       "149          AVG_VIGENTEC_BRG_R_OP_ACC_06M    0.001462\n",
       "150        MIN_SALINI_OTHER_FIN_LSG_OP_ACC    0.001462\n",
       "151                         NUM_VENC59_12M    0.001462\n",
       "152                     MAX_PCT_VENC89_03M    0.001462\n",
       "153                     MAX_DIAS_PARA_PAGO    0.001462\n",
       "154    MIN_SALINI_OTHER_FIN_LSG_OP_ACC_12M    0.001462\n",
       "155                  MAX_VENC1M_OP_ACC_06M    0.001462\n",
       "156                      MAX_SALINI_CL_ACC    0.001462\n",
       "157                      AVG_SALINI_CL_ACC    0.001462\n",
       "158                       PCT_BRG_R_CL_ACC    0.001462\n",
       "159               AVG_VENC29_BK_OP_ACC_03M    0.001462\n",
       "160            MAX_VENC1M_BK_CS_OP_ACC_12M    0.001462\n",
       "161          MAX_PCT_VENC29_BRG_OP_ACC_03M    0.001462\n",
       "162        MIN_SALINI_OTHER_FIN_OP_ACC_03M    0.001462\n",
       "163                AVG_SALINI_BK_CS_CL_ACC    0.001462\n",
       "164              AVG_D_CRED_LIM_TO_BAL_06M    0.001462\n",
       "165              AVG_SALINI_BRG_CL_ACC_12M    0.001462\n",
       "166            MAX_VENC29_BK_CS_OP_ACC_12M    0.001462\n",
       "167              AVG_R_BAL_BY_CRED_LIM_06M    0.001462\n",
       "168           AVG_PND_MENOS_PCT_VENC29_06M    0.001462\n",
       "169                  MAX_MIN_VP_PER_U06M_2    0.001462\n",
       "170                     MAX_PCT_VENC89_12M    0.001462\n",
       "171                    MAX_MAX_VP_MES_U12M    0.001462\n",
       "172                   AVG_AVG2_VP_PER_U06M    0.001462\n",
       "173                  MAX_VENC29_BRG_OP_ACC    0.001462\n",
       "174                    AVG_PCT_VENC30M_03M    0.001462\n",
       "175                  AVG_VENC89_OP_ACC_03M    0.001462\n",
       "176                     AVG_PCT_VENC59_12M    0.001462\n",
       "177      AVG_PND_MENOS_MAX_HI_CALCAR_L_06M    0.001462\n",
       "178          AVG_PND_MENOS_VENCIDO1MAS_03M    0.001462\n",
       "179           MAX_VENC1M_BRG_CS_OP_ACC_03M    0.001462\n",
       "180                 AVG_AVG1_VP_MES_U03M_2    0.001462\n",
       "181                  MAX_SALINI_OP_ACC_03M    0.001462\n",
       "182              AVG_PCT_VENC59_OP_ACC_12M    0.001462\n",
       "183                         NBK12_DEUDA_CP    0.001462\n",
       "184                  MIN_MS_OP_BK_R_OP_ACC    0.001462\n",
       "185    AVG_PND_MENOS_R_BAL_BY_CRED_LIM_06M    0.001462\n",
       "186     AVG_PND_MAS_AVG_HI_CALCAR_CEIL_12M    0.000731\n",
       "187         MAX_PCT_VIGENTEC_BRG_CS_OP_ACC    0.000731\n",
       "188                   AVG_MS_OP_BRG_OP_ACC    0.000731\n",
       "189            AVG_MAX_DIAS_PARA_PAGO_U12M    0.000731\n",
       "190           AVG_PND_MENOS_PCT_VENC29_12M    0.000731\n",
       "191               AVG_PND_MAS_VIGENTEH_03M    0.000731\n",
       "192                  MAX_SALINI_CL_ACC_06M    0.000731\n",
       "193                            MAX_BAL_06M    0.000731\n",
       "194                    MAX_MIN_VP_MES_U12M    0.000731\n",
       "195                   MIN_AVG2_VP_PER_U12M    0.000731\n",
       "196            AVG_VIGENTEC_LSE_OP_ACC_03M    0.000731\n",
       "197                    AVG_MS_OP_BK_OP_ACC    0.000731\n",
       "198          MAX_VIGENTEC_BRG_R_OP_ACC_03M    0.000731\n",
       "199         MAX_PCT_VIGENTEC_BK_OP_ACC_12M    0.000731\n",
       "200               MIN_R_BAL_BY_MAX_BAL_12M    0.000731\n",
       "201                  MAX_PCT_VENC1M_OP_ACC    0.000731\n",
       "202            AVG_VIGENTEC_BRG_OP_ACC_06M    0.000731\n",
       "203                         MAX_VENC29_06M    0.000731\n",
       "204               AVG_SALINI_BK_CL_ACC_12M    0.000731\n",
       "205          MAX_VENC30M_BRG_CS_OP_ACC_03M    0.000731\n",
       "206                  AVG_MAX_VP_PER_U03M_2    0.000731\n",
       "207                 AVG_PND_MAS_VENC59_06M    0.000731\n",
       "208            MAX_MAX_HI_CALCAR_FLOOR_12M    0.000731\n",
       "209                 MIN_AVG2_VP_MES_U06M_2    0.000731\n",
       "210                  MAX_MAX_VP_PER_U12M_2    0.000731\n",
       "211       AVG_PND_MAS_R_BAL_BY_MAX_BAL_12M    0.000731\n",
       "212                 MIN_MS_OP_BK_CS_OP_ACC    0.000731\n",
       "213        AVG_PND_MAS_AVG_HI_CALCAR_L_06M    0.000731\n",
       "214                     AVG_PCT_VENC59_03M    0.000731\n",
       "215                    MIN_MAX_VP_MES_U12M    0.000731\n",
       "216         MAX_PCT_VENC30M_BRG_OP_ACC_12M    0.000731\n",
       "217     AVG_PND_MAS_AVG_HI_CALCAR_CEIL_03M    0.000731\n",
       "218              AVG_PCT_VENC89_OP_ACC_12M    0.000731\n",
       "219                     AVG_PCT_VENC59_06M    0.000731\n",
       "220                  AVG_SALINI_LSE_CL_ACC    0.000731\n",
       "221               AVG_VENC1M_BRG_CS_OP_ACC    0.000731\n",
       "222              MAX_VENC1M_BRG_OP_ACC_06M    0.000731\n",
       "223              AVG_R_BAL_BY_CRED_LIM_03M    0.000731\n",
       "224      AVG_PND_MAS_R_BAL_BY_CRED_LIM_03M    0.000731\n",
       "225     AVG_PND_MAS_MAX_HI_CALCAR_CEIL_03M    0.000731\n",
       "226      AVG_PND_MAS_R_BAL_BY_CRED_LIM_06M    0.000731\n",
       "227                   MIN_AVG1_VP_PER_U12M    0.000731\n",
       "228    AVG_PND_MAS_AVG_HI_CALCAR_FLOOR_06M    0.000731\n",
       "229               AVG_VENC1M_BK_OP_ACC_03M    0.000731\n",
       "230                  MAX_MIN_VP_MES_U06M_2    0.000731\n",
       "231                   AVG_AVG1_VP_MES_U06M    0.000731\n",
       "232                  MAX_VENC29_OP_ACC_03M    0.000731\n",
       "233        AVG_PND_MAS_MAX_HI_CALCAR_L_12M    0.000731\n",
       "234            AVG_VENC29_BK_CS_OP_ACC_03M    0.000731\n",
       "235      AVG_PCT_VIGENTEC_BRG_R_OP_ACC_12M    0.000731\n",
       "236                 AVG_AVG1_VP_PER_U03M_2    0.000731\n",
       "237                       MAX_CRED_LIM_12M    0.000731\n",
       "238             AVG_AVG_HI_CALCAR_CEIL_12M    0.000731\n",
       "239                     MAX_PCT_VENC59_12M    0.000731\n",
       "240                             MIN_VP_PER    0.000731\n",
       "241                AVG_MS_OP_BRG_CS_OP_ACC    0.000731\n",
       "242          AVG_PCT_VENC1M_BRG_OP_ACC_03M    0.000731\n",
       "243            MAX_VIGENTEC_LSE_OP_ACC_03M    0.000731\n",
       "244            NUM_MAX_HI_CALCAR_FLOOR_12M    0.000731\n",
       "245            MAX_MAX_HI_CALCAR_FLOOR_06M    0.000731\n",
       "246         AVG_VIGENTEC_BRG_CS_OP_ACC_06M    0.000731"
      ]
     },
     "metadata": {},
     "output_type": "display_data"
    }
   ],
   "source": [
    "# Trianing\n",
    "version = 0\n",
    "params = {\n",
    "    'objective': 'binary:logistic', \n",
    "    # 'booster': 'dart',\n",
    "    'eta':0.04, \n",
    "    'max_depth': 3, \n",
    "    'eval_metric': 'auc',\n",
    "    # L1 regularization term (default 0)\n",
    "    'alpha': 0,\n",
    "    # L2 regularization term (default 1)\n",
    "    'lambda': 1,\n",
    "    # Minimum loss reduction (default 0)\n",
    "    'gamma': 0.01,\n",
    "    # 'scale_pos_weight': 22,\n",
    "    # 'rate_drop': 0.1,\n",
    "    # 'skip_drop': 0.5,\n",
    "    # 'seed': 1 # ,\n",
    "#     'subsample': 0.5,\n",
    "#     'max_delta_step': 10    \n",
    "}\n",
    "\n",
    "params_BAY = {\n",
    "    'objective': 'binary:logistic', \n",
    "    'eta':0.1,\n",
    "    'max_depth': 12, \n",
    "    'gamma': 0.001, \n",
    "    'min_child_weight': 10.108909877670685, \n",
    "    'max_delta_step': 2.4592238788322622, \n",
    "    'subsample': 1, \n",
    "    'colsample_bytree': 0.4,\n",
    "    'seed': 1\n",
    "}\n",
    "\n",
    "\n",
    "num_round = 200\n",
    "\n",
    "evals = [(dtest, 'eval')]\n",
    "\n",
    "bst = xgb.train(params, dtrain, num_round, evals, feval=val_func)\n",
    "# bst = xgb.train(params, dtrain, num_round, evals, feval=val_func, xgb_model=bst)\n",
    "  \n",
    "feat_imp = get_xgb_feat_importances(bst)\n",
    "display(feat_imp)\n",
    "\n",
    "#pickle.dump(bst, open('models/pickles/cartera_vencida_version{}.pckl.model'.format(version),\"wb\"))\n",
    "#feat_imp.to_csv('models/feature_importances_version{}.csv'.format(version), index=False)"
   ]
  },
  {
   "cell_type": "code",
   "execution_count": 65,
   "metadata": {
    "scrolled": true
   },
   "outputs": [
    {
     "name": "stdout",
     "output_type": "stream",
     "text": [
      "[21:12:05] /workspace/src/tree/updater_prune.cc:74: tree pruning end, 1 roots, 646 extra nodes, 0 pruned nodes, max_depth=10\n",
      "[0]\teval-auc:0.829011\teval-f1_score_thr0.2:0.082419\teval-f1_score_thr0.3:0.219141\teval-f1_score_thr0.4:0.270494\teval-f1_score_thr0.5:0.350688\teval-f1_score_thr0.6:0.36793\teval-f1_score_thr0.7:0.388278\n",
      "[21:12:06] /workspace/src/tree/updater_prune.cc:74: tree pruning end, 1 roots, 662 extra nodes, 0 pruned nodes, max_depth=10\n",
      "[1]\teval-auc:0.857816\teval-f1_score_thr0.2:0.137931\teval-f1_score_thr0.3:0.243122\teval-f1_score_thr0.4:0.306602\teval-f1_score_thr0.5:0.345016\teval-f1_score_thr0.6:0.383375\teval-f1_score_thr0.7:0.400583\n"
     ]
    },
    {
     "name": "stderr",
     "output_type": "stream",
     "text": [
      "/home/ec2-user/anaconda3/envs/python3/lib/python3.6/site-packages/sklearn/metrics/classification.py:1135: UndefinedMetricWarning: F-score is ill-defined and being set to 0.0 due to no predicted samples.\n",
      "  'precision', 'predicted', average, warn_for)\n",
      "/home/ec2-user/anaconda3/envs/python3/lib/python3.6/site-packages/sklearn/metrics/classification.py:1135: UndefinedMetricWarning: F-score is ill-defined and being set to 0.0 due to no predicted samples.\n",
      "  'precision', 'predicted', average, warn_for)\n",
      "/home/ec2-user/anaconda3/envs/python3/lib/python3.6/site-packages/sklearn/metrics/classification.py:1135: UndefinedMetricWarning: F-score is ill-defined and being set to 0.0 due to no predicted samples.\n",
      "  'precision', 'predicted', average, warn_for)\n",
      "/home/ec2-user/anaconda3/envs/python3/lib/python3.6/site-packages/sklearn/metrics/classification.py:1135: UndefinedMetricWarning: F-score is ill-defined and being set to 0.0 due to no predicted samples.\n",
      "  'precision', 'predicted', average, warn_for)\n",
      "/home/ec2-user/anaconda3/envs/python3/lib/python3.6/site-packages/sklearn/metrics/classification.py:1135: UndefinedMetricWarning: F-score is ill-defined and being set to 0.0 due to no predicted samples.\n",
      "  'precision', 'predicted', average, warn_for)\n",
      "/home/ec2-user/anaconda3/envs/python3/lib/python3.6/site-packages/sklearn/metrics/classification.py:1135: UndefinedMetricWarning: F-score is ill-defined and being set to 0.0 due to no predicted samples.\n",
      "  'precision', 'predicted', average, warn_for)\n",
      "/home/ec2-user/anaconda3/envs/python3/lib/python3.6/site-packages/sklearn/metrics/classification.py:1135: UndefinedMetricWarning: F-score is ill-defined and being set to 0.0 due to no predicted samples.\n",
      "  'precision', 'predicted', average, warn_for)\n",
      "/home/ec2-user/anaconda3/envs/python3/lib/python3.6/site-packages/sklearn/metrics/classification.py:1135: UndefinedMetricWarning: F-score is ill-defined and being set to 0.0 due to no predicted samples.\n",
      "  'precision', 'predicted', average, warn_for)\n",
      "/home/ec2-user/anaconda3/envs/python3/lib/python3.6/site-packages/sklearn/metrics/classification.py:1135: UndefinedMetricWarning: F-score is ill-defined and being set to 0.0 due to no predicted samples.\n",
      "  'precision', 'predicted', average, warn_for)\n",
      "/home/ec2-user/anaconda3/envs/python3/lib/python3.6/site-packages/sklearn/metrics/classification.py:1135: UndefinedMetricWarning: F-score is ill-defined and being set to 0.0 due to no predicted samples.\n",
      "  'precision', 'predicted', average, warn_for)\n",
      "/home/ec2-user/anaconda3/envs/python3/lib/python3.6/site-packages/sklearn/metrics/classification.py:1135: UndefinedMetricWarning: F-score is ill-defined and being set to 0.0 due to no predicted samples.\n",
      "  'precision', 'predicted', average, warn_for)\n",
      "/home/ec2-user/anaconda3/envs/python3/lib/python3.6/site-packages/sklearn/metrics/classification.py:1135: UndefinedMetricWarning: F-score is ill-defined and being set to 0.0 due to no predicted samples.\n",
      "  'precision', 'predicted', average, warn_for)\n",
      "/home/ec2-user/anaconda3/envs/python3/lib/python3.6/site-packages/sklearn/metrics/classification.py:1135: UndefinedMetricWarning: F-score is ill-defined and being set to 0.0 due to no predicted samples.\n",
      "  'precision', 'predicted', average, warn_for)\n",
      "/home/ec2-user/anaconda3/envs/python3/lib/python3.6/site-packages/sklearn/metrics/classification.py:1135: UndefinedMetricWarning: F-score is ill-defined and being set to 0.0 due to no predicted samples.\n",
      "  'precision', 'predicted', average, warn_for)\n",
      "/home/ec2-user/anaconda3/envs/python3/lib/python3.6/site-packages/sklearn/metrics/classification.py:1135: UndefinedMetricWarning: F-score is ill-defined and being set to 0.0 due to no predicted samples.\n",
      "  'precision', 'predicted', average, warn_for)\n",
      "/home/ec2-user/anaconda3/envs/python3/lib/python3.6/site-packages/sklearn/metrics/classification.py:1135: UndefinedMetricWarning: F-score is ill-defined and being set to 0.0 due to no predicted samples.\n",
      "  'precision', 'predicted', average, warn_for)\n",
      "/home/ec2-user/anaconda3/envs/python3/lib/python3.6/site-packages/sklearn/metrics/classification.py:1135: UndefinedMetricWarning: F-score is ill-defined and being set to 0.0 due to no predicted samples.\n",
      "  'precision', 'predicted', average, warn_for)\n",
      "/home/ec2-user/anaconda3/envs/python3/lib/python3.6/site-packages/sklearn/metrics/classification.py:1135: UndefinedMetricWarning: F-score is ill-defined and being set to 0.0 due to no predicted samples.\n",
      "  'precision', 'predicted', average, warn_for)\n",
      "/home/ec2-user/anaconda3/envs/python3/lib/python3.6/site-packages/sklearn/metrics/classification.py:1135: UndefinedMetricWarning: F-score is ill-defined and being set to 0.0 due to no predicted samples.\n",
      "  'precision', 'predicted', average, warn_for)\n",
      "/home/ec2-user/anaconda3/envs/python3/lib/python3.6/site-packages/sklearn/metrics/classification.py:1135: UndefinedMetricWarning: F-score is ill-defined and being set to 0.0 due to no predicted samples.\n",
      "  'precision', 'predicted', average, warn_for)\n",
      "/home/ec2-user/anaconda3/envs/python3/lib/python3.6/site-packages/sklearn/metrics/classification.py:1135: UndefinedMetricWarning: F-score is ill-defined and being set to 0.0 due to no predicted samples.\n",
      "  'precision', 'predicted', average, warn_for)\n"
     ]
    },
    {
     "name": "stdout",
     "output_type": "stream",
     "text": [
      "threshold 0.73\n",
      "max f1_score 0.4244372990353698\n",
      "eta 0.3\n",
      "max_depth 10\n",
      "num_round 3\n",
      "------------------------------\n",
      "[21:12:10] /workspace/src/tree/updater_prune.cc:74: tree pruning end, 1 roots, 754 extra nodes, 0 pruned nodes, max_depth=10\n",
      "[0]\teval-auc:0.872287\teval-f1_score_thr0.2:0.211846\teval-f1_score_thr0.3:0.284395\teval-f1_score_thr0.4:0.322581\teval-f1_score_thr0.5:0.362648\teval-f1_score_thr0.6:0.387403\teval-f1_score_thr0.7:0.403349\n",
      "[21:12:11] /workspace/src/tree/updater_prune.cc:74: tree pruning end, 1 roots, 660 extra nodes, 0 pruned nodes, max_depth=10\n",
      "[1]\teval-auc:0.872504\teval-f1_score_thr0.2:0.232789\teval-f1_score_thr0.3:0.303359\teval-f1_score_thr0.4:0.345585\teval-f1_score_thr0.5:0.364198\teval-f1_score_thr0.6:0.401699\teval-f1_score_thr0.7:0.409437\n"
     ]
    },
    {
     "name": "stderr",
     "output_type": "stream",
     "text": [
      "/home/ec2-user/anaconda3/envs/python3/lib/python3.6/site-packages/sklearn/metrics/classification.py:1135: UndefinedMetricWarning: F-score is ill-defined and being set to 0.0 due to no predicted samples.\n",
      "  'precision', 'predicted', average, warn_for)\n",
      "/home/ec2-user/anaconda3/envs/python3/lib/python3.6/site-packages/sklearn/metrics/classification.py:1135: UndefinedMetricWarning: F-score is ill-defined and being set to 0.0 due to no predicted samples.\n",
      "  'precision', 'predicted', average, warn_for)\n",
      "/home/ec2-user/anaconda3/envs/python3/lib/python3.6/site-packages/sklearn/metrics/classification.py:1135: UndefinedMetricWarning: F-score is ill-defined and being set to 0.0 due to no predicted samples.\n",
      "  'precision', 'predicted', average, warn_for)\n",
      "/home/ec2-user/anaconda3/envs/python3/lib/python3.6/site-packages/sklearn/metrics/classification.py:1135: UndefinedMetricWarning: F-score is ill-defined and being set to 0.0 due to no predicted samples.\n",
      "  'precision', 'predicted', average, warn_for)\n",
      "/home/ec2-user/anaconda3/envs/python3/lib/python3.6/site-packages/sklearn/metrics/classification.py:1135: UndefinedMetricWarning: F-score is ill-defined and being set to 0.0 due to no predicted samples.\n",
      "  'precision', 'predicted', average, warn_for)\n",
      "/home/ec2-user/anaconda3/envs/python3/lib/python3.6/site-packages/sklearn/metrics/classification.py:1135: UndefinedMetricWarning: F-score is ill-defined and being set to 0.0 due to no predicted samples.\n",
      "  'precision', 'predicted', average, warn_for)\n",
      "/home/ec2-user/anaconda3/envs/python3/lib/python3.6/site-packages/sklearn/metrics/classification.py:1135: UndefinedMetricWarning: F-score is ill-defined and being set to 0.0 due to no predicted samples.\n",
      "  'precision', 'predicted', average, warn_for)\n",
      "/home/ec2-user/anaconda3/envs/python3/lib/python3.6/site-packages/sklearn/metrics/classification.py:1135: UndefinedMetricWarning: F-score is ill-defined and being set to 0.0 due to no predicted samples.\n",
      "  'precision', 'predicted', average, warn_for)\n",
      "/home/ec2-user/anaconda3/envs/python3/lib/python3.6/site-packages/sklearn/metrics/classification.py:1135: UndefinedMetricWarning: F-score is ill-defined and being set to 0.0 due to no predicted samples.\n",
      "  'precision', 'predicted', average, warn_for)\n",
      "/home/ec2-user/anaconda3/envs/python3/lib/python3.6/site-packages/sklearn/metrics/classification.py:1135: UndefinedMetricWarning: F-score is ill-defined and being set to 0.0 due to no predicted samples.\n",
      "  'precision', 'predicted', average, warn_for)\n",
      "/home/ec2-user/anaconda3/envs/python3/lib/python3.6/site-packages/sklearn/metrics/classification.py:1135: UndefinedMetricWarning: F-score is ill-defined and being set to 0.0 due to no predicted samples.\n",
      "  'precision', 'predicted', average, warn_for)\n",
      "/home/ec2-user/anaconda3/envs/python3/lib/python3.6/site-packages/sklearn/metrics/classification.py:1135: UndefinedMetricWarning: F-score is ill-defined and being set to 0.0 due to no predicted samples.\n",
      "  'precision', 'predicted', average, warn_for)\n"
     ]
    },
    {
     "name": "stdout",
     "output_type": "stream",
     "text": [
      "threshold 0.74\n",
      "max f1_score 0.4125105663567202\n",
      "eta 0.3\n",
      "max_depth 10\n",
      "num_round 5\n",
      "------------------------------\n",
      "[21:12:16] /workspace/src/tree/updater_prune.cc:74: tree pruning end, 1 roots, 794 extra nodes, 0 pruned nodes, max_depth=10\n",
      "[0]\teval-auc:0.873164\teval-f1_score_thr0.2:0.256757\teval-f1_score_thr0.3:0.313314\teval-f1_score_thr0.4:0.350488\teval-f1_score_thr0.5:0.381053\teval-f1_score_thr0.6:0.400249\teval-f1_score_thr0.7:0.411369\n",
      "[21:12:16] /workspace/src/tree/updater_prune.cc:74: tree pruning end, 1 roots, 736 extra nodes, 0 pruned nodes, max_depth=10\n",
      "[1]\teval-auc:0.876532\teval-f1_score_thr0.2:0.276666\teval-f1_score_thr0.3:0.32345\teval-f1_score_thr0.4:0.360056\teval-f1_score_thr0.5:0.388434\teval-f1_score_thr0.6:0.400258\teval-f1_score_thr0.7:0.406602\n"
     ]
    },
    {
     "name": "stderr",
     "output_type": "stream",
     "text": [
      "/home/ec2-user/anaconda3/envs/python3/lib/python3.6/site-packages/sklearn/metrics/classification.py:1135: UndefinedMetricWarning: F-score is ill-defined and being set to 0.0 due to no predicted samples.\n",
      "  'precision', 'predicted', average, warn_for)\n",
      "/home/ec2-user/anaconda3/envs/python3/lib/python3.6/site-packages/sklearn/metrics/classification.py:1135: UndefinedMetricWarning: F-score is ill-defined and being set to 0.0 due to no predicted samples.\n",
      "  'precision', 'predicted', average, warn_for)\n",
      "/home/ec2-user/anaconda3/envs/python3/lib/python3.6/site-packages/sklearn/metrics/classification.py:1135: UndefinedMetricWarning: F-score is ill-defined and being set to 0.0 due to no predicted samples.\n",
      "  'precision', 'predicted', average, warn_for)\n",
      "/home/ec2-user/anaconda3/envs/python3/lib/python3.6/site-packages/sklearn/metrics/classification.py:1135: UndefinedMetricWarning: F-score is ill-defined and being set to 0.0 due to no predicted samples.\n",
      "  'precision', 'predicted', average, warn_for)\n",
      "/home/ec2-user/anaconda3/envs/python3/lib/python3.6/site-packages/sklearn/metrics/classification.py:1135: UndefinedMetricWarning: F-score is ill-defined and being set to 0.0 due to no predicted samples.\n",
      "  'precision', 'predicted', average, warn_for)\n",
      "/home/ec2-user/anaconda3/envs/python3/lib/python3.6/site-packages/sklearn/metrics/classification.py:1135: UndefinedMetricWarning: F-score is ill-defined and being set to 0.0 due to no predicted samples.\n",
      "  'precision', 'predicted', average, warn_for)\n",
      "/home/ec2-user/anaconda3/envs/python3/lib/python3.6/site-packages/sklearn/metrics/classification.py:1135: UndefinedMetricWarning: F-score is ill-defined and being set to 0.0 due to no predicted samples.\n",
      "  'precision', 'predicted', average, warn_for)\n"
     ]
    },
    {
     "name": "stdout",
     "output_type": "stream",
     "text": [
      "threshold 0.79\n",
      "max f1_score 0.4146118721461187\n",
      "eta 0.3\n",
      "max_depth 10\n",
      "num_round 7\n",
      "------------------------------\n",
      "[21:12:21] /workspace/src/tree/updater_prune.cc:74: tree pruning end, 1 roots, 738 extra nodes, 0 pruned nodes, max_depth=10\n",
      "[0]\teval-auc:0.881018\teval-f1_score_thr0.2:0.29125\teval-f1_score_thr0.3:0.338235\teval-f1_score_thr0.4:0.364518\teval-f1_score_thr0.5:0.390831\teval-f1_score_thr0.6:0.411609\teval-f1_score_thr0.7:0.409695\n",
      "[21:12:21] /workspace/src/tree/updater_prune.cc:74: tree pruning end, 1 roots, 568 extra nodes, 0 pruned nodes, max_depth=10\n",
      "[1]\teval-auc:0.885605\teval-f1_score_thr0.2:0.301582\teval-f1_score_thr0.3:0.343333\teval-f1_score_thr0.4:0.376482\teval-f1_score_thr0.5:0.389019\teval-f1_score_thr0.6:0.411126\teval-f1_score_thr0.7:0.404423\n"
     ]
    },
    {
     "name": "stderr",
     "output_type": "stream",
     "text": [
      "/home/ec2-user/anaconda3/envs/python3/lib/python3.6/site-packages/sklearn/metrics/classification.py:1135: UndefinedMetricWarning: F-score is ill-defined and being set to 0.0 due to no predicted samples.\n",
      "  'precision', 'predicted', average, warn_for)\n",
      "/home/ec2-user/anaconda3/envs/python3/lib/python3.6/site-packages/sklearn/metrics/classification.py:1135: UndefinedMetricWarning: F-score is ill-defined and being set to 0.0 due to no predicted samples.\n",
      "  'precision', 'predicted', average, warn_for)\n",
      "/home/ec2-user/anaconda3/envs/python3/lib/python3.6/site-packages/sklearn/metrics/classification.py:1135: UndefinedMetricWarning: F-score is ill-defined and being set to 0.0 due to no predicted samples.\n",
      "  'precision', 'predicted', average, warn_for)\n",
      "/home/ec2-user/anaconda3/envs/python3/lib/python3.6/site-packages/sklearn/metrics/classification.py:1135: UndefinedMetricWarning: F-score is ill-defined and being set to 0.0 due to no predicted samples.\n",
      "  'precision', 'predicted', average, warn_for)\n",
      "/home/ec2-user/anaconda3/envs/python3/lib/python3.6/site-packages/sklearn/metrics/classification.py:1135: UndefinedMetricWarning: F-score is ill-defined and being set to 0.0 due to no predicted samples.\n",
      "  'precision', 'predicted', average, warn_for)\n"
     ]
    },
    {
     "name": "stdout",
     "output_type": "stream",
     "text": [
      "threshold 0.63\n",
      "max f1_score 0.4181431608788094\n",
      "eta 0.3\n",
      "max_depth 10\n",
      "num_round 9\n",
      "------------------------------\n",
      "[21:12:26] /workspace/src/tree/updater_prune.cc:74: tree pruning end, 1 roots, 750 extra nodes, 0 pruned nodes, max_depth=10\n",
      "[0]\teval-auc:0.888646\teval-f1_score_thr0.2:0.314938\teval-f1_score_thr0.3:0.357205\teval-f1_score_thr0.4:0.380362\teval-f1_score_thr0.5:0.392275\teval-f1_score_thr0.6:0.405256\teval-f1_score_thr0.7:0.412044\n",
      "[21:12:27] /workspace/src/tree/updater_prune.cc:74: tree pruning end, 1 roots, 704 extra nodes, 0 pruned nodes, max_depth=10\n",
      "[1]\teval-auc:0.888756\teval-f1_score_thr0.2:0.325461\teval-f1_score_thr0.3:0.368326\teval-f1_score_thr0.4:0.388186\teval-f1_score_thr0.5:0.398537\teval-f1_score_thr0.6:0.403068\teval-f1_score_thr0.7:0.41938\n"
     ]
    },
    {
     "name": "stderr",
     "output_type": "stream",
     "text": [
      "/home/ec2-user/anaconda3/envs/python3/lib/python3.6/site-packages/sklearn/metrics/classification.py:1135: UndefinedMetricWarning: F-score is ill-defined and being set to 0.0 due to no predicted samples.\n",
      "  'precision', 'predicted', average, warn_for)\n",
      "/home/ec2-user/anaconda3/envs/python3/lib/python3.6/site-packages/sklearn/metrics/classification.py:1135: UndefinedMetricWarning: F-score is ill-defined and being set to 0.0 due to no predicted samples.\n",
      "  'precision', 'predicted', average, warn_for)\n",
      "/home/ec2-user/anaconda3/envs/python3/lib/python3.6/site-packages/sklearn/metrics/classification.py:1135: UndefinedMetricWarning: F-score is ill-defined and being set to 0.0 due to no predicted samples.\n",
      "  'precision', 'predicted', average, warn_for)\n"
     ]
    },
    {
     "name": "stdout",
     "output_type": "stream",
     "text": [
      "threshold 0.7000000000000001\n",
      "max f1_score 0.4193804606830818\n",
      "eta 0.3\n",
      "max_depth 10\n",
      "num_round 11\n",
      "------------------------------\n",
      "[21:12:31] /workspace/src/tree/updater_prune.cc:74: tree pruning end, 1 roots, 572 extra nodes, 0 pruned nodes, max_depth=10\n",
      "[0]\teval-auc:0.890821\teval-f1_score_thr0.2:0.333333\teval-f1_score_thr0.3:0.367159\teval-f1_score_thr0.4:0.388979\teval-f1_score_thr0.5:0.395833\teval-f1_score_thr0.6:0.408135\teval-f1_score_thr0.7:0.418311\n",
      "[21:12:32] /workspace/src/tree/updater_prune.cc:74: tree pruning end, 1 roots, 632 extra nodes, 0 pruned nodes, max_depth=10\n",
      "[1]\teval-auc:0.892682\teval-f1_score_thr0.2:0.341767\teval-f1_score_thr0.3:0.370476\teval-f1_score_thr0.4:0.393153\teval-f1_score_thr0.5:0.398758\teval-f1_score_thr0.6:0.412225\teval-f1_score_thr0.7:0.414343\n"
     ]
    },
    {
     "name": "stderr",
     "output_type": "stream",
     "text": [
      "/home/ec2-user/anaconda3/envs/python3/lib/python3.6/site-packages/sklearn/metrics/classification.py:1135: UndefinedMetricWarning: F-score is ill-defined and being set to 0.0 due to no predicted samples.\n",
      "  'precision', 'predicted', average, warn_for)\n",
      "/home/ec2-user/anaconda3/envs/python3/lib/python3.6/site-packages/sklearn/metrics/classification.py:1135: UndefinedMetricWarning: F-score is ill-defined and being set to 0.0 due to no predicted samples.\n",
      "  'precision', 'predicted', average, warn_for)\n"
     ]
    },
    {
     "name": "stdout",
     "output_type": "stream",
     "text": [
      "threshold 0.68\n",
      "max f1_score 0.4190774042220485\n",
      "eta 0.3\n",
      "max_depth 10\n",
      "num_round 13\n",
      "------------------------------\n",
      "[21:12:36] /workspace/src/tree/updater_prune.cc:74: tree pruning end, 1 roots, 604 extra nodes, 0 pruned nodes, max_depth=10\n",
      "[0]\teval-auc:0.895274\teval-f1_score_thr0.2:0.348884\teval-f1_score_thr0.3:0.378352\teval-f1_score_thr0.4:0.396591\teval-f1_score_thr0.5:0.409439\teval-f1_score_thr0.6:0.423631\teval-f1_score_thr0.7:0.417077\n",
      "[21:12:37] /workspace/src/tree/updater_prune.cc:74: tree pruning end, 1 roots, 574 extra nodes, 0 pruned nodes, max_depth=10\n",
      "[1]\teval-auc:0.892154\teval-f1_score_thr0.2:0.351836\teval-f1_score_thr0.3:0.379398\teval-f1_score_thr0.4:0.39627\teval-f1_score_thr0.5:0.40678\teval-f1_score_thr0.6:0.408012\teval-f1_score_thr0.7:0.405063\n"
     ]
    },
    {
     "name": "stderr",
     "output_type": "stream",
     "text": [
      "/home/ec2-user/anaconda3/envs/python3/lib/python3.6/site-packages/sklearn/metrics/classification.py:1135: UndefinedMetricWarning: F-score is ill-defined and being set to 0.0 due to no predicted samples.\n",
      "  'precision', 'predicted', average, warn_for)\n",
      "/home/ec2-user/anaconda3/envs/python3/lib/python3.6/site-packages/sklearn/metrics/classification.py:1135: UndefinedMetricWarning: F-score is ill-defined and being set to 0.0 due to no predicted samples.\n",
      "  'precision', 'predicted', average, warn_for)\n"
     ]
    },
    {
     "name": "stdout",
     "output_type": "stream",
     "text": [
      "threshold 0.64\n",
      "max f1_score 0.4141176470588235\n",
      "eta 0.3\n",
      "max_depth 10\n",
      "num_round 15\n",
      "------------------------------\n",
      "[21:12:41] /workspace/src/tree/updater_prune.cc:74: tree pruning end, 1 roots, 640 extra nodes, 0 pruned nodes, max_depth=10\n",
      "[0]\teval-auc:0.889601\teval-f1_score_thr0.2:0.358657\teval-f1_score_thr0.3:0.379147\teval-f1_score_thr0.4:0.389054\teval-f1_score_thr0.5:0.401612\teval-f1_score_thr0.6:0.409437\teval-f1_score_thr0.7:0.407248\n",
      "[21:12:42] /workspace/src/tree/updater_prune.cc:74: tree pruning end, 1 roots, 480 extra nodes, 0 pruned nodes, max_depth=10\n",
      "[1]\teval-auc:0.889773\teval-f1_score_thr0.2:0.361521\teval-f1_score_thr0.3:0.381915\teval-f1_score_thr0.4:0.39054\teval-f1_score_thr0.5:0.398363\teval-f1_score_thr0.6:0.403698\teval-f1_score_thr0.7:0.406661\n"
     ]
    },
    {
     "name": "stderr",
     "output_type": "stream",
     "text": [
      "/home/ec2-user/anaconda3/envs/python3/lib/python3.6/site-packages/sklearn/metrics/classification.py:1135: UndefinedMetricWarning: F-score is ill-defined and being set to 0.0 due to no predicted samples.\n",
      "  'precision', 'predicted', average, warn_for)\n"
     ]
    },
    {
     "name": "stdout",
     "output_type": "stream",
     "text": [
      "threshold 0.66\n",
      "max f1_score 0.41384995877988456\n",
      "eta 0.3\n",
      "max_depth 10\n",
      "num_round 17\n",
      "------------------------------\n",
      "[21:12:46] /workspace/src/tree/updater_prune.cc:74: tree pruning end, 1 roots, 506 extra nodes, 0 pruned nodes, max_depth=10\n",
      "[0]\teval-auc:0.892249\teval-f1_score_thr0.2:0.362803\teval-f1_score_thr0.3:0.389101\teval-f1_score_thr0.4:0.384901\teval-f1_score_thr0.5:0.398329\teval-f1_score_thr0.6:0.406859\teval-f1_score_thr0.7:0.398206\n",
      "[21:12:47] /workspace/src/tree/updater_prune.cc:74: tree pruning end, 1 roots, 498 extra nodes, 0 pruned nodes, max_depth=10\n",
      "[1]\teval-auc:0.892968\teval-f1_score_thr0.2:0.363464\teval-f1_score_thr0.3:0.389669\teval-f1_score_thr0.4:0.392157\teval-f1_score_thr0.5:0.406272\teval-f1_score_thr0.6:0.409524\teval-f1_score_thr0.7:0.387387\n"
     ]
    },
    {
     "name": "stderr",
     "output_type": "stream",
     "text": [
      "/home/ec2-user/anaconda3/envs/python3/lib/python3.6/site-packages/sklearn/metrics/classification.py:1135: UndefinedMetricWarning: F-score is ill-defined and being set to 0.0 due to no predicted samples.\n",
      "  'precision', 'predicted', average, warn_for)\n"
     ]
    },
    {
     "name": "stdout",
     "output_type": "stream",
     "text": [
      "threshold 0.53\n",
      "max f1_score 0.41033210332103326\n",
      "eta 0.3\n",
      "max_depth 10\n",
      "num_round 19\n",
      "------------------------------\n",
      "[21:12:51] /workspace/src/tree/updater_prune.cc:74: tree pruning end, 1 roots, 494 extra nodes, 0 pruned nodes, max_depth=10\n",
      "[0]\teval-auc:0.89193\teval-f1_score_thr0.2:0.367961\teval-f1_score_thr0.3:0.388697\teval-f1_score_thr0.4:0.391192\teval-f1_score_thr0.5:0.397967\teval-f1_score_thr0.6:0.409091\teval-f1_score_thr0.7:0.402194\n",
      "[21:12:52] /workspace/src/tree/updater_prune.cc:74: tree pruning end, 1 roots, 292 extra nodes, 0 pruned nodes, max_depth=10\n",
      "[1]\teval-auc:0.891442\teval-f1_score_thr0.2:0.37223\teval-f1_score_thr0.3:0.392588\teval-f1_score_thr0.4:0.393721\teval-f1_score_thr0.5:0.395026\teval-f1_score_thr0.6:0.405537\teval-f1_score_thr0.7:0.401852\n"
     ]
    },
    {
     "name": "stderr",
     "output_type": "stream",
     "text": [
      "/home/ec2-user/anaconda3/envs/python3/lib/python3.6/site-packages/sklearn/metrics/classification.py:1135: UndefinedMetricWarning: F-score is ill-defined and being set to 0.0 due to no predicted samples.\n",
      "  'precision', 'predicted', average, warn_for)\n"
     ]
    },
    {
     "name": "stdout",
     "output_type": "stream",
     "text": [
      "threshold 0.63\n",
      "max f1_score 0.4118143459915612\n",
      "eta 0.3\n",
      "max_depth 10\n",
      "num_round 21\n",
      "------------------------------\n",
      "[21:12:56] /workspace/src/tree/updater_prune.cc:74: tree pruning end, 1 roots, 222 extra nodes, 0 pruned nodes, max_depth=10\n",
      "[0]\teval-auc:0.890821\teval-f1_score_thr0.2:0.369124\teval-f1_score_thr0.3:0.395809\teval-f1_score_thr0.4:0.39498\teval-f1_score_thr0.5:0.395879\teval-f1_score_thr0.6:0.407498\teval-f1_score_thr0.7:0.394419\n",
      "[21:12:57] /workspace/src/tree/updater_prune.cc:74: tree pruning end, 1 roots, 672 extra nodes, 0 pruned nodes, max_depth=10\n",
      "[1]\teval-auc:0.888574\teval-f1_score_thr0.2:0.375127\teval-f1_score_thr0.3:0.396158\teval-f1_score_thr0.4:0.394042\teval-f1_score_thr0.5:0.396099\teval-f1_score_thr0.6:0.404381\teval-f1_score_thr0.7:0.392789\n"
     ]
    },
    {
     "name": "stderr",
     "output_type": "stream",
     "text": [
      "/home/ec2-user/anaconda3/envs/python3/lib/python3.6/site-packages/sklearn/metrics/classification.py:1135: UndefinedMetricWarning: F-score is ill-defined and being set to 0.0 due to no predicted samples.\n",
      "  'precision', 'predicted', average, warn_for)\n"
     ]
    },
    {
     "name": "stdout",
     "output_type": "stream",
     "text": [
      "threshold 0.59\n",
      "max f1_score 0.4056291390728477\n",
      "eta 0.3\n",
      "max_depth 10\n",
      "num_round 23\n",
      "------------------------------\n",
      "[21:13:01] /workspace/src/tree/updater_prune.cc:74: tree pruning end, 1 roots, 336 extra nodes, 0 pruned nodes, max_depth=10\n",
      "[0]\teval-auc:0.887572\teval-f1_score_thr0.2:0.373841\teval-f1_score_thr0.3:0.395871\teval-f1_score_thr0.4:0.394539\teval-f1_score_thr0.5:0.39726\teval-f1_score_thr0.6:0.404722\teval-f1_score_thr0.7:0.391595\n",
      "[21:13:02] /workspace/src/tree/updater_prune.cc:74: tree pruning end, 1 roots, 260 extra nodes, 0 pruned nodes, max_depth=10\n",
      "[1]\teval-auc:0.886766\teval-f1_score_thr0.2:0.377083\teval-f1_score_thr0.3:0.394591\teval-f1_score_thr0.4:0.391513\teval-f1_score_thr0.5:0.397858\teval-f1_score_thr0.6:0.404092\teval-f1_score_thr0.7:0.391221\n"
     ]
    },
    {
     "name": "stderr",
     "output_type": "stream",
     "text": [
      "/home/ec2-user/anaconda3/envs/python3/lib/python3.6/site-packages/sklearn/metrics/classification.py:1135: UndefinedMetricWarning: F-score is ill-defined and being set to 0.0 due to no predicted samples.\n",
      "  'precision', 'predicted', average, warn_for)\n"
     ]
    },
    {
     "name": "stdout",
     "output_type": "stream",
     "text": [
      "threshold 0.6\n",
      "max f1_score 0.4040920716112532\n",
      "eta 0.3\n",
      "max_depth 10\n",
      "num_round 25\n",
      "------------------------------\n",
      "[21:13:06] /workspace/src/tree/updater_prune.cc:74: tree pruning end, 1 roots, 302 extra nodes, 0 pruned nodes, max_depth=10\n",
      "[0]\teval-auc:0.886477\teval-f1_score_thr0.2:0.379853\teval-f1_score_thr0.3:0.391816\teval-f1_score_thr0.4:0.389466\teval-f1_score_thr0.5:0.400308\teval-f1_score_thr0.6:0.397942\teval-f1_score_thr0.7:0.378014\n",
      "[21:13:07] /workspace/src/tree/updater_prune.cc:74: tree pruning end, 1 roots, 356 extra nodes, 0 pruned nodes, max_depth=10\n",
      "[1]\teval-auc:0.886174\teval-f1_score_thr0.2:0.379329\teval-f1_score_thr0.3:0.385723\teval-f1_score_thr0.4:0.394068\teval-f1_score_thr0.5:0.40315\teval-f1_score_thr0.6:0.393357\teval-f1_score_thr0.7:0.383349\n"
     ]
    },
    {
     "name": "stderr",
     "output_type": "stream",
     "text": [
      "/home/ec2-user/anaconda3/envs/python3/lib/python3.6/site-packages/sklearn/metrics/classification.py:1135: UndefinedMetricWarning: F-score is ill-defined and being set to 0.0 due to no predicted samples.\n",
      "  'precision', 'predicted', average, warn_for)\n"
     ]
    },
    {
     "name": "stdout",
     "output_type": "stream",
     "text": [
      "threshold 0.44\n",
      "max f1_score 0.40381791483113066\n",
      "eta 0.3\n",
      "max_depth 10\n",
      "num_round 27\n",
      "------------------------------\n",
      "[21:13:11] /workspace/src/tree/updater_prune.cc:74: tree pruning end, 1 roots, 424 extra nodes, 0 pruned nodes, max_depth=10\n",
      "[0]\teval-auc:0.886326\teval-f1_score_thr0.2:0.378174\teval-f1_score_thr0.3:0.389905\teval-f1_score_thr0.4:0.397153\teval-f1_score_thr0.5:0.406672\teval-f1_score_thr0.6:0.394316\teval-f1_score_thr0.7:0.378906\n",
      "[21:13:12] /workspace/src/tree/updater_prune.cc:74: tree pruning end, 1 roots, 500 extra nodes, 0 pruned nodes, max_depth=10\n",
      "[1]\teval-auc:0.886121\teval-f1_score_thr0.2:0.378378\teval-f1_score_thr0.3:0.389776\teval-f1_score_thr0.4:0.395366\teval-f1_score_thr0.5:0.401606\teval-f1_score_thr0.6:0.387097\teval-f1_score_thr0.7:0.376494\n"
     ]
    },
    {
     "name": "stderr",
     "output_type": "stream",
     "text": [
      "/home/ec2-user/anaconda3/envs/python3/lib/python3.6/site-packages/sklearn/metrics/classification.py:1135: UndefinedMetricWarning: F-score is ill-defined and being set to 0.0 due to no predicted samples.\n",
      "  'precision', 'predicted', average, warn_for)\n"
     ]
    },
    {
     "name": "stdout",
     "output_type": "stream",
     "text": [
      "threshold 0.49\n",
      "max f1_score 0.4025457438345266\n",
      "eta 0.3\n",
      "max_depth 10\n",
      "num_round 29\n",
      "------------------------------\n",
      "[21:13:16] /workspace/src/tree/updater_prune.cc:74: tree pruning end, 1 roots, 400 extra nodes, 0 pruned nodes, max_depth=10\n",
      "[0]\teval-auc:0.887199\teval-f1_score_thr0.2:0.381594\teval-f1_score_thr0.3:0.391445\teval-f1_score_thr0.4:0.39562\teval-f1_score_thr0.5:0.394801\teval-f1_score_thr0.6:0.392051\teval-f1_score_thr0.7:0.368209\n",
      "[21:13:17] /workspace/src/tree/updater_prune.cc:74: tree pruning end, 1 roots, 518 extra nodes, 0 pruned nodes, max_depth=10\n",
      "[1]\teval-auc:0.887022\teval-f1_score_thr0.2:0.382786\teval-f1_score_thr0.3:0.395503\teval-f1_score_thr0.4:0.397914\teval-f1_score_thr0.5:0.394715\teval-f1_score_thr0.6:0.383636\teval-f1_score_thr0.7:0.355691\n"
     ]
    },
    {
     "name": "stderr",
     "output_type": "stream",
     "text": [
      "/home/ec2-user/anaconda3/envs/python3/lib/python3.6/site-packages/sklearn/metrics/classification.py:1135: UndefinedMetricWarning: F-score is ill-defined and being set to 0.0 due to no predicted samples.\n",
      "  'precision', 'predicted', average, warn_for)\n"
     ]
    },
    {
     "name": "stdout",
     "output_type": "stream",
     "text": [
      "threshold 0.38\n",
      "max f1_score 0.4029197080291971\n",
      "eta 0.3\n",
      "max_depth 10\n",
      "num_round 31\n",
      "------------------------------\n",
      "[21:13:21] /workspace/src/tree/updater_prune.cc:74: tree pruning end, 1 roots, 348 extra nodes, 0 pruned nodes, max_depth=10\n",
      "[0]\teval-auc:0.887112\teval-f1_score_thr0.2:0.387393\teval-f1_score_thr0.3:0.397059\teval-f1_score_thr0.4:0.409295\teval-f1_score_thr0.5:0.390651\teval-f1_score_thr0.6:0.383562\teval-f1_score_thr0.7:0.363636\n",
      "[21:13:22] /workspace/src/tree/updater_prune.cc:74: tree pruning end, 1 roots, 420 extra nodes, 0 pruned nodes, max_depth=10\n",
      "[1]\teval-auc:0.887139\teval-f1_score_thr0.2:0.389732\teval-f1_score_thr0.3:0.398374\teval-f1_score_thr0.4:0.410646\teval-f1_score_thr0.5:0.387426\teval-f1_score_thr0.6:0.371747\teval-f1_score_thr0.7:0.360082\n"
     ]
    },
    {
     "name": "stderr",
     "output_type": "stream",
     "text": [
      "/home/ec2-user/anaconda3/envs/python3/lib/python3.6/site-packages/sklearn/metrics/classification.py:1135: UndefinedMetricWarning: F-score is ill-defined and being set to 0.0 due to no predicted samples.\n",
      "  'precision', 'predicted', average, warn_for)\n"
     ]
    },
    {
     "name": "stdout",
     "output_type": "stream",
     "text": [
      "threshold 0.39\n",
      "max f1_score 0.4142101284958428\n",
      "eta 0.3\n",
      "max_depth 10\n",
      "num_round 33\n",
      "------------------------------\n",
      "[21:13:26] /workspace/src/tree/updater_prune.cc:74: tree pruning end, 1 roots, 392 extra nodes, 0 pruned nodes, max_depth=10\n",
      "[0]\teval-auc:0.887715\teval-f1_score_thr0.2:0.388361\teval-f1_score_thr0.3:0.395876\teval-f1_score_thr0.4:0.405864\teval-f1_score_thr0.5:0.394173\teval-f1_score_thr0.6:0.375712\teval-f1_score_thr0.7:0.359081\n",
      "[21:13:27] /workspace/src/tree/updater_prune.cc:74: tree pruning end, 1 roots, 482 extra nodes, 0 pruned nodes, max_depth=10\n",
      "[1]\teval-auc:0.888531\teval-f1_score_thr0.2:0.389861\teval-f1_score_thr0.3:0.400558\teval-f1_score_thr0.4:0.40566\teval-f1_score_thr0.5:0.39444\teval-f1_score_thr0.6:0.369586\teval-f1_score_thr0.7:0.355277\n"
     ]
    },
    {
     "name": "stderr",
     "output_type": "stream",
     "text": [
      "/home/ec2-user/anaconda3/envs/python3/lib/python3.6/site-packages/sklearn/metrics/classification.py:1135: UndefinedMetricWarning: F-score is ill-defined and being set to 0.0 due to no predicted samples.\n",
      "  'precision', 'predicted', average, warn_for)\n"
     ]
    },
    {
     "name": "stdout",
     "output_type": "stream",
     "text": [
      "threshold 0.42\n",
      "max f1_score 0.4066985645933014\n",
      "eta 0.3\n",
      "max_depth 10\n",
      "num_round 35\n",
      "------------------------------\n",
      "[21:13:31] /workspace/src/tree/updater_prune.cc:74: tree pruning end, 1 roots, 248 extra nodes, 0 pruned nodes, max_depth=10\n",
      "[0]\teval-auc:0.888584\teval-f1_score_thr0.2:0.390303\teval-f1_score_thr0.3:0.401968\teval-f1_score_thr0.4:0.403467\teval-f1_score_thr0.5:0.392328\teval-f1_score_thr0.6:0.374517\teval-f1_score_thr0.7:0.362304\n",
      "[21:13:32] /workspace/src/tree/updater_prune.cc:74: tree pruning end, 1 roots, 480 extra nodes, 0 pruned nodes, max_depth=10\n",
      "[1]\teval-auc:0.888596\teval-f1_score_thr0.2:0.387692\teval-f1_score_thr0.3:0.398293\teval-f1_score_thr0.4:0.401274\teval-f1_score_thr0.5:0.393043\teval-f1_score_thr0.6:0.389685\teval-f1_score_thr0.7:0.362487\n"
     ]
    },
    {
     "name": "stderr",
     "output_type": "stream",
     "text": [
      "/home/ec2-user/anaconda3/envs/python3/lib/python3.6/site-packages/sklearn/metrics/classification.py:1135: UndefinedMetricWarning: F-score is ill-defined and being set to 0.0 due to no predicted samples.\n",
      "  'precision', 'predicted', average, warn_for)\n"
     ]
    },
    {
     "name": "stdout",
     "output_type": "stream",
     "text": [
      "threshold 0.39\n",
      "max f1_score 0.4031746031746032\n",
      "eta 0.3\n",
      "max_depth 10\n",
      "num_round 37\n",
      "------------------------------\n",
      "[21:13:36] /workspace/src/tree/updater_prune.cc:74: tree pruning end, 1 roots, 572 extra nodes, 0 pruned nodes, max_depth=10\n",
      "[0]\teval-auc:0.888525\teval-f1_score_thr0.2:0.396487\teval-f1_score_thr0.3:0.388929\teval-f1_score_thr0.4:0.404878\teval-f1_score_thr0.5:0.390805\teval-f1_score_thr0.6:0.386783\teval-f1_score_thr0.7:0.373673\n",
      "[21:13:37] /workspace/src/tree/updater_prune.cc:74: tree pruning end, 1 roots, 188 extra nodes, 0 pruned nodes, max_depth=10\n",
      "[1]\teval-auc:0.888753\teval-f1_score_thr0.2:0.397476\teval-f1_score_thr0.3:0.391783\teval-f1_score_thr0.4:0.404221\teval-f1_score_thr0.5:0.393268\teval-f1_score_thr0.6:0.392233\teval-f1_score_thr0.7:0.376196\n"
     ]
    },
    {
     "name": "stderr",
     "output_type": "stream",
     "text": [
      "/home/ec2-user/anaconda3/envs/python3/lib/python3.6/site-packages/sklearn/metrics/classification.py:1135: UndefinedMetricWarning: F-score is ill-defined and being set to 0.0 due to no predicted samples.\n",
      "  'precision', 'predicted', average, warn_for)\n"
     ]
    },
    {
     "name": "stdout",
     "output_type": "stream",
     "text": [
      "threshold 0.37\n",
      "max f1_score 0.4063241106719368\n",
      "eta 0.3\n",
      "max_depth 10\n",
      "num_round 39\n",
      "------------------------------\n",
      "[21:13:41] /workspace/src/tree/updater_prune.cc:74: tree pruning end, 1 roots, 512 extra nodes, 0 pruned nodes, max_depth=10\n",
      "[0]\teval-auc:0.889045\teval-f1_score_thr0.2:0.394888\teval-f1_score_thr0.3:0.39207\teval-f1_score_thr0.4:0.400986\teval-f1_score_thr0.5:0.392825\teval-f1_score_thr0.6:0.389432\teval-f1_score_thr0.7:0.375\n",
      "[21:13:42] /workspace/src/tree/updater_prune.cc:74: tree pruning end, 1 roots, 480 extra nodes, 0 pruned nodes, max_depth=10\n",
      "[1]\teval-auc:0.888883\teval-f1_score_thr0.2:0.396608\teval-f1_score_thr0.3:0.394007\teval-f1_score_thr0.4:0.406302\teval-f1_score_thr0.5:0.395624\teval-f1_score_thr0.6:0.386207\teval-f1_score_thr0.7:0.368593\n"
     ]
    },
    {
     "name": "stderr",
     "output_type": "stream",
     "text": [
      "/home/ec2-user/anaconda3/envs/python3/lib/python3.6/site-packages/sklearn/metrics/classification.py:1135: UndefinedMetricWarning: F-score is ill-defined and being set to 0.0 due to no predicted samples.\n",
      "  'precision', 'predicted', average, warn_for)\n"
     ]
    },
    {
     "name": "stdout",
     "output_type": "stream",
     "text": [
      "threshold 0.4\n",
      "max f1_score 0.406301824212272\n",
      "eta 0.3\n",
      "max_depth 10\n",
      "num_round 41\n",
      "------------------------------\n",
      "[21:13:47] /workspace/src/tree/updater_prune.cc:74: tree pruning end, 1 roots, 228 extra nodes, 0 pruned nodes, max_depth=10\n",
      "[0]\teval-auc:0.888556\teval-f1_score_thr0.2:0.395272\teval-f1_score_thr0.3:0.391566\teval-f1_score_thr0.4:0.405676\teval-f1_score_thr0.5:0.392301\teval-f1_score_thr0.6:0.388944\teval-f1_score_thr0.7:0.367213\n",
      "[21:13:47] /workspace/src/tree/updater_prune.cc:74: tree pruning end, 1 roots, 332 extra nodes, 0 pruned nodes, max_depth=10\n",
      "[1]\teval-auc:0.888902\teval-f1_score_thr0.2:0.396815\teval-f1_score_thr0.3:0.390354\teval-f1_score_thr0.4:0.398319\teval-f1_score_thr0.5:0.391185\teval-f1_score_thr0.6:0.394089\teval-f1_score_thr0.7:0.370614\n"
     ]
    },
    {
     "name": "stderr",
     "output_type": "stream",
     "text": [
      "/home/ec2-user/anaconda3/envs/python3/lib/python3.6/site-packages/sklearn/metrics/classification.py:1135: UndefinedMetricWarning: F-score is ill-defined and being set to 0.0 due to no predicted samples.\n",
      "  'precision', 'predicted', average, warn_for)\n"
     ]
    },
    {
     "name": "stdout",
     "output_type": "stream",
     "text": [
      "threshold 0.34\n",
      "max f1_score 0.401268834258525\n",
      "eta 0.3\n",
      "max_depth 10\n",
      "num_round 43\n",
      "------------------------------\n",
      "[21:13:52] /workspace/src/tree/updater_prune.cc:74: tree pruning end, 1 roots, 392 extra nodes, 0 pruned nodes, max_depth=10\n",
      "[0]\teval-auc:0.890418\teval-f1_score_thr0.2:0.395708\teval-f1_score_thr0.3:0.392722\teval-f1_score_thr0.4:0.404399\teval-f1_score_thr0.5:0.400735\teval-f1_score_thr0.6:0.380857\teval-f1_score_thr0.7:0.37037\n",
      "[21:13:53] /workspace/src/tree/updater_prune.cc:74: tree pruning end, 1 roots, 656 extra nodes, 0 pruned nodes, max_depth=10\n",
      "[1]\teval-auc:0.891081\teval-f1_score_thr0.2:0.394576\teval-f1_score_thr0.3:0.389189\teval-f1_score_thr0.4:0.391194\teval-f1_score_thr0.5:0.397436\teval-f1_score_thr0.6:0.390293\teval-f1_score_thr0.7:0.357456\n"
     ]
    },
    {
     "name": "stderr",
     "output_type": "stream",
     "text": [
      "/home/ec2-user/anaconda3/envs/python3/lib/python3.6/site-packages/sklearn/metrics/classification.py:1135: UndefinedMetricWarning: F-score is ill-defined and being set to 0.0 due to no predicted samples.\n",
      "  'precision', 'predicted', average, warn_for)\n"
     ]
    },
    {
     "name": "stdout",
     "output_type": "stream",
     "text": [
      "threshold 0.53\n",
      "max f1_score 0.40417457305502846\n",
      "eta 0.3\n",
      "max_depth 10\n",
      "num_round 45\n",
      "------------------------------\n",
      "[21:13:57] /workspace/src/tree/updater_prune.cc:74: tree pruning end, 1 roots, 532 extra nodes, 0 pruned nodes, max_depth=10\n",
      "[0]\teval-auc:0.890104\teval-f1_score_thr0.2:0.400549\teval-f1_score_thr0.3:0.387944\teval-f1_score_thr0.4:0.393554\teval-f1_score_thr0.5:0.407442\teval-f1_score_thr0.6:0.386249\teval-f1_score_thr0.7:0.365449\n",
      "[21:13:58] /workspace/src/tree/updater_prune.cc:74: tree pruning end, 1 roots, 412 extra nodes, 0 pruned nodes, max_depth=10\n",
      "[1]\teval-auc:0.890421\teval-f1_score_thr0.2:0.398616\teval-f1_score_thr0.3:0.39441\teval-f1_score_thr0.4:0.396581\teval-f1_score_thr0.5:0.40113\teval-f1_score_thr0.6:0.384852\teval-f1_score_thr0.7:0.372657\n"
     ]
    },
    {
     "name": "stderr",
     "output_type": "stream",
     "text": [
      "/home/ec2-user/anaconda3/envs/python3/lib/python3.6/site-packages/sklearn/metrics/classification.py:1135: UndefinedMetricWarning: F-score is ill-defined and being set to 0.0 due to no predicted samples.\n",
      "  'precision', 'predicted', average, warn_for)\n"
     ]
    },
    {
     "name": "stdout",
     "output_type": "stream",
     "text": [
      "threshold 0.48\n",
      "max f1_score 0.40366972477064217\n",
      "eta 0.3\n",
      "max_depth 10\n",
      "num_round 47\n",
      "------------------------------\n",
      "[21:14:02] /workspace/src/tree/updater_prune.cc:74: tree pruning end, 1 roots, 398 extra nodes, 0 pruned nodes, max_depth=10\n",
      "[0]\teval-auc:0.890978\teval-f1_score_thr0.2:0.400838\teval-f1_score_thr0.3:0.396579\teval-f1_score_thr0.4:0.393103\teval-f1_score_thr0.5:0.401896\teval-f1_score_thr0.6:0.384298\teval-f1_score_thr0.7:0.36485\n",
      "[21:14:03] /workspace/src/tree/updater_prune.cc:74: tree pruning end, 1 roots, 256 extra nodes, 0 pruned nodes, max_depth=10\n",
      "[1]\teval-auc:0.89135\teval-f1_score_thr0.2:0.401394\teval-f1_score_thr0.3:0.398437\teval-f1_score_thr0.4:0.394464\teval-f1_score_thr0.5:0.400381\teval-f1_score_thr0.6:0.384615\teval-f1_score_thr0.7:0.358343\n"
     ]
    },
    {
     "name": "stderr",
     "output_type": "stream",
     "text": [
      "/home/ec2-user/anaconda3/envs/python3/lib/python3.6/site-packages/sklearn/metrics/classification.py:1135: UndefinedMetricWarning: F-score is ill-defined and being set to 0.0 due to no predicted samples.\n",
      "  'precision', 'predicted', average, warn_for)\n"
     ]
    },
    {
     "name": "stdout",
     "output_type": "stream",
     "text": [
      "threshold 0.22\n",
      "max f1_score 0.4062947067238913\n",
      "eta 0.3\n",
      "max_depth 10\n",
      "num_round 49\n",
      "------------------------------\n",
      "[21:14:07] /workspace/src/tree/updater_prune.cc:74: tree pruning end, 1 roots, 126 extra nodes, 0 pruned nodes, max_depth=10\n",
      "[0]\teval-auc:0.891987\teval-f1_score_thr0.2:0.403361\teval-f1_score_thr0.3:0.396552\teval-f1_score_thr0.4:0.397569\teval-f1_score_thr0.5:0.4\teval-f1_score_thr0.6:0.383817\teval-f1_score_thr0.7:0.359777\n",
      "[21:14:08] /workspace/src/tree/updater_prune.cc:74: tree pruning end, 1 roots, 342 extra nodes, 0 pruned nodes, max_depth=10\n",
      "[1]\teval-auc:0.892062\teval-f1_score_thr0.2:0.403397\teval-f1_score_thr0.3:0.398431\teval-f1_score_thr0.4:0.397559\teval-f1_score_thr0.5:0.399616\teval-f1_score_thr0.6:0.384134\teval-f1_score_thr0.7:0.362822\n"
     ]
    },
    {
     "name": "stderr",
     "output_type": "stream",
     "text": [
      "/home/ec2-user/anaconda3/envs/python3/lib/python3.6/site-packages/sklearn/metrics/classification.py:1135: UndefinedMetricWarning: F-score is ill-defined and being set to 0.0 due to no predicted samples.\n",
      "  'precision', 'predicted', average, warn_for)\n"
     ]
    },
    {
     "name": "stdout",
     "output_type": "stream",
     "text": [
      "threshold 0.22\n",
      "max f1_score 0.40609137055837563\n",
      "eta 0.3\n",
      "max_depth 10\n",
      "num_round 51\n",
      "------------------------------\n",
      "[21:14:12] /workspace/src/tree/updater_prune.cc:74: tree pruning end, 1 roots, 512 extra nodes, 0 pruned nodes, max_depth=10\n",
      "[0]\teval-auc:0.892688\teval-f1_score_thr0.2:0.402299\teval-f1_score_thr0.3:0.399683\teval-f1_score_thr0.4:0.398941\teval-f1_score_thr0.5:0.395732\teval-f1_score_thr0.6:0.386149\teval-f1_score_thr0.7:0.345848\n",
      "[21:14:13] /workspace/src/tree/updater_prune.cc:74: tree pruning end, 1 roots, 374 extra nodes, 0 pruned nodes, max_depth=10\n",
      "[1]\teval-auc:0.891996\teval-f1_score_thr0.2:0.398268\teval-f1_score_thr0.3:0.402878\teval-f1_score_thr0.4:0.39646\teval-f1_score_thr0.5:0.393762\teval-f1_score_thr0.6:0.381356\teval-f1_score_thr0.7:0.351197\n"
     ]
    },
    {
     "name": "stderr",
     "output_type": "stream",
     "text": [
      "/home/ec2-user/anaconda3/envs/python3/lib/python3.6/site-packages/sklearn/metrics/classification.py:1135: UndefinedMetricWarning: F-score is ill-defined and being set to 0.0 due to no predicted samples.\n",
      "  'precision', 'predicted', average, warn_for)\n"
     ]
    },
    {
     "name": "stdout",
     "output_type": "stream",
     "text": [
      "threshold 0.31\n",
      "max f1_score 0.40483870967741936\n",
      "eta 0.3\n",
      "max_depth 10\n",
      "num_round 53\n",
      "------------------------------\n",
      "[21:14:17] /workspace/src/tree/updater_prune.cc:74: tree pruning end, 1 roots, 422 extra nodes, 0 pruned nodes, max_depth=10\n",
      "[0]\teval-auc:0.892249\teval-f1_score_thr0.2:0.398256\teval-f1_score_thr0.3:0.399356\teval-f1_score_thr0.4:0.402145\teval-f1_score_thr0.5:0.389814\teval-f1_score_thr0.6:0.375667\teval-f1_score_thr0.7:0.350634\n",
      "[21:14:18] /workspace/src/tree/updater_prune.cc:74: tree pruning end, 1 roots, 506 extra nodes, 0 pruned nodes, max_depth=10\n",
      "[1]\teval-auc:0.893046\teval-f1_score_thr0.2:0.397959\teval-f1_score_thr0.3:0.396411\teval-f1_score_thr0.4:0.405745\teval-f1_score_thr0.5:0.4\teval-f1_score_thr0.6:0.385593\teval-f1_score_thr0.7:0.344907\n"
     ]
    },
    {
     "name": "stderr",
     "output_type": "stream",
     "text": [
      "/home/ec2-user/anaconda3/envs/python3/lib/python3.6/site-packages/sklearn/metrics/classification.py:1135: UndefinedMetricWarning: F-score is ill-defined and being set to 0.0 due to no predicted samples.\n",
      "  'precision', 'predicted', average, warn_for)\n"
     ]
    },
    {
     "name": "stdout",
     "output_type": "stream",
     "text": [
      "threshold 0.38\n",
      "max f1_score 0.4060017652250662\n",
      "eta 0.3\n",
      "max_depth 10\n",
      "num_round 55\n",
      "------------------------------\n",
      "[21:14:22] /workspace/src/tree/updater_prune.cc:74: tree pruning end, 1 roots, 304 extra nodes, 0 pruned nodes, max_depth=10\n",
      "[0]\teval-auc:0.89322\teval-f1_score_thr0.2:0.4\teval-f1_score_thr0.3:0.395748\teval-f1_score_thr0.4:0.407507\teval-f1_score_thr0.5:0.401961\teval-f1_score_thr0.6:0.388474\teval-f1_score_thr0.7:0.346821\n",
      "[21:14:23] /workspace/src/tree/updater_prune.cc:74: tree pruning end, 1 roots, 236 extra nodes, 0 pruned nodes, max_depth=10\n",
      "[1]\teval-auc:0.892827\teval-f1_score_thr0.2:0.397652\teval-f1_score_thr0.3:0.395731\teval-f1_score_thr0.4:0.402865\teval-f1_score_thr0.5:0.396825\teval-f1_score_thr0.6:0.390977\teval-f1_score_thr0.7:0.340672\n"
     ]
    },
    {
     "name": "stderr",
     "output_type": "stream",
     "text": [
      "/home/ec2-user/anaconda3/envs/python3/lib/python3.6/site-packages/sklearn/metrics/classification.py:1135: UndefinedMetricWarning: F-score is ill-defined and being set to 0.0 due to no predicted samples.\n",
      "  'precision', 'predicted', average, warn_for)\n"
     ]
    },
    {
     "name": "stdout",
     "output_type": "stream",
     "text": [
      "threshold 0.36\n",
      "max f1_score 0.40727902946273836\n",
      "eta 0.3\n",
      "max_depth 10\n",
      "num_round 57\n",
      "------------------------------\n",
      "[21:14:28] /workspace/src/tree/updater_prune.cc:74: tree pruning end, 1 roots, 354 extra nodes, 0 pruned nodes, max_depth=10\n",
      "[0]\teval-auc:0.893156\teval-f1_score_thr0.2:0.393467\teval-f1_score_thr0.3:0.397035\teval-f1_score_thr0.4:0.398897\teval-f1_score_thr0.5:0.390342\teval-f1_score_thr0.6:0.382385\teval-f1_score_thr0.7:0.343786\n",
      "[21:14:28] /workspace/src/tree/updater_prune.cc:74: tree pruning end, 1 roots, 202 extra nodes, 0 pruned nodes, max_depth=10\n",
      "[1]\teval-auc:0.893234\teval-f1_score_thr0.2:0.397321\teval-f1_score_thr0.3:0.39769\teval-f1_score_thr0.4:0.39781\teval-f1_score_thr0.5:0.38995\teval-f1_score_thr0.6:0.380236\teval-f1_score_thr0.7:0.349133\n"
     ]
    },
    {
     "name": "stderr",
     "output_type": "stream",
     "text": [
      "/home/ec2-user/anaconda3/envs/python3/lib/python3.6/site-packages/sklearn/metrics/classification.py:1135: UndefinedMetricWarning: F-score is ill-defined and being set to 0.0 due to no predicted samples.\n",
      "  'precision', 'predicted', average, warn_for)\n"
     ]
    },
    {
     "name": "stdout",
     "output_type": "stream",
     "text": [
      "threshold 0.36\n",
      "max f1_score 0.404553415061296\n",
      "eta 0.3\n",
      "max_depth 10\n",
      "num_round 59\n",
      "------------------------------\n",
      "[21:14:33] /workspace/src/tree/updater_prune.cc:74: tree pruning end, 1 roots, 276 extra nodes, 0 pruned nodes, max_depth=10\n",
      "[0]\teval-auc:0.893652\teval-f1_score_thr0.2:0.397311\teval-f1_score_thr0.3:0.396382\teval-f1_score_thr0.4:0.402944\teval-f1_score_thr0.5:0.394366\teval-f1_score_thr0.6:0.376216\teval-f1_score_thr0.7:0.349537\n",
      "[21:14:34] /workspace/src/tree/updater_prune.cc:74: tree pruning end, 1 roots, 164 extra nodes, 0 pruned nodes, max_depth=10\n",
      "[1]\teval-auc:0.893965\teval-f1_score_thr0.2:0.398204\teval-f1_score_thr0.3:0.39934\teval-f1_score_thr0.4:0.401843\teval-f1_score_thr0.5:0.394366\teval-f1_score_thr0.6:0.366992\teval-f1_score_thr0.7:0.346512\n"
     ]
    },
    {
     "name": "stderr",
     "output_type": "stream",
     "text": [
      "/home/ec2-user/anaconda3/envs/python3/lib/python3.6/site-packages/sklearn/metrics/classification.py:1135: UndefinedMetricWarning: F-score is ill-defined and being set to 0.0 due to no predicted samples.\n",
      "  'precision', 'predicted', average, warn_for)\n"
     ]
    },
    {
     "name": "stdout",
     "output_type": "stream",
     "text": [
      "threshold 0.37\n",
      "max f1_score 0.4068406840684069\n",
      "eta 0.3\n",
      "max_depth 10\n",
      "num_round 61\n",
      "------------------------------\n",
      "[21:14:38] /workspace/src/tree/updater_prune.cc:74: tree pruning end, 1 roots, 238 extra nodes, 0 pruned nodes, max_depth=10\n",
      "[0]\teval-auc:0.89427\teval-f1_score_thr0.2:0.397581\teval-f1_score_thr0.3:0.396352\teval-f1_score_thr0.4:0.402245\teval-f1_score_thr0.5:0.390244\teval-f1_score_thr0.6:0.370774\teval-f1_score_thr0.7:0.344587\n",
      "[21:14:39] /workspace/src/tree/updater_prune.cc:74: tree pruning end, 1 roots, 320 extra nodes, 0 pruned nodes, max_depth=10\n",
      "[1]\teval-auc:0.894362\teval-f1_score_thr0.2:0.395455\teval-f1_score_thr0.3:0.401015\teval-f1_score_thr0.4:0.399625\teval-f1_score_thr0.5:0.387424\teval-f1_score_thr0.6:0.375824\teval-f1_score_thr0.7:0.350755\n"
     ]
    },
    {
     "name": "stderr",
     "output_type": "stream",
     "text": [
      "/home/ec2-user/anaconda3/envs/python3/lib/python3.6/site-packages/sklearn/metrics/classification.py:1135: UndefinedMetricWarning: F-score is ill-defined and being set to 0.0 due to no predicted samples.\n",
      "  'precision', 'predicted', average, warn_for)\n"
     ]
    },
    {
     "name": "stdout",
     "output_type": "stream",
     "text": [
      "threshold 0.11\n",
      "max f1_score 0.4050297816015884\n",
      "eta 0.3\n",
      "max_depth 10\n",
      "num_round 63\n",
      "------------------------------\n",
      "[21:14:43] /workspace/src/tree/updater_prune.cc:74: tree pruning end, 1 roots, 288 extra nodes, 0 pruned nodes, max_depth=10\n",
      "[0]\teval-auc:0.894537\teval-f1_score_thr0.2:0.397563\teval-f1_score_thr0.3:0.39527\teval-f1_score_thr0.4:0.407512\teval-f1_score_thr0.5:0.389113\teval-f1_score_thr0.6:0.376368\teval-f1_score_thr0.7:0.352668\n",
      "[21:14:44] /workspace/src/tree/updater_prune.cc:74: tree pruning end, 1 roots, 338 extra nodes, 0 pruned nodes, max_depth=10\n",
      "[1]\teval-auc:0.894547\teval-f1_score_thr0.2:0.398479\teval-f1_score_thr0.3:0.396259\teval-f1_score_thr0.4:0.403409\teval-f1_score_thr0.5:0.387487\teval-f1_score_thr0.6:0.37432\teval-f1_score_thr0.7:0.357309\n"
     ]
    },
    {
     "name": "stderr",
     "output_type": "stream",
     "text": [
      "/home/ec2-user/anaconda3/envs/python3/lib/python3.6/site-packages/sklearn/metrics/classification.py:1135: UndefinedMetricWarning: F-score is ill-defined and being set to 0.0 due to no predicted samples.\n",
      "  'precision', 'predicted', average, warn_for)\n"
     ]
    },
    {
     "name": "stdout",
     "output_type": "stream",
     "text": [
      "threshold 0.09\n",
      "max f1_score 0.4083703233988586\n",
      "eta 0.3\n",
      "max_depth 10\n",
      "num_round 65\n",
      "------------------------------\n",
      "[21:14:48] /workspace/src/tree/updater_prune.cc:74: tree pruning end, 1 roots, 156 extra nodes, 0 pruned nodes, max_depth=10\n",
      "[0]\teval-auc:0.894207\teval-f1_score_thr0.2:0.397554\teval-f1_score_thr0.3:0.399309\teval-f1_score_thr0.4:0.404155\teval-f1_score_thr0.5:0.384615\teval-f1_score_thr0.6:0.376087\teval-f1_score_thr0.7:0.356228\n",
      "[21:14:49] /workspace/src/tree/updater_prune.cc:74: tree pruning end, 1 roots, 302 extra nodes, 0 pruned nodes, max_depth=10\n",
      "[1]\teval-auc:0.894272\teval-f1_score_thr0.2:0.396618\teval-f1_score_thr0.3:0.400697\teval-f1_score_thr0.4:0.401522\teval-f1_score_thr0.5:0.379205\teval-f1_score_thr0.6:0.372399\teval-f1_score_thr0.7:0.347725\n"
     ]
    },
    {
     "name": "stderr",
     "output_type": "stream",
     "text": [
      "/home/ec2-user/anaconda3/envs/python3/lib/python3.6/site-packages/sklearn/metrics/classification.py:1135: UndefinedMetricWarning: F-score is ill-defined and being set to 0.0 due to no predicted samples.\n",
      "  'precision', 'predicted', average, warn_for)\n"
     ]
    },
    {
     "name": "stdout",
     "output_type": "stream",
     "text": [
      "threshold 0.29\n",
      "max f1_score 0.4075342465753425\n",
      "eta 0.3\n",
      "max_depth 10\n",
      "num_round 67\n",
      "------------------------------\n",
      "[21:14:53] /workspace/src/tree/updater_prune.cc:74: tree pruning end, 1 roots, 350 extra nodes, 0 pruned nodes, max_depth=10\n",
      "[0]\teval-auc:0.894007\teval-f1_score_thr0.2:0.397229\teval-f1_score_thr0.3:0.397548\teval-f1_score_thr0.4:0.405328\teval-f1_score_thr0.5:0.383282\teval-f1_score_thr0.6:0.371991\teval-f1_score_thr0.7:0.343057\n",
      "[21:14:54] /workspace/src/tree/updater_prune.cc:74: tree pruning end, 1 roots, 246 extra nodes, 0 pruned nodes, max_depth=10\n",
      "[1]\teval-auc:0.894177\teval-f1_score_thr0.2:0.398148\teval-f1_score_thr0.3:0.4\teval-f1_score_thr0.4:0.40613\teval-f1_score_thr0.5:0.381538\teval-f1_score_thr0.6:0.373913\teval-f1_score_thr0.7:0.346199\n"
     ]
    },
    {
     "name": "stderr",
     "output_type": "stream",
     "text": [
      "/home/ec2-user/anaconda3/envs/python3/lib/python3.6/site-packages/sklearn/metrics/classification.py:1135: UndefinedMetricWarning: F-score is ill-defined and being set to 0.0 due to no predicted samples.\n",
      "  'precision', 'predicted', average, warn_for)\n"
     ]
    },
    {
     "name": "stdout",
     "output_type": "stream",
     "text": [
      "threshold 0.39\n",
      "max f1_score 0.4064272211720227\n",
      "eta 0.3\n",
      "max_depth 10\n",
      "num_round 69\n",
      "------------------------------\n",
      "[21:14:59] /workspace/src/tree/updater_prune.cc:74: tree pruning end, 1 roots, 382 extra nodes, 0 pruned nodes, max_depth=10\n",
      "[0]\teval-auc:0.894829\teval-f1_score_thr0.2:0.395639\teval-f1_score_thr0.3:0.397559\teval-f1_score_thr0.4:0.40153\teval-f1_score_thr0.5:0.384774\teval-f1_score_thr0.6:0.370614\teval-f1_score_thr0.7:0.34152\n",
      "[21:14:59] /workspace/src/tree/updater_prune.cc:74: tree pruning end, 1 roots, 308 extra nodes, 0 pruned nodes, max_depth=10\n",
      "[1]\teval-auc:0.895104\teval-f1_score_thr0.2:0.401556\teval-f1_score_thr0.3:0.4\teval-f1_score_thr0.4:0.40691\teval-f1_score_thr0.5:0.382323\teval-f1_score_thr0.6:0.364435\teval-f1_score_thr0.7:0.348131\n"
     ]
    },
    {
     "name": "stderr",
     "output_type": "stream",
     "text": [
      "/home/ec2-user/anaconda3/envs/python3/lib/python3.6/site-packages/sklearn/metrics/classification.py:1135: UndefinedMetricWarning: F-score is ill-defined and being set to 0.0 due to no predicted samples.\n",
      "  'precision', 'predicted', average, warn_for)\n"
     ]
    },
    {
     "name": "stdout",
     "output_type": "stream",
     "text": [
      "threshold 0.08\n",
      "max f1_score 0.40865690642902613\n",
      "eta 0.3\n",
      "max_depth 10\n",
      "num_round 71\n",
      "------------------------------\n",
      "[21:15:04] /workspace/src/tree/updater_prune.cc:74: tree pruning end, 1 roots, 326 extra nodes, 0 pruned nodes, max_depth=10\n",
      "[0]\teval-auc:0.895251\teval-f1_score_thr0.2:0.40344\teval-f1_score_thr0.3:0.400351\teval-f1_score_thr0.4:0.401157\teval-f1_score_thr0.5:0.389344\teval-f1_score_thr0.6:0.364238\teval-f1_score_thr0.7:0.344988\n",
      "[21:15:05] /workspace/src/tree/updater_prune.cc:74: tree pruning end, 1 roots, 154 extra nodes, 0 pruned nodes, max_depth=10\n",
      "[1]\teval-auc:0.895148\teval-f1_score_thr0.2:0.400314\teval-f1_score_thr0.3:0.407048\teval-f1_score_thr0.4:0.398844\teval-f1_score_thr0.5:0.389744\teval-f1_score_thr0.6:0.361419\teval-f1_score_thr0.7:0.344666\n"
     ]
    },
    {
     "name": "stderr",
     "output_type": "stream",
     "text": [
      "/home/ec2-user/anaconda3/envs/python3/lib/python3.6/site-packages/sklearn/metrics/classification.py:1135: UndefinedMetricWarning: F-score is ill-defined and being set to 0.0 due to no predicted samples.\n",
      "  'precision', 'predicted', average, warn_for)\n"
     ]
    },
    {
     "name": "stdout",
     "output_type": "stream",
     "text": [
      "threshold 0.13\n",
      "max f1_score 0.4094151212553495\n",
      "eta 0.3\n",
      "max_depth 10\n",
      "num_round 73\n",
      "------------------------------\n",
      "[21:15:09] /workspace/src/tree/updater_prune.cc:74: tree pruning end, 1 roots, 110 extra nodes, 0 pruned nodes, max_depth=10\n",
      "[0]\teval-auc:0.895092\teval-f1_score_thr0.2:0.401891\teval-f1_score_thr0.3:0.40672\teval-f1_score_thr0.4:0.398453\teval-f1_score_thr0.5:0.38723\teval-f1_score_thr0.6:0.363839\teval-f1_score_thr0.7:0.342723\n",
      "[21:15:10] /workspace/src/tree/updater_prune.cc:74: tree pruning end, 1 roots, 256 extra nodes, 0 pruned nodes, max_depth=10\n",
      "[1]\teval-auc:0.895182\teval-f1_score_thr0.2:0.400315\teval-f1_score_thr0.3:0.40669\teval-f1_score_thr0.4:0.397274\teval-f1_score_thr0.5:0.38517\teval-f1_score_thr0.6:0.361607\teval-f1_score_thr0.7:0.34507\n"
     ]
    },
    {
     "name": "stderr",
     "output_type": "stream",
     "text": [
      "/home/ec2-user/anaconda3/envs/python3/lib/python3.6/site-packages/sklearn/metrics/classification.py:1135: UndefinedMetricWarning: F-score is ill-defined and being set to 0.0 due to no predicted samples.\n",
      "  'precision', 'predicted', average, warn_for)\n"
     ]
    },
    {
     "name": "stdout",
     "output_type": "stream",
     "text": [
      "threshold 0.13\n",
      "max f1_score 0.4080459770114942\n",
      "eta 0.3\n",
      "max_depth 10\n",
      "num_round 75\n",
      "------------------------------\n",
      "[21:15:14] /workspace/src/tree/updater_prune.cc:74: tree pruning end, 1 roots, 222 extra nodes, 0 pruned nodes, max_depth=10\n",
      "[0]\teval-auc:0.895139\teval-f1_score_thr0.2:0.402217\teval-f1_score_thr0.3:0.409131\teval-f1_score_thr0.4:0.39961\teval-f1_score_thr0.5:0.385965\teval-f1_score_thr0.6:0.36626\teval-f1_score_thr0.7:0.346698\n",
      "[21:15:15] /workspace/src/tree/updater_prune.cc:74: tree pruning end, 1 roots, 236 extra nodes, 0 pruned nodes, max_depth=10\n",
      "[1]\teval-auc:0.894667\teval-f1_score_thr0.2:0.398406\teval-f1_score_thr0.3:0.404614\teval-f1_score_thr0.4:0.393762\teval-f1_score_thr0.5:0.385492\teval-f1_score_thr0.6:0.36485\teval-f1_score_thr0.7:0.349057\n"
     ]
    },
    {
     "name": "stderr",
     "output_type": "stream",
     "text": [
      "/home/ec2-user/anaconda3/envs/python3/lib/python3.6/site-packages/sklearn/metrics/classification.py:1135: UndefinedMetricWarning: F-score is ill-defined and being set to 0.0 due to no predicted samples.\n",
      "  'precision', 'predicted', average, warn_for)\n"
     ]
    },
    {
     "name": "stdout",
     "output_type": "stream",
     "text": [
      "threshold 0.14\n",
      "max f1_score 0.41085840058694056\n",
      "eta 0.3\n",
      "max_depth 10\n",
      "num_round 77\n",
      "------------------------------\n",
      "[21:15:19] /workspace/src/tree/updater_prune.cc:74: tree pruning end, 1 roots, 306 extra nodes, 0 pruned nodes, max_depth=10\n",
      "[0]\teval-auc:0.89428\teval-f1_score_thr0.2:0.400958\teval-f1_score_thr0.3:0.404996\teval-f1_score_thr0.4:0.400782\teval-f1_score_thr0.5:0.383246\teval-f1_score_thr0.6:0.36485\teval-f1_score_thr0.7:0.343602\n",
      "[21:15:20] /workspace/src/tree/updater_prune.cc:74: tree pruning end, 1 roots, 322 extra nodes, 0 pruned nodes, max_depth=10\n",
      "[1]\teval-auc:0.893883\teval-f1_score_thr0.2:0.4016\teval-f1_score_thr0.3:0.402852\teval-f1_score_thr0.4:0.402355\teval-f1_score_thr0.5:0.387029\teval-f1_score_thr0.6:0.365256\teval-f1_score_thr0.7:0.343602\n"
     ]
    },
    {
     "name": "stderr",
     "output_type": "stream",
     "text": [
      "/home/ec2-user/anaconda3/envs/python3/lib/python3.6/site-packages/sklearn/metrics/classification.py:1135: UndefinedMetricWarning: F-score is ill-defined and being set to 0.0 due to no predicted samples.\n",
      "  'precision', 'predicted', average, warn_for)\n"
     ]
    },
    {
     "name": "stdout",
     "output_type": "stream",
     "text": [
      "threshold 0.11\n",
      "max f1_score 0.4132581100141044\n",
      "eta 0.3\n",
      "max_depth 10\n",
      "num_round 79\n",
      "------------------------------\n",
      "[21:15:24] /workspace/src/tree/updater_prune.cc:74: tree pruning end, 1 roots, 188 extra nodes, 0 pruned nodes, max_depth=10\n",
      "[0]\teval-auc:0.894032\teval-f1_score_thr0.2:0.403523\teval-f1_score_thr0.3:0.401074\teval-f1_score_thr0.4:0.405458\teval-f1_score_thr0.5:0.388773\teval-f1_score_thr0.6:0.36626\teval-f1_score_thr0.7:0.346382\n",
      "[21:15:25] /workspace/src/tree/updater_prune.cc:74: tree pruning end, 1 roots, 194 extra nodes, 0 pruned nodes, max_depth=10\n",
      "[1]\teval-auc:0.893944\teval-f1_score_thr0.2:0.407705\teval-f1_score_thr0.3:0.398922\teval-f1_score_thr0.4:0.401942\teval-f1_score_thr0.5:0.384535\teval-f1_score_thr0.6:0.372352\teval-f1_score_thr0.7:0.347929\n"
     ]
    },
    {
     "name": "stderr",
     "output_type": "stream",
     "text": [
      "/home/ec2-user/anaconda3/envs/python3/lib/python3.6/site-packages/sklearn/metrics/classification.py:1135: UndefinedMetricWarning: F-score is ill-defined and being set to 0.0 due to no predicted samples.\n",
      "  'precision', 'predicted', average, warn_for)\n"
     ]
    },
    {
     "name": "stdout",
     "output_type": "stream",
     "text": [
      "threshold 0.12\n",
      "max f1_score 0.4132469402447804\n",
      "eta 0.3\n",
      "max_depth 10\n",
      "num_round 81\n",
      "------------------------------\n",
      "[21:15:30] /workspace/src/tree/updater_prune.cc:74: tree pruning end, 1 roots, 242 extra nodes, 0 pruned nodes, max_depth=10\n",
      "[0]\teval-auc:0.894082\teval-f1_score_thr0.2:0.40708\teval-f1_score_thr0.3:0.401084\teval-f1_score_thr0.4:0.402724\teval-f1_score_thr0.5:0.394161\teval-f1_score_thr0.6:0.367893\teval-f1_score_thr0.7:0.349469\n",
      "[21:15:31] /workspace/src/tree/updater_prune.cc:74: tree pruning end, 1 roots, 350 extra nodes, 0 pruned nodes, max_depth=10\n",
      "[1]\teval-auc:0.894183\teval-f1_score_thr0.2:0.408097\teval-f1_score_thr0.3:0.400362\teval-f1_score_thr0.4:0.400391\teval-f1_score_thr0.5:0.388248\teval-f1_score_thr0.6:0.368304\teval-f1_score_thr0.7:0.345882\n"
     ]
    },
    {
     "name": "stderr",
     "output_type": "stream",
     "text": [
      "/home/ec2-user/anaconda3/envs/python3/lib/python3.6/site-packages/sklearn/metrics/classification.py:1135: UndefinedMetricWarning: F-score is ill-defined and being set to 0.0 due to no predicted samples.\n",
      "  'precision', 'predicted', average, warn_for)\n"
     ]
    },
    {
     "name": "stdout",
     "output_type": "stream",
     "text": [
      "threshold 0.1\n",
      "max f1_score 0.41065171688857743\n",
      "eta 0.3\n",
      "max_depth 10\n",
      "num_round 83\n",
      "------------------------------\n",
      "[21:15:35] /workspace/src/tree/updater_prune.cc:74: tree pruning end, 1 roots, 252 extra nodes, 0 pruned nodes, max_depth=10\n",
      "[0]\teval-auc:0.894358\teval-f1_score_thr0.2:0.408462\teval-f1_score_thr0.3:0.404332\teval-f1_score_thr0.4:0.397638\teval-f1_score_thr0.5:0.382353\teval-f1_score_thr0.6:0.370123\teval-f1_score_thr0.7:0.341232\n",
      "[21:15:36] /workspace/src/tree/updater_prune.cc:74: tree pruning end, 1 roots, 258 extra nodes, 0 pruned nodes, max_depth=10\n",
      "[1]\teval-auc:0.894536\teval-f1_score_thr0.2:0.403595\teval-f1_score_thr0.3:0.400361\teval-f1_score_thr0.4:0.394867\teval-f1_score_thr0.5:0.384454\teval-f1_score_thr0.6:0.365663\teval-f1_score_thr0.7:0.34434\n"
     ]
    },
    {
     "name": "stderr",
     "output_type": "stream",
     "text": [
      "/home/ec2-user/anaconda3/envs/python3/lib/python3.6/site-packages/sklearn/metrics/classification.py:1135: UndefinedMetricWarning: F-score is ill-defined and being set to 0.0 due to no predicted samples.\n",
      "  'precision', 'predicted', average, warn_for)\n"
     ]
    },
    {
     "name": "stdout",
     "output_type": "stream",
     "text": [
      "threshold 0.06\n",
      "max f1_score 0.41146496815286626\n",
      "eta 0.3\n",
      "max_depth 10\n",
      "num_round 85\n",
      "------------------------------\n",
      "[21:15:40] /workspace/src/tree/updater_prune.cc:74: tree pruning end, 1 roots, 100 extra nodes, 0 pruned nodes, max_depth=10\n",
      "[0]\teval-auc:0.894791\teval-f1_score_thr0.2:0.403595\teval-f1_score_thr0.3:0.39783\teval-f1_score_thr0.4:0.394059\teval-f1_score_thr0.5:0.382755\teval-f1_score_thr0.6:0.366071\teval-f1_score_thr0.7:0.34279\n",
      "[21:15:41] /workspace/src/tree/updater_prune.cc:74: tree pruning end, 1 roots, 284 extra nodes, 0 pruned nodes, max_depth=10\n",
      "[1]\teval-auc:0.894598\teval-f1_score_thr0.2:0.405892\teval-f1_score_thr0.3:0.4\teval-f1_score_thr0.4:0.392079\teval-f1_score_thr0.5:0.38226\teval-f1_score_thr0.6:0.368715\teval-f1_score_thr0.7:0.343602\n"
     ]
    },
    {
     "name": "stderr",
     "output_type": "stream",
     "text": [
      "/home/ec2-user/anaconda3/envs/python3/lib/python3.6/site-packages/sklearn/metrics/classification.py:1135: UndefinedMetricWarning: F-score is ill-defined and being set to 0.0 due to no predicted samples.\n",
      "  'precision', 'predicted', average, warn_for)\n"
     ]
    },
    {
     "name": "stdout",
     "output_type": "stream",
     "text": [
      "threshold 0.06\n",
      "max f1_score 0.410941475826972\n",
      "eta 0.3\n",
      "max_depth 10\n",
      "num_round 87\n",
      "------------------------------\n",
      "[21:15:45] /workspace/src/tree/updater_prune.cc:74: tree pruning end, 1 roots, 124 extra nodes, 0 pruned nodes, max_depth=10\n",
      "[0]\teval-auc:0.894687\teval-f1_score_thr0.2:0.407195\teval-f1_score_thr0.3:0.397448\teval-f1_score_thr0.4:0.391261\teval-f1_score_thr0.5:0.384372\teval-f1_score_thr0.6:0.368715\teval-f1_score_thr0.7:0.341637\n",
      "[21:15:46] /workspace/src/tree/updater_prune.cc:74: tree pruning end, 1 roots, 258 extra nodes, 0 pruned nodes, max_depth=10\n",
      "[1]\teval-auc:0.89508\teval-f1_score_thr0.2:0.405229\teval-f1_score_thr0.3:0.4\teval-f1_score_thr0.4:0.392079\teval-f1_score_thr0.5:0.382353\teval-f1_score_thr0.6:0.36648\teval-f1_score_thr0.7:0.344418\n"
     ]
    },
    {
     "name": "stderr",
     "output_type": "stream",
     "text": [
      "/home/ec2-user/anaconda3/envs/python3/lib/python3.6/site-packages/sklearn/metrics/classification.py:1135: UndefinedMetricWarning: F-score is ill-defined and being set to 0.0 due to no predicted samples.\n",
      "  'precision', 'predicted', average, warn_for)\n"
     ]
    },
    {
     "name": "stdout",
     "output_type": "stream",
     "text": [
      "threshold 0.13\n",
      "max f1_score 0.4114114114114114\n",
      "eta 0.3\n",
      "max_depth 10\n",
      "num_round 89\n",
      "------------------------------\n",
      "[21:15:50] /workspace/src/tree/updater_prune.cc:74: tree pruning end, 1 roots, 226 extra nodes, 0 pruned nodes, max_depth=10\n",
      "[0]\teval-auc:0.895502\teval-f1_score_thr0.2:0.40756\teval-f1_score_thr0.3:0.40293\teval-f1_score_thr0.4:0.39005\teval-f1_score_thr0.5:0.375924\teval-f1_score_thr0.6:0.362416\teval-f1_score_thr0.7:0.347206\n",
      "[21:15:51] /workspace/src/tree/updater_prune.cc:74: tree pruning end, 1 roots, 226 extra nodes, 0 pruned nodes, max_depth=10\n",
      "[1]\teval-auc:0.895423\teval-f1_score_thr0.2:0.407255\teval-f1_score_thr0.3:0.401835\teval-f1_score_thr0.4:0.389662\teval-f1_score_thr0.5:0.371156\teval-f1_score_thr0.6:0.358512\teval-f1_score_thr0.7:0.346793\n"
     ]
    },
    {
     "name": "stderr",
     "output_type": "stream",
     "text": [
      "/home/ec2-user/anaconda3/envs/python3/lib/python3.6/site-packages/sklearn/metrics/classification.py:1135: UndefinedMetricWarning: F-score is ill-defined and being set to 0.0 due to no predicted samples.\n",
      "  'precision', 'predicted', average, warn_for)\n"
     ]
    },
    {
     "name": "stdout",
     "output_type": "stream",
     "text": [
      "threshold 0.28\n",
      "max f1_score 0.410762331838565\n",
      "eta 0.3\n",
      "max_depth 10\n",
      "num_round 91\n",
      "------------------------------\n",
      "[21:15:56] /workspace/src/tree/updater_prune.cc:74: tree pruning end, 1 roots, 296 extra nodes, 0 pruned nodes, max_depth=10\n",
      "[0]\teval-auc:0.895817\teval-f1_score_thr0.2:0.402998\teval-f1_score_thr0.3:0.40518\teval-f1_score_thr0.4:0.39039\teval-f1_score_thr0.5:0.37407\teval-f1_score_thr0.6:0.356257\teval-f1_score_thr0.7:0.348754\n",
      "[21:15:57] /workspace/src/tree/updater_prune.cc:74: tree pruning end, 1 roots, 106 extra nodes, 0 pruned nodes, max_depth=10\n",
      "[1]\teval-auc:0.895965\teval-f1_score_thr0.2:0.405338\teval-f1_score_thr0.3:0.40518\teval-f1_score_thr0.4:0.392\teval-f1_score_thr0.5:0.373277\teval-f1_score_thr0.6:0.359551\teval-f1_score_thr0.7:0.345972\n"
     ]
    },
    {
     "name": "stderr",
     "output_type": "stream",
     "text": [
      "/home/ec2-user/anaconda3/envs/python3/lib/python3.6/site-packages/sklearn/metrics/classification.py:1135: UndefinedMetricWarning: F-score is ill-defined and being set to 0.0 due to no predicted samples.\n",
      "  'precision', 'predicted', average, warn_for)\n"
     ]
    },
    {
     "name": "stdout",
     "output_type": "stream",
     "text": [
      "threshold 0.06\n",
      "max f1_score 0.4108878807517823\n",
      "eta 0.3\n",
      "max_depth 10\n",
      "num_round 93\n",
      "------------------------------\n",
      "[21:16:01] /workspace/src/tree/updater_prune.cc:74: tree pruning end, 1 roots, 124 extra nodes, 0 pruned nodes, max_depth=10\n",
      "[0]\teval-auc:0.89603\teval-f1_score_thr0.2:0.404344\teval-f1_score_thr0.3:0.406654\teval-f1_score_thr0.4:0.390782\teval-f1_score_thr0.5:0.380042\teval-f1_score_thr0.6:0.363636\teval-f1_score_thr0.7:0.353499\n",
      "[21:16:02] /workspace/src/tree/updater_prune.cc:74: tree pruning end, 1 roots, 210 extra nodes, 0 pruned nodes, max_depth=10\n",
      "[1]\teval-auc:0.895948\teval-f1_score_thr0.2:0.403333\teval-f1_score_thr0.3:0.405931\teval-f1_score_thr0.4:0.395186\teval-f1_score_thr0.5:0.377119\teval-f1_score_thr0.6:0.363636\teval-f1_score_thr0.7:0.349469\n"
     ]
    },
    {
     "name": "stderr",
     "output_type": "stream",
     "text": [
      "/home/ec2-user/anaconda3/envs/python3/lib/python3.6/site-packages/sklearn/metrics/classification.py:1135: UndefinedMetricWarning: F-score is ill-defined and being set to 0.0 due to no predicted samples.\n",
      "  'precision', 'predicted', average, warn_for)\n"
     ]
    },
    {
     "name": "stdout",
     "output_type": "stream",
     "text": [
      "threshold 0.05\n",
      "max f1_score 0.40951784596117724\n",
      "eta 0.3\n",
      "max_depth 10\n",
      "num_round 95\n",
      "------------------------------\n",
      "[21:16:06] /workspace/src/tree/updater_prune.cc:74: tree pruning end, 1 roots, 132 extra nodes, 0 pruned nodes, max_depth=10\n",
      "[0]\teval-auc:0.896126\teval-f1_score_thr0.2:0.406328\teval-f1_score_thr0.3:0.405931\teval-f1_score_thr0.4:0.392786\teval-f1_score_thr0.5:0.376596\teval-f1_score_thr0.6:0.365062\teval-f1_score_thr0.7:0.351544\n",
      "[21:16:07] /workspace/src/tree/updater_prune.cc:74: tree pruning end, 1 roots, 124 extra nodes, 0 pruned nodes, max_depth=10\n",
      "[1]\teval-auc:0.896249\teval-f1_score_thr0.2:0.405316\teval-f1_score_thr0.3:0.410019\teval-f1_score_thr0.4:0.392786\teval-f1_score_thr0.5:0.380042\teval-f1_score_thr0.6:0.365062\teval-f1_score_thr0.7:0.355872\n"
     ]
    },
    {
     "name": "stderr",
     "output_type": "stream",
     "text": [
      "/home/ec2-user/anaconda3/envs/python3/lib/python3.6/site-packages/sklearn/metrics/classification.py:1135: UndefinedMetricWarning: F-score is ill-defined and being set to 0.0 due to no predicted samples.\n",
      "  'precision', 'predicted', average, warn_for)\n"
     ]
    },
    {
     "name": "stdout",
     "output_type": "stream",
     "text": [
      "threshold 0.27\n",
      "max f1_score 0.41192411924119243\n",
      "eta 0.3\n",
      "max_depth 10\n",
      "num_round 97\n",
      "------------------------------\n",
      "[21:16:11] /workspace/src/tree/updater_prune.cc:74: tree pruning end, 1 roots, 170 extra nodes, 0 pruned nodes, max_depth=10\n",
      "[0]\teval-auc:0.89623\teval-f1_score_thr0.2:0.404682\teval-f1_score_thr0.3:0.407407\teval-f1_score_thr0.4:0.398\teval-f1_score_thr0.5:0.377399\teval-f1_score_thr0.6:0.366292\teval-f1_score_thr0.7:0.356295\n",
      "[21:16:12] /workspace/src/tree/updater_prune.cc:74: tree pruning end, 1 roots, 108 extra nodes, 0 pruned nodes, max_depth=10\n",
      "[1]\teval-auc:0.896133\teval-f1_score_thr0.2:0.40536\teval-f1_score_thr0.3:0.404453\teval-f1_score_thr0.4:0.396\teval-f1_score_thr0.5:0.377399\teval-f1_score_thr0.6:0.364454\teval-f1_score_thr0.7:0.35503\n"
     ]
    },
    {
     "name": "stderr",
     "output_type": "stream",
     "text": [
      "/home/ec2-user/anaconda3/envs/python3/lib/python3.6/site-packages/sklearn/metrics/classification.py:1135: UndefinedMetricWarning: F-score is ill-defined and being set to 0.0 due to no predicted samples.\n",
      "  'precision', 'predicted', average, warn_for)\n"
     ]
    },
    {
     "name": "stdout",
     "output_type": "stream",
     "text": [
      "threshold 0.27\n",
      "max f1_score 0.41039426523297495\n",
      "eta 0.3\n",
      "max_depth 10\n",
      "num_round 99\n",
      "------------------------------\n",
      "[21:16:16] /workspace/src/tree/updater_prune.cc:74: tree pruning end, 1 roots, 76 extra nodes, 0 pruned nodes, max_depth=10\n",
      "[0]\teval-auc:0.896007\teval-f1_score_thr0.2:0.404702\teval-f1_score_thr0.3:0.403704\teval-f1_score_thr0.4:0.396\teval-f1_score_thr0.5:0.376068\teval-f1_score_thr0.6:0.362613\teval-f1_score_thr0.7:0.353499\n",
      "[21:16:17] /workspace/src/tree/updater_prune.cc:74: tree pruning end, 1 roots, 160 extra nodes, 0 pruned nodes, max_depth=10\n",
      "[1]\teval-auc:0.896013\teval-f1_score_thr0.2:0.405042\teval-f1_score_thr0.3:0.40518\teval-f1_score_thr0.4:0.395186\teval-f1_score_thr0.5:0.378205\teval-f1_score_thr0.6:0.359955\teval-f1_score_thr0.7:0.351544\n"
     ]
    },
    {
     "name": "stderr",
     "output_type": "stream",
     "text": [
      "/home/ec2-user/anaconda3/envs/python3/lib/python3.6/site-packages/sklearn/metrics/classification.py:1135: UndefinedMetricWarning: F-score is ill-defined and being set to 0.0 due to no predicted samples.\n",
      "  'precision', 'predicted', average, warn_for)\n"
     ]
    },
    {
     "name": "stdout",
     "output_type": "stream",
     "text": [
      "threshold 0.22\n",
      "max f1_score 0.4099060631938514\n",
      "eta 0.3\n",
      "max_depth 10\n",
      "num_round 101\n",
      "------------------------------\n",
      "[21:16:22] /workspace/src/tree/updater_prune.cc:74: tree pruning end, 1 roots, 176 extra nodes, 0 pruned nodes, max_depth=10\n",
      "[0]\teval-auc:0.896063\teval-f1_score_thr0.2:0.405042\teval-f1_score_thr0.3:0.405931\teval-f1_score_thr0.4:0.391129\teval-f1_score_thr0.5:0.374732\teval-f1_score_thr0.6:0.359955\teval-f1_score_thr0.7:0.351127\n",
      "[21:16:23] /workspace/src/tree/updater_prune.cc:74: tree pruning end, 1 roots, 154 extra nodes, 0 pruned nodes, max_depth=10\n",
      "[1]\teval-auc:0.896058\teval-f1_score_thr0.2:0.404344\teval-f1_score_thr0.3:0.403704\teval-f1_score_thr0.4:0.392354\teval-f1_score_thr0.5:0.376471\teval-f1_score_thr0.6:0.359955\teval-f1_score_thr0.7:0.345562\n"
     ]
    },
    {
     "name": "stderr",
     "output_type": "stream",
     "text": [
      "/home/ec2-user/anaconda3/envs/python3/lib/python3.6/site-packages/sklearn/metrics/classification.py:1135: UndefinedMetricWarning: F-score is ill-defined and being set to 0.0 due to no predicted samples.\n",
      "  'precision', 'predicted', average, warn_for)\n"
     ]
    },
    {
     "name": "stdout",
     "output_type": "stream",
     "text": [
      "threshold 0.06\n",
      "max f1_score 0.4102564102564103\n",
      "eta 0.3\n",
      "max_depth 10\n",
      "num_round 103\n",
      "------------------------------\n",
      "[21:16:27] /workspace/src/tree/updater_prune.cc:74: tree pruning end, 1 roots, 164 extra nodes, 0 pruned nodes, max_depth=10\n",
      "[0]\teval-auc:0.896054\teval-f1_score_thr0.2:0.403347\teval-f1_score_thr0.3:0.40148\teval-f1_score_thr0.4:0.393145\teval-f1_score_thr0.5:0.370847\teval-f1_score_thr0.6:0.355856\teval-f1_score_thr0.7:0.342043\n",
      "[21:16:28] /workspace/src/tree/updater_prune.cc:74: tree pruning end, 1 roots, 174 extra nodes, 0 pruned nodes, max_depth=10\n",
      "[1]\teval-auc:0.896064\teval-f1_score_thr0.2:0.402027\teval-f1_score_thr0.3:0.404453\teval-f1_score_thr0.4:0.391878\teval-f1_score_thr0.5:0.369099\teval-f1_score_thr0.6:0.358512\teval-f1_score_thr0.7:0.339667\n"
     ]
    },
    {
     "name": "stderr",
     "output_type": "stream",
     "text": [
      "/home/ec2-user/anaconda3/envs/python3/lib/python3.6/site-packages/sklearn/metrics/classification.py:1135: UndefinedMetricWarning: F-score is ill-defined and being set to 0.0 due to no predicted samples.\n",
      "  'precision', 'predicted', average, warn_for)\n"
     ]
    },
    {
     "name": "stdout",
     "output_type": "stream",
     "text": [
      "threshold 0.06\n",
      "max f1_score 0.4084600132187707\n",
      "eta 0.3\n",
      "max_depth 10\n",
      "num_round 105\n",
      "------------------------------\n",
      "[21:16:32] /workspace/src/tree/updater_prune.cc:74: tree pruning end, 1 roots, 210 extra nodes, 0 pruned nodes, max_depth=10\n",
      "[0]\teval-auc:0.895918\teval-f1_score_thr0.2:0.404075\teval-f1_score_thr0.3:0.404097\teval-f1_score_thr0.4:0.392276\teval-f1_score_thr0.5:0.370847\teval-f1_score_thr0.6:0.359955\teval-f1_score_thr0.7:0.343195\n",
      "[21:16:33] /workspace/src/tree/updater_prune.cc:74: tree pruning end, 1 roots, 226 extra nodes, 0 pruned nodes, max_depth=10\n",
      "[1]\teval-auc:0.896067\teval-f1_score_thr0.2:0.402707\teval-f1_score_thr0.3:0.40261\teval-f1_score_thr0.4:0.389452\teval-f1_score_thr0.5:0.372591\teval-f1_score_thr0.6:0.354002\teval-f1_score_thr0.7:0.345562\n"
     ]
    },
    {
     "name": "stderr",
     "output_type": "stream",
     "text": [
      "/home/ec2-user/anaconda3/envs/python3/lib/python3.6/site-packages/sklearn/metrics/classification.py:1135: UndefinedMetricWarning: F-score is ill-defined and being set to 0.0 due to no predicted samples.\n",
      "  'precision', 'predicted', average, warn_for)\n"
     ]
    },
    {
     "name": "stdout",
     "output_type": "stream",
     "text": [
      "threshold 0.15\n",
      "max f1_score 0.41021548284118114\n",
      "eta 0.3\n",
      "max_depth 10\n",
      "num_round 107\n",
      "------------------------------\n",
      "[21:16:37] /workspace/src/tree/updater_prune.cc:74: tree pruning end, 1 roots, 126 extra nodes, 0 pruned nodes, max_depth=10\n",
      "[0]\teval-auc:0.896297\teval-f1_score_thr0.2:0.409168\teval-f1_score_thr0.3:0.407096\teval-f1_score_thr0.4:0.39556\teval-f1_score_thr0.5:0.37594\teval-f1_score_thr0.6:0.354402\teval-f1_score_thr0.7:0.345154\n",
      "[21:16:38] /workspace/src/tree/updater_prune.cc:74: tree pruning end, 1 roots, 116 extra nodes, 0 pruned nodes, max_depth=10\n",
      "[1]\teval-auc:0.896271\teval-f1_score_thr0.2:0.408821\teval-f1_score_thr0.3:0.409729\teval-f1_score_thr0.4:0.393909\teval-f1_score_thr0.5:0.37594\teval-f1_score_thr0.6:0.353604\teval-f1_score_thr0.7:0.345972\n"
     ]
    },
    {
     "name": "stderr",
     "output_type": "stream",
     "text": [
      "/home/ec2-user/anaconda3/envs/python3/lib/python3.6/site-packages/sklearn/metrics/classification.py:1135: UndefinedMetricWarning: F-score is ill-defined and being set to 0.0 due to no predicted samples.\n",
      "  'precision', 'predicted', average, warn_for)\n"
     ]
    },
    {
     "name": "stdout",
     "output_type": "stream",
     "text": [
      "threshold 0.04\n",
      "max f1_score 0.4114356743318831\n",
      "eta 0.3\n",
      "max_depth 10\n",
      "num_round 109\n",
      "------------------------------\n",
      "[21:16:43] /workspace/src/tree/updater_prune.cc:74: tree pruning end, 1 roots, 124 extra nodes, 0 pruned nodes, max_depth=10\n",
      "[0]\teval-auc:0.896296\teval-f1_score_thr0.2:0.409516\teval-f1_score_thr0.3:0.407512\teval-f1_score_thr0.4:0.39311\teval-f1_score_thr0.5:0.371795\teval-f1_score_thr0.6:0.357062\teval-f1_score_thr0.7:0.346382\n",
      "[21:16:44] /workspace/src/tree/updater_prune.cc:74: tree pruning end, 1 roots, 116 extra nodes, 0 pruned nodes, max_depth=10\n",
      "[1]\teval-auc:0.89651\teval-f1_score_thr0.2:0.408163\teval-f1_score_thr0.3:0.404494\teval-f1_score_thr0.4:0.389848\teval-f1_score_thr0.5:0.374732\teval-f1_score_thr0.6:0.359322\teval-f1_score_thr0.7:0.346382\n"
     ]
    },
    {
     "name": "stderr",
     "output_type": "stream",
     "text": [
      "/home/ec2-user/anaconda3/envs/python3/lib/python3.6/site-packages/sklearn/metrics/classification.py:1135: UndefinedMetricWarning: F-score is ill-defined and being set to 0.0 due to no predicted samples.\n",
      "  'precision', 'predicted', average, warn_for)\n"
     ]
    },
    {
     "name": "stdout",
     "output_type": "stream",
     "text": [
      "threshold 0.04\n",
      "max f1_score 0.41246105919003107\n",
      "eta 0.3\n",
      "max_depth 10\n",
      "num_round 111\n",
      "------------------------------\n",
      "[21:16:48] /workspace/src/tree/updater_prune.cc:74: tree pruning end, 1 roots, 172 extra nodes, 0 pruned nodes, max_depth=10\n",
      "[0]\teval-auc:0.896529\teval-f1_score_thr0.2:0.406463\teval-f1_score_thr0.3:0.406367\teval-f1_score_thr0.4:0.387817\teval-f1_score_thr0.5:0.371643\teval-f1_score_thr0.6:0.354802\teval-f1_score_thr0.7:0.345972\n",
      "[21:16:49] /workspace/src/tree/updater_prune.cc:74: tree pruning end, 1 roots, 52 extra nodes, 0 pruned nodes, max_depth=10\n",
      "[1]\teval-auc:0.896638\teval-f1_score_thr0.2:0.407816\teval-f1_score_thr0.3:0.406015\teval-f1_score_thr0.4:0.386572\teval-f1_score_thr0.5:0.371245\teval-f1_score_thr0.6:0.357062\teval-f1_score_thr0.7:0.346382\n"
     ]
    },
    {
     "name": "stderr",
     "output_type": "stream",
     "text": [
      "/home/ec2-user/anaconda3/envs/python3/lib/python3.6/site-packages/sklearn/metrics/classification.py:1135: UndefinedMetricWarning: F-score is ill-defined and being set to 0.0 due to no predicted samples.\n",
      "  'precision', 'predicted', average, warn_for)\n"
     ]
    },
    {
     "name": "stdout",
     "output_type": "stream",
     "text": [
      "threshold 0.09\n",
      "max f1_score 0.4125822970007315\n",
      "eta 0.3\n",
      "max_depth 10\n",
      "num_round 113\n",
      "------------------------------\n",
      "[21:16:53] /workspace/src/tree/updater_prune.cc:74: tree pruning end, 1 roots, 54 extra nodes, 0 pruned nodes, max_depth=10\n",
      "[0]\teval-auc:0.89682\teval-f1_score_thr0.2:0.40678\teval-f1_score_thr0.3:0.40678\teval-f1_score_thr0.4:0.38736\teval-f1_score_thr0.5:0.369099\teval-f1_score_thr0.6:0.357466\teval-f1_score_thr0.7:0.345562\n",
      "[21:16:54] /workspace/src/tree/updater_prune.cc:74: tree pruning end, 1 roots, 152 extra nodes, 0 pruned nodes, max_depth=10\n",
      "[1]\teval-auc:0.896902\teval-f1_score_thr0.2:0.408859\teval-f1_score_thr0.3:0.40678\teval-f1_score_thr0.4:0.386179\teval-f1_score_thr0.5:0.374194\teval-f1_score_thr0.6:0.352941\teval-f1_score_thr0.7:0.344009\n"
     ]
    },
    {
     "name": "stderr",
     "output_type": "stream",
     "text": [
      "/home/ec2-user/anaconda3/envs/python3/lib/python3.6/site-packages/sklearn/metrics/classification.py:1135: UndefinedMetricWarning: F-score is ill-defined and being set to 0.0 due to no predicted samples.\n",
      "  'precision', 'predicted', average, warn_for)\n"
     ]
    },
    {
     "name": "stdout",
     "output_type": "stream",
     "text": [
      "threshold 0.26\n",
      "max f1_score 0.41192411924119243\n",
      "eta 0.3\n",
      "max_depth 10\n",
      "num_round 115\n",
      "------------------------------\n",
      "[21:16:58] /workspace/src/tree/updater_prune.cc:74: tree pruning end, 1 roots, 128 extra nodes, 0 pruned nodes, max_depth=10\n",
      "[0]\teval-auc:0.896425\teval-f1_score_thr0.2:0.409247\teval-f1_score_thr0.3:0.404896\teval-f1_score_thr0.4:0.387424\teval-f1_score_thr0.5:0.372443\teval-f1_score_thr0.6:0.354802\teval-f1_score_thr0.7:0.344828\n",
      "[21:16:59] /workspace/src/tree/updater_prune.cc:74: tree pruning end, 1 roots, 98 extra nodes, 0 pruned nodes, max_depth=10\n",
      "[1]\teval-auc:0.896654\teval-f1_score_thr0.2:0.410607\teval-f1_score_thr0.3:0.406748\teval-f1_score_thr0.4:0.387817\teval-f1_score_thr0.5:0.373391\teval-f1_score_thr0.6:0.354802\teval-f1_score_thr0.7:0.344828\n"
     ]
    },
    {
     "name": "stderr",
     "output_type": "stream",
     "text": [
      "/home/ec2-user/anaconda3/envs/python3/lib/python3.6/site-packages/sklearn/metrics/classification.py:1135: UndefinedMetricWarning: F-score is ill-defined and being set to 0.0 due to no predicted samples.\n",
      "  'precision', 'predicted', average, warn_for)\n"
     ]
    },
    {
     "name": "stdout",
     "output_type": "stream",
     "text": [
      "threshold 0.25\n",
      "max f1_score 0.4136690647482015\n",
      "eta 0.3\n",
      "max_depth 10\n",
      "num_round 117\n",
      "------------------------------\n",
      "[21:17:04] /workspace/src/tree/updater_prune.cc:74: tree pruning end, 1 roots, 156 extra nodes, 0 pruned nodes, max_depth=10\n",
      "[0]\teval-auc:0.896667\teval-f1_score_thr0.2:0.413025\teval-f1_score_thr0.3:0.406748\teval-f1_score_thr0.4:0.394737\teval-f1_score_thr0.5:0.373792\teval-f1_score_thr0.6:0.352941\teval-f1_score_thr0.7:0.343602\n",
      "[21:17:05] /workspace/src/tree/updater_prune.cc:74: tree pruning end, 1 roots, 42 extra nodes, 0 pruned nodes, max_depth=10\n",
      "[1]\teval-auc:0.896488\teval-f1_score_thr0.2:0.411664\teval-f1_score_thr0.3:0.403756\teval-f1_score_thr0.4:0.391481\teval-f1_score_thr0.5:0.374194\teval-f1_score_thr0.6:0.352941\teval-f1_score_thr0.7:0.343602\n"
     ]
    },
    {
     "name": "stderr",
     "output_type": "stream",
     "text": [
      "/home/ec2-user/anaconda3/envs/python3/lib/python3.6/site-packages/sklearn/metrics/classification.py:1135: UndefinedMetricWarning: F-score is ill-defined and being set to 0.0 due to no predicted samples.\n",
      "  'precision', 'predicted', average, warn_for)\n"
     ]
    },
    {
     "name": "stdout",
     "output_type": "stream",
     "text": [
      "threshold 0.26\n",
      "max f1_score 0.4131028207461328\n",
      "eta 0.3\n",
      "max_depth 10\n",
      "num_round 119\n",
      "------------------------------\n",
      "[21:17:09] /workspace/src/tree/updater_prune.cc:74: tree pruning end, 1 roots, 148 extra nodes, 0 pruned nodes, max_depth=10\n",
      "[0]\teval-auc:0.896598\teval-f1_score_thr0.2:0.409639\teval-f1_score_thr0.3:0.404116\teval-f1_score_thr0.4:0.390293\teval-f1_score_thr0.5:0.37149\teval-f1_score_thr0.6:0.352542\teval-f1_score_thr0.7:0.344746\n",
      "[21:17:10] /workspace/src/tree/updater_prune.cc:74: tree pruning end, 1 roots, 62 extra nodes, 0 pruned nodes, max_depth=10\n",
      "[1]\teval-auc:0.896773\teval-f1_score_thr0.2:0.409639\teval-f1_score_thr0.3:0.401501\teval-f1_score_thr0.4:0.392315\teval-f1_score_thr0.5:0.37149\teval-f1_score_thr0.6:0.352144\teval-f1_score_thr0.7:0.344746\n"
     ]
    },
    {
     "name": "stderr",
     "output_type": "stream",
     "text": [
      "/home/ec2-user/anaconda3/envs/python3/lib/python3.6/site-packages/sklearn/metrics/classification.py:1135: UndefinedMetricWarning: F-score is ill-defined and being set to 0.0 due to no predicted samples.\n",
      "  'precision', 'predicted', average, warn_for)\n"
     ]
    },
    {
     "name": "stdout",
     "output_type": "stream",
     "text": [
      "threshold 0.23\n",
      "max f1_score 0.4115586690017513\n",
      "eta 0.3\n",
      "max_depth 10\n",
      "num_round 121\n",
      "------------------------------\n",
      "[21:17:14] /workspace/src/tree/updater_prune.cc:74: tree pruning end, 1 roots, 58 extra nodes, 0 pruned nodes, max_depth=10\n",
      "[0]\teval-auc:0.896738\teval-f1_score_thr0.2:0.409639\teval-f1_score_thr0.3:0.403756\teval-f1_score_thr0.4:0.388664\teval-f1_score_thr0.5:0.36973\teval-f1_score_thr0.6:0.352941\teval-f1_score_thr0.7:0.344746\n",
      "[21:17:15] /workspace/src/tree/updater_prune.cc:74: tree pruning end, 1 roots, 166 extra nodes, 0 pruned nodes, max_depth=10\n",
      "[1]\teval-auc:0.896655\teval-f1_score_thr0.2:0.414089\teval-f1_score_thr0.3:0.398866\teval-f1_score_thr0.4:0.386249\teval-f1_score_thr0.5:0.373247\teval-f1_score_thr0.6:0.352941\teval-f1_score_thr0.7:0.341578\n"
     ]
    },
    {
     "name": "stderr",
     "output_type": "stream",
     "text": [
      "/home/ec2-user/anaconda3/envs/python3/lib/python3.6/site-packages/sklearn/metrics/classification.py:1135: UndefinedMetricWarning: F-score is ill-defined and being set to 0.0 due to no predicted samples.\n",
      "  'precision', 'predicted', average, warn_for)\n"
     ]
    },
    {
     "name": "stdout",
     "output_type": "stream",
     "text": [
      "threshold 0.2\n",
      "max f1_score 0.4140893470790378\n",
      "eta 0.3\n",
      "max_depth 10\n",
      "num_round 123\n",
      "------------------------------\n",
      "[21:17:19] /workspace/src/tree/updater_prune.cc:74: tree pruning end, 1 roots, 134 extra nodes, 0 pruned nodes, max_depth=10\n",
      "[0]\teval-auc:0.896846\teval-f1_score_thr0.2:0.412371\teval-f1_score_thr0.3:0.403027\teval-f1_score_thr0.4:0.388664\teval-f1_score_thr0.5:0.372043\teval-f1_score_thr0.6:0.351076\teval-f1_score_thr0.7:0.340024\n",
      "[21:17:20] /workspace/src/tree/updater_prune.cc:74: tree pruning end, 1 roots, 100 extra nodes, 0 pruned nodes, max_depth=10\n",
      "[1]\teval-auc:0.896822\teval-f1_score_thr0.2:0.409639\teval-f1_score_thr0.3:0.403409\teval-f1_score_thr0.4:0.384537\teval-f1_score_thr0.5:0.370291\teval-f1_score_thr0.6:0.349603\teval-f1_score_thr0.7:0.340426\n"
     ]
    },
    {
     "name": "stderr",
     "output_type": "stream",
     "text": [
      "/home/ec2-user/anaconda3/envs/python3/lib/python3.6/site-packages/sklearn/metrics/classification.py:1135: UndefinedMetricWarning: F-score is ill-defined and being set to 0.0 due to no predicted samples.\n",
      "  'precision', 'predicted', average, warn_for)\n"
     ]
    },
    {
     "name": "stdout",
     "output_type": "stream",
     "text": [
      "threshold 0.1\n",
      "max f1_score 0.4135849056603773\n",
      "eta 0.3\n",
      "max_depth 10\n",
      "num_round 125\n",
      "------------------------------\n",
      "[21:17:25] /workspace/src/tree/updater_prune.cc:74: tree pruning end, 1 roots, 180 extra nodes, 0 pruned nodes, max_depth=10\n",
      "[0]\teval-auc:0.896914\teval-f1_score_thr0.2:0.411006\teval-f1_score_thr0.3:0.401135\teval-f1_score_thr0.4:0.385005\teval-f1_score_thr0.5:0.370291\teval-f1_score_thr0.6:0.348811\teval-f1_score_thr0.7:0.341981\n",
      "[21:17:26] /workspace/src/tree/updater_prune.cc:74: tree pruning end, 1 roots, 128 extra nodes, 0 pruned nodes, max_depth=10\n",
      "[1]\teval-auc:0.897371\teval-f1_score_thr0.2:0.411006\teval-f1_score_thr0.3:0.402659\teval-f1_score_thr0.4:0.389899\teval-f1_score_thr0.5:0.367171\teval-f1_score_thr0.6:0.35\teval-f1_score_thr0.7:0.345154\n"
     ]
    },
    {
     "name": "stderr",
     "output_type": "stream",
     "text": [
      "/home/ec2-user/anaconda3/envs/python3/lib/python3.6/site-packages/sklearn/metrics/classification.py:1135: UndefinedMetricWarning: F-score is ill-defined and being set to 0.0 due to no predicted samples.\n",
      "  'precision', 'predicted', average, warn_for)\n"
     ]
    },
    {
     "name": "stdout",
     "output_type": "stream",
     "text": [
      "threshold 0.11\n",
      "max f1_score 0.41442824251726784\n",
      "eta 0.3\n",
      "max_depth 10\n",
      "num_round 127\n",
      "------------------------------\n",
      "[21:17:30] /workspace/src/tree/updater_prune.cc:74: tree pruning end, 1 roots, 90 extra nodes, 0 pruned nodes, max_depth=10\n",
      "[0]\teval-auc:0.897197\teval-f1_score_thr0.2:0.406897\teval-f1_score_thr0.3:0.399619\teval-f1_score_thr0.4:0.389848\teval-f1_score_thr0.5:0.365217\teval-f1_score_thr0.6:0.35\teval-f1_score_thr0.7:0.345154\n",
      "[21:17:31] /workspace/src/tree/updater_prune.cc:74: tree pruning end, 1 roots, 134 extra nodes, 0 pruned nodes, max_depth=10\n",
      "[1]\teval-auc:0.897328\teval-f1_score_thr0.2:0.409326\teval-f1_score_thr0.3:0.404943\teval-f1_score_thr0.4:0.389002\teval-f1_score_thr0.5:0.367568\teval-f1_score_thr0.6:0.352941\teval-f1_score_thr0.7:0.340828\n"
     ]
    },
    {
     "name": "stderr",
     "output_type": "stream",
     "text": [
      "/home/ec2-user/anaconda3/envs/python3/lib/python3.6/site-packages/sklearn/metrics/classification.py:1135: UndefinedMetricWarning: F-score is ill-defined and being set to 0.0 due to no predicted samples.\n",
      "  'precision', 'predicted', average, warn_for)\n"
     ]
    },
    {
     "name": "stdout",
     "output_type": "stream",
     "text": [
      "threshold 0.1\n",
      "max f1_score 0.4143183549124143\n",
      "eta 0.3\n",
      "max_depth 10\n",
      "num_round 129\n",
      "------------------------------\n",
      "[21:17:35] /workspace/src/tree/updater_prune.cc:74: tree pruning end, 1 roots, 80 extra nodes, 0 pruned nodes, max_depth=10\n",
      "[0]\teval-auc:0.897331\teval-f1_score_thr0.2:0.406897\teval-f1_score_thr0.3:0.409914\teval-f1_score_thr0.4:0.390641\teval-f1_score_thr0.5:0.37109\teval-f1_score_thr0.6:0.353341\teval-f1_score_thr0.7:0.34279\n",
      "[21:17:36] /workspace/src/tree/updater_prune.cc:74: tree pruning end, 1 roots, 126 extra nodes, 0 pruned nodes, max_depth=10\n",
      "[1]\teval-auc:0.897325\teval-f1_score_thr0.2:0.404823\teval-f1_score_thr0.3:0.410646\teval-f1_score_thr0.4:0.390244\teval-f1_score_thr0.5:0.367965\teval-f1_score_thr0.6:0.353341\teval-f1_score_thr0.7:0.342385\n"
     ]
    },
    {
     "name": "stderr",
     "output_type": "stream",
     "text": [
      "/home/ec2-user/anaconda3/envs/python3/lib/python3.6/site-packages/sklearn/metrics/classification.py:1135: UndefinedMetricWarning: F-score is ill-defined and being set to 0.0 due to no predicted samples.\n",
      "  'precision', 'predicted', average, warn_for)\n"
     ]
    },
    {
     "name": "stdout",
     "output_type": "stream",
     "text": [
      "threshold 0.14\n",
      "max f1_score 0.4131832797427652\n",
      "eta 0.3\n",
      "max_depth 10\n",
      "num_round 131\n",
      "------------------------------\n",
      "[21:17:41] /workspace/src/tree/updater_prune.cc:74: tree pruning end, 1 roots, 62 extra nodes, 0 pruned nodes, max_depth=10\n",
      "[0]\teval-auc:0.897501\teval-f1_score_thr0.2:0.404475\teval-f1_score_thr0.3:0.408357\teval-f1_score_thr0.4:0.391481\teval-f1_score_thr0.5:0.369565\teval-f1_score_thr0.6:0.348811\teval-f1_score_thr0.7:0.338462\n",
      "[21:17:42] /workspace/src/tree/updater_prune.cc:74: tree pruning end, 1 roots, 100 extra nodes, 0 pruned nodes, max_depth=10\n",
      "[1]\teval-auc:0.897404\teval-f1_score_thr0.2:0.404823\teval-f1_score_thr0.3:0.406458\teval-f1_score_thr0.4:0.386572\teval-f1_score_thr0.5:0.369565\teval-f1_score_thr0.6:0.350282\teval-f1_score_thr0.7:0.338061\n"
     ]
    },
    {
     "name": "stderr",
     "output_type": "stream",
     "text": [
      "/home/ec2-user/anaconda3/envs/python3/lib/python3.6/site-packages/sklearn/metrics/classification.py:1135: UndefinedMetricWarning: F-score is ill-defined and being set to 0.0 due to no predicted samples.\n",
      "  'precision', 'predicted', average, warn_for)\n"
     ]
    },
    {
     "name": "stdout",
     "output_type": "stream",
     "text": [
      "threshold 0.14\n",
      "max f1_score 0.4151857835218093\n",
      "eta 0.3\n",
      "max_depth 10\n",
      "num_round 133\n",
      "------------------------------\n",
      "[21:17:46] /workspace/src/tree/updater_prune.cc:74: tree pruning end, 1 roots, 48 extra nodes, 0 pruned nodes, max_depth=10\n",
      "[0]\teval-auc:0.89736\teval-f1_score_thr0.2:0.403448\teval-f1_score_thr0.3:0.406844\teval-f1_score_thr0.4:0.387755\teval-f1_score_thr0.5:0.369164\teval-f1_score_thr0.6:0.352144\teval-f1_score_thr0.7:0.338061\n",
      "[21:17:47] /workspace/src/tree/updater_prune.cc:74: tree pruning end, 1 roots, 98 extra nodes, 0 pruned nodes, max_depth=10\n",
      "[1]\teval-auc:0.897261\teval-f1_score_thr0.2:0.403796\teval-f1_score_thr0.3:0.406072\teval-f1_score_thr0.4:0.385714\teval-f1_score_thr0.5:0.369164\teval-f1_score_thr0.6:0.350679\teval-f1_score_thr0.7:0.339667\n"
     ]
    },
    {
     "name": "stderr",
     "output_type": "stream",
     "text": [
      "/home/ec2-user/anaconda3/envs/python3/lib/python3.6/site-packages/sklearn/metrics/classification.py:1135: UndefinedMetricWarning: F-score is ill-defined and being set to 0.0 due to no predicted samples.\n",
      "  'precision', 'predicted', average, warn_for)\n"
     ]
    },
    {
     "name": "stdout",
     "output_type": "stream",
     "text": [
      "threshold 0.14\n",
      "max f1_score 0.41390460792239286\n",
      "eta 0.3\n",
      "max_depth 10\n",
      "num_round 135\n",
      "------------------------------\n",
      "[21:17:51] /workspace/src/tree/updater_prune.cc:74: tree pruning end, 1 roots, 156 extra nodes, 0 pruned nodes, max_depth=10\n",
      "[0]\teval-auc:0.897526\teval-f1_score_thr0.2:0.405522\teval-f1_score_thr0.3:0.404194\teval-f1_score_thr0.4:0.382413\teval-f1_score_thr0.5:0.372294\teval-f1_score_thr0.6:0.354143\teval-f1_score_thr0.7:0.344418\n",
      "[21:17:52] /workspace/src/tree/updater_prune.cc:74: tree pruning end, 1 roots, 94 extra nodes, 0 pruned nodes, max_depth=10\n",
      "[1]\teval-auc:0.897664\teval-f1_score_thr0.2:0.406574\teval-f1_score_thr0.3:0.406101\teval-f1_score_thr0.4:0.385246\teval-f1_score_thr0.5:0.371892\teval-f1_score_thr0.6:0.356413\teval-f1_score_thr0.7:0.346793\n"
     ]
    },
    {
     "name": "stderr",
     "output_type": "stream",
     "text": [
      "/home/ec2-user/anaconda3/envs/python3/lib/python3.6/site-packages/sklearn/metrics/classification.py:1135: UndefinedMetricWarning: F-score is ill-defined and being set to 0.0 due to no predicted samples.\n",
      "  'precision', 'predicted', average, warn_for)\n"
     ]
    },
    {
     "name": "stdout",
     "output_type": "stream",
     "text": [
      "threshold 0.12\n",
      "max f1_score 0.415153906866614\n",
      "eta 0.3\n",
      "max_depth 10\n",
      "num_round 137\n",
      "------------------------------\n",
      "[21:17:57] /workspace/src/tree/updater_prune.cc:74: tree pruning end, 1 roots, 122 extra nodes, 0 pruned nodes, max_depth=10\n",
      "[0]\teval-auc:0.897812\teval-f1_score_thr0.2:0.405522\teval-f1_score_thr0.3:0.402277\teval-f1_score_thr0.4:0.386899\teval-f1_score_thr0.5:0.37013\teval-f1_score_thr0.6:0.356009\teval-f1_score_thr0.7:0.340476\n",
      "[21:17:58] /workspace/src/tree/updater_prune.cc:74: tree pruning end, 1 roots, 118 extra nodes, 0 pruned nodes, max_depth=10\n",
      "[1]\teval-auc:0.898149\teval-f1_score_thr0.2:0.404494\teval-f1_score_thr0.3:0.402277\teval-f1_score_thr0.4:0.386434\teval-f1_score_thr0.5:0.370531\teval-f1_score_thr0.6:0.353075\teval-f1_score_thr0.7:0.342043\n"
     ]
    },
    {
     "name": "stderr",
     "output_type": "stream",
     "text": [
      "/home/ec2-user/anaconda3/envs/python3/lib/python3.6/site-packages/sklearn/metrics/classification.py:1135: UndefinedMetricWarning: F-score is ill-defined and being set to 0.0 due to no predicted samples.\n",
      "  'precision', 'predicted', average, warn_for)\n"
     ]
    },
    {
     "name": "stdout",
     "output_type": "stream",
     "text": [
      "threshold 0.13\n",
      "max f1_score 0.4153354632587859\n",
      "eta 0.3\n",
      "max_depth 10\n",
      "num_round 139\n",
      "------------------------------\n",
      "[21:18:02] /workspace/src/tree/updater_prune.cc:74: tree pruning end, 1 roots, 198 extra nodes, 0 pruned nodes, max_depth=10\n",
      "[0]\teval-auc:0.898181\teval-f1_score_thr0.2:0.406926\teval-f1_score_thr0.3:0.407619\teval-f1_score_thr0.4:0.385246\teval-f1_score_thr0.5:0.37109\teval-f1_score_thr0.6:0.355353\teval-f1_score_thr0.7:0.344418\n",
      "[21:18:03] /workspace/src/tree/updater_prune.cc:74: tree pruning end, 1 roots, 204 extra nodes, 0 pruned nodes, max_depth=10\n",
      "[1]\teval-auc:0.8984\teval-f1_score_thr0.2:0.408658\teval-f1_score_thr0.3:0.397716\teval-f1_score_thr0.4:0.384852\teval-f1_score_thr0.5:0.36973\teval-f1_score_thr0.6:0.355606\teval-f1_score_thr0.7:0.347929\n"
     ]
    },
    {
     "name": "stderr",
     "output_type": "stream",
     "text": [
      "/home/ec2-user/anaconda3/envs/python3/lib/python3.6/site-packages/sklearn/metrics/classification.py:1135: UndefinedMetricWarning: F-score is ill-defined and being set to 0.0 due to no predicted samples.\n",
      "  'precision', 'predicted', average, warn_for)\n"
     ]
    },
    {
     "name": "stdout",
     "output_type": "stream",
     "text": [
      "threshold 0.13\n",
      "max f1_score 0.4160642570281125\n",
      "eta 0.3\n",
      "max_depth 10\n",
      "num_round 141\n",
      "------------------------------\n",
      "[21:18:07] /workspace/src/tree/updater_prune.cc:74: tree pruning end, 1 roots, 88 extra nodes, 0 pruned nodes, max_depth=10\n",
      "[0]\teval-auc:0.898404\teval-f1_score_thr0.2:0.407632\teval-f1_score_thr0.3:0.400763\teval-f1_score_thr0.4:0.38359\teval-f1_score_thr0.5:0.370531\teval-f1_score_thr0.6:0.353741\teval-f1_score_thr0.7:0.347929\n",
      "[21:18:08] /workspace/src/tree/updater_prune.cc:74: tree pruning end, 1 roots, 166 extra nodes, 0 pruned nodes, max_depth=10\n",
      "[1]\teval-auc:0.898112\teval-f1_score_thr0.2:0.411101\teval-f1_score_thr0.3:0.401141\teval-f1_score_thr0.4:0.381538\teval-f1_score_thr0.5:0.37149\teval-f1_score_thr0.6:0.352273\teval-f1_score_thr0.7:0.347929\n"
     ]
    },
    {
     "name": "stderr",
     "output_type": "stream",
     "text": [
      "/home/ec2-user/anaconda3/envs/python3/lib/python3.6/site-packages/sklearn/metrics/classification.py:1135: UndefinedMetricWarning: F-score is ill-defined and being set to 0.0 due to no predicted samples.\n",
      "  'precision', 'predicted', average, warn_for)\n"
     ]
    },
    {
     "name": "stdout",
     "output_type": "stream",
     "text": [
      "threshold 0.14\n",
      "max f1_score 0.4157119476268412\n",
      "eta 0.3\n",
      "max_depth 10\n",
      "num_round 143\n",
      "------------------------------\n",
      "[21:18:13] /workspace/src/tree/updater_prune.cc:74: tree pruning end, 1 roots, 136 extra nodes, 0 pruned nodes, max_depth=10\n",
      "[0]\teval-auc:0.897914\teval-f1_score_thr0.2:0.408734\teval-f1_score_thr0.3:0.398855\teval-f1_score_thr0.4:0.385567\teval-f1_score_thr0.5:0.375405\teval-f1_score_thr0.6:0.350797\teval-f1_score_thr0.7:0.347107\n",
      "[21:18:14] /workspace/src/tree/updater_prune.cc:74: tree pruning end, 1 roots, 144 extra nodes, 0 pruned nodes, max_depth=10\n",
      "[1]\teval-auc:0.897871\teval-f1_score_thr0.2:0.406987\teval-f1_score_thr0.3:0.399618\teval-f1_score_thr0.4:0.386434\teval-f1_score_thr0.5:0.37581\teval-f1_score_thr0.6:0.352273\teval-f1_score_thr0.7:0.347518\n"
     ]
    },
    {
     "name": "stderr",
     "output_type": "stream",
     "text": [
      "/home/ec2-user/anaconda3/envs/python3/lib/python3.6/site-packages/sklearn/metrics/classification.py:1135: UndefinedMetricWarning: F-score is ill-defined and being set to 0.0 due to no predicted samples.\n",
      "  'precision', 'predicted', average, warn_for)\n"
     ]
    },
    {
     "name": "stdout",
     "output_type": "stream",
     "text": [
      "threshold 0.13\n",
      "max f1_score 0.41781376518218627\n",
      "eta 0.3\n",
      "max_depth 10\n",
      "num_round 145\n",
      "------------------------------\n",
      "[21:18:18] /workspace/src/tree/updater_prune.cc:74: tree pruning end, 1 roots, 140 extra nodes, 0 pruned nodes, max_depth=10\n",
      "[0]\teval-auc:0.897951\teval-f1_score_thr0.2:0.407343\teval-f1_score_thr0.3:0.402672\teval-f1_score_thr0.4:0.386831\teval-f1_score_thr0.5:0.370531\teval-f1_score_thr0.6:0.349603\teval-f1_score_thr0.7:0.347929\n",
      "[21:18:19] /workspace/src/tree/updater_prune.cc:74: tree pruning end, 1 roots, 176 extra nodes, 0 pruned nodes, max_depth=10\n",
      "[1]\teval-auc:0.898013\teval-f1_score_thr0.2:0.407375\teval-f1_score_thr0.3:0.405742\teval-f1_score_thr0.4:0.38723\teval-f1_score_thr0.5:0.370933\teval-f1_score_thr0.6:0.349206\teval-f1_score_thr0.7:0.347518\n"
     ]
    },
    {
     "name": "stderr",
     "output_type": "stream",
     "text": [
      "/home/ec2-user/anaconda3/envs/python3/lib/python3.6/site-packages/sklearn/metrics/classification.py:1135: UndefinedMetricWarning: F-score is ill-defined and being set to 0.0 due to no predicted samples.\n",
      "  'precision', 'predicted', average, warn_for)\n"
     ]
    },
    {
     "name": "stdout",
     "output_type": "stream",
     "text": [
      "threshold 0.1\n",
      "max f1_score 0.41576506955177744\n",
      "eta 0.3\n",
      "max_depth 10\n",
      "num_round 147\n",
      "------------------------------\n",
      "[21:18:23] /workspace/src/tree/updater_prune.cc:74: tree pruning end, 1 roots, 114 extra nodes, 0 pruned nodes, max_depth=10\n",
      "[0]\teval-auc:0.8979\teval-f1_score_thr0.2:0.407018\teval-f1_score_thr0.3:0.403442\teval-f1_score_thr0.4:0.387692\teval-f1_score_thr0.5:0.374865\teval-f1_score_thr0.6:0.351474\teval-f1_score_thr0.7:0.342043\n",
      "[21:18:24] /workspace/src/tree/updater_prune.cc:74: tree pruning end, 1 roots, 68 extra nodes, 0 pruned nodes, max_depth=10\n",
      "[1]\teval-auc:0.898021\teval-f1_score_thr0.2:0.406332\teval-f1_score_thr0.3:0.402685\teval-f1_score_thr0.4:0.387692\teval-f1_score_thr0.5:0.373913\teval-f1_score_thr0.6:0.349206\teval-f1_score_thr0.7:0.342043\n"
     ]
    },
    {
     "name": "stderr",
     "output_type": "stream",
     "text": [
      "/home/ec2-user/anaconda3/envs/python3/lib/python3.6/site-packages/sklearn/metrics/classification.py:1135: UndefinedMetricWarning: F-score is ill-defined and being set to 0.0 due to no predicted samples.\n",
      "  'precision', 'predicted', average, warn_for)\n"
     ]
    },
    {
     "name": "stdout",
     "output_type": "stream",
     "text": [
      "threshold 0.09\n",
      "max f1_score 0.4127465857359636\n",
      "eta 0.3\n",
      "max_depth 10\n",
      "num_round 149\n",
      "------------------------------\n",
      "[21:18:29] /workspace/src/tree/updater_prune.cc:74: tree pruning end, 1 roots, 128 extra nodes, 0 pruned nodes, max_depth=10\n",
      "[0]\teval-auc:0.898117\teval-f1_score_thr0.2:0.404573\teval-f1_score_thr0.3:0.400767\teval-f1_score_thr0.4:0.388946\teval-f1_score_thr0.5:0.374459\teval-f1_score_thr0.6:0.346939\teval-f1_score_thr0.7:0.341637\n",
      "[21:18:30] /workspace/src/tree/updater_prune.cc:74: tree pruning end, 1 roots, 34 extra nodes, 0 pruned nodes, max_depth=10\n",
      "[1]\teval-auc:0.898119\teval-f1_score_thr0.2:0.404237\teval-f1_score_thr0.3:0.401914\teval-f1_score_thr0.4:0.389344\teval-f1_score_thr0.5:0.374459\teval-f1_score_thr0.6:0.347333\teval-f1_score_thr0.7:0.341637\n"
     ]
    },
    {
     "name": "stderr",
     "output_type": "stream",
     "text": [
      "/home/ec2-user/anaconda3/envs/python3/lib/python3.6/site-packages/sklearn/metrics/classification.py:1135: UndefinedMetricWarning: F-score is ill-defined and being set to 0.0 due to no predicted samples.\n",
      "  'precision', 'predicted', average, warn_for)\n"
     ]
    },
    {
     "name": "stdout",
     "output_type": "stream",
     "text": [
      "threshold 0.12\n",
      "max f1_score 0.41412520064205455\n",
      "eta 0.3\n",
      "max_depth 10\n",
      "num_round 151\n",
      "------------------------------\n",
      "[21:18:34] /workspace/src/tree/updater_prune.cc:74: tree pruning end, 1 roots, 130 extra nodes, 0 pruned nodes, max_depth=10\n",
      "[0]\teval-auc:0.898046\teval-f1_score_thr0.2:0.407407\teval-f1_score_thr0.3:0.401152\teval-f1_score_thr0.4:0.386434\teval-f1_score_thr0.5:0.371336\teval-f1_score_thr0.6:0.350398\teval-f1_score_thr0.7:0.341637\n",
      "[21:18:35] /workspace/src/tree/updater_prune.cc:74: tree pruning end, 1 roots, 130 extra nodes, 0 pruned nodes, max_depth=10\n",
      "[1]\teval-auc:0.898055\teval-f1_score_thr0.2:0.40672\teval-f1_score_thr0.3:0.404215\teval-f1_score_thr0.4:0.38723\teval-f1_score_thr0.5:0.369967\teval-f1_score_thr0.6:0.353741\teval-f1_score_thr0.7:0.344418\n"
     ]
    },
    {
     "name": "stderr",
     "output_type": "stream",
     "text": [
      "/home/ec2-user/anaconda3/envs/python3/lib/python3.6/site-packages/sklearn/metrics/classification.py:1135: UndefinedMetricWarning: F-score is ill-defined and being set to 0.0 due to no predicted samples.\n",
      "  'precision', 'predicted', average, warn_for)\n"
     ]
    },
    {
     "name": "stdout",
     "output_type": "stream",
     "text": [
      "threshold 0.14\n",
      "max f1_score 0.4132780082987552\n",
      "eta 0.3\n",
      "max_depth 10\n",
      "num_round 153\n",
      "------------------------------\n",
      "[21:18:39] /workspace/src/tree/updater_prune.cc:74: tree pruning end, 1 roots, 106 extra nodes, 0 pruned nodes, max_depth=10\n",
      "[0]\teval-auc:0.897938\teval-f1_score_thr0.2:0.406389\teval-f1_score_thr0.3:0.401152\teval-f1_score_thr0.4:0.386037\teval-f1_score_thr0.5:0.369967\teval-f1_score_thr0.6:0.354143\teval-f1_score_thr0.7:0.343266\n",
      "[21:18:41] /workspace/src/tree/updater_prune.cc:74: tree pruning end, 1 roots, 142 extra nodes, 0 pruned nodes, max_depth=10\n",
      "[1]\teval-auc:0.897905\teval-f1_score_thr0.2:0.407801\teval-f1_score_thr0.3:0.400767\teval-f1_score_thr0.4:0.387295\teval-f1_score_thr0.5:0.363043\teval-f1_score_thr0.6:0.354545\teval-f1_score_thr0.7:0.344828\n"
     ]
    },
    {
     "name": "stderr",
     "output_type": "stream",
     "text": [
      "/home/ec2-user/anaconda3/envs/python3/lib/python3.6/site-packages/sklearn/metrics/classification.py:1135: UndefinedMetricWarning: F-score is ill-defined and being set to 0.0 due to no predicted samples.\n",
      "  'precision', 'predicted', average, warn_for)\n"
     ]
    },
    {
     "name": "stdout",
     "output_type": "stream",
     "text": [
      "threshold 0.14\n",
      "max f1_score 0.41487603305785126\n",
      "eta 0.3\n",
      "max_depth 10\n",
      "num_round 155\n",
      "------------------------------\n",
      "[21:18:45] /workspace/src/tree/updater_prune.cc:74: tree pruning end, 1 roots, 64 extra nodes, 0 pruned nodes, max_depth=10\n",
      "[0]\teval-auc:0.897832\teval-f1_score_thr0.2:0.405669\teval-f1_score_thr0.3:0.401537\teval-f1_score_thr0.4:0.386434\teval-f1_score_thr0.5:0.363439\teval-f1_score_thr0.6:0.354143\teval-f1_score_thr0.7:0.343675\n",
      "[21:18:46] /workspace/src/tree/updater_prune.cc:74: tree pruning end, 1 roots, 78 extra nodes, 0 pruned nodes, max_depth=10\n",
      "[1]\teval-auc:0.89786\teval-f1_score_thr0.2:0.40744\teval-f1_score_thr0.3:0.401537\teval-f1_score_thr0.4:0.388889\teval-f1_score_thr0.5:0.365217\teval-f1_score_thr0.6:0.354143\teval-f1_score_thr0.7:0.344086\n"
     ]
    },
    {
     "name": "stderr",
     "output_type": "stream",
     "text": [
      "/home/ec2-user/anaconda3/envs/python3/lib/python3.6/site-packages/sklearn/metrics/classification.py:1135: UndefinedMetricWarning: F-score is ill-defined and being set to 0.0 due to no predicted samples.\n",
      "  'precision', 'predicted', average, warn_for)\n"
     ]
    },
    {
     "name": "stdout",
     "output_type": "stream",
     "text": [
      "threshold 0.14\n",
      "max f1_score 0.41487603305785126\n",
      "eta 0.3\n",
      "max_depth 10\n",
      "num_round 157\n",
      "------------------------------\n",
      "[21:18:50] /workspace/src/tree/updater_prune.cc:74: tree pruning end, 1 roots, 82 extra nodes, 0 pruned nodes, max_depth=10\n",
      "[0]\teval-auc:0.897796\teval-f1_score_thr0.2:0.40744\teval-f1_score_thr0.3:0.400385\teval-f1_score_thr0.4:0.389691\teval-f1_score_thr0.5:0.361656\teval-f1_score_thr0.6:0.35\teval-f1_score_thr0.7:0.34565\n",
      "[21:18:51] /workspace/src/tree/updater_prune.cc:74: tree pruning end, 1 roots, 108 extra nodes, 0 pruned nodes, max_depth=10\n",
      "[1]\teval-auc:0.897931\teval-f1_score_thr0.2:0.40675\teval-f1_score_thr0.3:0.39846\teval-f1_score_thr0.4:0.392197\teval-f1_score_thr0.5:0.364821\teval-f1_score_thr0.6:0.349206\teval-f1_score_thr0.7:0.34565\n"
     ]
    },
    {
     "name": "stderr",
     "output_type": "stream",
     "text": [
      "/home/ec2-user/anaconda3/envs/python3/lib/python3.6/site-packages/sklearn/metrics/classification.py:1135: UndefinedMetricWarning: F-score is ill-defined and being set to 0.0 due to no predicted samples.\n",
      "  'precision', 'predicted', average, warn_for)\n"
     ]
    },
    {
     "name": "stdout",
     "output_type": "stream",
     "text": [
      "threshold 0.12\n",
      "max f1_score 0.4165988608624899\n",
      "eta 0.3\n",
      "max_depth 10\n",
      "num_round 159\n",
      "------------------------------\n",
      "[21:18:56] /workspace/src/tree/updater_prune.cc:74: tree pruning end, 1 roots, 126 extra nodes, 0 pruned nodes, max_depth=10\n",
      "[0]\teval-auc:0.897972\teval-f1_score_thr0.2:0.40744\teval-f1_score_thr0.3:0.397683\teval-f1_score_thr0.4:0.384774\teval-f1_score_thr0.5:0.368364\teval-f1_score_thr0.6:0.35\teval-f1_score_thr0.7:0.344086\n",
      "[21:18:57] /workspace/src/tree/updater_prune.cc:74: tree pruning end, 1 roots, 136 extra nodes, 0 pruned nodes, max_depth=10\n",
      "[1]\teval-auc:0.897793\teval-f1_score_thr0.2:0.405333\teval-f1_score_thr0.3:0.402321\teval-f1_score_thr0.4:0.383901\teval-f1_score_thr0.5:0.367391\teval-f1_score_thr0.6:0.352941\teval-f1_score_thr0.7:0.340882\n"
     ]
    },
    {
     "name": "stderr",
     "output_type": "stream",
     "text": [
      "/home/ec2-user/anaconda3/envs/python3/lib/python3.6/site-packages/sklearn/metrics/classification.py:1135: UndefinedMetricWarning: F-score is ill-defined and being set to 0.0 due to no predicted samples.\n",
      "  'precision', 'predicted', average, warn_for)\n"
     ]
    },
    {
     "name": "stdout",
     "output_type": "stream",
     "text": [
      "threshold 0.13\n",
      "max f1_score 0.41481481481481486\n",
      "eta 0.3\n",
      "max_depth 10\n",
      "num_round 161\n",
      "------------------------------\n",
      "[21:19:01] /workspace/src/tree/updater_prune.cc:74: tree pruning end, 1 roots, 146 extra nodes, 0 pruned nodes, max_depth=10\n",
      "[0]\teval-auc:0.897868\teval-f1_score_thr0.2:0.40675\teval-f1_score_thr0.3:0.401544\teval-f1_score_thr0.4:0.387629\teval-f1_score_thr0.5:0.366594\teval-f1_score_thr0.6:0.354143\teval-f1_score_thr0.7:0.340882\n",
      "[21:19:02] /workspace/src/tree/updater_prune.cc:74: tree pruning end, 1 roots, 48 extra nodes, 0 pruned nodes, max_depth=10\n",
      "[1]\teval-auc:0.897696\teval-f1_score_thr0.2:0.407473\teval-f1_score_thr0.3:0.401544\teval-f1_score_thr0.4:0.387629\teval-f1_score_thr0.5:0.367391\teval-f1_score_thr0.6:0.355606\teval-f1_score_thr0.7:0.340882\n"
     ]
    },
    {
     "name": "stderr",
     "output_type": "stream",
     "text": [
      "/home/ec2-user/anaconda3/envs/python3/lib/python3.6/site-packages/sklearn/metrics/classification.py:1135: UndefinedMetricWarning: F-score is ill-defined and being set to 0.0 due to no predicted samples.\n",
      "  'precision', 'predicted', average, warn_for)\n"
     ]
    },
    {
     "name": "stdout",
     "output_type": "stream",
     "text": [
      "threshold 0.12\n",
      "max f1_score 0.41564792176039117\n",
      "eta 0.3\n",
      "max_depth 10\n",
      "num_round 163\n",
      "------------------------------\n",
      "[21:19:07] /workspace/src/tree/updater_prune.cc:74: tree pruning end, 1 roots, 42 extra nodes, 0 pruned nodes, max_depth=10\n",
      "[0]\teval-auc:0.897588\teval-f1_score_thr0.2:0.407111\teval-f1_score_thr0.3:0.400387\teval-f1_score_thr0.4:0.384298\teval-f1_score_thr0.5:0.366594\teval-f1_score_thr0.6:0.354143\teval-f1_score_thr0.7:0.340882\n",
      "[21:19:08] /workspace/src/tree/updater_prune.cc:74: tree pruning end, 1 roots, 128 extra nodes, 0 pruned nodes, max_depth=10\n",
      "[1]\teval-auc:0.897547\teval-f1_score_thr0.2:0.408163\teval-f1_score_thr0.3:0.4\teval-f1_score_thr0.4:0.38517\teval-f1_score_thr0.5:0.367391\teval-f1_score_thr0.6:0.354545\teval-f1_score_thr0.7:0.34012\n"
     ]
    },
    {
     "name": "stderr",
     "output_type": "stream",
     "text": [
      "/home/ec2-user/anaconda3/envs/python3/lib/python3.6/site-packages/sklearn/metrics/classification.py:1135: UndefinedMetricWarning: F-score is ill-defined and being set to 0.0 due to no predicted samples.\n",
      "  'precision', 'predicted', average, warn_for)\n"
     ]
    },
    {
     "name": "stdout",
     "output_type": "stream",
     "text": [
      "threshold 0.13\n",
      "max f1_score 0.4154351395730706\n",
      "eta 0.3\n",
      "max_depth 10\n",
      "num_round 165\n",
      "------------------------------\n",
      "[21:19:12] /workspace/src/tree/updater_prune.cc:74: tree pruning end, 1 roots, 68 extra nodes, 0 pruned nodes, max_depth=10\n",
      "[0]\teval-auc:0.897638\teval-f1_score_thr0.2:0.40744\teval-f1_score_thr0.3:0.4\teval-f1_score_thr0.4:0.382716\teval-f1_score_thr0.5:0.368364\teval-f1_score_thr0.6:0.355606\teval-f1_score_thr0.7:0.342926\n",
      "[21:19:13] /workspace/src/tree/updater_prune.cc:74: tree pruning end, 1 roots, 52 extra nodes, 0 pruned nodes, max_depth=10\n",
      "[1]\teval-auc:0.897563\teval-f1_score_thr0.2:0.408163\teval-f1_score_thr0.3:0.399225\teval-f1_score_thr0.4:0.38311\teval-f1_score_thr0.5:0.366197\teval-f1_score_thr0.6:0.356009\teval-f1_score_thr0.7:0.342926\n"
     ]
    },
    {
     "name": "stderr",
     "output_type": "stream",
     "text": [
      "/home/ec2-user/anaconda3/envs/python3/lib/python3.6/site-packages/sklearn/metrics/classification.py:1135: UndefinedMetricWarning: F-score is ill-defined and being set to 0.0 due to no predicted samples.\n",
      "  'precision', 'predicted', average, warn_for)\n"
     ]
    },
    {
     "name": "stdout",
     "output_type": "stream",
     "text": [
      "threshold 0.12\n",
      "max f1_score 0.41530944625407157\n",
      "eta 0.3\n",
      "max_depth 10\n",
      "num_round 167\n",
      "------------------------------\n",
      "[21:19:17] /workspace/src/tree/updater_prune.cc:74: tree pruning end, 1 roots, 106 extra nodes, 0 pruned nodes, max_depth=10\n",
      "[0]\teval-auc:0.897381\teval-f1_score_thr0.2:0.4082\teval-f1_score_thr0.3:0.398453\teval-f1_score_thr0.4:0.38517\teval-f1_score_thr0.5:0.363439\teval-f1_score_thr0.6:0.356009\teval-f1_score_thr0.7:0.341697\n",
      "[21:19:19] /workspace/src/tree/updater_prune.cc:74: tree pruning end, 1 roots, 46 extra nodes, 0 pruned nodes, max_depth=10\n",
      "[1]\teval-auc:0.897338\teval-f1_score_thr0.2:0.405719\teval-f1_score_thr0.3:0.398453\teval-f1_score_thr0.4:0.385567\teval-f1_score_thr0.5:0.363834\teval-f1_score_thr0.6:0.355606\teval-f1_score_thr0.7:0.341697\n"
     ]
    },
    {
     "name": "stderr",
     "output_type": "stream",
     "text": [
      "/home/ec2-user/anaconda3/envs/python3/lib/python3.6/site-packages/sklearn/metrics/classification.py:1135: UndefinedMetricWarning: F-score is ill-defined and being set to 0.0 due to no predicted samples.\n",
      "  'precision', 'predicted', average, warn_for)\n"
     ]
    },
    {
     "name": "stdout",
     "output_type": "stream",
     "text": [
      "threshold 0.11\n",
      "max f1_score 0.4186795491143317\n",
      "eta 0.3\n",
      "max_depth 10\n",
      "num_round 169\n",
      "------------------------------\n",
      "[21:19:23] /workspace/src/tree/updater_prune.cc:74: tree pruning end, 1 roots, 78 extra nodes, 0 pruned nodes, max_depth=10\n",
      "[0]\teval-auc:0.897292\teval-f1_score_thr0.2:0.40678\teval-f1_score_thr0.3:0.397672\teval-f1_score_thr0.4:0.384378\teval-f1_score_thr0.5:0.366197\teval-f1_score_thr0.6:0.356009\teval-f1_score_thr0.7:0.339307\n",
      "[21:19:24] /workspace/src/tree/updater_prune.cc:74: tree pruning end, 1 roots, 34 extra nodes, 0 pruned nodes, max_depth=10\n",
      "[1]\teval-auc:0.89739\teval-f1_score_thr0.2:0.406417\teval-f1_score_thr0.3:0.396501\teval-f1_score_thr0.4:0.384378\teval-f1_score_thr0.5:0.364425\teval-f1_score_thr0.6:0.355606\teval-f1_score_thr0.7:0.339713\n"
     ]
    },
    {
     "name": "stderr",
     "output_type": "stream",
     "text": [
      "/home/ec2-user/anaconda3/envs/python3/lib/python3.6/site-packages/sklearn/metrics/classification.py:1135: UndefinedMetricWarning: F-score is ill-defined and being set to 0.0 due to no predicted samples.\n",
      "  'precision', 'predicted', average, warn_for)\n"
     ]
    },
    {
     "name": "stdout",
     "output_type": "stream",
     "text": [
      "threshold 0.14\n",
      "max f1_score 0.4181360201511335\n",
      "eta 0.3\n",
      "max_depth 10\n",
      "num_round 171\n",
      "------------------------------\n",
      "[21:19:28] /workspace/src/tree/updater_prune.cc:74: tree pruning end, 1 roots, 80 extra nodes, 0 pruned nodes, max_depth=10\n",
      "[0]\teval-auc:0.897166\teval-f1_score_thr0.2:0.4082\teval-f1_score_thr0.3:0.396887\teval-f1_score_thr0.4:0.381443\teval-f1_score_thr0.5:0.363043\teval-f1_score_thr0.6:0.355606\teval-f1_score_thr0.7:0.339307\n",
      "[21:19:29] /workspace/src/tree/updater_prune.cc:74: tree pruning end, 1 roots, 44 extra nodes, 0 pruned nodes, max_depth=10\n",
      "[1]\teval-auc:0.897282\teval-f1_score_thr0.2:0.4082\teval-f1_score_thr0.3:0.397661\teval-f1_score_thr0.4:0.380165\teval-f1_score_thr0.5:0.366412\teval-f1_score_thr0.6:0.354143\teval-f1_score_thr0.7:0.339713\n"
     ]
    },
    {
     "name": "stderr",
     "output_type": "stream",
     "text": [
      "/home/ec2-user/anaconda3/envs/python3/lib/python3.6/site-packages/sklearn/metrics/classification.py:1135: UndefinedMetricWarning: F-score is ill-defined and being set to 0.0 due to no predicted samples.\n",
      "  'precision', 'predicted', average, warn_for)\n"
     ]
    },
    {
     "name": "stdout",
     "output_type": "stream",
     "text": [
      "threshold 0.12\n",
      "max f1_score 0.4186426819296811\n",
      "eta 0.3\n",
      "max_depth 10\n",
      "num_round 173\n",
      "------------------------------\n",
      "[21:19:34] /workspace/src/tree/updater_prune.cc:74: tree pruning end, 1 roots, 94 extra nodes, 0 pruned nodes, max_depth=10\n",
      "[0]\teval-auc:0.897354\teval-f1_score_thr0.2:0.412132\teval-f1_score_thr0.3:0.398049\teval-f1_score_thr0.4:0.381347\teval-f1_score_thr0.5:0.365615\teval-f1_score_thr0.6:0.355606\teval-f1_score_thr0.7:0.339713\n",
      "[21:19:35] /workspace/src/tree/updater_prune.cc:74: tree pruning end, 1 roots, 74 extra nodes, 0 pruned nodes, max_depth=10\n",
      "[1]\teval-auc:0.897657\teval-f1_score_thr0.2:0.412132\teval-f1_score_thr0.3:0.396887\teval-f1_score_thr0.4:0.381347\teval-f1_score_thr0.5:0.363834\teval-f1_score_thr0.6:0.356413\teval-f1_score_thr0.7:0.341289\n"
     ]
    },
    {
     "name": "stderr",
     "output_type": "stream",
     "text": [
      "/home/ec2-user/anaconda3/envs/python3/lib/python3.6/site-packages/sklearn/metrics/classification.py:1135: UndefinedMetricWarning: F-score is ill-defined and being set to 0.0 due to no predicted samples.\n",
      "  'precision', 'predicted', average, warn_for)\n"
     ]
    },
    {
     "name": "stdout",
     "output_type": "stream",
     "text": [
      "threshold 0.13\n",
      "max f1_score 0.4206151288445552\n",
      "eta 0.3\n",
      "max_depth 10\n",
      "num_round 175\n",
      "------------------------------\n",
      "[21:19:40] /workspace/src/tree/updater_prune.cc:74: tree pruning end, 1 roots, 82 extra nodes, 0 pruned nodes, max_depth=10\n",
      "[0]\teval-auc:0.897556\teval-f1_score_thr0.2:0.408929\teval-f1_score_thr0.3:0.397661\teval-f1_score_thr0.4:0.379668\teval-f1_score_thr0.5:0.368192\teval-f1_score_thr0.6:0.352273\teval-f1_score_thr0.7:0.339713\n",
      "[21:19:41] /workspace/src/tree/updater_prune.cc:74: tree pruning end, 1 roots, 120 extra nodes, 0 pruned nodes, max_depth=10\n",
      "[1]\teval-auc:0.897627\teval-f1_score_thr0.2:0.408929\teval-f1_score_thr0.3:0.399221\teval-f1_score_thr0.4:0.384216\teval-f1_score_thr0.5:0.367213\teval-f1_score_thr0.6:0.354143\teval-f1_score_thr0.7:0.339713\n"
     ]
    },
    {
     "name": "stderr",
     "output_type": "stream",
     "text": [
      "/home/ec2-user/anaconda3/envs/python3/lib/python3.6/site-packages/sklearn/metrics/classification.py:1135: UndefinedMetricWarning: F-score is ill-defined and being set to 0.0 due to no predicted samples.\n",
      "  'precision', 'predicted', average, warn_for)\n"
     ]
    },
    {
     "name": "stdout",
     "output_type": "stream",
     "text": [
      "threshold 0.13\n",
      "max f1_score 0.4219269102990033\n",
      "eta 0.3\n",
      "max_depth 10\n",
      "num_round 177\n",
      "------------------------------\n",
      "[21:19:45] /workspace/src/tree/updater_prune.cc:74: tree pruning end, 1 roots, 102 extra nodes, 0 pruned nodes, max_depth=10\n",
      "[0]\teval-auc:0.897656\teval-f1_score_thr0.2:0.407507\teval-f1_score_thr0.3:0.397661\teval-f1_score_thr0.4:0.384216\teval-f1_score_thr0.5:0.367213\teval-f1_score_thr0.6:0.352673\teval-f1_score_thr0.7:0.339713\n",
      "[21:19:46] /workspace/src/tree/updater_prune.cc:74: tree pruning end, 1 roots, 88 extra nodes, 0 pruned nodes, max_depth=10\n",
      "[1]\teval-auc:0.89752\teval-f1_score_thr0.2:0.4082\teval-f1_score_thr0.3:0.398827\teval-f1_score_thr0.4:0.382046\teval-f1_score_thr0.5:0.365427\teval-f1_score_thr0.6:0.355606\teval-f1_score_thr0.7:0.337725\n"
     ]
    },
    {
     "name": "stderr",
     "output_type": "stream",
     "text": [
      "/home/ec2-user/anaconda3/envs/python3/lib/python3.6/site-packages/sklearn/metrics/classification.py:1135: UndefinedMetricWarning: F-score is ill-defined and being set to 0.0 due to no predicted samples.\n",
      "  'precision', 'predicted', average, warn_for)\n"
     ]
    },
    {
     "name": "stdout",
     "output_type": "stream",
     "text": [
      "threshold 0.12\n",
      "max f1_score 0.41810699588477374\n",
      "eta 0.3\n",
      "max_depth 10\n",
      "num_round 179\n",
      "------------------------------\n",
      "[21:19:51] /workspace/src/tree/updater_prune.cc:74: tree pruning end, 1 roots, 90 extra nodes, 0 pruned nodes, max_depth=10\n",
      "[0]\teval-auc:0.897644\teval-f1_score_thr0.2:0.406082\teval-f1_score_thr0.3:0.398438\teval-f1_score_thr0.4:0.386694\teval-f1_score_thr0.5:0.363636\teval-f1_score_thr0.6:0.356009\teval-f1_score_thr0.7:0.336918\n",
      "[21:19:52] /workspace/src/tree/updater_prune.cc:74: tree pruning end, 1 roots, 126 extra nodes, 0 pruned nodes, max_depth=10\n",
      "[1]\teval-auc:0.897311\teval-f1_score_thr0.2:0.407175\teval-f1_score_thr0.3:0.39726\teval-f1_score_thr0.4:0.382536\teval-f1_score_thr0.5:0.362239\teval-f1_score_thr0.6:0.354143\teval-f1_score_thr0.7:0.341289\n"
     ]
    },
    {
     "name": "stderr",
     "output_type": "stream",
     "text": [
      "/home/ec2-user/anaconda3/envs/python3/lib/python3.6/site-packages/sklearn/metrics/classification.py:1135: UndefinedMetricWarning: F-score is ill-defined and being set to 0.0 due to no predicted samples.\n",
      "  'precision', 'predicted', average, warn_for)\n"
     ]
    },
    {
     "name": "stdout",
     "output_type": "stream",
     "text": [
      "threshold 0.11\n",
      "max f1_score 0.41849148418491483\n",
      "eta 0.3\n",
      "max_depth 10\n",
      "num_round 181\n",
      "------------------------------\n",
      "[21:19:56] /workspace/src/tree/updater_prune.cc:74: tree pruning end, 1 roots, 66 extra nodes, 0 pruned nodes, max_depth=10\n",
      "[0]\teval-auc:0.897401\teval-f1_score_thr0.2:0.405381\teval-f1_score_thr0.3:0.398827\teval-f1_score_thr0.4:0.380853\teval-f1_score_thr0.5:0.363436\teval-f1_score_thr0.6:0.351873\teval-f1_score_thr0.7:0.342857\n",
      "[21:19:57] /workspace/src/tree/updater_prune.cc:74: tree pruning end, 1 roots, 48 extra nodes, 0 pruned nodes, max_depth=10\n",
      "[1]\teval-auc:0.897494\teval-f1_score_thr0.2:0.405018\teval-f1_score_thr0.3:0.394118\teval-f1_score_thr0.4:0.38125\teval-f1_score_thr0.5:0.363436\teval-f1_score_thr0.6:0.351873\teval-f1_score_thr0.7:0.342857\n"
     ]
    },
    {
     "name": "stderr",
     "output_type": "stream",
     "text": [
      "/home/ec2-user/anaconda3/envs/python3/lib/python3.6/site-packages/sklearn/metrics/classification.py:1135: UndefinedMetricWarning: F-score is ill-defined and being set to 0.0 due to no predicted samples.\n",
      "  'precision', 'predicted', average, warn_for)\n"
     ]
    },
    {
     "name": "stdout",
     "output_type": "stream",
     "text": [
      "threshold 0.1\n",
      "max f1_score 0.41759999999999997\n",
      "eta 0.3\n",
      "max_depth 10\n",
      "num_round 183\n",
      "------------------------------\n",
      "[21:20:02] /workspace/src/tree/updater_prune.cc:74: tree pruning end, 1 roots, 126 extra nodes, 0 pruned nodes, max_depth=10\n",
      "[0]\teval-auc:0.897547\teval-f1_score_thr0.2:0.405745\teval-f1_score_thr0.3:0.395303\teval-f1_score_thr0.4:0.382445\teval-f1_score_thr0.5:0.364238\teval-f1_score_thr0.6:0.353341\teval-f1_score_thr0.7:0.340476\n",
      "[21:20:03] /workspace/src/tree/updater_prune.cc:74: tree pruning end, 1 roots, 88 extra nodes, 0 pruned nodes, max_depth=10\n",
      "[1]\teval-auc:0.897794\teval-f1_score_thr0.2:0.405745\teval-f1_score_thr0.3:0.394531\teval-f1_score_thr0.4:0.385093\teval-f1_score_thr0.5:0.363036\teval-f1_score_thr0.6:0.354143\teval-f1_score_thr0.7:0.340476\n"
     ]
    },
    {
     "name": "stderr",
     "output_type": "stream",
     "text": [
      "/home/ec2-user/anaconda3/envs/python3/lib/python3.6/site-packages/sklearn/metrics/classification.py:1135: UndefinedMetricWarning: F-score is ill-defined and being set to 0.0 due to no predicted samples.\n",
      "  'precision', 'predicted', average, warn_for)\n"
     ]
    },
    {
     "name": "stdout",
     "output_type": "stream",
     "text": [
      "threshold 0.1\n",
      "max f1_score 0.41953562850280224\n",
      "eta 0.3\n",
      "max_depth 10\n",
      "num_round 185\n",
      "------------------------------\n",
      "[21:20:07] /workspace/src/tree/updater_prune.cc:74: tree pruning end, 1 roots, 52 extra nodes, 0 pruned nodes, max_depth=10\n",
      "[0]\teval-auc:0.897708\teval-f1_score_thr0.2:0.406475\teval-f1_score_thr0.3:0.398438\teval-f1_score_thr0.4:0.380457\teval-f1_score_thr0.5:0.363036\teval-f1_score_thr0.6:0.357631\teval-f1_score_thr0.7:0.340882\n",
      "[21:20:08] /workspace/src/tree/updater_prune.cc:74: tree pruning end, 1 roots, 64 extra nodes, 0 pruned nodes, max_depth=10\n",
      "[1]\teval-auc:0.897723\teval-f1_score_thr0.2:0.409009\teval-f1_score_thr0.3:0.39961\teval-f1_score_thr0.4:0.38125\teval-f1_score_thr0.5:0.360836\teval-f1_score_thr0.6:0.357631\teval-f1_score_thr0.7:0.340882\n"
     ]
    },
    {
     "name": "stderr",
     "output_type": "stream",
     "text": [
      "/home/ec2-user/anaconda3/envs/python3/lib/python3.6/site-packages/sklearn/metrics/classification.py:1135: UndefinedMetricWarning: F-score is ill-defined and being set to 0.0 due to no predicted samples.\n",
      "  'precision', 'predicted', average, warn_for)\n"
     ]
    },
    {
     "name": "stdout",
     "output_type": "stream",
     "text": [
      "threshold 0.11\n",
      "max f1_score 0.4191714053614948\n",
      "eta 0.3\n",
      "max_depth 10\n",
      "num_round 187\n",
      "------------------------------\n",
      "[21:20:13] /workspace/src/tree/updater_prune.cc:74: tree pruning end, 1 roots, 88 extra nodes, 0 pruned nodes, max_depth=10\n",
      "[0]\teval-auc:0.897532\teval-f1_score_thr0.2:0.410072\teval-f1_score_thr0.3:0.4\teval-f1_score_thr0.4:0.379167\teval-f1_score_thr0.5:0.365639\teval-f1_score_thr0.6:0.354949\teval-f1_score_thr0.7:0.340882\n",
      "[21:20:14] /workspace/src/tree/updater_prune.cc:74: tree pruning end, 1 roots, 88 extra nodes, 0 pruned nodes, max_depth=10\n",
      "[1]\teval-auc:0.897354\teval-f1_score_thr0.2:0.410811\teval-f1_score_thr0.3:0.401168\teval-f1_score_thr0.4:0.376691\teval-f1_score_thr0.5:0.364835\teval-f1_score_thr0.6:0.359091\teval-f1_score_thr0.7:0.343266\n"
     ]
    },
    {
     "name": "stderr",
     "output_type": "stream",
     "text": [
      "/home/ec2-user/anaconda3/envs/python3/lib/python3.6/site-packages/sklearn/metrics/classification.py:1135: UndefinedMetricWarning: F-score is ill-defined and being set to 0.0 due to no predicted samples.\n",
      "  'precision', 'predicted', average, warn_for)\n"
     ]
    },
    {
     "name": "stdout",
     "output_type": "stream",
     "text": [
      "threshold 0.1\n",
      "max f1_score 0.41793434747798236\n",
      "eta 0.3\n",
      "max_depth 10\n",
      "num_round 189\n",
      "------------------------------\n",
      "[21:20:18] /workspace/src/tree/updater_prune.cc:74: tree pruning end, 1 roots, 94 extra nodes, 0 pruned nodes, max_depth=10\n",
      "[0]\teval-auc:0.897345\teval-f1_score_thr0.2:0.414788\teval-f1_score_thr0.3:0.39961\teval-f1_score_thr0.4:0.377985\teval-f1_score_thr0.5:0.367033\teval-f1_score_thr0.6:0.359499\teval-f1_score_thr0.7:0.344828\n",
      "[21:20:20] /workspace/src/tree/updater_prune.cc:74: tree pruning end, 1 roots, 80 extra nodes, 0 pruned nodes, max_depth=10\n",
      "[1]\teval-auc:0.897616\teval-f1_score_thr0.2:0.413731\teval-f1_score_thr0.3:0.401951\teval-f1_score_thr0.4:0.381648\teval-f1_score_thr0.5:0.367033\teval-f1_score_thr0.6:0.360731\teval-f1_score_thr0.7:0.343266\n"
     ]
    },
    {
     "name": "stderr",
     "output_type": "stream",
     "text": [
      "/home/ec2-user/anaconda3/envs/python3/lib/python3.6/site-packages/sklearn/metrics/classification.py:1135: UndefinedMetricWarning: F-score is ill-defined and being set to 0.0 due to no predicted samples.\n",
      "  'precision', 'predicted', average, warn_for)\n"
     ]
    },
    {
     "name": "stdout",
     "output_type": "stream",
     "text": [
      "threshold 0.11\n",
      "max f1_score 0.41993464052287577\n",
      "eta 0.3\n",
      "max_depth 10\n",
      "num_round 191\n",
      "------------------------------\n",
      "[21:20:24] /workspace/src/tree/updater_prune.cc:74: tree pruning end, 1 roots, 64 extra nodes, 0 pruned nodes, max_depth=10\n",
      "[0]\teval-auc:0.897774\teval-f1_score_thr0.2:0.414414\teval-f1_score_thr0.3:0.401951\teval-f1_score_thr0.4:0.38125\teval-f1_score_thr0.5:0.363436\teval-f1_score_thr0.6:0.355097\teval-f1_score_thr0.7:0.341289\n",
      "[21:20:25] /workspace/src/tree/updater_prune.cc:74: tree pruning end, 1 roots, 68 extra nodes, 0 pruned nodes, max_depth=10\n",
      "[1]\teval-auc:0.897563\teval-f1_score_thr0.2:0.411552\teval-f1_score_thr0.3:0.401559\teval-f1_score_thr0.4:0.38125\teval-f1_score_thr0.5:0.363837\teval-f1_score_thr0.6:0.355505\teval-f1_score_thr0.7:0.340882\n"
     ]
    },
    {
     "name": "stderr",
     "output_type": "stream",
     "text": [
      "/home/ec2-user/anaconda3/envs/python3/lib/python3.6/site-packages/sklearn/metrics/classification.py:1135: UndefinedMetricWarning: F-score is ill-defined and being set to 0.0 due to no predicted samples.\n",
      "  'precision', 'predicted', average, warn_for)\n"
     ]
    },
    {
     "name": "stdout",
     "output_type": "stream",
     "text": [
      "threshold 0.11\n",
      "max f1_score 0.41803278688524587\n",
      "eta 0.3\n",
      "max_depth 10\n",
      "num_round 193\n",
      "------------------------------\n",
      "[21:20:30] /workspace/src/tree/updater_prune.cc:74: tree pruning end, 1 roots, 86 extra nodes, 0 pruned nodes, max_depth=10\n",
      "[0]\teval-auc:0.89764\teval-f1_score_thr0.2:0.414414\teval-f1_score_thr0.3:0.399608\teval-f1_score_thr0.4:0.375391\teval-f1_score_thr0.5:0.362431\teval-f1_score_thr0.6:0.356571\teval-f1_score_thr0.7:0.338902\n",
      "[21:20:31] /workspace/src/tree/updater_prune.cc:74: tree pruning end, 1 roots, 84 extra nodes, 0 pruned nodes, max_depth=10\n",
      "[1]\teval-auc:0.897471\teval-f1_score_thr0.2:0.41086\teval-f1_score_thr0.3:0.39726\teval-f1_score_thr0.4:0.37461\teval-f1_score_thr0.5:0.364835\teval-f1_score_thr0.6:0.358447\teval-f1_score_thr0.7:0.339713\n"
     ]
    },
    {
     "name": "stderr",
     "output_type": "stream",
     "text": [
      "/home/ec2-user/anaconda3/envs/python3/lib/python3.6/site-packages/sklearn/metrics/classification.py:1135: UndefinedMetricWarning: F-score is ill-defined and being set to 0.0 due to no predicted samples.\n",
      "  'precision', 'predicted', average, warn_for)\n"
     ]
    },
    {
     "name": "stdout",
     "output_type": "stream",
     "text": [
      "threshold 0.1\n",
      "max f1_score 0.4192\n",
      "eta 0.3\n",
      "max_depth 10\n",
      "num_round 195\n",
      "------------------------------\n",
      "[21:20:35] /workspace/src/tree/updater_prune.cc:74: tree pruning end, 1 roots, 94 extra nodes, 0 pruned nodes, max_depth=10\n",
      "[0]\teval-auc:0.897602\teval-f1_score_thr0.2:0.410488\teval-f1_score_thr0.3:0.396078\teval-f1_score_thr0.4:0.376691\teval-f1_score_thr0.5:0.363036\teval-f1_score_thr0.6:0.358857\teval-f1_score_thr0.7:0.338902\n",
      "[21:20:36] /workspace/src/tree/updater_prune.cc:74: tree pruning end, 1 roots, 62 extra nodes, 0 pruned nodes, max_depth=10\n",
      "[1]\teval-auc:0.897811\teval-f1_score_thr0.2:0.411232\teval-f1_score_thr0.3:0.394504\teval-f1_score_thr0.4:0.381347\teval-f1_score_thr0.5:0.363436\teval-f1_score_thr0.6:0.357798\teval-f1_score_thr0.7:0.338902\n"
     ]
    },
    {
     "name": "stderr",
     "output_type": "stream",
     "text": [
      "/home/ec2-user/anaconda3/envs/python3/lib/python3.6/site-packages/sklearn/metrics/classification.py:1135: UndefinedMetricWarning: F-score is ill-defined and being set to 0.0 due to no predicted samples.\n",
      "  'precision', 'predicted', average, warn_for)\n"
     ]
    },
    {
     "name": "stdout",
     "output_type": "stream",
     "text": [
      "threshold 0.11\n",
      "max f1_score 0.41924959216965735\n",
      "eta 0.3\n",
      "max_depth 10\n",
      "num_round 197\n",
      "------------------------------\n",
      "[21:20:41] /workspace/src/tree/updater_prune.cc:74: tree pruning end, 1 roots, 58 extra nodes, 0 pruned nodes, max_depth=10\n",
      "[0]\teval-auc:0.89772\teval-f1_score_thr0.2:0.409791\teval-f1_score_thr0.3:0.394118\teval-f1_score_thr0.4:0.380062\teval-f1_score_thr0.5:0.362431\teval-f1_score_thr0.6:0.359679\teval-f1_score_thr0.7:0.339307\n",
      "[21:20:42] /workspace/src/tree/updater_prune.cc:74: tree pruning end, 1 roots, 64 extra nodes, 0 pruned nodes, max_depth=10\n",
      "[1]\teval-auc:0.897692\teval-f1_score_thr0.2:0.412033\teval-f1_score_thr0.3:0.39803\teval-f1_score_thr0.4:0.378772\teval-f1_score_thr0.5:0.365639\teval-f1_score_thr0.6:0.358857\teval-f1_score_thr0.7:0.339713\n"
     ]
    },
    {
     "name": "stderr",
     "output_type": "stream",
     "text": [
      "/home/ec2-user/anaconda3/envs/python3/lib/python3.6/site-packages/sklearn/metrics/classification.py:1135: UndefinedMetricWarning: F-score is ill-defined and being set to 0.0 due to no predicted samples.\n",
      "  'precision', 'predicted', average, warn_for)\n"
     ]
    },
    {
     "name": "stdout",
     "output_type": "stream",
     "text": [
      "threshold 0.11\n",
      "max f1_score 0.4202780049059689\n",
      "eta 0.3\n",
      "max_depth 10\n",
      "num_round 199\n",
      "------------------------------\n",
      "[21:20:46] /workspace/src/tree/updater_prune.cc:74: tree pruning end, 1 roots, 70 extra nodes, 0 pruned nodes, max_depth=10\n",
      "[0]\teval-auc:0.897716\teval-f1_score_thr0.2:0.414234\teval-f1_score_thr0.3:0.397638\teval-f1_score_thr0.4:0.377871\teval-f1_score_thr0.5:0.363837\teval-f1_score_thr0.6:0.359679\teval-f1_score_thr0.7:0.339307\n",
      "[21:20:47] /workspace/src/tree/updater_prune.cc:74: tree pruning end, 1 roots, 64 extra nodes, 0 pruned nodes, max_depth=10\n",
      "[1]\teval-auc:0.897766\teval-f1_score_thr0.2:0.415301\teval-f1_score_thr0.3:0.397638\teval-f1_score_thr0.4:0.378265\teval-f1_score_thr0.5:0.364641\teval-f1_score_thr0.6:0.359679\teval-f1_score_thr0.7:0.34012\n",
      "threshold 0.16\n",
      "max f1_score 0.4195804195804196\n",
      "eta 0.3\n",
      "max_depth 10\n",
      "num_round 201\n",
      "------------------------------\n"
     ]
    },
    {
     "name": "stderr",
     "output_type": "stream",
     "text": [
      "/home/ec2-user/anaconda3/envs/python3/lib/python3.6/site-packages/sklearn/metrics/classification.py:1135: UndefinedMetricWarning: F-score is ill-defined and being set to 0.0 due to no predicted samples.\n",
      "  'precision', 'predicted', average, warn_for)\n"
     ]
    }
   ],
   "source": [
    "# Trianing step by step\n",
    "version = 0\n",
    "params = {\n",
    "    'objective': 'binary:logistic', \n",
    "    'eta':0.3, \n",
    "    'max_depth': 10, \n",
    "    'eval_metric': 'auc',\n",
    "    # L1 regularization term (default 0)\n",
    "    'alpha': 0,\n",
    "    # L2 regularization term (default 1)\n",
    "    'lambda': 1,\n",
    "    # Minimum loss reduction (default 0)\n",
    "    'gamma': 0.01,\n",
    "    'scale_pos_weight': 22,\n",
    "    'seed': 1 # ,\n",
    "#     'subsample': 0.5,\n",
    "#     'max_delta_step': 10    \n",
    "}\n",
    "\n",
    "params_opt_bay = {\n",
    "    'max_depth': 12.0, \n",
    "    'gamma': 0.001, \n",
    "    'min_child_weight': 10.108909877670685, \n",
    "    'max_delta_step': 2.4592238788322622, \n",
    "    'subsample': 1.0, \n",
    "    'colsample_bytree': 0.4\n",
    "}\n",
    "\n",
    "num_round = 2\n",
    "\n",
    "# evals = [(dtest, 'eval')]\n",
    "\n",
    "#bst = xgb.train(params, dtrain, num_round, evals, feval=val_func)\n",
    "for i in range(0, 100):\n",
    "    bst = xgb.train(params, dtrain, num_round, evals, feval=val_func, xgb_model=bst)\n",
    "    threshold, max_f1_score = val_func_thr(bst, dtest, test_y)\n",
    "    print('threshold', threshold)\n",
    "    print('max f1_score', max_f1_score)\n",
    "    print('eta', params['eta'])\n",
    "    print('max_depth', params['max_depth'])\n",
    "    print('num_round', bst.best_ntree_limit)\n",
    "    print('------------------------------')\n",
    "    \n",
    "\n",
    "\n",
    "#pickle.dump(bst, open('models/pickles/cartera_vencida_version{}.pckl.model'.format(version),\"wb\"))\n",
    "#feat_imp.to_csv('models/feature_importances_version{}.csv'.format(version), index=False)"
   ]
  },
  {
   "cell_type": "code",
   "execution_count": 94,
   "metadata": {},
   "outputs": [
    {
     "name": "stdout",
     "output_type": "stream",
     "text": [
      "threshold 0.23\n",
      "max f1_score 0.8554344002813928\n",
      "eta 0.3\n",
      "max_depth 10\n",
      "num_round 150\n"
     ]
    },
    {
     "name": "stderr",
     "output_type": "stream",
     "text": [
      "/home/ec2-user/anaconda3/envs/python3/lib/python3.6/site-packages/sklearn/metrics/classification.py:1135: UndefinedMetricWarning: F-score is ill-defined and being set to 0.0 due to no predicted samples.\n",
      "  'precision', 'predicted', average, warn_for)\n"
     ]
    }
   ],
   "source": [
    "f1_sc = 0\n",
    "max_step = 0\n",
    "thr_sample = (dtest, test_y)\n",
    "_score_preds = bst.predict(thr_sample[0], ntree_limit=bst.best_ntree_limit)\n",
    "for thr_step in np.linspace(0, 1, 101):\n",
    "    _preds = predict(_score_preds, thr_step)\n",
    "    f1_sc_step = f1_score(thr_sample[1], _preds)\n",
    "    # print(thr_step, f1_sc_step)\n",
    "    if f1_sc_step >= f1_sc:\n",
    "        f1_sc = f1_sc_step\n",
    "        max_step = thr_step\n",
    "threshold = max_step\n",
    "print('threshold', threshold)\n",
    "print('max f1_score', f1_sc)\n",
    "print('eta', params['eta'])\n",
    "print('max_depth', params['max_depth'])\n",
    "print('num_round', bst.best_ntree_limit)"
   ]
  },
  {
   "cell_type": "code",
   "execution_count": 249,
   "metadata": {
    "scrolled": true
   },
   "outputs": [
    {
     "name": "stderr",
     "output_type": "stream",
     "text": [
      "/home/ec2-user/anaconda3/envs/python3/lib/python3.6/site-packages/sklearn/metrics/classification.py:1135: UndefinedMetricWarning: F-score is ill-defined and being set to 0.0 due to no predicted samples.\n",
      "  'precision', 'predicted', average, warn_for)\n",
      "/home/ec2-user/anaconda3/envs/python3/lib/python3.6/site-packages/sklearn/metrics/classification.py:1135: UndefinedMetricWarning: F-score is ill-defined and being set to 0.0 due to no predicted samples.\n",
      "  'precision', 'predicted', average, warn_for)\n",
      "/home/ec2-user/anaconda3/envs/python3/lib/python3.6/site-packages/sklearn/metrics/classification.py:1135: UndefinedMetricWarning: F-score is ill-defined and being set to 0.0 due to no predicted samples.\n",
      "  'precision', 'predicted', average, warn_for)\n",
      "/home/ec2-user/anaconda3/envs/python3/lib/python3.6/site-packages/sklearn/metrics/classification.py:1135: UndefinedMetricWarning: F-score is ill-defined and being set to 0.0 due to no predicted samples.\n",
      "  'precision', 'predicted', average, warn_for)\n",
      "/home/ec2-user/anaconda3/envs/python3/lib/python3.6/site-packages/sklearn/metrics/classification.py:1135: UndefinedMetricWarning: F-score is ill-defined and being set to 0.0 due to no predicted samples.\n",
      "  'precision', 'predicted', average, warn_for)\n",
      "/home/ec2-user/anaconda3/envs/python3/lib/python3.6/site-packages/sklearn/metrics/classification.py:1135: UndefinedMetricWarning: F-score is ill-defined and being set to 0.0 due to no predicted samples.\n",
      "  'precision', 'predicted', average, warn_for)\n",
      "/home/ec2-user/anaconda3/envs/python3/lib/python3.6/site-packages/sklearn/metrics/classification.py:1135: UndefinedMetricWarning: F-score is ill-defined and being set to 0.0 due to no predicted samples.\n",
      "  'precision', 'predicted', average, warn_for)\n",
      "/home/ec2-user/anaconda3/envs/python3/lib/python3.6/site-packages/sklearn/metrics/classification.py:1135: UndefinedMetricWarning: F-score is ill-defined and being set to 0.0 due to no predicted samples.\n",
      "  'precision', 'predicted', average, warn_for)\n"
     ]
    },
    {
     "data": {
      "image/png": "[encoded data removed]",
      "text/plain": [
       "<Figure size 432x288 with 1 Axes>"
      ]
     },
     "metadata": {},
     "output_type": "display_data"
    },
    {
     "name": "stdout",
     "output_type": "stream",
     "text": [
      "threshold 0.32\n",
      "max f1_score 0.5729166666666666\n",
      "eta 0.04\n",
      "max_depth 3\n",
      "num_round 200\n"
     ]
    },
    {
     "name": "stderr",
     "output_type": "stream",
     "text": [
      "/home/ec2-user/anaconda3/envs/python3/lib/python3.6/site-packages/matplotlib/axes/_axes.py:6462: UserWarning: The 'normed' kwarg is deprecated, and has been replaced by the 'density' kwarg.\n",
      "  warnings.warn(\"The 'normed' kwarg is deprecated, and has been \"\n"
     ]
    },
    {
     "data": {
      "image/png": "[encoded data removed]",
      "text/plain": [
       "<Figure size 432x288 with 1 Axes>"
      ]
     },
     "metadata": {},
     "output_type": "display_data"
    }
   ],
   "source": [
    "f1_sc = 0\n",
    "max_step = 0\n",
    "thr_sample = (dtest, test_y)\n",
    "_score_preds = bst.predict(thr_sample[0], ntree_limit=bst.best_ntree_limit)\n",
    "scores = []\n",
    "for thr_step in np.linspace(0, 1, 101):\n",
    "    _preds = predict(_score_preds, thr_step)\n",
    "    f1_sc_step = f1_score(thr_sample[1], _preds)\n",
    "    #print(thr_step, f1_sc_step)\n",
    "    scores.append(f1_sc_step)\n",
    "    if f1_sc_step >= f1_sc:\n",
    "        f1_sc = f1_sc_step\n",
    "        max_step = thr_step\n",
    "plt.plot(np.linspace(0, 1, 101), scores, linewidth=2.0)\n",
    "plt.show()\n",
    "sns.distplot(scores)\n",
    "\n",
    "threshold = max_step\n",
    "print('threshold', threshold)\n",
    "print('max f1_score', f1_sc)\n",
    "print('eta', params['eta'])\n",
    "print('max_depth', params['max_depth'])\n",
    "print('num_round', bst.best_ntree_limit)"
   ]
  },
  {
   "cell_type": "code",
   "execution_count": 111,
   "metadata": {},
   "outputs": [],
   "source": [
    "threshold = 0.74"
   ]
  },
  {
   "cell_type": "code",
   "execution_count": 250,
   "metadata": {},
   "outputs": [
    {
     "name": "stdout",
     "output_type": "stream",
     "text": [
      "thr 0.32\n",
      "iter 200\n",
      "------              \tTrain                      \tTest                       \n",
      "confusion matrix    \t[[13505   259]             \t[[3395   82]               \n",
      "                    \t [  299   568]]            \t [  82  110]]              \n",
      "confusion matrix pct\t[[92.30401203  1.77021393] \t[[92.53202507  2.2349414 ] \n",
      "                    \t [ 2.04360604  3.882168  ]]\t [ 2.2349414   2.99809212]]\n",
      "f1_score            \t0.6706021251475797         \t0.5729166666666666         \n",
      "accuracy score      \t0.9618618002870617         \t0.9553011719814664         \n",
      "recall score        \t0.6551326412918108         \t0.5729166666666666         \n",
      "precision_score     \t0.686819830713422          \t0.5729166666666666         \n",
      "{'objective': 'binary:logistic', 'eta': 0.04, 'max_depth': 3, 'eval_metric': 'auc'}\n"
     ]
    }
   ],
   "source": [
    "# make predictions on datasets\n",
    "train_pred = predict(bst.predict(dtrain), threshold)\n",
    "test_pred = predict(bst.predict(dtest), threshold)\n",
    "\n",
    "cm_train = confusion_matrix(train_y, train_pred)\n",
    "cm_test = confusion_matrix(test_y, test_pred)\n",
    "\n",
    "cm_train_pct = cm_train / cm_train.astype(np.float).sum()*100\n",
    "cm_test_pct = cm_test / cm_test.astype(np.float).sum()*100\n",
    "\n",
    "summary = [\n",
    "    ['------', 'Train', 'Test'],\n",
    "    ['confusion matrix', cm_train, cm_test],\n",
    "    ['confusion matrix pct', cm_train_pct, cm_test_pct],\n",
    "    ['f1_score', f1_score(train_y, train_pred), f1_score(test_y, test_pred)],\n",
    "    ['accuracy score', accuracy_score(train_y, train_pred), accuracy_score(test_y, test_pred)],\n",
    "    ['recall score', recall_score(train_y, train_pred), recall_score(test_y, test_pred)],\n",
    "    ['precision_score', precision_score(train_y, train_pred),  precision_score(test_y, test_pred)]\n",
    "]\n",
    "\n",
    "# print pretty table\n",
    "print('thr', threshold)\n",
    "print('iter', bst.best_ntree_limit)\n",
    "pretty_table(summary)\n",
    "print(params)\n"
   ]
  },
  {
   "cell_type": "code",
   "execution_count": 158,
   "metadata": {},
   "outputs": [
    {
     "name": "stdout",
     "output_type": "stream",
     "text": [
      "thr 0.62\n",
      "iter 700\n",
      "------              \tTrain                      \tValidation                 \n",
      "confusion matrix    \t[[45574     0]             \t[[11187    78]             \n",
      "                    \t [    0  1850]]            \t [  112   362]]            \n",
      "confusion matrix pct\t[[96.09902159  0.        ] \t[[95.29772553  0.66445183] \n",
      "                    \t [ 0.          3.90097841]]\t [ 0.95408468  3.08373797]]\n",
      "f1_score            \t1.0                        \t0.7921225382932165         \n",
      "accuracy score      \t1.0                        \t0.9838146349774257         \n",
      "recall score        \t1.0                        \t0.7637130801687764         \n",
      "precision_score     \t1.0                        \t0.8227272727272728         \n",
      "{'objective': 'binary:logistic', 'eta': 0.3, 'max_depth': 10, 'eval_metric': 'auc', 'scale_pos_weight': 17}\n"
     ]
    }
   ],
   "source": [
    "# make predictions on datasets\n",
    "train_pred = predict(bst.predict(dtrain), threshold)\n",
    "test_pred = predict(bst.predict(dtest), threshold)\n",
    "\n",
    "cm_train = confusion_matrix(train_y, train_pred)\n",
    "cm_test = confusion_matrix(test_y, test_pred)\n",
    "\n",
    "cm_train_pct = cm_train / cm_train.astype(np.float).sum()*100\n",
    "cm_test_pct = cm_test / cm_test.astype(np.float).sum()*100\n",
    "\n",
    "summary = [\n",
    "    ['------', 'Train', 'Validation', 'Test'],\n",
    "    ['confusion matrix', cm_train, cm_test],\n",
    "    ['confusion matrix pct', cm_train_pct, cm_test_pct],\n",
    "    ['f1_score', f1_score(train_y, train_pred), f1_score(test_y, test_pred)],\n",
    "    ['accuracy score', accuracy_score(train_y, train_pred), accuracy_score(test_y, test_pred)],\n",
    "    ['recall score', recall_score(train_y, train_pred), recall_score(test_y, test_pred)],\n",
    "    ['precision_score', precision_score(train_y, train_pred), precision_score(test_y, test_pred)]\n",
    "]\n",
    "\n",
    "# print pretty table\n",
    "print('thr', threshold)\n",
    "print('iter', bst.best_ntree_limit)\n",
    "pretty_table(summary)\n",
    "print(params)"
   ]
  }
 ],
 "metadata": {
  "kernelspec": {
   "display_name": "conda_python3",
   "language": "python",
   "name": "conda_python3"
  },
  "language_info": {
   "codemirror_mode": {
    "name": "ipython",
    "version": 3
   },
   "file_extension": ".py",
   "mimetype": "text/x-python",
   "name": "python",
   "nbconvert_exporter": "python",
   "pygments_lexer": "ipython3",
   "version": "3.6.5"
  }
 },
 "nbformat": 4,
 "nbformat_minor": 2
}
