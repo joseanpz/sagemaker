{
 "cells": [
  {
   "cell_type": "markdown",
   "metadata": {},
   "source": [
    "## **Este archivo se corre (y está) en la instancia de 4X**"
   ]
  },
  {
   "cell_type": "code",
   "execution_count": 2,
   "metadata": {
    "scrolled": true
   },
   "outputs": [
    {
     "name": "stdout",
     "output_type": "stream",
     "text": [
      "MemTotal:       65951648 kB\r\n",
      "MemFree:        37176592 kB\r\n",
      "MemAvailable:   37860364 kB\r\n",
      "Buffers:          150332 kB\r\n",
      "Cached:          1077208 kB\r\n",
      "SwapCached:            0 kB\r\n",
      "Active:         27720968 kB\r\n",
      "Inactive:         705148 kB\r\n",
      "Active(anon):   27198600 kB\r\n",
      "Inactive(anon):       60 kB\r\n",
      "Active(file):     522368 kB\r\n",
      "Inactive(file):   705088 kB\r\n",
      "Unevictable:           0 kB\r\n",
      "Mlocked:               0 kB\r\n",
      "SwapTotal:             0 kB\r\n",
      "SwapFree:              0 kB\r\n",
      "Dirty:                68 kB\r\n",
      "Writeback:             0 kB\r\n",
      "AnonPages:      27198824 kB\r\n",
      "Mapped:           159040 kB\r\n",
      "Shmem:                72 kB\r\n",
      "Slab:             135840 kB\r\n",
      "SReclaimable:      95412 kB\r\n",
      "SUnreclaim:        40428 kB\r\n",
      "KernelStack:        8352 kB\r\n",
      "PageTables:        59068 kB\r\n",
      "NFS_Unstable:          0 kB\r\n",
      "Bounce:                0 kB\r\n",
      "WritebackTmp:          0 kB\r\n",
      "CommitLimit:    32975824 kB\r\n",
      "Committed_AS:   30042804 kB\r\n",
      "VmallocTotal:   34359738367 kB\r\n",
      "VmallocUsed:           0 kB\r\n",
      "VmallocChunk:          0 kB\r\n",
      "AnonHugePages:         0 kB\r\n",
      "ShmemHugePages:        0 kB\r\n",
      "ShmemPmdMapped:        0 kB\r\n",
      "HugePages_Total:       0\r\n",
      "HugePages_Free:        0\r\n",
      "HugePages_Rsvd:        0\r\n",
      "HugePages_Surp:        0\r\n",
      "Hugepagesize:       2048 kB\r\n",
      "DirectMap4k:       90112 kB\r\n",
      "DirectMap2M:     4104192 kB\r\n",
      "DirectMap1G:    63963136 kB\r\n"
     ]
    }
   ],
   "source": [
    "!cat /proc/meminfo"
   ]
  },
  {
   "cell_type": "code",
   "execution_count": 2,
   "metadata": {},
   "outputs": [],
   "source": [
    "import pandas as pd\n",
    "import numpy as np\n",
    "import io\n",
    "import gc\n",
    "import boto3\n",
    "import re\n",
    "\n",
    "# ruta de trabajo en s3\n",
    "bucket = 'boi-banregio'\n",
    "\n",
    "# s3 resource\n",
    "s3_bucket_resource = boto3.resource('s3').Bucket(bucket)\n",
    "seed = 0"
   ]
  },
  {
   "cell_type": "code",
   "execution_count": 3,
   "metadata": {},
   "outputs": [],
   "source": [
    "# Aquí colocamos la ruta de nuestro directorio, el nombre de nuestro archivo y si tiene o no cabecera\n",
    "prefix = 'datalake/data/InteligenciaRiesgos/M&M/MCV'\n",
    "\n",
    "data_file_name = \"JAT_MCV_VAR_VARIABLES_SELECCION/JAT_MCV_VAR_VARIABLES_SELECCION3.csv\"\n",
    "\n",
    "label_file_name = \"JAT_MCV_VAR_VARIABLES_SELECCION/JAT_MCV_VAR_VARIABLES_SELECCION3_LABELS.csv\"\n",
    "# configuración de datos crudos\n",
    "data_file_key = \"{}/DATASETS_3/{}\".format(prefix, data_file_name)\n",
    "label_file_key = \"{}/DATASETS_3/{}\".format(prefix, label_file_name)\n",
    "# data_file_key = \"datalake/data/InteligenciaRiesgos/M&M/MCV/DATASETS_3/JAT_MCV_VAR_VARIABLES_SELECCION/JAT_MCV_VAR_VARIABLES_SELECCION3.csv\""
   ]
  },
  {
   "cell_type": "code",
   "execution_count": 4,
   "metadata": {},
   "outputs": [],
   "source": [
    "label_obj = s3_bucket_resource.Object(label_file_key).get()\n",
    "label_df = pd.read_csv(io.BytesIO(label_obj['Body'].read()), header=None)"
   ]
  },
  {
   "cell_type": "code",
   "execution_count": 20,
   "metadata": {},
   "outputs": [
    {
     "data": {
      "text/html": [
       "<div>\n",
       "<style scoped>\n",
       "    .dataframe tbody tr th:only-of-type {\n",
       "        vertical-align: middle;\n",
       "    }\n",
       "\n",
       "    .dataframe tbody tr th {\n",
       "        vertical-align: top;\n",
       "    }\n",
       "\n",
       "    .dataframe thead th {\n",
       "        text-align: right;\n",
       "    }\n",
       "</style>\n",
       "<table border=\"1\" class=\"dataframe\">\n",
       "  <thead>\n",
       "    <tr style=\"text-align: right;\">\n",
       "      <th></th>\n",
       "      <th>0</th>\n",
       "      <th>1</th>\n",
       "      <th>2</th>\n",
       "      <th>3</th>\n",
       "      <th>4</th>\n",
       "      <th>5</th>\n",
       "      <th>6</th>\n",
       "      <th>7</th>\n",
       "      <th>8</th>\n",
       "      <th>9</th>\n",
       "      <th>...</th>\n",
       "      <th>3894</th>\n",
       "      <th>3895</th>\n",
       "      <th>3896</th>\n",
       "      <th>3897</th>\n",
       "      <th>3898</th>\n",
       "      <th>3899</th>\n",
       "      <th>3900</th>\n",
       "      <th>3901</th>\n",
       "      <th>3902</th>\n",
       "      <th>3903</th>\n",
       "    </tr>\n",
       "  </thead>\n",
       "  <tbody>\n",
       "    <tr>\n",
       "      <th>0</th>\n",
       "      <td>LABEL</td>\n",
       "      <td>BMI</td>\n",
       "      <td>REVOLVENTE</td>\n",
       "      <td>CUR_BAL</td>\n",
       "      <td>MAX_BAL_03M</td>\n",
       "      <td>MIN_BAL_03M</td>\n",
       "      <td>AVG_PND_MENOS_BAL_03M</td>\n",
       "      <td>AVG_PND_MAS_BAL_03M</td>\n",
       "      <td>AVG_BAL_03M</td>\n",
       "      <td>MAX_BAL_06M</td>\n",
       "      <td>...</td>\n",
       "      <td>PCT_UN_CRE_CS_OP_ACC</td>\n",
       "      <td>PCT_UN_CRE_LSG_CL_ACC</td>\n",
       "      <td>PCT_UN_CRE_LSG_OP_ACC</td>\n",
       "      <td>PCT_UN_CRE_OP_ACC</td>\n",
       "      <td>PCT_UN_CRE_OTHER_CL_ACC</td>\n",
       "      <td>PCT_UN_CRE_OTHER_OP_ACC</td>\n",
       "      <td>PCT_UN_CRE_PQ_CL_ACC</td>\n",
       "      <td>PCT_UN_CRE_PQ_OP_ACC</td>\n",
       "      <td>PCT_UN_CRE_R_CL_ACC</td>\n",
       "      <td>PCT_UN_CRE_R_OP_ACC</td>\n",
       "    </tr>\n",
       "  </tbody>\n",
       "</table>\n",
       "<p>1 rows × 3904 columns</p>\n",
       "</div>"
      ],
      "text/plain": [
       "    0    1           2        3            4            5     \\\n",
       "0  LABEL  BMI  REVOLVENTE  CUR_BAL  MAX_BAL_03M  MIN_BAL_03M   \n",
       "\n",
       "                    6                    7            8            9     \\\n",
       "0  AVG_PND_MENOS_BAL_03M  AVG_PND_MAS_BAL_03M  AVG_BAL_03M  MAX_BAL_06M   \n",
       "\n",
       "          ...                           3894                   3895  \\\n",
       "0         ...           PCT_UN_CRE_CS_OP_ACC  PCT_UN_CRE_LSG_CL_ACC   \n",
       "\n",
       "                    3896               3897                     3898  \\\n",
       "0  PCT_UN_CRE_LSG_OP_ACC  PCT_UN_CRE_OP_ACC  PCT_UN_CRE_OTHER_CL_ACC   \n",
       "\n",
       "                      3899                  3900                  3901  \\\n",
       "0  PCT_UN_CRE_OTHER_OP_ACC  PCT_UN_CRE_PQ_CL_ACC  PCT_UN_CRE_PQ_OP_ACC   \n",
       "\n",
       "                  3902                 3903  \n",
       "0  PCT_UN_CRE_R_CL_ACC  PCT_UN_CRE_R_OP_ACC  \n",
       "\n",
       "[1 rows x 3904 columns]"
      ]
     },
     "execution_count": 20,
     "metadata": {},
     "output_type": "execute_result"
    }
   ],
   "source": [
    "label_df"
   ]
  },
  {
   "cell_type": "code",
   "execution_count": null,
   "metadata": {},
   "outputs": [],
   "source": [
    "rfc_key_features_file_name = \"DATASETS_3/JAT_MCV_VAR_VARIABLES_SELECCION/PARTITION/EXTRA_FEATURES/MCV_VAR_RFC_FECHA_LLAVE.csv\"\n",
    "rfc_key_features_file_key = \"{}/{}\".format(prefix, rfc_key_features_file_name)\n",
    "rfc_key_features_obj = s3_bucket_resource.Object(rfc_key_features_file_key).get()\n",
    "rfc_key_features_data = pd.read_csv(io.BytesIO(rfc_key_features_obj['Body'].read()))"
   ]
  },
  {
   "cell_type": "code",
   "execution_count": 5,
   "metadata": {},
   "outputs": [
    {
     "name": "stdout",
     "output_type": "stream",
     "text": [
      "[False False False ... False False False]\n",
      "[False False False ... False False  True]\n",
      "[False False False ...  True False False]\n",
      "[False False False ... False False False]\n",
      "[False False False ... False False False]\n",
      "[ True False False ... False  True False]\n",
      "[False False  True ... False False False]\n",
      "[False  True False ... False False False]\n",
      "[False False False ... False False False]\n",
      "[False False False ... False False False]\n"
     ]
    },
    {
     "data": {
      "text/plain": [
       "10"
      ]
     },
     "execution_count": 5,
     "metadata": {},
     "output_type": "execute_result"
    }
   ],
   "source": [
    "parts = 10\n",
    "np.random.seed(seed)\n",
    "rand_split = np.random.rand(len(label_df.columns)-2)  # drop LABEL, BMI labels\n",
    "\n",
    "\n",
    "bool_partition =[]\n",
    "for j in range(0, parts):\n",
    "    appnd = (rand_split >= j/parts) & (rand_split < (j+1)/parts)\n",
    "    print(appnd)\n",
    "    bool_partition.append(appnd)\n",
    "len(bool_partition)"
   ]
  },
  {
   "cell_type": "code",
   "execution_count": 6,
   "metadata": {},
   "outputs": [],
   "source": [
    "data_obj = s3_bucket_resource.Object(data_file_key).get()\n",
    "df = pd.read_csv(io.BytesIO(data_obj['Body'].read()))"
   ]
  },
  {
   "cell_type": "code",
   "execution_count": 9,
   "metadata": {},
   "outputs": [
    {
     "data": {
      "text/plain": [
       "Index(['LABEL', 'BMI', 'REVOLVENTE', 'CUR_BAL', 'MAX_BAL_03M', 'MIN_BAL_03M',\n",
       "       'AVG_PND_MENOS_BAL_03M', 'AVG_PND_MAS_BAL_03M', 'AVG_BAL_03M',\n",
       "       'MAX_BAL_06M',\n",
       "       ...\n",
       "       'PCT_UN_CRE_CS_OP_ACC', 'PCT_UN_CRE_LSG_CL_ACC',\n",
       "       'PCT_UN_CRE_LSG_OP_ACC', 'PCT_UN_CRE_OP_ACC', 'PCT_UN_CRE_OTHER_CL_ACC',\n",
       "       'PCT_UN_CRE_OTHER_OP_ACC', 'PCT_UN_CRE_PQ_CL_ACC',\n",
       "       'PCT_UN_CRE_PQ_OP_ACC', 'PCT_UN_CRE_R_CL_ACC', 'PCT_UN_CRE_R_OP_ACC'],\n",
       "      dtype='object', length=3904)"
      ]
     },
     "execution_count": 9,
     "metadata": {},
     "output_type": "execute_result"
    }
   ],
   "source": [
    "df.columns"
   ]
  },
  {
   "cell_type": "code",
   "execution_count": 11,
   "metadata": {},
   "outputs": [
    {
     "name": "stdout",
     "output_type": "stream",
     "text": [
      "targets loaded\n"
     ]
    },
    {
     "data": {
      "text/plain": [
       "{'ResponseMetadata': {'RequestId': '6422B8AD1C5772ED',\n",
       "  'HostId': 'sFg33XkBs4l0HDtMZG/Ksh+li/EeuvcY71RqH6e0onFwH+GcTtN1tTI9kcCtT5nML+b1+UURo48=',\n",
       "  'HTTPStatusCode': 200,\n",
       "  'HTTPHeaders': {'x-amz-id-2': 'sFg33XkBs4l0HDtMZG/Ksh+li/EeuvcY71RqH6e0onFwH+GcTtN1tTI9kcCtT5nML+b1+UURo48=',\n",
       "   'x-amz-request-id': '6422B8AD1C5772ED',\n",
       "   'date': 'Tue, 04 Sep 2018 01:55:15 GMT',\n",
       "   'etag': '\"3610872f5b797e47bd66816220f891ea\"',\n",
       "   'content-length': '0',\n",
       "   'server': 'AmazonS3'},\n",
       "  'RetryAttempts': 0},\n",
       " 'ETag': '\"3610872f5b797e47bd66816220f891ea\"'}"
      ]
     },
     "execution_count": 11,
     "metadata": {},
     "output_type": "execute_result"
    }
   ],
   "source": [
    "data_targets = df.loc[:,['LABEL', 'BMI']]\n",
    "print('targets loaded')\n",
    "target_file_name = \"JAT_MCV_VAR_VARIABLES_SELECCION/PARTITION/TARGETS.csv\"\n",
    "target_obj_key = \"{}/DATASETS_3/{}\".format(prefix, target_file_name)\n",
    "\n",
    "f_str = io.StringIO()\n",
    "data_targets.to_csv(f_str, index=False)\n",
    "s3_bucket_resource.Object(target_obj_key).put(Body=f_str.getvalue())\n"
   ]
  },
  {
   "cell_type": "code",
   "execution_count": 13,
   "metadata": {},
   "outputs": [],
   "source": [
    "data_features = df.drop(\n",
    "    ['LABEL', 'BMI'],\n",
    "    axis=1\n",
    ")"
   ]
  },
  {
   "cell_type": "code",
   "execution_count": 16,
   "metadata": {},
   "outputs": [
    {
     "data": {
      "text/plain": [
       "Index(['REVOLVENTE', 'CUR_BAL', 'MAX_BAL_03M', 'MIN_BAL_03M',\n",
       "       'AVG_PND_MENOS_BAL_03M', 'AVG_PND_MAS_BAL_03M', 'AVG_BAL_03M',\n",
       "       'MAX_BAL_06M', 'MIN_BAL_06M', 'AVG_PND_MENOS_BAL_06M',\n",
       "       ...\n",
       "       'PCT_UN_CRE_CS_OP_ACC', 'PCT_UN_CRE_LSG_CL_ACC',\n",
       "       'PCT_UN_CRE_LSG_OP_ACC', 'PCT_UN_CRE_OP_ACC', 'PCT_UN_CRE_OTHER_CL_ACC',\n",
       "       'PCT_UN_CRE_OTHER_OP_ACC', 'PCT_UN_CRE_PQ_CL_ACC',\n",
       "       'PCT_UN_CRE_PQ_OP_ACC', 'PCT_UN_CRE_R_CL_ACC', 'PCT_UN_CRE_R_OP_ACC'],\n",
       "      dtype='object', length=3902)"
      ]
     },
     "execution_count": 16,
     "metadata": {},
     "output_type": "execute_result"
    }
   ],
   "source": [
    "data_features.columns"
   ]
  },
  {
   "cell_type": "code",
   "execution_count": 22,
   "metadata": {},
   "outputs": [
    {
     "name": "stdout",
     "output_type": "stream",
     "text": [
      "step:  0\n",
      "step:  1\n",
      "step:  2\n",
      "step:  3\n",
      "step:  4\n",
      "step:  5\n",
      "step:  6\n",
      "step:  7\n",
      "step:  8\n",
      "step:  9\n"
     ]
    }
   ],
   "source": [
    "\n",
    "for k in range(0, parts):\n",
    "    data_part_file_name = \"JAT_MCV_VAR_VARIABLES_SELECCION/PARTITION/DATA_PART{}.csv\".format(k)\n",
    "    data_part_obj_key =  \"{}/DATASETS_3/{}\".format(prefix, data_part_file_name)\n",
    "    data_part = data_features.loc[:, bool_partition[k]]\n",
    "    \n",
    "    f_str = io.StringIO()\n",
    "    data_part.to_csv(f_str, index=False)\n",
    "    s3_bucket_resource.Object(data_part_obj_key).put(Body=f_str.getvalue())\n",
    "    #del f_str\n",
    "    #gc.collect()\n",
    "    print('step: ', k)\n"
   ]
  }
 ],
 "metadata": {
  "kernelspec": {
   "display_name": "conda_python3",
   "language": "python",
   "name": "conda_python3"
  },
  "language_info": {
   "codemirror_mode": {
    "name": "ipython",
    "version": 3
   },
   "file_extension": ".py",
   "mimetype": "text/x-python",
   "name": "python",
   "nbconvert_exporter": "python",
   "pygments_lexer": "ipython3",
   "version": "3.6.5"
  }
 },
 "nbformat": 4,
 "nbformat_minor": 2
}
