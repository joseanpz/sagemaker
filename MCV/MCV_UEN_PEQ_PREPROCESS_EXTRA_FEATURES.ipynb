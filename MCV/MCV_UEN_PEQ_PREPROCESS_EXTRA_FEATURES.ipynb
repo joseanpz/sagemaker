{
 "cells": [
  {
   "cell_type": "code",
   "execution_count": 11,
   "metadata": {
    "scrolled": true
   },
   "outputs": [
    {
     "name": "stdout",
     "output_type": "stream",
     "text": [
      "MemTotal:       32949048 kB\r\n",
      "MemFree:        18675944 kB\r\n",
      "MemAvailable:   20150688 kB\r\n",
      "Buffers:          682664 kB\r\n",
      "Cached:           997672 kB\r\n",
      "SwapCached:            0 kB\r\n",
      "Active:         13292612 kB\r\n",
      "Inactive:         590480 kB\r\n",
      "Active(anon):   12202764 kB\r\n",
      "Inactive(anon):       48 kB\r\n",
      "Active(file):    1089848 kB\r\n",
      "Inactive(file):   590432 kB\r\n",
      "Unevictable:           0 kB\r\n",
      "Mlocked:               0 kB\r\n",
      "SwapTotal:             0 kB\r\n",
      "SwapFree:              0 kB\r\n",
      "Dirty:                84 kB\r\n",
      "Writeback:             0 kB\r\n",
      "AnonPages:      12202820 kB\r\n",
      "Mapped:           155392 kB\r\n",
      "Shmem:                60 kB\r\n",
      "Slab:             282336 kB\r\n",
      "SReclaimable:     258372 kB\r\n",
      "SUnreclaim:        23964 kB\r\n",
      "KernelStack:        4464 kB\r\n",
      "PageTables:        30088 kB\r\n",
      "NFS_Unstable:          0 kB\r\n",
      "Bounce:                0 kB\r\n",
      "WritebackTmp:          0 kB\r\n",
      "CommitLimit:    16474524 kB\r\n",
      "Committed_AS:   11514496 kB\r\n",
      "VmallocTotal:   34359738367 kB\r\n",
      "VmallocUsed:           0 kB\r\n",
      "VmallocChunk:          0 kB\r\n",
      "AnonHugePages:         0 kB\r\n",
      "ShmemHugePages:        0 kB\r\n",
      "ShmemPmdMapped:        0 kB\r\n",
      "HugePages_Total:       0\r\n",
      "HugePages_Free:        0\r\n",
      "HugePages_Rsvd:        0\r\n",
      "HugePages_Surp:        0\r\n",
      "Hugepagesize:       2048 kB\r\n",
      "DirectMap4k:       16384 kB\r\n",
      "DirectMap2M:     3129344 kB\r\n",
      "DirectMap1G:    31457280 kB\r\n"
     ]
    }
   ],
   "source": [
    "!cat /proc/meminfo"
   ]
  },
  {
   "cell_type": "code",
   "execution_count": 33,
   "metadata": {},
   "outputs": [
    {
     "name": "stdout",
     "output_type": "stream",
     "text": [
      "ec2-user  5277  5252  0 Sep04 ?        00:01:53 /home/ec2-user/anaconda3/envs/JupyterSystemEnv/bin/python /home/ec2-user/anaconda3/envs/JupyterSystemEnv/bin/jupyter-notebook --notebook-dir=/home/ec2-user/SageMaker/ --ip=0.0.0.0 --NotebookApp.token= --port=8443 --NotebookApp.disable_check_xsrf=True\r\n",
      "ec2-user 14394  5277  0 Sep04 ?        00:00:01 /home/ec2-user/anaconda3/envs/python3/bin/python -m ipykernel -f /home/ec2-user/.local/share/jupyter/runtime/kernel-0697d8d3-db51-4d35-bd8f-010af26137c4.json\r\n",
      "ec2-user 22925  5277 37 Sep04 ?        01:44:46 /home/ec2-user/anaconda3/envs/python3/bin/python -m ipykernel -f /home/ec2-user/.local/share/jupyter/runtime/kernel-5e222582-70ec-4279-a521-72379c4d52ea.json\r\n",
      "ec2-user 23239  5277  0 Sep04 ?        00:00:00 /home/ec2-user/anaconda3/envs/python3/bin/python -m ipykernel -f /home/ec2-user/.local/share/jupyter/runtime/kernel-5c03c7f8-5922-4b99-a26c-d5f9383734c8.json\r\n",
      "ec2-user 23268  5277  0 Sep04 ?        00:00:00 /home/ec2-user/anaconda3/envs/python3/bin/python -m ipykernel -f /home/ec2-user/.local/share/jupyter/runtime/kernel-77b27977-589f-4f14-9249-03d9e7953ba4.json\r\n",
      "ec2-user 27665  5277  0 Sep04 ?        00:00:00 /home/ec2-user/anaconda3/envs/python3/bin/python -m ipykernel -f /home/ec2-user/.local/share/jupyter/runtime/kernel-6a28664c-71a7-48d6-a43a-a7b4baa05fa9.json\r\n",
      "ec2-user 27759  5277  4 Sep04 ?        00:05:21 /home/ec2-user/anaconda3/envs/python3/bin/python -m ipykernel -f /home/ec2-user/.local/share/jupyter/runtime/kernel-bf61512f-0328-4e51-96aa-69f2c2625540.json\r\n",
      "ec2-user 29349  5277 81 Sep04 ?        00:56:40 /home/ec2-user/anaconda3/envs/python3/bin/python -m ipykernel -f /home/ec2-user/.local/share/jupyter/runtime/kernel-0417ba90-fb8b-4f5e-a383-7e2a483c5f12.json\r\n",
      "ec2-user 31509 27759  9 01:00 pts/0    00:00:00 /bin/sh -c ps -fea | grep python\r\n",
      "ec2-user 31511 31509  0 01:00 pts/0    00:00:00 grep python\r\n"
     ]
    }
   ],
   "source": [
    "!ps -fea | grep python"
   ]
  },
  {
   "cell_type": "code",
   "execution_count": 2,
   "metadata": {},
   "outputs": [
    {
     "name": "stdout",
     "output_type": "stream",
     "text": [
      "Collecting xgboost\n",
      "\u001b[?25l  Downloading https://files.pythonhosted.org/packages/8f/15/606f81a2b8a8e82eaa10683cb3f3074905ec65d3bcef949e3f0909f165a5/xgboost-0.80-py2.py3-none-manylinux1_x86_64.whl (15.8MB)\n",
      "\u001b[K    100% |████████████████████████████████| 15.8MB 3.2MB/s eta 0:00:01\n",
      "\u001b[?25hRequirement already satisfied: numpy in /home/ec2-user/anaconda3/envs/python3/lib/python3.6/site-packages (from xgboost) (1.15.0)\n",
      "Requirement already satisfied: scipy in /home/ec2-user/anaconda3/envs/python3/lib/python3.6/site-packages (from xgboost) (1.1.0)\n",
      "\u001b[31mdistributed 1.21.8 requires msgpack, which is not installed.\u001b[0m\n",
      "Installing collected packages: xgboost\n",
      "Successfully installed xgboost-0.80\n",
      "\u001b[33mYou are using pip version 10.0.1, however version 18.0 is available.\n",
      "You should consider upgrading via the 'pip install --upgrade pip' command.\u001b[0m\n"
     ]
    }
   ],
   "source": [
    "!pip install xgboost"
   ]
  },
  {
   "cell_type": "code",
   "execution_count": 3,
   "metadata": {},
   "outputs": [],
   "source": [
    "import pandas as pd\n",
    "import numpy as np\n",
    "import matplotlib.pyplot as plt\n",
    "import io\n",
    "import time\n",
    "import json\n",
    "import gc\n",
    "import pickle\n",
    "\n",
    "from sklearn import preprocessing as prp\n",
    "from sklearn.metrics import roc_curve, auc\n",
    "from sklearn.metrics import (accuracy_score, r2_score, confusion_matrix,\n",
    "f1_score, recall_score, precision_score)\n",
    "\n",
    "import os\n",
    "import boto3\n",
    "import re\n",
    "\n",
    "import xgboost as xgb\n",
    "\n",
    "# ruta de trabajo en s3\n",
    "bucket = 'boi-banregio'\n",
    "target = 'BMI'\n",
    "strategy = 'median'\n",
    "feat_part_number = 40\n",
    "\n",
    "# s3 resource\n",
    "s3_bucket_resource = boto3.resource('s3').Bucket(bucket)"
   ]
  },
  {
   "cell_type": "code",
   "execution_count": 4,
   "metadata": {},
   "outputs": [],
   "source": [
    "# Aquí colocamos la ruta de nuestro directorio, el nombre de nuestro archivo y si tiene o no cabecera\n",
    "prefix = 'datalake/data/InteligenciaRiesgos/M&M/MCV/DATASETS_3/JAT_MCV_VAR_VARIABLES_SELECCION/PARTITION'"
   ]
  },
  {
   "cell_type": "markdown",
   "metadata": {},
   "source": [
    "## **Variables extras**"
   ]
  },
  {
   "cell_type": "code",
   "execution_count": 5,
   "metadata": {},
   "outputs": [],
   "source": [
    "extra_features_file_name = 'EXTRA_FEATURES/JAT_MCV_VAR_VARIABLES_DIASATRASO.csv'\n",
    "extra_features_file_key = \"{}/{}\".format(prefix, extra_features_file_name)\n",
    "extra_features_obj = s3_bucket_resource.Object(extra_features_file_key).get()\n",
    "extra_features_data = pd.read_csv(io.BytesIO(extra_features_obj['Body'].read()))"
   ]
  },
  {
   "cell_type": "code",
   "execution_count": 6,
   "metadata": {},
   "outputs": [
    {
     "data": {
      "text/plain": [
       "(425287, 4)"
      ]
     },
     "metadata": {},
     "output_type": "display_data"
    },
    {
     "data": {
      "text/plain": [
       "Index(['DIAS_ATRASO', 'DPCV_CAP', 'DPCV_INT', 'DPCV_MIN'], dtype='object')"
      ]
     },
     "metadata": {},
     "output_type": "display_data"
    },
    {
     "data": {
      "text/html": [
       "<div>\n",
       "<style scoped>\n",
       "    .dataframe tbody tr th:only-of-type {\n",
       "        vertical-align: middle;\n",
       "    }\n",
       "\n",
       "    .dataframe tbody tr th {\n",
       "        vertical-align: top;\n",
       "    }\n",
       "\n",
       "    .dataframe thead th {\n",
       "        text-align: right;\n",
       "    }\n",
       "</style>\n",
       "<table border=\"1\" class=\"dataframe\">\n",
       "  <thead>\n",
       "    <tr style=\"text-align: right;\">\n",
       "      <th></th>\n",
       "      <th>DIAS_ATRASO</th>\n",
       "      <th>DPCV_CAP</th>\n",
       "      <th>DPCV_INT</th>\n",
       "      <th>DPCV_MIN</th>\n",
       "    </tr>\n",
       "  </thead>\n",
       "  <tbody>\n",
       "    <tr>\n",
       "      <th>0</th>\n",
       "      <td>0</td>\n",
       "      <td>61</td>\n",
       "      <td>61</td>\n",
       "      <td>61</td>\n",
       "    </tr>\n",
       "    <tr>\n",
       "      <th>1</th>\n",
       "      <td>0</td>\n",
       "      <td>61</td>\n",
       "      <td>61</td>\n",
       "      <td>61</td>\n",
       "    </tr>\n",
       "    <tr>\n",
       "      <th>2</th>\n",
       "      <td>0</td>\n",
       "      <td>61</td>\n",
       "      <td>61</td>\n",
       "      <td>61</td>\n",
       "    </tr>\n",
       "    <tr>\n",
       "      <th>3</th>\n",
       "      <td>0</td>\n",
       "      <td>61</td>\n",
       "      <td>61</td>\n",
       "      <td>61</td>\n",
       "    </tr>\n",
       "    <tr>\n",
       "      <th>4</th>\n",
       "      <td>0</td>\n",
       "      <td>61</td>\n",
       "      <td>61</td>\n",
       "      <td>61</td>\n",
       "    </tr>\n",
       "  </tbody>\n",
       "</table>\n",
       "</div>"
      ],
      "text/plain": [
       "   DIAS_ATRASO  DPCV_CAP  DPCV_INT  DPCV_MIN\n",
       "0            0        61        61        61\n",
       "1            0        61        61        61\n",
       "2            0        61        61        61\n",
       "3            0        61        61        61\n",
       "4            0        61        61        61"
      ]
     },
     "metadata": {},
     "output_type": "display_data"
    },
    {
     "name": "stdout",
     "output_type": "stream",
     "text": [
      "Hay 0 nulos.\n"
     ]
    }
   ],
   "source": [
    "display(extra_features_data.shape)\n",
    "display(extra_features_data.columns)\n",
    "display(extra_features_data.head())\n",
    "print(\"Hay {} nulos.\".format(extra_features_data.isnull().sum().sum()))"
   ]
  },
  {
   "cell_type": "markdown",
   "metadata": {},
   "source": [
    "## **Imputación no necesria**"
   ]
  },
  {
   "cell_type": "code",
   "execution_count": 10,
   "metadata": {},
   "outputs": [],
   "source": [
    "imputer = prp.Imputer(missing_values='NaN', strategy=strategy, axis=0)\n",
    "scaler = prp.RobustScaler()"
   ]
  },
  {
   "cell_type": "code",
   "execution_count": 11,
   "metadata": {},
   "outputs": [
    {
     "ename": "NameError",
     "evalue": "name 'data_part' is not defined",
     "output_type": "error",
     "traceback": [
      "\u001b[0;31m---------------------------------------------------------------------------\u001b[0m",
      "\u001b[0;31mNameError\u001b[0m                                 Traceback (most recent call last)",
      "\u001b[0;32m<ipython-input-11-e1afcabef580>\u001b[0m in \u001b[0;36m<module>\u001b[0;34m()\u001b[0m\n\u001b[1;32m      2\u001b[0m \u001b[0mextra_features_data\u001b[0m\u001b[0;34m.\u001b[0m\u001b[0mloc\u001b[0m\u001b[0;34m[\u001b[0m\u001b[0;34m:\u001b[0m\u001b[0;34m,\u001b[0m\u001b[0;34m:\u001b[0m\u001b[0;34m]\u001b[0m \u001b[0;34m=\u001b[0m \u001b[0mimputer\u001b[0m\u001b[0;34m.\u001b[0m\u001b[0mtransform\u001b[0m\u001b[0;34m(\u001b[0m\u001b[0mextra_features_data\u001b[0m\u001b[0;34m)\u001b[0m\u001b[0;34m\u001b[0m\u001b[0m\n\u001b[1;32m      3\u001b[0m \u001b[0mextra_features_data\u001b[0m\u001b[0;34m.\u001b[0m\u001b[0mloc\u001b[0m\u001b[0;34m[\u001b[0m\u001b[0;34m:\u001b[0m\u001b[0;34m,\u001b[0m\u001b[0;34m:\u001b[0m\u001b[0;34m]\u001b[0m \u001b[0;34m=\u001b[0m \u001b[0mscaler\u001b[0m\u001b[0;34m.\u001b[0m\u001b[0mfit_transform\u001b[0m\u001b[0;34m(\u001b[0m\u001b[0mextra_features_data\u001b[0m\u001b[0;34m)\u001b[0m\u001b[0;34m\u001b[0m\u001b[0m\n\u001b[0;32m----> 4\u001b[0;31m \u001b[0mdisplay\u001b[0m\u001b[0;34m(\u001b[0m\u001b[0mdata_part\u001b[0m\u001b[0;34m.\u001b[0m\u001b[0mdescribe\u001b[0m\u001b[0;34m(\u001b[0m\u001b[0;34m)\u001b[0m\u001b[0;34m)\u001b[0m\u001b[0;34m\u001b[0m\u001b[0m\n\u001b[0m",
      "\u001b[0;31mNameError\u001b[0m: name 'data_part' is not defined"
     ]
    }
   ],
   "source": [
    "imputer = imputer.fit(extra_features_data)\n",
    "extra_features_data.loc[:,:] = imputer.transform(extra_features_data)\n",
    "extra_features_data.loc[:,:] = scaler.fit_transform(extra_features_data)\n"
   ]
  },
  {
   "cell_type": "code",
   "execution_count": 17,
   "metadata": {},
   "outputs": [
    {
     "data": {
      "text/html": [
       "<div>\n",
       "<style scoped>\n",
       "    .dataframe tbody tr th:only-of-type {\n",
       "        vertical-align: middle;\n",
       "    }\n",
       "\n",
       "    .dataframe tbody tr th {\n",
       "        vertical-align: top;\n",
       "    }\n",
       "\n",
       "    .dataframe thead th {\n",
       "        text-align: right;\n",
       "    }\n",
       "</style>\n",
       "<table border=\"1\" class=\"dataframe\">\n",
       "  <thead>\n",
       "    <tr style=\"text-align: right;\">\n",
       "      <th></th>\n",
       "      <th>DIAS_ATRASO</th>\n",
       "      <th>DPCV_CAP</th>\n",
       "      <th>DPCV_INT</th>\n",
       "      <th>DPCV_MIN</th>\n",
       "    </tr>\n",
       "  </thead>\n",
       "  <tbody>\n",
       "    <tr>\n",
       "      <th>count</th>\n",
       "      <td>425287.000000</td>\n",
       "      <td>425287.000000</td>\n",
       "      <td>425287.000000</td>\n",
       "      <td>425287.000000</td>\n",
       "    </tr>\n",
       "    <tr>\n",
       "      <th>mean</th>\n",
       "      <td>1.938785</td>\n",
       "      <td>55.445659</td>\n",
       "      <td>73.343079</td>\n",
       "      <td>55.445659</td>\n",
       "    </tr>\n",
       "    <tr>\n",
       "      <th>std</th>\n",
       "      <td>11.199988</td>\n",
       "      <td>24.343744</td>\n",
       "      <td>19.728195</td>\n",
       "      <td>24.343744</td>\n",
       "    </tr>\n",
       "    <tr>\n",
       "      <th>min</th>\n",
       "      <td>0.000000</td>\n",
       "      <td>-537.000000</td>\n",
       "      <td>-537.000000</td>\n",
       "      <td>-537.000000</td>\n",
       "    </tr>\n",
       "    <tr>\n",
       "      <th>25%</th>\n",
       "      <td>0.000000</td>\n",
       "      <td>30.000000</td>\n",
       "      <td>61.000000</td>\n",
       "      <td>30.000000</td>\n",
       "    </tr>\n",
       "    <tr>\n",
       "      <th>50%</th>\n",
       "      <td>0.000000</td>\n",
       "      <td>61.000000</td>\n",
       "      <td>82.000000</td>\n",
       "      <td>61.000000</td>\n",
       "    </tr>\n",
       "    <tr>\n",
       "      <th>75%</th>\n",
       "      <td>0.000000</td>\n",
       "      <td>61.000000</td>\n",
       "      <td>90.000000</td>\n",
       "      <td>61.000000</td>\n",
       "    </tr>\n",
       "    <tr>\n",
       "      <th>max</th>\n",
       "      <td>598.000000</td>\n",
       "      <td>90.000000</td>\n",
       "      <td>90.000000</td>\n",
       "      <td>90.000000</td>\n",
       "    </tr>\n",
       "  </tbody>\n",
       "</table>\n",
       "</div>"
      ],
      "text/plain": [
       "         DIAS_ATRASO       DPCV_CAP       DPCV_INT       DPCV_MIN\n",
       "count  425287.000000  425287.000000  425287.000000  425287.000000\n",
       "mean        1.938785      55.445659      73.343079      55.445659\n",
       "std        11.199988      24.343744      19.728195      24.343744\n",
       "min         0.000000    -537.000000    -537.000000    -537.000000\n",
       "25%         0.000000      30.000000      61.000000      30.000000\n",
       "50%         0.000000      61.000000      82.000000      61.000000\n",
       "75%         0.000000      61.000000      90.000000      61.000000\n",
       "max       598.000000      90.000000      90.000000      90.000000"
      ]
     },
     "metadata": {},
     "output_type": "display_data"
    }
   ],
   "source": [
    "display(extra_features_data.describe())"
   ]
  },
  {
   "cell_type": "markdown",
   "metadata": {},
   "source": [
    "## **No es necesario guardar un archivo de preprocesamiento**"
   ]
  },
  {
   "cell_type": "code",
   "execution_count": 15,
   "metadata": {},
   "outputs": [
    {
     "name": "stdout",
     "output_type": "stream",
     "text": [
      "Uploading processed data\n"
     ]
    },
    {
     "data": {
      "text/plain": [
       "{'ResponseMetadata': {'RequestId': '15879FB564C41483',\n",
       "  'HostId': 'J0t8bj5/SMvLZ9tcl9PenyfVget6uXKvpgjuo5tdOnHsED932G7hyOq8pBezLppI',\n",
       "  'HTTPStatusCode': 200,\n",
       "  'HTTPHeaders': {'x-amz-id-2': 'J0t8bj5/SMvLZ9tcl9PenyfVget6uXKvpgjuo5tdOnHsED932G7hyOq8pBezLppI',\n",
       "   'x-amz-request-id': '15879FB564C41483',\n",
       "   'date': 'Tue, 04 Sep 2018 23:24:26 GMT',\n",
       "   'etag': '\"c7b06f7e6e0789ab860a03c958108629\"',\n",
       "   'content-length': '0',\n",
       "   'server': 'AmazonS3'},\n",
       "  'RetryAttempts': 0},\n",
       " 'ETag': '\"c7b06f7e6e0789ab860a03c958108629\"'}"
      ]
     },
     "execution_count": 15,
     "metadata": {},
     "output_type": "execute_result"
    }
   ],
   "source": [
    " print('Uploading processed data')\n",
    "data_processed_part_file_name = \"EXTRA_FEATURES/PROCESSED_DATA/VARIABLES_DIASATRASO_PREPROCESSED.csv\"\n",
    "data_processed_part_obj_key =  \"{}/{}\".format(prefix, data_processed_part_file_name)    \n",
    "\n",
    "f_str = io.StringIO()\n",
    "extra_features_data.to_csv(f_str, index=False)\n",
    "s3_bucket_resource.Object(data_processed_part_obj_key).put(Body=f_str.getvalue())"
   ]
  },
  {
   "cell_type": "markdown",
   "metadata": {},
   "source": [
    "## **Concatenamos**"
   ]
  },
  {
   "cell_type": "code",
   "execution_count": 7,
   "metadata": {},
   "outputs": [],
   "source": [
    "model_features_file_name = \"MODEL_DATASET/MODEL_FEATURES.csv\"\n",
    "model_features_file_key = \"{}/{}\".format(prefix, model_features_file_name)\n",
    "model_features_obj = s3_bucket_resource.Object(model_features_file_key).get()\n",
    "model_features_data = pd.read_csv(io.BytesIO(model_features_obj['Body'].read()))"
   ]
  },
  {
   "cell_type": "code",
   "execution_count": 8,
   "metadata": {},
   "outputs": [],
   "source": [
    "features_data =pd.concat([model_features_data, extra_features_data], axis=1) "
   ]
  },
  {
   "cell_type": "code",
   "execution_count": 9,
   "metadata": {},
   "outputs": [
    {
     "data": {
      "text/plain": [
       "Index(['AVG_MAX_DIAS_PARA_PAGO_U06M', 'AVG2_VP_MES_2',\n",
       "       'AVG_R_BAL_BY_CRED_LIM_12M', 'DEUDA_TOT', 'MIN_R_BAL_BY_MAX_BAL_03M',\n",
       "       'MAX_VENC1M_BRG_OP_ACC_06M', 'AVG_AVG2_VP_MES_U03M_2',\n",
       "       'AVG_VENC1M_BK_OP_ACC', 'MIN_AVG2_VP_PER_U03M_2', 'NUM_VIGENTEH_12M',\n",
       "       ...\n",
       "       'MAX_PCT_VENC1M_BRG_CS_OP_ACC_06M', 'MIN_AVG_HI_CALCAR_CEIL_12M',\n",
       "       'MAX_VIGENTEC_BK_CS_OP_ACC_03M', 'AVG_MAX_VP_MES_U06M',\n",
       "       'AVG_PCT_VENC1M_BK_R_OP_ACC_12M', 'MAX_SALINI_LSE_CL_ACC',\n",
       "       'DIAS_ATRASO', 'DPCV_CAP', 'DPCV_INT', 'DPCV_MIN'],\n",
       "      dtype='object', length=540)"
      ]
     },
     "execution_count": 9,
     "metadata": {},
     "output_type": "execute_result"
    }
   ],
   "source": [
    "features_data.columns"
   ]
  },
  {
   "cell_type": "code",
   "execution_count": 10,
   "metadata": {},
   "outputs": [
    {
     "name": "stdout",
     "output_type": "stream",
     "text": [
      "Uploading processed data\n"
     ]
    },
    {
     "data": {
      "text/plain": [
       "{'ResponseMetadata': {'RequestId': 'AC552D947AF16969',\n",
       "  'HostId': '7y/jOOG9rGE1U98YxEfOQHfg3HELNZbYv7xlkEsTTXB7H3H3X+rAk2tBq7Pyj0v/ZPHwlXG4rXM=',\n",
       "  'HTTPStatusCode': 200,\n",
       "  'HTTPHeaders': {'x-amz-id-2': '7y/jOOG9rGE1U98YxEfOQHfg3HELNZbYv7xlkEsTTXB7H3H3X+rAk2tBq7Pyj0v/ZPHwlXG4rXM=',\n",
       "   'x-amz-request-id': 'AC552D947AF16969',\n",
       "   'date': 'Fri, 21 Sep 2018 23:18:50 GMT',\n",
       "   'etag': '\"0c4799f8a1efa863533086fc56307931\"',\n",
       "   'content-length': '0',\n",
       "   'server': 'AmazonS3'},\n",
       "  'RetryAttempts': 0},\n",
       " 'ETag': '\"0c4799f8a1efa863533086fc56307931\"'}"
      ]
     },
     "execution_count": 10,
     "metadata": {},
     "output_type": "execute_result"
    }
   ],
   "source": [
    " print('Uploading processed data')\n",
    "data_processed_part_file_name = \"MODEL_DATASET/MODEL_FEATURES+EXTRAS.csv\"\n",
    "data_processed_part_obj_key =  \"{}/{}\".format(prefix, data_processed_part_file_name)    \n",
    "\n",
    "f_str = io.StringIO()\n",
    "features_data.to_csv(f_str, index=False)\n",
    "s3_bucket_resource.Object(data_processed_part_obj_key).put(Body=f_str.getvalue())"
   ]
  }
 ],
 "metadata": {
  "kernelspec": {
   "display_name": "conda_python3",
   "language": "python",
   "name": "conda_python3"
  },
  "language_info": {
   "codemirror_mode": {
    "name": "ipython",
    "version": 3
   },
   "file_extension": ".py",
   "mimetype": "text/x-python",
   "name": "python",
   "nbconvert_exporter": "python",
   "pygments_lexer": "ipython3",
   "version": "3.6.5"
  }
 },
 "nbformat": 4,
 "nbformat_minor": 2
}
