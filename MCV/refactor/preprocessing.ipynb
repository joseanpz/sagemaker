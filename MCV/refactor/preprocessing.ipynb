{
 "cells": [
  {
   "cell_type": "code",
   "execution_count": 2,
   "metadata": {
    "scrolled": true
   },
   "outputs": [
    {
     "name": "stdout",
     "output_type": "stream",
     "text": [
      "MemTotal:       65951648 kB\r\n",
      "MemFree:        62812820 kB\r\n",
      "MemAvailable:   64356788 kB\r\n",
      "Buffers:          655484 kB\r\n",
      "Cached:          1299436 kB\r\n",
      "SwapCached:            0 kB\r\n",
      "Active:          1755068 kB\r\n",
      "Inactive:         867048 kB\r\n",
      "Active(anon):     667200 kB\r\n",
      "Inactive(anon):       60 kB\r\n",
      "Active(file):    1087868 kB\r\n",
      "Inactive(file):   866988 kB\r\n",
      "Unevictable:           0 kB\r\n",
      "Mlocked:               0 kB\r\n",
      "SwapTotal:             0 kB\r\n",
      "SwapFree:              0 kB\r\n",
      "Dirty:                84 kB\r\n",
      "Writeback:             4 kB\r\n",
      "AnonPages:        667496 kB\r\n",
      "Mapped:           146236 kB\r\n",
      "Shmem:                72 kB\r\n",
      "Slab:             356912 kB\r\n",
      "SReclaimable:     314008 kB\r\n",
      "SUnreclaim:        42904 kB\r\n",
      "KernelStack:        8256 kB\r\n",
      "PageTables:         7376 kB\r\n",
      "NFS_Unstable:          0 kB\r\n",
      "Bounce:                0 kB\r\n",
      "WritebackTmp:          0 kB\r\n",
      "CommitLimit:    32975824 kB\r\n",
      "Committed_AS:    2897148 kB\r\n",
      "VmallocTotal:   34359738367 kB\r\n",
      "VmallocUsed:           0 kB\r\n",
      "VmallocChunk:          0 kB\r\n",
      "AnonHugePages:         0 kB\r\n",
      "ShmemHugePages:        0 kB\r\n",
      "ShmemPmdMapped:        0 kB\r\n",
      "HugePages_Total:       0\r\n",
      "HugePages_Free:        0\r\n",
      "HugePages_Rsvd:        0\r\n",
      "HugePages_Surp:        0\r\n",
      "Hugepagesize:       2048 kB\r\n",
      "DirectMap4k:       96256 kB\r\n",
      "DirectMap2M:     4098048 kB\r\n",
      "DirectMap1G:    63963136 kB\r\n"
     ]
    }
   ],
   "source": [
    "!cat /proc/meminfo"
   ]
  },
  {
   "cell_type": "code",
   "execution_count": 1,
   "metadata": {
    "scrolled": true
   },
   "outputs": [],
   "source": [
    "import pandas as pd\n",
    "import numpy as np\n",
    "import io\n",
    "import boto3\n",
    "from sklearn import preprocessing as prp\n",
    "\n",
    "# custom functions and objects\n",
    "from utils import *\n",
    "# from utils.sample_strategies import stg2_sample, stg2_period_samples, stg2_sample_exclude\n",
    "\n",
    "# ruta de trabajo en s3\n",
    "bucket = 'boi-banregio'\n",
    "prefix = 'datalake/data/InteligenciaRiesgos/M&M/MCV'\n",
    "\n",
    "# s3 resource\n",
    "s3_bucket_resource = boto3.resource('s3').Bucket(bucket)\n",
    "\n",
    "impute_strategy = 'median'"
   ]
  },
  {
   "cell_type": "markdown",
   "metadata": {},
   "source": [
    "## Preprocess strategy 1"
   ]
  },
  {
   "cell_type": "code",
   "execution_count": 4,
   "metadata": {},
   "outputs": [],
   "source": [
    "data_file_name = \"DATASETS_3/JAT_MCV_VAR_VARIABLES_SELECCION/SAMPLES/STRATEGY1.csv\"\n",
    "data_file_key = \"{}/{}\".format(prefix, data_file_name)\n",
    "data_obj = s3_bucket_resource.Object(data_file_key).get()\n",
    "data = pd.read_csv(io.BytesIO(data_obj['Body'].read()))"
   ]
  },
  {
   "cell_type": "code",
   "execution_count": 5,
   "metadata": {},
   "outputs": [
    {
     "name": "stdout",
     "output_type": "stream",
     "text": [
      "1991\n"
     ]
    }
   ],
   "source": [
    "# columns with to much missing\n",
    "\n",
    "allowed_missing = 0.4\n",
    "# count = 0\n",
    "missing_cols = []\n",
    "for col in data.columns:\n",
    "    if data.loc[:,col].isnull().values.sum() > len(data) * allowed_missing:\n",
    "        # print(col, count)\n",
    "        missing_cols.append(col)\n",
    "    # count += 1\n",
    "print(len(missing_cols))"
   ]
  },
  {
   "cell_type": "code",
   "execution_count": 6,
   "metadata": {},
   "outputs": [],
   "source": [
    "# data without missings\n",
    "data_wom = data.drop(missing_cols, axis=1) "
   ]
  },
  {
   "cell_type": "code",
   "execution_count": 7,
   "metadata": {},
   "outputs": [],
   "source": [
    "imputer = prp.Imputer(missing_values='NaN', strategy=impute_strategy, axis=0)\n",
    "scaler = prp.RobustScaler()\n",
    "prp_data = data_wom.drop(['LABEL', 'BMI', 'REVOLVENTE'], axis=1)"
   ]
  },
  {
   "cell_type": "code",
   "execution_count": 8,
   "metadata": {},
   "outputs": [],
   "source": [
    "imputer = imputer.fit(prp_data)\n",
    "data_wom.iloc[:,3:] = imputer.transform(prp_data)"
   ]
  },
  {
   "cell_type": "code",
   "execution_count": 9,
   "metadata": {},
   "outputs": [],
   "source": [
    "scaler = scaler.fit(data_wom.iloc[:,3:])\n",
    "data_wom.iloc[:,3:] = scaler.transform(data_wom.iloc[:,3:])"
   ]
  },
  {
   "cell_type": "code",
   "execution_count": 10,
   "metadata": {},
   "outputs": [],
   "source": [
    "import pickle\n",
    "\n",
    "pickle.dump(missing_cols, open(\"pickles/stg1_missing_cols.data\", \"wb\"))\n",
    "pickle.dump(imputer, open(\"pickles/stg1_imputer.data\", \"wb\"))\n",
    "pickle.dump(scaler, open(\"pickles/stg1_scaler.data\", \"wb\"))"
   ]
  },
  {
   "cell_type": "code",
   "execution_count": 11,
   "metadata": {},
   "outputs": [
    {
     "data": {
      "text/plain": [
       "{'ResponseMetadata': {'RequestId': 'D32BD3F36F2378DD',\n",
       "  'HostId': 'Psw6BPqZ/nz8XJl5BKC23jXni5UcSWu33pHZj8xtU53Qk61hkj6S6VOFIzW0wc2/ebJZYqSgvN0=',\n",
       "  'HTTPStatusCode': 200,\n",
       "  'HTTPHeaders': {'x-amz-id-2': 'Psw6BPqZ/nz8XJl5BKC23jXni5UcSWu33pHZj8xtU53Qk61hkj6S6VOFIzW0wc2/ebJZYqSgvN0=',\n",
       "   'x-amz-request-id': 'D32BD3F36F2378DD',\n",
       "   'date': 'Tue, 06 Nov 2018 23:57:10 GMT',\n",
       "   'etag': '\"c3b86cc713c7ff0643a0771e37973fd0\"',\n",
       "   'content-length': '0',\n",
       "   'server': 'AmazonS3'},\n",
       "  'RetryAttempts': 0},\n",
       " 'ETag': '\"c3b86cc713c7ff0643a0771e37973fd0\"'}"
      ]
     },
     "execution_count": 11,
     "metadata": {},
     "output_type": "execute_result"
    }
   ],
   "source": [
    "f_str = io.StringIO()\n",
    "data_wom.to_csv(f_str, index=False)\n",
    "data_file_name = \"DATASETS_3/JAT_MCV_VAR_VARIABLES_SELECCION/SAMPLES/STRATEGY1_PRP.csv\"\n",
    "data_obj_key =  \"{}/{}\".format(prefix, data_file_name)\n",
    "s3_bucket_resource.Object(data_obj_key).put(Body=f_str.getvalue())"
   ]
  },
  {
   "cell_type": "markdown",
   "metadata": {},
   "source": [
    "## Preprocess strategy 1 all variables"
   ]
  },
  {
   "cell_type": "code",
   "execution_count": 2,
   "metadata": {},
   "outputs": [],
   "source": [
    "data_file_name = \"DATASETS_3/JAT_MCV_VAR_VARIABLES_SELECCION/SAMPLES/STRATEGY1.csv\"\n",
    "data_file_key = \"{}/{}\".format(prefix, data_file_name)\n",
    "data_obj = s3_bucket_resource.Object(data_file_key).get()\n",
    "data = pd.read_csv(io.BytesIO(data_obj['Body'].read()))"
   ]
  },
  {
   "cell_type": "code",
   "execution_count": 3,
   "metadata": {},
   "outputs": [],
   "source": [
    "imputer = prp.Imputer(missing_values='NaN', strategy=impute_strategy, axis=0)\n",
    "scaler = prp.RobustScaler()\n",
    "prp_data = data.drop(['LABEL', 'BMI', 'REVOLVENTE'], axis=1)"
   ]
  },
  {
   "cell_type": "code",
   "execution_count": 4,
   "metadata": {},
   "outputs": [],
   "source": [
    "imputer = imputer.fit(prp_data)\n",
    "data.iloc[:,3:] = imputer.transform(prp_data)"
   ]
  },
  {
   "cell_type": "code",
   "execution_count": 6,
   "metadata": {},
   "outputs": [],
   "source": [
    "scaler = scaler.fit(data.iloc[:,3:])\n",
    "data.iloc[:,3:] = scaler.transform(data.iloc[:,3:])"
   ]
  },
  {
   "cell_type": "code",
   "execution_count": 7,
   "metadata": {},
   "outputs": [],
   "source": [
    "import pickle\n",
    "\n",
    "# pickle.dump(missing_cols, open(\"pickles/stg1_all_missing_cols.data\", \"wb\"))\n",
    "pickle.dump(imputer, open(\"pickles/stg1_all_imputer.data\", \"wb\"))\n",
    "pickle.dump(scaler, open(\"pickles/stg1_all_scaler.data\", \"wb\"))"
   ]
  },
  {
   "cell_type": "code",
   "execution_count": 8,
   "metadata": {},
   "outputs": [
    {
     "data": {
      "text/plain": [
       "{'ResponseMetadata': {'RequestId': '2D5CD609328DEBEE',\n",
       "  'HostId': 'eyhtv7SNhhI0ccoFSY3XpIHKlo34V6+r1aObG+l91d/xJt/C6RWDtw1XR4DQ7i2QB48Hldtoe0M=',\n",
       "  'HTTPStatusCode': 200,\n",
       "  'HTTPHeaders': {'x-amz-id-2': 'eyhtv7SNhhI0ccoFSY3XpIHKlo34V6+r1aObG+l91d/xJt/C6RWDtw1XR4DQ7i2QB48Hldtoe0M=',\n",
       "   'x-amz-request-id': '2D5CD609328DEBEE',\n",
       "   'date': 'Wed, 07 Nov 2018 19:02:20 GMT',\n",
       "   'etag': '\"a448f06440f938539aa0928c262e6578\"',\n",
       "   'content-length': '0',\n",
       "   'server': 'AmazonS3'},\n",
       "  'RetryAttempts': 0},\n",
       " 'ETag': '\"a448f06440f938539aa0928c262e6578\"'}"
      ]
     },
     "execution_count": 8,
     "metadata": {},
     "output_type": "execute_result"
    }
   ],
   "source": [
    "f_str = io.StringIO()\n",
    "data.to_csv(f_str, index=False)\n",
    "data_file_name = \"DATASETS_3/JAT_MCV_VAR_VARIABLES_SELECCION/SAMPLES/STRATEGY1_ALL_PRP.csv\"\n",
    "data_obj_key =  \"{}/{}\".format(prefix, data_file_name)\n",
    "s3_bucket_resource.Object(data_obj_key).put(Body=f_str.getvalue())"
   ]
  },
  {
   "cell_type": "markdown",
   "metadata": {},
   "source": [
    "## Preprocess strategy 2"
   ]
  },
  {
   "cell_type": "code",
   "execution_count": 12,
   "metadata": {},
   "outputs": [],
   "source": [
    "data_file_name = \"DATASETS_3/JAT_MCV_VAR_VARIABLES_SELECCION/SAMPLES/STRATEGY2.csv\"\n",
    "data_file_key = \"{}/{}\".format(prefix, data_file_name)\n",
    "data_obj = s3_bucket_resource.Object(data_file_key).get()\n",
    "data = pd.read_csv(io.BytesIO(data_obj['Body'].read()))"
   ]
  },
  {
   "cell_type": "code",
   "execution_count": 13,
   "metadata": {
    "scrolled": true
   },
   "outputs": [
    {
     "name": "stdout",
     "output_type": "stream",
     "text": [
      "1991\n"
     ]
    }
   ],
   "source": [
    "# columns with to much missing\n",
    "\n",
    "allowed_missing = 0.4\n",
    "# count = 0\n",
    "missing_cols = []\n",
    "for col in data.columns:\n",
    "    if data.loc[:,col].isnull().values.sum() > len(data) * allowed_missing:\n",
    "        # print(col, count)\n",
    "        missing_cols.append(col)\n",
    "    # count += 1\n",
    "print(len(missing_cols))"
   ]
  },
  {
   "cell_type": "code",
   "execution_count": 14,
   "metadata": {},
   "outputs": [],
   "source": [
    "# data without missings\n",
    "data_wom = data.drop(missing_cols, axis=1) "
   ]
  },
  {
   "cell_type": "code",
   "execution_count": 15,
   "metadata": {},
   "outputs": [],
   "source": [
    "imputer = prp.Imputer(missing_values='NaN', strategy=impute_strategy, axis=0)\n",
    "scaler = prp.RobustScaler()\n",
    "prp_data = data_wom.drop(['LABEL', 'BMI', 'REVOLVENTE'], axis=1)"
   ]
  },
  {
   "cell_type": "code",
   "execution_count": 16,
   "metadata": {
    "scrolled": true
   },
   "outputs": [],
   "source": [
    "imputer = imputer.fit(prp_data)\n",
    "data_wom.iloc[:,3:] = imputer.transform(prp_data)"
   ]
  },
  {
   "cell_type": "code",
   "execution_count": 17,
   "metadata": {},
   "outputs": [],
   "source": [
    "scaler = scaler.fit(data_wom.iloc[:,3:])\n",
    "data_wom.iloc[:,3:] = scaler.transform(data_wom.iloc[:,3:])"
   ]
  },
  {
   "cell_type": "code",
   "execution_count": 18,
   "metadata": {},
   "outputs": [],
   "source": [
    "import pickle\n",
    "\n",
    "pickle.dump(missing_cols, open(\"pickles/stg2_missing_cols.data\", \"wb\"))\n",
    "pickle.dump(imputer, open(\"pickles/stg2_imputer.data\", \"wb\"))\n",
    "pickle.dump(scaler, open(\"pickles/stg2_scaler.data\", \"wb\"))"
   ]
  },
  {
   "cell_type": "code",
   "execution_count": 19,
   "metadata": {
    "scrolled": true
   },
   "outputs": [
    {
     "data": {
      "text/plain": [
       "{'ResponseMetadata': {'RequestId': '3F2BB1912F5427B8',\n",
       "  'HostId': 'GXRh2SlBNfMR5ffmBOCNi2ZsURR4ahoVSjlilqVOl8wr1ehOM1VAr5L/xmoD7yIe/BuGGgkSabc=',\n",
       "  'HTTPStatusCode': 200,\n",
       "  'HTTPHeaders': {'x-amz-id-2': 'GXRh2SlBNfMR5ffmBOCNi2ZsURR4ahoVSjlilqVOl8wr1ehOM1VAr5L/xmoD7yIe/BuGGgkSabc=',\n",
       "   'x-amz-request-id': '3F2BB1912F5427B8',\n",
       "   'date': 'Wed, 07 Nov 2018 00:03:22 GMT',\n",
       "   'etag': '\"6a03b1c6a6566aacc398c58b9b84173d\"',\n",
       "   'content-length': '0',\n",
       "   'server': 'AmazonS3'},\n",
       "  'RetryAttempts': 0},\n",
       " 'ETag': '\"6a03b1c6a6566aacc398c58b9b84173d\"'}"
      ]
     },
     "execution_count": 19,
     "metadata": {},
     "output_type": "execute_result"
    }
   ],
   "source": [
    "f_str = io.StringIO()\n",
    "data_wom.to_csv(f_str, index=False)\n",
    "data_file_name = \"DATASETS_3/JAT_MCV_VAR_VARIABLES_SELECCION/SAMPLES/STRATEGY2_PRP.csv\"\n",
    "data_obj_key =  \"{}/{}\".format(prefix, data_file_name)\n",
    "s3_bucket_resource.Object(data_obj_key).put(Body=f_str.getvalue())"
   ]
  }
 ],
 "metadata": {
  "kernelspec": {
   "display_name": "conda_python3",
   "language": "python",
   "name": "conda_python3"
  },
  "language_info": {
   "codemirror_mode": {
    "name": "ipython",
    "version": 3
   },
   "file_extension": ".py",
   "mimetype": "text/x-python",
   "name": "python",
   "nbconvert_exporter": "python",
   "pygments_lexer": "ipython3",
   "version": "3.6.5"
  }
 },
 "nbformat": 4,
 "nbformat_minor": 2
}
