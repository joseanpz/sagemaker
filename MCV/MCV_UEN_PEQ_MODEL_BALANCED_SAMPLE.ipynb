{
 "cells": [
  {
   "cell_type": "code",
   "execution_count": 3,
   "metadata": {
    "scrolled": true
   },
   "outputs": [
    {
     "name": "stdout",
     "output_type": "stream",
     "text": [
      "MemTotal:       65951648 kB\r\n",
      "MemFree:        52277708 kB\r\n",
      "MemAvailable:   52953100 kB\r\n",
      "Buffers:          146128 kB\r\n",
      "Cached:          1072812 kB\r\n",
      "SwapCached:            0 kB\r\n",
      "Active:         12646580 kB\r\n",
      "Inactive:         711732 kB\r\n",
      "Active(anon):   12139464 kB\r\n",
      "Inactive(anon):       60 kB\r\n",
      "Active(file):     507116 kB\r\n",
      "Inactive(file):   711672 kB\r\n",
      "Unevictable:           0 kB\r\n",
      "Mlocked:               0 kB\r\n",
      "SwapTotal:             0 kB\r\n",
      "SwapFree:              0 kB\r\n",
      "Dirty:                40 kB\r\n",
      "Writeback:             0 kB\r\n",
      "AnonPages:      12140196 kB\r\n",
      "Mapped:           156660 kB\r\n",
      "Shmem:                72 kB\r\n",
      "Slab:             134224 kB\r\n",
      "SReclaimable:      95992 kB\r\n",
      "SUnreclaim:        38232 kB\r\n",
      "KernelStack:        7776 kB\r\n",
      "PageTables:        29120 kB\r\n",
      "NFS_Unstable:          0 kB\r\n",
      "Bounce:                0 kB\r\n",
      "WritebackTmp:          0 kB\r\n",
      "CommitLimit:    32975824 kB\r\n",
      "Committed_AS:   14662388 kB\r\n",
      "VmallocTotal:   34359738367 kB\r\n",
      "VmallocUsed:           0 kB\r\n",
      "VmallocChunk:          0 kB\r\n",
      "AnonHugePages:         0 kB\r\n",
      "ShmemHugePages:        0 kB\r\n",
      "ShmemPmdMapped:        0 kB\r\n",
      "HugePages_Total:       0\r\n",
      "HugePages_Free:        0\r\n",
      "HugePages_Rsvd:        0\r\n",
      "HugePages_Surp:        0\r\n",
      "Hugepagesize:       2048 kB\r\n",
      "DirectMap4k:       90112 kB\r\n",
      "DirectMap2M:     4104192 kB\r\n",
      "DirectMap1G:    63963136 kB\r\n"
     ]
    }
   ],
   "source": [
    "!cat /proc/meminfo"
   ]
  },
  {
   "cell_type": "code",
   "execution_count": 3,
   "metadata": {},
   "outputs": [
    {
     "name": "stdout",
     "output_type": "stream",
     "text": [
      "Requirement already satisfied: xgboost in /home/ec2-user/anaconda3/envs/python3/lib/python3.6/site-packages (0.80)\n",
      "Requirement already satisfied: msgpack in /home/ec2-user/anaconda3/envs/python3/lib/python3.6/site-packages (0.5.6)\n",
      "Collecting imbalanced-learn\n",
      "\u001b[?25l  Downloading https://files.pythonhosted.org/packages/80/a4/900463a3c0af082aed9c5a43f4ec317a9469710c5ef80496c9abc26ed0ca/imbalanced_learn-0.3.3-py3-none-any.whl (144kB)\n",
      "\u001b[K    100% |████████████████████████████████| 153kB 15.0MB/s ta 0:00:01\n",
      "\u001b[?25hRequirement already satisfied: numpy in /home/ec2-user/anaconda3/envs/python3/lib/python3.6/site-packages (from xgboost) (1.15.1)\n",
      "Requirement already satisfied: scipy in /home/ec2-user/anaconda3/envs/python3/lib/python3.6/site-packages (from xgboost) (1.1.0)\n",
      "Requirement already satisfied: scikit-learn in /home/ec2-user/anaconda3/envs/python3/lib/python3.6/site-packages (from imbalanced-learn) (0.19.2)\n",
      "Installing collected packages: imbalanced-learn\n",
      "Successfully installed imbalanced-learn-0.3.3\n",
      "\u001b[33mYou are using pip version 10.0.1, however version 18.0 is available.\n",
      "You should consider upgrading via the 'pip install --upgrade pip' command.\u001b[0m\n"
     ]
    }
   ],
   "source": [
    "!pip install xgboost msgpack imbalanced-learn"
   ]
  },
  {
   "cell_type": "code",
   "execution_count": 4,
   "metadata": {},
   "outputs": [],
   "source": [
    "import pandas as pd\n",
    "import numpy as np\n",
    "import seaborn as sns\n",
    "import matplotlib.pyplot as plt\n",
    "import io\n",
    "import time\n",
    "import json\n",
    "import gc\n",
    "import pickle\n",
    "\n",
    "from sklearn import preprocessing as prp\n",
    "from sklearn.metrics import roc_curve, auc\n",
    "from sklearn.metrics import (accuracy_score, r2_score, confusion_matrix,\n",
    "f1_score, recall_score, precision_score)\n",
    "\n",
    "import os\n",
    "import boto3\n",
    "import re\n",
    "\n",
    "import xgboost as xgb\n",
    "from imblearn.combine import SMOTEENN \n",
    "\n",
    "# ruta de trabajo en s3\n",
    "bucket = 'boi-banregio'\n",
    "target = 'BMI'\n",
    "feat_part_number = 40\n",
    "\n",
    "pd.options.display.max_rows = 4000\n",
    "\n",
    "# s3 resource\n",
    "s3_bucket_resource = boto3.resource('s3').Bucket(bucket)"
   ]
  },
  {
   "cell_type": "code",
   "execution_count": 216,
   "metadata": {},
   "outputs": [
    {
     "name": "stdout",
     "output_type": "stream",
     "text": [
      "alabaster==0.7.10\n",
      "anaconda-client==1.6.14\n",
      "anaconda-project==0.8.2\n",
      "asn1crypto==0.24.0\n",
      "astroid==1.6.3\n",
      "astropy==3.0.2\n",
      "attrs==18.1.0\n",
      "awscli==1.16.9\n",
      "Babel==2.5.3\n",
      "backcall==0.1.0\n",
      "backports.shutil-get-terminal-size==1.0.0\n",
      "beautifulsoup4==4.6.0\n",
      "bitarray==0.8.1\n",
      "bkcharts==0.2\n",
      "blaze==0.11.3\n",
      "bleach==2.1.3\n",
      "bokeh==0.12.16\n",
      "boto==2.48.0\n",
      "boto3==1.8.9\n",
      "botocore==1.11.9\n",
      "Bottleneck==1.2.1\n",
      "certifi==2018.8.24\n",
      "cffi==1.11.5\n",
      "chardet==3.0.4\n",
      "click==6.7\n",
      "cloudpickle==0.5.3\n",
      "clyent==1.2.2\n",
      "colorama==0.3.9\n",
      "contextlib2==0.5.5\n",
      "cryptography==2.2.2\n",
      "cycler==0.10.0\n",
      "Cython==0.28.2\n",
      "cytoolz==0.9.0.1\n",
      "dask==0.17.5\n",
      "datashape==0.5.4\n",
      "decorator==4.3.0\n",
      "distributed==1.21.8\n",
      "docutils==0.14\n",
      "entrypoints==0.2.3\n",
      "environment-kernels==1.1.1\n",
      "et-xmlfile==1.0.1\n",
      "fastcache==1.0.2\n",
      "filelock==3.0.4\n",
      "Flask==1.0.2\n",
      "Flask-Cors==3.0.4\n",
      "gevent==1.3.0\n",
      "glob2==0.6\n",
      "gmpy2==2.0.8\n",
      "greenlet==0.4.13\n",
      "h5py==2.7.1\n",
      "heapdict==1.0.0\n",
      "html5lib==1.0.1\n",
      "idna==2.6\n",
      "imageio==2.3.0\n",
      "imagesize==1.0.0\n",
      "ipykernel==4.8.2\n",
      "ipython==6.4.0\n",
      "ipython-genutils==0.2.0\n",
      "ipywidgets==7.2.1\n",
      "isort==4.3.4\n",
      "itsdangerous==0.24\n",
      "jdcal==1.4\n",
      "jedi==0.12.0\n",
      "Jinja2==2.10\n",
      "jmespath==0.9.3\n",
      "jsonschema==2.6.0\n",
      "jupyter==1.0.0\n",
      "jupyter-client==5.2.3\n",
      "jupyter-console==5.2.0\n",
      "jupyter-core==4.4.0\n",
      "jupyterlab==0.32.1\n",
      "jupyterlab-launcher==0.10.5\n",
      "kiwisolver==1.0.1\n",
      "lazy-object-proxy==1.3.1\n",
      "lightgbm==2.2.0\n",
      "llvmlite==0.23.1\n",
      "locket==0.2.0\n",
      "lxml==4.2.1\n",
      "MarkupSafe==1.0\n",
      "matplotlib==2.2.2\n",
      "mccabe==0.6.1\n",
      "mistune==0.8.3\n",
      "mkl-fft==1.0.0\n",
      "mkl-random==1.0.1\n",
      "more-itertools==4.1.0\n",
      "mpmath==1.0.0\n",
      "msgpack==0.5.6\n",
      "msgpack-python==0.5.6\n",
      "multipledispatch==0.5.0\n",
      "nb-conda==2.2.1\n",
      "nb-conda-kernels==2.1.1\n",
      "nbconvert==5.3.1\n",
      "nbformat==4.4.0\n",
      "networkx==2.1\n",
      "nltk==3.3\n",
      "nose==1.3.7\n",
      "notebook==5.5.0\n",
      "numba==0.38.0\n",
      "numexpr==2.6.6\n",
      "numpy==1.15.1\n",
      "numpydoc==0.8.0\n",
      "odo==0.5.1\n",
      "olefile==0.45.1\n",
      "openpyxl==2.5.3\n",
      "packaging==17.1\n",
      "pandas==0.22.0\n",
      "pandocfilters==1.4.2\n",
      "parso==0.2.0\n",
      "partd==0.3.8\n",
      "path.py==11.0.1\n",
      "pathlib2==2.3.2\n",
      "patsy==0.5.0\n",
      "pep8==1.7.1\n",
      "pexpect==4.5.0\n",
      "pickleshare==0.7.4\n",
      "Pillow==5.2.0\n",
      "pkginfo==1.4.2\n",
      "pluggy==0.6.0\n",
      "ply==3.11\n",
      "prompt-toolkit==1.0.15\n",
      "protobuf==3.6.0\n",
      "protobuf3-to-dict==0.1.5\n",
      "psutil==5.4.5\n",
      "psycopg2==2.7.5\n",
      "ptyprocess==0.5.2\n",
      "py==1.5.3\n",
      "py4j==0.10.7\n",
      "pyasn1==0.4.4\n",
      "pycodestyle==2.4.0\n",
      "pycosat==0.6.3\n",
      "pycparser==2.18\n",
      "pycrypto==2.6.1\n",
      "pycurl==7.43.0.1\n",
      "pyflakes==1.6.0\n",
      "pygal==2.4.0\n",
      "Pygments==2.2.0\n",
      "pykerberos==1.1.14\n",
      "pylint==1.8.4\n",
      "pyodbc==4.0.23\n",
      "pyOpenSSL==18.0.0\n",
      "pyparsing==2.2.0\n",
      "PySocks==1.6.8\n",
      "pyspark==2.3.1\n",
      "pytest==3.5.1\n",
      "pytest-arraydiff==0.2\n",
      "pytest-astropy==0.3.0\n",
      "pytest-doctestplus==0.1.3\n",
      "pytest-openfiles==0.3.0\n",
      "pytest-remotedata==0.2.1\n",
      "python-dateutil==2.7.3\n",
      "pytz==2018.4\n",
      "PyWavelets==0.5.2\n",
      "PyYAML==3.12\n",
      "pyzmq==17.0.0\n",
      "QtAwesome==0.4.4\n",
      "qtconsole==4.3.1\n",
      "QtPy==1.4.1\n",
      "requests==2.18.4\n",
      "rope==0.10.7\n",
      "rsa==3.4.2\n",
      "ruamel-yaml==0.15.35\n",
      "s3fs==0.1.6\n",
      "s3transfer==0.1.13\n",
      "sagemaker==1.10.1\n",
      "sagemaker-pyspark==1.1.4\n",
      "scikit-image==0.13.1\n",
      "scikit-learn==0.19.2\n",
      "scipy==1.1.0\n",
      "seaborn==0.8.1\n",
      "Send2Trash==1.5.0\n",
      "simplegeneric==0.8.1\n",
      "singledispatch==3.4.0.3\n",
      "six==1.11.0\n",
      "snowballstemmer==1.2.1\n",
      "sortedcollections==0.6.1\n",
      "sortedcontainers==1.5.10\n",
      "Sphinx==1.7.4\n",
      "sphinxcontrib-websupport==1.0.1\n",
      "spyder==3.2.8\n",
      "SQLAlchemy==1.2.7\n",
      "statsmodels==0.9.0\n",
      "sympy==1.1.1\n",
      "tables==3.4.3\n",
      "tblib==1.3.2\n",
      "terminado==0.8.1\n",
      "testpath==0.3.1\n",
      "toolz==0.9.0\n",
      "tornado==5.0.2\n",
      "traitlets==4.3.2\n",
      "typing==3.6.4\n",
      "unicodecsv==0.14.1\n",
      "urllib3==1.22\n",
      "wcwidth==0.1.7\n",
      "webencodings==0.5.1\n",
      "Werkzeug==0.14.1\n",
      "widgetsnbextension==3.2.1\n",
      "wrapt==1.10.11\n",
      "xgboost==0.80\n",
      "xlrd==1.1.0\n",
      "XlsxWriter==1.0.4\n",
      "xlwt==1.3.0\n",
      "zict==0.1.3\n",
      "\u001b[33mYou are using pip version 10.0.1, however version 18.0 is available.\n",
      "You should consider upgrading via the 'pip install --upgrade pip' command.\u001b[0m\n"
     ]
    }
   ],
   "source": [
    "#!ls -la / & strings /lib64/libc.so.6 | grep ^GLIBC_\n",
    "# !git clone --recursive https://github.com/Microsoft/LightGBM\n",
    "#!ls -la LightGBM/\n",
    "#!mkdir LightGBM/build\n",
    "!pip freeze\n"
   ]
  },
  {
   "cell_type": "code",
   "execution_count": 5,
   "metadata": {},
   "outputs": [],
   "source": [
    "from itertools import chain, zip_longest\n",
    "\n",
    "def predict(probs, threshold):\n",
    "    preds = []\n",
    "    for prob in probs:\n",
    "        if prob > threshold:\n",
    "            preds.append(1)\n",
    "        else:\n",
    "            preds.append(0)\n",
    "    return np.array(preds)\n",
    "\n",
    "# fval for hyperparameters\n",
    "def val_func(pred_probs, dmat):\n",
    "    thrs = [0.2, 0.3, 0.4, 0.5, 0.6, 0.7]\n",
    "    ret = []\n",
    "    for thr in thrs:\n",
    "        preds = predict(pred_probs, thr)\n",
    "        score = f1_score(preds, dmat.get_float_info('label'))\n",
    "        ret.append(('f1_score_thr{}'.format(thr), score))\n",
    "    return ret\n",
    "\n",
    "def val_func_thr(bst, dtest, test_y):\n",
    "    f1_sc = 0\n",
    "    max_step = 0\n",
    "    thr_sample = (dtest, test_y)\n",
    "    _score_preds = bst.predict(thr_sample[0])\n",
    "    for thr_step in np.linspace(0, 1, 101):\n",
    "        _preds = predict(_score_preds, thr_step)\n",
    "        f1_sc_step = f1_score(thr_sample[1], _preds)        \n",
    "        if f1_sc_step >= f1_sc:\n",
    "            f1_sc = f1_sc_step\n",
    "            max_step = thr_step\n",
    "    # threshold = max_step\n",
    "    return max_step, f1_sc  # threshold, f1score max value\n",
    "\n",
    "def pretty_table(matrix):\n",
    "    matrix_aux = chain.from_iterable(\n",
    "        zip_longest(\n",
    "            *(x.splitlines() for x in y),\n",
    "            fillvalue='')\n",
    "        for y in [[str(e) for e in row] for row in matrix])\n",
    "\n",
    "    s = [[str(e) for e in row] for row in matrix_aux]\n",
    "    lens = [max(map(len, col)) for col in zip(*s)]\n",
    "    fmt = '\\t'.join('{{:{}}}'.format(x) for x in lens)\n",
    "    table = [fmt.format(*row) for row in s]\n",
    "    print('\\n'.join(table))\n",
    "    \n",
    "def get_xgb_feat_importances(clf):\n",
    "    if isinstance(clf, xgb.XGBModel):\n",
    "        # clf has been created by calling\n",
    "        # xgb.XGBClassifier.fit() or xgb.XGBRegressor().fit()\n",
    "        fscore = clf.booster().get_fscore()\n",
    "    else:\n",
    "        # clf has been created by calling xgb.train.\n",
    "        # Thus, clf is an instance of xgb.Booster.\n",
    "        fscore = clf.get_fscore()\n",
    "\n",
    "    feat_importances = []\n",
    "    for ft, score in fscore.items():\n",
    "        feat_importances.append({'Feature': ft, 'Importance': score})\n",
    "    feat_importances = pd.DataFrame(feat_importances)\n",
    "    feat_importances = feat_importances.sort_values(\n",
    "        by='Importance', ascending=False).reset_index(drop=True)\n",
    "    # Divide the importances by the sum of all importances\n",
    "    # to get relative importances. By using relative importances\n",
    "    # the sum of all importances will equal to 1, i.e.,\n",
    "    # np.sum(feat_importances['importance']) == 1\n",
    "    feat_importances['Importance'] /= feat_importances['Importance'].sum()\n",
    "    # Print the most important features and their importances\n",
    "    print(feat_importances.head())\n",
    "    return feat_importances"
   ]
  },
  {
   "cell_type": "markdown",
   "metadata": {},
   "source": [
    "### Cargamos información"
   ]
  },
  {
   "cell_type": "code",
   "execution_count": 6,
   "metadata": {},
   "outputs": [],
   "source": [
    "# Aquí colocamos la ruta de nuestro directorio, el nombre de nuestro archivo y si tiene o no cabecera\n",
    "prefix = 'datalake/data/InteligenciaRiesgos/M&M/MCV/DATASETS_3/JAT_MCV_VAR_VARIABLES_SELECCION/PARTITION'"
   ]
  },
  {
   "cell_type": "code",
   "execution_count": 7,
   "metadata": {},
   "outputs": [],
   "source": [
    "target_file_name = \"TARGETS.csv\"\n",
    "target_file_key = \"{}/{}\".format(prefix, target_file_name)\n",
    "target_obj = s3_bucket_resource.Object(target_file_key).get()\n",
    "target_data = pd.read_csv(io.BytesIO(target_obj['Body'].read())).loc[:,[target]]"
   ]
  },
  {
   "cell_type": "code",
   "execution_count": 8,
   "metadata": {},
   "outputs": [],
   "source": [
    "# model_features_file_name = \"MODEL_DATASET/MODEL_FEATURES.csv\"\n",
    "model_features_file_name = \"MODEL_DATASET/MODEL_FEATURES+EXTRAS.csv\"\n",
    "model_features_file_key = \"{}/{}\".format(prefix, model_features_file_name)\n",
    "model_features_obj = s3_bucket_resource.Object(model_features_file_key).get()\n",
    "model_features_data = pd.read_csv(io.BytesIO(model_features_obj['Body'].read()))"
   ]
  },
  {
   "cell_type": "code",
   "execution_count": 6,
   "metadata": {},
   "outputs": [],
   "source": [
    "date_features_file_name = \"EXTRA_FEATURES/MCV_TRIMESTRE.csv\"\n",
    "date_features_file_key = \"{}/{}\".format(prefix, date_features_file_name)\n",
    "date_features_obj = s3_bucket_resource.Object(date_features_file_key).get()\n",
    "date_features_data = pd.read_csv(io.BytesIO(date_features_obj['Body'].read()))"
   ]
  },
  {
   "cell_type": "code",
   "execution_count": 9,
   "metadata": {},
   "outputs": [],
   "source": [
    "rfc_key_features_file_name = \"EXTRA_FEATURES/MCV_VAR_RFC_FECHA_LLAVE.csv\"\n",
    "rfc_key_features_file_key = \"{}/{}\".format(prefix, rfc_key_features_file_name)\n",
    "rfc_key_features_obj = s3_bucket_resource.Object(rfc_key_features_file_key).get()\n",
    "rfc_key_features_data = pd.read_csv(io.BytesIO(rfc_key_features_obj['Body'].read()))"
   ]
  },
  {
   "cell_type": "code",
   "execution_count": 10,
   "metadata": {},
   "outputs": [],
   "source": [
    "monto_linea_features_file_name = \"EXTRA_FEATURES/JAT_MCV_VAR_VARIABLES_SELECCION_MONTO_LINEA.csv\"\n",
    "monto_linea_features_file_key = \"{}/{}\".format(prefix, monto_linea_features_file_name)\n",
    "monto_linea_features_obj = s3_bucket_resource.Object(monto_linea_features_file_key).get()\n",
    "monto_linea_features_data = pd.read_csv(io.BytesIO(monto_linea_features_obj['Body'].read()))"
   ]
  },
  {
   "cell_type": "markdown",
   "metadata": {},
   "source": [
    "### Selección de modelo con instancias independientes\n"
   ]
  },
  {
   "cell_type": "code",
   "execution_count": 45,
   "metadata": {},
   "outputs": [],
   "source": [
    "def sampler(data, periods, sample, period_samples, sample_exclude, month_size=500, seed=0):\n",
    "    # print('init month size', month_size)\n",
    "    if periods:\n",
    "        per = periods.pop()        \n",
    "        if isinstance(per, list):\n",
    "            # print('in per list size', month_size)\n",
    "            sample, period_samples, sample_exclude = sampler(\n",
    "                data, \n",
    "                per, \n",
    "                sample, \n",
    "                period_samples, \n",
    "                sample_exclude, \n",
    "                month_size, \n",
    "                seed\n",
    "            )\n",
    "            # print('month size', month_size)\n",
    "            sample_exclude = pd.Series([False]*rfc_key_features_data.shape[0])\n",
    "            return sampler(data, periods, sample, period_samples, sample_exclude, month_size, seed)\n",
    "        \n",
    "        period = (data['FECHA'] == per) & (~sample_exclude)       \n",
    "        local_universe = data[period].drop_duplicates('RFC')\n",
    "        \n",
    "        print(local_universe.shape)\n",
    "        local_month_size = month_size.pop() if isinstance(month_size, list) else month_size\n",
    "        \n",
    "        # print('local month size', local_month_size)\n",
    "        period_samples.append(local_universe.sample(local_month_size, random_state=seed))\n",
    "        \n",
    "        if not month_size:\n",
    "            month_size = local_month_size\n",
    "        # print('ms', month_size)\n",
    "        \n",
    "        sample = pd.Series(data.index.isin(period_samples[-1].index)) | sample\n",
    "        sample_exclude = data['RFC'].isin(period_samples[-1]['RFC']) | sample_exclude\n",
    "        return sampler(data, periods, sample, period_samples, sample_exclude, month_size, seed)\n",
    "    else:\n",
    "        return sample, period_samples, sample_exclude"
   ]
  },
  {
   "cell_type": "code",
   "execution_count": 12,
   "metadata": {},
   "outputs": [
    {
     "name": "stdout",
     "output_type": "stream",
     "text": [
      "(9088, 3)\n",
      "(6736, 3)\n",
      "(4551, 3)\n",
      "(2401, 3)\n"
     ]
    },
    {
     "data": {
      "text/plain": [
       "9400"
      ]
     },
     "metadata": {},
     "output_type": "display_data"
    },
    {
     "data": {
      "text/plain": [
       "366790"
      ]
     },
     "metadata": {},
     "output_type": "display_data"
    }
   ],
   "source": [
    "periods = [201702, 201703, 201704, 201705]\n",
    "\n",
    "sample = pd.Series([False]*rfc_key_features_data.shape[0])\n",
    "period_samples = []\n",
    "sample_exclude = sample\n",
    "sample, period_samples, sample_exclude = sampler(\n",
    "    rfc_key_features_data, \n",
    "    periods, \n",
    "    sample, \n",
    "    period_samples, \n",
    "    sample_exclude, \n",
    "    month_size=2350\n",
    ")\n",
    "display(sample.sum())\n",
    "display(sample_exclude.sum())"
   ]
  },
  {
   "cell_type": "code",
   "execution_count": 61,
   "metadata": {
    "scrolled": true
   },
   "outputs": [
    {
     "name": "stdout",
     "output_type": "stream",
     "text": [
      "(9088, 3)\n",
      "(4205, 3)\n",
      "(8830, 3)\n",
      "(4222, 3)\n",
      "(8308, 3)\n",
      "(4023, 3)\n",
      "(7653, 3)\n",
      "(3732, 3)\n",
      "(6993, 3)\n",
      "(3147, 3)\n",
      "(6627, 3)\n",
      "(2684, 3)\n"
     ]
    },
    {
     "data": {
      "text/plain": [
       "47813"
      ]
     },
     "metadata": {},
     "output_type": "display_data"
    },
    {
     "data": {
      "text/plain": [
       "0"
      ]
     },
     "metadata": {},
     "output_type": "display_data"
    }
   ],
   "source": [
    "periods = [\n",
    "    [201502, 201503],\n",
    "    [201507, 201508],\n",
    "    [201512, 201601],\n",
    "    [201605, 201606],\n",
    "    [201610, 201612], \n",
    "    [201704, 201705]\n",
    "]\n",
    "\n",
    "sample = pd.Series([False]*rfc_key_features_data.shape[0])\n",
    "period_samples = []\n",
    "sample_exclude = sample\n",
    "sample, period_samples, sample_exclude = sampler(\n",
    "    rfc_key_features_data, \n",
    "    periods, \n",
    "    sample, \n",
    "    period_samples, \n",
    "    sample_exclude, \n",
    "    month_size=[2684, 4000, 3147, 4000, 3732, 4000, 4023, 4300, 4222, 4500, 4205, 5000]\n",
    ")\n",
    "display(sample.sum())\n",
    "display(sample_exclude.sum())"
   ]
  },
  {
   "cell_type": "code",
   "execution_count": 155,
   "metadata": {},
   "outputs": [
    {
     "name": "stdout",
     "output_type": "stream",
     "text": [
      "(8551, 3)\n",
      "(6451, 3)\n",
      "(4314, 3)\n",
      "(2285, 3)\n"
     ]
    },
    {
     "data": {
      "text/plain": [
       "18000"
      ]
     },
     "metadata": {},
     "output_type": "display_data"
    },
    {
     "data": {
      "text/plain": [
       "361618"
      ]
     },
     "metadata": {},
     "output_type": "display_data"
    }
   ],
   "source": [
    "periods = [201605, 201606, 201607, 201608]\n",
    "\n",
    "# sample = pd.Series([False]*rfc_key_features_data.shape[0])\n",
    "# period_samples = []\n",
    "sample_exclude = pd.Series([False]*rfc_key_features_data.shape[0])\n",
    "sample, period_samples, sample_exclude = sampler(\n",
    "    rfc_key_features_data, \n",
    "    periods, \n",
    "    sample, \n",
    "    period_samples, \n",
    "    sample_exclude, \n",
    "    month_size=2150\n",
    ")\n",
    "display(sample.sum())\n",
    "display(sample_exclude.sum())"
   ]
  },
  {
   "cell_type": "code",
   "execution_count": 156,
   "metadata": {},
   "outputs": [
    {
     "name": "stdout",
     "output_type": "stream",
     "text": [
      "(7301, 3)\n",
      "(5530, 3)\n",
      "(3735, 3)\n",
      "(1973, 3)\n"
     ]
    },
    {
     "data": {
      "text/plain": [
       "25400"
      ]
     },
     "metadata": {},
     "output_type": "display_data"
    },
    {
     "data": {
      "text/plain": [
       "323231"
      ]
     },
     "metadata": {},
     "output_type": "display_data"
    }
   ],
   "source": [
    "periods = [201508, 201509, 201510, 201511]\n",
    "\n",
    "# sample = pd.Series([False]*rfc_key_features_data.shape[0])\n",
    "# period_samples = []\n",
    "sample_exclude = pd.Series([False]*rfc_key_features_data.shape[0])\n",
    "sample, period_samples, sample_exclude = sampler(\n",
    "    rfc_key_features_data, \n",
    "    periods, \n",
    "    sample, \n",
    "    period_samples, \n",
    "    sample_exclude, \n",
    "    month_size=1850\n",
    ")\n",
    "display(sample.sum())\n",
    "display(sample_exclude.sum())"
   ]
  },
  {
   "cell_type": "code",
   "execution_count": 157,
   "metadata": {},
   "outputs": [
    {
     "name": "stdout",
     "output_type": "stream",
     "text": [
      "(6473, 3)\n",
      "(3365, 3)\n"
     ]
    },
    {
     "data": {
      "text/plain": [
       "31800"
      ]
     },
     "metadata": {},
     "output_type": "display_data"
    },
    {
     "data": {
      "text/plain": [
       "269650"
      ]
     },
     "metadata": {},
     "output_type": "display_data"
    }
   ],
   "source": [
    "periods = [201501, 201502]\n",
    "\n",
    "# sample = pd.Series([False]*rfc_key_features_data.shape[0])\n",
    "# period_samples = []\n",
    "sample_exclude = pd.Series([False]*rfc_key_features_data.shape[0])\n",
    "sample, period_samples, sample_exclude = sampler(\n",
    "    rfc_key_features_data, \n",
    "    periods, \n",
    "    sample, \n",
    "    period_samples, \n",
    "    sample_exclude, \n",
    "    month_size=3200\n",
    ")\n",
    "display(sample.sum())\n",
    "display(sample_exclude.sum())"
   ]
  },
  {
   "cell_type": "code",
   "execution_count": 21,
   "metadata": {},
   "outputs": [
    {
     "data": {
      "text/plain": [
       "1981"
      ]
     },
     "metadata": {},
     "output_type": "display_data"
    },
    {
     "data": {
      "text/plain": [
       "3508"
      ]
     },
     "metadata": {},
     "output_type": "display_data"
    },
    {
     "data": {
      "text/plain": [
       "1981"
      ]
     },
     "metadata": {},
     "output_type": "display_data"
    },
    {
     "data": {
      "text/plain": [
       "(2366, 3)"
      ]
     },
     "metadata": {},
     "output_type": "display_data"
    },
    {
     "data": {
      "text/plain": [
       "1934"
      ]
     },
     "metadata": {},
     "output_type": "display_data"
    }
   ],
   "source": [
    "m0 = (rfc_key_features_data['FECHA']==201701) & (\n",
    "    rfc_key_features_data['LLAVE_UNIVERSAL_20'].isin(\n",
    "        period_samples[0]['LLAVE_UNIVERSAL_20']))\n",
    "\n",
    "nm0 = (rfc_key_features_data['FECHA']==201701) & ~(\n",
    "    rfc_key_features_data['RFC'].isin(\n",
    "        period_samples[1]['RFC']\n",
    "    ) |\n",
    "    rfc_key_features_data['RFC'].isin(\n",
    "        period_samples[2]['RFC']\n",
    "    ) |\n",
    "    rfc_key_features_data['RFC'].isin(\n",
    "        period_samples[3]['RFC']\n",
    "    )\n",
    ")\n",
    "\n",
    "display(m0.sum())\n",
    "display(nm0.sum())\n",
    "display((m0 & nm0).sum())\n",
    "\n",
    "local = rfc_key_features_data[nm0].drop_duplicates('RFC')\n",
    "\n",
    "display(local.shape)\n",
    "\n",
    "local_sample = pd.Series(rfc_key_features_data.index.isin(local.index))\n",
    "\n",
    "display((local_sample&m0).sum())\n",
    "\n",
    "\n"
   ]
  },
  {
   "cell_type": "code",
   "execution_count": 13,
   "metadata": {},
   "outputs": [
    {
     "data": {
      "text/plain": [
       "1981"
      ]
     },
     "metadata": {},
     "output_type": "display_data"
    },
    {
     "data": {
      "text/plain": [
       "1972"
      ]
     },
     "metadata": {},
     "output_type": "display_data"
    },
    {
     "data": {
      "text/plain": [
       "736"
      ]
     },
     "metadata": {},
     "output_type": "display_data"
    },
    {
     "data": {
      "text/plain": [
       "1739"
      ]
     },
     "metadata": {},
     "output_type": "display_data"
    },
    {
     "data": {
      "text/plain": [
       "1738"
      ]
     },
     "metadata": {},
     "output_type": "display_data"
    },
    {
     "data": {
      "text/plain": [
       "1771"
      ]
     },
     "metadata": {},
     "output_type": "display_data"
    },
    {
     "data": {
      "text/plain": [
       "1698"
      ]
     },
     "metadata": {},
     "output_type": "display_data"
    },
    {
     "data": {
      "text/plain": [
       "1638"
      ]
     },
     "metadata": {},
     "output_type": "display_data"
    },
    {
     "data": {
      "text/plain": [
       "13273"
      ]
     },
     "metadata": {},
     "output_type": "display_data"
    }
   ],
   "source": [
    "#sample_m1 = (rfc_key_features_data[sample] == 201708)\n",
    "#rfc_key_features_data[sample_m1]\n",
    "\n",
    "#display(period_samples[0])\n",
    "\n",
    "m0 = (rfc_key_features_data['FECHA']==201701) & (\n",
    "    rfc_key_features_data['LLAVE_UNIVERSAL_20'].isin(\n",
    "        period_samples[0]['LLAVE_UNIVERSAL_20']))\n",
    "\n",
    "m1 = (rfc_key_features_data['FECHA']==201612) & (\n",
    "    rfc_key_features_data['LLAVE_UNIVERSAL_20'].isin(\n",
    "        period_samples[1]['LLAVE_UNIVERSAL_20']))\n",
    "\n",
    "m2 = (rfc_key_features_data['FECHA']==201611) & (\n",
    "    rfc_key_features_data['LLAVE_UNIVERSAL_20'].isin(\n",
    "        period_samples[2]['LLAVE_UNIVERSAL_20']))\n",
    "\n",
    "m3 = (rfc_key_features_data['FECHA']==201610) & (\n",
    "    rfc_key_features_data['LLAVE_UNIVERSAL_20'].isin(\n",
    "        period_samples[3]['LLAVE_UNIVERSAL_20']))\n",
    "\n",
    "m4 = (rfc_key_features_data['FECHA']==201609) & (\n",
    "    rfc_key_features_data['LLAVE_UNIVERSAL_20'].isin(\n",
    "        period_samples[0]['LLAVE_UNIVERSAL_20']))\n",
    "\n",
    "m5 = (rfc_key_features_data['FECHA']==201608) & (\n",
    "    rfc_key_features_data['LLAVE_UNIVERSAL_20'].isin(\n",
    "        period_samples[1]['LLAVE_UNIVERSAL_20']))\n",
    "\n",
    "m6 = (rfc_key_features_data['FECHA']==201607) & (\n",
    "    rfc_key_features_data['LLAVE_UNIVERSAL_20'].isin(\n",
    "        period_samples[2]['LLAVE_UNIVERSAL_20']))\n",
    "\n",
    "m7 = (rfc_key_features_data['FECHA']==201606) & (\n",
    "    rfc_key_features_data['LLAVE_UNIVERSAL_20'].isin(\n",
    "        period_samples[3]['LLAVE_UNIVERSAL_20']))\n",
    "\n",
    "sample_ext = m0 | m1 | m2 | m3 | m4 | m5 | m6 | m7\n",
    "display(m0.sum())\n",
    "display(m1.sum())\n",
    "display(m2.sum())\n",
    "display(m3.sum())\n",
    "display(m4.sum())\n",
    "display(m5.sum())\n",
    "display(m6.sum())\n",
    "display(m7.sum())\n",
    "display(sample_ext.sum())\n",
    "sample_final = sample | sample_ext\n",
    "\n",
    "\n",
    "\n",
    "\n",
    "\n",
    "\n",
    "\n",
    "\n",
    "\n"
   ]
  },
  {
   "cell_type": "code",
   "execution_count": 14,
   "metadata": {},
   "outputs": [
    {
     "data": {
      "text/plain": [
       "22673"
      ]
     },
     "execution_count": 14,
     "metadata": {},
     "output_type": "execute_result"
    }
   ],
   "source": [
    "sample_final.sum()"
   ]
  },
  {
   "cell_type": "code",
   "execution_count": 196,
   "metadata": {
    "scrolled": true
   },
   "outputs": [
    {
     "name": "stdout",
     "output_type": "stream",
     "text": [
      "(7890, 3)\n",
      "(7151, 3)\n",
      "(6526, 3)\n",
      "(5862, 3)\n",
      "(5163, 3)\n",
      "(4630, 3)\n",
      "(4043, 3)\n",
      "(3404, 3)\n",
      "(2911, 3)\n",
      "(2368, 3)\n",
      "(1817, 3)\n",
      "(1308, 3)\n",
      "(799, 3)\n"
     ]
    },
    {
     "data": {
      "text/plain": [
       "7800"
      ]
     },
     "metadata": {},
     "output_type": "display_data"
    },
    {
     "data": {
      "text/plain": [
       "325071"
      ]
     },
     "metadata": {},
     "output_type": "display_data"
    }
   ],
   "source": [
    "periods2 = [201503, 201504, 201505, \n",
    "            201506, 201507, 201508, 201509, 201510, \n",
    "            201511, 201512, 201601, 201602, 201603]\n",
    "sample2 = pd.Series([False]*rfc_key_features_data.shape[0])\n",
    "sample_exclude2 = sample2\n",
    "sample2, sample_exclude2 = sampler(rfc_key_features_data, periods2, sample2, sample_exclude2, month_size=600)\n",
    "display(sample2.sum())\n",
    "display(sample_exclude2.sum())"
   ]
  },
  {
   "cell_type": "code",
   "execution_count": null,
   "metadata": {},
   "outputs": [],
   "source": []
  },
  {
   "cell_type": "code",
   "execution_count": 185,
   "metadata": {
    "scrolled": true
   },
   "outputs": [
    {
     "data": {
      "text/plain": [
       "(6460, 3)"
      ]
     },
     "metadata": {},
     "output_type": "display_data"
    },
    {
     "data": {
      "text/plain": [
       "(6473, 3)"
      ]
     },
     "metadata": {},
     "output_type": "display_data"
    },
    {
     "data": {
      "text/plain": [
       "(6627, 3)"
      ]
     },
     "metadata": {},
     "output_type": "display_data"
    },
    {
     "data": {
      "text/plain": [
       "(6691, 3)"
      ]
     },
     "metadata": {},
     "output_type": "display_data"
    },
    {
     "data": {
      "text/plain": [
       "(6766, 3)"
      ]
     },
     "metadata": {},
     "output_type": "display_data"
    },
    {
     "data": {
      "text/plain": [
       "(6928, 3)"
      ]
     },
     "metadata": {},
     "output_type": "display_data"
    },
    {
     "data": {
      "text/plain": [
       "(7010, 3)"
      ]
     },
     "metadata": {},
     "output_type": "display_data"
    },
    {
     "data": {
      "text/plain": [
       "(6993, 3)"
      ]
     },
     "metadata": {},
     "output_type": "display_data"
    },
    {
     "data": {
      "text/plain": [
       "(7219, 3)"
      ]
     },
     "metadata": {},
     "output_type": "display_data"
    },
    {
     "data": {
      "text/plain": [
       "(7298, 3)"
      ]
     },
     "metadata": {},
     "output_type": "display_data"
    },
    {
     "data": {
      "text/plain": [
       "(7301, 3)"
      ]
     },
     "metadata": {},
     "output_type": "display_data"
    },
    {
     "data": {
      "text/plain": [
       "(7501, 3)"
      ]
     },
     "metadata": {},
     "output_type": "display_data"
    },
    {
     "data": {
      "text/plain": [
       "(7653, 3)"
      ]
     },
     "metadata": {},
     "output_type": "display_data"
    },
    {
     "data": {
      "text/plain": [
       "(7715, 3)"
      ]
     },
     "metadata": {},
     "output_type": "display_data"
    },
    {
     "data": {
      "text/plain": [
       "(7890, 3)"
      ]
     },
     "metadata": {},
     "output_type": "display_data"
    },
    {
     "data": {
      "text/plain": [
       "(7989, 3)"
      ]
     },
     "metadata": {},
     "output_type": "display_data"
    },
    {
     "data": {
      "text/plain": [
       "(8038, 3)"
      ]
     },
     "metadata": {},
     "output_type": "display_data"
    },
    {
     "data": {
      "text/plain": [
       "(8308, 3)"
      ]
     },
     "metadata": {},
     "output_type": "display_data"
    },
    {
     "data": {
      "text/plain": [
       "(8469, 3)"
      ]
     },
     "metadata": {},
     "output_type": "display_data"
    },
    {
     "data": {
      "text/plain": [
       "(8551, 3)"
      ]
     },
     "metadata": {},
     "output_type": "display_data"
    }
   ],
   "source": [
    "dates = [201501, 201502, 201503, 201504, 201505, \n",
    "         201506, 201507, 201508, 201509, 201510, \n",
    "         201511, 201512, 201601, 201602, 201603, \n",
    "         201604, 201605, 201606, 201607, 201608]\n",
    "\n",
    "periods = [201609, 201610, 201611, 201612, 201701, \n",
    "           201702, 201703, 201704, 201705, 201706, \n",
    "           201707, 201708, 201709, 201710, 201711]\n",
    "\n",
    "periods2 = [201503, 201504, 201505, \n",
    "            201506, 201507, 201508, 201509, 201510, \n",
    "            201511, 201512, 201601, 201602, 201603]\n",
    "\n",
    "\n",
    "\n",
    "for date in dates:\n",
    "    period = (rfc_key_features_data['FECHA'] == date)# & ~sample_exclude\n",
    "    local_universe = rfc_key_features_data[period].drop_duplicates('RFC')\n",
    "    display(local_universe.shape)"
   ]
  },
  {
   "cell_type": "code",
   "execution_count": 18,
   "metadata": {},
   "outputs": [
    {
     "data": {
      "text/plain": [
       "41552"
      ]
     },
     "execution_count": 18,
     "metadata": {},
     "output_type": "execute_result"
    }
   ],
   "source": []
  },
  {
   "cell_type": "code",
   "execution_count": null,
   "metadata": {},
   "outputs": [],
   "source": []
  },
  {
   "cell_type": "markdown",
   "metadata": {},
   "source": [
    "### Variable \"BUENO\""
   ]
  },
  {
   "cell_type": "code",
   "execution_count": 245,
   "metadata": {},
   "outputs": [
    {
     "data": {
      "text/plain": [
       "408559"
      ]
     },
     "execution_count": 245,
     "metadata": {},
     "output_type": "execute_result"
    }
   ],
   "source": [
    "BUENO = target_data['BMI'] == 0\n",
    "BUENO.sum()"
   ]
  },
  {
   "cell_type": "code",
   "execution_count": 271,
   "metadata": {},
   "outputs": [
    {
     "data": {
      "text/plain": [
       "343786"
      ]
     },
     "execution_count": 271,
     "metadata": {},
     "output_type": "execute_result"
    }
   ],
   "source": [
    "target_bueno = target_data[BUENO]\n",
    "target_bueno.head(300)\n",
    "\n",
    "np.random.seed(0)\n",
    "rand_BUENO_split = np.random.rand(len(target_bueno))\n",
    "include_list = rand_BUENO_split < 0.8\n",
    "# drop_list = rand_BUENO_split >= 0.5\n",
    "\n",
    "target_bueno_includes = target_bueno[include_list]\n",
    "target_bueno_includes.head()\n",
    "\n",
    "REDUCCION_BUENO = pd.Series(target_data.index.isin(target_bueno_includes.index)) | ~BUENO\n",
    "REDUCCION_BUENO.sum()"
   ]
  },
  {
   "cell_type": "markdown",
   "metadata": {},
   "source": [
    "### Variable \"MONTO_LINEA\""
   ]
  },
  {
   "cell_type": "code",
   "execution_count": 62,
   "metadata": {},
   "outputs": [
    {
     "data": {
      "text/plain": [
       "398637"
      ]
     },
     "metadata": {},
     "output_type": "display_data"
    }
   ],
   "source": [
    "monto_linea_features_data.apply(pd.to_numeric)\n",
    "MONTO_LINEA = (monto_linea_features_data['MONTO_LINEA'] < 8000000) & (monto_linea_features_data['MONTO_LINEA'] > 1)\n",
    "display(MONTO_LINEA.sum())"
   ]
  },
  {
   "cell_type": "markdown",
   "metadata": {},
   "source": [
    "### Variables \"TRIMESTRE\", \"PERIODO\""
   ]
  },
  {
   "cell_type": "code",
   "execution_count": 132,
   "metadata": {},
   "outputs": [
    {
     "data": {
      "text/plain": [
       "207622"
      ]
     },
     "metadata": {},
     "output_type": "display_data"
    }
   ],
   "source": [
    "TRIMESTRE = (date_features_data['TRIMESTRE'] == 3) | (date_features_data['TRIMESTRE'] == 4)\n",
    "display(TRIMESTRE.sum())"
   ]
  },
  {
   "cell_type": "code",
   "execution_count": 52,
   "metadata": {},
   "outputs": [
    {
     "data": {
      "text/plain": [
       "94908"
      ]
     },
     "metadata": {},
     "output_type": "display_data"
    },
    {
     "data": {
      "text/plain": [
       "13634"
      ]
     },
     "metadata": {},
     "output_type": "display_data"
    }
   ],
   "source": [
    "# PERIODO = ((date_features_data['FECHA'] == 201501) \n",
    "# | (date_features_data['FECHA'] == 201508) \n",
    "# | (date_features_data['FECHA'] == 201603)\n",
    "# | (date_features_data['FECHA'] == 201610)\n",
    "# | (date_features_data['FECHA'] == 201705))\n",
    "\n",
    "PERIODO_TRAIN = ((date_features_data['FECHA'] == 201701)\n",
    "                 |(date_features_data['FECHA'] == 201609) \n",
    "                 |(date_features_data['FECHA'] == 201606)\n",
    "                 |(date_features_data['FECHA'] == 201602)\n",
    "                 |(date_features_data['FECHA'] == 201511)\n",
    "                 |(date_features_data['FECHA'] == 201507)\n",
    "                 |(date_features_data['FECHA'] == 201504)\n",
    "                 |(date_features_data['FECHA'] == 201501))\n",
    "PERIODO_TEST = date_features_data['FECHA'] == 201707\n",
    "\n",
    "display(PERIODO_TRAIN.sum())\n",
    "display(PERIODO_TEST.sum())"
   ]
  },
  {
   "cell_type": "code",
   "execution_count": 122,
   "metadata": {},
   "outputs": [
    {
     "data": {
      "text/plain": [
       "13892"
      ]
     },
     "metadata": {},
     "output_type": "display_data"
    }
   ],
   "source": [
    "PERIODO = date_features_data['FECHA'] == 201711\n",
    "display(PERIODO.sum())"
   ]
  },
  {
   "cell_type": "code",
   "execution_count": 172,
   "metadata": {},
   "outputs": [
    {
     "data": {
      "text/plain": [
       "61982"
      ]
     },
     "metadata": {},
     "output_type": "display_data"
    }
   ],
   "source": [
    "PERIODO2 = ((date_features_data['FECHA'] == 201504) \n",
    "| (date_features_data['FECHA'] == 201511) \n",
    "| (date_features_data['FECHA'] == 201606)\n",
    "| (date_features_data['FECHA'] == 201701)\n",
    "| (date_features_data['FECHA'] == 201708))\n",
    "display(PERIODO2.sum())"
   ]
  },
  {
   "cell_type": "markdown",
   "metadata": {},
   "source": [
    "### Variable \"DIAS_ATRASO\""
   ]
  },
  {
   "cell_type": "code",
   "execution_count": 97,
   "metadata": {},
   "outputs": [],
   "source": [
    "DATRASO = model_features_data['DIAS_ATRASO'] > 0"
   ]
  },
  {
   "cell_type": "code",
   "execution_count": 13,
   "metadata": {
    "scrolled": true
   },
   "outputs": [
    {
     "data": {
      "text/plain": [
       "21783"
      ]
     },
     "metadata": {},
     "output_type": "display_data"
    },
    {
     "data": {
      "text/html": [
       "<div>\n",
       "<style scoped>\n",
       "    .dataframe tbody tr th:only-of-type {\n",
       "        vertical-align: middle;\n",
       "    }\n",
       "\n",
       "    .dataframe tbody tr th {\n",
       "        vertical-align: top;\n",
       "    }\n",
       "\n",
       "    .dataframe thead th {\n",
       "        text-align: right;\n",
       "    }\n",
       "</style>\n",
       "<table border=\"1\" class=\"dataframe\">\n",
       "  <thead>\n",
       "    <tr style=\"text-align: right;\">\n",
       "      <th></th>\n",
       "      <th>AVG_R_BAL_BY_CRED_LIM_12M</th>\n",
       "      <th>DEUDA_TOT</th>\n",
       "      <th>MIN_R_BAL_BY_MAX_BAL_03M</th>\n",
       "      <th>MAX_D_CRED_LIM_TO_BAL_03M</th>\n",
       "      <th>AVG_D_CRED_LIM_TO_BAL_06M</th>\n",
       "      <th>AVG_PND_MENOS_R_BAL_BY_MAX_BAL_06M</th>\n",
       "      <th>AVG_R_BAL_BY_MAX_BAL_12M</th>\n",
       "      <th>AVG_PND_MENOS_BAL_12M</th>\n",
       "      <th>BK12_MAX_CREDIT_AMT</th>\n",
       "      <th>AVG_PND_MAS_BAL_12M</th>\n",
       "      <th>...</th>\n",
       "      <th>MAX_AVG2_VP_MES_U06M_2</th>\n",
       "      <th>MIN_AVG_HI_CALCAR_CEIL_12M</th>\n",
       "      <th>AVG_PND_MAS_MAX_HI_CALCAR_L_12M</th>\n",
       "      <th>MAX_MS_CL_BRG_R_CL_ACC</th>\n",
       "      <th>AVG_PND_MAS_MAX_HI_CALCAR_CEIL_12M</th>\n",
       "      <th>SUM_PAGOREALIZADO_PERIODO</th>\n",
       "      <th>DIAS_ATRASO</th>\n",
       "      <th>DPCV_CAP</th>\n",
       "      <th>DPCV_INT</th>\n",
       "      <th>DPCV_MIN</th>\n",
       "    </tr>\n",
       "  </thead>\n",
       "  <tbody>\n",
       "    <tr>\n",
       "      <th>165</th>\n",
       "      <td>0.232773</td>\n",
       "      <td>1.067227</td>\n",
       "      <td>0.190022</td>\n",
       "      <td>2.304053</td>\n",
       "      <td>2.676436</td>\n",
       "      <td>0.058188</td>\n",
       "      <td>0.227256</td>\n",
       "      <td>4.271565</td>\n",
       "      <td>1.580645</td>\n",
       "      <td>4.114161</td>\n",
       "      <td>...</td>\n",
       "      <td>-0.046345</td>\n",
       "      <td>-0.944444</td>\n",
       "      <td>-0.874797</td>\n",
       "      <td>20.0</td>\n",
       "      <td>-0.601990</td>\n",
       "      <td>-0.255973</td>\n",
       "      <td>23</td>\n",
       "      <td>38</td>\n",
       "      <td>38</td>\n",
       "      <td>38</td>\n",
       "    </tr>\n",
       "    <tr>\n",
       "      <th>184</th>\n",
       "      <td>0.338380</td>\n",
       "      <td>0.327731</td>\n",
       "      <td>0.213416</td>\n",
       "      <td>-0.277413</td>\n",
       "      <td>-0.279964</td>\n",
       "      <td>0.199422</td>\n",
       "      <td>-0.621106</td>\n",
       "      <td>-0.319099</td>\n",
       "      <td>-0.161290</td>\n",
       "      <td>-0.321483</td>\n",
       "      <td>...</td>\n",
       "      <td>-0.060490</td>\n",
       "      <td>-0.236111</td>\n",
       "      <td>1.901492</td>\n",
       "      <td>-13.0</td>\n",
       "      <td>4.459378</td>\n",
       "      <td>-0.255973</td>\n",
       "      <td>20</td>\n",
       "      <td>41</td>\n",
       "      <td>41</td>\n",
       "      <td>41</td>\n",
       "    </tr>\n",
       "    <tr>\n",
       "      <th>191</th>\n",
       "      <td>0.661387</td>\n",
       "      <td>0.428571</td>\n",
       "      <td>-0.360803</td>\n",
       "      <td>-0.287763</td>\n",
       "      <td>-0.305304</td>\n",
       "      <td>0.298017</td>\n",
       "      <td>0.312038</td>\n",
       "      <td>-0.314110</td>\n",
       "      <td>0.129032</td>\n",
       "      <td>-0.311103</td>\n",
       "      <td>...</td>\n",
       "      <td>0.092392</td>\n",
       "      <td>2.472222</td>\n",
       "      <td>2.934360</td>\n",
       "      <td>-1.0</td>\n",
       "      <td>18.716509</td>\n",
       "      <td>-0.255973</td>\n",
       "      <td>21</td>\n",
       "      <td>40</td>\n",
       "      <td>40</td>\n",
       "      <td>40</td>\n",
       "    </tr>\n",
       "    <tr>\n",
       "      <th>192</th>\n",
       "      <td>0.679216</td>\n",
       "      <td>0.428571</td>\n",
       "      <td>-0.360803</td>\n",
       "      <td>-0.287763</td>\n",
       "      <td>-0.304487</td>\n",
       "      <td>0.309719</td>\n",
       "      <td>0.298596</td>\n",
       "      <td>-0.312733</td>\n",
       "      <td>0.129032</td>\n",
       "      <td>-0.311609</td>\n",
       "      <td>...</td>\n",
       "      <td>0.000000</td>\n",
       "      <td>2.472222</td>\n",
       "      <td>2.934360</td>\n",
       "      <td>-1.0</td>\n",
       "      <td>18.716509</td>\n",
       "      <td>0.000000</td>\n",
       "      <td>53</td>\n",
       "      <td>8</td>\n",
       "      <td>8</td>\n",
       "      <td>8</td>\n",
       "    </tr>\n",
       "    <tr>\n",
       "      <th>231</th>\n",
       "      <td>0.334981</td>\n",
       "      <td>0.991597</td>\n",
       "      <td>0.249036</td>\n",
       "      <td>-0.293028</td>\n",
       "      <td>-0.299668</td>\n",
       "      <td>-1.145997</td>\n",
       "      <td>-2.112532</td>\n",
       "      <td>-0.287546</td>\n",
       "      <td>0.709677</td>\n",
       "      <td>-0.309638</td>\n",
       "      <td>...</td>\n",
       "      <td>-0.049772</td>\n",
       "      <td>2.097222</td>\n",
       "      <td>2.545581</td>\n",
       "      <td>-24.0</td>\n",
       "      <td>11.936559</td>\n",
       "      <td>-0.255973</td>\n",
       "      <td>22</td>\n",
       "      <td>39</td>\n",
       "      <td>39</td>\n",
       "      <td>39</td>\n",
       "    </tr>\n",
       "  </tbody>\n",
       "</table>\n",
       "<p>5 rows × 404 columns</p>\n",
       "</div>"
      ],
      "text/plain": [
       "     AVG_R_BAL_BY_CRED_LIM_12M  DEUDA_TOT  MIN_R_BAL_BY_MAX_BAL_03M  \\\n",
       "165                   0.232773   1.067227                  0.190022   \n",
       "184                   0.338380   0.327731                  0.213416   \n",
       "191                   0.661387   0.428571                 -0.360803   \n",
       "192                   0.679216   0.428571                 -0.360803   \n",
       "231                   0.334981   0.991597                  0.249036   \n",
       "\n",
       "     MAX_D_CRED_LIM_TO_BAL_03M  AVG_D_CRED_LIM_TO_BAL_06M  \\\n",
       "165                   2.304053                   2.676436   \n",
       "184                  -0.277413                  -0.279964   \n",
       "191                  -0.287763                  -0.305304   \n",
       "192                  -0.287763                  -0.304487   \n",
       "231                  -0.293028                  -0.299668   \n",
       "\n",
       "     AVG_PND_MENOS_R_BAL_BY_MAX_BAL_06M  AVG_R_BAL_BY_MAX_BAL_12M  \\\n",
       "165                            0.058188                  0.227256   \n",
       "184                            0.199422                 -0.621106   \n",
       "191                            0.298017                  0.312038   \n",
       "192                            0.309719                  0.298596   \n",
       "231                           -1.145997                 -2.112532   \n",
       "\n",
       "     AVG_PND_MENOS_BAL_12M  BK12_MAX_CREDIT_AMT  AVG_PND_MAS_BAL_12M  \\\n",
       "165               4.271565             1.580645             4.114161   \n",
       "184              -0.319099            -0.161290            -0.321483   \n",
       "191              -0.314110             0.129032            -0.311103   \n",
       "192              -0.312733             0.129032            -0.311609   \n",
       "231              -0.287546             0.709677            -0.309638   \n",
       "\n",
       "       ...     MAX_AVG2_VP_MES_U06M_2  MIN_AVG_HI_CALCAR_CEIL_12M  \\\n",
       "165    ...                  -0.046345                   -0.944444   \n",
       "184    ...                  -0.060490                   -0.236111   \n",
       "191    ...                   0.092392                    2.472222   \n",
       "192    ...                   0.000000                    2.472222   \n",
       "231    ...                  -0.049772                    2.097222   \n",
       "\n",
       "     AVG_PND_MAS_MAX_HI_CALCAR_L_12M  MAX_MS_CL_BRG_R_CL_ACC  \\\n",
       "165                        -0.874797                    20.0   \n",
       "184                         1.901492                   -13.0   \n",
       "191                         2.934360                    -1.0   \n",
       "192                         2.934360                    -1.0   \n",
       "231                         2.545581                   -24.0   \n",
       "\n",
       "     AVG_PND_MAS_MAX_HI_CALCAR_CEIL_12M  SUM_PAGOREALIZADO_PERIODO  \\\n",
       "165                           -0.601990                  -0.255973   \n",
       "184                            4.459378                  -0.255973   \n",
       "191                           18.716509                  -0.255973   \n",
       "192                           18.716509                   0.000000   \n",
       "231                           11.936559                  -0.255973   \n",
       "\n",
       "     DIAS_ATRASO  DPCV_CAP  DPCV_INT  DPCV_MIN  \n",
       "165           23        38        38        38  \n",
       "184           20        41        41        41  \n",
       "191           21        40        40        40  \n",
       "192           53         8         8         8  \n",
       "231           22        39        39        39  \n",
       "\n",
       "[5 rows x 404 columns]"
      ]
     },
     "metadata": {},
     "output_type": "display_data"
    },
    {
     "data": {
      "text/html": [
       "<div>\n",
       "<style scoped>\n",
       "    .dataframe tbody tr th:only-of-type {\n",
       "        vertical-align: middle;\n",
       "    }\n",
       "\n",
       "    .dataframe tbody tr th {\n",
       "        vertical-align: top;\n",
       "    }\n",
       "\n",
       "    .dataframe thead th {\n",
       "        text-align: right;\n",
       "    }\n",
       "</style>\n",
       "<table border=\"1\" class=\"dataframe\">\n",
       "  <thead>\n",
       "    <tr style=\"text-align: right;\">\n",
       "      <th></th>\n",
       "      <th>BMI</th>\n",
       "    </tr>\n",
       "  </thead>\n",
       "  <tbody>\n",
       "    <tr>\n",
       "      <th>165</th>\n",
       "      <td>0</td>\n",
       "    </tr>\n",
       "    <tr>\n",
       "      <th>184</th>\n",
       "      <td>0</td>\n",
       "    </tr>\n",
       "    <tr>\n",
       "      <th>191</th>\n",
       "      <td>0</td>\n",
       "    </tr>\n",
       "    <tr>\n",
       "      <th>192</th>\n",
       "      <td>0</td>\n",
       "    </tr>\n",
       "    <tr>\n",
       "      <th>231</th>\n",
       "      <td>0</td>\n",
       "    </tr>\n",
       "  </tbody>\n",
       "</table>\n",
       "</div>"
      ],
      "text/plain": [
       "     BMI\n",
       "165    0\n",
       "184    0\n",
       "191    0\n",
       "192    0\n",
       "231    0"
      ]
     },
     "metadata": {},
     "output_type": "display_data"
    }
   ],
   "source": [
    "INDETERMINADOS1 = DATRASO & BUENO\n",
    "display(INDETERMINADOS1.sum())\n",
    "display(model_features_data[INDETERMINADOS1].head())\n",
    "display(target_data[INDETERMINADOS1].head())"
   ]
  },
  {
   "cell_type": "code",
   "execution_count": 14,
   "metadata": {
    "scrolled": true
   },
   "outputs": [
    {
     "data": {
      "text/plain": [
       "8139"
      ]
     },
     "metadata": {},
     "output_type": "display_data"
    },
    {
     "data": {
      "text/html": [
       "<div>\n",
       "<style scoped>\n",
       "    .dataframe tbody tr th:only-of-type {\n",
       "        vertical-align: middle;\n",
       "    }\n",
       "\n",
       "    .dataframe tbody tr th {\n",
       "        vertical-align: top;\n",
       "    }\n",
       "\n",
       "    .dataframe thead th {\n",
       "        text-align: right;\n",
       "    }\n",
       "</style>\n",
       "<table border=\"1\" class=\"dataframe\">\n",
       "  <thead>\n",
       "    <tr style=\"text-align: right;\">\n",
       "      <th></th>\n",
       "      <th>AVG_R_BAL_BY_CRED_LIM_12M</th>\n",
       "      <th>DEUDA_TOT</th>\n",
       "      <th>MIN_R_BAL_BY_MAX_BAL_03M</th>\n",
       "      <th>MAX_D_CRED_LIM_TO_BAL_03M</th>\n",
       "      <th>AVG_D_CRED_LIM_TO_BAL_06M</th>\n",
       "      <th>AVG_PND_MENOS_R_BAL_BY_MAX_BAL_06M</th>\n",
       "      <th>AVG_R_BAL_BY_MAX_BAL_12M</th>\n",
       "      <th>AVG_PND_MENOS_BAL_12M</th>\n",
       "      <th>BK12_MAX_CREDIT_AMT</th>\n",
       "      <th>AVG_PND_MAS_BAL_12M</th>\n",
       "      <th>...</th>\n",
       "      <th>MAX_AVG2_VP_MES_U06M_2</th>\n",
       "      <th>MIN_AVG_HI_CALCAR_CEIL_12M</th>\n",
       "      <th>AVG_PND_MAS_MAX_HI_CALCAR_L_12M</th>\n",
       "      <th>MAX_MS_CL_BRG_R_CL_ACC</th>\n",
       "      <th>AVG_PND_MAS_MAX_HI_CALCAR_CEIL_12M</th>\n",
       "      <th>SUM_PAGOREALIZADO_PERIODO</th>\n",
       "      <th>DIAS_ATRASO</th>\n",
       "      <th>DPCV_CAP</th>\n",
       "      <th>DPCV_INT</th>\n",
       "      <th>DPCV_MIN</th>\n",
       "    </tr>\n",
       "  </thead>\n",
       "  <tbody>\n",
       "    <tr>\n",
       "      <th>17</th>\n",
       "      <td>0.381797</td>\n",
       "      <td>0.025210</td>\n",
       "      <td>-0.187112</td>\n",
       "      <td>0.198939</td>\n",
       "      <td>0.175669</td>\n",
       "      <td>-0.163765</td>\n",
       "      <td>0.100633</td>\n",
       "      <td>0.941063</td>\n",
       "      <td>1.838710</td>\n",
       "      <td>0.909134</td>\n",
       "      <td>...</td>\n",
       "      <td>8.612719</td>\n",
       "      <td>0.027778</td>\n",
       "      <td>1.150324</td>\n",
       "      <td>35.0</td>\n",
       "      <td>1.439060</td>\n",
       "      <td>-0.255973</td>\n",
       "      <td>0</td>\n",
       "      <td>61</td>\n",
       "      <td>61</td>\n",
       "      <td>61</td>\n",
       "    </tr>\n",
       "    <tr>\n",
       "      <th>18</th>\n",
       "      <td>0.419356</td>\n",
       "      <td>0.050420</td>\n",
       "      <td>-0.144246</td>\n",
       "      <td>0.198851</td>\n",
       "      <td>0.083267</td>\n",
       "      <td>-0.117075</td>\n",
       "      <td>0.142812</td>\n",
       "      <td>0.956309</td>\n",
       "      <td>1.483871</td>\n",
       "      <td>0.938580</td>\n",
       "      <td>...</td>\n",
       "      <td>8.612719</td>\n",
       "      <td>0.031746</td>\n",
       "      <td>1.659959</td>\n",
       "      <td>38.0</td>\n",
       "      <td>3.377949</td>\n",
       "      <td>22.373370</td>\n",
       "      <td>0</td>\n",
       "      <td>61</td>\n",
       "      <td>61</td>\n",
       "      <td>61</td>\n",
       "    </tr>\n",
       "    <tr>\n",
       "      <th>19</th>\n",
       "      <td>0.421595</td>\n",
       "      <td>0.050420</td>\n",
       "      <td>-0.144246</td>\n",
       "      <td>0.172649</td>\n",
       "      <td>-0.006546</td>\n",
       "      <td>0.066218</td>\n",
       "      <td>0.150384</td>\n",
       "      <td>0.932683</td>\n",
       "      <td>1.483871</td>\n",
       "      <td>0.964386</td>\n",
       "      <td>...</td>\n",
       "      <td>8.612719</td>\n",
       "      <td>0.031746</td>\n",
       "      <td>1.659959</td>\n",
       "      <td>38.0</td>\n",
       "      <td>3.377949</td>\n",
       "      <td>-0.255973</td>\n",
       "      <td>0</td>\n",
       "      <td>61</td>\n",
       "      <td>61</td>\n",
       "      <td>61</td>\n",
       "    </tr>\n",
       "    <tr>\n",
       "      <th>20</th>\n",
       "      <td>0.425842</td>\n",
       "      <td>0.050420</td>\n",
       "      <td>0.343823</td>\n",
       "      <td>-0.295746</td>\n",
       "      <td>-0.046834</td>\n",
       "      <td>0.085795</td>\n",
       "      <td>0.154574</td>\n",
       "      <td>0.906707</td>\n",
       "      <td>1.483871</td>\n",
       "      <td>0.994868</td>\n",
       "      <td>...</td>\n",
       "      <td>6.008875</td>\n",
       "      <td>0.031746</td>\n",
       "      <td>1.659959</td>\n",
       "      <td>38.0</td>\n",
       "      <td>3.377949</td>\n",
       "      <td>-0.255973</td>\n",
       "      <td>0</td>\n",
       "      <td>61</td>\n",
       "      <td>61</td>\n",
       "      <td>61</td>\n",
       "    </tr>\n",
       "    <tr>\n",
       "      <th>185</th>\n",
       "      <td>0.353418</td>\n",
       "      <td>0.352941</td>\n",
       "      <td>0.213416</td>\n",
       "      <td>-0.277413</td>\n",
       "      <td>-0.283433</td>\n",
       "      <td>0.310314</td>\n",
       "      <td>-0.399825</td>\n",
       "      <td>-0.319681</td>\n",
       "      <td>-0.193548</td>\n",
       "      <td>-0.320201</td>\n",
       "      <td>...</td>\n",
       "      <td>-0.055167</td>\n",
       "      <td>-0.236111</td>\n",
       "      <td>2.481172</td>\n",
       "      <td>-10.0</td>\n",
       "      <td>7.174556</td>\n",
       "      <td>-0.255973</td>\n",
       "      <td>0</td>\n",
       "      <td>61</td>\n",
       "      <td>61</td>\n",
       "      <td>61</td>\n",
       "    </tr>\n",
       "  </tbody>\n",
       "</table>\n",
       "<p>5 rows × 404 columns</p>\n",
       "</div>"
      ],
      "text/plain": [
       "     AVG_R_BAL_BY_CRED_LIM_12M  DEUDA_TOT  MIN_R_BAL_BY_MAX_BAL_03M  \\\n",
       "17                    0.381797   0.025210                 -0.187112   \n",
       "18                    0.419356   0.050420                 -0.144246   \n",
       "19                    0.421595   0.050420                 -0.144246   \n",
       "20                    0.425842   0.050420                  0.343823   \n",
       "185                   0.353418   0.352941                  0.213416   \n",
       "\n",
       "     MAX_D_CRED_LIM_TO_BAL_03M  AVG_D_CRED_LIM_TO_BAL_06M  \\\n",
       "17                    0.198939                   0.175669   \n",
       "18                    0.198851                   0.083267   \n",
       "19                    0.172649                  -0.006546   \n",
       "20                   -0.295746                  -0.046834   \n",
       "185                  -0.277413                  -0.283433   \n",
       "\n",
       "     AVG_PND_MENOS_R_BAL_BY_MAX_BAL_06M  AVG_R_BAL_BY_MAX_BAL_12M  \\\n",
       "17                            -0.163765                  0.100633   \n",
       "18                            -0.117075                  0.142812   \n",
       "19                             0.066218                  0.150384   \n",
       "20                             0.085795                  0.154574   \n",
       "185                            0.310314                 -0.399825   \n",
       "\n",
       "     AVG_PND_MENOS_BAL_12M  BK12_MAX_CREDIT_AMT  AVG_PND_MAS_BAL_12M  \\\n",
       "17                0.941063             1.838710             0.909134   \n",
       "18                0.956309             1.483871             0.938580   \n",
       "19                0.932683             1.483871             0.964386   \n",
       "20                0.906707             1.483871             0.994868   \n",
       "185              -0.319681            -0.193548            -0.320201   \n",
       "\n",
       "       ...     MAX_AVG2_VP_MES_U06M_2  MIN_AVG_HI_CALCAR_CEIL_12M  \\\n",
       "17     ...                   8.612719                    0.027778   \n",
       "18     ...                   8.612719                    0.031746   \n",
       "19     ...                   8.612719                    0.031746   \n",
       "20     ...                   6.008875                    0.031746   \n",
       "185    ...                  -0.055167                   -0.236111   \n",
       "\n",
       "     AVG_PND_MAS_MAX_HI_CALCAR_L_12M  MAX_MS_CL_BRG_R_CL_ACC  \\\n",
       "17                          1.150324                    35.0   \n",
       "18                          1.659959                    38.0   \n",
       "19                          1.659959                    38.0   \n",
       "20                          1.659959                    38.0   \n",
       "185                         2.481172                   -10.0   \n",
       "\n",
       "     AVG_PND_MAS_MAX_HI_CALCAR_CEIL_12M  SUM_PAGOREALIZADO_PERIODO  \\\n",
       "17                             1.439060                  -0.255973   \n",
       "18                             3.377949                  22.373370   \n",
       "19                             3.377949                  -0.255973   \n",
       "20                             3.377949                  -0.255973   \n",
       "185                            7.174556                  -0.255973   \n",
       "\n",
       "     DIAS_ATRASO  DPCV_CAP  DPCV_INT  DPCV_MIN  \n",
       "17             0        61        61        61  \n",
       "18             0        61        61        61  \n",
       "19             0        61        61        61  \n",
       "20             0        61        61        61  \n",
       "185            0        61        61        61  \n",
       "\n",
       "[5 rows x 404 columns]"
      ]
     },
     "metadata": {},
     "output_type": "display_data"
    },
    {
     "data": {
      "text/html": [
       "<div>\n",
       "<style scoped>\n",
       "    .dataframe tbody tr th:only-of-type {\n",
       "        vertical-align: middle;\n",
       "    }\n",
       "\n",
       "    .dataframe tbody tr th {\n",
       "        vertical-align: top;\n",
       "    }\n",
       "\n",
       "    .dataframe thead th {\n",
       "        text-align: right;\n",
       "    }\n",
       "</style>\n",
       "<table border=\"1\" class=\"dataframe\">\n",
       "  <thead>\n",
       "    <tr style=\"text-align: right;\">\n",
       "      <th></th>\n",
       "      <th>BMI</th>\n",
       "    </tr>\n",
       "  </thead>\n",
       "  <tbody>\n",
       "    <tr>\n",
       "      <th>17</th>\n",
       "      <td>1</td>\n",
       "    </tr>\n",
       "    <tr>\n",
       "      <th>18</th>\n",
       "      <td>1</td>\n",
       "    </tr>\n",
       "    <tr>\n",
       "      <th>19</th>\n",
       "      <td>1</td>\n",
       "    </tr>\n",
       "    <tr>\n",
       "      <th>20</th>\n",
       "      <td>1</td>\n",
       "    </tr>\n",
       "    <tr>\n",
       "      <th>185</th>\n",
       "      <td>1</td>\n",
       "    </tr>\n",
       "  </tbody>\n",
       "</table>\n",
       "</div>"
      ],
      "text/plain": [
       "     BMI\n",
       "17     1\n",
       "18     1\n",
       "19     1\n",
       "20     1\n",
       "185    1"
      ]
     },
     "metadata": {},
     "output_type": "display_data"
    }
   ],
   "source": [
    "INDETERMINADOS2 = ~DATRASO & ~BUENO\n",
    "display(INDETERMINADOS2.sum())\n",
    "display(model_features_data[INDETERMINADOS2].head())\n",
    "display(target_data[INDETERMINADOS2].head())"
   ]
  },
  {
   "cell_type": "markdown",
   "metadata": {},
   "source": [
    "### **Variable \"REVOLVENTE\"**"
   ]
  },
  {
   "cell_type": "code",
   "execution_count": 11,
   "metadata": {},
   "outputs": [],
   "source": [
    "data_revol_file_name = \"DATA_PART{}.csv\".format(5)\n",
    "data_revol_file_key = \"{}/{}\".format(prefix, data_revol_file_name)\n",
    "data_revol_obj = s3_bucket_resource.Object(data_revol_file_key).get()\n",
    "data_revol = pd.read_csv(io.BytesIO(data_revol_obj['Body'].read()))\n",
    "REVOLVENTE = data_revol['REVOLVENTE'] == 1\n",
    "del data_revol\n",
    "display((REVOLVENTE).sum())"
   ]
  },
  {
   "cell_type": "markdown",
   "metadata": {},
   "source": [
    "### Modelo completo"
   ]
  },
  {
   "cell_type": "code",
   "execution_count": 113,
   "metadata": {},
   "outputs": [],
   "source": [
    "# elegimos el modelo completo\n",
    "np.random.seed(0)\n",
    "rand_split = np.random.rand(len(model_features_data))\n",
    "train_list = (rand_split < 0.8) & ~(DATRASO & BUENO)\n",
    "test_list = rand_split >= 0.8\n",
    "\n",
    "feature_data_train = model_features_data[train_list].drop('DIAS_ATRASO', axis=1)\n",
    "feature_data_test = model_features_data[test_list].drop('DIAS_ATRASO', axis=1)\n",
    "\n",
    "target_data_train = target_data[train_list]\n",
    "target_data_test = target_data[test_list]"
   ]
  },
  {
   "cell_type": "markdown",
   "metadata": {},
   "source": [
    "### Datos de entrenamiento y prueba por periodos"
   ]
  },
  {
   "cell_type": "code",
   "execution_count": 57,
   "metadata": {},
   "outputs": [],
   "source": [
    "# elegimos el modelo completo\n",
    "# np.random.seed(0)\n",
    "# rand_split = np.random.rand(len(model_features_data))\n",
    "# train_list = (rand_split < 0.8) & \n",
    "# test_list = rand_split >= 0.8\n",
    "\n",
    "feature_data_train = model_features_data[PERIODO_TRAIN]\n",
    "feature_data_test = model_features_data[PERIODO_TEST]\n",
    "\n",
    "target_data_train = target_data[PERIODO_TRAIN]\n",
    "target_data_test = target_data[PERIODO_TEST]"
   ]
  },
  {
   "cell_type": "markdown",
   "metadata": {},
   "source": [
    "### Submodelos"
   ]
  },
  {
   "cell_type": "code",
   "execution_count": 63,
   "metadata": {},
   "outputs": [
    {
     "data": {
      "text/plain": [
       "45357"
      ]
     },
     "execution_count": 63,
     "metadata": {},
     "output_type": "execute_result"
    }
   ],
   "source": [
    "# submodelo\n",
    " \n",
    "# BOOL_INDEX = REVOLVENTE & ~INDETERMINADOS1 & ~INDETERMINADOS2\n",
    "# BOOL_INDEX = REVOLVENTE & (INDETERMINADOS1 | INDETERMINADOS2)\n",
    "# BOOL_INDEX = REVOLVENTE\n",
    "# BOOL_INDEX = TRIMESTRE\n",
    "# BOOL_INDEX = PERIODO2\n",
    "# BOOL_INDEX = -INDETERMINADOS1\n",
    "# BOOL_INDEX = sample | sample2\n",
    "BOOL_INDEX = sample & MONTO_LINEA  # & REDUCCION_BUENO\n",
    "BOOL_INDEX.sum()"
   ]
  },
  {
   "cell_type": "code",
   "execution_count": 65,
   "metadata": {},
   "outputs": [],
   "source": [
    "# elegimos submodelo\n",
    "submodel_features_data = model_features_data[BOOL_INDEX]\n",
    "subtarget_data = target_data[BOOL_INDEX]\n"
   ]
  },
  {
   "cell_type": "code",
   "execution_count": null,
   "metadata": {},
   "outputs": [],
   "source": [
    "SUBDATRASO = submodel_features_data['DIAS_ATRASO'] > 0\n",
    "SUBBUENO = subtarget_data['BMI'] == 0\n",
    "\n",
    "SUBINDETERMINADO1 = SUBDATRASO & SUBBUENO\n",
    "SUBINDETERMINADO2 = ~SUBDATRASO & ~SUBBUENO"
   ]
  },
  {
   "cell_type": "code",
   "execution_count": 66,
   "metadata": {},
   "outputs": [],
   "source": [
    "np.random.seed(9)\n",
    "rand_split = np.random.rand(BOOL_INDEX.sum())\n",
    "train_list = (rand_split > 0.2)  # & ~SUBINDETERMINADOS1\n",
    "test_list = rand_split <= 0.2\n",
    "\n",
    "feature_data_train = submodel_features_data[train_list]\n",
    "feature_data_test = submodel_features_data[test_list]\n",
    "\n",
    "target_data_train = subtarget_data[train_list]\n",
    "target_data_test = subtarget_data[test_list]\n",
    "\n",
    "feature_data_test = submodel_features_data[test_list]\n",
    "target_data_train = subtarget_data[train_list]"
   ]
  },
  {
   "cell_type": "code",
   "execution_count": 44,
   "metadata": {},
   "outputs": [
    {
     "data": {
      "text/plain": [
       "19496"
      ]
     },
     "execution_count": 44,
     "metadata": {},
     "output_type": "execute_result"
    }
   ],
   "source": [
    "train_list.sum()"
   ]
  },
  {
   "cell_type": "markdown",
   "metadata": {},
   "source": [
    "### Definimos Dmatrices del modelos"
   ]
  },
  {
   "cell_type": "code",
   "execution_count": 67,
   "metadata": {},
   "outputs": [],
   "source": [
    "train_y = target_data_train[target].values\n",
    "test_y = target_data_test[target].values\n",
    "\n",
    "train_X = feature_data_train.loc[:,:].values\n",
    "test_X = feature_data_test.loc[:,:].values\n",
    "\n",
    "dtrain = xgb.DMatrix(\n",
    "    train_X, \n",
    "    label=train_y, \n",
    "    feature_names=feature_data_train.columns\n",
    ")\n",
    "dtest = xgb.DMatrix(\n",
    "    test_X, \n",
    "    label=test_y, \n",
    "    feature_names=feature_data_test.columns\n",
    ")\n",
    "\n"
   ]
  },
  {
   "cell_type": "code",
   "execution_count": 95,
   "metadata": {},
   "outputs": [],
   "source": [
    "smote_enn = SMOTEENN(random_state=0)\n",
    "train_y = target_data_train[target].values\n",
    "train_X = feature_data_train.loc[:,:].values\n",
    "\n",
    "X_resampled, y_resampled = smote_enn.fit_sample(train_X, train_y)\n",
    "\n",
    "\n",
    "dtrain = xgb.DMatrix(\n",
    "    X_resampled, \n",
    "    label=y_resampled, \n",
    "    feature_names=feature_data_train.columns\n",
    ")\n",
    "\n",
    "\n",
    "\n",
    "test_y = target_data_test[target].values\n",
    "test_X = feature_data_test.loc[:,:].values\n",
    "dtest = xgb.DMatrix(\n",
    "    test_X, \n",
    "    label=test_y, \n",
    "    feature_names=feature_data_test.columns\n",
    ")\n"
   ]
  },
  {
   "cell_type": "code",
   "execution_count": null,
   "metadata": {},
   "outputs": [],
   "source": []
  },
  {
   "cell_type": "markdown",
   "metadata": {},
   "source": [
    "learning_rate =0.1,\n",
    "n_estimators=200,\n",
    "max_depth=12,\n",
    "min_child_weight=19.50392156038251,\n",
    "gamma= 0.001,\n",
    "subsample=1,  # 0.8\n",
    "colsample_bytree=1,  # 0.4\n",
    "objective= 'binary:logistic',\n",
    "#nthread=4,\n",
    "reg_lambda=10,  # 17\n",
    "max_delta_step= 50,  # 100\n",
    "scale_pos_weight=24,  # 100\n",
    "early_stopping_rounds = 100,\n",
    "stratified = True,\n",
    "seed=1\n",
    "\n",
    "params = {\n",
    "    'objective': 'binary:logistic', \n",
    "    'eta':0.1, \n",
    "    'max_depth': 12, \n",
    "    'eval_metric': 'auc',\n",
    "    'max_delta_step': 10,\n",
    "    'min_child_weight': 19.50392156038251,\n",
    "    'gamma': 0.001,\n",
    "    'subsample': 1,  # 0.8\n",
    "    'colsample_bytree': 1,  # 0.4\n",
    "    # nthread=4,\n",
    "    'reg_lambda': 10,  # 17\n",
    "    'max_delta_step': 50,  # 100\n",
    "    'scale_pos_weight': 24,  # 100\n",
    "    'early_stopping_rounds': 100,\n",
    "    'stratified': True,\n",
    "    'seed': 1\n",
    "}\n",
    "num_round = 100"
   ]
  },
  {
   "cell_type": "code",
   "execution_count": 113,
   "metadata": {
    "scrolled": true
   },
   "outputs": [
    {
     "name": "stdout",
     "output_type": "stream",
     "text": [
      "[20:41:02] /workspace/src/tree/updater_prune.cc:74: tree pruning end, 1 roots, 54 extra nodes, 0 pruned nodes, max_depth=5\n",
      "[0]\teval-auc:0.870189\teval-f1_score_thr0.2:0.075384\teval-f1_score_thr0.3:0.075384\teval-f1_score_thr0.4:0.075384\teval-f1_score_thr0.5:0.318113\teval-f1_score_thr0.6:0\teval-f1_score_thr0.7:0\n"
     ]
    },
    {
     "name": "stderr",
     "output_type": "stream",
     "text": [
      "/home/ec2-user/anaconda3/envs/python3/lib/python3.6/site-packages/sklearn/metrics/classification.py:1137: UndefinedMetricWarning: F-score is ill-defined and being set to 0.0 due to no true samples.\n",
      "  'recall', 'true', average, warn_for)\n",
      "/home/ec2-user/anaconda3/envs/python3/lib/python3.6/site-packages/sklearn/metrics/classification.py:1137: UndefinedMetricWarning: F-score is ill-defined and being set to 0.0 due to no true samples.\n",
      "  'recall', 'true', average, warn_for)\n"
     ]
    },
    {
     "name": "stdout",
     "output_type": "stream",
     "text": [
      "[20:41:02] /workspace/src/tree/updater_prune.cc:74: tree pruning end, 1 roots, 54 extra nodes, 0 pruned nodes, max_depth=5\n",
      "[1]\teval-auc:0.869294\teval-f1_score_thr0.2:0.075384\teval-f1_score_thr0.3:0.075384\teval-f1_score_thr0.4:0.075384\teval-f1_score_thr0.5:0.317871\teval-f1_score_thr0.6:0\teval-f1_score_thr0.7:0\n"
     ]
    },
    {
     "name": "stderr",
     "output_type": "stream",
     "text": [
      "/home/ec2-user/anaconda3/envs/python3/lib/python3.6/site-packages/sklearn/metrics/classification.py:1137: UndefinedMetricWarning: F-score is ill-defined and being set to 0.0 due to no true samples.\n",
      "  'recall', 'true', average, warn_for)\n",
      "/home/ec2-user/anaconda3/envs/python3/lib/python3.6/site-packages/sklearn/metrics/classification.py:1137: UndefinedMetricWarning: F-score is ill-defined and being set to 0.0 due to no true samples.\n",
      "  'recall', 'true', average, warn_for)\n"
     ]
    },
    {
     "name": "stdout",
     "output_type": "stream",
     "text": [
      "[20:41:03] /workspace/src/tree/updater_prune.cc:74: tree pruning end, 1 roots, 52 extra nodes, 0 pruned nodes, max_depth=5\n",
      "[2]\teval-auc:0.869284\teval-f1_score_thr0.2:0.075384\teval-f1_score_thr0.3:0.075384\teval-f1_score_thr0.4:0.075384\teval-f1_score_thr0.5:0.309038\teval-f1_score_thr0.6:0\teval-f1_score_thr0.7:0\n"
     ]
    },
    {
     "name": "stderr",
     "output_type": "stream",
     "text": [
      "/home/ec2-user/anaconda3/envs/python3/lib/python3.6/site-packages/sklearn/metrics/classification.py:1137: UndefinedMetricWarning: F-score is ill-defined and being set to 0.0 due to no true samples.\n",
      "  'recall', 'true', average, warn_for)\n",
      "/home/ec2-user/anaconda3/envs/python3/lib/python3.6/site-packages/sklearn/metrics/classification.py:1137: UndefinedMetricWarning: F-score is ill-defined and being set to 0.0 due to no true samples.\n",
      "  'recall', 'true', average, warn_for)\n"
     ]
    },
    {
     "name": "stdout",
     "output_type": "stream",
     "text": [
      "[20:41:04] /workspace/src/tree/updater_prune.cc:74: tree pruning end, 1 roots, 54 extra nodes, 0 pruned nodes, max_depth=5\n",
      "[3]\teval-auc:0.862365\teval-f1_score_thr0.2:0.075384\teval-f1_score_thr0.3:0.075384\teval-f1_score_thr0.4:0.075384\teval-f1_score_thr0.5:0.307692\teval-f1_score_thr0.6:0\teval-f1_score_thr0.7:0\n"
     ]
    },
    {
     "name": "stderr",
     "output_type": "stream",
     "text": [
      "/home/ec2-user/anaconda3/envs/python3/lib/python3.6/site-packages/sklearn/metrics/classification.py:1137: UndefinedMetricWarning: F-score is ill-defined and being set to 0.0 due to no true samples.\n",
      "  'recall', 'true', average, warn_for)\n",
      "/home/ec2-user/anaconda3/envs/python3/lib/python3.6/site-packages/sklearn/metrics/classification.py:1137: UndefinedMetricWarning: F-score is ill-defined and being set to 0.0 due to no true samples.\n",
      "  'recall', 'true', average, warn_for)\n"
     ]
    },
    {
     "name": "stdout",
     "output_type": "stream",
     "text": [
      "[20:41:04] /workspace/src/tree/updater_prune.cc:74: tree pruning end, 1 roots, 54 extra nodes, 0 pruned nodes, max_depth=5\n",
      "[4]\teval-auc:0.876863\teval-f1_score_thr0.2:0.075384\teval-f1_score_thr0.3:0.075384\teval-f1_score_thr0.4:0.075384\teval-f1_score_thr0.5:0.30791\teval-f1_score_thr0.6:0\teval-f1_score_thr0.7:0\n"
     ]
    },
    {
     "name": "stderr",
     "output_type": "stream",
     "text": [
      "/home/ec2-user/anaconda3/envs/python3/lib/python3.6/site-packages/sklearn/metrics/classification.py:1137: UndefinedMetricWarning: F-score is ill-defined and being set to 0.0 due to no true samples.\n",
      "  'recall', 'true', average, warn_for)\n",
      "/home/ec2-user/anaconda3/envs/python3/lib/python3.6/site-packages/sklearn/metrics/classification.py:1137: UndefinedMetricWarning: F-score is ill-defined and being set to 0.0 due to no true samples.\n",
      "  'recall', 'true', average, warn_for)\n"
     ]
    },
    {
     "name": "stdout",
     "output_type": "stream",
     "text": [
      "[20:41:05] /workspace/src/tree/updater_prune.cc:74: tree pruning end, 1 roots, 60 extra nodes, 0 pruned nodes, max_depth=5\n",
      "[5]\teval-auc:0.878276\teval-f1_score_thr0.2:0.075384\teval-f1_score_thr0.3:0.075384\teval-f1_score_thr0.4:0.075384\teval-f1_score_thr0.5:0.310694\teval-f1_score_thr0.6:0\teval-f1_score_thr0.7:0\n"
     ]
    },
    {
     "name": "stderr",
     "output_type": "stream",
     "text": [
      "/home/ec2-user/anaconda3/envs/python3/lib/python3.6/site-packages/sklearn/metrics/classification.py:1137: UndefinedMetricWarning: F-score is ill-defined and being set to 0.0 due to no true samples.\n",
      "  'recall', 'true', average, warn_for)\n",
      "/home/ec2-user/anaconda3/envs/python3/lib/python3.6/site-packages/sklearn/metrics/classification.py:1137: UndefinedMetricWarning: F-score is ill-defined and being set to 0.0 due to no true samples.\n",
      "  'recall', 'true', average, warn_for)\n"
     ]
    },
    {
     "name": "stdout",
     "output_type": "stream",
     "text": [
      "[20:41:05] /workspace/src/tree/updater_prune.cc:74: tree pruning end, 1 roots, 56 extra nodes, 0 pruned nodes, max_depth=5\n",
      "[6]\teval-auc:0.879584\teval-f1_score_thr0.2:0.075384\teval-f1_score_thr0.3:0.075384\teval-f1_score_thr0.4:0.075384\teval-f1_score_thr0.5:0.317073\teval-f1_score_thr0.6:0\teval-f1_score_thr0.7:0\n"
     ]
    },
    {
     "name": "stderr",
     "output_type": "stream",
     "text": [
      "/home/ec2-user/anaconda3/envs/python3/lib/python3.6/site-packages/sklearn/metrics/classification.py:1137: UndefinedMetricWarning: F-score is ill-defined and being set to 0.0 due to no true samples.\n",
      "  'recall', 'true', average, warn_for)\n",
      "/home/ec2-user/anaconda3/envs/python3/lib/python3.6/site-packages/sklearn/metrics/classification.py:1137: UndefinedMetricWarning: F-score is ill-defined and being set to 0.0 due to no true samples.\n",
      "  'recall', 'true', average, warn_for)\n"
     ]
    },
    {
     "name": "stdout",
     "output_type": "stream",
     "text": [
      "[20:41:06] /workspace/src/tree/updater_prune.cc:74: tree pruning end, 1 roots, 52 extra nodes, 0 pruned nodes, max_depth=5\n",
      "[7]\teval-auc:0.878892\teval-f1_score_thr0.2:0.075384\teval-f1_score_thr0.3:0.075384\teval-f1_score_thr0.4:0.127148\teval-f1_score_thr0.5:0.320578\teval-f1_score_thr0.6:0.375648\teval-f1_score_thr0.7:0\n"
     ]
    },
    {
     "name": "stderr",
     "output_type": "stream",
     "text": [
      "/home/ec2-user/anaconda3/envs/python3/lib/python3.6/site-packages/sklearn/metrics/classification.py:1137: UndefinedMetricWarning: F-score is ill-defined and being set to 0.0 due to no true samples.\n",
      "  'recall', 'true', average, warn_for)\n"
     ]
    },
    {
     "name": "stdout",
     "output_type": "stream",
     "text": [
      "[20:41:07] /workspace/src/tree/updater_prune.cc:74: tree pruning end, 1 roots, 58 extra nodes, 0 pruned nodes, max_depth=5\n",
      "[8]\teval-auc:0.880154\teval-f1_score_thr0.2:0.075384\teval-f1_score_thr0.3:0.075384\teval-f1_score_thr0.4:0.134996\teval-f1_score_thr0.5:0.323362\teval-f1_score_thr0.6:0.381579\teval-f1_score_thr0.7:0\n"
     ]
    },
    {
     "name": "stderr",
     "output_type": "stream",
     "text": [
      "/home/ec2-user/anaconda3/envs/python3/lib/python3.6/site-packages/sklearn/metrics/classification.py:1137: UndefinedMetricWarning: F-score is ill-defined and being set to 0.0 due to no true samples.\n",
      "  'recall', 'true', average, warn_for)\n"
     ]
    },
    {
     "name": "stdout",
     "output_type": "stream",
     "text": [
      "[20:41:07] /workspace/src/tree/updater_prune.cc:74: tree pruning end, 1 roots, 58 extra nodes, 0 pruned nodes, max_depth=5\n",
      "[9]\teval-auc:0.880603\teval-f1_score_thr0.2:0.075384\teval-f1_score_thr0.3:0.075384\teval-f1_score_thr0.4:0.198081\teval-f1_score_thr0.5:0.323592\teval-f1_score_thr0.6:0.375648\teval-f1_score_thr0.7:0\n"
     ]
    },
    {
     "name": "stderr",
     "output_type": "stream",
     "text": [
      "/home/ec2-user/anaconda3/envs/python3/lib/python3.6/site-packages/sklearn/metrics/classification.py:1137: UndefinedMetricWarning: F-score is ill-defined and being set to 0.0 due to no true samples.\n",
      "  'recall', 'true', average, warn_for)\n"
     ]
    },
    {
     "name": "stdout",
     "output_type": "stream",
     "text": [
      "[20:41:08] /workspace/src/tree/updater_prune.cc:74: tree pruning end, 1 roots, 56 extra nodes, 0 pruned nodes, max_depth=5\n",
      "[10]\teval-auc:0.882326\teval-f1_score_thr0.2:0.075384\teval-f1_score_thr0.3:0.075384\teval-f1_score_thr0.4:0.219694\teval-f1_score_thr0.5:0.325414\teval-f1_score_thr0.6:0.378866\teval-f1_score_thr0.7:0\n"
     ]
    },
    {
     "name": "stderr",
     "output_type": "stream",
     "text": [
      "/home/ec2-user/anaconda3/envs/python3/lib/python3.6/site-packages/sklearn/metrics/classification.py:1137: UndefinedMetricWarning: F-score is ill-defined and being set to 0.0 due to no true samples.\n",
      "  'recall', 'true', average, warn_for)\n"
     ]
    },
    {
     "name": "stdout",
     "output_type": "stream",
     "text": [
      "[20:41:09] /workspace/src/tree/updater_prune.cc:74: tree pruning end, 1 roots, 52 extra nodes, 0 pruned nodes, max_depth=5\n",
      "[11]\teval-auc:0.883226\teval-f1_score_thr0.2:0.075384\teval-f1_score_thr0.3:0.075384\teval-f1_score_thr0.4:0.227531\teval-f1_score_thr0.5:0.327062\teval-f1_score_thr0.6:0.378866\teval-f1_score_thr0.7:0\n"
     ]
    },
    {
     "name": "stderr",
     "output_type": "stream",
     "text": [
      "/home/ec2-user/anaconda3/envs/python3/lib/python3.6/site-packages/sklearn/metrics/classification.py:1137: UndefinedMetricWarning: F-score is ill-defined and being set to 0.0 due to no true samples.\n",
      "  'recall', 'true', average, warn_for)\n"
     ]
    },
    {
     "name": "stdout",
     "output_type": "stream",
     "text": [
      "[20:41:09] /workspace/src/tree/updater_prune.cc:74: tree pruning end, 1 roots, 56 extra nodes, 0 pruned nodes, max_depth=5\n",
      "[12]\teval-auc:0.88355\teval-f1_score_thr0.2:0.075384\teval-f1_score_thr0.3:0.075384\teval-f1_score_thr0.4:0.230559\teval-f1_score_thr0.5:0.327536\teval-f1_score_thr0.6:0.378866\teval-f1_score_thr0.7:0\n"
     ]
    },
    {
     "name": "stderr",
     "output_type": "stream",
     "text": [
      "/home/ec2-user/anaconda3/envs/python3/lib/python3.6/site-packages/sklearn/metrics/classification.py:1137: UndefinedMetricWarning: F-score is ill-defined and being set to 0.0 due to no true samples.\n",
      "  'recall', 'true', average, warn_for)\n"
     ]
    },
    {
     "name": "stdout",
     "output_type": "stream",
     "text": [
      "[20:41:10] /workspace/src/tree/updater_prune.cc:74: tree pruning end, 1 roots, 54 extra nodes, 2 pruned nodes, max_depth=5\n",
      "[13]\teval-auc:0.883921\teval-f1_score_thr0.2:0.075384\teval-f1_score_thr0.3:0.075384\teval-f1_score_thr0.4:0.239669\teval-f1_score_thr0.5:0.331145\teval-f1_score_thr0.6:0.378378\teval-f1_score_thr0.7:0\n"
     ]
    },
    {
     "name": "stderr",
     "output_type": "stream",
     "text": [
      "/home/ec2-user/anaconda3/envs/python3/lib/python3.6/site-packages/sklearn/metrics/classification.py:1137: UndefinedMetricWarning: F-score is ill-defined and being set to 0.0 due to no true samples.\n",
      "  'recall', 'true', average, warn_for)\n"
     ]
    },
    {
     "name": "stdout",
     "output_type": "stream",
     "text": [
      "[20:41:10] /workspace/src/tree/updater_prune.cc:74: tree pruning end, 1 roots, 50 extra nodes, 0 pruned nodes, max_depth=5\n",
      "[14]\teval-auc:0.883644\teval-f1_score_thr0.2:0.075384\teval-f1_score_thr0.3:0.075384\teval-f1_score_thr0.4:0.242526\teval-f1_score_thr0.5:0.332353\teval-f1_score_thr0.6:0.377407\teval-f1_score_thr0.7:0\n"
     ]
    },
    {
     "name": "stderr",
     "output_type": "stream",
     "text": [
      "/home/ec2-user/anaconda3/envs/python3/lib/python3.6/site-packages/sklearn/metrics/classification.py:1137: UndefinedMetricWarning: F-score is ill-defined and being set to 0.0 due to no true samples.\n",
      "  'recall', 'true', average, warn_for)\n"
     ]
    },
    {
     "name": "stdout",
     "output_type": "stream",
     "text": [
      "[20:41:11] /workspace/src/tree/updater_prune.cc:74: tree pruning end, 1 roots, 56 extra nodes, 0 pruned nodes, max_depth=5\n",
      "[15]\teval-auc:0.883944\teval-f1_score_thr0.2:0.075384\teval-f1_score_thr0.3:0.075384\teval-f1_score_thr0.4:0.245524\teval-f1_score_thr0.5:0.335777\teval-f1_score_thr0.6:0.37659\teval-f1_score_thr0.7:0\n"
     ]
    },
    {
     "name": "stderr",
     "output_type": "stream",
     "text": [
      "/home/ec2-user/anaconda3/envs/python3/lib/python3.6/site-packages/sklearn/metrics/classification.py:1137: UndefinedMetricWarning: F-score is ill-defined and being set to 0.0 due to no true samples.\n",
      "  'recall', 'true', average, warn_for)\n"
     ]
    },
    {
     "name": "stdout",
     "output_type": "stream",
     "text": [
      "[20:41:12] /workspace/src/tree/updater_prune.cc:74: tree pruning end, 1 roots, 52 extra nodes, 0 pruned nodes, max_depth=5\n",
      "[16]\teval-auc:0.883788\teval-f1_score_thr0.2:0.075384\teval-f1_score_thr0.3:0.075384\teval-f1_score_thr0.4:0.246552\teval-f1_score_thr0.5:0.332594\teval-f1_score_thr0.6:0.378788\teval-f1_score_thr0.7:0\n"
     ]
    },
    {
     "name": "stderr",
     "output_type": "stream",
     "text": [
      "/home/ec2-user/anaconda3/envs/python3/lib/python3.6/site-packages/sklearn/metrics/classification.py:1137: UndefinedMetricWarning: F-score is ill-defined and being set to 0.0 due to no true samples.\n",
      "  'recall', 'true', average, warn_for)\n"
     ]
    },
    {
     "name": "stdout",
     "output_type": "stream",
     "text": [
      "[20:41:12] /workspace/src/tree/updater_prune.cc:74: tree pruning end, 1 roots, 56 extra nodes, 0 pruned nodes, max_depth=5\n",
      "[17]\teval-auc:0.883731\teval-f1_score_thr0.2:0.075384\teval-f1_score_thr0.3:0.075384\teval-f1_score_thr0.4:0.246314\teval-f1_score_thr0.5:0.334315\teval-f1_score_thr0.6:0.379267\teval-f1_score_thr0.7:0.405172\n",
      "[20:41:13] /workspace/src/tree/updater_prune.cc:74: tree pruning end, 1 roots, 52 extra nodes, 0 pruned nodes, max_depth=5\n",
      "[18]\teval-auc:0.885444\teval-f1_score_thr0.2:0.075384\teval-f1_score_thr0.3:0.118971\teval-f1_score_thr0.4:0.248355\teval-f1_score_thr0.5:0.33631\teval-f1_score_thr0.6:0.376884\teval-f1_score_thr0.7:0.387978\n",
      "[20:41:13] /workspace/src/tree/updater_prune.cc:74: tree pruning end, 1 roots, 50 extra nodes, 0 pruned nodes, max_depth=5\n",
      "[19]\teval-auc:0.885502\teval-f1_score_thr0.2:0.075384\teval-f1_score_thr0.3:0.1255\teval-f1_score_thr0.4:0.249447\teval-f1_score_thr0.5:0.334835\teval-f1_score_thr0.6:0.376884\teval-f1_score_thr0.7:0.387978\n",
      "[20:41:14] /workspace/src/tree/updater_prune.cc:74: tree pruning end, 1 roots, 50 extra nodes, 0 pruned nodes, max_depth=5\n",
      "[20]\teval-auc:0.885463\teval-f1_score_thr0.2:0.075384\teval-f1_score_thr0.3:0.157058\teval-f1_score_thr0.4:0.249553\teval-f1_score_thr0.5:0.334842\teval-f1_score_thr0.6:0.378788\teval-f1_score_thr0.7:0.387978\n",
      "[20:41:15] /workspace/src/tree/updater_prune.cc:74: tree pruning end, 1 roots, 46 extra nodes, 0 pruned nodes, max_depth=5\n",
      "[21]\teval-auc:0.885246\teval-f1_score_thr0.2:0.075384\teval-f1_score_thr0.3:0.179245\teval-f1_score_thr0.4:0.250112\teval-f1_score_thr0.5:0.336109\teval-f1_score_thr0.6:0.375\teval-f1_score_thr0.7:0.383091\n",
      "[20:41:15] /workspace/src/tree/updater_prune.cc:74: tree pruning end, 1 roots, 44 extra nodes, 0 pruned nodes, max_depth=5\n",
      "[22]\teval-auc:0.88638\teval-f1_score_thr0.2:0.075384\teval-f1_score_thr0.3:0.187664\teval-f1_score_thr0.4:0.263208\teval-f1_score_thr0.5:0.336874\teval-f1_score_thr0.6:0.379182\teval-f1_score_thr0.7:0.381579\n",
      "[20:41:16] /workspace/src/tree/updater_prune.cc:74: tree pruning end, 1 roots, 44 extra nodes, 0 pruned nodes, max_depth=5\n",
      "[23]\teval-auc:0.888226\teval-f1_score_thr0.2:0.075384\teval-f1_score_thr0.3:0.193646\teval-f1_score_thr0.4:0.267504\teval-f1_score_thr0.5:0.341203\teval-f1_score_thr0.6:0.377312\teval-f1_score_thr0.7:0.381579\n",
      "[20:41:16] /workspace/src/tree/updater_prune.cc:74: tree pruning end, 1 roots, 40 extra nodes, 0 pruned nodes, max_depth=5\n",
      "[24]\teval-auc:0.887858\teval-f1_score_thr0.2:0.075384\teval-f1_score_thr0.3:0.200639\teval-f1_score_thr0.4:0.272997\teval-f1_score_thr0.5:0.342466\teval-f1_score_thr0.6:0.376384\teval-f1_score_thr0.7:0.381579\n",
      "[20:41:17] /workspace/src/tree/updater_prune.cc:74: tree pruning end, 1 roots, 48 extra nodes, 2 pruned nodes, max_depth=5\n",
      "[25]\teval-auc:0.887456\teval-f1_score_thr0.2:0.075384\teval-f1_score_thr0.3:0.203502\teval-f1_score_thr0.4:0.272324\teval-f1_score_thr0.5:0.346955\teval-f1_score_thr0.6:0.380024\teval-f1_score_thr0.7:0.381579\n",
      "[20:41:18] /workspace/src/tree/updater_prune.cc:74: tree pruning end, 1 roots, 44 extra nodes, 0 pruned nodes, max_depth=5\n",
      "[26]\teval-auc:0.888691\teval-f1_score_thr0.2:0.075384\teval-f1_score_thr0.3:0.207951\teval-f1_score_thr0.4:0.278403\teval-f1_score_thr0.5:0.344881\teval-f1_score_thr0.6:0.376528\teval-f1_score_thr0.7:0.379581\n",
      "[20:41:18] /workspace/src/tree/updater_prune.cc:74: tree pruning end, 1 roots, 44 extra nodes, 0 pruned nodes, max_depth=5\n",
      "[27]\teval-auc:0.888327\teval-f1_score_thr0.2:0.075384\teval-f1_score_thr0.3:0.210708\teval-f1_score_thr0.4:0.27919\teval-f1_score_thr0.5:0.346273\teval-f1_score_thr0.6:0.379686\teval-f1_score_thr0.7:0.379581\n",
      "[20:41:19] /workspace/src/tree/updater_prune.cc:74: tree pruning end, 1 roots, 52 extra nodes, 0 pruned nodes, max_depth=5\n",
      "[28]\teval-auc:0.888889\teval-f1_score_thr0.2:0.075384\teval-f1_score_thr0.3:0.212646\teval-f1_score_thr0.4:0.281234\teval-f1_score_thr0.5:0.346064\teval-f1_score_thr0.6:0.380606\teval-f1_score_thr0.7:0.379581\n",
      "[20:41:20] /workspace/src/tree/updater_prune.cc:74: tree pruning end, 1 roots, 42 extra nodes, 0 pruned nodes, max_depth=5\n",
      "[29]\teval-auc:0.889451\teval-f1_score_thr0.2:0.075384\teval-f1_score_thr0.3:0.214286\teval-f1_score_thr0.4:0.285866\teval-f1_score_thr0.5:0.347826\teval-f1_score_thr0.6:0.382671\teval-f1_score_thr0.7:0.379581\n",
      "[20:41:20] /workspace/src/tree/updater_prune.cc:74: tree pruning end, 1 roots, 46 extra nodes, 0 pruned nodes, max_depth=5\n",
      "[30]\teval-auc:0.889348\teval-f1_score_thr0.2:0.075384\teval-f1_score_thr0.3:0.217311\teval-f1_score_thr0.4:0.284652\teval-f1_score_thr0.5:0.347146\teval-f1_score_thr0.6:0.381753\teval-f1_score_thr0.7:0.379581\n",
      "[20:41:21] /workspace/src/tree/updater_prune.cc:74: tree pruning end, 1 roots, 50 extra nodes, 0 pruned nodes, max_depth=5\n",
      "[31]\teval-auc:0.890572\teval-f1_score_thr0.2:0.075384\teval-f1_score_thr0.3:0.219978\teval-f1_score_thr0.4:0.286788\teval-f1_score_thr0.5:0.347003\teval-f1_score_thr0.6:0.388166\teval-f1_score_thr0.7:0.379581\n",
      "[20:41:21] /workspace/src/tree/updater_prune.cc:74: tree pruning end, 1 roots, 44 extra nodes, 0 pruned nodes, max_depth=5\n",
      "[32]\teval-auc:0.89132\teval-f1_score_thr0.2:0.096172\teval-f1_score_thr0.3:0.222559\teval-f1_score_thr0.4:0.288671\teval-f1_score_thr0.5:0.349131\teval-f1_score_thr0.6:0.386792\teval-f1_score_thr0.7:0.381201\n",
      "[20:41:22] /workspace/src/tree/updater_prune.cc:74: tree pruning end, 1 roots, 52 extra nodes, 0 pruned nodes, max_depth=5\n",
      "[33]\teval-auc:0.892578\teval-f1_score_thr0.2:0.112102\teval-f1_score_thr0.3:0.223669\teval-f1_score_thr0.4:0.288219\teval-f1_score_thr0.5:0.348653\teval-f1_score_thr0.6:0.384977\teval-f1_score_thr0.7:0.382199\n",
      "[20:41:23] /workspace/src/tree/updater_prune.cc:74: tree pruning end, 1 roots, 50 extra nodes, 0 pruned nodes, max_depth=5\n",
      "[34]\teval-auc:0.893063\teval-f1_score_thr0.2:0.116998\teval-f1_score_thr0.3:0.225744\teval-f1_score_thr0.4:0.290627\teval-f1_score_thr0.5:0.349762\teval-f1_score_thr0.6:0.38435\teval-f1_score_thr0.7:0.381699\n",
      "[20:41:23] /workspace/src/tree/updater_prune.cc:74: tree pruning end, 1 roots, 48 extra nodes, 0 pruned nodes, max_depth=5\n",
      "[35]\teval-auc:0.893594\teval-f1_score_thr0.2:0.122952\teval-f1_score_thr0.3:0.227503\teval-f1_score_thr0.4:0.291574\teval-f1_score_thr0.5:0.347895\teval-f1_score_thr0.6:0.384528\teval-f1_score_thr0.7:0.381201\n",
      "[20:41:24] /workspace/src/tree/updater_prune.cc:74: tree pruning end, 1 roots, 52 extra nodes, 0 pruned nodes, max_depth=5\n",
      "[36]\teval-auc:0.894166\teval-f1_score_thr0.2:0.129285\teval-f1_score_thr0.3:0.228887\teval-f1_score_thr0.4:0.294019\teval-f1_score_thr0.5:0.351266\teval-f1_score_thr0.6:0.382452\teval-f1_score_thr0.7:0.382199\n",
      "[20:41:24] /workspace/src/tree/updater_prune.cc:74: tree pruning end, 1 roots, 48 extra nodes, 0 pruned nodes, max_depth=5\n",
      "[37]\teval-auc:0.894214\teval-f1_score_thr0.2:0.141278\teval-f1_score_thr0.3:0.232502\teval-f1_score_thr0.4:0.297848\teval-f1_score_thr0.5:0.352191\teval-f1_score_thr0.6:0.38565\teval-f1_score_thr0.7:0.382813\n",
      "[20:41:25] /workspace/src/tree/updater_prune.cc:74: tree pruning end, 1 roots, 48 extra nodes, 0 pruned nodes, max_depth=5\n",
      "[38]\teval-auc:0.895222\teval-f1_score_thr0.2:0.146435\teval-f1_score_thr0.3:0.233766\teval-f1_score_thr0.4:0.300915\teval-f1_score_thr0.5:0.351351\teval-f1_score_thr0.6:0.387458\teval-f1_score_thr0.7:0.382813\n",
      "[20:41:26] /workspace/src/tree/updater_prune.cc:74: tree pruning end, 1 roots, 54 extra nodes, 0 pruned nodes, max_depth=5\n",
      "[39]\teval-auc:0.895477\teval-f1_score_thr0.2:0.156136\teval-f1_score_thr0.3:0.236356\teval-f1_score_thr0.4:0.300459\teval-f1_score_thr0.5:0.355662\teval-f1_score_thr0.6:0.382743\teval-f1_score_thr0.7:0.381818\n",
      "[20:41:26] /workspace/src/tree/updater_prune.cc:74: tree pruning end, 1 roots, 50 extra nodes, 2 pruned nodes, max_depth=5\n",
      "[40]\teval-auc:0.895768\teval-f1_score_thr0.2:0.162111\teval-f1_score_thr0.3:0.238608\teval-f1_score_thr0.4:0.305281\teval-f1_score_thr0.5:0.354633\teval-f1_score_thr0.6:0.381057\teval-f1_score_thr0.7:0.383312\n",
      "[20:41:27] /workspace/src/tree/updater_prune.cc:74: tree pruning end, 1 roots, 48 extra nodes, 0 pruned nodes, max_depth=5\n",
      "[41]\teval-auc:0.896259\teval-f1_score_thr0.2:0.169618\teval-f1_score_thr0.3:0.241075\teval-f1_score_thr0.4:0.305183\teval-f1_score_thr0.5:0.356688\teval-f1_score_thr0.6:0.378378\teval-f1_score_thr0.7:0.382315\n",
      "[20:41:27] /workspace/src/tree/updater_prune.cc:74: tree pruning end, 1 roots, 50 extra nodes, 0 pruned nodes, max_depth=5\n",
      "[42]\teval-auc:0.896227\teval-f1_score_thr0.2:0.174877\teval-f1_score_thr0.3:0.241554\teval-f1_score_thr0.4:0.304551\teval-f1_score_thr0.5:0.357427\teval-f1_score_thr0.6:0.37861\teval-f1_score_thr0.7:0.382813\n"
     ]
    },
    {
     "name": "stdout",
     "output_type": "stream",
     "text": [
      "[20:41:28] /workspace/src/tree/updater_prune.cc:74: tree pruning end, 1 roots, 46 extra nodes, 0 pruned nodes, max_depth=5\n",
      "[43]\teval-auc:0.896244\teval-f1_score_thr0.2:0.178239\teval-f1_score_thr0.3:0.243923\teval-f1_score_thr0.4:0.308146\teval-f1_score_thr0.5:0.35623\teval-f1_score_thr0.6:0.378902\teval-f1_score_thr0.7:0.382315\n",
      "[20:41:29] /workspace/src/tree/updater_prune.cc:74: tree pruning end, 1 roots, 42 extra nodes, 0 pruned nodes, max_depth=5\n",
      "[44]\teval-auc:0.89635\teval-f1_score_thr0.2:0.182364\teval-f1_score_thr0.3:0.246339\teval-f1_score_thr0.4:0.306683\teval-f1_score_thr0.5:0.356515\teval-f1_score_thr0.6:0.378495\teval-f1_score_thr0.7:0.381818\n",
      "[20:41:29] /workspace/src/tree/updater_prune.cc:74: tree pruning end, 1 roots, 58 extra nodes, 0 pruned nodes, max_depth=5\n",
      "[45]\teval-auc:0.896358\teval-f1_score_thr0.2:0.185457\teval-f1_score_thr0.3:0.24848\teval-f1_score_thr0.4:0.310448\teval-f1_score_thr0.5:0.3568\teval-f1_score_thr0.6:0.380851\teval-f1_score_thr0.7:0.38342\n",
      "[20:41:30] /workspace/src/tree/updater_prune.cc:74: tree pruning end, 1 roots, 40 extra nodes, 2 pruned nodes, max_depth=5\n",
      "[46]\teval-auc:0.896799\teval-f1_score_thr0.2:0.1875\teval-f1_score_thr0.3:0.251094\teval-f1_score_thr0.4:0.310263\teval-f1_score_thr0.5:0.355946\teval-f1_score_thr0.6:0.383475\teval-f1_score_thr0.7:0.382429\n",
      "[20:41:30] /workspace/src/tree/updater_prune.cc:74: tree pruning end, 1 roots, 48 extra nodes, 0 pruned nodes, max_depth=5\n",
      "[47]\teval-auc:0.896488\teval-f1_score_thr0.2:0.191034\teval-f1_score_thr0.3:0.252093\teval-f1_score_thr0.4:0.313772\teval-f1_score_thr0.5:0.355838\teval-f1_score_thr0.6:0.379853\teval-f1_score_thr0.7:0.381935\n",
      "[20:41:31] /workspace/src/tree/updater_prune.cc:74: tree pruning end, 1 roots, 44 extra nodes, 0 pruned nodes, max_depth=5\n",
      "[48]\teval-auc:0.896414\teval-f1_score_thr0.2:0.195151\teval-f1_score_thr0.3:0.254109\teval-f1_score_thr0.4:0.315217\teval-f1_score_thr0.5:0.3552\teval-f1_score_thr0.6:0.381152\teval-f1_score_thr0.7:0.381935\n",
      "[20:41:32] /workspace/src/tree/updater_prune.cc:74: tree pruning end, 1 roots, 44 extra nodes, 0 pruned nodes, max_depth=5\n",
      "[49]\teval-auc:0.897162\teval-f1_score_thr0.2:0.197388\teval-f1_score_thr0.3:0.254692\teval-f1_score_thr0.4:0.317383\teval-f1_score_thr0.5:0.357945\teval-f1_score_thr0.6:0.379853\teval-f1_score_thr0.7:0.382429\n",
      "[20:41:32] /workspace/src/tree/updater_prune.cc:74: tree pruning end, 1 roots, 44 extra nodes, 0 pruned nodes, max_depth=5\n",
      "[50]\teval-auc:0.897077\teval-f1_score_thr0.2:0.199137\teval-f1_score_thr0.3:0.25722\teval-f1_score_thr0.4:0.317518\teval-f1_score_thr0.5:0.360418\teval-f1_score_thr0.6:0.38125\teval-f1_score_thr0.7:0.381443\n",
      "[20:41:33] /workspace/src/tree/updater_prune.cc:74: tree pruning end, 1 roots, 48 extra nodes, 0 pruned nodes, max_depth=5\n",
      "[51]\teval-auc:0.897189\teval-f1_score_thr0.2:0.201313\teval-f1_score_thr0.3:0.259006\teval-f1_score_thr0.4:0.317848\teval-f1_score_thr0.5:0.362027\teval-f1_score_thr0.6:0.378772\teval-f1_score_thr0.7:0.381443\n",
      "[20:41:34] /workspace/src/tree/updater_prune.cc:74: tree pruning end, 1 roots, 44 extra nodes, 0 pruned nodes, max_depth=5\n",
      "[52]\teval-auc:0.897408\teval-f1_score_thr0.2:0.201963\teval-f1_score_thr0.3:0.261109\teval-f1_score_thr0.4:0.320049\teval-f1_score_thr0.5:0.365539\teval-f1_score_thr0.6:0.379167\teval-f1_score_thr0.7:0.384021\n",
      "[20:41:34] /workspace/src/tree/updater_prune.cc:74: tree pruning end, 1 roots, 44 extra nodes, 0 pruned nodes, max_depth=5\n",
      "[53]\teval-auc:0.897417\teval-f1_score_thr0.2:0.20437\teval-f1_score_thr0.3:0.264256\teval-f1_score_thr0.4:0.320592\teval-f1_score_thr0.5:0.36526\teval-f1_score_thr0.6:0.379668\teval-f1_score_thr0.7:0.385109\n",
      "[20:41:35] /workspace/src/tree/updater_prune.cc:74: tree pruning end, 1 roots, 48 extra nodes, 0 pruned nodes, max_depth=5\n",
      "[54]\teval-auc:0.897517\teval-f1_score_thr0.2:0.204375\teval-f1_score_thr0.3:0.266355\teval-f1_score_thr0.4:0.321782\teval-f1_score_thr0.5:0.363196\teval-f1_score_thr0.6:0.381837\teval-f1_score_thr0.7:0.384615\n",
      "[20:41:35] /workspace/src/tree/updater_prune.cc:74: tree pruning end, 1 roots, 52 extra nodes, 0 pruned nodes, max_depth=5\n",
      "[55]\teval-auc:0.897439\teval-f1_score_thr0.2:0.205534\teval-f1_score_thr0.3:0.266292\teval-f1_score_thr0.4:0.323182\teval-f1_score_thr0.5:0.363489\teval-f1_score_thr0.6:0.381633\teval-f1_score_thr0.7:0.384123\n",
      "[20:41:36] /workspace/src/tree/updater_prune.cc:74: tree pruning end, 1 roots, 48 extra nodes, 0 pruned nodes, max_depth=5\n",
      "[56]\teval-auc:0.89732\teval-f1_score_thr0.2:0.207749\teval-f1_score_thr0.3:0.268685\teval-f1_score_thr0.4:0.32725\teval-f1_score_thr0.5:0.365416\teval-f1_score_thr0.6:0.384852\teval-f1_score_thr0.7:0.384123\n",
      "[20:41:37] /workspace/src/tree/updater_prune.cc:74: tree pruning end, 1 roots, 42 extra nodes, 0 pruned nodes, max_depth=5\n",
      "[57]\teval-auc:0.897618\teval-f1_score_thr0.2:0.209459\teval-f1_score_thr0.3:0.269578\teval-f1_score_thr0.4:0.325991\teval-f1_score_thr0.5:0.365416\teval-f1_score_thr0.6:0.384852\teval-f1_score_thr0.7:0.384123\n",
      "[20:41:37] /workspace/src/tree/updater_prune.cc:74: tree pruning end, 1 roots, 42 extra nodes, 0 pruned nodes, max_depth=5\n",
      "[58]\teval-auc:0.897674\teval-f1_score_thr0.2:0.209556\teval-f1_score_thr0.3:0.270943\teval-f1_score_thr0.4:0.327827\teval-f1_score_thr0.5:0.364379\teval-f1_score_thr0.6:0.386037\teval-f1_score_thr0.7:0.386189\n",
      "[20:41:38] /workspace/src/tree/updater_prune.cc:74: tree pruning end, 1 roots, 46 extra nodes, 0 pruned nodes, max_depth=5\n",
      "[59]\teval-auc:0.897644\teval-f1_score_thr0.2:0.21253\teval-f1_score_thr0.3:0.273827\teval-f1_score_thr0.4:0.328225\teval-f1_score_thr0.5:0.366912\teval-f1_score_thr0.6:0.386434\teval-f1_score_thr0.7:0.383632\n",
      "[20:41:38] /workspace/src/tree/updater_prune.cc:74: tree pruning end, 1 roots, 44 extra nodes, 0 pruned nodes, max_depth=5\n",
      "[60]\teval-auc:0.89776\teval-f1_score_thr0.2:0.214385\teval-f1_score_thr0.3:0.276534\teval-f1_score_thr0.4:0.328435\teval-f1_score_thr0.5:0.371711\teval-f1_score_thr0.6:0.385714\teval-f1_score_thr0.7:0.384713\n",
      "[20:41:39] /workspace/src/tree/updater_prune.cc:74: tree pruning end, 1 roots, 52 extra nodes, 0 pruned nodes, max_depth=5\n",
      "[61]\teval-auc:0.897947\teval-f1_score_thr0.2:0.215417\teval-f1_score_thr0.3:0.277479\teval-f1_score_thr0.4:0.326948\teval-f1_score_thr0.5:0.371287\teval-f1_score_thr0.6:0.389002\teval-f1_score_thr0.7:0.387833\n",
      "[20:41:40] /workspace/src/tree/updater_prune.cc:74: tree pruning end, 1 roots, 44 extra nodes, 0 pruned nodes, max_depth=5\n",
      "[62]\teval-auc:0.898056\teval-f1_score_thr0.2:0.216944\teval-f1_score_thr0.3:0.279115\teval-f1_score_thr0.4:0.328416\teval-f1_score_thr0.5:0.3711\teval-f1_score_thr0.6:0.389002\teval-f1_score_thr0.7:0.383838\n",
      "[20:41:40] /workspace/src/tree/updater_prune.cc:74: tree pruning end, 1 roots, 46 extra nodes, 0 pruned nodes, max_depth=5\n",
      "[63]\teval-auc:0.898233\teval-f1_score_thr0.2:0.216988\teval-f1_score_thr0.3:0.280632\teval-f1_score_thr0.4:0.330122\teval-f1_score_thr0.5:0.371711\teval-f1_score_thr0.6:0.387424\teval-f1_score_thr0.7:0.383838\n",
      "[20:41:41] /workspace/src/tree/updater_prune.cc:74: tree pruning end, 1 roots, 44 extra nodes, 0 pruned nodes, max_depth=5\n",
      "[64]\teval-auc:0.898229\teval-f1_score_thr0.2:0.218862\teval-f1_score_thr0.3:0.282587\teval-f1_score_thr0.4:0.330759\teval-f1_score_thr0.5:0.372436\teval-f1_score_thr0.6:0.390244\teval-f1_score_thr0.7:0.38539\n",
      "[20:41:41] /workspace/src/tree/updater_prune.cc:74: tree pruning end, 1 roots, 38 extra nodes, 0 pruned nodes, max_depth=5\n",
      "[65]\teval-auc:0.898294\teval-f1_score_thr0.2:0.220284\teval-f1_score_thr0.3:0.282869\teval-f1_score_thr0.4:0.332256\teval-f1_score_thr0.5:0.372016\teval-f1_score_thr0.6:0.390641\teval-f1_score_thr0.7:0.385876\n",
      "[20:41:42] /workspace/src/tree/updater_prune.cc:74: tree pruning end, 1 roots, 44 extra nodes, 0 pruned nodes, max_depth=5\n",
      "[66]\teval-auc:0.898339\teval-f1_score_thr0.2:0.222385\teval-f1_score_thr0.3:0.284279\teval-f1_score_thr0.4:0.333116\teval-f1_score_thr0.5:0.369762\teval-f1_score_thr0.6:0.390244\teval-f1_score_thr0.7:0.387909\n",
      "[20:41:43] /workspace/src/tree/updater_prune.cc:74: tree pruning end, 1 roots, 48 extra nodes, 0 pruned nodes, max_depth=5\n",
      "[67]\teval-auc:0.89848\teval-f1_score_thr0.2:0.223455\teval-f1_score_thr0.3:0.283266\teval-f1_score_thr0.4:0.331606\teval-f1_score_thr0.5:0.370796\teval-f1_score_thr0.6:0.389848\teval-f1_score_thr0.7:0.385482\n",
      "[20:41:43] /workspace/src/tree/updater_prune.cc:74: tree pruning end, 1 roots, 48 extra nodes, 0 pruned nodes, max_depth=5\n",
      "[68]\teval-auc:0.898686\teval-f1_score_thr0.2:0.224702\teval-f1_score_thr0.3:0.285279\teval-f1_score_thr0.4:0.333333\teval-f1_score_thr0.5:0.370066\teval-f1_score_thr0.6:0.39311\teval-f1_score_thr0.7:0.383459\n"
     ]
    },
    {
     "name": "stdout",
     "output_type": "stream",
     "text": [
      "[20:41:44] /workspace/src/tree/updater_prune.cc:74: tree pruning end, 1 roots, 40 extra nodes, 0 pruned nodes, max_depth=5\n",
      "[69]\teval-auc:0.899015\teval-f1_score_thr0.2:0.226387\teval-f1_score_thr0.3:0.285424\teval-f1_score_thr0.4:0.332681\teval-f1_score_thr0.5:0.374279\teval-f1_score_thr0.6:0.390688\teval-f1_score_thr0.7:0.385482\n",
      "[20:41:44] /workspace/src/tree/updater_prune.cc:74: tree pruning end, 1 roots, 44 extra nodes, 0 pruned nodes, max_depth=5\n",
      "[70]\teval-auc:0.899426\teval-f1_score_thr0.2:0.228269\teval-f1_score_thr0.3:0.287174\teval-f1_score_thr0.4:0.335747\teval-f1_score_thr0.5:0.374897\teval-f1_score_thr0.6:0.395939\teval-f1_score_thr0.7:0.389513\n",
      "[20:41:45] /workspace/src/tree/updater_prune.cc:74: tree pruning end, 1 roots, 48 extra nodes, 0 pruned nodes, max_depth=5\n",
      "[71]\teval-auc:0.899465\teval-f1_score_thr0.2:0.228637\teval-f1_score_thr0.3:0.288798\teval-f1_score_thr0.4:0.336412\teval-f1_score_thr0.5:0.379538\teval-f1_score_thr0.6:0.396341\teval-f1_score_thr0.7:0.391034\n",
      "[20:41:46] /workspace/src/tree/updater_prune.cc:74: tree pruning end, 1 roots, 38 extra nodes, 0 pruned nodes, max_depth=5\n",
      "[72]\teval-auc:0.89953\teval-f1_score_thr0.2:0.23021\teval-f1_score_thr0.3:0.290005\teval-f1_score_thr0.4:0.337972\teval-f1_score_thr0.5:0.373134\teval-f1_score_thr0.6:0.397149\teval-f1_score_thr0.7:0.393564\n",
      "[20:41:46] /workspace/src/tree/updater_prune.cc:74: tree pruning end, 1 roots, 42 extra nodes, 0 pruned nodes, max_depth=5\n",
      "[73]\teval-auc:0.899682\teval-f1_score_thr0.2:0.230503\teval-f1_score_thr0.3:0.290625\teval-f1_score_thr0.4:0.340199\teval-f1_score_thr0.5:0.374688\teval-f1_score_thr0.6:0.398366\teval-f1_score_thr0.7:0.391034\n",
      "[20:41:47] /workspace/src/tree/updater_prune.cc:74: tree pruning end, 1 roots, 46 extra nodes, 0 pruned nodes, max_depth=5\n",
      "[74]\teval-auc:0.899722\teval-f1_score_thr0.2:0.232019\teval-f1_score_thr0.3:0.291536\teval-f1_score_thr0.4:0.339321\teval-f1_score_thr0.5:0.375\teval-f1_score_thr0.6:0.395515\teval-f1_score_thr0.7:0.393035\n",
      "[20:41:48] /workspace/src/tree/updater_prune.cc:74: tree pruning end, 1 roots, 36 extra nodes, 0 pruned nodes, max_depth=5\n",
      "[75]\teval-auc:0.899772\teval-f1_score_thr0.2:0.231997\teval-f1_score_thr0.3:0.29276\teval-f1_score_thr0.4:0.340255\teval-f1_score_thr0.5:0.371977\teval-f1_score_thr0.6:0.395918\teval-f1_score_thr0.7:0.391034\n",
      "[20:41:48] /workspace/src/tree/updater_prune.cc:74: tree pruning end, 1 roots, 48 extra nodes, 0 pruned nodes, max_depth=5\n",
      "[76]\teval-auc:0.89983\teval-f1_score_thr0.2:0.233086\teval-f1_score_thr0.3:0.294737\teval-f1_score_thr0.4:0.342282\teval-f1_score_thr0.5:0.371357\teval-f1_score_thr0.6:0.393909\teval-f1_score_thr0.7:0.391574\n",
      "[20:41:49] /workspace/src/tree/updater_prune.cc:74: tree pruning end, 1 roots, 48 extra nodes, 0 pruned nodes, max_depth=5\n",
      "[77]\teval-auc:0.900264\teval-f1_score_thr0.2:0.233725\teval-f1_score_thr0.3:0.295515\teval-f1_score_thr0.4:0.342512\teval-f1_score_thr0.5:0.373333\teval-f1_score_thr0.6:0.391878\teval-f1_score_thr0.7:0.388133\n",
      "[20:41:49] /workspace/src/tree/updater_prune.cc:74: tree pruning end, 1 roots, 48 extra nodes, 0 pruned nodes, max_depth=5\n",
      "[78]\teval-auc:0.900296\teval-f1_score_thr0.2:0.235108\teval-f1_score_thr0.3:0.296296\teval-f1_score_thr0.4:0.343434\teval-f1_score_thr0.5:0.37291\teval-f1_score_thr0.6:0.392276\teval-f1_score_thr0.7:0.387654\n",
      "[20:41:50] /workspace/src/tree/updater_prune.cc:74: tree pruning end, 1 roots, 44 extra nodes, 0 pruned nodes, max_depth=5\n",
      "[79]\teval-auc:0.900355\teval-f1_score_thr0.2:0.236227\teval-f1_score_thr0.3:0.297441\teval-f1_score_thr0.4:0.342586\teval-f1_score_thr0.5:0.372287\teval-f1_score_thr0.6:0.393075\teval-f1_score_thr0.7:0.388684\n",
      "[20:41:51] /workspace/src/tree/updater_prune.cc:74: tree pruning end, 1 roots, 44 extra nodes, 0 pruned nodes, max_depth=5\n",
      "[80]\teval-auc:0.900415\teval-f1_score_thr0.2:0.237734\teval-f1_score_thr0.3:0.298236\teval-f1_score_thr0.4:0.344173\teval-f1_score_thr0.5:0.373847\teval-f1_score_thr0.6:0.392675\teval-f1_score_thr0.7:0.390123\n",
      "[20:41:51] /workspace/src/tree/updater_prune.cc:74: tree pruning end, 1 roots, 50 extra nodes, 0 pruned nodes, max_depth=5\n",
      "[81]\teval-auc:0.900422\teval-f1_score_thr0.2:0.238267\teval-f1_score_thr0.3:0.299086\teval-f1_score_thr0.4:0.343324\teval-f1_score_thr0.5:0.373222\teval-f1_score_thr0.6:0.392276\teval-f1_score_thr0.7:0.389163\n",
      "[20:41:52] /workspace/src/tree/updater_prune.cc:74: tree pruning end, 1 roots, 42 extra nodes, 0 pruned nodes, max_depth=5\n",
      "[82]\teval-auc:0.900334\teval-f1_score_thr0.2:0.239034\teval-f1_score_thr0.3:0.298863\teval-f1_score_thr0.4:0.343365\teval-f1_score_thr0.5:0.374269\teval-f1_score_thr0.6:0.393075\teval-f1_score_thr0.7:0.389163\n",
      "[20:41:52] /workspace/src/tree/updater_prune.cc:74: tree pruning end, 1 roots, 42 extra nodes, 0 pruned nodes, max_depth=5\n",
      "[83]\teval-auc:0.900413\teval-f1_score_thr0.2:0.239773\teval-f1_score_thr0.3:0.301579\teval-f1_score_thr0.4:0.345679\teval-f1_score_thr0.5:0.373534\teval-f1_score_thr0.6:0.393476\teval-f1_score_thr0.7:0.388206\n",
      "[20:41:53] /workspace/src/tree/updater_prune.cc:74: tree pruning end, 1 roots, 50 extra nodes, 0 pruned nodes, max_depth=5\n",
      "[84]\teval-auc:0.900382\teval-f1_score_thr0.2:0.24026\teval-f1_score_thr0.3:0.301146\teval-f1_score_thr0.4:0.345205\teval-f1_score_thr0.5:0.372483\teval-f1_score_thr0.6:0.393878\teval-f1_score_thr0.7:0.388753\n",
      "[20:41:54] /workspace/src/tree/updater_prune.cc:74: tree pruning end, 1 roots, 44 extra nodes, 0 pruned nodes, max_depth=5\n",
      "[85]\teval-auc:0.900365\teval-f1_score_thr0.2:0.24183\teval-f1_score_thr0.3:0.300711\teval-f1_score_thr0.4:0.346154\teval-f1_score_thr0.5:0.370495\teval-f1_score_thr0.6:0.395112\teval-f1_score_thr0.7:0.392638\n",
      "[20:41:54] /workspace/src/tree/updater_prune.cc:74: tree pruning end, 1 roots, 44 extra nodes, 0 pruned nodes, max_depth=5\n",
      "[86]\teval-auc:0.900443\teval-f1_score_thr0.2:0.243923\teval-f1_score_thr0.3:0.302364\teval-f1_score_thr0.4:0.348307\teval-f1_score_thr0.5:0.372367\teval-f1_score_thr0.6:0.395087\teval-f1_score_thr0.7:0.392157\n",
      "[20:41:55] /workspace/src/tree/updater_prune.cc:74: tree pruning end, 1 roots, 48 extra nodes, 0 pruned nodes, max_depth=5\n",
      "[87]\teval-auc:0.900443\teval-f1_score_thr0.2:0.24461\teval-f1_score_thr0.3:0.301991\teval-f1_score_thr0.4:0.348789\teval-f1_score_thr0.5:0.374475\teval-f1_score_thr0.6:0.395492\teval-f1_score_thr0.7:0.391626\n",
      "[20:41:56] /workspace/src/tree/updater_prune.cc:74: tree pruning end, 1 roots, 44 extra nodes, 0 pruned nodes, max_depth=5\n",
      "[88]\teval-auc:0.900444\teval-f1_score_thr0.2:0.245526\teval-f1_score_thr0.3:0.301824\teval-f1_score_thr0.4:0.348789\teval-f1_score_thr0.5:0.375421\teval-f1_score_thr0.6:0.394683\teval-f1_score_thr0.7:0.394089\n",
      "[20:41:56] /workspace/src/tree/updater_prune.cc:74: tree pruning end, 1 roots, 36 extra nodes, 0 pruned nodes, max_depth=5\n",
      "[89]\teval-auc:0.900533\teval-f1_score_thr0.2:0.246759\teval-f1_score_thr0.3:0.300277\teval-f1_score_thr0.4:0.348853\teval-f1_score_thr0.5:0.376054\teval-f1_score_thr0.6:0.400818\teval-f1_score_thr0.7:0.392109\n",
      "[20:41:57] /workspace/src/tree/updater_prune.cc:74: tree pruning end, 1 roots, 44 extra nodes, 2 pruned nodes, max_depth=5\n",
      "[90]\teval-auc:0.90047\teval-f1_score_thr0.2:0.247579\teval-f1_score_thr0.3:0.303233\teval-f1_score_thr0.4:0.350975\teval-f1_score_thr0.5:0.377327\teval-f1_score_thr0.6:0.397119\teval-f1_score_thr0.7:0.397531\n",
      "[20:41:57] /workspace/src/tree/updater_prune.cc:74: tree pruning end, 1 roots, 40 extra nodes, 0 pruned nodes, max_depth=5\n",
      "[91]\teval-auc:0.900452\teval-f1_score_thr0.2:0.24841\teval-f1_score_thr0.3:0.302624\teval-f1_score_thr0.4:0.348675\teval-f1_score_thr0.5:0.375635\teval-f1_score_thr0.6:0.397119\teval-f1_score_thr0.7:0.397041\n",
      "[20:41:58] /workspace/src/tree/updater_prune.cc:74: tree pruning end, 1 roots, 42 extra nodes, 0 pruned nodes, max_depth=5\n",
      "[92]\teval-auc:0.900482\teval-f1_score_thr0.2:0.248511\teval-f1_score_thr0.3:0.305962\teval-f1_score_thr0.4:0.348432\teval-f1_score_thr0.5:0.37617\teval-f1_score_thr0.6:0.395062\teval-f1_score_thr0.7:0.397041\n",
      "[20:41:59] /workspace/src/tree/updater_prune.cc:74: tree pruning end, 1 roots, 44 extra nodes, 2 pruned nodes, max_depth=5\n",
      "[93]\teval-auc:0.900548\teval-f1_score_thr0.2:0.249357\teval-f1_score_thr0.3:0.305085\teval-f1_score_thr0.4:0.351049\teval-f1_score_thr0.5:0.371697\teval-f1_score_thr0.6:0.39876\teval-f1_score_thr0.7:0.397531\n",
      "[20:42:00] /workspace/src/tree/updater_prune.cc:74: tree pruning end, 1 roots, 42 extra nodes, 0 pruned nodes, max_depth=5\n",
      "[94]\teval-auc:0.900443\teval-f1_score_thr0.2:0.250108\teval-f1_score_thr0.3:0.304989\teval-f1_score_thr0.4:0.349895\teval-f1_score_thr0.5:0.375427\teval-f1_score_thr0.6:0.39876\teval-f1_score_thr0.7:0.398022\n"
     ]
    },
    {
     "name": "stdout",
     "output_type": "stream",
     "text": [
      "[20:42:01] /workspace/src/tree/updater_prune.cc:74: tree pruning end, 1 roots, 30 extra nodes, 0 pruned nodes, max_depth=5\n",
      "[95]\teval-auc:0.900523\teval-f1_score_thr0.2:0.251409\teval-f1_score_thr0.3:0.304447\teval-f1_score_thr0.4:0.352776\teval-f1_score_thr0.5:0.37265\teval-f1_score_thr0.6:0.402073\teval-f1_score_thr0.7:0.4\n",
      "[20:42:01] /workspace/src/tree/updater_prune.cc:74: tree pruning end, 1 roots, 50 extra nodes, 0 pruned nodes, max_depth=5\n",
      "[96]\teval-auc:0.900566\teval-f1_score_thr0.2:0.251852\teval-f1_score_thr0.3:0.305492\teval-f1_score_thr0.4:0.352528\teval-f1_score_thr0.5:0.372331\teval-f1_score_thr0.6:0.4\teval-f1_score_thr0.7:0.403965\n",
      "[20:42:02] /workspace/src/tree/updater_prune.cc:74: tree pruning end, 1 roots, 44 extra nodes, 0 pruned nodes, max_depth=5\n",
      "[97]\teval-auc:0.900632\teval-f1_score_thr0.2:0.253509\teval-f1_score_thr0.3:0.306193\teval-f1_score_thr0.4:0.353933\teval-f1_score_thr0.5:0.373494\teval-f1_score_thr0.6:0.400826\teval-f1_score_thr0.7:0.406948\n",
      "[20:42:02] /workspace/src/tree/updater_prune.cc:74: tree pruning end, 1 roots, 42 extra nodes, 0 pruned nodes, max_depth=5\n",
      "[98]\teval-auc:0.90071\teval-f1_score_thr0.2:0.254513\teval-f1_score_thr0.3:0.308136\teval-f1_score_thr0.4:0.351695\teval-f1_score_thr0.5:0.373816\teval-f1_score_thr0.6:0.397927\teval-f1_score_thr0.7:0.405978\n",
      "[20:42:03] /workspace/src/tree/updater_prune.cc:74: tree pruning end, 1 roots, 36 extra nodes, 0 pruned nodes, max_depth=5\n",
      "[99]\teval-auc:0.900829\teval-f1_score_thr0.2:0.256092\teval-f1_score_thr0.3:0.308585\teval-f1_score_thr0.4:0.353857\teval-f1_score_thr0.5:0.373494\teval-f1_score_thr0.6:0.401665\teval-f1_score_thr0.7:0.405473\n",
      "[20:42:04] /workspace/src/tree/updater_prune.cc:74: tree pruning end, 1 roots, 28 extra nodes, 0 pruned nodes, max_depth=5\n",
      "[100]\teval-auc:0.90082\teval-f1_score_thr0.2:0.257117\teval-f1_score_thr0.3:0.310465\teval-f1_score_thr0.4:0.352691\teval-f1_score_thr0.5:0.373494\teval-f1_score_thr0.6:0.4\teval-f1_score_thr0.7:0.40399\n",
      "[20:42:04] /workspace/src/tree/updater_prune.cc:74: tree pruning end, 1 roots, 44 extra nodes, 0 pruned nodes, max_depth=5\n",
      "[101]\teval-auc:0.900934\teval-f1_score_thr0.2:0.257921\teval-f1_score_thr0.3:0.311916\teval-f1_score_thr0.4:0.353442\teval-f1_score_thr0.5:0.374784\teval-f1_score_thr0.6:0.402073\teval-f1_score_thr0.7:0.406948\n",
      "[20:42:05] /workspace/src/tree/updater_prune.cc:74: tree pruning end, 1 roots, 28 extra nodes, 0 pruned nodes, max_depth=5\n",
      "[102]\teval-auc:0.900917\teval-f1_score_thr0.2:0.258845\teval-f1_score_thr0.3:0.31283\teval-f1_score_thr0.4:0.354196\teval-f1_score_thr0.5:0.375758\teval-f1_score_thr0.6:0.39834\teval-f1_score_thr0.7:0.403965\n",
      "[20:42:05] /workspace/src/tree/updater_prune.cc:74: tree pruning end, 1 roots, 44 extra nodes, 0 pruned nodes, max_depth=5\n",
      "[103]\teval-auc:0.901074\teval-f1_score_thr0.2:0.259928\teval-f1_score_thr0.3:0.314673\teval-f1_score_thr0.4:0.354196\teval-f1_score_thr0.5:0.376736\teval-f1_score_thr0.6:0.399584\teval-f1_score_thr0.7:0.405473\n",
      "[20:42:06] /workspace/src/tree/updater_prune.cc:74: tree pruning end, 1 roots, 28 extra nodes, 0 pruned nodes, max_depth=5\n",
      "[104]\teval-auc:0.901121\teval-f1_score_thr0.2:0.260398\teval-f1_score_thr0.3:0.315789\teval-f1_score_thr0.4:0.355714\teval-f1_score_thr0.5:0.377391\teval-f1_score_thr0.6:0.398332\teval-f1_score_thr0.7:0.407453\n",
      "[20:42:07] /workspace/src/tree/updater_prune.cc:74: tree pruning end, 1 roots, 42 extra nodes, 0 pruned nodes, max_depth=5\n",
      "[105]\teval-auc:0.90115\teval-f1_score_thr0.2:0.260909\teval-f1_score_thr0.3:0.318236\teval-f1_score_thr0.4:0.355047\teval-f1_score_thr0.5:0.379791\teval-f1_score_thr0.6:0.399584\teval-f1_score_thr0.7:0.410448\n",
      "[20:42:07] /workspace/src/tree/updater_prune.cc:74: tree pruning end, 1 roots, 36 extra nodes, 0 pruned nodes, max_depth=5\n",
      "[106]\teval-auc:0.90116\teval-f1_score_thr0.2:0.262654\teval-f1_score_thr0.3:0.317992\teval-f1_score_thr0.4:0.356989\teval-f1_score_thr0.5:0.379039\teval-f1_score_thr0.6:0.399168\teval-f1_score_thr0.7:0.408468\n",
      "[20:42:08] /workspace/src/tree/updater_prune.cc:74: tree pruning end, 1 roots, 52 extra nodes, 0 pruned nodes, max_depth=5\n",
      "[107]\teval-auc:0.901045\teval-f1_score_thr0.2:0.26246\teval-f1_score_thr0.3:0.319378\teval-f1_score_thr0.4:0.359454\teval-f1_score_thr0.5:0.379703\teval-f1_score_thr0.6:0.396266\teval-f1_score_thr0.7:0.408978\n",
      "[20:42:09] /workspace/src/tree/updater_prune.cc:74: tree pruning end, 1 roots, 32 extra nodes, 0 pruned nodes, max_depth=5\n",
      "[108]\teval-auc:0.901017\teval-f1_score_thr0.2:0.264029\teval-f1_score_thr0.3:0.320721\teval-f1_score_thr0.4:0.357195\teval-f1_score_thr0.5:0.380368\teval-f1_score_thr0.6:0.39334\teval-f1_score_thr0.7:0.409488\n",
      "[20:42:09] /workspace/src/tree/updater_prune.cc:74: tree pruning end, 1 roots, 44 extra nodes, 0 pruned nodes, max_depth=5\n",
      "[109]\teval-auc:0.901018\teval-f1_score_thr0.2:0.265005\teval-f1_score_thr0.3:0.323049\teval-f1_score_thr0.4:0.359012\teval-f1_score_thr0.5:0.380702\teval-f1_score_thr0.6:0.394191\teval-f1_score_thr0.7:0.406991\n",
      "[20:42:10] /workspace/src/tree/updater_prune.cc:74: tree pruning end, 1 roots, 44 extra nodes, 0 pruned nodes, max_depth=5\n",
      "[110]\teval-auc:0.901013\teval-f1_score_thr0.2:0.266729\teval-f1_score_thr0.3:0.324029\teval-f1_score_thr0.4:0.360058\teval-f1_score_thr0.5:0.381036\teval-f1_score_thr0.6:0.39334\teval-f1_score_thr0.7:0.405507\n",
      "[20:42:10] /workspace/src/tree/updater_prune.cc:74: tree pruning end, 1 roots, 42 extra nodes, 0 pruned nodes, max_depth=5\n",
      "[111]\teval-auc:0.901294\teval-f1_score_thr0.2:0.268224\teval-f1_score_thr0.3:0.325015\teval-f1_score_thr0.4:0.360847\teval-f1_score_thr0.5:0.381371\teval-f1_score_thr0.6:0.399164\teval-f1_score_thr0.7:0.404015\n",
      "[20:42:11] /workspace/src/tree/updater_prune.cc:74: tree pruning end, 1 roots, 40 extra nodes, 0 pruned nodes, max_depth=5\n",
      "[112]\teval-auc:0.901444\teval-f1_score_thr0.2:0.268978\teval-f1_score_thr0.3:0.325808\teval-f1_score_thr0.4:0.360847\teval-f1_score_thr0.5:0.382042\teval-f1_score_thr0.6:0.397074\teval-f1_score_thr0.7:0.397484\n",
      "[20:42:12] /workspace/src/tree/updater_prune.cc:74: tree pruning end, 1 roots, 26 extra nodes, 0 pruned nodes, max_depth=5\n",
      "[113]\teval-auc:0.901321\teval-f1_score_thr0.2:0.269991\teval-f1_score_thr0.3:0.327406\teval-f1_score_thr0.4:0.362031\teval-f1_score_thr0.5:0.383392\teval-f1_score_thr0.6:0.398741\teval-f1_score_thr0.7:0.397484\n",
      "[20:42:12] /workspace/src/tree/updater_prune.cc:74: tree pruning end, 1 roots, 34 extra nodes, 0 pruned nodes, max_depth=5\n",
      "[114]\teval-auc:0.901356\teval-f1_score_thr0.2:0.270755\teval-f1_score_thr0.3:0.327206\teval-f1_score_thr0.4:0.360559\teval-f1_score_thr0.5:0.384071\teval-f1_score_thr0.6:0.398323\teval-f1_score_thr0.7:0.396985\n",
      "[20:42:13] /workspace/src/tree/updater_prune.cc:74: tree pruning end, 1 roots, 38 extra nodes, 0 pruned nodes, max_depth=5\n",
      "[115]\teval-auc:0.901454\teval-f1_score_thr0.2:0.270577\teval-f1_score_thr0.3:0.328615\teval-f1_score_thr0.4:0.361891\teval-f1_score_thr0.5:0.384752\teval-f1_score_thr0.6:0.399579\teval-f1_score_thr0.7:0.4\n",
      "[20:42:13] /workspace/src/tree/updater_prune.cc:74: tree pruning end, 1 roots, 26 extra nodes, 0 pruned nodes, max_depth=5\n",
      "[116]\teval-auc:0.901334\teval-f1_score_thr0.2:0.271863\teval-f1_score_thr0.3:0.331266\teval-f1_score_thr0.4:0.362963\teval-f1_score_thr0.5:0.383319\teval-f1_score_thr0.6:0.400421\teval-f1_score_thr0.7:0.39899\n",
      "[20:42:14] /workspace/src/tree/updater_prune.cc:74: tree pruning end, 1 roots, 24 extra nodes, 0 pruned nodes, max_depth=5\n",
      "[117]\teval-auc:0.901389\teval-f1_score_thr0.2:0.273423\teval-f1_score_thr0.3:0.332292\teval-f1_score_thr0.4:0.364312\teval-f1_score_thr0.5:0.382562\teval-f1_score_thr0.6:0.401267\teval-f1_score_thr0.7:0.401009\n",
      "[20:42:15] /workspace/src/tree/updater_prune.cc:74: tree pruning end, 1 roots, 22 extra nodes, 0 pruned nodes, max_depth=5\n",
      "[118]\teval-auc:0.901696\teval-f1_score_thr0.2:0.272989\teval-f1_score_thr0.3:0.3325\teval-f1_score_thr0.4:0.365945\teval-f1_score_thr0.5:0.382562\teval-f1_score_thr0.6:0.402542\teval-f1_score_thr0.7:0.401515\n",
      "[20:42:15] /workspace/src/tree/updater_prune.cc:74: tree pruning end, 1 roots, 32 extra nodes, 0 pruned nodes, max_depth=5\n",
      "[119]\teval-auc:0.901576\teval-f1_score_thr0.2:0.273471\teval-f1_score_thr0.3:0.332706\teval-f1_score_thr0.4:0.366766\teval-f1_score_thr0.5:0.383244\teval-f1_score_thr0.6:0.402969\teval-f1_score_thr0.7:0.401515\n",
      "[20:42:16] /workspace/src/tree/updater_prune.cc:74: tree pruning end, 1 roots, 24 extra nodes, 0 pruned nodes, max_depth=5\n",
      "[120]\teval-auc:0.901599\teval-f1_score_thr0.2:0.274794\teval-f1_score_thr0.3:0.334385\teval-f1_score_thr0.4:0.367316\teval-f1_score_thr0.5:0.384615\teval-f1_score_thr0.6:0.4\teval-f1_score_thr0.7:0.401525\n"
     ]
    },
    {
     "name": "stdout",
     "output_type": "stream",
     "text": [
      "[20:42:16] /workspace/src/tree/updater_prune.cc:74: tree pruning end, 1 roots, 28 extra nodes, 0 pruned nodes, max_depth=5\n",
      "[121]\teval-auc:0.901865\teval-f1_score_thr0.2:0.274491\teval-f1_score_thr0.3:0.333963\teval-f1_score_thr0.4:0.368421\teval-f1_score_thr0.5:0.383929\teval-f1_score_thr0.6:0.400426\teval-f1_score_thr0.7:0.404066\n",
      "[20:42:17] /workspace/src/tree/updater_prune.cc:74: tree pruning end, 1 roots, 36 extra nodes, 0 pruned nodes, max_depth=5\n",
      "[122]\teval-auc:0.902043\teval-f1_score_thr0.2:0.275024\teval-f1_score_thr0.3:0.334807\teval-f1_score_thr0.4:0.368698\teval-f1_score_thr0.5:0.383857\teval-f1_score_thr0.6:0.400853\teval-f1_score_thr0.7:0.404066\n",
      "[20:42:18] /workspace/src/tree/updater_prune.cc:74: tree pruning end, 1 roots, 24 extra nodes, 0 pruned nodes, max_depth=5\n",
      "[123]\teval-auc:0.90205\teval-f1_score_thr0.2:0.275256\teval-f1_score_thr0.3:0.334393\teval-f1_score_thr0.4:0.368859\teval-f1_score_thr0.5:0.383784\teval-f1_score_thr0.6:0.397861\teval-f1_score_thr0.7:0.402036\n",
      "[20:42:18] /workspace/src/tree/updater_prune.cc:74: tree pruning end, 1 roots, 28 extra nodes, 0 pruned nodes, max_depth=5\n",
      "[124]\teval-auc:0.902061\teval-f1_score_thr0.2:0.274817\teval-f1_score_thr0.3:0.333971\teval-f1_score_thr0.4:0.369021\teval-f1_score_thr0.5:0.384824\teval-f1_score_thr0.6:0.397861\teval-f1_score_thr0.7:0.40051\n",
      "[20:42:19] /workspace/src/tree/updater_prune.cc:74: tree pruning end, 1 roots, 22 extra nodes, 0 pruned nodes, max_depth=5\n",
      "[125]\teval-auc:0.902229\teval-f1_score_thr0.2:0.275795\teval-f1_score_thr0.3:0.336317\teval-f1_score_thr0.4:0.369863\teval-f1_score_thr0.5:0.384058\teval-f1_score_thr0.6:0.399146\teval-f1_score_thr0.7:0.397452\n",
      "[20:42:19] /workspace/src/tree/updater_prune.cc:74: tree pruning end, 1 roots, 38 extra nodes, 0 pruned nodes, max_depth=5\n",
      "[126]\teval-auc:0.902195\teval-f1_score_thr0.2:0.276847\teval-f1_score_thr0.3:0.336748\teval-f1_score_thr0.4:0.370709\teval-f1_score_thr0.5:0.383636\teval-f1_score_thr0.6:0.397861\teval-f1_score_thr0.7:0.395913\n",
      "[20:42:20] /workspace/src/tree/updater_prune.cc:74: tree pruning end, 1 roots, 34 extra nodes, 0 pruned nodes, max_depth=5\n",
      "[127]\teval-auc:0.902319\teval-f1_score_thr0.2:0.277805\teval-f1_score_thr0.3:0.338462\teval-f1_score_thr0.4:0.369582\teval-f1_score_thr0.5:0.383636\teval-f1_score_thr0.6:0.398287\teval-f1_score_thr0.7:0.404092\n",
      "[20:42:21] /workspace/src/tree/updater_prune.cc:74: tree pruning end, 1 roots, 28 extra nodes, 0 pruned nodes, max_depth=5\n",
      "[128]\teval-auc:0.902258\teval-f1_score_thr0.2:0.28002\teval-f1_score_thr0.3:0.337847\teval-f1_score_thr0.4:0.371276\teval-f1_score_thr0.5:0.384335\teval-f1_score_thr0.6:0.39657\teval-f1_score_thr0.7:0.404639\n",
      "[20:42:21] /workspace/src/tree/updater_prune.cc:74: tree pruning end, 1 roots, 26 extra nodes, 0 pruned nodes, max_depth=5\n",
      "[129]\teval-auc:0.90229\teval-f1_score_thr0.2:0.281141\teval-f1_score_thr0.3:0.339159\teval-f1_score_thr0.4:0.372985\teval-f1_score_thr0.5:0.383912\teval-f1_score_thr0.6:0.398714\teval-f1_score_thr0.7:0.40621\n",
      "[20:42:22] /workspace/src/tree/updater_prune.cc:74: tree pruning end, 1 roots, 28 extra nodes, 0 pruned nodes, max_depth=5\n",
      "[130]\teval-auc:0.902457\teval-f1_score_thr0.2:0.282412\teval-f1_score_thr0.3:0.339181\teval-f1_score_thr0.4:0.372594\teval-f1_score_thr0.5:0.384263\teval-f1_score_thr0.6:0.400862\teval-f1_score_thr0.7:0.404145\n",
      "[20:42:22] /workspace/src/tree/updater_prune.cc:74: tree pruning end, 1 roots, 36 extra nodes, 0 pruned nodes, max_depth=5\n",
      "[131]\teval-auc:0.902445\teval-f1_score_thr0.2:0.283552\teval-f1_score_thr0.3:0.340509\teval-f1_score_thr0.4:0.372881\teval-f1_score_thr0.5:0.385321\teval-f1_score_thr0.6:0.400433\teval-f1_score_thr0.7:0.402075\n",
      "[20:42:23] /workspace/src/tree/updater_prune.cc:74: tree pruning end, 1 roots, 28 extra nodes, 0 pruned nodes, max_depth=5\n",
      "[132]\teval-auc:0.902408\teval-f1_score_thr0.2:0.283257\teval-f1_score_thr0.3:0.338361\teval-f1_score_thr0.4:0.372488\teval-f1_score_thr0.5:0.383486\teval-f1_score_thr0.6:0.400867\teval-f1_score_thr0.7:0.4\n",
      "[20:42:24] /workspace/src/tree/updater_prune.cc:74: tree pruning end, 1 roots, 24 extra nodes, 0 pruned nodes, max_depth=5\n",
      "[133]\teval-auc:0.902463\teval-f1_score_thr0.2:0.285569\teval-f1_score_thr0.3:0.338381\teval-f1_score_thr0.4:0.373354\teval-f1_score_thr0.5:0.38674\teval-f1_score_thr0.6:0.403034\teval-f1_score_thr0.7:0.4\n",
      "[20:42:24] /workspace/src/tree/updater_prune.cc:74: tree pruning end, 1 roots, 36 extra nodes, 0 pruned nodes, max_depth=5\n",
      "[134]\teval-auc:0.902474\teval-f1_score_thr0.2:0.285714\teval-f1_score_thr0.3:0.339274\teval-f1_score_thr0.4:0.37296\teval-f1_score_thr0.5:0.384829\teval-f1_score_thr0.6:0.403909\teval-f1_score_thr0.7:0.399478\n",
      "[20:42:25] /workspace/src/tree/updater_prune.cc:74: tree pruning end, 1 roots, 34 extra nodes, 0 pruned nodes, max_depth=5\n",
      "[135]\teval-auc:0.902564\teval-f1_score_thr0.2:0.286445\teval-f1_score_thr0.3:0.339947\teval-f1_score_thr0.4:0.372564\teval-f1_score_thr0.5:0.386977\teval-f1_score_thr0.6:0.404788\teval-f1_score_thr0.7:0.397386\n",
      "[20:42:25] /workspace/src/tree/updater_prune.cc:74: tree pruning end, 1 roots, 36 extra nodes, 0 pruned nodes, max_depth=5\n",
      "[136]\teval-auc:0.902716\teval-f1_score_thr0.2:0.288214\teval-f1_score_thr0.3:0.340172\teval-f1_score_thr0.4:0.372564\teval-f1_score_thr0.5:0.388422\teval-f1_score_thr0.6:0.405671\teval-f1_score_thr0.7:0.393185\n",
      "[20:42:26] /workspace/src/tree/updater_prune.cc:74: tree pruning end, 1 roots, 26 extra nodes, 0 pruned nodes, max_depth=5\n",
      "[137]\teval-auc:0.902828\teval-f1_score_thr0.2:0.28866\teval-f1_score_thr0.3:0.340652\teval-f1_score_thr0.4:0.374315\teval-f1_score_thr0.5:0.388004\teval-f1_score_thr0.6:0.404372\teval-f1_score_thr0.7:0.394737\n",
      "[20:42:27] /workspace/src/tree/updater_prune.cc:74: tree pruning end, 1 roots, 34 extra nodes, 0 pruned nodes, max_depth=5\n",
      "[138]\teval-auc:0.902974\teval-f1_score_thr0.2:0.290155\teval-f1_score_thr0.3:0.342246\teval-f1_score_thr0.4:0.371946\teval-f1_score_thr0.5:0.388368\teval-f1_score_thr0.6:0.404372\teval-f1_score_thr0.7:0.394737\n",
      "[20:42:27] /workspace/src/tree/updater_prune.cc:74: tree pruning end, 1 roots, 36 extra nodes, 0 pruned nodes, max_depth=5\n",
      "[139]\teval-auc:0.903003\teval-f1_score_thr0.2:0.290909\teval-f1_score_thr0.3:0.343164\teval-f1_score_thr0.4:0.371542\teval-f1_score_thr0.5:0.389046\teval-f1_score_thr0.6:0.403952\teval-f1_score_thr0.7:0.39314\n",
      "[20:42:28] /workspace/src/tree/updater_prune.cc:74: tree pruning end, 1 roots, 22 extra nodes, 0 pruned nodes, max_depth=5\n",
      "[140]\teval-auc:0.903263\teval-f1_score_thr0.2:0.291515\teval-f1_score_thr0.3:0.343813\teval-f1_score_thr0.4:0.372425\teval-f1_score_thr0.5:0.388004\teval-f1_score_thr0.6:0.404814\teval-f1_score_thr0.7:0.391534\n",
      "[20:42:29] /workspace/src/tree/updater_prune.cc:74: tree pruning end, 1 roots, 34 extra nodes, 0 pruned nodes, max_depth=5\n",
      "[141]\teval-auc:0.903269\teval-f1_score_thr0.2:0.292428\teval-f1_score_thr0.3:0.345662\teval-f1_score_thr0.4:0.371724\teval-f1_score_thr0.5:0.388732\teval-f1_score_thr0.6:0.40484\teval-f1_score_thr0.7:0.391534\n",
      "[20:42:29] /workspace/src/tree/updater_prune.cc:74: tree pruning end, 1 roots, 34 extra nodes, 2 pruned nodes, max_depth=5\n",
      "[142]\teval-auc:0.903345\teval-f1_score_thr0.2:0.293194\teval-f1_score_thr0.3:0.345712\teval-f1_score_thr0.4:0.372611\teval-f1_score_thr0.5:0.387947\teval-f1_score_thr0.6:0.405286\teval-f1_score_thr0.7:0.393094\n",
      "[20:42:30] /workspace/src/tree/updater_prune.cc:74: tree pruning end, 1 roots, 38 extra nodes, 0 pruned nodes, max_depth=5\n",
      "[143]\teval-auc:0.903369\teval-f1_score_thr0.2:0.294118\teval-f1_score_thr0.3:0.344595\teval-f1_score_thr0.4:0.372502\teval-f1_score_thr0.5:0.388313\teval-f1_score_thr0.6:0.403528\teval-f1_score_thr0.7:0.393617\n",
      "[20:42:30] /workspace/src/tree/updater_prune.cc:74: tree pruning end, 1 roots, 36 extra nodes, 0 pruned nodes, max_depth=5\n",
      "[144]\teval-auc:0.90356\teval-f1_score_thr0.2:0.295047\teval-f1_score_thr0.3:0.345295\teval-f1_score_thr0.4:0.375301\teval-f1_score_thr0.5:0.389414\teval-f1_score_thr0.6:0.4\teval-f1_score_thr0.7:0.396277\n",
      "[20:42:31] /workspace/src/tree/updater_prune.cc:74: tree pruning end, 1 roots, 32 extra nodes, 0 pruned nodes, max_depth=5\n",
      "[145]\teval-auc:0.903571\teval-f1_score_thr0.2:0.294648\teval-f1_score_thr0.3:0.345763\teval-f1_score_thr0.4:0.376812\teval-f1_score_thr0.5:0.390521\teval-f1_score_thr0.6:0.402655\teval-f1_score_thr0.7:0.397864\n",
      "[20:42:32] /workspace/src/tree/updater_prune.cc:74: tree pruning end, 1 roots, 26 extra nodes, 2 pruned nodes, max_depth=5\n",
      "[146]\teval-auc:0.903653\teval-f1_score_thr0.2:0.295707\teval-f1_score_thr0.3:0.346467\teval-f1_score_thr0.4:0.376508\teval-f1_score_thr0.5:0.389782\teval-f1_score_thr0.6:0.403974\teval-f1_score_thr0.7:0.396804\n"
     ]
    },
    {
     "name": "stdout",
     "output_type": "stream",
     "text": [
      "[20:42:32] /workspace/src/tree/updater_prune.cc:74: tree pruning end, 1 roots, 40 extra nodes, 0 pruned nodes, max_depth=5\n",
      "[147]\teval-auc:0.903648\teval-f1_score_thr0.2:0.296692\teval-f1_score_thr0.3:0.347885\teval-f1_score_thr0.4:0.378029\teval-f1_score_thr0.5:0.391263\teval-f1_score_thr0.6:0.406215\teval-f1_score_thr0.7:0.398406\n",
      "[20:42:33] /workspace/src/tree/updater_prune.cc:74: tree pruning end, 1 roots, 28 extra nodes, 0 pruned nodes, max_depth=5\n",
      "[148]\teval-auc:0.903794\teval-f1_score_thr0.2:0.296533\teval-f1_score_thr0.3:0.347885\teval-f1_score_thr0.4:0.378117\teval-f1_score_thr0.5:0.390892\teval-f1_score_thr0.6:0.406667\teval-f1_score_thr0.7:0.398406\n",
      "[20:42:33] /workspace/src/tree/updater_prune.cc:74: tree pruning end, 1 roots, 28 extra nodes, 0 pruned nodes, max_depth=5\n",
      "[149]\teval-auc:0.903756\teval-f1_score_thr0.2:0.297964\teval-f1_score_thr0.3:0.348123\teval-f1_score_thr0.4:0.378335\teval-f1_score_thr0.5:0.390892\teval-f1_score_thr0.6:0.404894\teval-f1_score_thr0.7:0.396804\n",
      "[20:42:34] /workspace/src/tree/updater_prune.cc:74: tree pruning end, 1 roots, 28 extra nodes, 0 pruned nodes, max_depth=5\n",
      "[150]\teval-auc:0.903839\teval-f1_score_thr0.2:0.296455\teval-f1_score_thr0.3:0.348361\teval-f1_score_thr0.4:0.380567\teval-f1_score_thr0.5:0.391675\teval-f1_score_thr0.6:0.404444\teval-f1_score_thr0.7:0.397333\n",
      "[20:42:35] /workspace/src/tree/updater_prune.cc:74: tree pruning end, 1 roots, 40 extra nodes, 0 pruned nodes, max_depth=5\n",
      "[151]\teval-auc:0.90375\teval-f1_score_thr0.2:0.296816\teval-f1_score_thr0.3:0.350685\teval-f1_score_thr0.4:0.381184\teval-f1_score_thr0.5:0.395415\teval-f1_score_thr0.6:0.400891\teval-f1_score_thr0.7:0.397333\n",
      "[20:42:35] /workspace/src/tree/updater_prune.cc:74: tree pruning end, 1 roots, 32 extra nodes, 0 pruned nodes, max_depth=5\n",
      "[152]\teval-auc:0.903906\teval-f1_score_thr0.2:0.297619\teval-f1_score_thr0.3:0.350034\teval-f1_score_thr0.4:0.380488\teval-f1_score_thr0.5:0.394258\teval-f1_score_thr0.6:0.402685\teval-f1_score_thr0.7:0.395722\n",
      "[20:42:36] /workspace/src/tree/updater_prune.cc:74: tree pruning end, 1 roots, 28 extra nodes, 0 pruned nodes, max_depth=5\n",
      "[153]\teval-auc:0.904021\teval-f1_score_thr0.2:0.299349\teval-f1_score_thr0.3:0.350275\teval-f1_score_thr0.4:0.380179\teval-f1_score_thr0.5:0.393505\teval-f1_score_thr0.6:0.403567\teval-f1_score_thr0.7:0.397333\n",
      "[20:42:36] /workspace/src/tree/updater_prune.cc:74: tree pruning end, 1 roots, 24 extra nodes, 0 pruned nodes, max_depth=5\n",
      "[154]\teval-auc:0.904027\teval-f1_score_thr0.2:0.299837\teval-f1_score_thr0.3:0.349862\teval-f1_score_thr0.4:0.381729\teval-f1_score_thr0.5:0.393881\teval-f1_score_thr0.6:0.402235\teval-f1_score_thr0.7:0.398396\n",
      "[20:42:37] /workspace/src/tree/updater_prune.cc:74: tree pruning end, 1 roots, 36 extra nodes, 0 pruned nodes, max_depth=5\n",
      "[155]\teval-auc:0.904164\teval-f1_score_thr0.2:0.299564\teval-f1_score_thr0.3:0.351557\teval-f1_score_thr0.4:0.380719\teval-f1_score_thr0.5:0.396172\teval-f1_score_thr0.6:0.404018\teval-f1_score_thr0.7:0.398396\n",
      "[20:42:38] /workspace/src/tree/updater_prune.cc:74: tree pruning end, 1 roots, 28 extra nodes, 0 pruned nodes, max_depth=5\n",
      "[156]\teval-auc:0.904229\teval-f1_score_thr0.2:0.300382\teval-f1_score_thr0.3:0.351145\teval-f1_score_thr0.4:0.380328\teval-f1_score_thr0.5:0.396552\teval-f1_score_thr0.6:0.404922\teval-f1_score_thr0.7:0.398929\n",
      "[20:42:38] /workspace/src/tree/updater_prune.cc:74: tree pruning end, 1 roots, 34 extra nodes, 0 pruned nodes, max_depth=5\n",
      "[157]\teval-auc:0.904289\teval-f1_score_thr0.2:0.302466\teval-f1_score_thr0.3:0.351389\teval-f1_score_thr0.4:0.382909\teval-f1_score_thr0.5:0.398467\teval-f1_score_thr0.6:0.405375\teval-f1_score_thr0.7:0.399464\n",
      "[20:42:39] /workspace/src/tree/updater_prune.cc:74: tree pruning end, 1 roots, 28 extra nodes, 0 pruned nodes, max_depth=5\n",
      "[158]\teval-auc:0.904309\teval-f1_score_thr0.2:0.302632\teval-f1_score_thr0.3:0.350731\teval-f1_score_thr0.4:0.381967\teval-f1_score_thr0.5:0.399616\teval-f1_score_thr0.6:0.403587\teval-f1_score_thr0.7:0.398929\n",
      "[20:42:39] /workspace/src/tree/updater_prune.cc:74: tree pruning end, 1 roots, 40 extra nodes, 0 pruned nodes, max_depth=5\n",
      "[159]\teval-auc:0.904214\teval-f1_score_thr0.2:0.302032\teval-f1_score_thr0.3:0.352613\teval-f1_score_thr0.4:0.382523\teval-f1_score_thr0.5:0.398077\teval-f1_score_thr0.6:0.4027\teval-f1_score_thr0.7:0.399464\n",
      "[20:42:40] /workspace/src/tree/updater_prune.cc:74: tree pruning end, 1 roots, 20 extra nodes, 0 pruned nodes, max_depth=5\n",
      "[160]\teval-auc:0.904374\teval-f1_score_thr0.2:0.301762\teval-f1_score_thr0.3:0.351389\teval-f1_score_thr0.4:0.379538\teval-f1_score_thr0.5:0.39846\teval-f1_score_thr0.6:0.403587\teval-f1_score_thr0.7:0.399464\n",
      "[20:42:41] /workspace/src/tree/updater_prune.cc:74: tree pruning end, 1 roots, 30 extra nodes, 0 pruned nodes, max_depth=5\n",
      "[161]\teval-auc:0.904458\teval-f1_score_thr0.2:0.3037\teval-f1_score_thr0.3:0.351633\teval-f1_score_thr0.4:0.38111\teval-f1_score_thr0.5:0.398844\teval-f1_score_thr0.6:0.405405\teval-f1_score_thr0.7:0.396226\n",
      "[20:42:41] /workspace/src/tree/updater_prune.cc:74: tree pruning end, 1 roots, 48 extra nodes, 0 pruned nodes, max_depth=5\n",
      "[162]\teval-auc:0.904605\teval-f1_score_thr0.2:0.303365\teval-f1_score_thr0.3:0.349582\teval-f1_score_thr0.4:0.383402\teval-f1_score_thr0.5:0.398844\teval-f1_score_thr0.6:0.406321\teval-f1_score_thr0.7:0.396226\n",
      "[20:42:42] /workspace/src/tree/updater_prune.cc:74: tree pruning end, 1 roots, 28 extra nodes, 0 pruned nodes, max_depth=5\n",
      "[163]\teval-auc:0.904826\teval-f1_score_thr0.2:0.304372\teval-f1_score_thr0.3:0.35171\teval-f1_score_thr0.4:0.383085\teval-f1_score_thr0.5:0.399614\teval-f1_score_thr0.6:0.408578\teval-f1_score_thr0.7:0.397297\n",
      "[20:42:43] /workspace/src/tree/updater_prune.cc:74: tree pruning end, 1 roots, 36 extra nodes, 0 pruned nodes, max_depth=5\n",
      "[164]\teval-auc:0.904819\teval-f1_score_thr0.2:0.305047\teval-f1_score_thr0.3:0.350804\teval-f1_score_thr0.4:0.385382\teval-f1_score_thr0.5:0.398453\teval-f1_score_thr0.6:0.405436\teval-f1_score_thr0.7:0.395664\n",
      "[20:42:43] /workspace/src/tree/updater_prune.cc:74: tree pruning end, 1 roots, 22 extra nodes, 0 pruned nodes, max_depth=5\n",
      "[165]\teval-auc:0.904754\teval-f1_score_thr0.2:0.304614\teval-f1_score_thr0.3:0.352528\teval-f1_score_thr0.4:0.386023\teval-f1_score_thr0.5:0.399221\teval-f1_score_thr0.6:0.407281\teval-f1_score_thr0.7:0.396739\n",
      "[20:42:44] /workspace/src/tree/updater_prune.cc:74: tree pruning end, 1 roots, 38 extra nodes, 0 pruned nodes, max_depth=5\n",
      "[166]\teval-auc:0.904728\teval-f1_score_thr0.2:0.305028\teval-f1_score_thr0.3:0.35377\teval-f1_score_thr0.4:0.385\teval-f1_score_thr0.5:0.398827\teval-f1_score_thr0.6:0.410023\teval-f1_score_thr0.7:0.399453\n",
      "[20:42:44] /workspace/src/tree/updater_prune.cc:74: tree pruning end, 1 roots, 24 extra nodes, 0 pruned nodes, max_depth=5\n",
      "[167]\teval-auc:0.904853\teval-f1_score_thr0.2:0.30554\teval-f1_score_thr0.3:0.35427\teval-f1_score_thr0.4:0.384937\teval-f1_score_thr0.5:0.399217\teval-f1_score_thr0.6:0.410959\teval-f1_score_thr0.7:0.399453\n",
      "[20:42:45] /workspace/src/tree/updater_prune.cc:74: tree pruning end, 1 roots, 28 extra nodes, 0 pruned nodes, max_depth=5\n",
      "[168]\teval-auc:0.904848\teval-f1_score_thr0.2:0.305711\teval-f1_score_thr0.3:0.35477\teval-f1_score_thr0.4:0.383906\teval-f1_score_thr0.5:0.399608\teval-f1_score_thr0.6:0.411429\teval-f1_score_thr0.7:0.398907\n",
      "[20:42:46] /workspace/src/tree/updater_prune.cc:74: tree pruning end, 1 roots, 28 extra nodes, 0 pruned nodes, max_depth=5\n",
      "[169]\teval-auc:0.904859\teval-f1_score_thr0.2:0.306914\teval-f1_score_thr0.3:0.35461\teval-f1_score_thr0.4:0.383906\teval-f1_score_thr0.5:0.39726\teval-f1_score_thr0.6:0.405929\teval-f1_score_thr0.7:0.401099\n",
      "[20:42:46] /workspace/src/tree/updater_prune.cc:74: tree pruning end, 1 roots, 34 extra nodes, 0 pruned nodes, max_depth=5\n",
      "[170]\teval-auc:0.904804\teval-f1_score_thr0.2:0.307171\teval-f1_score_thr0.3:0.356534\teval-f1_score_thr0.4:0.383838\teval-f1_score_thr0.5:0.398039\teval-f1_score_thr0.6:0.406897\teval-f1_score_thr0.7:0.399449\n",
      "[20:42:47] /workspace/src/tree/updater_prune.cc:74: tree pruning end, 1 roots, 48 extra nodes, 0 pruned nodes, max_depth=5\n",
      "[171]\teval-auc:0.904975\teval-f1_score_thr0.2:0.307866\teval-f1_score_thr0.3:0.354862\teval-f1_score_thr0.4:0.384874\teval-f1_score_thr0.5:0.398039\teval-f1_score_thr0.6:0.409195\teval-f1_score_thr0.7:0.3989\n",
      "[20:42:47] /workspace/src/tree/updater_prune.cc:74: tree pruning end, 1 roots, 22 extra nodes, 0 pruned nodes, max_depth=5\n",
      "[172]\teval-auc:0.90513\teval-f1_score_thr0.2:0.309267\teval-f1_score_thr0.3:0.356281\teval-f1_score_thr0.4:0.385198\teval-f1_score_thr0.5:0.398821\teval-f1_score_thr0.6:0.410138\teval-f1_score_thr0.7:0.3989\n"
     ]
    },
    {
     "name": "stdout",
     "output_type": "stream",
     "text": [
      "[20:42:48] /workspace/src/tree/updater_prune.cc:74: tree pruning end, 1 roots, 28 extra nodes, 0 pruned nodes, max_depth=5\n",
      "[173]\teval-auc:0.905161\teval-f1_score_thr0.2:0.309619\teval-f1_score_thr0.3:0.35806\teval-f1_score_thr0.4:0.385847\teval-f1_score_thr0.5:0.4\teval-f1_score_thr0.6:0.408776\teval-f1_score_thr0.7:0.399449\n",
      "[20:42:49] /workspace/src/tree/updater_prune.cc:74: tree pruning end, 1 roots, 30 extra nodes, 0 pruned nodes, max_depth=5\n",
      "[174]\teval-auc:0.90527\teval-f1_score_thr0.2:0.311213\teval-f1_score_thr0.3:0.356888\teval-f1_score_thr0.4:0.385135\teval-f1_score_thr0.5:0.400394\teval-f1_score_thr0.6:0.409666\teval-f1_score_thr0.7:0.4\n",
      "[20:42:49] /workspace/src/tree/updater_prune.cc:74: tree pruning end, 1 roots, 30 extra nodes, 0 pruned nodes, max_depth=5\n",
      "[175]\teval-auc:0.905256\teval-f1_score_thr0.2:0.312106\teval-f1_score_thr0.3:0.356989\teval-f1_score_thr0.4:0.382403\teval-f1_score_thr0.5:0.40079\teval-f1_score_thr0.6:0.409195\teval-f1_score_thr0.7:0.400552\n",
      "[20:42:50] /workspace/src/tree/updater_prune.cc:74: tree pruning end, 1 roots, 34 extra nodes, 0 pruned nodes, max_depth=5\n",
      "[176]\teval-auc:0.905289\teval-f1_score_thr0.2:0.312285\teval-f1_score_thr0.3:0.356989\teval-f1_score_thr0.4:0.384746\teval-f1_score_thr0.5:0.40079\teval-f1_score_thr0.6:0.410138\teval-f1_score_thr0.7:0.4\n",
      "[20:42:50] /workspace/src/tree/updater_prune.cc:74: tree pruning end, 1 roots, 34 extra nodes, 0 pruned nodes, max_depth=5\n",
      "[177]\teval-auc:0.905405\teval-f1_score_thr0.2:0.311748\teval-f1_score_thr0.3:0.356066\teval-f1_score_thr0.4:0.383701\teval-f1_score_thr0.5:0.402379\teval-f1_score_thr0.6:0.410611\teval-f1_score_thr0.7:0.4\n",
      "[20:42:51] /workspace/src/tree/updater_prune.cc:74: tree pruning end, 1 roots, 36 extra nodes, 0 pruned nodes, max_depth=5\n",
      "[178]\teval-auc:0.905333\teval-f1_score_thr0.2:0.312032\teval-f1_score_thr0.3:0.358531\teval-f1_score_thr0.4:0.384354\teval-f1_score_thr0.5:0.402778\teval-f1_score_thr0.6:0.411561\teval-f1_score_thr0.7:0.400552\n",
      "[20:42:52] /workspace/src/tree/updater_prune.cc:74: tree pruning end, 1 roots, 28 extra nodes, 0 pruned nodes, max_depth=5\n",
      "[179]\teval-auc:0.905436\teval-f1_score_thr0.2:0.312933\teval-f1_score_thr0.3:0.357864\teval-f1_score_thr0.4:0.385009\teval-f1_score_thr0.5:0.402778\teval-f1_score_thr0.6:0.409302\teval-f1_score_thr0.7:0.39834\n",
      "[20:42:52] /workspace/src/tree/updater_prune.cc:74: tree pruning end, 1 roots, 38 extra nodes, 0 pruned nodes, max_depth=5\n",
      "[180]\teval-auc:0.905485\teval-f1_score_thr0.2:0.314203\teval-f1_score_thr0.3:0.358641\teval-f1_score_thr0.4:0.384681\teval-f1_score_thr0.5:0.403178\teval-f1_score_thr0.6:0.409779\teval-f1_score_thr0.7:0.398892\n",
      "[20:42:53] /workspace/src/tree/updater_prune.cc:74: tree pruning end, 1 roots, 34 extra nodes, 0 pruned nodes, max_depth=5\n",
      "[181]\teval-auc:0.905579\teval-f1_score_thr0.2:0.313657\teval-f1_score_thr0.3:0.357712\teval-f1_score_thr0.4:0.384287\teval-f1_score_thr0.5:0.403579\teval-f1_score_thr0.6:0.408827\teval-f1_score_thr0.7:0.399445\n",
      "[20:42:54] /workspace/src/tree/updater_prune.cc:74: tree pruning end, 1 roots, 38 extra nodes, 0 pruned nodes, max_depth=5\n",
      "[182]\teval-auc:0.905707\teval-f1_score_thr0.2:0.31475\teval-f1_score_thr0.3:0.358231\teval-f1_score_thr0.4:0.384287\teval-f1_score_thr0.5:0.40239\teval-f1_score_thr0.6:0.408353\teval-f1_score_thr0.7:0.398892\n",
      "[20:42:54] /workspace/src/tree/updater_prune.cc:74: tree pruning end, 1 roots, 36 extra nodes, 0 pruned nodes, max_depth=5\n",
      "[183]\teval-auc:0.905741\teval-f1_score_thr0.2:0.3153\teval-f1_score_thr0.3:0.357039\teval-f1_score_thr0.4:0.382177\teval-f1_score_thr0.5:0.401198\teval-f1_score_thr0.6:0.41115\teval-f1_score_thr0.7:0.4\n",
      "[20:42:55] /workspace/src/tree/updater_prune.cc:74: tree pruning end, 1 roots, 26 extra nodes, 0 pruned nodes, max_depth=5\n",
      "[184]\teval-auc:0.905901\teval-f1_score_thr0.2:0.315851\teval-f1_score_thr0.3:0.357818\teval-f1_score_thr0.4:0.383234\teval-f1_score_thr0.5:0.403194\teval-f1_score_thr0.6:0.412107\teval-f1_score_thr0.7:0.4\n",
      "[20:42:55] /workspace/src/tree/updater_prune.cc:74: tree pruning end, 1 roots, 34 extra nodes, 0 pruned nodes, max_depth=5\n",
      "[185]\teval-auc:0.905927\teval-f1_score_thr0.2:0.315421\teval-f1_score_thr0.3:0.359012\teval-f1_score_thr0.4:0.38422\teval-f1_score_thr0.5:0.402792\teval-f1_score_thr0.6:0.413069\teval-f1_score_thr0.7:0.399445\n",
      "[20:42:56] /workspace/src/tree/updater_prune.cc:74: tree pruning end, 1 roots, 38 extra nodes, 0 pruned nodes, max_depth=5\n",
      "[186]\teval-auc:0.905992\teval-f1_score_thr0.2:0.315421\teval-f1_score_thr0.3:0.358339\teval-f1_score_thr0.4:0.382833\teval-f1_score_thr0.5:0.4004\teval-f1_score_thr0.6:0.411696\teval-f1_score_thr0.7:0.397775\n",
      "[20:42:57] /workspace/src/tree/updater_prune.cc:74: tree pruning end, 1 roots, 26 extra nodes, 0 pruned nodes, max_depth=5\n",
      "[187]\teval-auc:0.906015\teval-f1_score_thr0.2:0.316901\teval-f1_score_thr0.3:0.358601\teval-f1_score_thr0.4:0.383491\teval-f1_score_thr0.5:0.400402\teval-f1_score_thr0.6:0.414118\teval-f1_score_thr0.7:0.397775\n",
      "[20:42:57] /workspace/src/tree/updater_prune.cc:74: tree pruning end, 1 roots, 28 extra nodes, 0 pruned nodes, max_depth=5\n",
      "[188]\teval-auc:0.906018\teval-f1_score_thr0.2:0.316657\teval-f1_score_thr0.3:0.358862\teval-f1_score_thr0.4:0.385211\teval-f1_score_thr0.5:0.400402\teval-f1_score_thr0.6:0.414605\teval-f1_score_thr0.7:0.397775\n",
      "[20:42:58] /workspace/src/tree/updater_prune.cc:74: tree pruning end, 1 roots, 32 extra nodes, 0 pruned nodes, max_depth=5\n",
      "[189]\teval-auc:0.90607\teval-f1_score_thr0.2:0.317217\teval-f1_score_thr0.3:0.359386\teval-f1_score_thr0.4:0.385211\teval-f1_score_thr0.5:0.400402\teval-f1_score_thr0.6:0.41225\teval-f1_score_thr0.7:0.397775\n",
      "[20:42:58] /workspace/src/tree/updater_prune.cc:74: tree pruning end, 1 roots, 26 extra nodes, 0 pruned nodes, max_depth=5\n",
      "[190]\teval-auc:0.906075\teval-f1_score_thr0.2:0.318532\teval-f1_score_thr0.3:0.359649\teval-f1_score_thr0.4:0.386207\teval-f1_score_thr0.5:0.40202\teval-f1_score_thr0.6:0.415094\teval-f1_score_thr0.7:0.397775\n",
      "[20:42:59] /workspace/src/tree/updater_prune.cc:74: tree pruning end, 1 roots, 22 extra nodes, 0 pruned nodes, max_depth=5\n",
      "[191]\teval-auc:0.906188\teval-f1_score_thr0.2:0.319098\teval-f1_score_thr0.3:0.358974\teval-f1_score_thr0.4:0.386874\teval-f1_score_thr0.5:0.404858\teval-f1_score_thr0.6:0.415584\teval-f1_score_thr0.7:0.398884\n",
      "[20:43:00] /workspace/src/tree/updater_prune.cc:74: tree pruning end, 1 roots, 36 extra nodes, 0 pruned nodes, max_depth=5\n",
      "[192]\teval-auc:0.906158\teval-f1_score_thr0.2:0.319477\teval-f1_score_thr0.3:0.359238\teval-f1_score_thr0.4:0.386207\teval-f1_score_thr0.5:0.402427\teval-f1_score_thr0.6:0.417556\teval-f1_score_thr0.7:0.397203\n",
      "[20:43:00] /workspace/src/tree/updater_prune.cc:74: tree pruning end, 1 roots, 38 extra nodes, 0 pruned nodes, max_depth=5\n",
      "[193]\teval-auc:0.906208\teval-f1_score_thr0.2:0.320238\teval-f1_score_thr0.3:0.359501\teval-f1_score_thr0.4:0.387208\teval-f1_score_thr0.5:0.403242\teval-f1_score_thr0.6:0.416667\teval-f1_score_thr0.7:0.397203\n",
      "[20:43:01] /workspace/src/tree/updater_prune.cc:74: tree pruning end, 1 roots, 26 extra nodes, 0 pruned nodes, max_depth=5\n",
      "[194]\teval-auc:0.906138\teval-f1_score_thr0.2:0.320238\teval-f1_score_thr0.3:0.359765\teval-f1_score_thr0.4:0.389273\teval-f1_score_thr0.5:0.403242\teval-f1_score_thr0.6:0.415184\teval-f1_score_thr0.7:0.397203\n",
      "[20:43:02] /workspace/src/tree/updater_prune.cc:74: tree pruning end, 1 roots, 36 extra nodes, 0 pruned nodes, max_depth=5\n",
      "[195]\teval-auc:0.906114\teval-f1_score_thr0.2:0.321386\teval-f1_score_thr0.3:0.360825\teval-f1_score_thr0.4:0.389273\teval-f1_score_thr0.5:0.404061\teval-f1_score_thr0.6:0.415677\teval-f1_score_thr0.7:0.40056\n",
      "[20:43:02] /workspace/src/tree/updater_prune.cc:74: tree pruning end, 1 roots, 26 extra nodes, 0 pruned nodes, max_depth=5\n",
      "[196]\teval-auc:0.906177\teval-f1_score_thr0.2:0.321963\teval-f1_score_thr0.3:0.361624\teval-f1_score_thr0.4:0.387489\teval-f1_score_thr0.5:0.405295\teval-f1_score_thr0.6:0.415184\teval-f1_score_thr0.7:0.40056\n",
      "[20:43:03] /workspace/src/tree/updater_prune.cc:74: tree pruning end, 1 roots, 22 extra nodes, 0 pruned nodes, max_depth=5\n",
      "[197]\teval-auc:0.906296\teval-f1_score_thr0.2:0.323123\teval-f1_score_thr0.3:0.360947\teval-f1_score_thr0.4:0.387097\teval-f1_score_thr0.5:0.408163\teval-f1_score_thr0.6:0.415677\teval-f1_score_thr0.7:0.399441\n",
      "[20:43:03] /workspace/src/tree/updater_prune.cc:74: tree pruning end, 1 roots, 24 extra nodes, 0 pruned nodes, max_depth=5\n",
      "[198]\teval-auc:0.90627\teval-f1_score_thr0.2:0.323281\teval-f1_score_thr0.3:0.362018\teval-f1_score_thr0.4:0.388112\teval-f1_score_thr0.5:0.409417\teval-f1_score_thr0.6:0.416667\teval-f1_score_thr0.7:0.401122\n"
     ]
    },
    {
     "name": "stdout",
     "output_type": "stream",
     "text": [
      "[20:43:04] /workspace/src/tree/updater_prune.cc:74: tree pruning end, 1 roots, 34 extra nodes, 0 pruned nodes, max_depth=5\n",
      "[199]\teval-auc:0.906256\teval-f1_score_thr0.2:0.324652\teval-f1_score_thr0.3:0.362018\teval-f1_score_thr0.4:0.387773\teval-f1_score_thr0.5:0.409417\teval-f1_score_thr0.6:0.417163\teval-f1_score_thr0.7:0.401685\n",
      "[20:43:05] /workspace/src/tree/updater_prune.cc:74: tree pruning end, 1 roots, 24 extra nodes, 0 pruned nodes, max_depth=5\n",
      "[200]\teval-auc:0.906257\teval-f1_score_thr0.2:0.324226\teval-f1_score_thr0.3:0.363095\teval-f1_score_thr0.4:0.386702\teval-f1_score_thr0.5:0.4111\teval-f1_score_thr0.6:0.417163\teval-f1_score_thr0.7:0.40225\n",
      "[20:43:05] /workspace/src/tree/updater_prune.cc:74: tree pruning end, 1 roots, 26 extra nodes, 0 pruned nodes, max_depth=5\n",
      "[201]\teval-auc:0.906245\teval-f1_score_thr0.2:0.32561\teval-f1_score_thr0.3:0.363908\teval-f1_score_thr0.4:0.38704\teval-f1_score_thr0.5:0.4111\teval-f1_score_thr0.6:0.417163\teval-f1_score_thr0.7:0.403385\n",
      "[20:43:06] /workspace/src/tree/updater_prune.cc:74: tree pruning end, 1 roots, 36 extra nodes, 0 pruned nodes, max_depth=5\n",
      "[202]\teval-auc:0.906215\teval-f1_score_thr0.2:0.325808\teval-f1_score_thr0.3:0.364179\teval-f1_score_thr0.4:0.38704\teval-f1_score_thr0.5:0.4111\teval-f1_score_thr0.6:0.41866\teval-f1_score_thr0.7:0.4\n",
      "[20:43:06] /workspace/src/tree/updater_prune.cc:74: tree pruning end, 1 roots, 32 extra nodes, 0 pruned nodes, max_depth=5\n",
      "[203]\teval-auc:0.906275\teval-f1_score_thr0.2:0.326805\teval-f1_score_thr0.3:0.364179\teval-f1_score_thr0.4:0.387719\teval-f1_score_thr0.5:0.413223\teval-f1_score_thr0.6:0.416268\teval-f1_score_thr0.7:0.40113\n",
      "[20:43:07] /workspace/src/tree/updater_prune.cc:74: tree pruning end, 1 roots, 42 extra nodes, 0 pruned nodes, max_depth=5\n",
      "[204]\teval-auc:0.906222\teval-f1_score_thr0.2:0.327808\teval-f1_score_thr0.3:0.362004\teval-f1_score_thr0.4:0.387719\teval-f1_score_thr0.5:0.41365\teval-f1_score_thr0.6:0.417767\teval-f1_score_thr0.7:0.400564\n",
      "[20:43:08] /workspace/src/tree/updater_prune.cc:74: tree pruning end, 1 roots, 22 extra nodes, 0 pruned nodes, max_depth=5\n",
      "[205]\teval-auc:0.906291\teval-f1_score_thr0.2:0.326781\teval-f1_score_thr0.3:0.3635\teval-f1_score_thr0.4:0.390158\teval-f1_score_thr0.5:0.412435\teval-f1_score_thr0.6:0.417767\teval-f1_score_thr0.7:0.40113\n",
      "[20:43:08] /workspace/src/tree/updater_prune.cc:74: tree pruning end, 1 roots, 14 extra nodes, 0 pruned nodes, max_depth=5\n",
      "[206]\teval-auc:0.906262\teval-f1_score_thr0.2:0.32618\teval-f1_score_thr0.3:0.364045\teval-f1_score_thr0.4:0.388742\teval-f1_score_thr0.5:0.414079\teval-f1_score_thr0.6:0.416867\teval-f1_score_thr0.7:0.401697\n",
      "[20:43:09] /workspace/src/tree/updater_prune.cc:74: tree pruning end, 1 roots, 32 extra nodes, 0 pruned nodes, max_depth=5\n",
      "[207]\teval-auc:0.906255\teval-f1_score_thr0.2:0.325781\teval-f1_score_thr0.3:0.364591\teval-f1_score_thr0.4:0.387665\teval-f1_score_thr0.5:0.412863\teval-f1_score_thr0.6:0.418269\teval-f1_score_thr0.7:0.402266\n",
      "[20:43:09] /workspace/src/tree/updater_prune.cc:74: tree pruning end, 1 roots, 24 extra nodes, 0 pruned nodes, max_depth=5\n",
      "[208]\teval-auc:0.906291\teval-f1_score_thr0.2:0.326982\teval-f1_score_thr0.3:0.364865\teval-f1_score_thr0.4:0.387268\teval-f1_score_thr0.5:0.413721\teval-f1_score_thr0.6:0.416867\teval-f1_score_thr0.7:0.402266\n",
      "[20:43:10] /workspace/src/tree/updater_prune.cc:74: tree pruning end, 1 roots, 30 extra nodes, 0 pruned nodes, max_depth=5\n",
      "[209]\teval-auc:0.906318\teval-f1_score_thr0.2:0.327586\teval-f1_score_thr0.3:0.364865\teval-f1_score_thr0.4:0.387611\teval-f1_score_thr0.5:0.412071\teval-f1_score_thr0.6:0.414458\teval-f1_score_thr0.7:0.4\n",
      "[20:43:11] /workspace/src/tree/updater_prune.cc:74: tree pruning end, 1 roots, 34 extra nodes, 0 pruned nodes, max_depth=5\n",
      "[210]\teval-auc:0.906311\teval-f1_score_thr0.2:0.327788\teval-f1_score_thr0.3:0.365688\teval-f1_score_thr0.4:0.388642\teval-f1_score_thr0.5:0.410845\teval-f1_score_thr0.6:0.41737\teval-f1_score_thr0.7:0.403409\n",
      "[20:43:11] /workspace/src/tree/updater_prune.cc:74: tree pruning end, 1 roots, 26 extra nodes, 0 pruned nodes, max_depth=5\n",
      "[211]\teval-auc:0.906322\teval-f1_score_thr0.2:0.327586\teval-f1_score_thr0.3:0.364458\teval-f1_score_thr0.4:0.387556\teval-f1_score_thr0.5:0.411703\teval-f1_score_thr0.6:0.417874\teval-f1_score_thr0.7:0.403409\n",
      "[20:43:12] /workspace/src/tree/updater_prune.cc:74: tree pruning end, 1 roots, 22 extra nodes, 0 pruned nodes, max_depth=5\n",
      "[212]\teval-auc:0.906397\teval-f1_score_thr0.2:0.327385\teval-f1_score_thr0.3:0.36624\teval-f1_score_thr0.4:0.387556\teval-f1_score_thr0.5:0.410901\teval-f1_score_thr0.6:0.41737\teval-f1_score_thr0.7:0.403409\n",
      "[20:43:13] /workspace/src/tree/updater_prune.cc:74: tree pruning end, 1 roots, 30 extra nodes, 0 pruned nodes, max_depth=5\n",
      "[213]\teval-auc:0.906481\teval-f1_score_thr0.2:0.327788\teval-f1_score_thr0.3:0.365964\teval-f1_score_thr0.4:0.387211\teval-f1_score_thr0.5:0.412565\teval-f1_score_thr0.6:0.413543\teval-f1_score_thr0.7:0.401138\n",
      "[20:43:13] /workspace/src/tree/updater_prune.cc:74: tree pruning end, 1 roots, 38 extra nodes, 0 pruned nodes, max_depth=5\n",
      "[214]\teval-auc:0.906371\teval-f1_score_thr0.2:0.328598\teval-f1_score_thr0.3:0.363636\teval-f1_score_thr0.4:0.388642\teval-f1_score_thr0.5:0.411333\teval-f1_score_thr0.6:0.415459\teval-f1_score_thr0.7:0.401138\n",
      "[20:43:14] /workspace/src/tree/updater_prune.cc:74: tree pruning end, 1 roots, 28 extra nodes, 0 pruned nodes, max_depth=5\n",
      "[215]\teval-auc:0.906515\teval-f1_score_thr0.2:0.328395\teval-f1_score_thr0.3:0.365152\teval-f1_score_thr0.4:0.389381\teval-f1_score_thr0.5:0.41553\teval-f1_score_thr0.6:0.414044\teval-f1_score_thr0.7:0.401709\n",
      "[20:43:14] /workspace/src/tree/updater_prune.cc:74: tree pruning end, 1 roots, 34 extra nodes, 0 pruned nodes, max_depth=5\n",
      "[216]\teval-auc:0.906504\teval-f1_score_thr0.2:0.329004\teval-f1_score_thr0.3:0.363775\teval-f1_score_thr0.4:0.390764\teval-f1_score_thr0.5:0.413866\teval-f1_score_thr0.6:0.414545\teval-f1_score_thr0.7:0.399429\n",
      "[20:43:15] /workspace/src/tree/updater_prune.cc:74: tree pruning end, 1 roots, 28 extra nodes, 0 pruned nodes, max_depth=5\n",
      "[217]\teval-auc:0.906408\teval-f1_score_thr0.2:0.329616\teval-f1_score_thr0.3:0.363222\teval-f1_score_thr0.4:0.390027\teval-f1_score_thr0.5:0.415174\teval-f1_score_thr0.6:0.413123\teval-f1_score_thr0.7:0.4\n",
      "[20:43:16] /workspace/src/tree/updater_prune.cc:74: tree pruning end, 1 roots, 24 extra nodes, 0 pruned nodes, max_depth=5\n",
      "[218]\teval-auc:0.906468\teval-f1_score_thr0.2:0.328988\teval-f1_score_thr0.3:0.363498\teval-f1_score_thr0.4:0.389634\teval-f1_score_thr0.5:0.414376\teval-f1_score_thr0.6:0.409756\teval-f1_score_thr0.7:0.400572\n",
      "[20:43:16] /workspace/src/tree/updater_prune.cc:74: tree pruning end, 1 roots, 14 extra nodes, 0 pruned nodes, max_depth=5\n",
      "[219]\teval-auc:0.906446\teval-f1_score_thr0.2:0.329602\teval-f1_score_thr0.3:0.364052\teval-f1_score_thr0.4:0.390681\teval-f1_score_thr0.5:0.412262\teval-f1_score_thr0.6:0.411693\teval-f1_score_thr0.7:0.401722\n",
      "[20:43:17] /workspace/src/tree/updater_prune.cc:74: tree pruning end, 1 roots, 34 extra nodes, 0 pruned nodes, max_depth=5\n",
      "[220]\teval-auc:0.906476\teval-f1_score_thr0.2:0.330012\teval-f1_score_thr0.3:0.363082\teval-f1_score_thr0.4:0.392473\teval-f1_score_thr0.5:0.412262\teval-f1_score_thr0.6:0.405372\teval-f1_score_thr0.7:0.402299\n",
      "[20:43:17] /workspace/src/tree/updater_prune.cc:74: tree pruning end, 1 roots, 30 extra nodes, 0 pruned nodes, max_depth=5\n",
      "[221]\teval-auc:0.906454\teval-f1_score_thr0.2:0.331043\teval-f1_score_thr0.3:0.364193\teval-f1_score_thr0.4:0.391382\teval-f1_score_thr0.5:0.412698\teval-f1_score_thr0.6:0.406863\teval-f1_score_thr0.7:0.402299\n",
      "[20:43:18] /workspace/src/tree/updater_prune.cc:74: tree pruning end, 1 roots, 28 extra nodes, 0 pruned nodes, max_depth=5\n",
      "[222]\teval-auc:0.906455\teval-f1_score_thr0.2:0.331665\teval-f1_score_thr0.3:0.364751\teval-f1_score_thr0.4:0.390288\teval-f1_score_thr0.5:0.409766\teval-f1_score_thr0.6:0.407862\teval-f1_score_thr0.7:0.402878\n",
      "[20:43:19] /workspace/src/tree/updater_prune.cc:74: tree pruning end, 1 roots, 26 extra nodes, 0 pruned nodes, max_depth=5\n",
      "[223]\teval-auc:0.906411\teval-f1_score_thr0.2:0.331665\teval-f1_score_thr0.3:0.364751\teval-f1_score_thr0.4:0.391697\teval-f1_score_thr0.5:0.410202\teval-f1_score_thr0.6:0.409816\teval-f1_score_thr0.7:0.40404\n",
      "[20:43:19] /workspace/src/tree/updater_prune.cc:74: tree pruning end, 1 roots, 34 extra nodes, 0 pruned nodes, max_depth=5\n",
      "[224]\teval-auc:0.906456\teval-f1_score_thr0.2:0.332497\teval-f1_score_thr0.3:0.365311\teval-f1_score_thr0.4:0.392051\teval-f1_score_thr0.5:0.409766\teval-f1_score_thr0.6:0.407862\teval-f1_score_thr0.7:0.40404\n"
     ]
    },
    {
     "name": "stdout",
     "output_type": "stream",
     "text": [
      "[20:43:20] /workspace/src/tree/updater_prune.cc:74: tree pruning end, 1 roots, 24 extra nodes, 0 pruned nodes, max_depth=5\n",
      "[225]\teval-auc:0.906497\teval-f1_score_thr0.2:0.332497\teval-f1_score_thr0.3:0.365031\teval-f1_score_thr0.4:0.395664\teval-f1_score_thr0.5:0.408077\teval-f1_score_thr0.6:0.408364\teval-f1_score_thr0.7:0.408696\n",
      "[20:43:20] /workspace/src/tree/updater_prune.cc:74: tree pruning end, 1 roots, 34 extra nodes, 0 pruned nodes, max_depth=5\n",
      "[226]\teval-auc:0.906553\teval-f1_score_thr0.2:0.332915\teval-f1_score_thr0.3:0.366718\teval-f1_score_thr0.4:0.395286\teval-f1_score_thr0.5:0.406816\teval-f1_score_thr0.6:0.406404\teval-f1_score_thr0.7:0.408104\n",
      "[20:43:21] /workspace/src/tree/updater_prune.cc:74: tree pruning end, 1 roots, 24 extra nodes, 0 pruned nodes, max_depth=5\n",
      "[227]\teval-auc:0.906607\teval-f1_score_thr0.2:0.333124\teval-f1_score_thr0.3:0.367001\teval-f1_score_thr0.4:0.396364\teval-f1_score_thr0.5:0.410638\teval-f1_score_thr0.6:0.406905\teval-f1_score_thr0.7:0.407514\n",
      "[20:43:22] /workspace/src/tree/updater_prune.cc:74: tree pruning end, 1 roots, 30 extra nodes, 0 pruned nodes, max_depth=5\n",
      "[228]\teval-auc:0.906681\teval-f1_score_thr0.2:0.333543\teval-f1_score_thr0.3:0.366154\teval-f1_score_thr0.4:0.396004\teval-f1_score_thr0.5:0.409382\teval-f1_score_thr0.6:0.403941\teval-f1_score_thr0.7:0.408696\n",
      "[20:43:22] /workspace/src/tree/updater_prune.cc:74: tree pruning end, 1 roots, 36 extra nodes, 0 pruned nodes, max_depth=5\n",
      "[229]\teval-auc:0.906635\teval-f1_score_thr0.2:0.333543\teval-f1_score_thr0.3:0.367001\teval-f1_score_thr0.4:0.395644\teval-f1_score_thr0.5:0.410256\teval-f1_score_thr0.6:0.404439\teval-f1_score_thr0.7:0.407514\n",
      "[20:43:23] /workspace/src/tree/updater_prune.cc:74: tree pruning end, 1 roots, 22 extra nodes, 0 pruned nodes, max_depth=5\n",
      "[230]\teval-auc:0.906704\teval-f1_score_thr0.2:0.333963\teval-f1_score_thr0.3:0.367001\teval-f1_score_thr0.4:0.395644\teval-f1_score_thr0.5:0.408556\teval-f1_score_thr0.6:0.404938\teval-f1_score_thr0.7:0.408104\n",
      "[20:43:23] /workspace/src/tree/updater_prune.cc:74: tree pruning end, 1 roots, 24 extra nodes, 0 pruned nodes, max_depth=5\n",
      "[231]\teval-auc:0.906689\teval-f1_score_thr0.2:0.334385\teval-f1_score_thr0.3:0.368136\teval-f1_score_thr0.4:0.395264\teval-f1_score_thr0.5:0.406852\teval-f1_score_thr0.6:0.405439\teval-f1_score_thr0.7:0.409289\n",
      "[20:43:24] /workspace/src/tree/updater_prune.cc:74: tree pruning end, 1 roots, 34 extra nodes, 0 pruned nodes, max_depth=5\n",
      "[232]\teval-auc:0.906716\teval-f1_score_thr0.2:0.334596\teval-f1_score_thr0.3:0.368421\teval-f1_score_thr0.4:0.395624\teval-f1_score_thr0.5:0.406852\teval-f1_score_thr0.6:0.404938\teval-f1_score_thr0.7:0.409289\n",
      "[20:43:25] /workspace/src/tree/updater_prune.cc:74: tree pruning end, 1 roots, 24 extra nodes, 0 pruned nodes, max_depth=5\n",
      "[233]\teval-auc:0.906712\teval-f1_score_thr0.2:0.333544\teval-f1_score_thr0.3:0.369279\teval-f1_score_thr0.4:0.397448\teval-f1_score_thr0.5:0.406852\teval-f1_score_thr0.6:0.404938\teval-f1_score_thr0.7:0.406386\n",
      "[20:43:25] /workspace/src/tree/updater_prune.cc:74: tree pruning end, 1 roots, 40 extra nodes, 2 pruned nodes, max_depth=5\n",
      "[234]\teval-auc:0.906926\teval-f1_score_thr0.2:0.333966\teval-f1_score_thr0.3:0.368421\teval-f1_score_thr0.4:0.397086\teval-f1_score_thr0.5:0.407288\teval-f1_score_thr0.6:0.405439\teval-f1_score_thr0.7:0.406386\n",
      "[20:43:26] /workspace/src/tree/updater_prune.cc:74: tree pruning end, 1 roots, 34 extra nodes, 0 pruned nodes, max_depth=5\n",
      "[235]\teval-auc:0.906903\teval-f1_score_thr0.2:0.334389\teval-f1_score_thr0.3:0.368992\teval-f1_score_thr0.4:0.399267\teval-f1_score_thr0.5:0.408163\teval-f1_score_thr0.6:0.406444\teval-f1_score_thr0.7:0.406977\n",
      "[20:43:27] /workspace/src/tree/updater_prune.cc:74: tree pruning end, 1 roots, 32 extra nodes, 0 pruned nodes, max_depth=5\n",
      "[236]\teval-auc:0.906924\teval-f1_score_thr0.2:0.335238\teval-f1_score_thr0.3:0.369852\teval-f1_score_thr0.4:0.400367\teval-f1_score_thr0.5:0.408602\teval-f1_score_thr0.6:0.406444\teval-f1_score_thr0.7:0.403509\n",
      "[20:43:27] /workspace/src/tree/updater_prune.cc:74: tree pruning end, 1 roots, 28 extra nodes, 0 pruned nodes, max_depth=5\n",
      "[237]\teval-auc:0.906979\teval-f1_score_thr0.2:0.335245\teval-f1_score_thr0.3:0.369447\teval-f1_score_thr0.4:0.400735\teval-f1_score_thr0.5:0.409042\teval-f1_score_thr0.6:0.406444\teval-f1_score_thr0.7:0.405248\n",
      "[20:43:28] /workspace/src/tree/updater_prune.cc:74: tree pruning end, 1 roots, 26 extra nodes, 2 pruned nodes, max_depth=5\n",
      "[238]\teval-auc:0.906996\teval-f1_score_thr0.2:0.335673\teval-f1_score_thr0.3:0.370602\teval-f1_score_thr0.4:0.401473\teval-f1_score_thr0.5:0.409483\teval-f1_score_thr0.6:0.406444\teval-f1_score_thr0.7:0.405839\n",
      "[20:43:28] /workspace/src/tree/updater_prune.cc:74: tree pruning end, 1 roots, 28 extra nodes, 2 pruned nodes, max_depth=5\n",
      "[239]\teval-auc:0.906978\teval-f1_score_thr0.2:0.335459\teval-f1_score_thr0.3:0.370892\teval-f1_score_thr0.4:0.401473\teval-f1_score_thr0.5:0.410367\teval-f1_score_thr0.6:0.406948\teval-f1_score_thr0.7:0.407028\n",
      "[20:43:29] /workspace/src/tree/updater_prune.cc:74: tree pruning end, 1 roots, 24 extra nodes, 0 pruned nodes, max_depth=5\n",
      "[240]\teval-auc:0.90702\teval-f1_score_thr0.2:0.335888\teval-f1_score_thr0.3:0.371473\teval-f1_score_thr0.4:0.401843\teval-f1_score_thr0.5:0.411255\teval-f1_score_thr0.6:0.407453\teval-f1_score_thr0.7:0.408824\n",
      "[20:43:30] /workspace/src/tree/updater_prune.cc:74: tree pruning end, 1 roots, 30 extra nodes, 0 pruned nodes, max_depth=5\n",
      "[241]\teval-auc:0.906988\teval-f1_score_thr0.2:0.335253\teval-f1_score_thr0.3:0.370892\teval-f1_score_thr0.4:0.402957\teval-f1_score_thr0.5:0.411255\teval-f1_score_thr0.6:0.40796\teval-f1_score_thr0.7:0.408824\n",
      "[20:43:30] /workspace/src/tree/updater_prune.cc:74: tree pruning end, 1 roots, 30 extra nodes, 0 pruned nodes, max_depth=5\n",
      "[242]\teval-auc:0.90701\teval-f1_score_thr0.2:0.335467\teval-f1_score_thr0.3:0.372349\teval-f1_score_thr0.4:0.402224\teval-f1_score_thr0.5:0.411255\teval-f1_score_thr0.6:0.406991\teval-f1_score_thr0.7:0.408824\n",
      "[20:43:31] /workspace/src/tree/updater_prune.cc:74: tree pruning end, 1 roots, 26 extra nodes, 0 pruned nodes, max_depth=5\n",
      "[243]\teval-auc:0.906954\teval-f1_score_thr0.2:0.336329\teval-f1_score_thr0.3:0.372935\teval-f1_score_thr0.4:0.402224\teval-f1_score_thr0.5:0.411701\teval-f1_score_thr0.6:0.406991\teval-f1_score_thr0.7:0.408824\n",
      "[20:43:31] /workspace/src/tree/updater_prune.cc:74: tree pruning end, 1 roots, 40 extra nodes, 0 pruned nodes, max_depth=5\n",
      "[244]\teval-auc:0.907174\teval-f1_score_thr0.2:0.336545\teval-f1_score_thr0.3:0.373522\teval-f1_score_thr0.4:0.401852\teval-f1_score_thr0.5:0.412148\teval-f1_score_thr0.6:0.406991\teval-f1_score_thr0.7:0.409426\n",
      "[20:43:32] /workspace/src/tree/updater_prune.cc:74: tree pruning end, 1 roots, 30 extra nodes, 0 pruned nodes, max_depth=5\n",
      "[245]\teval-auc:0.907191\teval-f1_score_thr0.2:0.337411\teval-f1_score_thr0.3:0.373817\teval-f1_score_thr0.4:0.401852\teval-f1_score_thr0.5:0.410423\teval-f1_score_thr0.6:0.406991\teval-f1_score_thr0.7:0.410029\n",
      "[20:43:33] /workspace/src/tree/updater_prune.cc:74: tree pruning end, 1 roots, 30 extra nodes, 0 pruned nodes, max_depth=5\n",
      "[246]\teval-auc:0.907163\teval-f1_score_thr0.2:0.337194\teval-f1_score_thr0.3:0.373228\teval-f1_score_thr0.4:0.401852\teval-f1_score_thr0.5:0.41087\teval-f1_score_thr0.6:0.406991\teval-f1_score_thr0.7:0.409426\n",
      "[20:43:33] /workspace/src/tree/updater_prune.cc:74: tree pruning end, 1 roots, 34 extra nodes, 0 pruned nodes, max_depth=5\n",
      "[247]\teval-auc:0.907116\teval-f1_score_thr0.2:0.338501\teval-f1_score_thr0.3:0.374704\teval-f1_score_thr0.4:0.401852\teval-f1_score_thr0.5:0.406557\teval-f1_score_thr0.6:0.4075\teval-f1_score_thr0.7:0.409426\n",
      "[20:43:34] /workspace/src/tree/updater_prune.cc:74: tree pruning end, 1 roots, 28 extra nodes, 0 pruned nodes, max_depth=5\n",
      "[248]\teval-auc:0.907167\teval-f1_score_thr0.2:0.336992\teval-f1_score_thr0.3:0.373418\teval-f1_score_thr0.4:0.403346\teval-f1_score_thr0.5:0.408297\teval-f1_score_thr0.6:0.408521\teval-f1_score_thr0.7:0.410635\n",
      "[20:43:34] /workspace/src/tree/updater_prune.cc:74: tree pruning end, 1 roots, 24 extra nodes, 0 pruned nodes, max_depth=5\n",
      "[249]\teval-auc:0.907149\teval-f1_score_thr0.2:0.338083\teval-f1_score_thr0.3:0.372425\teval-f1_score_thr0.4:0.403721\teval-f1_score_thr0.5:0.408743\teval-f1_score_thr0.6:0.410063\teval-f1_score_thr0.7:0.407681\n",
      "[20:43:35] /workspace/src/tree/updater_prune.cc:74: tree pruning end, 1 roots, 32 extra nodes, 0 pruned nodes, max_depth=5\n",
      "[250]\teval-auc:0.907193\teval-f1_score_thr0.2:0.337864\teval-f1_score_thr0.3:0.372425\teval-f1_score_thr0.4:0.403346\teval-f1_score_thr0.5:0.407895\teval-f1_score_thr0.6:0.410579\teval-f1_score_thr0.7:0.408284\n"
     ]
    },
    {
     "name": "stdout",
     "output_type": "stream",
     "text": [
      "[20:43:36] /workspace/src/tree/updater_prune.cc:74: tree pruning end, 1 roots, 28 extra nodes, 0 pruned nodes, max_depth=5\n",
      "[251]\teval-auc:0.907208\teval-f1_score_thr0.2:0.338083\teval-f1_score_thr0.3:0.372425\teval-f1_score_thr0.4:0.404851\teval-f1_score_thr0.5:0.411894\teval-f1_score_thr0.6:0.411097\teval-f1_score_thr0.7:0.409496\n",
      "[20:43:36] /workspace/src/tree/updater_prune.cc:74: tree pruning end, 1 roots, 28 extra nodes, 0 pruned nodes, max_depth=5\n",
      "[252]\teval-auc:0.907203\teval-f1_score_thr0.2:0.338521\teval-f1_score_thr0.3:0.373906\teval-f1_score_thr0.4:0.405607\teval-f1_score_thr0.5:0.410596\teval-f1_score_thr0.6:0.411097\teval-f1_score_thr0.7:0.409496\n",
      "[20:43:37] /workspace/src/tree/updater_prune.cc:74: tree pruning end, 1 roots, 28 extra nodes, 0 pruned nodes, max_depth=5\n",
      "[253]\teval-auc:0.907234\teval-f1_score_thr0.2:0.338741\teval-f1_score_thr0.3:0.373504\teval-f1_score_thr0.4:0.404116\teval-f1_score_thr0.5:0.410143\teval-f1_score_thr0.6:0.409091\teval-f1_score_thr0.7:0.409496\n",
      "[20:43:38] /workspace/src/tree/updater_prune.cc:74: tree pruning end, 1 roots, 24 extra nodes, 0 pruned nodes, max_depth=5\n",
      "[254]\teval-auc:0.907288\teval-f1_score_thr0.2:0.338961\teval-f1_score_thr0.3:0.374101\teval-f1_score_thr0.4:0.404116\teval-f1_score_thr0.5:0.41105\teval-f1_score_thr0.6:0.407595\teval-f1_score_thr0.7:0.408346\n",
      "[20:43:38] /workspace/src/tree/updater_prune.cc:74: tree pruning end, 1 roots, 28 extra nodes, 0 pruned nodes, max_depth=5\n",
      "[255]\teval-auc:0.907326\teval-f1_score_thr0.2:0.338961\teval-f1_score_thr0.3:0.375\teval-f1_score_thr0.4:0.406367\teval-f1_score_thr0.5:0.412804\teval-f1_score_thr0.6:0.407595\teval-f1_score_thr0.7:0.40597\n",
      "[20:43:39] /workspace/src/tree/updater_prune.cc:74: tree pruning end, 1 roots, 26 extra nodes, 0 pruned nodes, max_depth=5\n",
      "[256]\teval-auc:0.907317\teval-f1_score_thr0.2:0.338741\teval-f1_score_thr0.3:0.375301\teval-f1_score_thr0.4:0.407129\teval-f1_score_thr0.5:0.412348\teval-f1_score_thr0.6:0.407595\teval-f1_score_thr0.7:0.408346\n",
      "[20:43:39] /workspace/src/tree/updater_prune.cc:74: tree pruning end, 1 roots, 16 extra nodes, 0 pruned nodes, max_depth=5\n",
      "[257]\teval-auc:0.907375\teval-f1_score_thr0.2:0.338961\teval-f1_score_thr0.3:0.375\teval-f1_score_thr0.4:0.40678\teval-f1_score_thr0.5:0.41326\teval-f1_score_thr0.6:0.408112\teval-f1_score_thr0.7:0.41194\n",
      "[20:43:40] /workspace/src/tree/updater_prune.cc:74: tree pruning end, 1 roots, 28 extra nodes, 0 pruned nodes, max_depth=5\n",
      "[258]\teval-auc:0.907402\teval-f1_score_thr0.2:0.338741\teval-f1_score_thr0.3:0.375301\teval-f1_score_thr0.4:0.40678\teval-f1_score_thr0.5:0.412804\teval-f1_score_thr0.6:0.408112\teval-f1_score_thr0.7:0.409567\n",
      "[20:43:41] /workspace/src/tree/updater_prune.cc:74: tree pruning end, 1 roots, 30 extra nodes, 2 pruned nodes, max_depth=5\n",
      "[259]\teval-auc:0.907478\teval-f1_score_thr0.2:0.338741\teval-f1_score_thr0.3:0.375904\teval-f1_score_thr0.4:0.40678\teval-f1_score_thr0.5:0.413717\teval-f1_score_thr0.6:0.408112\teval-f1_score_thr0.7:0.408955\n",
      "[20:43:41] /workspace/src/tree/updater_prune.cc:74: tree pruning end, 1 roots, 34 extra nodes, 0 pruned nodes, max_depth=5\n",
      "[260]\teval-auc:0.907706\teval-f1_score_thr0.2:0.339623\teval-f1_score_thr0.3:0.376206\teval-f1_score_thr0.4:0.407932\teval-f1_score_thr0.5:0.415094\teval-f1_score_thr0.6:0.406607\teval-f1_score_thr0.7:0.41018\n",
      "[20:43:42] /workspace/src/tree/updater_prune.cc:74: tree pruning end, 1 roots, 26 extra nodes, 0 pruned nodes, max_depth=5\n",
      "[261]\teval-auc:0.907721\teval-f1_score_thr0.2:0.339181\teval-f1_score_thr0.3:0.376206\teval-f1_score_thr0.4:0.408318\teval-f1_score_thr0.5:0.413333\teval-f1_score_thr0.6:0.405612\teval-f1_score_thr0.7:0.410795\n",
      "[20:43:42] /workspace/src/tree/updater_prune.cc:74: tree pruning end, 1 roots, 32 extra nodes, 0 pruned nodes, max_depth=5\n",
      "[262]\teval-auc:0.907715\teval-f1_score_thr0.2:0.339181\teval-f1_score_thr0.3:0.376206\teval-f1_score_thr0.4:0.408704\teval-f1_score_thr0.5:0.415556\teval-f1_score_thr0.6:0.410191\teval-f1_score_thr0.7:0.407796\n",
      "[20:43:43] /workspace/src/tree/updater_prune.cc:74: tree pruning end, 1 roots, 40 extra nodes, 0 pruned nodes, max_depth=5\n",
      "[263]\teval-auc:0.907815\teval-f1_score_thr0.2:0.339181\teval-f1_score_thr0.3:0.377419\teval-f1_score_thr0.4:0.408704\teval-f1_score_thr0.5:0.412875\teval-f1_score_thr0.6:0.409669\teval-f1_score_thr0.7:0.407186\n",
      "[20:43:44] /workspace/src/tree/updater_prune.cc:74: tree pruning end, 1 roots, 26 extra nodes, 0 pruned nodes, max_depth=5\n",
      "[264]\teval-auc:0.907838\teval-f1_score_thr0.2:0.339623\teval-f1_score_thr0.3:0.376812\teval-f1_score_thr0.4:0.409091\teval-f1_score_thr0.5:0.412417\teval-f1_score_thr0.6:0.412214\teval-f1_score_thr0.7:0.407186\n",
      "[20:43:44] /workspace/src/tree/updater_prune.cc:74: tree pruning end, 1 roots, 24 extra nodes, 0 pruned nodes, max_depth=5\n",
      "[265]\teval-auc:0.907973\teval-f1_score_thr0.2:0.339844\teval-f1_score_thr0.3:0.376508\teval-f1_score_thr0.4:0.409091\teval-f1_score_thr0.5:0.413717\teval-f1_score_thr0.6:0.408163\teval-f1_score_thr0.7:0.406577\n",
      "[20:43:45] /workspace/src/tree/updater_prune.cc:74: tree pruning end, 1 roots, 32 extra nodes, 0 pruned nodes, max_depth=5\n",
      "[266]\teval-auc:0.907956\teval-f1_score_thr0.2:0.340287\teval-f1_score_thr0.3:0.376508\teval-f1_score_thr0.4:0.409091\teval-f1_score_thr0.5:0.414634\teval-f1_score_thr0.6:0.407643\teval-f1_score_thr0.7:0.406577\n",
      "[20:43:45] /workspace/src/tree/updater_prune.cc:74: tree pruning end, 1 roots, 30 extra nodes, 0 pruned nodes, max_depth=5\n",
      "[267]\teval-auc:0.90791\teval-f1_score_thr0.2:0.340731\teval-f1_score_thr0.3:0.378029\teval-f1_score_thr0.4:0.409479\teval-f1_score_thr0.5:0.413333\teval-f1_score_thr0.6:0.40613\teval-f1_score_thr0.7:0.408408\n",
      "[20:43:46] /workspace/src/tree/updater_prune.cc:74: tree pruning end, 1 roots, 26 extra nodes, 0 pruned nodes, max_depth=5\n",
      "[268]\teval-auc:0.90793\teval-f1_score_thr0.2:0.341623\teval-f1_score_thr0.3:0.377724\teval-f1_score_thr0.4:0.410256\teval-f1_score_thr0.5:0.412875\teval-f1_score_thr0.6:0.40613\teval-f1_score_thr0.7:0.407186\n",
      "[20:43:47] /workspace/src/tree/updater_prune.cc:74: tree pruning end, 1 roots, 28 extra nodes, 0 pruned nodes, max_depth=5\n",
      "[269]\teval-auc:0.908014\teval-f1_score_thr0.2:0.341847\teval-f1_score_thr0.3:0.378335\teval-f1_score_thr0.4:0.410646\teval-f1_score_thr0.5:0.414254\teval-f1_score_thr0.6:0.40665\teval-f1_score_thr0.7:0.407796\n",
      "[20:43:47] /workspace/src/tree/updater_prune.cc:74: tree pruning end, 1 roots, 12 extra nodes, 0 pruned nodes, max_depth=5\n",
      "[270]\teval-auc:0.907976\teval-f1_score_thr0.2:0.341847\teval-f1_score_thr0.3:0.378641\teval-f1_score_thr0.4:0.411037\teval-f1_score_thr0.5:0.414254\teval-f1_score_thr0.6:0.40717\teval-f1_score_thr0.7:0.407186\n",
      "[20:43:48] /workspace/src/tree/updater_prune.cc:74: tree pruning end, 1 roots, 34 extra nodes, 0 pruned nodes, max_depth=5\n",
      "[271]\teval-auc:0.908001\teval-f1_score_thr0.2:0.342745\teval-f1_score_thr0.3:0.378641\teval-f1_score_thr0.4:0.411037\teval-f1_score_thr0.5:0.414716\teval-f1_score_thr0.6:0.40665\teval-f1_score_thr0.7:0.404798\n",
      "[20:43:48] /workspace/src/tree/updater_prune.cc:74: tree pruning end, 1 roots, 28 extra nodes, 2 pruned nodes, max_depth=5\n",
      "[272]\teval-auc:0.908011\teval-f1_score_thr0.2:0.344327\teval-f1_score_thr0.3:0.378641\teval-f1_score_thr0.4:0.41109\teval-f1_score_thr0.5:0.414716\teval-f1_score_thr0.6:0.40613\teval-f1_score_thr0.7:0.403614\n",
      "[20:43:49] /workspace/src/tree/updater_prune.cc:74: tree pruning end, 1 roots, 34 extra nodes, 0 pruned nodes, max_depth=5\n",
      "[273]\teval-auc:0.908163\teval-f1_score_thr0.2:0.343008\teval-f1_score_thr0.3:0.378641\teval-f1_score_thr0.4:0.410305\teval-f1_score_thr0.5:0.414716\teval-f1_score_thr0.6:0.40717\teval-f1_score_thr0.7:0.403008\n",
      "[20:43:50] /workspace/src/tree/updater_prune.cc:74: tree pruning end, 1 roots, 16 extra nodes, 0 pruned nodes, max_depth=5\n",
      "[274]\teval-auc:0.908199\teval-f1_score_thr0.2:0.343234\teval-f1_score_thr0.3:0.378335\teval-f1_score_thr0.4:0.410697\teval-f1_score_thr0.5:0.413408\teval-f1_score_thr0.6:0.40717\teval-f1_score_thr0.7:0.406015\n",
      "[20:43:50] /workspace/src/tree/updater_prune.cc:74: tree pruning end, 1 roots, 32 extra nodes, 0 pruned nodes, max_depth=5\n",
      "[275]\teval-auc:0.908218\teval-f1_score_thr0.2:0.343915\teval-f1_score_thr0.3:0.378641\teval-f1_score_thr0.4:0.413002\teval-f1_score_thr0.5:0.414334\teval-f1_score_thr0.6:0.405128\teval-f1_score_thr0.7:0.403614\n",
      "[20:43:51] /workspace/src/tree/updater_prune.cc:74: tree pruning end, 1 roots, 34 extra nodes, 0 pruned nodes, max_depth=5\n",
      "[276]\teval-auc:0.908258\teval-f1_score_thr0.2:0.344143\teval-f1_score_thr0.3:0.377328\teval-f1_score_thr0.4:0.411877\teval-f1_score_thr0.5:0.414334\teval-f1_score_thr0.6:0.405648\teval-f1_score_thr0.7:0.404834\n"
     ]
    },
    {
     "name": "stdout",
     "output_type": "stream",
     "text": [
      "[20:43:52] /workspace/src/tree/updater_prune.cc:74: tree pruning end, 1 roots, 32 extra nodes, 0 pruned nodes, max_depth=5\n",
      "[277]\teval-auc:0.908299\teval-f1_score_thr0.2:0.344599\teval-f1_score_thr0.3:0.377634\teval-f1_score_thr0.4:0.411877\teval-f1_score_thr0.5:0.416573\teval-f1_score_thr0.6:0.405648\teval-f1_score_thr0.7:0.40724\n",
      "[20:43:52] /workspace/src/tree/updater_prune.cc:74: tree pruning end, 1 roots, 26 extra nodes, 2 pruned nodes, max_depth=5\n",
      "[278]\teval-auc:0.908287\teval-f1_score_thr0.2:0.344828\teval-f1_score_thr0.3:0.377328\teval-f1_score_thr0.4:0.410355\teval-f1_score_thr0.5:0.416573\teval-f1_score_thr0.6:0.405648\teval-f1_score_thr0.7:0.405446\n",
      "[20:43:53] /workspace/src/tree/updater_prune.cc:74: tree pruning end, 1 roots, 26 extra nodes, 2 pruned nodes, max_depth=5\n",
      "[279]\teval-auc:0.908339\teval-f1_score_thr0.2:0.344828\teval-f1_score_thr0.3:0.378247\teval-f1_score_thr0.4:0.410355\teval-f1_score_thr0.5:0.41704\teval-f1_score_thr0.6:0.405648\teval-f1_score_thr0.7:0.406061\n",
      "[20:43:53] /workspace/src/tree/updater_prune.cc:74: tree pruning end, 1 roots, 32 extra nodes, 0 pruned nodes, max_depth=5\n",
      "[280]\teval-auc:0.908353\teval-f1_score_thr0.2:0.345056\teval-f1_score_thr0.3:0.37917\teval-f1_score_thr0.4:0.410355\teval-f1_score_thr0.5:0.416573\teval-f1_score_thr0.6:0.405648\teval-f1_score_thr0.7:0.406677\n",
      "[20:43:54] /workspace/src/tree/updater_prune.cc:74: tree pruning end, 1 roots, 30 extra nodes, 0 pruned nodes, max_depth=5\n",
      "[281]\teval-auc:0.908348\teval-f1_score_thr0.2:0.345745\teval-f1_score_thr0.3:0.378554\teval-f1_score_thr0.4:0.411143\teval-f1_score_thr0.5:0.415264\teval-f1_score_thr0.6:0.405648\teval-f1_score_thr0.7:0.406061\n",
      "[20:43:55] /workspace/src/tree/updater_prune.cc:74: tree pruning end, 1 roots, 32 extra nodes, 0 pruned nodes, max_depth=5\n",
      "[282]\teval-auc:0.908346\teval-f1_score_thr0.2:0.345286\teval-f1_score_thr0.3:0.379479\teval-f1_score_thr0.4:0.411197\teval-f1_score_thr0.5:0.415264\teval-f1_score_thr0.6:0.405648\teval-f1_score_thr0.7:0.406677\n",
      "[20:43:55] /workspace/src/tree/updater_prune.cc:74: tree pruning end, 1 roots, 34 extra nodes, 0 pruned nodes, max_depth=5\n",
      "[283]\teval-auc:0.908394\teval-f1_score_thr0.2:0.345745\teval-f1_score_thr0.3:0.379788\teval-f1_score_thr0.4:0.412729\teval-f1_score_thr0.5:0.415264\teval-f1_score_thr0.6:0.406692\teval-f1_score_thr0.7:0.406061\n",
      "[20:43:56] /workspace/src/tree/updater_prune.cc:74: tree pruning end, 1 roots, 32 extra nodes, 2 pruned nodes, max_depth=5\n",
      "[284]\teval-auc:0.908404\teval-f1_score_thr0.2:0.345975\teval-f1_score_thr0.3:0.381107\teval-f1_score_thr0.4:0.411935\teval-f1_score_thr0.5:0.41704\teval-f1_score_thr0.6:0.406692\teval-f1_score_thr0.7:0.406061\n",
      "[20:43:56] /workspace/src/tree/updater_prune.cc:74: tree pruning end, 1 roots, 26 extra nodes, 0 pruned nodes, max_depth=5\n",
      "[285]\teval-auc:0.90841\teval-f1_score_thr0.2:0.345975\teval-f1_score_thr0.3:0.380488\teval-f1_score_thr0.4:0.4108\teval-f1_score_thr0.5:0.415264\teval-f1_score_thr0.6:0.406692\teval-f1_score_thr0.7:0.406677\n",
      "[20:43:57] /workspace/src/tree/updater_prune.cc:74: tree pruning end, 1 roots, 34 extra nodes, 0 pruned nodes, max_depth=5\n",
      "[286]\teval-auc:0.908652\teval-f1_score_thr0.2:0.347305\teval-f1_score_thr0.3:0.381418\teval-f1_score_thr0.4:0.411992\teval-f1_score_thr0.5:0.415264\teval-f1_score_thr0.6:0.407216\teval-f1_score_thr0.7:0.406061\n",
      "[20:43:58] /workspace/src/tree/updater_prune.cc:74: tree pruning end, 1 roots, 20 extra nodes, 0 pruned nodes, max_depth=5\n",
      "[287]\teval-auc:0.908709\teval-f1_score_thr0.2:0.346205\teval-f1_score_thr0.3:0.380719\teval-f1_score_thr0.4:0.411992\teval-f1_score_thr0.5:0.41573\teval-f1_score_thr0.6:0.407216\teval-f1_score_thr0.7:0.407295\n",
      "[20:43:58] /workspace/src/tree/updater_prune.cc:74: tree pruning end, 1 roots, 26 extra nodes, 0 pruned nodes, max_depth=5\n",
      "[288]\teval-auc:0.908782\teval-f1_score_thr0.2:0.346898\teval-f1_score_thr0.3:0.381654\teval-f1_score_thr0.4:0.410853\teval-f1_score_thr0.5:0.416667\teval-f1_score_thr0.6:0.407216\teval-f1_score_thr0.7:0.407295\n",
      "[20:43:59] /workspace/src/tree/updater_prune.cc:74: tree pruning end, 1 roots, 26 extra nodes, 0 pruned nodes, max_depth=5\n",
      "[289]\teval-auc:0.908811\teval-f1_score_thr0.2:0.347361\teval-f1_score_thr0.3:0.382666\teval-f1_score_thr0.4:0.414327\teval-f1_score_thr0.5:0.417136\teval-f1_score_thr0.6:0.407216\teval-f1_score_thr0.7:0.406677\n",
      "[20:43:59] /workspace/src/tree/updater_prune.cc:74: tree pruning end, 1 roots, 24 extra nodes, 0 pruned nodes, max_depth=5\n",
      "[290]\teval-auc:0.908742\teval-f1_score_thr0.2:0.348\teval-f1_score_thr0.3:0.38103\teval-f1_score_thr0.4:0.411251\teval-f1_score_thr0.5:0.417607\teval-f1_score_thr0.6:0.407216\teval-f1_score_thr0.7:0.404255\n",
      "[20:44:00] /workspace/src/tree/updater_prune.cc:74: tree pruning end, 1 roots, 30 extra nodes, 0 pruned nodes, max_depth=5\n",
      "[291]\teval-auc:0.908819\teval-f1_score_thr0.2:0.348232\teval-f1_score_thr0.3:0.381967\teval-f1_score_thr0.4:0.41165\teval-f1_score_thr0.5:0.414414\teval-f1_score_thr0.6:0.407216\teval-f1_score_thr0.7:0.403642\n",
      "[20:44:01] /workspace/src/tree/updater_prune.cc:74: tree pruning end, 1 roots, 28 extra nodes, 0 pruned nodes, max_depth=5\n",
      "[292]\teval-auc:0.908839\teval-f1_score_thr0.2:0.347594\teval-f1_score_thr0.3:0.381654\teval-f1_score_thr0.4:0.410906\teval-f1_score_thr0.5:0.413559\teval-f1_score_thr0.6:0.407216\teval-f1_score_thr0.7:0.403642\n",
      "[20:44:01] /workspace/src/tree/updater_prune.cc:74: tree pruning end, 1 roots, 32 extra nodes, 0 pruned nodes, max_depth=5\n",
      "[293]\teval-auc:0.908807\teval-f1_score_thr0.2:0.346025\teval-f1_score_thr0.3:0.381342\teval-f1_score_thr0.4:0.410906\teval-f1_score_thr0.5:0.41535\teval-f1_score_thr0.6:0.407742\teval-f1_score_thr0.7:0.404255\n",
      "[20:44:02] /workspace/src/tree/updater_prune.cc:74: tree pruning end, 1 roots, 24 extra nodes, 0 pruned nodes, max_depth=5\n",
      "[294]\teval-auc:0.908829\teval-f1_score_thr0.2:0.347594\teval-f1_score_thr0.3:0.382909\teval-f1_score_thr0.4:0.413659\teval-f1_score_thr0.5:0.41535\teval-f1_score_thr0.6:0.407742\teval-f1_score_thr0.7:0.404871\n",
      "[20:44:03] /workspace/src/tree/updater_prune.cc:74: tree pruning end, 1 roots, 26 extra nodes, 0 pruned nodes, max_depth=5\n",
      "[295]\teval-auc:0.908904\teval-f1_score_thr0.2:0.346076\teval-f1_score_thr0.3:0.382208\teval-f1_score_thr0.4:0.413255\teval-f1_score_thr0.5:0.41535\teval-f1_score_thr0.6:0.407742\teval-f1_score_thr0.7:0.404871\n",
      "[20:44:03] /workspace/src/tree/updater_prune.cc:74: tree pruning end, 1 roots, 32 extra nodes, 2 pruned nodes, max_depth=5\n",
      "[296]\teval-auc:0.90884\teval-f1_score_thr0.2:0.347241\teval-f1_score_thr0.3:0.381893\teval-f1_score_thr0.4:0.412109\teval-f1_score_thr0.5:0.41629\teval-f1_score_thr0.6:0.408269\teval-f1_score_thr0.7:0.405488\n",
      "[20:44:04] /workspace/src/tree/updater_prune.cc:74: tree pruning end, 1 roots, 24 extra nodes, 0 pruned nodes, max_depth=5\n",
      "[297]\teval-auc:0.90886\teval-f1_score_thr0.2:0.347943\teval-f1_score_thr0.3:0.381893\teval-f1_score_thr0.4:0.412512\teval-f1_score_thr0.5:0.41629\teval-f1_score_thr0.6:0.408269\teval-f1_score_thr0.7:0.406107\n",
      "[20:44:04] /workspace/src/tree/updater_prune.cc:74: tree pruning end, 1 roots, 32 extra nodes, 0 pruned nodes, max_depth=5\n",
      "[298]\teval-auc:0.90896\teval-f1_score_thr0.2:0.347709\teval-f1_score_thr0.3:0.383154\teval-f1_score_thr0.4:0.413659\teval-f1_score_thr0.5:0.414496\teval-f1_score_thr0.6:0.408797\teval-f1_score_thr0.7:0.40367\n",
      "[20:44:05] /workspace/src/tree/updater_prune.cc:74: tree pruning end, 1 roots, 30 extra nodes, 2 pruned nodes, max_depth=5\n",
      "[299]\teval-auc:0.909029\teval-f1_score_thr0.2:0.349057\teval-f1_score_thr0.3:0.381503\teval-f1_score_thr0.4:0.412512\teval-f1_score_thr0.5:0.410897\teval-f1_score_thr0.6:0.407263\teval-f1_score_thr0.7:0.40367\n",
      "                       Feature  Importance\n",
      "0       MONTHS_ON_FILE_BANKING    0.033445\n",
      "1                   NUM_CL_ACC    0.030658\n",
      "2             NUM_VIGENTEH_03M    0.026942\n",
      "3  NUM_AVG_HI_CALCAR_FLOOR_03M    0.026570\n",
      "4               NUM_BRG_CL_ACC    0.023040\n"
     ]
    },
    {
     "data": {
      "text/html": [
       "<div>\n",
       "<style scoped>\n",
       "    .dataframe tbody tr th:only-of-type {\n",
       "        vertical-align: middle;\n",
       "    }\n",
       "\n",
       "    .dataframe tbody tr th {\n",
       "        vertical-align: top;\n",
       "    }\n",
       "\n",
       "    .dataframe thead th {\n",
       "        text-align: right;\n",
       "    }\n",
       "</style>\n",
       "<table border=\"1\" class=\"dataframe\">\n",
       "  <thead>\n",
       "    <tr style=\"text-align: right;\">\n",
       "      <th></th>\n",
       "      <th>Feature</th>\n",
       "      <th>Importance</th>\n",
       "    </tr>\n",
       "  </thead>\n",
       "  <tbody>\n",
       "    <tr>\n",
       "      <th>0</th>\n",
       "      <td>MONTHS_ON_FILE_BANKING</td>\n",
       "      <td>0.033445</td>\n",
       "    </tr>\n",
       "    <tr>\n",
       "      <th>1</th>\n",
       "      <td>NUM_CL_ACC</td>\n",
       "      <td>0.030658</td>\n",
       "    </tr>\n",
       "    <tr>\n",
       "      <th>2</th>\n",
       "      <td>NUM_VIGENTEH_03M</td>\n",
       "      <td>0.026942</td>\n",
       "    </tr>\n",
       "    <tr>\n",
       "      <th>3</th>\n",
       "      <td>NUM_AVG_HI_CALCAR_FLOOR_03M</td>\n",
       "      <td>0.026570</td>\n",
       "    </tr>\n",
       "    <tr>\n",
       "      <th>4</th>\n",
       "      <td>NUM_BRG_CL_ACC</td>\n",
       "      <td>0.023040</td>\n",
       "    </tr>\n",
       "    <tr>\n",
       "      <th>5</th>\n",
       "      <td>DPCV_INT</td>\n",
       "      <td>0.022482</td>\n",
       "    </tr>\n",
       "    <tr>\n",
       "      <th>6</th>\n",
       "      <td>MAX_DIAS_PARA_PAGO</td>\n",
       "      <td>0.019695</td>\n",
       "    </tr>\n",
       "    <tr>\n",
       "      <th>7</th>\n",
       "      <td>DPCV_CAP</td>\n",
       "      <td>0.018766</td>\n",
       "    </tr>\n",
       "    <tr>\n",
       "      <th>8</th>\n",
       "      <td>MAX_MAX_HI_CALCAR_CEIL_12M</td>\n",
       "      <td>0.017094</td>\n",
       "    </tr>\n",
       "    <tr>\n",
       "      <th>9</th>\n",
       "      <td>PCT_BRG_R_OP_ACC</td>\n",
       "      <td>0.015236</td>\n",
       "    </tr>\n",
       "    <tr>\n",
       "      <th>10</th>\n",
       "      <td>NUM_VIGENTEH_12M</td>\n",
       "      <td>0.014864</td>\n",
       "    </tr>\n",
       "    <tr>\n",
       "      <th>11</th>\n",
       "      <td>NBK12_PCT_PROMT</td>\n",
       "      <td>0.014864</td>\n",
       "    </tr>\n",
       "    <tr>\n",
       "      <th>12</th>\n",
       "      <td>NUM_PCT_VIGENTEH_06M</td>\n",
       "      <td>0.014307</td>\n",
       "    </tr>\n",
       "    <tr>\n",
       "      <th>13</th>\n",
       "      <td>MIN_MAX_HI_CALCAR_CEIL_12M</td>\n",
       "      <td>0.014121</td>\n",
       "    </tr>\n",
       "    <tr>\n",
       "      <th>14</th>\n",
       "      <td>AVG_MAX_DIAS_PARA_PAGO_U03M</td>\n",
       "      <td>0.013564</td>\n",
       "    </tr>\n",
       "    <tr>\n",
       "      <th>15</th>\n",
       "      <td>MAX_R_BAL_BY_MAX_BAL_06M</td>\n",
       "      <td>0.013564</td>\n",
       "    </tr>\n",
       "    <tr>\n",
       "      <th>16</th>\n",
       "      <td>DIAS_ATRASO</td>\n",
       "      <td>0.013192</td>\n",
       "    </tr>\n",
       "    <tr>\n",
       "      <th>17</th>\n",
       "      <td>NUM_AVG_HI_CALCAR_FLOOR_12M</td>\n",
       "      <td>0.013006</td>\n",
       "    </tr>\n",
       "    <tr>\n",
       "      <th>18</th>\n",
       "      <td>PCT_OP_ACC</td>\n",
       "      <td>0.012821</td>\n",
       "    </tr>\n",
       "    <tr>\n",
       "      <th>19</th>\n",
       "      <td>MIN_SALINI_BRG_R_OP_ACC</td>\n",
       "      <td>0.012449</td>\n",
       "    </tr>\n",
       "    <tr>\n",
       "      <th>20</th>\n",
       "      <td>DS_OL_CL</td>\n",
       "      <td>0.011334</td>\n",
       "    </tr>\n",
       "    <tr>\n",
       "      <th>21</th>\n",
       "      <td>MAX_MS_OP_BRG_R_OP_ACC</td>\n",
       "      <td>0.011148</td>\n",
       "    </tr>\n",
       "    <tr>\n",
       "      <th>22</th>\n",
       "      <td>MIN_MAX_HI_CALCAR_L_12M</td>\n",
       "      <td>0.010591</td>\n",
       "    </tr>\n",
       "    <tr>\n",
       "      <th>23</th>\n",
       "      <td>DS_CL</td>\n",
       "      <td>0.009848</td>\n",
       "    </tr>\n",
       "    <tr>\n",
       "      <th>24</th>\n",
       "      <td>MIN_MIN_VP_MES_U12M</td>\n",
       "      <td>0.009662</td>\n",
       "    </tr>\n",
       "    <tr>\n",
       "      <th>25</th>\n",
       "      <td>MAX_MAX_DIAS_PARA_PAGO_U12M</td>\n",
       "      <td>0.009662</td>\n",
       "    </tr>\n",
       "    <tr>\n",
       "      <th>26</th>\n",
       "      <td>MAX_VIGENTEC_BRG_R_OP_ACC_03M</td>\n",
       "      <td>0.009290</td>\n",
       "    </tr>\n",
       "    <tr>\n",
       "      <th>27</th>\n",
       "      <td>NUM_MAX_HI_CALCAR_FLOOR_12M</td>\n",
       "      <td>0.009104</td>\n",
       "    </tr>\n",
       "    <tr>\n",
       "      <th>28</th>\n",
       "      <td>MAX_R_BAL_BY_MAX_BAL_03M</td>\n",
       "      <td>0.008919</td>\n",
       "    </tr>\n",
       "    <tr>\n",
       "      <th>29</th>\n",
       "      <td>MIN_R_BAL_BY_CRED_LIM_12M</td>\n",
       "      <td>0.008733</td>\n",
       "    </tr>\n",
       "    <tr>\n",
       "      <th>30</th>\n",
       "      <td>MIN_MS_OP_OP_ACC</td>\n",
       "      <td>0.008733</td>\n",
       "    </tr>\n",
       "    <tr>\n",
       "      <th>31</th>\n",
       "      <td>BK12_NUM_CRED</td>\n",
       "      <td>0.008547</td>\n",
       "    </tr>\n",
       "    <tr>\n",
       "      <th>32</th>\n",
       "      <td>MIN_MAX_DIAS_PARA_PAGO_U03M</td>\n",
       "      <td>0.007990</td>\n",
       "    </tr>\n",
       "    <tr>\n",
       "      <th>33</th>\n",
       "      <td>AVG_R_BAL_BY_CRED_LIM_12M</td>\n",
       "      <td>0.007618</td>\n",
       "    </tr>\n",
       "    <tr>\n",
       "      <th>34</th>\n",
       "      <td>MIN_VP_PER</td>\n",
       "      <td>0.007432</td>\n",
       "    </tr>\n",
       "    <tr>\n",
       "      <th>35</th>\n",
       "      <td>MIN_MIN_VP_PER_U03M</td>\n",
       "      <td>0.007061</td>\n",
       "    </tr>\n",
       "    <tr>\n",
       "      <th>36</th>\n",
       "      <td>AVG_FD_CALCAR_CEIL</td>\n",
       "      <td>0.007061</td>\n",
       "    </tr>\n",
       "    <tr>\n",
       "      <th>37</th>\n",
       "      <td>MAX_VIGENTEC_BRG_R_OP_ACC</td>\n",
       "      <td>0.006689</td>\n",
       "    </tr>\n",
       "    <tr>\n",
       "      <th>38</th>\n",
       "      <td>AVG_VENC1M_BRG_OP_ACC_03M</td>\n",
       "      <td>0.006132</td>\n",
       "    </tr>\n",
       "    <tr>\n",
       "      <th>39</th>\n",
       "      <td>MIN_BAL_12M</td>\n",
       "      <td>0.005946</td>\n",
       "    </tr>\n",
       "    <tr>\n",
       "      <th>40</th>\n",
       "      <td>NUM_VENC59_12M</td>\n",
       "      <td>0.005760</td>\n",
       "    </tr>\n",
       "    <tr>\n",
       "      <th>41</th>\n",
       "      <td>AVG_VENC30M_OP_ACC_12M</td>\n",
       "      <td>0.005388</td>\n",
       "    </tr>\n",
       "    <tr>\n",
       "      <th>42</th>\n",
       "      <td>BK12_NUM_TC_ACT</td>\n",
       "      <td>0.005203</td>\n",
       "    </tr>\n",
       "    <tr>\n",
       "      <th>43</th>\n",
       "      <td>AVG_PND_MAS_D_CRED_LIM_TO_BAL_03M</td>\n",
       "      <td>0.005017</td>\n",
       "    </tr>\n",
       "    <tr>\n",
       "      <th>44</th>\n",
       "      <td>MIN_MS_OP_BRG_R_OP_ACC</td>\n",
       "      <td>0.005017</td>\n",
       "    </tr>\n",
       "    <tr>\n",
       "      <th>45</th>\n",
       "      <td>PCT_BRG_OP_ACC</td>\n",
       "      <td>0.004831</td>\n",
       "    </tr>\n",
       "    <tr>\n",
       "      <th>46</th>\n",
       "      <td>MAX_MAX_VP_PER_U06M</td>\n",
       "      <td>0.004831</td>\n",
       "    </tr>\n",
       "    <tr>\n",
       "      <th>47</th>\n",
       "      <td>MAX_MAX_DIAS_PARA_PAGO_U03M</td>\n",
       "      <td>0.004831</td>\n",
       "    </tr>\n",
       "    <tr>\n",
       "      <th>48</th>\n",
       "      <td>MIN_SALINI_BK_R_CL_ACC</td>\n",
       "      <td>0.004645</td>\n",
       "    </tr>\n",
       "    <tr>\n",
       "      <th>49</th>\n",
       "      <td>MAX_VP_MES_2</td>\n",
       "      <td>0.004459</td>\n",
       "    </tr>\n",
       "    <tr>\n",
       "      <th>50</th>\n",
       "      <td>MIN_AVG_HI_CALCAR_FLOOR_12M</td>\n",
       "      <td>0.004459</td>\n",
       "    </tr>\n",
       "    <tr>\n",
       "      <th>51</th>\n",
       "      <td>MIN_VIGENTEH_12M</td>\n",
       "      <td>0.004274</td>\n",
       "    </tr>\n",
       "    <tr>\n",
       "      <th>52</th>\n",
       "      <td>MIN_MIN_VP_PER_U06M_2</td>\n",
       "      <td>0.004274</td>\n",
       "    </tr>\n",
       "    <tr>\n",
       "      <th>53</th>\n",
       "      <td>MS_OP</td>\n",
       "      <td>0.004274</td>\n",
       "    </tr>\n",
       "    <tr>\n",
       "      <th>54</th>\n",
       "      <td>SUM_PAGOREALIZADO_MES</td>\n",
       "      <td>0.004088</td>\n",
       "    </tr>\n",
       "    <tr>\n",
       "      <th>55</th>\n",
       "      <td>AVG_VIGENTEC_BK_CS_OP_ACC_03M</td>\n",
       "      <td>0.004088</td>\n",
       "    </tr>\n",
       "    <tr>\n",
       "      <th>56</th>\n",
       "      <td>MAX_MAX_DIAS_PARA_PAGO_U06M</td>\n",
       "      <td>0.004088</td>\n",
       "    </tr>\n",
       "    <tr>\n",
       "      <th>57</th>\n",
       "      <td>NUM_VENC29_06M</td>\n",
       "      <td>0.003902</td>\n",
       "    </tr>\n",
       "    <tr>\n",
       "      <th>58</th>\n",
       "      <td>AVG2_VP_MES_2</td>\n",
       "      <td>0.003902</td>\n",
       "    </tr>\n",
       "    <tr>\n",
       "      <th>59</th>\n",
       "      <td>AVG_PND_MAS_R_BAL_BY_CRED_LIM_12M</td>\n",
       "      <td>0.003902</td>\n",
       "    </tr>\n",
       "    <tr>\n",
       "      <th>60</th>\n",
       "      <td>DEUDA_TOT</td>\n",
       "      <td>0.003716</td>\n",
       "    </tr>\n",
       "    <tr>\n",
       "      <th>61</th>\n",
       "      <td>MAX_VP_PER_2</td>\n",
       "      <td>0.003716</td>\n",
       "    </tr>\n",
       "    <tr>\n",
       "      <th>62</th>\n",
       "      <td>MIN_MAX_HI_CALCAR_L_06M</td>\n",
       "      <td>0.003716</td>\n",
       "    </tr>\n",
       "    <tr>\n",
       "      <th>63</th>\n",
       "      <td>MAX_MS_CL_CL_ACC</td>\n",
       "      <td>0.003716</td>\n",
       "    </tr>\n",
       "    <tr>\n",
       "      <th>64</th>\n",
       "      <td>MAX_VENC1M_BK_CS_OP_ACC_12M</td>\n",
       "      <td>0.003530</td>\n",
       "    </tr>\n",
       "    <tr>\n",
       "      <th>65</th>\n",
       "      <td>AVG_VENC1M_OP_ACC_03M</td>\n",
       "      <td>0.003530</td>\n",
       "    </tr>\n",
       "    <tr>\n",
       "      <th>66</th>\n",
       "      <td>AVG_MS_OP_BRG_R_OP_ACC</td>\n",
       "      <td>0.003530</td>\n",
       "    </tr>\n",
       "    <tr>\n",
       "      <th>67</th>\n",
       "      <td>BK_DEUDA_CP</td>\n",
       "      <td>0.003530</td>\n",
       "    </tr>\n",
       "    <tr>\n",
       "      <th>68</th>\n",
       "      <td>AVG_PND_MAS_PCT_VENC59_12M</td>\n",
       "      <td>0.003344</td>\n",
       "    </tr>\n",
       "    <tr>\n",
       "      <th>69</th>\n",
       "      <td>MAX_R_BAL_BY_CRED_LIM_12M</td>\n",
       "      <td>0.003344</td>\n",
       "    </tr>\n",
       "    <tr>\n",
       "      <th>70</th>\n",
       "      <td>AVG_PCT_VENC1M_BRG_OP_ACC_03M</td>\n",
       "      <td>0.003344</td>\n",
       "    </tr>\n",
       "    <tr>\n",
       "      <th>71</th>\n",
       "      <td>AVG_SALINI_BRG_CS_OP_ACC</td>\n",
       "      <td>0.003344</td>\n",
       "    </tr>\n",
       "    <tr>\n",
       "      <th>72</th>\n",
       "      <td>MIN_AVG_HI_CALCAR_L_12M</td>\n",
       "      <td>0.003344</td>\n",
       "    </tr>\n",
       "    <tr>\n",
       "      <th>73</th>\n",
       "      <td>AVG_PCT_VENC30M_03M</td>\n",
       "      <td>0.003344</td>\n",
       "    </tr>\n",
       "    <tr>\n",
       "      <th>74</th>\n",
       "      <td>MIN_R_BAL_BY_CRED_LIM_03M</td>\n",
       "      <td>0.003344</td>\n",
       "    </tr>\n",
       "    <tr>\n",
       "      <th>75</th>\n",
       "      <td>MAX_VENC30M_BK_OP_ACC_12M</td>\n",
       "      <td>0.003159</td>\n",
       "    </tr>\n",
       "    <tr>\n",
       "      <th>76</th>\n",
       "      <td>MIN_R_BAL_BY_CRED_LIM_06M</td>\n",
       "      <td>0.003159</td>\n",
       "    </tr>\n",
       "    <tr>\n",
       "      <th>77</th>\n",
       "      <td>MAX_PCT_VENC59_12M</td>\n",
       "      <td>0.003159</td>\n",
       "    </tr>\n",
       "    <tr>\n",
       "      <th>78</th>\n",
       "      <td>MAX_R_BAL_BY_CRED_LIM_06M</td>\n",
       "      <td>0.003159</td>\n",
       "    </tr>\n",
       "    <tr>\n",
       "      <th>79</th>\n",
       "      <td>AVG_PND_MAS_PCT_VENC29_03M</td>\n",
       "      <td>0.003159</td>\n",
       "    </tr>\n",
       "    <tr>\n",
       "      <th>80</th>\n",
       "      <td>AVG_VIGENTEC_BK_R_OP_ACC</td>\n",
       "      <td>0.002973</td>\n",
       "    </tr>\n",
       "    <tr>\n",
       "      <th>81</th>\n",
       "      <td>MIN_MS_OP_BRG_OP_ACC</td>\n",
       "      <td>0.002973</td>\n",
       "    </tr>\n",
       "    <tr>\n",
       "      <th>82</th>\n",
       "      <td>NUM_CLAVOBS_BRG_CL_ACC_12M</td>\n",
       "      <td>0.002973</td>\n",
       "    </tr>\n",
       "    <tr>\n",
       "      <th>83</th>\n",
       "      <td>AVG_PND_MAS_R_BAL_BY_MAX_BAL_06M</td>\n",
       "      <td>0.002787</td>\n",
       "    </tr>\n",
       "    <tr>\n",
       "      <th>84</th>\n",
       "      <td>MAX_PCT_VIGENTEC_BRG_CS_OP_ACC_03M</td>\n",
       "      <td>0.002787</td>\n",
       "    </tr>\n",
       "    <tr>\n",
       "      <th>85</th>\n",
       "      <td>AVG_PCT_VENC1M_BK_R_OP_ACC_12M</td>\n",
       "      <td>0.002787</td>\n",
       "    </tr>\n",
       "    <tr>\n",
       "      <th>86</th>\n",
       "      <td>MAX_CRED_LIM_12M</td>\n",
       "      <td>0.002787</td>\n",
       "    </tr>\n",
       "    <tr>\n",
       "      <th>87</th>\n",
       "      <td>AVG_MS_CL_BK_CL_ACC</td>\n",
       "      <td>0.002787</td>\n",
       "    </tr>\n",
       "    <tr>\n",
       "      <th>88</th>\n",
       "      <td>MAX_MS_OP_BRG_OP_ACC</td>\n",
       "      <td>0.002787</td>\n",
       "    </tr>\n",
       "    <tr>\n",
       "      <th>89</th>\n",
       "      <td>AVG_PCT_VENC30M_OP_ACC</td>\n",
       "      <td>0.002601</td>\n",
       "    </tr>\n",
       "    <tr>\n",
       "      <th>90</th>\n",
       "      <td>MIN_MAX_HI_CALCAR_FLOOR_12M</td>\n",
       "      <td>0.002601</td>\n",
       "    </tr>\n",
       "    <tr>\n",
       "      <th>91</th>\n",
       "      <td>SUM_PAGOREALIZADO_PERIODO</td>\n",
       "      <td>0.002601</td>\n",
       "    </tr>\n",
       "    <tr>\n",
       "      <th>92</th>\n",
       "      <td>AVG_MAX_DIAS_PARA_PAGO_U06M</td>\n",
       "      <td>0.002601</td>\n",
       "    </tr>\n",
       "    <tr>\n",
       "      <th>93</th>\n",
       "      <td>AVG_MAX_DIAS_PARA_PAGO_U12M</td>\n",
       "      <td>0.002601</td>\n",
       "    </tr>\n",
       "    <tr>\n",
       "      <th>94</th>\n",
       "      <td>MAX_VENC30M_OP_ACC_03M</td>\n",
       "      <td>0.002601</td>\n",
       "    </tr>\n",
       "    <tr>\n",
       "      <th>95</th>\n",
       "      <td>MAX_SALINI_BK_CL_ACC_12M</td>\n",
       "      <td>0.002415</td>\n",
       "    </tr>\n",
       "    <tr>\n",
       "      <th>96</th>\n",
       "      <td>MAX_MIN_VP_MES_U12M</td>\n",
       "      <td>0.002415</td>\n",
       "    </tr>\n",
       "    <tr>\n",
       "      <th>97</th>\n",
       "      <td>NUM_PCT_VENC29_12M</td>\n",
       "      <td>0.002415</td>\n",
       "    </tr>\n",
       "    <tr>\n",
       "      <th>98</th>\n",
       "      <td>AVG_PCT_VIGENTEC_BRG_R_OP_ACC_12M</td>\n",
       "      <td>0.002415</td>\n",
       "    </tr>\n",
       "    <tr>\n",
       "      <th>99</th>\n",
       "      <td>AVG_PND_MAS_PCT_VENC60M_06M</td>\n",
       "      <td>0.002415</td>\n",
       "    </tr>\n",
       "    <tr>\n",
       "      <th>100</th>\n",
       "      <td>MIN_SALINI_GBN_CF_CL_ACC</td>\n",
       "      <td>0.002415</td>\n",
       "    </tr>\n",
       "    <tr>\n",
       "      <th>101</th>\n",
       "      <td>NBK12_COMM_PCT_PLUS</td>\n",
       "      <td>0.002415</td>\n",
       "    </tr>\n",
       "    <tr>\n",
       "      <th>102</th>\n",
       "      <td>AVG_VENC1M_BK_OP_ACC_03M</td>\n",
       "      <td>0.002415</td>\n",
       "    </tr>\n",
       "    <tr>\n",
       "      <th>103</th>\n",
       "      <td>AVG_PND_MENOS_R_BAL_BY_CRED_LIM_12M</td>\n",
       "      <td>0.002230</td>\n",
       "    </tr>\n",
       "    <tr>\n",
       "      <th>104</th>\n",
       "      <td>MAX_MAX_HI_CALCAR_FLOOR_06M</td>\n",
       "      <td>0.002230</td>\n",
       "    </tr>\n",
       "    <tr>\n",
       "      <th>105</th>\n",
       "      <td>MAX_PCT_VENC1M_BK_R_OP_ACC</td>\n",
       "      <td>0.002230</td>\n",
       "    </tr>\n",
       "    <tr>\n",
       "      <th>106</th>\n",
       "      <td>MAX_PCT_VENC30M_OP_ACC_06M</td>\n",
       "      <td>0.002230</td>\n",
       "    </tr>\n",
       "    <tr>\n",
       "      <th>107</th>\n",
       "      <td>AVG_SALINI_OP_ACC_03M</td>\n",
       "      <td>0.002230</td>\n",
       "    </tr>\n",
       "    <tr>\n",
       "      <th>108</th>\n",
       "      <td>R_BAL_BY_CRED_LIM</td>\n",
       "      <td>0.002230</td>\n",
       "    </tr>\n",
       "    <tr>\n",
       "      <th>109</th>\n",
       "      <td>MIN_SALINI_BK_CL_ACC_12M</td>\n",
       "      <td>0.002230</td>\n",
       "    </tr>\n",
       "    <tr>\n",
       "      <th>110</th>\n",
       "      <td>MAX_MS_OP_OP_ACC</td>\n",
       "      <td>0.002230</td>\n",
       "    </tr>\n",
       "    <tr>\n",
       "      <th>111</th>\n",
       "      <td>AVG_PND_MAS_PCT_VENC59_06M</td>\n",
       "      <td>0.002230</td>\n",
       "    </tr>\n",
       "    <tr>\n",
       "      <th>112</th>\n",
       "      <td>AVG1_VP_MES</td>\n",
       "      <td>0.002230</td>\n",
       "    </tr>\n",
       "    <tr>\n",
       "      <th>113</th>\n",
       "      <td>MAX_SALINI_BRG_CL_ACC_12M</td>\n",
       "      <td>0.002230</td>\n",
       "    </tr>\n",
       "    <tr>\n",
       "      <th>114</th>\n",
       "      <td>AVG_PND_MENOS_PCT_VENC29_06M</td>\n",
       "      <td>0.002044</td>\n",
       "    </tr>\n",
       "    <tr>\n",
       "      <th>115</th>\n",
       "      <td>MAX_AVG2_VP_PER_U12M</td>\n",
       "      <td>0.002044</td>\n",
       "    </tr>\n",
       "    <tr>\n",
       "      <th>116</th>\n",
       "      <td>AVG_PND_MAS_PCT_VENC90M_12M</td>\n",
       "      <td>0.002044</td>\n",
       "    </tr>\n",
       "    <tr>\n",
       "      <th>117</th>\n",
       "      <td>MAX_MIN_VP_PER_U06M_2</td>\n",
       "      <td>0.002044</td>\n",
       "    </tr>\n",
       "    <tr>\n",
       "      <th>118</th>\n",
       "      <td>MAX_VENCIDO1MAS_03M</td>\n",
       "      <td>0.002044</td>\n",
       "    </tr>\n",
       "    <tr>\n",
       "      <th>119</th>\n",
       "      <td>AVG_MAX_VP_PER_U03M_2</td>\n",
       "      <td>0.002044</td>\n",
       "    </tr>\n",
       "    <tr>\n",
       "      <th>120</th>\n",
       "      <td>MAX_PCT_VENC30M_06M</td>\n",
       "      <td>0.002044</td>\n",
       "    </tr>\n",
       "    <tr>\n",
       "      <th>121</th>\n",
       "      <td>MAX_PCT_VENC1M_03M</td>\n",
       "      <td>0.002044</td>\n",
       "    </tr>\n",
       "    <tr>\n",
       "      <th>122</th>\n",
       "      <td>AVG_VIGENTEC_BRG_R_OP_ACC_06M</td>\n",
       "      <td>0.001858</td>\n",
       "    </tr>\n",
       "    <tr>\n",
       "      <th>123</th>\n",
       "      <td>AVG_VENCIDO30MAS_12M</td>\n",
       "      <td>0.001858</td>\n",
       "    </tr>\n",
       "    <tr>\n",
       "      <th>124</th>\n",
       "      <td>AVG_VENC1M_OP_ACC_12M</td>\n",
       "      <td>0.001858</td>\n",
       "    </tr>\n",
       "    <tr>\n",
       "      <th>125</th>\n",
       "      <td>MIN_MAX_VP_MES_U12M</td>\n",
       "      <td>0.001858</td>\n",
       "    </tr>\n",
       "    <tr>\n",
       "      <th>126</th>\n",
       "      <td>AVG_SALINI_BK_CL_ACC_12M</td>\n",
       "      <td>0.001858</td>\n",
       "    </tr>\n",
       "    <tr>\n",
       "      <th>127</th>\n",
       "      <td>AVG_AVG1_VP_PER_U03M_2</td>\n",
       "      <td>0.001858</td>\n",
       "    </tr>\n",
       "    <tr>\n",
       "      <th>128</th>\n",
       "      <td>MIN_AVG1_VP_MES_U03M</td>\n",
       "      <td>0.001858</td>\n",
       "    </tr>\n",
       "    <tr>\n",
       "      <th>129</th>\n",
       "      <td>AVG_SALINI_CL_ACC</td>\n",
       "      <td>0.001858</td>\n",
       "    </tr>\n",
       "    <tr>\n",
       "      <th>130</th>\n",
       "      <td>NUM_PCT_VENC30M_12M</td>\n",
       "      <td>0.001858</td>\n",
       "    </tr>\n",
       "    <tr>\n",
       "      <th>131</th>\n",
       "      <td>AVG_PND_MAS_VIGENTEH_03M</td>\n",
       "      <td>0.001672</td>\n",
       "    </tr>\n",
       "    <tr>\n",
       "      <th>132</th>\n",
       "      <td>MIN_AVG1_VP_PER_U12M_2</td>\n",
       "      <td>0.001672</td>\n",
       "    </tr>\n",
       "    <tr>\n",
       "      <th>133</th>\n",
       "      <td>AVG_PCT_VIGENTEC_OP_ACC_12M</td>\n",
       "      <td>0.001672</td>\n",
       "    </tr>\n",
       "    <tr>\n",
       "      <th>134</th>\n",
       "      <td>MAX_PCT_VENC1M_OP_ACC</td>\n",
       "      <td>0.001672</td>\n",
       "    </tr>\n",
       "    <tr>\n",
       "      <th>135</th>\n",
       "      <td>AVG_PND_MENOS_MAX_HI_CALCAR_CEIL_06M</td>\n",
       "      <td>0.001672</td>\n",
       "    </tr>\n",
       "    <tr>\n",
       "      <th>136</th>\n",
       "      <td>AVG_SALINI_BRG_CL_ACC_12M</td>\n",
       "      <td>0.001672</td>\n",
       "    </tr>\n",
       "    <tr>\n",
       "      <th>137</th>\n",
       "      <td>AVG_PND_MAS_AVG_HI_CALCAR_CEIL_03M</td>\n",
       "      <td>0.001672</td>\n",
       "    </tr>\n",
       "    <tr>\n",
       "      <th>138</th>\n",
       "      <td>MAX_SALINI_OP_ACC_03M</td>\n",
       "      <td>0.001672</td>\n",
       "    </tr>\n",
       "    <tr>\n",
       "      <th>139</th>\n",
       "      <td>AVG_PND_MAS_R_BAL_BY_CRED_LIM_03M</td>\n",
       "      <td>0.001672</td>\n",
       "    </tr>\n",
       "    <tr>\n",
       "      <th>140</th>\n",
       "      <td>MIN_D_CRED_LIM_TO_BAL_06M</td>\n",
       "      <td>0.001672</td>\n",
       "    </tr>\n",
       "    <tr>\n",
       "      <th>141</th>\n",
       "      <td>MAX_PCT_VENC29_12M</td>\n",
       "      <td>0.001672</td>\n",
       "    </tr>\n",
       "    <tr>\n",
       "      <th>142</th>\n",
       "      <td>MAX_PCT_VENC120M_OP_ACC_03M</td>\n",
       "      <td>0.001672</td>\n",
       "    </tr>\n",
       "    <tr>\n",
       "      <th>143</th>\n",
       "      <td>SUM_AMORTIZACIONEXIGIBLE</td>\n",
       "      <td>0.001672</td>\n",
       "    </tr>\n",
       "    <tr>\n",
       "      <th>144</th>\n",
       "      <td>MAX_VENC1M_OP_ACC_06M</td>\n",
       "      <td>0.001672</td>\n",
       "    </tr>\n",
       "    <tr>\n",
       "      <th>145</th>\n",
       "      <td>MAX_MIN_VP_MES_U03M_2</td>\n",
       "      <td>0.001672</td>\n",
       "    </tr>\n",
       "    <tr>\n",
       "      <th>146</th>\n",
       "      <td>MAX_MAX_VP_MES_U12M</td>\n",
       "      <td>0.001672</td>\n",
       "    </tr>\n",
       "    <tr>\n",
       "      <th>147</th>\n",
       "      <td>MIN_MAX_HI_CALCAR_FLOOR_03M</td>\n",
       "      <td>0.001672</td>\n",
       "    </tr>\n",
       "    <tr>\n",
       "      <th>148</th>\n",
       "      <td>MAX_PCT_VENC29_BRG_R_OP_ACC_06M</td>\n",
       "      <td>0.001486</td>\n",
       "    </tr>\n",
       "    <tr>\n",
       "      <th>149</th>\n",
       "      <td>AVG_PND_MAS_VENCIDO1MAS_03M</td>\n",
       "      <td>0.001486</td>\n",
       "    </tr>\n",
       "    <tr>\n",
       "      <th>150</th>\n",
       "      <td>MAX_PCT_VENC1M_BRG_OP_ACC_12M</td>\n",
       "      <td>0.001486</td>\n",
       "    </tr>\n",
       "    <tr>\n",
       "      <th>151</th>\n",
       "      <td>AVG_VENCIDO30MAS_06M</td>\n",
       "      <td>0.001486</td>\n",
       "    </tr>\n",
       "    <tr>\n",
       "      <th>152</th>\n",
       "      <td>AVG_VENC1M_BK_OP_ACC</td>\n",
       "      <td>0.001486</td>\n",
       "    </tr>\n",
       "    <tr>\n",
       "      <th>153</th>\n",
       "      <td>AVG_PCT_VENC60M_06M</td>\n",
       "      <td>0.001486</td>\n",
       "    </tr>\n",
       "    <tr>\n",
       "      <th>154</th>\n",
       "      <td>MAX_PCT_VIGENTEC_BRG_CS_OP_ACC</td>\n",
       "      <td>0.001486</td>\n",
       "    </tr>\n",
       "    <tr>\n",
       "      <th>155</th>\n",
       "      <td>AVG_VIGENTEC_BRG_R_OP_ACC</td>\n",
       "      <td>0.001486</td>\n",
       "    </tr>\n",
       "    <tr>\n",
       "      <th>156</th>\n",
       "      <td>AVG_VENC30M_BK_OP_ACC_03M</td>\n",
       "      <td>0.001486</td>\n",
       "    </tr>\n",
       "    <tr>\n",
       "      <th>157</th>\n",
       "      <td>NBK12_DEUDA_CP</td>\n",
       "      <td>0.001486</td>\n",
       "    </tr>\n",
       "    <tr>\n",
       "      <th>158</th>\n",
       "      <td>MIN_MIN_VP_PER_U03M_2</td>\n",
       "      <td>0.001486</td>\n",
       "    </tr>\n",
       "    <tr>\n",
       "      <th>159</th>\n",
       "      <td>AVG_PND_MAS_PCT_VENC89_12M</td>\n",
       "      <td>0.001486</td>\n",
       "    </tr>\n",
       "    <tr>\n",
       "      <th>160</th>\n",
       "      <td>MAX_PCT_VENC30M_BRG_OP_ACC_12M</td>\n",
       "      <td>0.001486</td>\n",
       "    </tr>\n",
       "    <tr>\n",
       "      <th>161</th>\n",
       "      <td>AVG_MS_CL_BRG_CL_ACC</td>\n",
       "      <td>0.001486</td>\n",
       "    </tr>\n",
       "    <tr>\n",
       "      <th>162</th>\n",
       "      <td>MIN_MAX_VP_MES_U06M_2</td>\n",
       "      <td>0.001486</td>\n",
       "    </tr>\n",
       "    <tr>\n",
       "      <th>163</th>\n",
       "      <td>MAX_PCT_VENC30M_12M</td>\n",
       "      <td>0.001486</td>\n",
       "    </tr>\n",
       "    <tr>\n",
       "      <th>164</th>\n",
       "      <td>MAX_MS_OP_BK_R_OP_ACC</td>\n",
       "      <td>0.001486</td>\n",
       "    </tr>\n",
       "    <tr>\n",
       "      <th>165</th>\n",
       "      <td>AVG_PND_MENOS_PCT_VENC1M_03M</td>\n",
       "      <td>0.001486</td>\n",
       "    </tr>\n",
       "    <tr>\n",
       "      <th>166</th>\n",
       "      <td>AVG_PND_MAS_PCT_VENC89_06M</td>\n",
       "      <td>0.001486</td>\n",
       "    </tr>\n",
       "    <tr>\n",
       "      <th>167</th>\n",
       "      <td>MAX_VENC1M_OP_ACC_03M</td>\n",
       "      <td>0.001486</td>\n",
       "    </tr>\n",
       "    <tr>\n",
       "      <th>168</th>\n",
       "      <td>MAX_MIN_VP_MES_U06M</td>\n",
       "      <td>0.001486</td>\n",
       "    </tr>\n",
       "    <tr>\n",
       "      <th>169</th>\n",
       "      <td>BK_IND_PMOR</td>\n",
       "      <td>0.001486</td>\n",
       "    </tr>\n",
       "    <tr>\n",
       "      <th>170</th>\n",
       "      <td>MAX_VENC1M_BK_OP_ACC_03M</td>\n",
       "      <td>0.001301</td>\n",
       "    </tr>\n",
       "    <tr>\n",
       "      <th>171</th>\n",
       "      <td>MIN_VIGENTEH_06M</td>\n",
       "      <td>0.001301</td>\n",
       "    </tr>\n",
       "    <tr>\n",
       "      <th>172</th>\n",
       "      <td>MAX_VENC1M_BK_OP_ACC_12M</td>\n",
       "      <td>0.001301</td>\n",
       "    </tr>\n",
       "    <tr>\n",
       "      <th>173</th>\n",
       "      <td>AVG_SALINI_BK_CS_CL_ACC</td>\n",
       "      <td>0.001301</td>\n",
       "    </tr>\n",
       "    <tr>\n",
       "      <th>174</th>\n",
       "      <td>AVG_MS_OP_BRG_CS_OP_ACC</td>\n",
       "      <td>0.001301</td>\n",
       "    </tr>\n",
       "    <tr>\n",
       "      <th>175</th>\n",
       "      <td>MAX_VIGENTEC_BRG_CS_OP_ACC_03M</td>\n",
       "      <td>0.001301</td>\n",
       "    </tr>\n",
       "    <tr>\n",
       "      <th>176</th>\n",
       "      <td>AVG_MS_CL_CL_ACC</td>\n",
       "      <td>0.001301</td>\n",
       "    </tr>\n",
       "    <tr>\n",
       "      <th>177</th>\n",
       "      <td>AVG_R_BAL_BY_CRED_LIM_03M</td>\n",
       "      <td>0.001301</td>\n",
       "    </tr>\n",
       "    <tr>\n",
       "      <th>178</th>\n",
       "      <td>AVG_PND_MENOS_R_BAL_BY_CRED_LIM_03M</td>\n",
       "      <td>0.001301</td>\n",
       "    </tr>\n",
       "    <tr>\n",
       "      <th>179</th>\n",
       "      <td>MAX_VENC1M_BRG_OP_ACC_03M</td>\n",
       "      <td>0.001301</td>\n",
       "    </tr>\n",
       "    <tr>\n",
       "      <th>180</th>\n",
       "      <td>AVG_PCT_VENC59_06M</td>\n",
       "      <td>0.001301</td>\n",
       "    </tr>\n",
       "    <tr>\n",
       "      <th>181</th>\n",
       "      <td>AVG_PND_MAS_R_BAL_BY_MAX_BAL_03M</td>\n",
       "      <td>0.001301</td>\n",
       "    </tr>\n",
       "    <tr>\n",
       "      <th>182</th>\n",
       "      <td>MAX_VENC29_BRG_OP_ACC_03M</td>\n",
       "      <td>0.001301</td>\n",
       "    </tr>\n",
       "    <tr>\n",
       "      <th>183</th>\n",
       "      <td>MAX_VENC90M_12M</td>\n",
       "      <td>0.001115</td>\n",
       "    </tr>\n",
       "    <tr>\n",
       "      <th>184</th>\n",
       "      <td>MIN_MAX_HI_CALCAR_CEIL_03M</td>\n",
       "      <td>0.001115</td>\n",
       "    </tr>\n",
       "    <tr>\n",
       "      <th>185</th>\n",
       "      <td>MAX_VENC1M_OP_ACC_12M</td>\n",
       "      <td>0.001115</td>\n",
       "    </tr>\n",
       "    <tr>\n",
       "      <th>186</th>\n",
       "      <td>AVG_VENC30M_OP_ACC_06M</td>\n",
       "      <td>0.001115</td>\n",
       "    </tr>\n",
       "    <tr>\n",
       "      <th>187</th>\n",
       "      <td>MIN_SALINI_CL_ACC_03M</td>\n",
       "      <td>0.001115</td>\n",
       "    </tr>\n",
       "    <tr>\n",
       "      <th>188</th>\n",
       "      <td>MAX_CRED_LIM_03M</td>\n",
       "      <td>0.001115</td>\n",
       "    </tr>\n",
       "    <tr>\n",
       "      <th>189</th>\n",
       "      <td>MIN_MS_CL_BK_CL_ACC</td>\n",
       "      <td>0.001115</td>\n",
       "    </tr>\n",
       "    <tr>\n",
       "      <th>190</th>\n",
       "      <td>MAX_PCT_VIGENTEC_BRG_R_OP_ACC</td>\n",
       "      <td>0.001115</td>\n",
       "    </tr>\n",
       "    <tr>\n",
       "      <th>191</th>\n",
       "      <td>AVG_VIGENTEC_BK_R_OP_ACC_12M</td>\n",
       "      <td>0.001115</td>\n",
       "    </tr>\n",
       "    <tr>\n",
       "      <th>192</th>\n",
       "      <td>AVG_PCT_VIGENTEC_OP_ACC</td>\n",
       "      <td>0.001115</td>\n",
       "    </tr>\n",
       "    <tr>\n",
       "      <th>193</th>\n",
       "      <td>MAX_VENC29_BK_OP_ACC_03M</td>\n",
       "      <td>0.001115</td>\n",
       "    </tr>\n",
       "    <tr>\n",
       "      <th>194</th>\n",
       "      <td>MAX_VENC29_OP_ACC_03M</td>\n",
       "      <td>0.001115</td>\n",
       "    </tr>\n",
       "    <tr>\n",
       "      <th>195</th>\n",
       "      <td>MAX_PCT_VENC30M_03M</td>\n",
       "      <td>0.001115</td>\n",
       "    </tr>\n",
       "    <tr>\n",
       "      <th>196</th>\n",
       "      <td>AVG_MS_OP_BK_OP_ACC</td>\n",
       "      <td>0.001115</td>\n",
       "    </tr>\n",
       "    <tr>\n",
       "      <th>197</th>\n",
       "      <td>MAX_AVG_HI_CALCAR_L_03M</td>\n",
       "      <td>0.001115</td>\n",
       "    </tr>\n",
       "    <tr>\n",
       "      <th>198</th>\n",
       "      <td>MIN_MS_CL_BRG_R_CL_ACC</td>\n",
       "      <td>0.001115</td>\n",
       "    </tr>\n",
       "    <tr>\n",
       "      <th>199</th>\n",
       "      <td>AVG_PND_MENOS_R_BAL_BY_MAX_BAL_06M</td>\n",
       "      <td>0.001115</td>\n",
       "    </tr>\n",
       "    <tr>\n",
       "      <th>200</th>\n",
       "      <td>AVG_PND_MENOS_R_BAL_BY_MAX_BAL_12M</td>\n",
       "      <td>0.000929</td>\n",
       "    </tr>\n",
       "    <tr>\n",
       "      <th>201</th>\n",
       "      <td>D_CRED_LIM_TO_BAL</td>\n",
       "      <td>0.000929</td>\n",
       "    </tr>\n",
       "    <tr>\n",
       "      <th>202</th>\n",
       "      <td>AVG_MS_OP_OTHER_FIN_OP_ACC</td>\n",
       "      <td>0.000929</td>\n",
       "    </tr>\n",
       "    <tr>\n",
       "      <th>203</th>\n",
       "      <td>MAX_PCT_VIGENTEC_BRG_R_OP_ACC_12M</td>\n",
       "      <td>0.000929</td>\n",
       "    </tr>\n",
       "    <tr>\n",
       "      <th>204</th>\n",
       "      <td>NUM_CLAVOBS_BK_CL_ACC_03M</td>\n",
       "      <td>0.000929</td>\n",
       "    </tr>\n",
       "    <tr>\n",
       "      <th>205</th>\n",
       "      <td>MAX_PCT_VENC30M_BRG_OP_ACC_03M</td>\n",
       "      <td>0.000929</td>\n",
       "    </tr>\n",
       "    <tr>\n",
       "      <th>206</th>\n",
       "      <td>AVG_MS_OP_OP_ACC</td>\n",
       "      <td>0.000929</td>\n",
       "    </tr>\n",
       "    <tr>\n",
       "      <th>207</th>\n",
       "      <td>MIN_AVG2_VP_PER_U03M_2</td>\n",
       "      <td>0.000929</td>\n",
       "    </tr>\n",
       "    <tr>\n",
       "      <th>208</th>\n",
       "      <td>AVG_VENC1M_BK_CS_OP_ACC_06M</td>\n",
       "      <td>0.000929</td>\n",
       "    </tr>\n",
       "    <tr>\n",
       "      <th>209</th>\n",
       "      <td>AVG_PND_MAS_AVG_HI_CALCAR_L_03M</td>\n",
       "      <td>0.000929</td>\n",
       "    </tr>\n",
       "    <tr>\n",
       "      <th>210</th>\n",
       "      <td>MAX_AVG2_VP_MES_U06M</td>\n",
       "      <td>0.000929</td>\n",
       "    </tr>\n",
       "    <tr>\n",
       "      <th>211</th>\n",
       "      <td>AVG_PND_MENOS_VENCIDO1MAS_03M</td>\n",
       "      <td>0.000929</td>\n",
       "    </tr>\n",
       "    <tr>\n",
       "      <th>212</th>\n",
       "      <td>MIN_MAX_VP_PER_U06M</td>\n",
       "      <td>0.000929</td>\n",
       "    </tr>\n",
       "    <tr>\n",
       "      <th>213</th>\n",
       "      <td>MAX_BAL_06M</td>\n",
       "      <td>0.000929</td>\n",
       "    </tr>\n",
       "    <tr>\n",
       "      <th>214</th>\n",
       "      <td>AVG_MS_OP_BK_CS_OP_ACC</td>\n",
       "      <td>0.000929</td>\n",
       "    </tr>\n",
       "    <tr>\n",
       "      <th>215</th>\n",
       "      <td>AVG_VENC89_OP_ACC_03M</td>\n",
       "      <td>0.000929</td>\n",
       "    </tr>\n",
       "    <tr>\n",
       "      <th>216</th>\n",
       "      <td>MAX_VENC30M_BRG_OP_ACC_03M</td>\n",
       "      <td>0.000929</td>\n",
       "    </tr>\n",
       "    <tr>\n",
       "      <th>217</th>\n",
       "      <td>AVG_PND_MENOS_VENC90M_12M</td>\n",
       "      <td>0.000929</td>\n",
       "    </tr>\n",
       "    <tr>\n",
       "      <th>218</th>\n",
       "      <td>AVG_VIGENTEC_BRG_OP_ACC_03M</td>\n",
       "      <td>0.000929</td>\n",
       "    </tr>\n",
       "    <tr>\n",
       "      <th>219</th>\n",
       "      <td>MAX_VENC1M_BRG_OP_ACC_12M</td>\n",
       "      <td>0.000929</td>\n",
       "    </tr>\n",
       "    <tr>\n",
       "      <th>220</th>\n",
       "      <td>AVG_D_CRED_LIM_TO_BAL_06M</td>\n",
       "      <td>0.000929</td>\n",
       "    </tr>\n",
       "    <tr>\n",
       "      <th>221</th>\n",
       "      <td>MAX_VENC1M_BK_OP_ACC_06M</td>\n",
       "      <td>0.000929</td>\n",
       "    </tr>\n",
       "    <tr>\n",
       "      <th>222</th>\n",
       "      <td>AVG_VENC30M_BK_OP_ACC</td>\n",
       "      <td>0.000929</td>\n",
       "    </tr>\n",
       "    <tr>\n",
       "      <th>223</th>\n",
       "      <td>AVG_PND_MAS_R_BAL_BY_MAX_BAL_12M</td>\n",
       "      <td>0.000929</td>\n",
       "    </tr>\n",
       "    <tr>\n",
       "      <th>224</th>\n",
       "      <td>MAX_VIGENTEC_BRG_R_OP_ACC_06M</td>\n",
       "      <td>0.000929</td>\n",
       "    </tr>\n",
       "    <tr>\n",
       "      <th>225</th>\n",
       "      <td>MIN_AVG2_VP_PER_U06M_2</td>\n",
       "      <td>0.000929</td>\n",
       "    </tr>\n",
       "    <tr>\n",
       "      <th>226</th>\n",
       "      <td>MIN_MIN_VP_MES_U06M_2</td>\n",
       "      <td>0.000929</td>\n",
       "    </tr>\n",
       "    <tr>\n",
       "      <th>227</th>\n",
       "      <td>MAX_SALINI_OTHER_FIN_CL_ACC</td>\n",
       "      <td>0.000743</td>\n",
       "    </tr>\n",
       "    <tr>\n",
       "      <th>228</th>\n",
       "      <td>MIN_MAX_VP_PER_U06M_2</td>\n",
       "      <td>0.000743</td>\n",
       "    </tr>\n",
       "    <tr>\n",
       "      <th>229</th>\n",
       "      <td>MIN_AVG2_VP_MES_U06M_2</td>\n",
       "      <td>0.000743</td>\n",
       "    </tr>\n",
       "    <tr>\n",
       "      <th>230</th>\n",
       "      <td>AVG_R_BAL_BY_MAX_BAL_03M</td>\n",
       "      <td>0.000743</td>\n",
       "    </tr>\n",
       "    <tr>\n",
       "      <th>231</th>\n",
       "      <td>AVG_PND_MENOS_R_BAL_BY_CRED_LIM_06M</td>\n",
       "      <td>0.000743</td>\n",
       "    </tr>\n",
       "    <tr>\n",
       "      <th>232</th>\n",
       "      <td>MIN_MS_CL_BK_CS_CL_ACC</td>\n",
       "      <td>0.000743</td>\n",
       "    </tr>\n",
       "    <tr>\n",
       "      <th>233</th>\n",
       "      <td>MIN_R_BAL_BY_MAX_BAL_12M</td>\n",
       "      <td>0.000743</td>\n",
       "    </tr>\n",
       "    <tr>\n",
       "      <th>234</th>\n",
       "      <td>MAX_R_BAL_BY_CRED_LIM_03M</td>\n",
       "      <td>0.000743</td>\n",
       "    </tr>\n",
       "    <tr>\n",
       "      <th>235</th>\n",
       "      <td>AVG_PCT_VENC1M_LSE_OP_ACC_03M</td>\n",
       "      <td>0.000743</td>\n",
       "    </tr>\n",
       "    <tr>\n",
       "      <th>236</th>\n",
       "      <td>AVG_MIN_VP_PER_U12M_2</td>\n",
       "      <td>0.000743</td>\n",
       "    </tr>\n",
       "    <tr>\n",
       "      <th>237</th>\n",
       "      <td>AVG_SALINI_LSE_OP_ACC_03M</td>\n",
       "      <td>0.000743</td>\n",
       "    </tr>\n",
       "    <tr>\n",
       "      <th>238</th>\n",
       "      <td>MIN_R_BAL_BY_MAX_BAL_06M</td>\n",
       "      <td>0.000743</td>\n",
       "    </tr>\n",
       "    <tr>\n",
       "      <th>239</th>\n",
       "      <td>AVG_PND_MAS_MAX_HI_CALCAR_FLOOR_03M</td>\n",
       "      <td>0.000743</td>\n",
       "    </tr>\n",
       "    <tr>\n",
       "      <th>240</th>\n",
       "      <td>MIN_AVG2_VP_PER_U12M</td>\n",
       "      <td>0.000743</td>\n",
       "    </tr>\n",
       "    <tr>\n",
       "      <th>241</th>\n",
       "      <td>AVG_SALINI_BK_CL_ACC_06M</td>\n",
       "      <td>0.000743</td>\n",
       "    </tr>\n",
       "    <tr>\n",
       "      <th>242</th>\n",
       "      <td>AVG_MIN_VP_PER_U06M_2</td>\n",
       "      <td>0.000743</td>\n",
       "    </tr>\n",
       "    <tr>\n",
       "      <th>243</th>\n",
       "      <td>MIN_BAL_03M</td>\n",
       "      <td>0.000743</td>\n",
       "    </tr>\n",
       "    <tr>\n",
       "      <th>244</th>\n",
       "      <td>MAX_PCT_VENC1M_OP_ACC_12M</td>\n",
       "      <td>0.000743</td>\n",
       "    </tr>\n",
       "    <tr>\n",
       "      <th>245</th>\n",
       "      <td>AVG_AVG2_VP_MES_U12M</td>\n",
       "      <td>0.000743</td>\n",
       "    </tr>\n",
       "    <tr>\n",
       "      <th>246</th>\n",
       "      <td>MIN_AVG1_VP_PER_U12M</td>\n",
       "      <td>0.000743</td>\n",
       "    </tr>\n",
       "    <tr>\n",
       "      <th>247</th>\n",
       "      <td>AVG_PND_MENOS_PCT_VENC89_06M</td>\n",
       "      <td>0.000743</td>\n",
       "    </tr>\n",
       "    <tr>\n",
       "      <th>248</th>\n",
       "      <td>SUM_VENC89_06M</td>\n",
       "      <td>0.000743</td>\n",
       "    </tr>\n",
       "    <tr>\n",
       "      <th>249</th>\n",
       "      <td>MAX_VIGENTEC_BK_R_OP_ACC_03M</td>\n",
       "      <td>0.000743</td>\n",
       "    </tr>\n",
       "    <tr>\n",
       "      <th>250</th>\n",
       "      <td>AVG_PCT_VENC90M_OP_ACC_12M</td>\n",
       "      <td>0.000743</td>\n",
       "    </tr>\n",
       "    <tr>\n",
       "      <th>251</th>\n",
       "      <td>AVG_PND_MENOS_VIGENTEH_12M</td>\n",
       "      <td>0.000743</td>\n",
       "    </tr>\n",
       "    <tr>\n",
       "      <th>252</th>\n",
       "      <td>MAX_VIGENTEC_BK_CS_OP_ACC</td>\n",
       "      <td>0.000743</td>\n",
       "    </tr>\n",
       "    <tr>\n",
       "      <th>253</th>\n",
       "      <td>MAX_MAX_VP_MES_U03M_2</td>\n",
       "      <td>0.000743</td>\n",
       "    </tr>\n",
       "    <tr>\n",
       "      <th>254</th>\n",
       "      <td>AVG_MS_OP_BRG_OP_ACC</td>\n",
       "      <td>0.000743</td>\n",
       "    </tr>\n",
       "    <tr>\n",
       "      <th>255</th>\n",
       "      <td>AVG_PND_MENOS_AVG_HI_CALCAR_L_12M</td>\n",
       "      <td>0.000743</td>\n",
       "    </tr>\n",
       "    <tr>\n",
       "      <th>256</th>\n",
       "      <td>AVG1_VP_PER</td>\n",
       "      <td>0.000557</td>\n",
       "    </tr>\n",
       "    <tr>\n",
       "      <th>257</th>\n",
       "      <td>AVG_VENC89_OP_ACC_06M</td>\n",
       "      <td>0.000557</td>\n",
       "    </tr>\n",
       "    <tr>\n",
       "      <th>258</th>\n",
       "      <td>AVG_VENC1M_BRG_OP_ACC</td>\n",
       "      <td>0.000557</td>\n",
       "    </tr>\n",
       "    <tr>\n",
       "      <th>259</th>\n",
       "      <td>MAX_VIGENTEC_BRG_OP_ACC</td>\n",
       "      <td>0.000557</td>\n",
       "    </tr>\n",
       "    <tr>\n",
       "      <th>260</th>\n",
       "      <td>AVG_PND_MAS_MAX_HI_CALCAR_FLOOR_06M</td>\n",
       "      <td>0.000557</td>\n",
       "    </tr>\n",
       "    <tr>\n",
       "      <th>261</th>\n",
       "      <td>AVG_VENC1M_OP_ACC</td>\n",
       "      <td>0.000557</td>\n",
       "    </tr>\n",
       "    <tr>\n",
       "      <th>262</th>\n",
       "      <td>AVG_VENC29_BK_OP_ACC_03M</td>\n",
       "      <td>0.000557</td>\n",
       "    </tr>\n",
       "    <tr>\n",
       "      <th>263</th>\n",
       "      <td>AVG_PND_MAS_MAX_HI_CALCAR_L_12M</td>\n",
       "      <td>0.000557</td>\n",
       "    </tr>\n",
       "    <tr>\n",
       "      <th>264</th>\n",
       "      <td>AVG_AVG1_VP_MES_U12M_2</td>\n",
       "      <td>0.000557</td>\n",
       "    </tr>\n",
       "    <tr>\n",
       "      <th>265</th>\n",
       "      <td>AVG_AVG2_VP_PER_U06M</td>\n",
       "      <td>0.000557</td>\n",
       "    </tr>\n",
       "    <tr>\n",
       "      <th>266</th>\n",
       "      <td>MIN_MS_CL_OTHER_FIN_LSG_CL_ACC</td>\n",
       "      <td>0.000557</td>\n",
       "    </tr>\n",
       "    <tr>\n",
       "      <th>267</th>\n",
       "      <td>AVG_PCT_VENC30M_BRG_CS_OP_ACC_06M</td>\n",
       "      <td>0.000557</td>\n",
       "    </tr>\n",
       "    <tr>\n",
       "      <th>268</th>\n",
       "      <td>MIN_MS_OP_BK_R_OP_ACC</td>\n",
       "      <td>0.000557</td>\n",
       "    </tr>\n",
       "    <tr>\n",
       "      <th>269</th>\n",
       "      <td>AVG_R_BAL_BY_MAX_BAL_06M</td>\n",
       "      <td>0.000557</td>\n",
       "    </tr>\n",
       "    <tr>\n",
       "      <th>270</th>\n",
       "      <td>MAX_SALINI_BK_R_OP_ACC_03M</td>\n",
       "      <td>0.000557</td>\n",
       "    </tr>\n",
       "    <tr>\n",
       "      <th>271</th>\n",
       "      <td>AVG_PND_MENOS_PCT_VENC30M_12M</td>\n",
       "      <td>0.000557</td>\n",
       "    </tr>\n",
       "    <tr>\n",
       "      <th>272</th>\n",
       "      <td>AVG_SALINI_CL_ACC_06M</td>\n",
       "      <td>0.000557</td>\n",
       "    </tr>\n",
       "    <tr>\n",
       "      <th>273</th>\n",
       "      <td>AVG_AVG1_VP_MES_U06M</td>\n",
       "      <td>0.000557</td>\n",
       "    </tr>\n",
       "    <tr>\n",
       "      <th>274</th>\n",
       "      <td>AVG_PND_MENOS_MAX_HI_CALCAR_FLOOR_06M</td>\n",
       "      <td>0.000557</td>\n",
       "    </tr>\n",
       "    <tr>\n",
       "      <th>275</th>\n",
       "      <td>AVG_VENC59_12M</td>\n",
       "      <td>0.000557</td>\n",
       "    </tr>\n",
       "    <tr>\n",
       "      <th>276</th>\n",
       "      <td>AVG_MAX_HI_CALCAR_CEIL_12M</td>\n",
       "      <td>0.000557</td>\n",
       "    </tr>\n",
       "    <tr>\n",
       "      <th>277</th>\n",
       "      <td>MIN_SALINI_BK_CS_CL_ACC_06M</td>\n",
       "      <td>0.000557</td>\n",
       "    </tr>\n",
       "    <tr>\n",
       "      <th>278</th>\n",
       "      <td>AVG_MS_OP_BK_R_OP_ACC</td>\n",
       "      <td>0.000557</td>\n",
       "    </tr>\n",
       "    <tr>\n",
       "      <th>279</th>\n",
       "      <td>AVG_VENC1M_BK_OP_ACC_12M</td>\n",
       "      <td>0.000557</td>\n",
       "    </tr>\n",
       "    <tr>\n",
       "      <th>280</th>\n",
       "      <td>AVG_R_BAL_BY_CRED_LIM_06M</td>\n",
       "      <td>0.000557</td>\n",
       "    </tr>\n",
       "    <tr>\n",
       "      <th>281</th>\n",
       "      <td>AVG_SALINI_BRG_OP_ACC_06M</td>\n",
       "      <td>0.000557</td>\n",
       "    </tr>\n",
       "    <tr>\n",
       "      <th>282</th>\n",
       "      <td>AVG_SALINI_OTHER_FIN_OP_ACC</td>\n",
       "      <td>0.000372</td>\n",
       "    </tr>\n",
       "    <tr>\n",
       "      <th>283</th>\n",
       "      <td>MAX_MS_CL_BRG_R_CL_ACC</td>\n",
       "      <td>0.000372</td>\n",
       "    </tr>\n",
       "    <tr>\n",
       "      <th>284</th>\n",
       "      <td>AVG_PND_MAS_AVG_HI_CALCAR_L_06M</td>\n",
       "      <td>0.000372</td>\n",
       "    </tr>\n",
       "    <tr>\n",
       "      <th>285</th>\n",
       "      <td>MAX_VIGENTEC_BK_R_OP_ACC_06M</td>\n",
       "      <td>0.000372</td>\n",
       "    </tr>\n",
       "    <tr>\n",
       "      <th>286</th>\n",
       "      <td>AVG_AVG2_VP_PER_U03M</td>\n",
       "      <td>0.000372</td>\n",
       "    </tr>\n",
       "    <tr>\n",
       "      <th>287</th>\n",
       "      <td>MAX_VENC1M_BK_OP_ACC</td>\n",
       "      <td>0.000372</td>\n",
       "    </tr>\n",
       "    <tr>\n",
       "      <th>288</th>\n",
       "      <td>MAX_VENC29_06M</td>\n",
       "      <td>0.000372</td>\n",
       "    </tr>\n",
       "    <tr>\n",
       "      <th>289</th>\n",
       "      <td>MIN_MS_OP_BRG_CS_OP_ACC</td>\n",
       "      <td>0.000372</td>\n",
       "    </tr>\n",
       "    <tr>\n",
       "      <th>290</th>\n",
       "      <td>AVG_MS_CL_BK_R_CL_ACC</td>\n",
       "      <td>0.000372</td>\n",
       "    </tr>\n",
       "    <tr>\n",
       "      <th>291</th>\n",
       "      <td>AVG_PND_MENOS_PCT_VENC29_12M</td>\n",
       "      <td>0.000372</td>\n",
       "    </tr>\n",
       "    <tr>\n",
       "      <th>292</th>\n",
       "      <td>AVG_PCT_VENC1M_BK_CS_OP_ACC_06M</td>\n",
       "      <td>0.000372</td>\n",
       "    </tr>\n",
       "    <tr>\n",
       "      <th>293</th>\n",
       "      <td>AVG_PND_MAS_PCT_VENC59_03M</td>\n",
       "      <td>0.000372</td>\n",
       "    </tr>\n",
       "    <tr>\n",
       "      <th>294</th>\n",
       "      <td>AVG_PND_MENOS_PCT_VENC59_12M</td>\n",
       "      <td>0.000372</td>\n",
       "    </tr>\n",
       "    <tr>\n",
       "      <th>295</th>\n",
       "      <td>AVG_MAX_VP_MES_U03M_2</td>\n",
       "      <td>0.000372</td>\n",
       "    </tr>\n",
       "    <tr>\n",
       "      <th>296</th>\n",
       "      <td>MIN_SALINI_CL_ACC_06M</td>\n",
       "      <td>0.000372</td>\n",
       "    </tr>\n",
       "    <tr>\n",
       "      <th>297</th>\n",
       "      <td>AVG_PCT_VIGENTEC_BRG_R_OP_ACC_06M</td>\n",
       "      <td>0.000372</td>\n",
       "    </tr>\n",
       "    <tr>\n",
       "      <th>298</th>\n",
       "      <td>AVG_PND_MENOS_AVG_HI_CALCAR_FLOOR_06M</td>\n",
       "      <td>0.000372</td>\n",
       "    </tr>\n",
       "    <tr>\n",
       "      <th>299</th>\n",
       "      <td>AVG_MAX_VP_PER_U12M</td>\n",
       "      <td>0.000372</td>\n",
       "    </tr>\n",
       "    <tr>\n",
       "      <th>300</th>\n",
       "      <td>MIN_SALINI_BK_CS_OP_ACC_03M</td>\n",
       "      <td>0.000372</td>\n",
       "    </tr>\n",
       "    <tr>\n",
       "      <th>301</th>\n",
       "      <td>MAX_SALINI_CL_ACC</td>\n",
       "      <td>0.000372</td>\n",
       "    </tr>\n",
       "    <tr>\n",
       "      <th>302</th>\n",
       "      <td>MAX_PCT_VENC29_OP_ACC_12M</td>\n",
       "      <td>0.000372</td>\n",
       "    </tr>\n",
       "    <tr>\n",
       "      <th>303</th>\n",
       "      <td>MAX_PCT_VENC89_12M</td>\n",
       "      <td>0.000372</td>\n",
       "    </tr>\n",
       "    <tr>\n",
       "      <th>304</th>\n",
       "      <td>AVG_PCT_VIGENTEC_BRG_OP_ACC_06M</td>\n",
       "      <td>0.000372</td>\n",
       "    </tr>\n",
       "    <tr>\n",
       "      <th>305</th>\n",
       "      <td>AVG_PCT_VENC59_12M</td>\n",
       "      <td>0.000372</td>\n",
       "    </tr>\n",
       "    <tr>\n",
       "      <th>306</th>\n",
       "      <td>AVG_MIN_VP_PER_U03M_2</td>\n",
       "      <td>0.000372</td>\n",
       "    </tr>\n",
       "    <tr>\n",
       "      <th>307</th>\n",
       "      <td>AVG_VIGENTEC_OTHER_FIN_OP_ACC_12M</td>\n",
       "      <td>0.000372</td>\n",
       "    </tr>\n",
       "    <tr>\n",
       "      <th>308</th>\n",
       "      <td>AVG_VENC1M_OP_ACC_06M</td>\n",
       "      <td>0.000372</td>\n",
       "    </tr>\n",
       "    <tr>\n",
       "      <th>309</th>\n",
       "      <td>MAX_SALINI_OTHER_FIN_OP_ACC</td>\n",
       "      <td>0.000372</td>\n",
       "    </tr>\n",
       "    <tr>\n",
       "      <th>310</th>\n",
       "      <td>MAX_MAX_HI_CALCAR_FLOOR_12M</td>\n",
       "      <td>0.000372</td>\n",
       "    </tr>\n",
       "    <tr>\n",
       "      <th>311</th>\n",
       "      <td>AVG_VIGENTEC_OP_ACC_03M</td>\n",
       "      <td>0.000372</td>\n",
       "    </tr>\n",
       "    <tr>\n",
       "      <th>312</th>\n",
       "      <td>AVG_PND_MAS_VENC29_03M</td>\n",
       "      <td>0.000372</td>\n",
       "    </tr>\n",
       "    <tr>\n",
       "      <th>313</th>\n",
       "      <td>MAX_MAX_VP_PER_U12M_2</td>\n",
       "      <td>0.000372</td>\n",
       "    </tr>\n",
       "    <tr>\n",
       "      <th>314</th>\n",
       "      <td>AVG_PCT_VENC1M_OP_ACC_03M</td>\n",
       "      <td>0.000372</td>\n",
       "    </tr>\n",
       "    <tr>\n",
       "      <th>315</th>\n",
       "      <td>MIN_MS_CL_BRG_CL_ACC</td>\n",
       "      <td>0.000372</td>\n",
       "    </tr>\n",
       "    <tr>\n",
       "      <th>316</th>\n",
       "      <td>MAX_MAX_VP_MES_U06M_2</td>\n",
       "      <td>0.000372</td>\n",
       "    </tr>\n",
       "    <tr>\n",
       "      <th>317</th>\n",
       "      <td>MIN_AVG1_VP_PER_U06M</td>\n",
       "      <td>0.000186</td>\n",
       "    </tr>\n",
       "    <tr>\n",
       "      <th>318</th>\n",
       "      <td>MIN_SALINI_BRG_CS_OP_ACC</td>\n",
       "      <td>0.000186</td>\n",
       "    </tr>\n",
       "    <tr>\n",
       "      <th>319</th>\n",
       "      <td>MAX_PCT_VIGENTEC_BK_OP_ACC_12M</td>\n",
       "      <td>0.000186</td>\n",
       "    </tr>\n",
       "    <tr>\n",
       "      <th>320</th>\n",
       "      <td>AVG_MAX_VP_MES_U12M_2</td>\n",
       "      <td>0.000186</td>\n",
       "    </tr>\n",
       "    <tr>\n",
       "      <th>321</th>\n",
       "      <td>AVG_PND_MAS_AVG_HI_CALCAR_CEIL_12M</td>\n",
       "      <td>0.000186</td>\n",
       "    </tr>\n",
       "    <tr>\n",
       "      <th>322</th>\n",
       "      <td>MAX_SALINI_BK_R_OP_ACC</td>\n",
       "      <td>0.000186</td>\n",
       "    </tr>\n",
       "    <tr>\n",
       "      <th>323</th>\n",
       "      <td>AVG_VENC30M_BRG_CS_OP_ACC_03M</td>\n",
       "      <td>0.000186</td>\n",
       "    </tr>\n",
       "    <tr>\n",
       "      <th>324</th>\n",
       "      <td>MIN_MAX_VP_PER_U03M</td>\n",
       "      <td>0.000186</td>\n",
       "    </tr>\n",
       "    <tr>\n",
       "      <th>325</th>\n",
       "      <td>MAX_VENC1M_BRG_CS_OP_ACC_03M</td>\n",
       "      <td>0.000186</td>\n",
       "    </tr>\n",
       "    <tr>\n",
       "      <th>326</th>\n",
       "      <td>MIN_VENCIDO1MAS_12M</td>\n",
       "      <td>0.000186</td>\n",
       "    </tr>\n",
       "    <tr>\n",
       "      <th>327</th>\n",
       "      <td>MIN_AVG_HI_CALCAR_CEIL_12M</td>\n",
       "      <td>0.000186</td>\n",
       "    </tr>\n",
       "    <tr>\n",
       "      <th>328</th>\n",
       "      <td>AVG_MAX_VP_MES_U06M</td>\n",
       "      <td>0.000186</td>\n",
       "    </tr>\n",
       "    <tr>\n",
       "      <th>329</th>\n",
       "      <td>MAX_VIGENTEC_BK_CS_OP_ACC_03M</td>\n",
       "      <td>0.000186</td>\n",
       "    </tr>\n",
       "    <tr>\n",
       "      <th>330</th>\n",
       "      <td>MAX_SALINI_BK_R_OP_ACC_12M</td>\n",
       "      <td>0.000186</td>\n",
       "    </tr>\n",
       "    <tr>\n",
       "      <th>331</th>\n",
       "      <td>MAX_SALINI_BK_CL_ACC</td>\n",
       "      <td>0.000186</td>\n",
       "    </tr>\n",
       "    <tr>\n",
       "      <th>332</th>\n",
       "      <td>MIN_MS_OP_BK_CS_OP_ACC</td>\n",
       "      <td>0.000186</td>\n",
       "    </tr>\n",
       "    <tr>\n",
       "      <th>333</th>\n",
       "      <td>MAX_VENC1M_BRG_OP_ACC_06M</td>\n",
       "      <td>0.000186</td>\n",
       "    </tr>\n",
       "    <tr>\n",
       "      <th>334</th>\n",
       "      <td>AVG_VENC1M_BK_CS_OP_ACC_12M</td>\n",
       "      <td>0.000186</td>\n",
       "    </tr>\n",
       "    <tr>\n",
       "      <th>335</th>\n",
       "      <td>AVG_PCT_VENC89_12M</td>\n",
       "      <td>0.000186</td>\n",
       "    </tr>\n",
       "    <tr>\n",
       "      <th>336</th>\n",
       "      <td>AVG_PND_MAS_VENC89_12M</td>\n",
       "      <td>0.000186</td>\n",
       "    </tr>\n",
       "    <tr>\n",
       "      <th>337</th>\n",
       "      <td>MAX_VENC179_OP_ACC</td>\n",
       "      <td>0.000186</td>\n",
       "    </tr>\n",
       "    <tr>\n",
       "      <th>338</th>\n",
       "      <td>MAX_MS_CL_BRG_CS_CL_ACC</td>\n",
       "      <td>0.000186</td>\n",
       "    </tr>\n",
       "    <tr>\n",
       "      <th>339</th>\n",
       "      <td>AVG_AVG2_VP_MES_U03M_2</td>\n",
       "      <td>0.000186</td>\n",
       "    </tr>\n",
       "    <tr>\n",
       "      <th>340</th>\n",
       "      <td>MAX_VENC1M_BRG_OP_ACC</td>\n",
       "      <td>0.000186</td>\n",
       "    </tr>\n",
       "    <tr>\n",
       "      <th>341</th>\n",
       "      <td>PCT_BRG_CL_ACC</td>\n",
       "      <td>0.000186</td>\n",
       "    </tr>\n",
       "    <tr>\n",
       "      <th>342</th>\n",
       "      <td>AVG_AVG_HI_CALCAR_CEIL_12M</td>\n",
       "      <td>0.000186</td>\n",
       "    </tr>\n",
       "    <tr>\n",
       "      <th>343</th>\n",
       "      <td>MIN_R_BAL_BY_MAX_BAL_03M</td>\n",
       "      <td>0.000186</td>\n",
       "    </tr>\n",
       "    <tr>\n",
       "      <th>344</th>\n",
       "      <td>AVG_PCT_VIGENTEC_BRG_OP_ACC</td>\n",
       "      <td>0.000186</td>\n",
       "    </tr>\n",
       "    <tr>\n",
       "      <th>345</th>\n",
       "      <td>MIN_SALINI_BRG_CS_OP_ACC_06M</td>\n",
       "      <td>0.000186</td>\n",
       "    </tr>\n",
       "    <tr>\n",
       "      <th>346</th>\n",
       "      <td>AVG2_VP_PER</td>\n",
       "      <td>0.000186</td>\n",
       "    </tr>\n",
       "    <tr>\n",
       "      <th>347</th>\n",
       "      <td>MAX_VENC29_BK_OP_ACC_12M</td>\n",
       "      <td>0.000186</td>\n",
       "    </tr>\n",
       "    <tr>\n",
       "      <th>348</th>\n",
       "      <td>MAX_VIGENTEC_BRG_OP_ACC_03M</td>\n",
       "      <td>0.000186</td>\n",
       "    </tr>\n",
       "    <tr>\n",
       "      <th>349</th>\n",
       "      <td>AVG_VENC89_BK_OP_ACC_06M</td>\n",
       "      <td>0.000186</td>\n",
       "    </tr>\n",
       "    <tr>\n",
       "      <th>350</th>\n",
       "      <td>MIN_SALINI_OTHER_FIN_OP_ACC</td>\n",
       "      <td>0.000186</td>\n",
       "    </tr>\n",
       "    <tr>\n",
       "      <th>351</th>\n",
       "      <td>MAX_PCT_VENC59_03M</td>\n",
       "      <td>0.000186</td>\n",
       "    </tr>\n",
       "    <tr>\n",
       "      <th>352</th>\n",
       "      <td>MAX_PCT_VENC1M_LSE_OP_ACC_06M</td>\n",
       "      <td>0.000186</td>\n",
       "    </tr>\n",
       "    <tr>\n",
       "      <th>353</th>\n",
       "      <td>AVG_VIGENTEC_BK_OP_ACC_03M</td>\n",
       "      <td>0.000186</td>\n",
       "    </tr>\n",
       "    <tr>\n",
       "      <th>354</th>\n",
       "      <td>MAX_MIN_VP_MES_U06M_2</td>\n",
       "      <td>0.000186</td>\n",
       "    </tr>\n",
       "    <tr>\n",
       "      <th>355</th>\n",
       "      <td>AVG_VENC29_OP_ACC</td>\n",
       "      <td>0.000186</td>\n",
       "    </tr>\n",
       "    <tr>\n",
       "      <th>356</th>\n",
       "      <td>NUM_CLAVOBS_BRG_CL_ACC_06M</td>\n",
       "      <td>0.000186</td>\n",
       "    </tr>\n",
       "    <tr>\n",
       "      <th>357</th>\n",
       "      <td>AVG_PND_MENOS_MAX_HI_CALCAR_L_06M</td>\n",
       "      <td>0.000186</td>\n",
       "    </tr>\n",
       "    <tr>\n",
       "      <th>358</th>\n",
       "      <td>MAX_SALINI_CL_ACC_06M</td>\n",
       "      <td>0.000186</td>\n",
       "    </tr>\n",
       "    <tr>\n",
       "      <th>359</th>\n",
       "      <td>AVG_PND_MAS_VENC59_12M</td>\n",
       "      <td>0.000186</td>\n",
       "    </tr>\n",
       "    <tr>\n",
       "      <th>360</th>\n",
       "      <td>MIN_AVG1_VP_MES_U12M</td>\n",
       "      <td>0.000186</td>\n",
       "    </tr>\n",
       "    <tr>\n",
       "      <th>361</th>\n",
       "      <td>MIN_MAX_VP_MES_U03M</td>\n",
       "      <td>0.000186</td>\n",
       "    </tr>\n",
       "    <tr>\n",
       "      <th>362</th>\n",
       "      <td>AVG_PCT_VENC30M_12M</td>\n",
       "      <td>0.000186</td>\n",
       "    </tr>\n",
       "    <tr>\n",
       "      <th>363</th>\n",
       "      <td>MIN_SALINI_OTHER_FIN_LSG_OP_ACC_12M</td>\n",
       "      <td>0.000186</td>\n",
       "    </tr>\n",
       "    <tr>\n",
       "      <th>364</th>\n",
       "      <td>AVG_VIGENTEC_BRG_CS_OP_ACC_06M</td>\n",
       "      <td>0.000186</td>\n",
       "    </tr>\n",
       "    <tr>\n",
       "      <th>365</th>\n",
       "      <td>MAX_MS_OP_BK_CS_OP_ACC</td>\n",
       "      <td>0.000186</td>\n",
       "    </tr>\n",
       "  </tbody>\n",
       "</table>\n",
       "</div>"
      ],
      "text/plain": [
       "                                   Feature  Importance\n",
       "0                   MONTHS_ON_FILE_BANKING    0.033445\n",
       "1                               NUM_CL_ACC    0.030658\n",
       "2                         NUM_VIGENTEH_03M    0.026942\n",
       "3              NUM_AVG_HI_CALCAR_FLOOR_03M    0.026570\n",
       "4                           NUM_BRG_CL_ACC    0.023040\n",
       "5                                 DPCV_INT    0.022482\n",
       "6                       MAX_DIAS_PARA_PAGO    0.019695\n",
       "7                                 DPCV_CAP    0.018766\n",
       "8               MAX_MAX_HI_CALCAR_CEIL_12M    0.017094\n",
       "9                         PCT_BRG_R_OP_ACC    0.015236\n",
       "10                        NUM_VIGENTEH_12M    0.014864\n",
       "11                         NBK12_PCT_PROMT    0.014864\n",
       "12                    NUM_PCT_VIGENTEH_06M    0.014307\n",
       "13              MIN_MAX_HI_CALCAR_CEIL_12M    0.014121\n",
       "14             AVG_MAX_DIAS_PARA_PAGO_U03M    0.013564\n",
       "15                MAX_R_BAL_BY_MAX_BAL_06M    0.013564\n",
       "16                             DIAS_ATRASO    0.013192\n",
       "17             NUM_AVG_HI_CALCAR_FLOOR_12M    0.013006\n",
       "18                              PCT_OP_ACC    0.012821\n",
       "19                 MIN_SALINI_BRG_R_OP_ACC    0.012449\n",
       "20                                DS_OL_CL    0.011334\n",
       "21                  MAX_MS_OP_BRG_R_OP_ACC    0.011148\n",
       "22                 MIN_MAX_HI_CALCAR_L_12M    0.010591\n",
       "23                                   DS_CL    0.009848\n",
       "24                     MIN_MIN_VP_MES_U12M    0.009662\n",
       "25             MAX_MAX_DIAS_PARA_PAGO_U12M    0.009662\n",
       "26           MAX_VIGENTEC_BRG_R_OP_ACC_03M    0.009290\n",
       "27             NUM_MAX_HI_CALCAR_FLOOR_12M    0.009104\n",
       "28                MAX_R_BAL_BY_MAX_BAL_03M    0.008919\n",
       "29               MIN_R_BAL_BY_CRED_LIM_12M    0.008733\n",
       "30                        MIN_MS_OP_OP_ACC    0.008733\n",
       "31                           BK12_NUM_CRED    0.008547\n",
       "32             MIN_MAX_DIAS_PARA_PAGO_U03M    0.007990\n",
       "33               AVG_R_BAL_BY_CRED_LIM_12M    0.007618\n",
       "34                              MIN_VP_PER    0.007432\n",
       "35                     MIN_MIN_VP_PER_U03M    0.007061\n",
       "36                      AVG_FD_CALCAR_CEIL    0.007061\n",
       "37               MAX_VIGENTEC_BRG_R_OP_ACC    0.006689\n",
       "38               AVG_VENC1M_BRG_OP_ACC_03M    0.006132\n",
       "39                             MIN_BAL_12M    0.005946\n",
       "40                          NUM_VENC59_12M    0.005760\n",
       "41                  AVG_VENC30M_OP_ACC_12M    0.005388\n",
       "42                         BK12_NUM_TC_ACT    0.005203\n",
       "43       AVG_PND_MAS_D_CRED_LIM_TO_BAL_03M    0.005017\n",
       "44                  MIN_MS_OP_BRG_R_OP_ACC    0.005017\n",
       "45                          PCT_BRG_OP_ACC    0.004831\n",
       "46                     MAX_MAX_VP_PER_U06M    0.004831\n",
       "47             MAX_MAX_DIAS_PARA_PAGO_U03M    0.004831\n",
       "48                  MIN_SALINI_BK_R_CL_ACC    0.004645\n",
       "49                            MAX_VP_MES_2    0.004459\n",
       "50             MIN_AVG_HI_CALCAR_FLOOR_12M    0.004459\n",
       "51                        MIN_VIGENTEH_12M    0.004274\n",
       "52                   MIN_MIN_VP_PER_U06M_2    0.004274\n",
       "53                                   MS_OP    0.004274\n",
       "54                   SUM_PAGOREALIZADO_MES    0.004088\n",
       "55           AVG_VIGENTEC_BK_CS_OP_ACC_03M    0.004088\n",
       "56             MAX_MAX_DIAS_PARA_PAGO_U06M    0.004088\n",
       "57                          NUM_VENC29_06M    0.003902\n",
       "58                           AVG2_VP_MES_2    0.003902\n",
       "59       AVG_PND_MAS_R_BAL_BY_CRED_LIM_12M    0.003902\n",
       "60                               DEUDA_TOT    0.003716\n",
       "61                            MAX_VP_PER_2    0.003716\n",
       "62                 MIN_MAX_HI_CALCAR_L_06M    0.003716\n",
       "63                        MAX_MS_CL_CL_ACC    0.003716\n",
       "64             MAX_VENC1M_BK_CS_OP_ACC_12M    0.003530\n",
       "65                   AVG_VENC1M_OP_ACC_03M    0.003530\n",
       "66                  AVG_MS_OP_BRG_R_OP_ACC    0.003530\n",
       "67                             BK_DEUDA_CP    0.003530\n",
       "68              AVG_PND_MAS_PCT_VENC59_12M    0.003344\n",
       "69               MAX_R_BAL_BY_CRED_LIM_12M    0.003344\n",
       "70           AVG_PCT_VENC1M_BRG_OP_ACC_03M    0.003344\n",
       "71                AVG_SALINI_BRG_CS_OP_ACC    0.003344\n",
       "72                 MIN_AVG_HI_CALCAR_L_12M    0.003344\n",
       "73                     AVG_PCT_VENC30M_03M    0.003344\n",
       "74               MIN_R_BAL_BY_CRED_LIM_03M    0.003344\n",
       "75               MAX_VENC30M_BK_OP_ACC_12M    0.003159\n",
       "76               MIN_R_BAL_BY_CRED_LIM_06M    0.003159\n",
       "77                      MAX_PCT_VENC59_12M    0.003159\n",
       "78               MAX_R_BAL_BY_CRED_LIM_06M    0.003159\n",
       "79              AVG_PND_MAS_PCT_VENC29_03M    0.003159\n",
       "80                AVG_VIGENTEC_BK_R_OP_ACC    0.002973\n",
       "81                    MIN_MS_OP_BRG_OP_ACC    0.002973\n",
       "82              NUM_CLAVOBS_BRG_CL_ACC_12M    0.002973\n",
       "83        AVG_PND_MAS_R_BAL_BY_MAX_BAL_06M    0.002787\n",
       "84      MAX_PCT_VIGENTEC_BRG_CS_OP_ACC_03M    0.002787\n",
       "85          AVG_PCT_VENC1M_BK_R_OP_ACC_12M    0.002787\n",
       "86                        MAX_CRED_LIM_12M    0.002787\n",
       "87                     AVG_MS_CL_BK_CL_ACC    0.002787\n",
       "88                    MAX_MS_OP_BRG_OP_ACC    0.002787\n",
       "89                  AVG_PCT_VENC30M_OP_ACC    0.002601\n",
       "90             MIN_MAX_HI_CALCAR_FLOOR_12M    0.002601\n",
       "91               SUM_PAGOREALIZADO_PERIODO    0.002601\n",
       "92             AVG_MAX_DIAS_PARA_PAGO_U06M    0.002601\n",
       "93             AVG_MAX_DIAS_PARA_PAGO_U12M    0.002601\n",
       "94                  MAX_VENC30M_OP_ACC_03M    0.002601\n",
       "95                MAX_SALINI_BK_CL_ACC_12M    0.002415\n",
       "96                     MAX_MIN_VP_MES_U12M    0.002415\n",
       "97                      NUM_PCT_VENC29_12M    0.002415\n",
       "98       AVG_PCT_VIGENTEC_BRG_R_OP_ACC_12M    0.002415\n",
       "99             AVG_PND_MAS_PCT_VENC60M_06M    0.002415\n",
       "100               MIN_SALINI_GBN_CF_CL_ACC    0.002415\n",
       "101                    NBK12_COMM_PCT_PLUS    0.002415\n",
       "102               AVG_VENC1M_BK_OP_ACC_03M    0.002415\n",
       "103    AVG_PND_MENOS_R_BAL_BY_CRED_LIM_12M    0.002230\n",
       "104            MAX_MAX_HI_CALCAR_FLOOR_06M    0.002230\n",
       "105             MAX_PCT_VENC1M_BK_R_OP_ACC    0.002230\n",
       "106             MAX_PCT_VENC30M_OP_ACC_06M    0.002230\n",
       "107                  AVG_SALINI_OP_ACC_03M    0.002230\n",
       "108                      R_BAL_BY_CRED_LIM    0.002230\n",
       "109               MIN_SALINI_BK_CL_ACC_12M    0.002230\n",
       "110                       MAX_MS_OP_OP_ACC    0.002230\n",
       "111             AVG_PND_MAS_PCT_VENC59_06M    0.002230\n",
       "112                            AVG1_VP_MES    0.002230\n",
       "113              MAX_SALINI_BRG_CL_ACC_12M    0.002230\n",
       "114           AVG_PND_MENOS_PCT_VENC29_06M    0.002044\n",
       "115                   MAX_AVG2_VP_PER_U12M    0.002044\n",
       "116            AVG_PND_MAS_PCT_VENC90M_12M    0.002044\n",
       "117                  MAX_MIN_VP_PER_U06M_2    0.002044\n",
       "118                    MAX_VENCIDO1MAS_03M    0.002044\n",
       "119                  AVG_MAX_VP_PER_U03M_2    0.002044\n",
       "120                    MAX_PCT_VENC30M_06M    0.002044\n",
       "121                     MAX_PCT_VENC1M_03M    0.002044\n",
       "122          AVG_VIGENTEC_BRG_R_OP_ACC_06M    0.001858\n",
       "123                   AVG_VENCIDO30MAS_12M    0.001858\n",
       "124                  AVG_VENC1M_OP_ACC_12M    0.001858\n",
       "125                    MIN_MAX_VP_MES_U12M    0.001858\n",
       "126               AVG_SALINI_BK_CL_ACC_12M    0.001858\n",
       "127                 AVG_AVG1_VP_PER_U03M_2    0.001858\n",
       "128                   MIN_AVG1_VP_MES_U03M    0.001858\n",
       "129                      AVG_SALINI_CL_ACC    0.001858\n",
       "130                    NUM_PCT_VENC30M_12M    0.001858\n",
       "131               AVG_PND_MAS_VIGENTEH_03M    0.001672\n",
       "132                 MIN_AVG1_VP_PER_U12M_2    0.001672\n",
       "133            AVG_PCT_VIGENTEC_OP_ACC_12M    0.001672\n",
       "134                  MAX_PCT_VENC1M_OP_ACC    0.001672\n",
       "135   AVG_PND_MENOS_MAX_HI_CALCAR_CEIL_06M    0.001672\n",
       "136              AVG_SALINI_BRG_CL_ACC_12M    0.001672\n",
       "137     AVG_PND_MAS_AVG_HI_CALCAR_CEIL_03M    0.001672\n",
       "138                  MAX_SALINI_OP_ACC_03M    0.001672\n",
       "139      AVG_PND_MAS_R_BAL_BY_CRED_LIM_03M    0.001672\n",
       "140              MIN_D_CRED_LIM_TO_BAL_06M    0.001672\n",
       "141                     MAX_PCT_VENC29_12M    0.001672\n",
       "142            MAX_PCT_VENC120M_OP_ACC_03M    0.001672\n",
       "143               SUM_AMORTIZACIONEXIGIBLE    0.001672\n",
       "144                  MAX_VENC1M_OP_ACC_06M    0.001672\n",
       "145                  MAX_MIN_VP_MES_U03M_2    0.001672\n",
       "146                    MAX_MAX_VP_MES_U12M    0.001672\n",
       "147            MIN_MAX_HI_CALCAR_FLOOR_03M    0.001672\n",
       "148        MAX_PCT_VENC29_BRG_R_OP_ACC_06M    0.001486\n",
       "149            AVG_PND_MAS_VENCIDO1MAS_03M    0.001486\n",
       "150          MAX_PCT_VENC1M_BRG_OP_ACC_12M    0.001486\n",
       "151                   AVG_VENCIDO30MAS_06M    0.001486\n",
       "152                   AVG_VENC1M_BK_OP_ACC    0.001486\n",
       "153                    AVG_PCT_VENC60M_06M    0.001486\n",
       "154         MAX_PCT_VIGENTEC_BRG_CS_OP_ACC    0.001486\n",
       "155              AVG_VIGENTEC_BRG_R_OP_ACC    0.001486\n",
       "156              AVG_VENC30M_BK_OP_ACC_03M    0.001486\n",
       "157                         NBK12_DEUDA_CP    0.001486\n",
       "158                  MIN_MIN_VP_PER_U03M_2    0.001486\n",
       "159             AVG_PND_MAS_PCT_VENC89_12M    0.001486\n",
       "160         MAX_PCT_VENC30M_BRG_OP_ACC_12M    0.001486\n",
       "161                   AVG_MS_CL_BRG_CL_ACC    0.001486\n",
       "162                  MIN_MAX_VP_MES_U06M_2    0.001486\n",
       "163                    MAX_PCT_VENC30M_12M    0.001486\n",
       "164                  MAX_MS_OP_BK_R_OP_ACC    0.001486\n",
       "165           AVG_PND_MENOS_PCT_VENC1M_03M    0.001486\n",
       "166             AVG_PND_MAS_PCT_VENC89_06M    0.001486\n",
       "167                  MAX_VENC1M_OP_ACC_03M    0.001486\n",
       "168                    MAX_MIN_VP_MES_U06M    0.001486\n",
       "169                            BK_IND_PMOR    0.001486\n",
       "170               MAX_VENC1M_BK_OP_ACC_03M    0.001301\n",
       "171                       MIN_VIGENTEH_06M    0.001301\n",
       "172               MAX_VENC1M_BK_OP_ACC_12M    0.001301\n",
       "173                AVG_SALINI_BK_CS_CL_ACC    0.001301\n",
       "174                AVG_MS_OP_BRG_CS_OP_ACC    0.001301\n",
       "175         MAX_VIGENTEC_BRG_CS_OP_ACC_03M    0.001301\n",
       "176                       AVG_MS_CL_CL_ACC    0.001301\n",
       "177              AVG_R_BAL_BY_CRED_LIM_03M    0.001301\n",
       "178    AVG_PND_MENOS_R_BAL_BY_CRED_LIM_03M    0.001301\n",
       "179              MAX_VENC1M_BRG_OP_ACC_03M    0.001301\n",
       "180                     AVG_PCT_VENC59_06M    0.001301\n",
       "181       AVG_PND_MAS_R_BAL_BY_MAX_BAL_03M    0.001301\n",
       "182              MAX_VENC29_BRG_OP_ACC_03M    0.001301\n",
       "183                        MAX_VENC90M_12M    0.001115\n",
       "184             MIN_MAX_HI_CALCAR_CEIL_03M    0.001115\n",
       "185                  MAX_VENC1M_OP_ACC_12M    0.001115\n",
       "186                 AVG_VENC30M_OP_ACC_06M    0.001115\n",
       "187                  MIN_SALINI_CL_ACC_03M    0.001115\n",
       "188                       MAX_CRED_LIM_03M    0.001115\n",
       "189                    MIN_MS_CL_BK_CL_ACC    0.001115\n",
       "190          MAX_PCT_VIGENTEC_BRG_R_OP_ACC    0.001115\n",
       "191           AVG_VIGENTEC_BK_R_OP_ACC_12M    0.001115\n",
       "192                AVG_PCT_VIGENTEC_OP_ACC    0.001115\n",
       "193               MAX_VENC29_BK_OP_ACC_03M    0.001115\n",
       "194                  MAX_VENC29_OP_ACC_03M    0.001115\n",
       "195                    MAX_PCT_VENC30M_03M    0.001115\n",
       "196                    AVG_MS_OP_BK_OP_ACC    0.001115\n",
       "197                MAX_AVG_HI_CALCAR_L_03M    0.001115\n",
       "198                 MIN_MS_CL_BRG_R_CL_ACC    0.001115\n",
       "199     AVG_PND_MENOS_R_BAL_BY_MAX_BAL_06M    0.001115\n",
       "200     AVG_PND_MENOS_R_BAL_BY_MAX_BAL_12M    0.000929\n",
       "201                      D_CRED_LIM_TO_BAL    0.000929\n",
       "202             AVG_MS_OP_OTHER_FIN_OP_ACC    0.000929\n",
       "203      MAX_PCT_VIGENTEC_BRG_R_OP_ACC_12M    0.000929\n",
       "204              NUM_CLAVOBS_BK_CL_ACC_03M    0.000929\n",
       "205         MAX_PCT_VENC30M_BRG_OP_ACC_03M    0.000929\n",
       "206                       AVG_MS_OP_OP_ACC    0.000929\n",
       "207                 MIN_AVG2_VP_PER_U03M_2    0.000929\n",
       "208            AVG_VENC1M_BK_CS_OP_ACC_06M    0.000929\n",
       "209        AVG_PND_MAS_AVG_HI_CALCAR_L_03M    0.000929\n",
       "210                   MAX_AVG2_VP_MES_U06M    0.000929\n",
       "211          AVG_PND_MENOS_VENCIDO1MAS_03M    0.000929\n",
       "212                    MIN_MAX_VP_PER_U06M    0.000929\n",
       "213                            MAX_BAL_06M    0.000929\n",
       "214                 AVG_MS_OP_BK_CS_OP_ACC    0.000929\n",
       "215                  AVG_VENC89_OP_ACC_03M    0.000929\n",
       "216             MAX_VENC30M_BRG_OP_ACC_03M    0.000929\n",
       "217              AVG_PND_MENOS_VENC90M_12M    0.000929\n",
       "218            AVG_VIGENTEC_BRG_OP_ACC_03M    0.000929\n",
       "219              MAX_VENC1M_BRG_OP_ACC_12M    0.000929\n",
       "220              AVG_D_CRED_LIM_TO_BAL_06M    0.000929\n",
       "221               MAX_VENC1M_BK_OP_ACC_06M    0.000929\n",
       "222                  AVG_VENC30M_BK_OP_ACC    0.000929\n",
       "223       AVG_PND_MAS_R_BAL_BY_MAX_BAL_12M    0.000929\n",
       "224          MAX_VIGENTEC_BRG_R_OP_ACC_06M    0.000929\n",
       "225                 MIN_AVG2_VP_PER_U06M_2    0.000929\n",
       "226                  MIN_MIN_VP_MES_U06M_2    0.000929\n",
       "227            MAX_SALINI_OTHER_FIN_CL_ACC    0.000743\n",
       "228                  MIN_MAX_VP_PER_U06M_2    0.000743\n",
       "229                 MIN_AVG2_VP_MES_U06M_2    0.000743\n",
       "230               AVG_R_BAL_BY_MAX_BAL_03M    0.000743\n",
       "231    AVG_PND_MENOS_R_BAL_BY_CRED_LIM_06M    0.000743\n",
       "232                 MIN_MS_CL_BK_CS_CL_ACC    0.000743\n",
       "233               MIN_R_BAL_BY_MAX_BAL_12M    0.000743\n",
       "234              MAX_R_BAL_BY_CRED_LIM_03M    0.000743\n",
       "235          AVG_PCT_VENC1M_LSE_OP_ACC_03M    0.000743\n",
       "236                  AVG_MIN_VP_PER_U12M_2    0.000743\n",
       "237              AVG_SALINI_LSE_OP_ACC_03M    0.000743\n",
       "238               MIN_R_BAL_BY_MAX_BAL_06M    0.000743\n",
       "239    AVG_PND_MAS_MAX_HI_CALCAR_FLOOR_03M    0.000743\n",
       "240                   MIN_AVG2_VP_PER_U12M    0.000743\n",
       "241               AVG_SALINI_BK_CL_ACC_06M    0.000743\n",
       "242                  AVG_MIN_VP_PER_U06M_2    0.000743\n",
       "243                            MIN_BAL_03M    0.000743\n",
       "244              MAX_PCT_VENC1M_OP_ACC_12M    0.000743\n",
       "245                   AVG_AVG2_VP_MES_U12M    0.000743\n",
       "246                   MIN_AVG1_VP_PER_U12M    0.000743\n",
       "247           AVG_PND_MENOS_PCT_VENC89_06M    0.000743\n",
       "248                         SUM_VENC89_06M    0.000743\n",
       "249           MAX_VIGENTEC_BK_R_OP_ACC_03M    0.000743\n",
       "250             AVG_PCT_VENC90M_OP_ACC_12M    0.000743\n",
       "251             AVG_PND_MENOS_VIGENTEH_12M    0.000743\n",
       "252              MAX_VIGENTEC_BK_CS_OP_ACC    0.000743\n",
       "253                  MAX_MAX_VP_MES_U03M_2    0.000743\n",
       "254                   AVG_MS_OP_BRG_OP_ACC    0.000743\n",
       "255      AVG_PND_MENOS_AVG_HI_CALCAR_L_12M    0.000743\n",
       "256                            AVG1_VP_PER    0.000557\n",
       "257                  AVG_VENC89_OP_ACC_06M    0.000557\n",
       "258                  AVG_VENC1M_BRG_OP_ACC    0.000557\n",
       "259                MAX_VIGENTEC_BRG_OP_ACC    0.000557\n",
       "260    AVG_PND_MAS_MAX_HI_CALCAR_FLOOR_06M    0.000557\n",
       "261                      AVG_VENC1M_OP_ACC    0.000557\n",
       "262               AVG_VENC29_BK_OP_ACC_03M    0.000557\n",
       "263        AVG_PND_MAS_MAX_HI_CALCAR_L_12M    0.000557\n",
       "264                 AVG_AVG1_VP_MES_U12M_2    0.000557\n",
       "265                   AVG_AVG2_VP_PER_U06M    0.000557\n",
       "266         MIN_MS_CL_OTHER_FIN_LSG_CL_ACC    0.000557\n",
       "267      AVG_PCT_VENC30M_BRG_CS_OP_ACC_06M    0.000557\n",
       "268                  MIN_MS_OP_BK_R_OP_ACC    0.000557\n",
       "269               AVG_R_BAL_BY_MAX_BAL_06M    0.000557\n",
       "270             MAX_SALINI_BK_R_OP_ACC_03M    0.000557\n",
       "271          AVG_PND_MENOS_PCT_VENC30M_12M    0.000557\n",
       "272                  AVG_SALINI_CL_ACC_06M    0.000557\n",
       "273                   AVG_AVG1_VP_MES_U06M    0.000557\n",
       "274  AVG_PND_MENOS_MAX_HI_CALCAR_FLOOR_06M    0.000557\n",
       "275                         AVG_VENC59_12M    0.000557\n",
       "276             AVG_MAX_HI_CALCAR_CEIL_12M    0.000557\n",
       "277            MIN_SALINI_BK_CS_CL_ACC_06M    0.000557\n",
       "278                  AVG_MS_OP_BK_R_OP_ACC    0.000557\n",
       "279               AVG_VENC1M_BK_OP_ACC_12M    0.000557\n",
       "280              AVG_R_BAL_BY_CRED_LIM_06M    0.000557\n",
       "281              AVG_SALINI_BRG_OP_ACC_06M    0.000557\n",
       "282            AVG_SALINI_OTHER_FIN_OP_ACC    0.000372\n",
       "283                 MAX_MS_CL_BRG_R_CL_ACC    0.000372\n",
       "284        AVG_PND_MAS_AVG_HI_CALCAR_L_06M    0.000372\n",
       "285           MAX_VIGENTEC_BK_R_OP_ACC_06M    0.000372\n",
       "286                   AVG_AVG2_VP_PER_U03M    0.000372\n",
       "287                   MAX_VENC1M_BK_OP_ACC    0.000372\n",
       "288                         MAX_VENC29_06M    0.000372\n",
       "289                MIN_MS_OP_BRG_CS_OP_ACC    0.000372\n",
       "290                  AVG_MS_CL_BK_R_CL_ACC    0.000372\n",
       "291           AVG_PND_MENOS_PCT_VENC29_12M    0.000372\n",
       "292        AVG_PCT_VENC1M_BK_CS_OP_ACC_06M    0.000372\n",
       "293             AVG_PND_MAS_PCT_VENC59_03M    0.000372\n",
       "294           AVG_PND_MENOS_PCT_VENC59_12M    0.000372\n",
       "295                  AVG_MAX_VP_MES_U03M_2    0.000372\n",
       "296                  MIN_SALINI_CL_ACC_06M    0.000372\n",
       "297      AVG_PCT_VIGENTEC_BRG_R_OP_ACC_06M    0.000372\n",
       "298  AVG_PND_MENOS_AVG_HI_CALCAR_FLOOR_06M    0.000372\n",
       "299                    AVG_MAX_VP_PER_U12M    0.000372\n",
       "300            MIN_SALINI_BK_CS_OP_ACC_03M    0.000372\n",
       "301                      MAX_SALINI_CL_ACC    0.000372\n",
       "302              MAX_PCT_VENC29_OP_ACC_12M    0.000372\n",
       "303                     MAX_PCT_VENC89_12M    0.000372\n",
       "304        AVG_PCT_VIGENTEC_BRG_OP_ACC_06M    0.000372\n",
       "305                     AVG_PCT_VENC59_12M    0.000372\n",
       "306                  AVG_MIN_VP_PER_U03M_2    0.000372\n",
       "307      AVG_VIGENTEC_OTHER_FIN_OP_ACC_12M    0.000372\n",
       "308                  AVG_VENC1M_OP_ACC_06M    0.000372\n",
       "309            MAX_SALINI_OTHER_FIN_OP_ACC    0.000372\n",
       "310            MAX_MAX_HI_CALCAR_FLOOR_12M    0.000372\n",
       "311                AVG_VIGENTEC_OP_ACC_03M    0.000372\n",
       "312                 AVG_PND_MAS_VENC29_03M    0.000372\n",
       "313                  MAX_MAX_VP_PER_U12M_2    0.000372\n",
       "314              AVG_PCT_VENC1M_OP_ACC_03M    0.000372\n",
       "315                   MIN_MS_CL_BRG_CL_ACC    0.000372\n",
       "316                  MAX_MAX_VP_MES_U06M_2    0.000372\n",
       "317                   MIN_AVG1_VP_PER_U06M    0.000186\n",
       "318               MIN_SALINI_BRG_CS_OP_ACC    0.000186\n",
       "319         MAX_PCT_VIGENTEC_BK_OP_ACC_12M    0.000186\n",
       "320                  AVG_MAX_VP_MES_U12M_2    0.000186\n",
       "321     AVG_PND_MAS_AVG_HI_CALCAR_CEIL_12M    0.000186\n",
       "322                 MAX_SALINI_BK_R_OP_ACC    0.000186\n",
       "323          AVG_VENC30M_BRG_CS_OP_ACC_03M    0.000186\n",
       "324                    MIN_MAX_VP_PER_U03M    0.000186\n",
       "325           MAX_VENC1M_BRG_CS_OP_ACC_03M    0.000186\n",
       "326                    MIN_VENCIDO1MAS_12M    0.000186\n",
       "327             MIN_AVG_HI_CALCAR_CEIL_12M    0.000186\n",
       "328                    AVG_MAX_VP_MES_U06M    0.000186\n",
       "329          MAX_VIGENTEC_BK_CS_OP_ACC_03M    0.000186\n",
       "330             MAX_SALINI_BK_R_OP_ACC_12M    0.000186\n",
       "331                   MAX_SALINI_BK_CL_ACC    0.000186\n",
       "332                 MIN_MS_OP_BK_CS_OP_ACC    0.000186\n",
       "333              MAX_VENC1M_BRG_OP_ACC_06M    0.000186\n",
       "334            AVG_VENC1M_BK_CS_OP_ACC_12M    0.000186\n",
       "335                     AVG_PCT_VENC89_12M    0.000186\n",
       "336                 AVG_PND_MAS_VENC89_12M    0.000186\n",
       "337                     MAX_VENC179_OP_ACC    0.000186\n",
       "338                MAX_MS_CL_BRG_CS_CL_ACC    0.000186\n",
       "339                 AVG_AVG2_VP_MES_U03M_2    0.000186\n",
       "340                  MAX_VENC1M_BRG_OP_ACC    0.000186\n",
       "341                         PCT_BRG_CL_ACC    0.000186\n",
       "342             AVG_AVG_HI_CALCAR_CEIL_12M    0.000186\n",
       "343               MIN_R_BAL_BY_MAX_BAL_03M    0.000186\n",
       "344            AVG_PCT_VIGENTEC_BRG_OP_ACC    0.000186\n",
       "345           MIN_SALINI_BRG_CS_OP_ACC_06M    0.000186\n",
       "346                            AVG2_VP_PER    0.000186\n",
       "347               MAX_VENC29_BK_OP_ACC_12M    0.000186\n",
       "348            MAX_VIGENTEC_BRG_OP_ACC_03M    0.000186\n",
       "349               AVG_VENC89_BK_OP_ACC_06M    0.000186\n",
       "350            MIN_SALINI_OTHER_FIN_OP_ACC    0.000186\n",
       "351                     MAX_PCT_VENC59_03M    0.000186\n",
       "352          MAX_PCT_VENC1M_LSE_OP_ACC_06M    0.000186\n",
       "353             AVG_VIGENTEC_BK_OP_ACC_03M    0.000186\n",
       "354                  MAX_MIN_VP_MES_U06M_2    0.000186\n",
       "355                      AVG_VENC29_OP_ACC    0.000186\n",
       "356             NUM_CLAVOBS_BRG_CL_ACC_06M    0.000186\n",
       "357      AVG_PND_MENOS_MAX_HI_CALCAR_L_06M    0.000186\n",
       "358                  MAX_SALINI_CL_ACC_06M    0.000186\n",
       "359                 AVG_PND_MAS_VENC59_12M    0.000186\n",
       "360                   MIN_AVG1_VP_MES_U12M    0.000186\n",
       "361                    MIN_MAX_VP_MES_U03M    0.000186\n",
       "362                    AVG_PCT_VENC30M_12M    0.000186\n",
       "363    MIN_SALINI_OTHER_FIN_LSG_OP_ACC_12M    0.000186\n",
       "364         AVG_VIGENTEC_BRG_CS_OP_ACC_06M    0.000186\n",
       "365                 MAX_MS_OP_BK_CS_OP_ACC    0.000186"
      ]
     },
     "metadata": {},
     "output_type": "display_data"
    }
   ],
   "source": [
    "# Trianing\n",
    "version = 0\n",
    "params = {\n",
    "    'objective': 'binary:logistic', \n",
    "    # 'booster': 'dart',\n",
    "    'eta':0.03, \n",
    "    'max_depth': 5, \n",
    "    'eval_metric': 'auc',\n",
    "    # L1 regularization term (default 0)\n",
    "    'alpha': 30,\n",
    "    # L2 regularization term (default 1)\n",
    "    'lambda': 1,\n",
    "    # Minimum loss reduction (default 0)\n",
    "    'gamma': 0.01,\n",
    "    # 'scale_pos_weight': 7,\n",
    "    # extremely imbalanced classes\n",
    "    'max_delta_step': 5,\n",
    "    # minimum sum of instance weight needed in a child (default 1)\n",
    "    'min_child_weight': 1\n",
    "    # 'rate_drop': 0.1,\n",
    "    # 'skip_drop': 0.5,\n",
    "    # 'seed': 1 # ,\n",
    "#     'subsample': 0.5,\n",
    "#     'max_delta_step': 10    \n",
    "}\n",
    "\n",
    "params_BAY = {\n",
    "    'objective': 'binary:logistic', \n",
    "    'eta':0.05,\n",
    "    'max_depth': 12, \n",
    "    'gamma': 0.001, \n",
    "    'min_child_weight': 10.108909877670685, \n",
    "    'max_delta_step': 2.4592238788322622, \n",
    "    'subsample': 1, \n",
    "    'colsample_bytree': 0.4,\n",
    "    'seed': 1\n",
    "}\n",
    "\n",
    "\n",
    "num_round = 300\n",
    "\n",
    "evals = [(dtest, 'eval')]\n",
    "\n",
    "bst = xgb.train(params, dtrain, num_round, evals, feval=val_func)\n",
    "# bst = xgb.train(params, dtrain, num_round, evals, feval=val_func, xgb_model=bst)\n",
    "  \n",
    "feat_imp = get_xgb_feat_importances(bst)\n",
    "display(feat_imp)\n",
    "\n",
    "#pickle.dump(bst, open('models/pickles/cartera_vencida_version{}.pckl.model'.format(version),\"wb\"))\n",
    "#feat_imp.to_csv('models/feature_importances_version{}.csv'.format(version), index=False)"
   ]
  },
  {
   "cell_type": "code",
   "execution_count": 65,
   "metadata": {
    "scrolled": true
   },
   "outputs": [
    {
     "name": "stdout",
     "output_type": "stream",
     "text": [
      "[21:12:05] /workspace/src/tree/updater_prune.cc:74: tree pruning end, 1 roots, 646 extra nodes, 0 pruned nodes, max_depth=10\n",
      "[0]\teval-auc:0.829011\teval-f1_score_thr0.2:0.082419\teval-f1_score_thr0.3:0.219141\teval-f1_score_thr0.4:0.270494\teval-f1_score_thr0.5:0.350688\teval-f1_score_thr0.6:0.36793\teval-f1_score_thr0.7:0.388278\n",
      "[21:12:06] /workspace/src/tree/updater_prune.cc:74: tree pruning end, 1 roots, 662 extra nodes, 0 pruned nodes, max_depth=10\n",
      "[1]\teval-auc:0.857816\teval-f1_score_thr0.2:0.137931\teval-f1_score_thr0.3:0.243122\teval-f1_score_thr0.4:0.306602\teval-f1_score_thr0.5:0.345016\teval-f1_score_thr0.6:0.383375\teval-f1_score_thr0.7:0.400583\n"
     ]
    },
    {
     "name": "stderr",
     "output_type": "stream",
     "text": [
      "/home/ec2-user/anaconda3/envs/python3/lib/python3.6/site-packages/sklearn/metrics/classification.py:1135: UndefinedMetricWarning: F-score is ill-defined and being set to 0.0 due to no predicted samples.\n",
      "  'precision', 'predicted', average, warn_for)\n",
      "/home/ec2-user/anaconda3/envs/python3/lib/python3.6/site-packages/sklearn/metrics/classification.py:1135: UndefinedMetricWarning: F-score is ill-defined and being set to 0.0 due to no predicted samples.\n",
      "  'precision', 'predicted', average, warn_for)\n",
      "/home/ec2-user/anaconda3/envs/python3/lib/python3.6/site-packages/sklearn/metrics/classification.py:1135: UndefinedMetricWarning: F-score is ill-defined and being set to 0.0 due to no predicted samples.\n",
      "  'precision', 'predicted', average, warn_for)\n",
      "/home/ec2-user/anaconda3/envs/python3/lib/python3.6/site-packages/sklearn/metrics/classification.py:1135: UndefinedMetricWarning: F-score is ill-defined and being set to 0.0 due to no predicted samples.\n",
      "  'precision', 'predicted', average, warn_for)\n",
      "/home/ec2-user/anaconda3/envs/python3/lib/python3.6/site-packages/sklearn/metrics/classification.py:1135: UndefinedMetricWarning: F-score is ill-defined and being set to 0.0 due to no predicted samples.\n",
      "  'precision', 'predicted', average, warn_for)\n",
      "/home/ec2-user/anaconda3/envs/python3/lib/python3.6/site-packages/sklearn/metrics/classification.py:1135: UndefinedMetricWarning: F-score is ill-defined and being set to 0.0 due to no predicted samples.\n",
      "  'precision', 'predicted', average, warn_for)\n",
      "/home/ec2-user/anaconda3/envs/python3/lib/python3.6/site-packages/sklearn/metrics/classification.py:1135: UndefinedMetricWarning: F-score is ill-defined and being set to 0.0 due to no predicted samples.\n",
      "  'precision', 'predicted', average, warn_for)\n",
      "/home/ec2-user/anaconda3/envs/python3/lib/python3.6/site-packages/sklearn/metrics/classification.py:1135: UndefinedMetricWarning: F-score is ill-defined and being set to 0.0 due to no predicted samples.\n",
      "  'precision', 'predicted', average, warn_for)\n",
      "/home/ec2-user/anaconda3/envs/python3/lib/python3.6/site-packages/sklearn/metrics/classification.py:1135: UndefinedMetricWarning: F-score is ill-defined and being set to 0.0 due to no predicted samples.\n",
      "  'precision', 'predicted', average, warn_for)\n",
      "/home/ec2-user/anaconda3/envs/python3/lib/python3.6/site-packages/sklearn/metrics/classification.py:1135: UndefinedMetricWarning: F-score is ill-defined and being set to 0.0 due to no predicted samples.\n",
      "  'precision', 'predicted', average, warn_for)\n",
      "/home/ec2-user/anaconda3/envs/python3/lib/python3.6/site-packages/sklearn/metrics/classification.py:1135: UndefinedMetricWarning: F-score is ill-defined and being set to 0.0 due to no predicted samples.\n",
      "  'precision', 'predicted', average, warn_for)\n",
      "/home/ec2-user/anaconda3/envs/python3/lib/python3.6/site-packages/sklearn/metrics/classification.py:1135: UndefinedMetricWarning: F-score is ill-defined and being set to 0.0 due to no predicted samples.\n",
      "  'precision', 'predicted', average, warn_for)\n",
      "/home/ec2-user/anaconda3/envs/python3/lib/python3.6/site-packages/sklearn/metrics/classification.py:1135: UndefinedMetricWarning: F-score is ill-defined and being set to 0.0 due to no predicted samples.\n",
      "  'precision', 'predicted', average, warn_for)\n",
      "/home/ec2-user/anaconda3/envs/python3/lib/python3.6/site-packages/sklearn/metrics/classification.py:1135: UndefinedMetricWarning: F-score is ill-defined and being set to 0.0 due to no predicted samples.\n",
      "  'precision', 'predicted', average, warn_for)\n",
      "/home/ec2-user/anaconda3/envs/python3/lib/python3.6/site-packages/sklearn/metrics/classification.py:1135: UndefinedMetricWarning: F-score is ill-defined and being set to 0.0 due to no predicted samples.\n",
      "  'precision', 'predicted', average, warn_for)\n",
      "/home/ec2-user/anaconda3/envs/python3/lib/python3.6/site-packages/sklearn/metrics/classification.py:1135: UndefinedMetricWarning: F-score is ill-defined and being set to 0.0 due to no predicted samples.\n",
      "  'precision', 'predicted', average, warn_for)\n",
      "/home/ec2-user/anaconda3/envs/python3/lib/python3.6/site-packages/sklearn/metrics/classification.py:1135: UndefinedMetricWarning: F-score is ill-defined and being set to 0.0 due to no predicted samples.\n",
      "  'precision', 'predicted', average, warn_for)\n",
      "/home/ec2-user/anaconda3/envs/python3/lib/python3.6/site-packages/sklearn/metrics/classification.py:1135: UndefinedMetricWarning: F-score is ill-defined and being set to 0.0 due to no predicted samples.\n",
      "  'precision', 'predicted', average, warn_for)\n",
      "/home/ec2-user/anaconda3/envs/python3/lib/python3.6/site-packages/sklearn/metrics/classification.py:1135: UndefinedMetricWarning: F-score is ill-defined and being set to 0.0 due to no predicted samples.\n",
      "  'precision', 'predicted', average, warn_for)\n",
      "/home/ec2-user/anaconda3/envs/python3/lib/python3.6/site-packages/sklearn/metrics/classification.py:1135: UndefinedMetricWarning: F-score is ill-defined and being set to 0.0 due to no predicted samples.\n",
      "  'precision', 'predicted', average, warn_for)\n",
      "/home/ec2-user/anaconda3/envs/python3/lib/python3.6/site-packages/sklearn/metrics/classification.py:1135: UndefinedMetricWarning: F-score is ill-defined and being set to 0.0 due to no predicted samples.\n",
      "  'precision', 'predicted', average, warn_for)\n"
     ]
    },
    {
     "name": "stdout",
     "output_type": "stream",
     "text": [
      "threshold 0.73\n",
      "max f1_score 0.4244372990353698\n",
      "eta 0.3\n",
      "max_depth 10\n",
      "num_round 3\n",
      "------------------------------\n",
      "[21:12:10] /workspace/src/tree/updater_prune.cc:74: tree pruning end, 1 roots, 754 extra nodes, 0 pruned nodes, max_depth=10\n",
      "[0]\teval-auc:0.872287\teval-f1_score_thr0.2:0.211846\teval-f1_score_thr0.3:0.284395\teval-f1_score_thr0.4:0.322581\teval-f1_score_thr0.5:0.362648\teval-f1_score_thr0.6:0.387403\teval-f1_score_thr0.7:0.403349\n",
      "[21:12:11] /workspace/src/tree/updater_prune.cc:74: tree pruning end, 1 roots, 660 extra nodes, 0 pruned nodes, max_depth=10\n",
      "[1]\teval-auc:0.872504\teval-f1_score_thr0.2:0.232789\teval-f1_score_thr0.3:0.303359\teval-f1_score_thr0.4:0.345585\teval-f1_score_thr0.5:0.364198\teval-f1_score_thr0.6:0.401699\teval-f1_score_thr0.7:0.409437\n"
     ]
    },
    {
     "name": "stderr",
     "output_type": "stream",
     "text": [
      "/home/ec2-user/anaconda3/envs/python3/lib/python3.6/site-packages/sklearn/metrics/classification.py:1135: UndefinedMetricWarning: F-score is ill-defined and being set to 0.0 due to no predicted samples.\n",
      "  'precision', 'predicted', average, warn_for)\n",
      "/home/ec2-user/anaconda3/envs/python3/lib/python3.6/site-packages/sklearn/metrics/classification.py:1135: UndefinedMetricWarning: F-score is ill-defined and being set to 0.0 due to no predicted samples.\n",
      "  'precision', 'predicted', average, warn_for)\n",
      "/home/ec2-user/anaconda3/envs/python3/lib/python3.6/site-packages/sklearn/metrics/classification.py:1135: UndefinedMetricWarning: F-score is ill-defined and being set to 0.0 due to no predicted samples.\n",
      "  'precision', 'predicted', average, warn_for)\n",
      "/home/ec2-user/anaconda3/envs/python3/lib/python3.6/site-packages/sklearn/metrics/classification.py:1135: UndefinedMetricWarning: F-score is ill-defined and being set to 0.0 due to no predicted samples.\n",
      "  'precision', 'predicted', average, warn_for)\n",
      "/home/ec2-user/anaconda3/envs/python3/lib/python3.6/site-packages/sklearn/metrics/classification.py:1135: UndefinedMetricWarning: F-score is ill-defined and being set to 0.0 due to no predicted samples.\n",
      "  'precision', 'predicted', average, warn_for)\n",
      "/home/ec2-user/anaconda3/envs/python3/lib/python3.6/site-packages/sklearn/metrics/classification.py:1135: UndefinedMetricWarning: F-score is ill-defined and being set to 0.0 due to no predicted samples.\n",
      "  'precision', 'predicted', average, warn_for)\n",
      "/home/ec2-user/anaconda3/envs/python3/lib/python3.6/site-packages/sklearn/metrics/classification.py:1135: UndefinedMetricWarning: F-score is ill-defined and being set to 0.0 due to no predicted samples.\n",
      "  'precision', 'predicted', average, warn_for)\n",
      "/home/ec2-user/anaconda3/envs/python3/lib/python3.6/site-packages/sklearn/metrics/classification.py:1135: UndefinedMetricWarning: F-score is ill-defined and being set to 0.0 due to no predicted samples.\n",
      "  'precision', 'predicted', average, warn_for)\n",
      "/home/ec2-user/anaconda3/envs/python3/lib/python3.6/site-packages/sklearn/metrics/classification.py:1135: UndefinedMetricWarning: F-score is ill-defined and being set to 0.0 due to no predicted samples.\n",
      "  'precision', 'predicted', average, warn_for)\n",
      "/home/ec2-user/anaconda3/envs/python3/lib/python3.6/site-packages/sklearn/metrics/classification.py:1135: UndefinedMetricWarning: F-score is ill-defined and being set to 0.0 due to no predicted samples.\n",
      "  'precision', 'predicted', average, warn_for)\n",
      "/home/ec2-user/anaconda3/envs/python3/lib/python3.6/site-packages/sklearn/metrics/classification.py:1135: UndefinedMetricWarning: F-score is ill-defined and being set to 0.0 due to no predicted samples.\n",
      "  'precision', 'predicted', average, warn_for)\n",
      "/home/ec2-user/anaconda3/envs/python3/lib/python3.6/site-packages/sklearn/metrics/classification.py:1135: UndefinedMetricWarning: F-score is ill-defined and being set to 0.0 due to no predicted samples.\n",
      "  'precision', 'predicted', average, warn_for)\n"
     ]
    },
    {
     "name": "stdout",
     "output_type": "stream",
     "text": [
      "threshold 0.74\n",
      "max f1_score 0.4125105663567202\n",
      "eta 0.3\n",
      "max_depth 10\n",
      "num_round 5\n",
      "------------------------------\n",
      "[21:12:16] /workspace/src/tree/updater_prune.cc:74: tree pruning end, 1 roots, 794 extra nodes, 0 pruned nodes, max_depth=10\n",
      "[0]\teval-auc:0.873164\teval-f1_score_thr0.2:0.256757\teval-f1_score_thr0.3:0.313314\teval-f1_score_thr0.4:0.350488\teval-f1_score_thr0.5:0.381053\teval-f1_score_thr0.6:0.400249\teval-f1_score_thr0.7:0.411369\n",
      "[21:12:16] /workspace/src/tree/updater_prune.cc:74: tree pruning end, 1 roots, 736 extra nodes, 0 pruned nodes, max_depth=10\n",
      "[1]\teval-auc:0.876532\teval-f1_score_thr0.2:0.276666\teval-f1_score_thr0.3:0.32345\teval-f1_score_thr0.4:0.360056\teval-f1_score_thr0.5:0.388434\teval-f1_score_thr0.6:0.400258\teval-f1_score_thr0.7:0.406602\n"
     ]
    },
    {
     "name": "stderr",
     "output_type": "stream",
     "text": [
      "/home/ec2-user/anaconda3/envs/python3/lib/python3.6/site-packages/sklearn/metrics/classification.py:1135: UndefinedMetricWarning: F-score is ill-defined and being set to 0.0 due to no predicted samples.\n",
      "  'precision', 'predicted', average, warn_for)\n",
      "/home/ec2-user/anaconda3/envs/python3/lib/python3.6/site-packages/sklearn/metrics/classification.py:1135: UndefinedMetricWarning: F-score is ill-defined and being set to 0.0 due to no predicted samples.\n",
      "  'precision', 'predicted', average, warn_for)\n",
      "/home/ec2-user/anaconda3/envs/python3/lib/python3.6/site-packages/sklearn/metrics/classification.py:1135: UndefinedMetricWarning: F-score is ill-defined and being set to 0.0 due to no predicted samples.\n",
      "  'precision', 'predicted', average, warn_for)\n",
      "/home/ec2-user/anaconda3/envs/python3/lib/python3.6/site-packages/sklearn/metrics/classification.py:1135: UndefinedMetricWarning: F-score is ill-defined and being set to 0.0 due to no predicted samples.\n",
      "  'precision', 'predicted', average, warn_for)\n",
      "/home/ec2-user/anaconda3/envs/python3/lib/python3.6/site-packages/sklearn/metrics/classification.py:1135: UndefinedMetricWarning: F-score is ill-defined and being set to 0.0 due to no predicted samples.\n",
      "  'precision', 'predicted', average, warn_for)\n",
      "/home/ec2-user/anaconda3/envs/python3/lib/python3.6/site-packages/sklearn/metrics/classification.py:1135: UndefinedMetricWarning: F-score is ill-defined and being set to 0.0 due to no predicted samples.\n",
      "  'precision', 'predicted', average, warn_for)\n",
      "/home/ec2-user/anaconda3/envs/python3/lib/python3.6/site-packages/sklearn/metrics/classification.py:1135: UndefinedMetricWarning: F-score is ill-defined and being set to 0.0 due to no predicted samples.\n",
      "  'precision', 'predicted', average, warn_for)\n"
     ]
    },
    {
     "name": "stdout",
     "output_type": "stream",
     "text": [
      "threshold 0.79\n",
      "max f1_score 0.4146118721461187\n",
      "eta 0.3\n",
      "max_depth 10\n",
      "num_round 7\n",
      "------------------------------\n",
      "[21:12:21] /workspace/src/tree/updater_prune.cc:74: tree pruning end, 1 roots, 738 extra nodes, 0 pruned nodes, max_depth=10\n",
      "[0]\teval-auc:0.881018\teval-f1_score_thr0.2:0.29125\teval-f1_score_thr0.3:0.338235\teval-f1_score_thr0.4:0.364518\teval-f1_score_thr0.5:0.390831\teval-f1_score_thr0.6:0.411609\teval-f1_score_thr0.7:0.409695\n",
      "[21:12:21] /workspace/src/tree/updater_prune.cc:74: tree pruning end, 1 roots, 568 extra nodes, 0 pruned nodes, max_depth=10\n",
      "[1]\teval-auc:0.885605\teval-f1_score_thr0.2:0.301582\teval-f1_score_thr0.3:0.343333\teval-f1_score_thr0.4:0.376482\teval-f1_score_thr0.5:0.389019\teval-f1_score_thr0.6:0.411126\teval-f1_score_thr0.7:0.404423\n"
     ]
    },
    {
     "name": "stderr",
     "output_type": "stream",
     "text": [
      "/home/ec2-user/anaconda3/envs/python3/lib/python3.6/site-packages/sklearn/metrics/classification.py:1135: UndefinedMetricWarning: F-score is ill-defined and being set to 0.0 due to no predicted samples.\n",
      "  'precision', 'predicted', average, warn_for)\n",
      "/home/ec2-user/anaconda3/envs/python3/lib/python3.6/site-packages/sklearn/metrics/classification.py:1135: UndefinedMetricWarning: F-score is ill-defined and being set to 0.0 due to no predicted samples.\n",
      "  'precision', 'predicted', average, warn_for)\n",
      "/home/ec2-user/anaconda3/envs/python3/lib/python3.6/site-packages/sklearn/metrics/classification.py:1135: UndefinedMetricWarning: F-score is ill-defined and being set to 0.0 due to no predicted samples.\n",
      "  'precision', 'predicted', average, warn_for)\n",
      "/home/ec2-user/anaconda3/envs/python3/lib/python3.6/site-packages/sklearn/metrics/classification.py:1135: UndefinedMetricWarning: F-score is ill-defined and being set to 0.0 due to no predicted samples.\n",
      "  'precision', 'predicted', average, warn_for)\n",
      "/home/ec2-user/anaconda3/envs/python3/lib/python3.6/site-packages/sklearn/metrics/classification.py:1135: UndefinedMetricWarning: F-score is ill-defined and being set to 0.0 due to no predicted samples.\n",
      "  'precision', 'predicted', average, warn_for)\n"
     ]
    },
    {
     "name": "stdout",
     "output_type": "stream",
     "text": [
      "threshold 0.63\n",
      "max f1_score 0.4181431608788094\n",
      "eta 0.3\n",
      "max_depth 10\n",
      "num_round 9\n",
      "------------------------------\n",
      "[21:12:26] /workspace/src/tree/updater_prune.cc:74: tree pruning end, 1 roots, 750 extra nodes, 0 pruned nodes, max_depth=10\n",
      "[0]\teval-auc:0.888646\teval-f1_score_thr0.2:0.314938\teval-f1_score_thr0.3:0.357205\teval-f1_score_thr0.4:0.380362\teval-f1_score_thr0.5:0.392275\teval-f1_score_thr0.6:0.405256\teval-f1_score_thr0.7:0.412044\n",
      "[21:12:27] /workspace/src/tree/updater_prune.cc:74: tree pruning end, 1 roots, 704 extra nodes, 0 pruned nodes, max_depth=10\n",
      "[1]\teval-auc:0.888756\teval-f1_score_thr0.2:0.325461\teval-f1_score_thr0.3:0.368326\teval-f1_score_thr0.4:0.388186\teval-f1_score_thr0.5:0.398537\teval-f1_score_thr0.6:0.403068\teval-f1_score_thr0.7:0.41938\n"
     ]
    },
    {
     "name": "stderr",
     "output_type": "stream",
     "text": [
      "/home/ec2-user/anaconda3/envs/python3/lib/python3.6/site-packages/sklearn/metrics/classification.py:1135: UndefinedMetricWarning: F-score is ill-defined and being set to 0.0 due to no predicted samples.\n",
      "  'precision', 'predicted', average, warn_for)\n",
      "/home/ec2-user/anaconda3/envs/python3/lib/python3.6/site-packages/sklearn/metrics/classification.py:1135: UndefinedMetricWarning: F-score is ill-defined and being set to 0.0 due to no predicted samples.\n",
      "  'precision', 'predicted', average, warn_for)\n",
      "/home/ec2-user/anaconda3/envs/python3/lib/python3.6/site-packages/sklearn/metrics/classification.py:1135: UndefinedMetricWarning: F-score is ill-defined and being set to 0.0 due to no predicted samples.\n",
      "  'precision', 'predicted', average, warn_for)\n"
     ]
    },
    {
     "name": "stdout",
     "output_type": "stream",
     "text": [
      "threshold 0.7000000000000001\n",
      "max f1_score 0.4193804606830818\n",
      "eta 0.3\n",
      "max_depth 10\n",
      "num_round 11\n",
      "------------------------------\n",
      "[21:12:31] /workspace/src/tree/updater_prune.cc:74: tree pruning end, 1 roots, 572 extra nodes, 0 pruned nodes, max_depth=10\n",
      "[0]\teval-auc:0.890821\teval-f1_score_thr0.2:0.333333\teval-f1_score_thr0.3:0.367159\teval-f1_score_thr0.4:0.388979\teval-f1_score_thr0.5:0.395833\teval-f1_score_thr0.6:0.408135\teval-f1_score_thr0.7:0.418311\n",
      "[21:12:32] /workspace/src/tree/updater_prune.cc:74: tree pruning end, 1 roots, 632 extra nodes, 0 pruned nodes, max_depth=10\n",
      "[1]\teval-auc:0.892682\teval-f1_score_thr0.2:0.341767\teval-f1_score_thr0.3:0.370476\teval-f1_score_thr0.4:0.393153\teval-f1_score_thr0.5:0.398758\teval-f1_score_thr0.6:0.412225\teval-f1_score_thr0.7:0.414343\n"
     ]
    },
    {
     "name": "stderr",
     "output_type": "stream",
     "text": [
      "/home/ec2-user/anaconda3/envs/python3/lib/python3.6/site-packages/sklearn/metrics/classification.py:1135: UndefinedMetricWarning: F-score is ill-defined and being set to 0.0 due to no predicted samples.\n",
      "  'precision', 'predicted', average, warn_for)\n",
      "/home/ec2-user/anaconda3/envs/python3/lib/python3.6/site-packages/sklearn/metrics/classification.py:1135: UndefinedMetricWarning: F-score is ill-defined and being set to 0.0 due to no predicted samples.\n",
      "  'precision', 'predicted', average, warn_for)\n"
     ]
    },
    {
     "name": "stdout",
     "output_type": "stream",
     "text": [
      "threshold 0.68\n",
      "max f1_score 0.4190774042220485\n",
      "eta 0.3\n",
      "max_depth 10\n",
      "num_round 13\n",
      "------------------------------\n",
      "[21:12:36] /workspace/src/tree/updater_prune.cc:74: tree pruning end, 1 roots, 604 extra nodes, 0 pruned nodes, max_depth=10\n",
      "[0]\teval-auc:0.895274\teval-f1_score_thr0.2:0.348884\teval-f1_score_thr0.3:0.378352\teval-f1_score_thr0.4:0.396591\teval-f1_score_thr0.5:0.409439\teval-f1_score_thr0.6:0.423631\teval-f1_score_thr0.7:0.417077\n",
      "[21:12:37] /workspace/src/tree/updater_prune.cc:74: tree pruning end, 1 roots, 574 extra nodes, 0 pruned nodes, max_depth=10\n",
      "[1]\teval-auc:0.892154\teval-f1_score_thr0.2:0.351836\teval-f1_score_thr0.3:0.379398\teval-f1_score_thr0.4:0.39627\teval-f1_score_thr0.5:0.40678\teval-f1_score_thr0.6:0.408012\teval-f1_score_thr0.7:0.405063\n"
     ]
    },
    {
     "name": "stderr",
     "output_type": "stream",
     "text": [
      "/home/ec2-user/anaconda3/envs/python3/lib/python3.6/site-packages/sklearn/metrics/classification.py:1135: UndefinedMetricWarning: F-score is ill-defined and being set to 0.0 due to no predicted samples.\n",
      "  'precision', 'predicted', average, warn_for)\n",
      "/home/ec2-user/anaconda3/envs/python3/lib/python3.6/site-packages/sklearn/metrics/classification.py:1135: UndefinedMetricWarning: F-score is ill-defined and being set to 0.0 due to no predicted samples.\n",
      "  'precision', 'predicted', average, warn_for)\n"
     ]
    },
    {
     "name": "stdout",
     "output_type": "stream",
     "text": [
      "threshold 0.64\n",
      "max f1_score 0.4141176470588235\n",
      "eta 0.3\n",
      "max_depth 10\n",
      "num_round 15\n",
      "------------------------------\n",
      "[21:12:41] /workspace/src/tree/updater_prune.cc:74: tree pruning end, 1 roots, 640 extra nodes, 0 pruned nodes, max_depth=10\n",
      "[0]\teval-auc:0.889601\teval-f1_score_thr0.2:0.358657\teval-f1_score_thr0.3:0.379147\teval-f1_score_thr0.4:0.389054\teval-f1_score_thr0.5:0.401612\teval-f1_score_thr0.6:0.409437\teval-f1_score_thr0.7:0.407248\n",
      "[21:12:42] /workspace/src/tree/updater_prune.cc:74: tree pruning end, 1 roots, 480 extra nodes, 0 pruned nodes, max_depth=10\n",
      "[1]\teval-auc:0.889773\teval-f1_score_thr0.2:0.361521\teval-f1_score_thr0.3:0.381915\teval-f1_score_thr0.4:0.39054\teval-f1_score_thr0.5:0.398363\teval-f1_score_thr0.6:0.403698\teval-f1_score_thr0.7:0.406661\n"
     ]
    },
    {
     "name": "stderr",
     "output_type": "stream",
     "text": [
      "/home/ec2-user/anaconda3/envs/python3/lib/python3.6/site-packages/sklearn/metrics/classification.py:1135: UndefinedMetricWarning: F-score is ill-defined and being set to 0.0 due to no predicted samples.\n",
      "  'precision', 'predicted', average, warn_for)\n"
     ]
    },
    {
     "name": "stdout",
     "output_type": "stream",
     "text": [
      "threshold 0.66\n",
      "max f1_score 0.41384995877988456\n",
      "eta 0.3\n",
      "max_depth 10\n",
      "num_round 17\n",
      "------------------------------\n",
      "[21:12:46] /workspace/src/tree/updater_prune.cc:74: tree pruning end, 1 roots, 506 extra nodes, 0 pruned nodes, max_depth=10\n",
      "[0]\teval-auc:0.892249\teval-f1_score_thr0.2:0.362803\teval-f1_score_thr0.3:0.389101\teval-f1_score_thr0.4:0.384901\teval-f1_score_thr0.5:0.398329\teval-f1_score_thr0.6:0.406859\teval-f1_score_thr0.7:0.398206\n",
      "[21:12:47] /workspace/src/tree/updater_prune.cc:74: tree pruning end, 1 roots, 498 extra nodes, 0 pruned nodes, max_depth=10\n",
      "[1]\teval-auc:0.892968\teval-f1_score_thr0.2:0.363464\teval-f1_score_thr0.3:0.389669\teval-f1_score_thr0.4:0.392157\teval-f1_score_thr0.5:0.406272\teval-f1_score_thr0.6:0.409524\teval-f1_score_thr0.7:0.387387\n"
     ]
    },
    {
     "name": "stderr",
     "output_type": "stream",
     "text": [
      "/home/ec2-user/anaconda3/envs/python3/lib/python3.6/site-packages/sklearn/metrics/classification.py:1135: UndefinedMetricWarning: F-score is ill-defined and being set to 0.0 due to no predicted samples.\n",
      "  'precision', 'predicted', average, warn_for)\n"
     ]
    },
    {
     "name": "stdout",
     "output_type": "stream",
     "text": [
      "threshold 0.53\n",
      "max f1_score 0.41033210332103326\n",
      "eta 0.3\n",
      "max_depth 10\n",
      "num_round 19\n",
      "------------------------------\n",
      "[21:12:51] /workspace/src/tree/updater_prune.cc:74: tree pruning end, 1 roots, 494 extra nodes, 0 pruned nodes, max_depth=10\n",
      "[0]\teval-auc:0.89193\teval-f1_score_thr0.2:0.367961\teval-f1_score_thr0.3:0.388697\teval-f1_score_thr0.4:0.391192\teval-f1_score_thr0.5:0.397967\teval-f1_score_thr0.6:0.409091\teval-f1_score_thr0.7:0.402194\n",
      "[21:12:52] /workspace/src/tree/updater_prune.cc:74: tree pruning end, 1 roots, 292 extra nodes, 0 pruned nodes, max_depth=10\n",
      "[1]\teval-auc:0.891442\teval-f1_score_thr0.2:0.37223\teval-f1_score_thr0.3:0.392588\teval-f1_score_thr0.4:0.393721\teval-f1_score_thr0.5:0.395026\teval-f1_score_thr0.6:0.405537\teval-f1_score_thr0.7:0.401852\n"
     ]
    },
    {
     "name": "stderr",
     "output_type": "stream",
     "text": [
      "/home/ec2-user/anaconda3/envs/python3/lib/python3.6/site-packages/sklearn/metrics/classification.py:1135: UndefinedMetricWarning: F-score is ill-defined and being set to 0.0 due to no predicted samples.\n",
      "  'precision', 'predicted', average, warn_for)\n"
     ]
    },
    {
     "name": "stdout",
     "output_type": "stream",
     "text": [
      "threshold 0.63\n",
      "max f1_score 0.4118143459915612\n",
      "eta 0.3\n",
      "max_depth 10\n",
      "num_round 21\n",
      "------------------------------\n",
      "[21:12:56] /workspace/src/tree/updater_prune.cc:74: tree pruning end, 1 roots, 222 extra nodes, 0 pruned nodes, max_depth=10\n",
      "[0]\teval-auc:0.890821\teval-f1_score_thr0.2:0.369124\teval-f1_score_thr0.3:0.395809\teval-f1_score_thr0.4:0.39498\teval-f1_score_thr0.5:0.395879\teval-f1_score_thr0.6:0.407498\teval-f1_score_thr0.7:0.394419\n",
      "[21:12:57] /workspace/src/tree/updater_prune.cc:74: tree pruning end, 1 roots, 672 extra nodes, 0 pruned nodes, max_depth=10\n",
      "[1]\teval-auc:0.888574\teval-f1_score_thr0.2:0.375127\teval-f1_score_thr0.3:0.396158\teval-f1_score_thr0.4:0.394042\teval-f1_score_thr0.5:0.396099\teval-f1_score_thr0.6:0.404381\teval-f1_score_thr0.7:0.392789\n"
     ]
    },
    {
     "name": "stderr",
     "output_type": "stream",
     "text": [
      "/home/ec2-user/anaconda3/envs/python3/lib/python3.6/site-packages/sklearn/metrics/classification.py:1135: UndefinedMetricWarning: F-score is ill-defined and being set to 0.0 due to no predicted samples.\n",
      "  'precision', 'predicted', average, warn_for)\n"
     ]
    },
    {
     "name": "stdout",
     "output_type": "stream",
     "text": [
      "threshold 0.59\n",
      "max f1_score 0.4056291390728477\n",
      "eta 0.3\n",
      "max_depth 10\n",
      "num_round 23\n",
      "------------------------------\n",
      "[21:13:01] /workspace/src/tree/updater_prune.cc:74: tree pruning end, 1 roots, 336 extra nodes, 0 pruned nodes, max_depth=10\n",
      "[0]\teval-auc:0.887572\teval-f1_score_thr0.2:0.373841\teval-f1_score_thr0.3:0.395871\teval-f1_score_thr0.4:0.394539\teval-f1_score_thr0.5:0.39726\teval-f1_score_thr0.6:0.404722\teval-f1_score_thr0.7:0.391595\n",
      "[21:13:02] /workspace/src/tree/updater_prune.cc:74: tree pruning end, 1 roots, 260 extra nodes, 0 pruned nodes, max_depth=10\n",
      "[1]\teval-auc:0.886766\teval-f1_score_thr0.2:0.377083\teval-f1_score_thr0.3:0.394591\teval-f1_score_thr0.4:0.391513\teval-f1_score_thr0.5:0.397858\teval-f1_score_thr0.6:0.404092\teval-f1_score_thr0.7:0.391221\n"
     ]
    },
    {
     "name": "stderr",
     "output_type": "stream",
     "text": [
      "/home/ec2-user/anaconda3/envs/python3/lib/python3.6/site-packages/sklearn/metrics/classification.py:1135: UndefinedMetricWarning: F-score is ill-defined and being set to 0.0 due to no predicted samples.\n",
      "  'precision', 'predicted', average, warn_for)\n"
     ]
    },
    {
     "name": "stdout",
     "output_type": "stream",
     "text": [
      "threshold 0.6\n",
      "max f1_score 0.4040920716112532\n",
      "eta 0.3\n",
      "max_depth 10\n",
      "num_round 25\n",
      "------------------------------\n",
      "[21:13:06] /workspace/src/tree/updater_prune.cc:74: tree pruning end, 1 roots, 302 extra nodes, 0 pruned nodes, max_depth=10\n",
      "[0]\teval-auc:0.886477\teval-f1_score_thr0.2:0.379853\teval-f1_score_thr0.3:0.391816\teval-f1_score_thr0.4:0.389466\teval-f1_score_thr0.5:0.400308\teval-f1_score_thr0.6:0.397942\teval-f1_score_thr0.7:0.378014\n",
      "[21:13:07] /workspace/src/tree/updater_prune.cc:74: tree pruning end, 1 roots, 356 extra nodes, 0 pruned nodes, max_depth=10\n",
      "[1]\teval-auc:0.886174\teval-f1_score_thr0.2:0.379329\teval-f1_score_thr0.3:0.385723\teval-f1_score_thr0.4:0.394068\teval-f1_score_thr0.5:0.40315\teval-f1_score_thr0.6:0.393357\teval-f1_score_thr0.7:0.383349\n"
     ]
    },
    {
     "name": "stderr",
     "output_type": "stream",
     "text": [
      "/home/ec2-user/anaconda3/envs/python3/lib/python3.6/site-packages/sklearn/metrics/classification.py:1135: UndefinedMetricWarning: F-score is ill-defined and being set to 0.0 due to no predicted samples.\n",
      "  'precision', 'predicted', average, warn_for)\n"
     ]
    },
    {
     "name": "stdout",
     "output_type": "stream",
     "text": [
      "threshold 0.44\n",
      "max f1_score 0.40381791483113066\n",
      "eta 0.3\n",
      "max_depth 10\n",
      "num_round 27\n",
      "------------------------------\n",
      "[21:13:11] /workspace/src/tree/updater_prune.cc:74: tree pruning end, 1 roots, 424 extra nodes, 0 pruned nodes, max_depth=10\n",
      "[0]\teval-auc:0.886326\teval-f1_score_thr0.2:0.378174\teval-f1_score_thr0.3:0.389905\teval-f1_score_thr0.4:0.397153\teval-f1_score_thr0.5:0.406672\teval-f1_score_thr0.6:0.394316\teval-f1_score_thr0.7:0.378906\n",
      "[21:13:12] /workspace/src/tree/updater_prune.cc:74: tree pruning end, 1 roots, 500 extra nodes, 0 pruned nodes, max_depth=10\n",
      "[1]\teval-auc:0.886121\teval-f1_score_thr0.2:0.378378\teval-f1_score_thr0.3:0.389776\teval-f1_score_thr0.4:0.395366\teval-f1_score_thr0.5:0.401606\teval-f1_score_thr0.6:0.387097\teval-f1_score_thr0.7:0.376494\n"
     ]
    },
    {
     "name": "stderr",
     "output_type": "stream",
     "text": [
      "/home/ec2-user/anaconda3/envs/python3/lib/python3.6/site-packages/sklearn/metrics/classification.py:1135: UndefinedMetricWarning: F-score is ill-defined and being set to 0.0 due to no predicted samples.\n",
      "  'precision', 'predicted', average, warn_for)\n"
     ]
    },
    {
     "name": "stdout",
     "output_type": "stream",
     "text": [
      "threshold 0.49\n",
      "max f1_score 0.4025457438345266\n",
      "eta 0.3\n",
      "max_depth 10\n",
      "num_round 29\n",
      "------------------------------\n",
      "[21:13:16] /workspace/src/tree/updater_prune.cc:74: tree pruning end, 1 roots, 400 extra nodes, 0 pruned nodes, max_depth=10\n",
      "[0]\teval-auc:0.887199\teval-f1_score_thr0.2:0.381594\teval-f1_score_thr0.3:0.391445\teval-f1_score_thr0.4:0.39562\teval-f1_score_thr0.5:0.394801\teval-f1_score_thr0.6:0.392051\teval-f1_score_thr0.7:0.368209\n",
      "[21:13:17] /workspace/src/tree/updater_prune.cc:74: tree pruning end, 1 roots, 518 extra nodes, 0 pruned nodes, max_depth=10\n",
      "[1]\teval-auc:0.887022\teval-f1_score_thr0.2:0.382786\teval-f1_score_thr0.3:0.395503\teval-f1_score_thr0.4:0.397914\teval-f1_score_thr0.5:0.394715\teval-f1_score_thr0.6:0.383636\teval-f1_score_thr0.7:0.355691\n"
     ]
    },
    {
     "name": "stderr",
     "output_type": "stream",
     "text": [
      "/home/ec2-user/anaconda3/envs/python3/lib/python3.6/site-packages/sklearn/metrics/classification.py:1135: UndefinedMetricWarning: F-score is ill-defined and being set to 0.0 due to no predicted samples.\n",
      "  'precision', 'predicted', average, warn_for)\n"
     ]
    },
    {
     "name": "stdout",
     "output_type": "stream",
     "text": [
      "threshold 0.38\n",
      "max f1_score 0.4029197080291971\n",
      "eta 0.3\n",
      "max_depth 10\n",
      "num_round 31\n",
      "------------------------------\n",
      "[21:13:21] /workspace/src/tree/updater_prune.cc:74: tree pruning end, 1 roots, 348 extra nodes, 0 pruned nodes, max_depth=10\n",
      "[0]\teval-auc:0.887112\teval-f1_score_thr0.2:0.387393\teval-f1_score_thr0.3:0.397059\teval-f1_score_thr0.4:0.409295\teval-f1_score_thr0.5:0.390651\teval-f1_score_thr0.6:0.383562\teval-f1_score_thr0.7:0.363636\n",
      "[21:13:22] /workspace/src/tree/updater_prune.cc:74: tree pruning end, 1 roots, 420 extra nodes, 0 pruned nodes, max_depth=10\n",
      "[1]\teval-auc:0.887139\teval-f1_score_thr0.2:0.389732\teval-f1_score_thr0.3:0.398374\teval-f1_score_thr0.4:0.410646\teval-f1_score_thr0.5:0.387426\teval-f1_score_thr0.6:0.371747\teval-f1_score_thr0.7:0.360082\n"
     ]
    },
    {
     "name": "stderr",
     "output_type": "stream",
     "text": [
      "/home/ec2-user/anaconda3/envs/python3/lib/python3.6/site-packages/sklearn/metrics/classification.py:1135: UndefinedMetricWarning: F-score is ill-defined and being set to 0.0 due to no predicted samples.\n",
      "  'precision', 'predicted', average, warn_for)\n"
     ]
    },
    {
     "name": "stdout",
     "output_type": "stream",
     "text": [
      "threshold 0.39\n",
      "max f1_score 0.4142101284958428\n",
      "eta 0.3\n",
      "max_depth 10\n",
      "num_round 33\n",
      "------------------------------\n",
      "[21:13:26] /workspace/src/tree/updater_prune.cc:74: tree pruning end, 1 roots, 392 extra nodes, 0 pruned nodes, max_depth=10\n",
      "[0]\teval-auc:0.887715\teval-f1_score_thr0.2:0.388361\teval-f1_score_thr0.3:0.395876\teval-f1_score_thr0.4:0.405864\teval-f1_score_thr0.5:0.394173\teval-f1_score_thr0.6:0.375712\teval-f1_score_thr0.7:0.359081\n",
      "[21:13:27] /workspace/src/tree/updater_prune.cc:74: tree pruning end, 1 roots, 482 extra nodes, 0 pruned nodes, max_depth=10\n",
      "[1]\teval-auc:0.888531\teval-f1_score_thr0.2:0.389861\teval-f1_score_thr0.3:0.400558\teval-f1_score_thr0.4:0.40566\teval-f1_score_thr0.5:0.39444\teval-f1_score_thr0.6:0.369586\teval-f1_score_thr0.7:0.355277\n"
     ]
    },
    {
     "name": "stderr",
     "output_type": "stream",
     "text": [
      "/home/ec2-user/anaconda3/envs/python3/lib/python3.6/site-packages/sklearn/metrics/classification.py:1135: UndefinedMetricWarning: F-score is ill-defined and being set to 0.0 due to no predicted samples.\n",
      "  'precision', 'predicted', average, warn_for)\n"
     ]
    },
    {
     "name": "stdout",
     "output_type": "stream",
     "text": [
      "threshold 0.42\n",
      "max f1_score 0.4066985645933014\n",
      "eta 0.3\n",
      "max_depth 10\n",
      "num_round 35\n",
      "------------------------------\n",
      "[21:13:31] /workspace/src/tree/updater_prune.cc:74: tree pruning end, 1 roots, 248 extra nodes, 0 pruned nodes, max_depth=10\n",
      "[0]\teval-auc:0.888584\teval-f1_score_thr0.2:0.390303\teval-f1_score_thr0.3:0.401968\teval-f1_score_thr0.4:0.403467\teval-f1_score_thr0.5:0.392328\teval-f1_score_thr0.6:0.374517\teval-f1_score_thr0.7:0.362304\n",
      "[21:13:32] /workspace/src/tree/updater_prune.cc:74: tree pruning end, 1 roots, 480 extra nodes, 0 pruned nodes, max_depth=10\n",
      "[1]\teval-auc:0.888596\teval-f1_score_thr0.2:0.387692\teval-f1_score_thr0.3:0.398293\teval-f1_score_thr0.4:0.401274\teval-f1_score_thr0.5:0.393043\teval-f1_score_thr0.6:0.389685\teval-f1_score_thr0.7:0.362487\n"
     ]
    },
    {
     "name": "stderr",
     "output_type": "stream",
     "text": [
      "/home/ec2-user/anaconda3/envs/python3/lib/python3.6/site-packages/sklearn/metrics/classification.py:1135: UndefinedMetricWarning: F-score is ill-defined and being set to 0.0 due to no predicted samples.\n",
      "  'precision', 'predicted', average, warn_for)\n"
     ]
    },
    {
     "name": "stdout",
     "output_type": "stream",
     "text": [
      "threshold 0.39\n",
      "max f1_score 0.4031746031746032\n",
      "eta 0.3\n",
      "max_depth 10\n",
      "num_round 37\n",
      "------------------------------\n",
      "[21:13:36] /workspace/src/tree/updater_prune.cc:74: tree pruning end, 1 roots, 572 extra nodes, 0 pruned nodes, max_depth=10\n",
      "[0]\teval-auc:0.888525\teval-f1_score_thr0.2:0.396487\teval-f1_score_thr0.3:0.388929\teval-f1_score_thr0.4:0.404878\teval-f1_score_thr0.5:0.390805\teval-f1_score_thr0.6:0.386783\teval-f1_score_thr0.7:0.373673\n",
      "[21:13:37] /workspace/src/tree/updater_prune.cc:74: tree pruning end, 1 roots, 188 extra nodes, 0 pruned nodes, max_depth=10\n",
      "[1]\teval-auc:0.888753\teval-f1_score_thr0.2:0.397476\teval-f1_score_thr0.3:0.391783\teval-f1_score_thr0.4:0.404221\teval-f1_score_thr0.5:0.393268\teval-f1_score_thr0.6:0.392233\teval-f1_score_thr0.7:0.376196\n"
     ]
    },
    {
     "name": "stderr",
     "output_type": "stream",
     "text": [
      "/home/ec2-user/anaconda3/envs/python3/lib/python3.6/site-packages/sklearn/metrics/classification.py:1135: UndefinedMetricWarning: F-score is ill-defined and being set to 0.0 due to no predicted samples.\n",
      "  'precision', 'predicted', average, warn_for)\n"
     ]
    },
    {
     "name": "stdout",
     "output_type": "stream",
     "text": [
      "threshold 0.37\n",
      "max f1_score 0.4063241106719368\n",
      "eta 0.3\n",
      "max_depth 10\n",
      "num_round 39\n",
      "------------------------------\n",
      "[21:13:41] /workspace/src/tree/updater_prune.cc:74: tree pruning end, 1 roots, 512 extra nodes, 0 pruned nodes, max_depth=10\n",
      "[0]\teval-auc:0.889045\teval-f1_score_thr0.2:0.394888\teval-f1_score_thr0.3:0.39207\teval-f1_score_thr0.4:0.400986\teval-f1_score_thr0.5:0.392825\teval-f1_score_thr0.6:0.389432\teval-f1_score_thr0.7:0.375\n",
      "[21:13:42] /workspace/src/tree/updater_prune.cc:74: tree pruning end, 1 roots, 480 extra nodes, 0 pruned nodes, max_depth=10\n",
      "[1]\teval-auc:0.888883\teval-f1_score_thr0.2:0.396608\teval-f1_score_thr0.3:0.394007\teval-f1_score_thr0.4:0.406302\teval-f1_score_thr0.5:0.395624\teval-f1_score_thr0.6:0.386207\teval-f1_score_thr0.7:0.368593\n"
     ]
    },
    {
     "name": "stderr",
     "output_type": "stream",
     "text": [
      "/home/ec2-user/anaconda3/envs/python3/lib/python3.6/site-packages/sklearn/metrics/classification.py:1135: UndefinedMetricWarning: F-score is ill-defined and being set to 0.0 due to no predicted samples.\n",
      "  'precision', 'predicted', average, warn_for)\n"
     ]
    },
    {
     "name": "stdout",
     "output_type": "stream",
     "text": [
      "threshold 0.4\n",
      "max f1_score 0.406301824212272\n",
      "eta 0.3\n",
      "max_depth 10\n",
      "num_round 41\n",
      "------------------------------\n",
      "[21:13:47] /workspace/src/tree/updater_prune.cc:74: tree pruning end, 1 roots, 228 extra nodes, 0 pruned nodes, max_depth=10\n",
      "[0]\teval-auc:0.888556\teval-f1_score_thr0.2:0.395272\teval-f1_score_thr0.3:0.391566\teval-f1_score_thr0.4:0.405676\teval-f1_score_thr0.5:0.392301\teval-f1_score_thr0.6:0.388944\teval-f1_score_thr0.7:0.367213\n",
      "[21:13:47] /workspace/src/tree/updater_prune.cc:74: tree pruning end, 1 roots, 332 extra nodes, 0 pruned nodes, max_depth=10\n",
      "[1]\teval-auc:0.888902\teval-f1_score_thr0.2:0.396815\teval-f1_score_thr0.3:0.390354\teval-f1_score_thr0.4:0.398319\teval-f1_score_thr0.5:0.391185\teval-f1_score_thr0.6:0.394089\teval-f1_score_thr0.7:0.370614\n"
     ]
    },
    {
     "name": "stderr",
     "output_type": "stream",
     "text": [
      "/home/ec2-user/anaconda3/envs/python3/lib/python3.6/site-packages/sklearn/metrics/classification.py:1135: UndefinedMetricWarning: F-score is ill-defined and being set to 0.0 due to no predicted samples.\n",
      "  'precision', 'predicted', average, warn_for)\n"
     ]
    },
    {
     "name": "stdout",
     "output_type": "stream",
     "text": [
      "threshold 0.34\n",
      "max f1_score 0.401268834258525\n",
      "eta 0.3\n",
      "max_depth 10\n",
      "num_round 43\n",
      "------------------------------\n",
      "[21:13:52] /workspace/src/tree/updater_prune.cc:74: tree pruning end, 1 roots, 392 extra nodes, 0 pruned nodes, max_depth=10\n",
      "[0]\teval-auc:0.890418\teval-f1_score_thr0.2:0.395708\teval-f1_score_thr0.3:0.392722\teval-f1_score_thr0.4:0.404399\teval-f1_score_thr0.5:0.400735\teval-f1_score_thr0.6:0.380857\teval-f1_score_thr0.7:0.37037\n",
      "[21:13:53] /workspace/src/tree/updater_prune.cc:74: tree pruning end, 1 roots, 656 extra nodes, 0 pruned nodes, max_depth=10\n",
      "[1]\teval-auc:0.891081\teval-f1_score_thr0.2:0.394576\teval-f1_score_thr0.3:0.389189\teval-f1_score_thr0.4:0.391194\teval-f1_score_thr0.5:0.397436\teval-f1_score_thr0.6:0.390293\teval-f1_score_thr0.7:0.357456\n"
     ]
    },
    {
     "name": "stderr",
     "output_type": "stream",
     "text": [
      "/home/ec2-user/anaconda3/envs/python3/lib/python3.6/site-packages/sklearn/metrics/classification.py:1135: UndefinedMetricWarning: F-score is ill-defined and being set to 0.0 due to no predicted samples.\n",
      "  'precision', 'predicted', average, warn_for)\n"
     ]
    },
    {
     "name": "stdout",
     "output_type": "stream",
     "text": [
      "threshold 0.53\n",
      "max f1_score 0.40417457305502846\n",
      "eta 0.3\n",
      "max_depth 10\n",
      "num_round 45\n",
      "------------------------------\n",
      "[21:13:57] /workspace/src/tree/updater_prune.cc:74: tree pruning end, 1 roots, 532 extra nodes, 0 pruned nodes, max_depth=10\n",
      "[0]\teval-auc:0.890104\teval-f1_score_thr0.2:0.400549\teval-f1_score_thr0.3:0.387944\teval-f1_score_thr0.4:0.393554\teval-f1_score_thr0.5:0.407442\teval-f1_score_thr0.6:0.386249\teval-f1_score_thr0.7:0.365449\n",
      "[21:13:58] /workspace/src/tree/updater_prune.cc:74: tree pruning end, 1 roots, 412 extra nodes, 0 pruned nodes, max_depth=10\n",
      "[1]\teval-auc:0.890421\teval-f1_score_thr0.2:0.398616\teval-f1_score_thr0.3:0.39441\teval-f1_score_thr0.4:0.396581\teval-f1_score_thr0.5:0.40113\teval-f1_score_thr0.6:0.384852\teval-f1_score_thr0.7:0.372657\n"
     ]
    },
    {
     "name": "stderr",
     "output_type": "stream",
     "text": [
      "/home/ec2-user/anaconda3/envs/python3/lib/python3.6/site-packages/sklearn/metrics/classification.py:1135: UndefinedMetricWarning: F-score is ill-defined and being set to 0.0 due to no predicted samples.\n",
      "  'precision', 'predicted', average, warn_for)\n"
     ]
    },
    {
     "name": "stdout",
     "output_type": "stream",
     "text": [
      "threshold 0.48\n",
      "max f1_score 0.40366972477064217\n",
      "eta 0.3\n",
      "max_depth 10\n",
      "num_round 47\n",
      "------------------------------\n",
      "[21:14:02] /workspace/src/tree/updater_prune.cc:74: tree pruning end, 1 roots, 398 extra nodes, 0 pruned nodes, max_depth=10\n",
      "[0]\teval-auc:0.890978\teval-f1_score_thr0.2:0.400838\teval-f1_score_thr0.3:0.396579\teval-f1_score_thr0.4:0.393103\teval-f1_score_thr0.5:0.401896\teval-f1_score_thr0.6:0.384298\teval-f1_score_thr0.7:0.36485\n",
      "[21:14:03] /workspace/src/tree/updater_prune.cc:74: tree pruning end, 1 roots, 256 extra nodes, 0 pruned nodes, max_depth=10\n",
      "[1]\teval-auc:0.89135\teval-f1_score_thr0.2:0.401394\teval-f1_score_thr0.3:0.398437\teval-f1_score_thr0.4:0.394464\teval-f1_score_thr0.5:0.400381\teval-f1_score_thr0.6:0.384615\teval-f1_score_thr0.7:0.358343\n"
     ]
    },
    {
     "name": "stderr",
     "output_type": "stream",
     "text": [
      "/home/ec2-user/anaconda3/envs/python3/lib/python3.6/site-packages/sklearn/metrics/classification.py:1135: UndefinedMetricWarning: F-score is ill-defined and being set to 0.0 due to no predicted samples.\n",
      "  'precision', 'predicted', average, warn_for)\n"
     ]
    },
    {
     "name": "stdout",
     "output_type": "stream",
     "text": [
      "threshold 0.22\n",
      "max f1_score 0.4062947067238913\n",
      "eta 0.3\n",
      "max_depth 10\n",
      "num_round 49\n",
      "------------------------------\n",
      "[21:14:07] /workspace/src/tree/updater_prune.cc:74: tree pruning end, 1 roots, 126 extra nodes, 0 pruned nodes, max_depth=10\n",
      "[0]\teval-auc:0.891987\teval-f1_score_thr0.2:0.403361\teval-f1_score_thr0.3:0.396552\teval-f1_score_thr0.4:0.397569\teval-f1_score_thr0.5:0.4\teval-f1_score_thr0.6:0.383817\teval-f1_score_thr0.7:0.359777\n",
      "[21:14:08] /workspace/src/tree/updater_prune.cc:74: tree pruning end, 1 roots, 342 extra nodes, 0 pruned nodes, max_depth=10\n",
      "[1]\teval-auc:0.892062\teval-f1_score_thr0.2:0.403397\teval-f1_score_thr0.3:0.398431\teval-f1_score_thr0.4:0.397559\teval-f1_score_thr0.5:0.399616\teval-f1_score_thr0.6:0.384134\teval-f1_score_thr0.7:0.362822\n"
     ]
    },
    {
     "name": "stderr",
     "output_type": "stream",
     "text": [
      "/home/ec2-user/anaconda3/envs/python3/lib/python3.6/site-packages/sklearn/metrics/classification.py:1135: UndefinedMetricWarning: F-score is ill-defined and being set to 0.0 due to no predicted samples.\n",
      "  'precision', 'predicted', average, warn_for)\n"
     ]
    },
    {
     "name": "stdout",
     "output_type": "stream",
     "text": [
      "threshold 0.22\n",
      "max f1_score 0.40609137055837563\n",
      "eta 0.3\n",
      "max_depth 10\n",
      "num_round 51\n",
      "------------------------------\n",
      "[21:14:12] /workspace/src/tree/updater_prune.cc:74: tree pruning end, 1 roots, 512 extra nodes, 0 pruned nodes, max_depth=10\n",
      "[0]\teval-auc:0.892688\teval-f1_score_thr0.2:0.402299\teval-f1_score_thr0.3:0.399683\teval-f1_score_thr0.4:0.398941\teval-f1_score_thr0.5:0.395732\teval-f1_score_thr0.6:0.386149\teval-f1_score_thr0.7:0.345848\n",
      "[21:14:13] /workspace/src/tree/updater_prune.cc:74: tree pruning end, 1 roots, 374 extra nodes, 0 pruned nodes, max_depth=10\n",
      "[1]\teval-auc:0.891996\teval-f1_score_thr0.2:0.398268\teval-f1_score_thr0.3:0.402878\teval-f1_score_thr0.4:0.39646\teval-f1_score_thr0.5:0.393762\teval-f1_score_thr0.6:0.381356\teval-f1_score_thr0.7:0.351197\n"
     ]
    },
    {
     "name": "stderr",
     "output_type": "stream",
     "text": [
      "/home/ec2-user/anaconda3/envs/python3/lib/python3.6/site-packages/sklearn/metrics/classification.py:1135: UndefinedMetricWarning: F-score is ill-defined and being set to 0.0 due to no predicted samples.\n",
      "  'precision', 'predicted', average, warn_for)\n"
     ]
    },
    {
     "name": "stdout",
     "output_type": "stream",
     "text": [
      "threshold 0.31\n",
      "max f1_score 0.40483870967741936\n",
      "eta 0.3\n",
      "max_depth 10\n",
      "num_round 53\n",
      "------------------------------\n",
      "[21:14:17] /workspace/src/tree/updater_prune.cc:74: tree pruning end, 1 roots, 422 extra nodes, 0 pruned nodes, max_depth=10\n",
      "[0]\teval-auc:0.892249\teval-f1_score_thr0.2:0.398256\teval-f1_score_thr0.3:0.399356\teval-f1_score_thr0.4:0.402145\teval-f1_score_thr0.5:0.389814\teval-f1_score_thr0.6:0.375667\teval-f1_score_thr0.7:0.350634\n",
      "[21:14:18] /workspace/src/tree/updater_prune.cc:74: tree pruning end, 1 roots, 506 extra nodes, 0 pruned nodes, max_depth=10\n",
      "[1]\teval-auc:0.893046\teval-f1_score_thr0.2:0.397959\teval-f1_score_thr0.3:0.396411\teval-f1_score_thr0.4:0.405745\teval-f1_score_thr0.5:0.4\teval-f1_score_thr0.6:0.385593\teval-f1_score_thr0.7:0.344907\n"
     ]
    },
    {
     "name": "stderr",
     "output_type": "stream",
     "text": [
      "/home/ec2-user/anaconda3/envs/python3/lib/python3.6/site-packages/sklearn/metrics/classification.py:1135: UndefinedMetricWarning: F-score is ill-defined and being set to 0.0 due to no predicted samples.\n",
      "  'precision', 'predicted', average, warn_for)\n"
     ]
    },
    {
     "name": "stdout",
     "output_type": "stream",
     "text": [
      "threshold 0.38\n",
      "max f1_score 0.4060017652250662\n",
      "eta 0.3\n",
      "max_depth 10\n",
      "num_round 55\n",
      "------------------------------\n",
      "[21:14:22] /workspace/src/tree/updater_prune.cc:74: tree pruning end, 1 roots, 304 extra nodes, 0 pruned nodes, max_depth=10\n",
      "[0]\teval-auc:0.89322\teval-f1_score_thr0.2:0.4\teval-f1_score_thr0.3:0.395748\teval-f1_score_thr0.4:0.407507\teval-f1_score_thr0.5:0.401961\teval-f1_score_thr0.6:0.388474\teval-f1_score_thr0.7:0.346821\n",
      "[21:14:23] /workspace/src/tree/updater_prune.cc:74: tree pruning end, 1 roots, 236 extra nodes, 0 pruned nodes, max_depth=10\n",
      "[1]\teval-auc:0.892827\teval-f1_score_thr0.2:0.397652\teval-f1_score_thr0.3:0.395731\teval-f1_score_thr0.4:0.402865\teval-f1_score_thr0.5:0.396825\teval-f1_score_thr0.6:0.390977\teval-f1_score_thr0.7:0.340672\n"
     ]
    },
    {
     "name": "stderr",
     "output_type": "stream",
     "text": [
      "/home/ec2-user/anaconda3/envs/python3/lib/python3.6/site-packages/sklearn/metrics/classification.py:1135: UndefinedMetricWarning: F-score is ill-defined and being set to 0.0 due to no predicted samples.\n",
      "  'precision', 'predicted', average, warn_for)\n"
     ]
    },
    {
     "name": "stdout",
     "output_type": "stream",
     "text": [
      "threshold 0.36\n",
      "max f1_score 0.40727902946273836\n",
      "eta 0.3\n",
      "max_depth 10\n",
      "num_round 57\n",
      "------------------------------\n",
      "[21:14:28] /workspace/src/tree/updater_prune.cc:74: tree pruning end, 1 roots, 354 extra nodes, 0 pruned nodes, max_depth=10\n",
      "[0]\teval-auc:0.893156\teval-f1_score_thr0.2:0.393467\teval-f1_score_thr0.3:0.397035\teval-f1_score_thr0.4:0.398897\teval-f1_score_thr0.5:0.390342\teval-f1_score_thr0.6:0.382385\teval-f1_score_thr0.7:0.343786\n",
      "[21:14:28] /workspace/src/tree/updater_prune.cc:74: tree pruning end, 1 roots, 202 extra nodes, 0 pruned nodes, max_depth=10\n",
      "[1]\teval-auc:0.893234\teval-f1_score_thr0.2:0.397321\teval-f1_score_thr0.3:0.39769\teval-f1_score_thr0.4:0.39781\teval-f1_score_thr0.5:0.38995\teval-f1_score_thr0.6:0.380236\teval-f1_score_thr0.7:0.349133\n"
     ]
    },
    {
     "name": "stderr",
     "output_type": "stream",
     "text": [
      "/home/ec2-user/anaconda3/envs/python3/lib/python3.6/site-packages/sklearn/metrics/classification.py:1135: UndefinedMetricWarning: F-score is ill-defined and being set to 0.0 due to no predicted samples.\n",
      "  'precision', 'predicted', average, warn_for)\n"
     ]
    },
    {
     "name": "stdout",
     "output_type": "stream",
     "text": [
      "threshold 0.36\n",
      "max f1_score 0.404553415061296\n",
      "eta 0.3\n",
      "max_depth 10\n",
      "num_round 59\n",
      "------------------------------\n",
      "[21:14:33] /workspace/src/tree/updater_prune.cc:74: tree pruning end, 1 roots, 276 extra nodes, 0 pruned nodes, max_depth=10\n",
      "[0]\teval-auc:0.893652\teval-f1_score_thr0.2:0.397311\teval-f1_score_thr0.3:0.396382\teval-f1_score_thr0.4:0.402944\teval-f1_score_thr0.5:0.394366\teval-f1_score_thr0.6:0.376216\teval-f1_score_thr0.7:0.349537\n",
      "[21:14:34] /workspace/src/tree/updater_prune.cc:74: tree pruning end, 1 roots, 164 extra nodes, 0 pruned nodes, max_depth=10\n",
      "[1]\teval-auc:0.893965\teval-f1_score_thr0.2:0.398204\teval-f1_score_thr0.3:0.39934\teval-f1_score_thr0.4:0.401843\teval-f1_score_thr0.5:0.394366\teval-f1_score_thr0.6:0.366992\teval-f1_score_thr0.7:0.346512\n"
     ]
    },
    {
     "name": "stderr",
     "output_type": "stream",
     "text": [
      "/home/ec2-user/anaconda3/envs/python3/lib/python3.6/site-packages/sklearn/metrics/classification.py:1135: UndefinedMetricWarning: F-score is ill-defined and being set to 0.0 due to no predicted samples.\n",
      "  'precision', 'predicted', average, warn_for)\n"
     ]
    },
    {
     "name": "stdout",
     "output_type": "stream",
     "text": [
      "threshold 0.37\n",
      "max f1_score 0.4068406840684069\n",
      "eta 0.3\n",
      "max_depth 10\n",
      "num_round 61\n",
      "------------------------------\n",
      "[21:14:38] /workspace/src/tree/updater_prune.cc:74: tree pruning end, 1 roots, 238 extra nodes, 0 pruned nodes, max_depth=10\n",
      "[0]\teval-auc:0.89427\teval-f1_score_thr0.2:0.397581\teval-f1_score_thr0.3:0.396352\teval-f1_score_thr0.4:0.402245\teval-f1_score_thr0.5:0.390244\teval-f1_score_thr0.6:0.370774\teval-f1_score_thr0.7:0.344587\n",
      "[21:14:39] /workspace/src/tree/updater_prune.cc:74: tree pruning end, 1 roots, 320 extra nodes, 0 pruned nodes, max_depth=10\n",
      "[1]\teval-auc:0.894362\teval-f1_score_thr0.2:0.395455\teval-f1_score_thr0.3:0.401015\teval-f1_score_thr0.4:0.399625\teval-f1_score_thr0.5:0.387424\teval-f1_score_thr0.6:0.375824\teval-f1_score_thr0.7:0.350755\n"
     ]
    },
    {
     "name": "stderr",
     "output_type": "stream",
     "text": [
      "/home/ec2-user/anaconda3/envs/python3/lib/python3.6/site-packages/sklearn/metrics/classification.py:1135: UndefinedMetricWarning: F-score is ill-defined and being set to 0.0 due to no predicted samples.\n",
      "  'precision', 'predicted', average, warn_for)\n"
     ]
    },
    {
     "name": "stdout",
     "output_type": "stream",
     "text": [
      "threshold 0.11\n",
      "max f1_score 0.4050297816015884\n",
      "eta 0.3\n",
      "max_depth 10\n",
      "num_round 63\n",
      "------------------------------\n",
      "[21:14:43] /workspace/src/tree/updater_prune.cc:74: tree pruning end, 1 roots, 288 extra nodes, 0 pruned nodes, max_depth=10\n",
      "[0]\teval-auc:0.894537\teval-f1_score_thr0.2:0.397563\teval-f1_score_thr0.3:0.39527\teval-f1_score_thr0.4:0.407512\teval-f1_score_thr0.5:0.389113\teval-f1_score_thr0.6:0.376368\teval-f1_score_thr0.7:0.352668\n",
      "[21:14:44] /workspace/src/tree/updater_prune.cc:74: tree pruning end, 1 roots, 338 extra nodes, 0 pruned nodes, max_depth=10\n",
      "[1]\teval-auc:0.894547\teval-f1_score_thr0.2:0.398479\teval-f1_score_thr0.3:0.396259\teval-f1_score_thr0.4:0.403409\teval-f1_score_thr0.5:0.387487\teval-f1_score_thr0.6:0.37432\teval-f1_score_thr0.7:0.357309\n"
     ]
    },
    {
     "name": "stderr",
     "output_type": "stream",
     "text": [
      "/home/ec2-user/anaconda3/envs/python3/lib/python3.6/site-packages/sklearn/metrics/classification.py:1135: UndefinedMetricWarning: F-score is ill-defined and being set to 0.0 due to no predicted samples.\n",
      "  'precision', 'predicted', average, warn_for)\n"
     ]
    },
    {
     "name": "stdout",
     "output_type": "stream",
     "text": [
      "threshold 0.09\n",
      "max f1_score 0.4083703233988586\n",
      "eta 0.3\n",
      "max_depth 10\n",
      "num_round 65\n",
      "------------------------------\n",
      "[21:14:48] /workspace/src/tree/updater_prune.cc:74: tree pruning end, 1 roots, 156 extra nodes, 0 pruned nodes, max_depth=10\n",
      "[0]\teval-auc:0.894207\teval-f1_score_thr0.2:0.397554\teval-f1_score_thr0.3:0.399309\teval-f1_score_thr0.4:0.404155\teval-f1_score_thr0.5:0.384615\teval-f1_score_thr0.6:0.376087\teval-f1_score_thr0.7:0.356228\n",
      "[21:14:49] /workspace/src/tree/updater_prune.cc:74: tree pruning end, 1 roots, 302 extra nodes, 0 pruned nodes, max_depth=10\n",
      "[1]\teval-auc:0.894272\teval-f1_score_thr0.2:0.396618\teval-f1_score_thr0.3:0.400697\teval-f1_score_thr0.4:0.401522\teval-f1_score_thr0.5:0.379205\teval-f1_score_thr0.6:0.372399\teval-f1_score_thr0.7:0.347725\n"
     ]
    },
    {
     "name": "stderr",
     "output_type": "stream",
     "text": [
      "/home/ec2-user/anaconda3/envs/python3/lib/python3.6/site-packages/sklearn/metrics/classification.py:1135: UndefinedMetricWarning: F-score is ill-defined and being set to 0.0 due to no predicted samples.\n",
      "  'precision', 'predicted', average, warn_for)\n"
     ]
    },
    {
     "name": "stdout",
     "output_type": "stream",
     "text": [
      "threshold 0.29\n",
      "max f1_score 0.4075342465753425\n",
      "eta 0.3\n",
      "max_depth 10\n",
      "num_round 67\n",
      "------------------------------\n",
      "[21:14:53] /workspace/src/tree/updater_prune.cc:74: tree pruning end, 1 roots, 350 extra nodes, 0 pruned nodes, max_depth=10\n",
      "[0]\teval-auc:0.894007\teval-f1_score_thr0.2:0.397229\teval-f1_score_thr0.3:0.397548\teval-f1_score_thr0.4:0.405328\teval-f1_score_thr0.5:0.383282\teval-f1_score_thr0.6:0.371991\teval-f1_score_thr0.7:0.343057\n",
      "[21:14:54] /workspace/src/tree/updater_prune.cc:74: tree pruning end, 1 roots, 246 extra nodes, 0 pruned nodes, max_depth=10\n",
      "[1]\teval-auc:0.894177\teval-f1_score_thr0.2:0.398148\teval-f1_score_thr0.3:0.4\teval-f1_score_thr0.4:0.40613\teval-f1_score_thr0.5:0.381538\teval-f1_score_thr0.6:0.373913\teval-f1_score_thr0.7:0.346199\n"
     ]
    },
    {
     "name": "stderr",
     "output_type": "stream",
     "text": [
      "/home/ec2-user/anaconda3/envs/python3/lib/python3.6/site-packages/sklearn/metrics/classification.py:1135: UndefinedMetricWarning: F-score is ill-defined and being set to 0.0 due to no predicted samples.\n",
      "  'precision', 'predicted', average, warn_for)\n"
     ]
    },
    {
     "name": "stdout",
     "output_type": "stream",
     "text": [
      "threshold 0.39\n",
      "max f1_score 0.4064272211720227\n",
      "eta 0.3\n",
      "max_depth 10\n",
      "num_round 69\n",
      "------------------------------\n",
      "[21:14:59] /workspace/src/tree/updater_prune.cc:74: tree pruning end, 1 roots, 382 extra nodes, 0 pruned nodes, max_depth=10\n",
      "[0]\teval-auc:0.894829\teval-f1_score_thr0.2:0.395639\teval-f1_score_thr0.3:0.397559\teval-f1_score_thr0.4:0.40153\teval-f1_score_thr0.5:0.384774\teval-f1_score_thr0.6:0.370614\teval-f1_score_thr0.7:0.34152\n",
      "[21:14:59] /workspace/src/tree/updater_prune.cc:74: tree pruning end, 1 roots, 308 extra nodes, 0 pruned nodes, max_depth=10\n",
      "[1]\teval-auc:0.895104\teval-f1_score_thr0.2:0.401556\teval-f1_score_thr0.3:0.4\teval-f1_score_thr0.4:0.40691\teval-f1_score_thr0.5:0.382323\teval-f1_score_thr0.6:0.364435\teval-f1_score_thr0.7:0.348131\n"
     ]
    },
    {
     "name": "stderr",
     "output_type": "stream",
     "text": [
      "/home/ec2-user/anaconda3/envs/python3/lib/python3.6/site-packages/sklearn/metrics/classification.py:1135: UndefinedMetricWarning: F-score is ill-defined and being set to 0.0 due to no predicted samples.\n",
      "  'precision', 'predicted', average, warn_for)\n"
     ]
    },
    {
     "name": "stdout",
     "output_type": "stream",
     "text": [
      "threshold 0.08\n",
      "max f1_score 0.40865690642902613\n",
      "eta 0.3\n",
      "max_depth 10\n",
      "num_round 71\n",
      "------------------------------\n",
      "[21:15:04] /workspace/src/tree/updater_prune.cc:74: tree pruning end, 1 roots, 326 extra nodes, 0 pruned nodes, max_depth=10\n",
      "[0]\teval-auc:0.895251\teval-f1_score_thr0.2:0.40344\teval-f1_score_thr0.3:0.400351\teval-f1_score_thr0.4:0.401157\teval-f1_score_thr0.5:0.389344\teval-f1_score_thr0.6:0.364238\teval-f1_score_thr0.7:0.344988\n",
      "[21:15:05] /workspace/src/tree/updater_prune.cc:74: tree pruning end, 1 roots, 154 extra nodes, 0 pruned nodes, max_depth=10\n",
      "[1]\teval-auc:0.895148\teval-f1_score_thr0.2:0.400314\teval-f1_score_thr0.3:0.407048\teval-f1_score_thr0.4:0.398844\teval-f1_score_thr0.5:0.389744\teval-f1_score_thr0.6:0.361419\teval-f1_score_thr0.7:0.344666\n"
     ]
    },
    {
     "name": "stderr",
     "output_type": "stream",
     "text": [
      "/home/ec2-user/anaconda3/envs/python3/lib/python3.6/site-packages/sklearn/metrics/classification.py:1135: UndefinedMetricWarning: F-score is ill-defined and being set to 0.0 due to no predicted samples.\n",
      "  'precision', 'predicted', average, warn_for)\n"
     ]
    },
    {
     "name": "stdout",
     "output_type": "stream",
     "text": [
      "threshold 0.13\n",
      "max f1_score 0.4094151212553495\n",
      "eta 0.3\n",
      "max_depth 10\n",
      "num_round 73\n",
      "------------------------------\n",
      "[21:15:09] /workspace/src/tree/updater_prune.cc:74: tree pruning end, 1 roots, 110 extra nodes, 0 pruned nodes, max_depth=10\n",
      "[0]\teval-auc:0.895092\teval-f1_score_thr0.2:0.401891\teval-f1_score_thr0.3:0.40672\teval-f1_score_thr0.4:0.398453\teval-f1_score_thr0.5:0.38723\teval-f1_score_thr0.6:0.363839\teval-f1_score_thr0.7:0.342723\n",
      "[21:15:10] /workspace/src/tree/updater_prune.cc:74: tree pruning end, 1 roots, 256 extra nodes, 0 pruned nodes, max_depth=10\n",
      "[1]\teval-auc:0.895182\teval-f1_score_thr0.2:0.400315\teval-f1_score_thr0.3:0.40669\teval-f1_score_thr0.4:0.397274\teval-f1_score_thr0.5:0.38517\teval-f1_score_thr0.6:0.361607\teval-f1_score_thr0.7:0.34507\n"
     ]
    },
    {
     "name": "stderr",
     "output_type": "stream",
     "text": [
      "/home/ec2-user/anaconda3/envs/python3/lib/python3.6/site-packages/sklearn/metrics/classification.py:1135: UndefinedMetricWarning: F-score is ill-defined and being set to 0.0 due to no predicted samples.\n",
      "  'precision', 'predicted', average, warn_for)\n"
     ]
    },
    {
     "name": "stdout",
     "output_type": "stream",
     "text": [
      "threshold 0.13\n",
      "max f1_score 0.4080459770114942\n",
      "eta 0.3\n",
      "max_depth 10\n",
      "num_round 75\n",
      "------------------------------\n",
      "[21:15:14] /workspace/src/tree/updater_prune.cc:74: tree pruning end, 1 roots, 222 extra nodes, 0 pruned nodes, max_depth=10\n",
      "[0]\teval-auc:0.895139\teval-f1_score_thr0.2:0.402217\teval-f1_score_thr0.3:0.409131\teval-f1_score_thr0.4:0.39961\teval-f1_score_thr0.5:0.385965\teval-f1_score_thr0.6:0.36626\teval-f1_score_thr0.7:0.346698\n",
      "[21:15:15] /workspace/src/tree/updater_prune.cc:74: tree pruning end, 1 roots, 236 extra nodes, 0 pruned nodes, max_depth=10\n",
      "[1]\teval-auc:0.894667\teval-f1_score_thr0.2:0.398406\teval-f1_score_thr0.3:0.404614\teval-f1_score_thr0.4:0.393762\teval-f1_score_thr0.5:0.385492\teval-f1_score_thr0.6:0.36485\teval-f1_score_thr0.7:0.349057\n"
     ]
    },
    {
     "name": "stderr",
     "output_type": "stream",
     "text": [
      "/home/ec2-user/anaconda3/envs/python3/lib/python3.6/site-packages/sklearn/metrics/classification.py:1135: UndefinedMetricWarning: F-score is ill-defined and being set to 0.0 due to no predicted samples.\n",
      "  'precision', 'predicted', average, warn_for)\n"
     ]
    },
    {
     "name": "stdout",
     "output_type": "stream",
     "text": [
      "threshold 0.14\n",
      "max f1_score 0.41085840058694056\n",
      "eta 0.3\n",
      "max_depth 10\n",
      "num_round 77\n",
      "------------------------------\n",
      "[21:15:19] /workspace/src/tree/updater_prune.cc:74: tree pruning end, 1 roots, 306 extra nodes, 0 pruned nodes, max_depth=10\n",
      "[0]\teval-auc:0.89428\teval-f1_score_thr0.2:0.400958\teval-f1_score_thr0.3:0.404996\teval-f1_score_thr0.4:0.400782\teval-f1_score_thr0.5:0.383246\teval-f1_score_thr0.6:0.36485\teval-f1_score_thr0.7:0.343602\n",
      "[21:15:20] /workspace/src/tree/updater_prune.cc:74: tree pruning end, 1 roots, 322 extra nodes, 0 pruned nodes, max_depth=10\n",
      "[1]\teval-auc:0.893883\teval-f1_score_thr0.2:0.4016\teval-f1_score_thr0.3:0.402852\teval-f1_score_thr0.4:0.402355\teval-f1_score_thr0.5:0.387029\teval-f1_score_thr0.6:0.365256\teval-f1_score_thr0.7:0.343602\n"
     ]
    },
    {
     "name": "stderr",
     "output_type": "stream",
     "text": [
      "/home/ec2-user/anaconda3/envs/python3/lib/python3.6/site-packages/sklearn/metrics/classification.py:1135: UndefinedMetricWarning: F-score is ill-defined and being set to 0.0 due to no predicted samples.\n",
      "  'precision', 'predicted', average, warn_for)\n"
     ]
    },
    {
     "name": "stdout",
     "output_type": "stream",
     "text": [
      "threshold 0.11\n",
      "max f1_score 0.4132581100141044\n",
      "eta 0.3\n",
      "max_depth 10\n",
      "num_round 79\n",
      "------------------------------\n",
      "[21:15:24] /workspace/src/tree/updater_prune.cc:74: tree pruning end, 1 roots, 188 extra nodes, 0 pruned nodes, max_depth=10\n",
      "[0]\teval-auc:0.894032\teval-f1_score_thr0.2:0.403523\teval-f1_score_thr0.3:0.401074\teval-f1_score_thr0.4:0.405458\teval-f1_score_thr0.5:0.388773\teval-f1_score_thr0.6:0.36626\teval-f1_score_thr0.7:0.346382\n",
      "[21:15:25] /workspace/src/tree/updater_prune.cc:74: tree pruning end, 1 roots, 194 extra nodes, 0 pruned nodes, max_depth=10\n",
      "[1]\teval-auc:0.893944\teval-f1_score_thr0.2:0.407705\teval-f1_score_thr0.3:0.398922\teval-f1_score_thr0.4:0.401942\teval-f1_score_thr0.5:0.384535\teval-f1_score_thr0.6:0.372352\teval-f1_score_thr0.7:0.347929\n"
     ]
    },
    {
     "name": "stderr",
     "output_type": "stream",
     "text": [
      "/home/ec2-user/anaconda3/envs/python3/lib/python3.6/site-packages/sklearn/metrics/classification.py:1135: UndefinedMetricWarning: F-score is ill-defined and being set to 0.0 due to no predicted samples.\n",
      "  'precision', 'predicted', average, warn_for)\n"
     ]
    },
    {
     "name": "stdout",
     "output_type": "stream",
     "text": [
      "threshold 0.12\n",
      "max f1_score 0.4132469402447804\n",
      "eta 0.3\n",
      "max_depth 10\n",
      "num_round 81\n",
      "------------------------------\n",
      "[21:15:30] /workspace/src/tree/updater_prune.cc:74: tree pruning end, 1 roots, 242 extra nodes, 0 pruned nodes, max_depth=10\n",
      "[0]\teval-auc:0.894082\teval-f1_score_thr0.2:0.40708\teval-f1_score_thr0.3:0.401084\teval-f1_score_thr0.4:0.402724\teval-f1_score_thr0.5:0.394161\teval-f1_score_thr0.6:0.367893\teval-f1_score_thr0.7:0.349469\n",
      "[21:15:31] /workspace/src/tree/updater_prune.cc:74: tree pruning end, 1 roots, 350 extra nodes, 0 pruned nodes, max_depth=10\n",
      "[1]\teval-auc:0.894183\teval-f1_score_thr0.2:0.408097\teval-f1_score_thr0.3:0.400362\teval-f1_score_thr0.4:0.400391\teval-f1_score_thr0.5:0.388248\teval-f1_score_thr0.6:0.368304\teval-f1_score_thr0.7:0.345882\n"
     ]
    },
    {
     "name": "stderr",
     "output_type": "stream",
     "text": [
      "/home/ec2-user/anaconda3/envs/python3/lib/python3.6/site-packages/sklearn/metrics/classification.py:1135: UndefinedMetricWarning: F-score is ill-defined and being set to 0.0 due to no predicted samples.\n",
      "  'precision', 'predicted', average, warn_for)\n"
     ]
    },
    {
     "name": "stdout",
     "output_type": "stream",
     "text": [
      "threshold 0.1\n",
      "max f1_score 0.41065171688857743\n",
      "eta 0.3\n",
      "max_depth 10\n",
      "num_round 83\n",
      "------------------------------\n",
      "[21:15:35] /workspace/src/tree/updater_prune.cc:74: tree pruning end, 1 roots, 252 extra nodes, 0 pruned nodes, max_depth=10\n",
      "[0]\teval-auc:0.894358\teval-f1_score_thr0.2:0.408462\teval-f1_score_thr0.3:0.404332\teval-f1_score_thr0.4:0.397638\teval-f1_score_thr0.5:0.382353\teval-f1_score_thr0.6:0.370123\teval-f1_score_thr0.7:0.341232\n",
      "[21:15:36] /workspace/src/tree/updater_prune.cc:74: tree pruning end, 1 roots, 258 extra nodes, 0 pruned nodes, max_depth=10\n",
      "[1]\teval-auc:0.894536\teval-f1_score_thr0.2:0.403595\teval-f1_score_thr0.3:0.400361\teval-f1_score_thr0.4:0.394867\teval-f1_score_thr0.5:0.384454\teval-f1_score_thr0.6:0.365663\teval-f1_score_thr0.7:0.34434\n"
     ]
    },
    {
     "name": "stderr",
     "output_type": "stream",
     "text": [
      "/home/ec2-user/anaconda3/envs/python3/lib/python3.6/site-packages/sklearn/metrics/classification.py:1135: UndefinedMetricWarning: F-score is ill-defined and being set to 0.0 due to no predicted samples.\n",
      "  'precision', 'predicted', average, warn_for)\n"
     ]
    },
    {
     "name": "stdout",
     "output_type": "stream",
     "text": [
      "threshold 0.06\n",
      "max f1_score 0.41146496815286626\n",
      "eta 0.3\n",
      "max_depth 10\n",
      "num_round 85\n",
      "------------------------------\n",
      "[21:15:40] /workspace/src/tree/updater_prune.cc:74: tree pruning end, 1 roots, 100 extra nodes, 0 pruned nodes, max_depth=10\n",
      "[0]\teval-auc:0.894791\teval-f1_score_thr0.2:0.403595\teval-f1_score_thr0.3:0.39783\teval-f1_score_thr0.4:0.394059\teval-f1_score_thr0.5:0.382755\teval-f1_score_thr0.6:0.366071\teval-f1_score_thr0.7:0.34279\n",
      "[21:15:41] /workspace/src/tree/updater_prune.cc:74: tree pruning end, 1 roots, 284 extra nodes, 0 pruned nodes, max_depth=10\n",
      "[1]\teval-auc:0.894598\teval-f1_score_thr0.2:0.405892\teval-f1_score_thr0.3:0.4\teval-f1_score_thr0.4:0.392079\teval-f1_score_thr0.5:0.38226\teval-f1_score_thr0.6:0.368715\teval-f1_score_thr0.7:0.343602\n"
     ]
    },
    {
     "name": "stderr",
     "output_type": "stream",
     "text": [
      "/home/ec2-user/anaconda3/envs/python3/lib/python3.6/site-packages/sklearn/metrics/classification.py:1135: UndefinedMetricWarning: F-score is ill-defined and being set to 0.0 due to no predicted samples.\n",
      "  'precision', 'predicted', average, warn_for)\n"
     ]
    },
    {
     "name": "stdout",
     "output_type": "stream",
     "text": [
      "threshold 0.06\n",
      "max f1_score 0.410941475826972\n",
      "eta 0.3\n",
      "max_depth 10\n",
      "num_round 87\n",
      "------------------------------\n",
      "[21:15:45] /workspace/src/tree/updater_prune.cc:74: tree pruning end, 1 roots, 124 extra nodes, 0 pruned nodes, max_depth=10\n",
      "[0]\teval-auc:0.894687\teval-f1_score_thr0.2:0.407195\teval-f1_score_thr0.3:0.397448\teval-f1_score_thr0.4:0.391261\teval-f1_score_thr0.5:0.384372\teval-f1_score_thr0.6:0.368715\teval-f1_score_thr0.7:0.341637\n",
      "[21:15:46] /workspace/src/tree/updater_prune.cc:74: tree pruning end, 1 roots, 258 extra nodes, 0 pruned nodes, max_depth=10\n",
      "[1]\teval-auc:0.89508\teval-f1_score_thr0.2:0.405229\teval-f1_score_thr0.3:0.4\teval-f1_score_thr0.4:0.392079\teval-f1_score_thr0.5:0.382353\teval-f1_score_thr0.6:0.36648\teval-f1_score_thr0.7:0.344418\n"
     ]
    },
    {
     "name": "stderr",
     "output_type": "stream",
     "text": [
      "/home/ec2-user/anaconda3/envs/python3/lib/python3.6/site-packages/sklearn/metrics/classification.py:1135: UndefinedMetricWarning: F-score is ill-defined and being set to 0.0 due to no predicted samples.\n",
      "  'precision', 'predicted', average, warn_for)\n"
     ]
    },
    {
     "name": "stdout",
     "output_type": "stream",
     "text": [
      "threshold 0.13\n",
      "max f1_score 0.4114114114114114\n",
      "eta 0.3\n",
      "max_depth 10\n",
      "num_round 89\n",
      "------------------------------\n",
      "[21:15:50] /workspace/src/tree/updater_prune.cc:74: tree pruning end, 1 roots, 226 extra nodes, 0 pruned nodes, max_depth=10\n",
      "[0]\teval-auc:0.895502\teval-f1_score_thr0.2:0.40756\teval-f1_score_thr0.3:0.40293\teval-f1_score_thr0.4:0.39005\teval-f1_score_thr0.5:0.375924\teval-f1_score_thr0.6:0.362416\teval-f1_score_thr0.7:0.347206\n",
      "[21:15:51] /workspace/src/tree/updater_prune.cc:74: tree pruning end, 1 roots, 226 extra nodes, 0 pruned nodes, max_depth=10\n",
      "[1]\teval-auc:0.895423\teval-f1_score_thr0.2:0.407255\teval-f1_score_thr0.3:0.401835\teval-f1_score_thr0.4:0.389662\teval-f1_score_thr0.5:0.371156\teval-f1_score_thr0.6:0.358512\teval-f1_score_thr0.7:0.346793\n"
     ]
    },
    {
     "name": "stderr",
     "output_type": "stream",
     "text": [
      "/home/ec2-user/anaconda3/envs/python3/lib/python3.6/site-packages/sklearn/metrics/classification.py:1135: UndefinedMetricWarning: F-score is ill-defined and being set to 0.0 due to no predicted samples.\n",
      "  'precision', 'predicted', average, warn_for)\n"
     ]
    },
    {
     "name": "stdout",
     "output_type": "stream",
     "text": [
      "threshold 0.28\n",
      "max f1_score 0.410762331838565\n",
      "eta 0.3\n",
      "max_depth 10\n",
      "num_round 91\n",
      "------------------------------\n",
      "[21:15:56] /workspace/src/tree/updater_prune.cc:74: tree pruning end, 1 roots, 296 extra nodes, 0 pruned nodes, max_depth=10\n",
      "[0]\teval-auc:0.895817\teval-f1_score_thr0.2:0.402998\teval-f1_score_thr0.3:0.40518\teval-f1_score_thr0.4:0.39039\teval-f1_score_thr0.5:0.37407\teval-f1_score_thr0.6:0.356257\teval-f1_score_thr0.7:0.348754\n",
      "[21:15:57] /workspace/src/tree/updater_prune.cc:74: tree pruning end, 1 roots, 106 extra nodes, 0 pruned nodes, max_depth=10\n",
      "[1]\teval-auc:0.895965\teval-f1_score_thr0.2:0.405338\teval-f1_score_thr0.3:0.40518\teval-f1_score_thr0.4:0.392\teval-f1_score_thr0.5:0.373277\teval-f1_score_thr0.6:0.359551\teval-f1_score_thr0.7:0.345972\n"
     ]
    },
    {
     "name": "stderr",
     "output_type": "stream",
     "text": [
      "/home/ec2-user/anaconda3/envs/python3/lib/python3.6/site-packages/sklearn/metrics/classification.py:1135: UndefinedMetricWarning: F-score is ill-defined and being set to 0.0 due to no predicted samples.\n",
      "  'precision', 'predicted', average, warn_for)\n"
     ]
    },
    {
     "name": "stdout",
     "output_type": "stream",
     "text": [
      "threshold 0.06\n",
      "max f1_score 0.4108878807517823\n",
      "eta 0.3\n",
      "max_depth 10\n",
      "num_round 93\n",
      "------------------------------\n",
      "[21:16:01] /workspace/src/tree/updater_prune.cc:74: tree pruning end, 1 roots, 124 extra nodes, 0 pruned nodes, max_depth=10\n",
      "[0]\teval-auc:0.89603\teval-f1_score_thr0.2:0.404344\teval-f1_score_thr0.3:0.406654\teval-f1_score_thr0.4:0.390782\teval-f1_score_thr0.5:0.380042\teval-f1_score_thr0.6:0.363636\teval-f1_score_thr0.7:0.353499\n",
      "[21:16:02] /workspace/src/tree/updater_prune.cc:74: tree pruning end, 1 roots, 210 extra nodes, 0 pruned nodes, max_depth=10\n",
      "[1]\teval-auc:0.895948\teval-f1_score_thr0.2:0.403333\teval-f1_score_thr0.3:0.405931\teval-f1_score_thr0.4:0.395186\teval-f1_score_thr0.5:0.377119\teval-f1_score_thr0.6:0.363636\teval-f1_score_thr0.7:0.349469\n"
     ]
    },
    {
     "name": "stderr",
     "output_type": "stream",
     "text": [
      "/home/ec2-user/anaconda3/envs/python3/lib/python3.6/site-packages/sklearn/metrics/classification.py:1135: UndefinedMetricWarning: F-score is ill-defined and being set to 0.0 due to no predicted samples.\n",
      "  'precision', 'predicted', average, warn_for)\n"
     ]
    },
    {
     "name": "stdout",
     "output_type": "stream",
     "text": [
      "threshold 0.05\n",
      "max f1_score 0.40951784596117724\n",
      "eta 0.3\n",
      "max_depth 10\n",
      "num_round 95\n",
      "------------------------------\n",
      "[21:16:06] /workspace/src/tree/updater_prune.cc:74: tree pruning end, 1 roots, 132 extra nodes, 0 pruned nodes, max_depth=10\n",
      "[0]\teval-auc:0.896126\teval-f1_score_thr0.2:0.406328\teval-f1_score_thr0.3:0.405931\teval-f1_score_thr0.4:0.392786\teval-f1_score_thr0.5:0.376596\teval-f1_score_thr0.6:0.365062\teval-f1_score_thr0.7:0.351544\n",
      "[21:16:07] /workspace/src/tree/updater_prune.cc:74: tree pruning end, 1 roots, 124 extra nodes, 0 pruned nodes, max_depth=10\n",
      "[1]\teval-auc:0.896249\teval-f1_score_thr0.2:0.405316\teval-f1_score_thr0.3:0.410019\teval-f1_score_thr0.4:0.392786\teval-f1_score_thr0.5:0.380042\teval-f1_score_thr0.6:0.365062\teval-f1_score_thr0.7:0.355872\n"
     ]
    },
    {
     "name": "stderr",
     "output_type": "stream",
     "text": [
      "/home/ec2-user/anaconda3/envs/python3/lib/python3.6/site-packages/sklearn/metrics/classification.py:1135: UndefinedMetricWarning: F-score is ill-defined and being set to 0.0 due to no predicted samples.\n",
      "  'precision', 'predicted', average, warn_for)\n"
     ]
    },
    {
     "name": "stdout",
     "output_type": "stream",
     "text": [
      "threshold 0.27\n",
      "max f1_score 0.41192411924119243\n",
      "eta 0.3\n",
      "max_depth 10\n",
      "num_round 97\n",
      "------------------------------\n",
      "[21:16:11] /workspace/src/tree/updater_prune.cc:74: tree pruning end, 1 roots, 170 extra nodes, 0 pruned nodes, max_depth=10\n",
      "[0]\teval-auc:0.89623\teval-f1_score_thr0.2:0.404682\teval-f1_score_thr0.3:0.407407\teval-f1_score_thr0.4:0.398\teval-f1_score_thr0.5:0.377399\teval-f1_score_thr0.6:0.366292\teval-f1_score_thr0.7:0.356295\n",
      "[21:16:12] /workspace/src/tree/updater_prune.cc:74: tree pruning end, 1 roots, 108 extra nodes, 0 pruned nodes, max_depth=10\n",
      "[1]\teval-auc:0.896133\teval-f1_score_thr0.2:0.40536\teval-f1_score_thr0.3:0.404453\teval-f1_score_thr0.4:0.396\teval-f1_score_thr0.5:0.377399\teval-f1_score_thr0.6:0.364454\teval-f1_score_thr0.7:0.35503\n"
     ]
    },
    {
     "name": "stderr",
     "output_type": "stream",
     "text": [
      "/home/ec2-user/anaconda3/envs/python3/lib/python3.6/site-packages/sklearn/metrics/classification.py:1135: UndefinedMetricWarning: F-score is ill-defined and being set to 0.0 due to no predicted samples.\n",
      "  'precision', 'predicted', average, warn_for)\n"
     ]
    },
    {
     "name": "stdout",
     "output_type": "stream",
     "text": [
      "threshold 0.27\n",
      "max f1_score 0.41039426523297495\n",
      "eta 0.3\n",
      "max_depth 10\n",
      "num_round 99\n",
      "------------------------------\n",
      "[21:16:16] /workspace/src/tree/updater_prune.cc:74: tree pruning end, 1 roots, 76 extra nodes, 0 pruned nodes, max_depth=10\n",
      "[0]\teval-auc:0.896007\teval-f1_score_thr0.2:0.404702\teval-f1_score_thr0.3:0.403704\teval-f1_score_thr0.4:0.396\teval-f1_score_thr0.5:0.376068\teval-f1_score_thr0.6:0.362613\teval-f1_score_thr0.7:0.353499\n",
      "[21:16:17] /workspace/src/tree/updater_prune.cc:74: tree pruning end, 1 roots, 160 extra nodes, 0 pruned nodes, max_depth=10\n",
      "[1]\teval-auc:0.896013\teval-f1_score_thr0.2:0.405042\teval-f1_score_thr0.3:0.40518\teval-f1_score_thr0.4:0.395186\teval-f1_score_thr0.5:0.378205\teval-f1_score_thr0.6:0.359955\teval-f1_score_thr0.7:0.351544\n"
     ]
    },
    {
     "name": "stderr",
     "output_type": "stream",
     "text": [
      "/home/ec2-user/anaconda3/envs/python3/lib/python3.6/site-packages/sklearn/metrics/classification.py:1135: UndefinedMetricWarning: F-score is ill-defined and being set to 0.0 due to no predicted samples.\n",
      "  'precision', 'predicted', average, warn_for)\n"
     ]
    },
    {
     "name": "stdout",
     "output_type": "stream",
     "text": [
      "threshold 0.22\n",
      "max f1_score 0.4099060631938514\n",
      "eta 0.3\n",
      "max_depth 10\n",
      "num_round 101\n",
      "------------------------------\n",
      "[21:16:22] /workspace/src/tree/updater_prune.cc:74: tree pruning end, 1 roots, 176 extra nodes, 0 pruned nodes, max_depth=10\n",
      "[0]\teval-auc:0.896063\teval-f1_score_thr0.2:0.405042\teval-f1_score_thr0.3:0.405931\teval-f1_score_thr0.4:0.391129\teval-f1_score_thr0.5:0.374732\teval-f1_score_thr0.6:0.359955\teval-f1_score_thr0.7:0.351127\n",
      "[21:16:23] /workspace/src/tree/updater_prune.cc:74: tree pruning end, 1 roots, 154 extra nodes, 0 pruned nodes, max_depth=10\n",
      "[1]\teval-auc:0.896058\teval-f1_score_thr0.2:0.404344\teval-f1_score_thr0.3:0.403704\teval-f1_score_thr0.4:0.392354\teval-f1_score_thr0.5:0.376471\teval-f1_score_thr0.6:0.359955\teval-f1_score_thr0.7:0.345562\n"
     ]
    },
    {
     "name": "stderr",
     "output_type": "stream",
     "text": [
      "/home/ec2-user/anaconda3/envs/python3/lib/python3.6/site-packages/sklearn/metrics/classification.py:1135: UndefinedMetricWarning: F-score is ill-defined and being set to 0.0 due to no predicted samples.\n",
      "  'precision', 'predicted', average, warn_for)\n"
     ]
    },
    {
     "name": "stdout",
     "output_type": "stream",
     "text": [
      "threshold 0.06\n",
      "max f1_score 0.4102564102564103\n",
      "eta 0.3\n",
      "max_depth 10\n",
      "num_round 103\n",
      "------------------------------\n",
      "[21:16:27] /workspace/src/tree/updater_prune.cc:74: tree pruning end, 1 roots, 164 extra nodes, 0 pruned nodes, max_depth=10\n",
      "[0]\teval-auc:0.896054\teval-f1_score_thr0.2:0.403347\teval-f1_score_thr0.3:0.40148\teval-f1_score_thr0.4:0.393145\teval-f1_score_thr0.5:0.370847\teval-f1_score_thr0.6:0.355856\teval-f1_score_thr0.7:0.342043\n",
      "[21:16:28] /workspace/src/tree/updater_prune.cc:74: tree pruning end, 1 roots, 174 extra nodes, 0 pruned nodes, max_depth=10\n",
      "[1]\teval-auc:0.896064\teval-f1_score_thr0.2:0.402027\teval-f1_score_thr0.3:0.404453\teval-f1_score_thr0.4:0.391878\teval-f1_score_thr0.5:0.369099\teval-f1_score_thr0.6:0.358512\teval-f1_score_thr0.7:0.339667\n"
     ]
    },
    {
     "name": "stderr",
     "output_type": "stream",
     "text": [
      "/home/ec2-user/anaconda3/envs/python3/lib/python3.6/site-packages/sklearn/metrics/classification.py:1135: UndefinedMetricWarning: F-score is ill-defined and being set to 0.0 due to no predicted samples.\n",
      "  'precision', 'predicted', average, warn_for)\n"
     ]
    },
    {
     "name": "stdout",
     "output_type": "stream",
     "text": [
      "threshold 0.06\n",
      "max f1_score 0.4084600132187707\n",
      "eta 0.3\n",
      "max_depth 10\n",
      "num_round 105\n",
      "------------------------------\n",
      "[21:16:32] /workspace/src/tree/updater_prune.cc:74: tree pruning end, 1 roots, 210 extra nodes, 0 pruned nodes, max_depth=10\n",
      "[0]\teval-auc:0.895918\teval-f1_score_thr0.2:0.404075\teval-f1_score_thr0.3:0.404097\teval-f1_score_thr0.4:0.392276\teval-f1_score_thr0.5:0.370847\teval-f1_score_thr0.6:0.359955\teval-f1_score_thr0.7:0.343195\n",
      "[21:16:33] /workspace/src/tree/updater_prune.cc:74: tree pruning end, 1 roots, 226 extra nodes, 0 pruned nodes, max_depth=10\n",
      "[1]\teval-auc:0.896067\teval-f1_score_thr0.2:0.402707\teval-f1_score_thr0.3:0.40261\teval-f1_score_thr0.4:0.389452\teval-f1_score_thr0.5:0.372591\teval-f1_score_thr0.6:0.354002\teval-f1_score_thr0.7:0.345562\n"
     ]
    },
    {
     "name": "stderr",
     "output_type": "stream",
     "text": [
      "/home/ec2-user/anaconda3/envs/python3/lib/python3.6/site-packages/sklearn/metrics/classification.py:1135: UndefinedMetricWarning: F-score is ill-defined and being set to 0.0 due to no predicted samples.\n",
      "  'precision', 'predicted', average, warn_for)\n"
     ]
    },
    {
     "name": "stdout",
     "output_type": "stream",
     "text": [
      "threshold 0.15\n",
      "max f1_score 0.41021548284118114\n",
      "eta 0.3\n",
      "max_depth 10\n",
      "num_round 107\n",
      "------------------------------\n",
      "[21:16:37] /workspace/src/tree/updater_prune.cc:74: tree pruning end, 1 roots, 126 extra nodes, 0 pruned nodes, max_depth=10\n",
      "[0]\teval-auc:0.896297\teval-f1_score_thr0.2:0.409168\teval-f1_score_thr0.3:0.407096\teval-f1_score_thr0.4:0.39556\teval-f1_score_thr0.5:0.37594\teval-f1_score_thr0.6:0.354402\teval-f1_score_thr0.7:0.345154\n",
      "[21:16:38] /workspace/src/tree/updater_prune.cc:74: tree pruning end, 1 roots, 116 extra nodes, 0 pruned nodes, max_depth=10\n",
      "[1]\teval-auc:0.896271\teval-f1_score_thr0.2:0.408821\teval-f1_score_thr0.3:0.409729\teval-f1_score_thr0.4:0.393909\teval-f1_score_thr0.5:0.37594\teval-f1_score_thr0.6:0.353604\teval-f1_score_thr0.7:0.345972\n"
     ]
    },
    {
     "name": "stderr",
     "output_type": "stream",
     "text": [
      "/home/ec2-user/anaconda3/envs/python3/lib/python3.6/site-packages/sklearn/metrics/classification.py:1135: UndefinedMetricWarning: F-score is ill-defined and being set to 0.0 due to no predicted samples.\n",
      "  'precision', 'predicted', average, warn_for)\n"
     ]
    },
    {
     "name": "stdout",
     "output_type": "stream",
     "text": [
      "threshold 0.04\n",
      "max f1_score 0.4114356743318831\n",
      "eta 0.3\n",
      "max_depth 10\n",
      "num_round 109\n",
      "------------------------------\n",
      "[21:16:43] /workspace/src/tree/updater_prune.cc:74: tree pruning end, 1 roots, 124 extra nodes, 0 pruned nodes, max_depth=10\n",
      "[0]\teval-auc:0.896296\teval-f1_score_thr0.2:0.409516\teval-f1_score_thr0.3:0.407512\teval-f1_score_thr0.4:0.39311\teval-f1_score_thr0.5:0.371795\teval-f1_score_thr0.6:0.357062\teval-f1_score_thr0.7:0.346382\n",
      "[21:16:44] /workspace/src/tree/updater_prune.cc:74: tree pruning end, 1 roots, 116 extra nodes, 0 pruned nodes, max_depth=10\n",
      "[1]\teval-auc:0.89651\teval-f1_score_thr0.2:0.408163\teval-f1_score_thr0.3:0.404494\teval-f1_score_thr0.4:0.389848\teval-f1_score_thr0.5:0.374732\teval-f1_score_thr0.6:0.359322\teval-f1_score_thr0.7:0.346382\n"
     ]
    },
    {
     "name": "stderr",
     "output_type": "stream",
     "text": [
      "/home/ec2-user/anaconda3/envs/python3/lib/python3.6/site-packages/sklearn/metrics/classification.py:1135: UndefinedMetricWarning: F-score is ill-defined and being set to 0.0 due to no predicted samples.\n",
      "  'precision', 'predicted', average, warn_for)\n"
     ]
    },
    {
     "name": "stdout",
     "output_type": "stream",
     "text": [
      "threshold 0.04\n",
      "max f1_score 0.41246105919003107\n",
      "eta 0.3\n",
      "max_depth 10\n",
      "num_round 111\n",
      "------------------------------\n",
      "[21:16:48] /workspace/src/tree/updater_prune.cc:74: tree pruning end, 1 roots, 172 extra nodes, 0 pruned nodes, max_depth=10\n",
      "[0]\teval-auc:0.896529\teval-f1_score_thr0.2:0.406463\teval-f1_score_thr0.3:0.406367\teval-f1_score_thr0.4:0.387817\teval-f1_score_thr0.5:0.371643\teval-f1_score_thr0.6:0.354802\teval-f1_score_thr0.7:0.345972\n",
      "[21:16:49] /workspace/src/tree/updater_prune.cc:74: tree pruning end, 1 roots, 52 extra nodes, 0 pruned nodes, max_depth=10\n",
      "[1]\teval-auc:0.896638\teval-f1_score_thr0.2:0.407816\teval-f1_score_thr0.3:0.406015\teval-f1_score_thr0.4:0.386572\teval-f1_score_thr0.5:0.371245\teval-f1_score_thr0.6:0.357062\teval-f1_score_thr0.7:0.346382\n"
     ]
    },
    {
     "name": "stderr",
     "output_type": "stream",
     "text": [
      "/home/ec2-user/anaconda3/envs/python3/lib/python3.6/site-packages/sklearn/metrics/classification.py:1135: UndefinedMetricWarning: F-score is ill-defined and being set to 0.0 due to no predicted samples.\n",
      "  'precision', 'predicted', average, warn_for)\n"
     ]
    },
    {
     "name": "stdout",
     "output_type": "stream",
     "text": [
      "threshold 0.09\n",
      "max f1_score 0.4125822970007315\n",
      "eta 0.3\n",
      "max_depth 10\n",
      "num_round 113\n",
      "------------------------------\n",
      "[21:16:53] /workspace/src/tree/updater_prune.cc:74: tree pruning end, 1 roots, 54 extra nodes, 0 pruned nodes, max_depth=10\n",
      "[0]\teval-auc:0.89682\teval-f1_score_thr0.2:0.40678\teval-f1_score_thr0.3:0.40678\teval-f1_score_thr0.4:0.38736\teval-f1_score_thr0.5:0.369099\teval-f1_score_thr0.6:0.357466\teval-f1_score_thr0.7:0.345562\n",
      "[21:16:54] /workspace/src/tree/updater_prune.cc:74: tree pruning end, 1 roots, 152 extra nodes, 0 pruned nodes, max_depth=10\n",
      "[1]\teval-auc:0.896902\teval-f1_score_thr0.2:0.408859\teval-f1_score_thr0.3:0.40678\teval-f1_score_thr0.4:0.386179\teval-f1_score_thr0.5:0.374194\teval-f1_score_thr0.6:0.352941\teval-f1_score_thr0.7:0.344009\n"
     ]
    },
    {
     "name": "stderr",
     "output_type": "stream",
     "text": [
      "/home/ec2-user/anaconda3/envs/python3/lib/python3.6/site-packages/sklearn/metrics/classification.py:1135: UndefinedMetricWarning: F-score is ill-defined and being set to 0.0 due to no predicted samples.\n",
      "  'precision', 'predicted', average, warn_for)\n"
     ]
    },
    {
     "name": "stdout",
     "output_type": "stream",
     "text": [
      "threshold 0.26\n",
      "max f1_score 0.41192411924119243\n",
      "eta 0.3\n",
      "max_depth 10\n",
      "num_round 115\n",
      "------------------------------\n",
      "[21:16:58] /workspace/src/tree/updater_prune.cc:74: tree pruning end, 1 roots, 128 extra nodes, 0 pruned nodes, max_depth=10\n",
      "[0]\teval-auc:0.896425\teval-f1_score_thr0.2:0.409247\teval-f1_score_thr0.3:0.404896\teval-f1_score_thr0.4:0.387424\teval-f1_score_thr0.5:0.372443\teval-f1_score_thr0.6:0.354802\teval-f1_score_thr0.7:0.344828\n",
      "[21:16:59] /workspace/src/tree/updater_prune.cc:74: tree pruning end, 1 roots, 98 extra nodes, 0 pruned nodes, max_depth=10\n",
      "[1]\teval-auc:0.896654\teval-f1_score_thr0.2:0.410607\teval-f1_score_thr0.3:0.406748\teval-f1_score_thr0.4:0.387817\teval-f1_score_thr0.5:0.373391\teval-f1_score_thr0.6:0.354802\teval-f1_score_thr0.7:0.344828\n"
     ]
    },
    {
     "name": "stderr",
     "output_type": "stream",
     "text": [
      "/home/ec2-user/anaconda3/envs/python3/lib/python3.6/site-packages/sklearn/metrics/classification.py:1135: UndefinedMetricWarning: F-score is ill-defined and being set to 0.0 due to no predicted samples.\n",
      "  'precision', 'predicted', average, warn_for)\n"
     ]
    },
    {
     "name": "stdout",
     "output_type": "stream",
     "text": [
      "threshold 0.25\n",
      "max f1_score 0.4136690647482015\n",
      "eta 0.3\n",
      "max_depth 10\n",
      "num_round 117\n",
      "------------------------------\n",
      "[21:17:04] /workspace/src/tree/updater_prune.cc:74: tree pruning end, 1 roots, 156 extra nodes, 0 pruned nodes, max_depth=10\n",
      "[0]\teval-auc:0.896667\teval-f1_score_thr0.2:0.413025\teval-f1_score_thr0.3:0.406748\teval-f1_score_thr0.4:0.394737\teval-f1_score_thr0.5:0.373792\teval-f1_score_thr0.6:0.352941\teval-f1_score_thr0.7:0.343602\n",
      "[21:17:05] /workspace/src/tree/updater_prune.cc:74: tree pruning end, 1 roots, 42 extra nodes, 0 pruned nodes, max_depth=10\n",
      "[1]\teval-auc:0.896488\teval-f1_score_thr0.2:0.411664\teval-f1_score_thr0.3:0.403756\teval-f1_score_thr0.4:0.391481\teval-f1_score_thr0.5:0.374194\teval-f1_score_thr0.6:0.352941\teval-f1_score_thr0.7:0.343602\n"
     ]
    },
    {
     "name": "stderr",
     "output_type": "stream",
     "text": [
      "/home/ec2-user/anaconda3/envs/python3/lib/python3.6/site-packages/sklearn/metrics/classification.py:1135: UndefinedMetricWarning: F-score is ill-defined and being set to 0.0 due to no predicted samples.\n",
      "  'precision', 'predicted', average, warn_for)\n"
     ]
    },
    {
     "name": "stdout",
     "output_type": "stream",
     "text": [
      "threshold 0.26\n",
      "max f1_score 0.4131028207461328\n",
      "eta 0.3\n",
      "max_depth 10\n",
      "num_round 119\n",
      "------------------------------\n",
      "[21:17:09] /workspace/src/tree/updater_prune.cc:74: tree pruning end, 1 roots, 148 extra nodes, 0 pruned nodes, max_depth=10\n",
      "[0]\teval-auc:0.896598\teval-f1_score_thr0.2:0.409639\teval-f1_score_thr0.3:0.404116\teval-f1_score_thr0.4:0.390293\teval-f1_score_thr0.5:0.37149\teval-f1_score_thr0.6:0.352542\teval-f1_score_thr0.7:0.344746\n",
      "[21:17:10] /workspace/src/tree/updater_prune.cc:74: tree pruning end, 1 roots, 62 extra nodes, 0 pruned nodes, max_depth=10\n",
      "[1]\teval-auc:0.896773\teval-f1_score_thr0.2:0.409639\teval-f1_score_thr0.3:0.401501\teval-f1_score_thr0.4:0.392315\teval-f1_score_thr0.5:0.37149\teval-f1_score_thr0.6:0.352144\teval-f1_score_thr0.7:0.344746\n"
     ]
    },
    {
     "name": "stderr",
     "output_type": "stream",
     "text": [
      "/home/ec2-user/anaconda3/envs/python3/lib/python3.6/site-packages/sklearn/metrics/classification.py:1135: UndefinedMetricWarning: F-score is ill-defined and being set to 0.0 due to no predicted samples.\n",
      "  'precision', 'predicted', average, warn_for)\n"
     ]
    },
    {
     "name": "stdout",
     "output_type": "stream",
     "text": [
      "threshold 0.23\n",
      "max f1_score 0.4115586690017513\n",
      "eta 0.3\n",
      "max_depth 10\n",
      "num_round 121\n",
      "------------------------------\n",
      "[21:17:14] /workspace/src/tree/updater_prune.cc:74: tree pruning end, 1 roots, 58 extra nodes, 0 pruned nodes, max_depth=10\n",
      "[0]\teval-auc:0.896738\teval-f1_score_thr0.2:0.409639\teval-f1_score_thr0.3:0.403756\teval-f1_score_thr0.4:0.388664\teval-f1_score_thr0.5:0.36973\teval-f1_score_thr0.6:0.352941\teval-f1_score_thr0.7:0.344746\n",
      "[21:17:15] /workspace/src/tree/updater_prune.cc:74: tree pruning end, 1 roots, 166 extra nodes, 0 pruned nodes, max_depth=10\n",
      "[1]\teval-auc:0.896655\teval-f1_score_thr0.2:0.414089\teval-f1_score_thr0.3:0.398866\teval-f1_score_thr0.4:0.386249\teval-f1_score_thr0.5:0.373247\teval-f1_score_thr0.6:0.352941\teval-f1_score_thr0.7:0.341578\n"
     ]
    },
    {
     "name": "stderr",
     "output_type": "stream",
     "text": [
      "/home/ec2-user/anaconda3/envs/python3/lib/python3.6/site-packages/sklearn/metrics/classification.py:1135: UndefinedMetricWarning: F-score is ill-defined and being set to 0.0 due to no predicted samples.\n",
      "  'precision', 'predicted', average, warn_for)\n"
     ]
    },
    {
     "name": "stdout",
     "output_type": "stream",
     "text": [
      "threshold 0.2\n",
      "max f1_score 0.4140893470790378\n",
      "eta 0.3\n",
      "max_depth 10\n",
      "num_round 123\n",
      "------------------------------\n",
      "[21:17:19] /workspace/src/tree/updater_prune.cc:74: tree pruning end, 1 roots, 134 extra nodes, 0 pruned nodes, max_depth=10\n",
      "[0]\teval-auc:0.896846\teval-f1_score_thr0.2:0.412371\teval-f1_score_thr0.3:0.403027\teval-f1_score_thr0.4:0.388664\teval-f1_score_thr0.5:0.372043\teval-f1_score_thr0.6:0.351076\teval-f1_score_thr0.7:0.340024\n",
      "[21:17:20] /workspace/src/tree/updater_prune.cc:74: tree pruning end, 1 roots, 100 extra nodes, 0 pruned nodes, max_depth=10\n",
      "[1]\teval-auc:0.896822\teval-f1_score_thr0.2:0.409639\teval-f1_score_thr0.3:0.403409\teval-f1_score_thr0.4:0.384537\teval-f1_score_thr0.5:0.370291\teval-f1_score_thr0.6:0.349603\teval-f1_score_thr0.7:0.340426\n"
     ]
    },
    {
     "name": "stderr",
     "output_type": "stream",
     "text": [
      "/home/ec2-user/anaconda3/envs/python3/lib/python3.6/site-packages/sklearn/metrics/classification.py:1135: UndefinedMetricWarning: F-score is ill-defined and being set to 0.0 due to no predicted samples.\n",
      "  'precision', 'predicted', average, warn_for)\n"
     ]
    },
    {
     "name": "stdout",
     "output_type": "stream",
     "text": [
      "threshold 0.1\n",
      "max f1_score 0.4135849056603773\n",
      "eta 0.3\n",
      "max_depth 10\n",
      "num_round 125\n",
      "------------------------------\n",
      "[21:17:25] /workspace/src/tree/updater_prune.cc:74: tree pruning end, 1 roots, 180 extra nodes, 0 pruned nodes, max_depth=10\n",
      "[0]\teval-auc:0.896914\teval-f1_score_thr0.2:0.411006\teval-f1_score_thr0.3:0.401135\teval-f1_score_thr0.4:0.385005\teval-f1_score_thr0.5:0.370291\teval-f1_score_thr0.6:0.348811\teval-f1_score_thr0.7:0.341981\n",
      "[21:17:26] /workspace/src/tree/updater_prune.cc:74: tree pruning end, 1 roots, 128 extra nodes, 0 pruned nodes, max_depth=10\n",
      "[1]\teval-auc:0.897371\teval-f1_score_thr0.2:0.411006\teval-f1_score_thr0.3:0.402659\teval-f1_score_thr0.4:0.389899\teval-f1_score_thr0.5:0.367171\teval-f1_score_thr0.6:0.35\teval-f1_score_thr0.7:0.345154\n"
     ]
    },
    {
     "name": "stderr",
     "output_type": "stream",
     "text": [
      "/home/ec2-user/anaconda3/envs/python3/lib/python3.6/site-packages/sklearn/metrics/classification.py:1135: UndefinedMetricWarning: F-score is ill-defined and being set to 0.0 due to no predicted samples.\n",
      "  'precision', 'predicted', average, warn_for)\n"
     ]
    },
    {
     "name": "stdout",
     "output_type": "stream",
     "text": [
      "threshold 0.11\n",
      "max f1_score 0.41442824251726784\n",
      "eta 0.3\n",
      "max_depth 10\n",
      "num_round 127\n",
      "------------------------------\n",
      "[21:17:30] /workspace/src/tree/updater_prune.cc:74: tree pruning end, 1 roots, 90 extra nodes, 0 pruned nodes, max_depth=10\n",
      "[0]\teval-auc:0.897197\teval-f1_score_thr0.2:0.406897\teval-f1_score_thr0.3:0.399619\teval-f1_score_thr0.4:0.389848\teval-f1_score_thr0.5:0.365217\teval-f1_score_thr0.6:0.35\teval-f1_score_thr0.7:0.345154\n",
      "[21:17:31] /workspace/src/tree/updater_prune.cc:74: tree pruning end, 1 roots, 134 extra nodes, 0 pruned nodes, max_depth=10\n",
      "[1]\teval-auc:0.897328\teval-f1_score_thr0.2:0.409326\teval-f1_score_thr0.3:0.404943\teval-f1_score_thr0.4:0.389002\teval-f1_score_thr0.5:0.367568\teval-f1_score_thr0.6:0.352941\teval-f1_score_thr0.7:0.340828\n"
     ]
    },
    {
     "name": "stderr",
     "output_type": "stream",
     "text": [
      "/home/ec2-user/anaconda3/envs/python3/lib/python3.6/site-packages/sklearn/metrics/classification.py:1135: UndefinedMetricWarning: F-score is ill-defined and being set to 0.0 due to no predicted samples.\n",
      "  'precision', 'predicted', average, warn_for)\n"
     ]
    },
    {
     "name": "stdout",
     "output_type": "stream",
     "text": [
      "threshold 0.1\n",
      "max f1_score 0.4143183549124143\n",
      "eta 0.3\n",
      "max_depth 10\n",
      "num_round 129\n",
      "------------------------------\n",
      "[21:17:35] /workspace/src/tree/updater_prune.cc:74: tree pruning end, 1 roots, 80 extra nodes, 0 pruned nodes, max_depth=10\n",
      "[0]\teval-auc:0.897331\teval-f1_score_thr0.2:0.406897\teval-f1_score_thr0.3:0.409914\teval-f1_score_thr0.4:0.390641\teval-f1_score_thr0.5:0.37109\teval-f1_score_thr0.6:0.353341\teval-f1_score_thr0.7:0.34279\n",
      "[21:17:36] /workspace/src/tree/updater_prune.cc:74: tree pruning end, 1 roots, 126 extra nodes, 0 pruned nodes, max_depth=10\n",
      "[1]\teval-auc:0.897325\teval-f1_score_thr0.2:0.404823\teval-f1_score_thr0.3:0.410646\teval-f1_score_thr0.4:0.390244\teval-f1_score_thr0.5:0.367965\teval-f1_score_thr0.6:0.353341\teval-f1_score_thr0.7:0.342385\n"
     ]
    },
    {
     "name": "stderr",
     "output_type": "stream",
     "text": [
      "/home/ec2-user/anaconda3/envs/python3/lib/python3.6/site-packages/sklearn/metrics/classification.py:1135: UndefinedMetricWarning: F-score is ill-defined and being set to 0.0 due to no predicted samples.\n",
      "  'precision', 'predicted', average, warn_for)\n"
     ]
    },
    {
     "name": "stdout",
     "output_type": "stream",
     "text": [
      "threshold 0.14\n",
      "max f1_score 0.4131832797427652\n",
      "eta 0.3\n",
      "max_depth 10\n",
      "num_round 131\n",
      "------------------------------\n",
      "[21:17:41] /workspace/src/tree/updater_prune.cc:74: tree pruning end, 1 roots, 62 extra nodes, 0 pruned nodes, max_depth=10\n",
      "[0]\teval-auc:0.897501\teval-f1_score_thr0.2:0.404475\teval-f1_score_thr0.3:0.408357\teval-f1_score_thr0.4:0.391481\teval-f1_score_thr0.5:0.369565\teval-f1_score_thr0.6:0.348811\teval-f1_score_thr0.7:0.338462\n",
      "[21:17:42] /workspace/src/tree/updater_prune.cc:74: tree pruning end, 1 roots, 100 extra nodes, 0 pruned nodes, max_depth=10\n",
      "[1]\teval-auc:0.897404\teval-f1_score_thr0.2:0.404823\teval-f1_score_thr0.3:0.406458\teval-f1_score_thr0.4:0.386572\teval-f1_score_thr0.5:0.369565\teval-f1_score_thr0.6:0.350282\teval-f1_score_thr0.7:0.338061\n"
     ]
    },
    {
     "name": "stderr",
     "output_type": "stream",
     "text": [
      "/home/ec2-user/anaconda3/envs/python3/lib/python3.6/site-packages/sklearn/metrics/classification.py:1135: UndefinedMetricWarning: F-score is ill-defined and being set to 0.0 due to no predicted samples.\n",
      "  'precision', 'predicted', average, warn_for)\n"
     ]
    },
    {
     "name": "stdout",
     "output_type": "stream",
     "text": [
      "threshold 0.14\n",
      "max f1_score 0.4151857835218093\n",
      "eta 0.3\n",
      "max_depth 10\n",
      "num_round 133\n",
      "------------------------------\n",
      "[21:17:46] /workspace/src/tree/updater_prune.cc:74: tree pruning end, 1 roots, 48 extra nodes, 0 pruned nodes, max_depth=10\n",
      "[0]\teval-auc:0.89736\teval-f1_score_thr0.2:0.403448\teval-f1_score_thr0.3:0.406844\teval-f1_score_thr0.4:0.387755\teval-f1_score_thr0.5:0.369164\teval-f1_score_thr0.6:0.352144\teval-f1_score_thr0.7:0.338061\n",
      "[21:17:47] /workspace/src/tree/updater_prune.cc:74: tree pruning end, 1 roots, 98 extra nodes, 0 pruned nodes, max_depth=10\n",
      "[1]\teval-auc:0.897261\teval-f1_score_thr0.2:0.403796\teval-f1_score_thr0.3:0.406072\teval-f1_score_thr0.4:0.385714\teval-f1_score_thr0.5:0.369164\teval-f1_score_thr0.6:0.350679\teval-f1_score_thr0.7:0.339667\n"
     ]
    },
    {
     "name": "stderr",
     "output_type": "stream",
     "text": [
      "/home/ec2-user/anaconda3/envs/python3/lib/python3.6/site-packages/sklearn/metrics/classification.py:1135: UndefinedMetricWarning: F-score is ill-defined and being set to 0.0 due to no predicted samples.\n",
      "  'precision', 'predicted', average, warn_for)\n"
     ]
    },
    {
     "name": "stdout",
     "output_type": "stream",
     "text": [
      "threshold 0.14\n",
      "max f1_score 0.41390460792239286\n",
      "eta 0.3\n",
      "max_depth 10\n",
      "num_round 135\n",
      "------------------------------\n",
      "[21:17:51] /workspace/src/tree/updater_prune.cc:74: tree pruning end, 1 roots, 156 extra nodes, 0 pruned nodes, max_depth=10\n",
      "[0]\teval-auc:0.897526\teval-f1_score_thr0.2:0.405522\teval-f1_score_thr0.3:0.404194\teval-f1_score_thr0.4:0.382413\teval-f1_score_thr0.5:0.372294\teval-f1_score_thr0.6:0.354143\teval-f1_score_thr0.7:0.344418\n",
      "[21:17:52] /workspace/src/tree/updater_prune.cc:74: tree pruning end, 1 roots, 94 extra nodes, 0 pruned nodes, max_depth=10\n",
      "[1]\teval-auc:0.897664\teval-f1_score_thr0.2:0.406574\teval-f1_score_thr0.3:0.406101\teval-f1_score_thr0.4:0.385246\teval-f1_score_thr0.5:0.371892\teval-f1_score_thr0.6:0.356413\teval-f1_score_thr0.7:0.346793\n"
     ]
    },
    {
     "name": "stderr",
     "output_type": "stream",
     "text": [
      "/home/ec2-user/anaconda3/envs/python3/lib/python3.6/site-packages/sklearn/metrics/classification.py:1135: UndefinedMetricWarning: F-score is ill-defined and being set to 0.0 due to no predicted samples.\n",
      "  'precision', 'predicted', average, warn_for)\n"
     ]
    },
    {
     "name": "stdout",
     "output_type": "stream",
     "text": [
      "threshold 0.12\n",
      "max f1_score 0.415153906866614\n",
      "eta 0.3\n",
      "max_depth 10\n",
      "num_round 137\n",
      "------------------------------\n",
      "[21:17:57] /workspace/src/tree/updater_prune.cc:74: tree pruning end, 1 roots, 122 extra nodes, 0 pruned nodes, max_depth=10\n",
      "[0]\teval-auc:0.897812\teval-f1_score_thr0.2:0.405522\teval-f1_score_thr0.3:0.402277\teval-f1_score_thr0.4:0.386899\teval-f1_score_thr0.5:0.37013\teval-f1_score_thr0.6:0.356009\teval-f1_score_thr0.7:0.340476\n",
      "[21:17:58] /workspace/src/tree/updater_prune.cc:74: tree pruning end, 1 roots, 118 extra nodes, 0 pruned nodes, max_depth=10\n",
      "[1]\teval-auc:0.898149\teval-f1_score_thr0.2:0.404494\teval-f1_score_thr0.3:0.402277\teval-f1_score_thr0.4:0.386434\teval-f1_score_thr0.5:0.370531\teval-f1_score_thr0.6:0.353075\teval-f1_score_thr0.7:0.342043\n"
     ]
    },
    {
     "name": "stderr",
     "output_type": "stream",
     "text": [
      "/home/ec2-user/anaconda3/envs/python3/lib/python3.6/site-packages/sklearn/metrics/classification.py:1135: UndefinedMetricWarning: F-score is ill-defined and being set to 0.0 due to no predicted samples.\n",
      "  'precision', 'predicted', average, warn_for)\n"
     ]
    },
    {
     "name": "stdout",
     "output_type": "stream",
     "text": [
      "threshold 0.13\n",
      "max f1_score 0.4153354632587859\n",
      "eta 0.3\n",
      "max_depth 10\n",
      "num_round 139\n",
      "------------------------------\n",
      "[21:18:02] /workspace/src/tree/updater_prune.cc:74: tree pruning end, 1 roots, 198 extra nodes, 0 pruned nodes, max_depth=10\n",
      "[0]\teval-auc:0.898181\teval-f1_score_thr0.2:0.406926\teval-f1_score_thr0.3:0.407619\teval-f1_score_thr0.4:0.385246\teval-f1_score_thr0.5:0.37109\teval-f1_score_thr0.6:0.355353\teval-f1_score_thr0.7:0.344418\n",
      "[21:18:03] /workspace/src/tree/updater_prune.cc:74: tree pruning end, 1 roots, 204 extra nodes, 0 pruned nodes, max_depth=10\n",
      "[1]\teval-auc:0.8984\teval-f1_score_thr0.2:0.408658\teval-f1_score_thr0.3:0.397716\teval-f1_score_thr0.4:0.384852\teval-f1_score_thr0.5:0.36973\teval-f1_score_thr0.6:0.355606\teval-f1_score_thr0.7:0.347929\n"
     ]
    },
    {
     "name": "stderr",
     "output_type": "stream",
     "text": [
      "/home/ec2-user/anaconda3/envs/python3/lib/python3.6/site-packages/sklearn/metrics/classification.py:1135: UndefinedMetricWarning: F-score is ill-defined and being set to 0.0 due to no predicted samples.\n",
      "  'precision', 'predicted', average, warn_for)\n"
     ]
    },
    {
     "name": "stdout",
     "output_type": "stream",
     "text": [
      "threshold 0.13\n",
      "max f1_score 0.4160642570281125\n",
      "eta 0.3\n",
      "max_depth 10\n",
      "num_round 141\n",
      "------------------------------\n",
      "[21:18:07] /workspace/src/tree/updater_prune.cc:74: tree pruning end, 1 roots, 88 extra nodes, 0 pruned nodes, max_depth=10\n",
      "[0]\teval-auc:0.898404\teval-f1_score_thr0.2:0.407632\teval-f1_score_thr0.3:0.400763\teval-f1_score_thr0.4:0.38359\teval-f1_score_thr0.5:0.370531\teval-f1_score_thr0.6:0.353741\teval-f1_score_thr0.7:0.347929\n",
      "[21:18:08] /workspace/src/tree/updater_prune.cc:74: tree pruning end, 1 roots, 166 extra nodes, 0 pruned nodes, max_depth=10\n",
      "[1]\teval-auc:0.898112\teval-f1_score_thr0.2:0.411101\teval-f1_score_thr0.3:0.401141\teval-f1_score_thr0.4:0.381538\teval-f1_score_thr0.5:0.37149\teval-f1_score_thr0.6:0.352273\teval-f1_score_thr0.7:0.347929\n"
     ]
    },
    {
     "name": "stderr",
     "output_type": "stream",
     "text": [
      "/home/ec2-user/anaconda3/envs/python3/lib/python3.6/site-packages/sklearn/metrics/classification.py:1135: UndefinedMetricWarning: F-score is ill-defined and being set to 0.0 due to no predicted samples.\n",
      "  'precision', 'predicted', average, warn_for)\n"
     ]
    },
    {
     "name": "stdout",
     "output_type": "stream",
     "text": [
      "threshold 0.14\n",
      "max f1_score 0.4157119476268412\n",
      "eta 0.3\n",
      "max_depth 10\n",
      "num_round 143\n",
      "------------------------------\n",
      "[21:18:13] /workspace/src/tree/updater_prune.cc:74: tree pruning end, 1 roots, 136 extra nodes, 0 pruned nodes, max_depth=10\n",
      "[0]\teval-auc:0.897914\teval-f1_score_thr0.2:0.408734\teval-f1_score_thr0.3:0.398855\teval-f1_score_thr0.4:0.385567\teval-f1_score_thr0.5:0.375405\teval-f1_score_thr0.6:0.350797\teval-f1_score_thr0.7:0.347107\n",
      "[21:18:14] /workspace/src/tree/updater_prune.cc:74: tree pruning end, 1 roots, 144 extra nodes, 0 pruned nodes, max_depth=10\n",
      "[1]\teval-auc:0.897871\teval-f1_score_thr0.2:0.406987\teval-f1_score_thr0.3:0.399618\teval-f1_score_thr0.4:0.386434\teval-f1_score_thr0.5:0.37581\teval-f1_score_thr0.6:0.352273\teval-f1_score_thr0.7:0.347518\n"
     ]
    },
    {
     "name": "stderr",
     "output_type": "stream",
     "text": [
      "/home/ec2-user/anaconda3/envs/python3/lib/python3.6/site-packages/sklearn/metrics/classification.py:1135: UndefinedMetricWarning: F-score is ill-defined and being set to 0.0 due to no predicted samples.\n",
      "  'precision', 'predicted', average, warn_for)\n"
     ]
    },
    {
     "name": "stdout",
     "output_type": "stream",
     "text": [
      "threshold 0.13\n",
      "max f1_score 0.41781376518218627\n",
      "eta 0.3\n",
      "max_depth 10\n",
      "num_round 145\n",
      "------------------------------\n",
      "[21:18:18] /workspace/src/tree/updater_prune.cc:74: tree pruning end, 1 roots, 140 extra nodes, 0 pruned nodes, max_depth=10\n",
      "[0]\teval-auc:0.897951\teval-f1_score_thr0.2:0.407343\teval-f1_score_thr0.3:0.402672\teval-f1_score_thr0.4:0.386831\teval-f1_score_thr0.5:0.370531\teval-f1_score_thr0.6:0.349603\teval-f1_score_thr0.7:0.347929\n",
      "[21:18:19] /workspace/src/tree/updater_prune.cc:74: tree pruning end, 1 roots, 176 extra nodes, 0 pruned nodes, max_depth=10\n",
      "[1]\teval-auc:0.898013\teval-f1_score_thr0.2:0.407375\teval-f1_score_thr0.3:0.405742\teval-f1_score_thr0.4:0.38723\teval-f1_score_thr0.5:0.370933\teval-f1_score_thr0.6:0.349206\teval-f1_score_thr0.7:0.347518\n"
     ]
    },
    {
     "name": "stderr",
     "output_type": "stream",
     "text": [
      "/home/ec2-user/anaconda3/envs/python3/lib/python3.6/site-packages/sklearn/metrics/classification.py:1135: UndefinedMetricWarning: F-score is ill-defined and being set to 0.0 due to no predicted samples.\n",
      "  'precision', 'predicted', average, warn_for)\n"
     ]
    },
    {
     "name": "stdout",
     "output_type": "stream",
     "text": [
      "threshold 0.1\n",
      "max f1_score 0.41576506955177744\n",
      "eta 0.3\n",
      "max_depth 10\n",
      "num_round 147\n",
      "------------------------------\n",
      "[21:18:23] /workspace/src/tree/updater_prune.cc:74: tree pruning end, 1 roots, 114 extra nodes, 0 pruned nodes, max_depth=10\n",
      "[0]\teval-auc:0.8979\teval-f1_score_thr0.2:0.407018\teval-f1_score_thr0.3:0.403442\teval-f1_score_thr0.4:0.387692\teval-f1_score_thr0.5:0.374865\teval-f1_score_thr0.6:0.351474\teval-f1_score_thr0.7:0.342043\n",
      "[21:18:24] /workspace/src/tree/updater_prune.cc:74: tree pruning end, 1 roots, 68 extra nodes, 0 pruned nodes, max_depth=10\n",
      "[1]\teval-auc:0.898021\teval-f1_score_thr0.2:0.406332\teval-f1_score_thr0.3:0.402685\teval-f1_score_thr0.4:0.387692\teval-f1_score_thr0.5:0.373913\teval-f1_score_thr0.6:0.349206\teval-f1_score_thr0.7:0.342043\n"
     ]
    },
    {
     "name": "stderr",
     "output_type": "stream",
     "text": [
      "/home/ec2-user/anaconda3/envs/python3/lib/python3.6/site-packages/sklearn/metrics/classification.py:1135: UndefinedMetricWarning: F-score is ill-defined and being set to 0.0 due to no predicted samples.\n",
      "  'precision', 'predicted', average, warn_for)\n"
     ]
    },
    {
     "name": "stdout",
     "output_type": "stream",
     "text": [
      "threshold 0.09\n",
      "max f1_score 0.4127465857359636\n",
      "eta 0.3\n",
      "max_depth 10\n",
      "num_round 149\n",
      "------------------------------\n",
      "[21:18:29] /workspace/src/tree/updater_prune.cc:74: tree pruning end, 1 roots, 128 extra nodes, 0 pruned nodes, max_depth=10\n",
      "[0]\teval-auc:0.898117\teval-f1_score_thr0.2:0.404573\teval-f1_score_thr0.3:0.400767\teval-f1_score_thr0.4:0.388946\teval-f1_score_thr0.5:0.374459\teval-f1_score_thr0.6:0.346939\teval-f1_score_thr0.7:0.341637\n",
      "[21:18:30] /workspace/src/tree/updater_prune.cc:74: tree pruning end, 1 roots, 34 extra nodes, 0 pruned nodes, max_depth=10\n",
      "[1]\teval-auc:0.898119\teval-f1_score_thr0.2:0.404237\teval-f1_score_thr0.3:0.401914\teval-f1_score_thr0.4:0.389344\teval-f1_score_thr0.5:0.374459\teval-f1_score_thr0.6:0.347333\teval-f1_score_thr0.7:0.341637\n"
     ]
    },
    {
     "name": "stderr",
     "output_type": "stream",
     "text": [
      "/home/ec2-user/anaconda3/envs/python3/lib/python3.6/site-packages/sklearn/metrics/classification.py:1135: UndefinedMetricWarning: F-score is ill-defined and being set to 0.0 due to no predicted samples.\n",
      "  'precision', 'predicted', average, warn_for)\n"
     ]
    },
    {
     "name": "stdout",
     "output_type": "stream",
     "text": [
      "threshold 0.12\n",
      "max f1_score 0.41412520064205455\n",
      "eta 0.3\n",
      "max_depth 10\n",
      "num_round 151\n",
      "------------------------------\n",
      "[21:18:34] /workspace/src/tree/updater_prune.cc:74: tree pruning end, 1 roots, 130 extra nodes, 0 pruned nodes, max_depth=10\n",
      "[0]\teval-auc:0.898046\teval-f1_score_thr0.2:0.407407\teval-f1_score_thr0.3:0.401152\teval-f1_score_thr0.4:0.386434\teval-f1_score_thr0.5:0.371336\teval-f1_score_thr0.6:0.350398\teval-f1_score_thr0.7:0.341637\n",
      "[21:18:35] /workspace/src/tree/updater_prune.cc:74: tree pruning end, 1 roots, 130 extra nodes, 0 pruned nodes, max_depth=10\n",
      "[1]\teval-auc:0.898055\teval-f1_score_thr0.2:0.40672\teval-f1_score_thr0.3:0.404215\teval-f1_score_thr0.4:0.38723\teval-f1_score_thr0.5:0.369967\teval-f1_score_thr0.6:0.353741\teval-f1_score_thr0.7:0.344418\n"
     ]
    },
    {
     "name": "stderr",
     "output_type": "stream",
     "text": [
      "/home/ec2-user/anaconda3/envs/python3/lib/python3.6/site-packages/sklearn/metrics/classification.py:1135: UndefinedMetricWarning: F-score is ill-defined and being set to 0.0 due to no predicted samples.\n",
      "  'precision', 'predicted', average, warn_for)\n"
     ]
    },
    {
     "name": "stdout",
     "output_type": "stream",
     "text": [
      "threshold 0.14\n",
      "max f1_score 0.4132780082987552\n",
      "eta 0.3\n",
      "max_depth 10\n",
      "num_round 153\n",
      "------------------------------\n",
      "[21:18:39] /workspace/src/tree/updater_prune.cc:74: tree pruning end, 1 roots, 106 extra nodes, 0 pruned nodes, max_depth=10\n",
      "[0]\teval-auc:0.897938\teval-f1_score_thr0.2:0.406389\teval-f1_score_thr0.3:0.401152\teval-f1_score_thr0.4:0.386037\teval-f1_score_thr0.5:0.369967\teval-f1_score_thr0.6:0.354143\teval-f1_score_thr0.7:0.343266\n",
      "[21:18:41] /workspace/src/tree/updater_prune.cc:74: tree pruning end, 1 roots, 142 extra nodes, 0 pruned nodes, max_depth=10\n",
      "[1]\teval-auc:0.897905\teval-f1_score_thr0.2:0.407801\teval-f1_score_thr0.3:0.400767\teval-f1_score_thr0.4:0.387295\teval-f1_score_thr0.5:0.363043\teval-f1_score_thr0.6:0.354545\teval-f1_score_thr0.7:0.344828\n"
     ]
    },
    {
     "name": "stderr",
     "output_type": "stream",
     "text": [
      "/home/ec2-user/anaconda3/envs/python3/lib/python3.6/site-packages/sklearn/metrics/classification.py:1135: UndefinedMetricWarning: F-score is ill-defined and being set to 0.0 due to no predicted samples.\n",
      "  'precision', 'predicted', average, warn_for)\n"
     ]
    },
    {
     "name": "stdout",
     "output_type": "stream",
     "text": [
      "threshold 0.14\n",
      "max f1_score 0.41487603305785126\n",
      "eta 0.3\n",
      "max_depth 10\n",
      "num_round 155\n",
      "------------------------------\n",
      "[21:18:45] /workspace/src/tree/updater_prune.cc:74: tree pruning end, 1 roots, 64 extra nodes, 0 pruned nodes, max_depth=10\n",
      "[0]\teval-auc:0.897832\teval-f1_score_thr0.2:0.405669\teval-f1_score_thr0.3:0.401537\teval-f1_score_thr0.4:0.386434\teval-f1_score_thr0.5:0.363439\teval-f1_score_thr0.6:0.354143\teval-f1_score_thr0.7:0.343675\n",
      "[21:18:46] /workspace/src/tree/updater_prune.cc:74: tree pruning end, 1 roots, 78 extra nodes, 0 pruned nodes, max_depth=10\n",
      "[1]\teval-auc:0.89786\teval-f1_score_thr0.2:0.40744\teval-f1_score_thr0.3:0.401537\teval-f1_score_thr0.4:0.388889\teval-f1_score_thr0.5:0.365217\teval-f1_score_thr0.6:0.354143\teval-f1_score_thr0.7:0.344086\n"
     ]
    },
    {
     "name": "stderr",
     "output_type": "stream",
     "text": [
      "/home/ec2-user/anaconda3/envs/python3/lib/python3.6/site-packages/sklearn/metrics/classification.py:1135: UndefinedMetricWarning: F-score is ill-defined and being set to 0.0 due to no predicted samples.\n",
      "  'precision', 'predicted', average, warn_for)\n"
     ]
    },
    {
     "name": "stdout",
     "output_type": "stream",
     "text": [
      "threshold 0.14\n",
      "max f1_score 0.41487603305785126\n",
      "eta 0.3\n",
      "max_depth 10\n",
      "num_round 157\n",
      "------------------------------\n",
      "[21:18:50] /workspace/src/tree/updater_prune.cc:74: tree pruning end, 1 roots, 82 extra nodes, 0 pruned nodes, max_depth=10\n",
      "[0]\teval-auc:0.897796\teval-f1_score_thr0.2:0.40744\teval-f1_score_thr0.3:0.400385\teval-f1_score_thr0.4:0.389691\teval-f1_score_thr0.5:0.361656\teval-f1_score_thr0.6:0.35\teval-f1_score_thr0.7:0.34565\n",
      "[21:18:51] /workspace/src/tree/updater_prune.cc:74: tree pruning end, 1 roots, 108 extra nodes, 0 pruned nodes, max_depth=10\n",
      "[1]\teval-auc:0.897931\teval-f1_score_thr0.2:0.40675\teval-f1_score_thr0.3:0.39846\teval-f1_score_thr0.4:0.392197\teval-f1_score_thr0.5:0.364821\teval-f1_score_thr0.6:0.349206\teval-f1_score_thr0.7:0.34565\n"
     ]
    },
    {
     "name": "stderr",
     "output_type": "stream",
     "text": [
      "/home/ec2-user/anaconda3/envs/python3/lib/python3.6/site-packages/sklearn/metrics/classification.py:1135: UndefinedMetricWarning: F-score is ill-defined and being set to 0.0 due to no predicted samples.\n",
      "  'precision', 'predicted', average, warn_for)\n"
     ]
    },
    {
     "name": "stdout",
     "output_type": "stream",
     "text": [
      "threshold 0.12\n",
      "max f1_score 0.4165988608624899\n",
      "eta 0.3\n",
      "max_depth 10\n",
      "num_round 159\n",
      "------------------------------\n",
      "[21:18:56] /workspace/src/tree/updater_prune.cc:74: tree pruning end, 1 roots, 126 extra nodes, 0 pruned nodes, max_depth=10\n",
      "[0]\teval-auc:0.897972\teval-f1_score_thr0.2:0.40744\teval-f1_score_thr0.3:0.397683\teval-f1_score_thr0.4:0.384774\teval-f1_score_thr0.5:0.368364\teval-f1_score_thr0.6:0.35\teval-f1_score_thr0.7:0.344086\n",
      "[21:18:57] /workspace/src/tree/updater_prune.cc:74: tree pruning end, 1 roots, 136 extra nodes, 0 pruned nodes, max_depth=10\n",
      "[1]\teval-auc:0.897793\teval-f1_score_thr0.2:0.405333\teval-f1_score_thr0.3:0.402321\teval-f1_score_thr0.4:0.383901\teval-f1_score_thr0.5:0.367391\teval-f1_score_thr0.6:0.352941\teval-f1_score_thr0.7:0.340882\n"
     ]
    },
    {
     "name": "stderr",
     "output_type": "stream",
     "text": [
      "/home/ec2-user/anaconda3/envs/python3/lib/python3.6/site-packages/sklearn/metrics/classification.py:1135: UndefinedMetricWarning: F-score is ill-defined and being set to 0.0 due to no predicted samples.\n",
      "  'precision', 'predicted', average, warn_for)\n"
     ]
    },
    {
     "name": "stdout",
     "output_type": "stream",
     "text": [
      "threshold 0.13\n",
      "max f1_score 0.41481481481481486\n",
      "eta 0.3\n",
      "max_depth 10\n",
      "num_round 161\n",
      "------------------------------\n",
      "[21:19:01] /workspace/src/tree/updater_prune.cc:74: tree pruning end, 1 roots, 146 extra nodes, 0 pruned nodes, max_depth=10\n",
      "[0]\teval-auc:0.897868\teval-f1_score_thr0.2:0.40675\teval-f1_score_thr0.3:0.401544\teval-f1_score_thr0.4:0.387629\teval-f1_score_thr0.5:0.366594\teval-f1_score_thr0.6:0.354143\teval-f1_score_thr0.7:0.340882\n",
      "[21:19:02] /workspace/src/tree/updater_prune.cc:74: tree pruning end, 1 roots, 48 extra nodes, 0 pruned nodes, max_depth=10\n",
      "[1]\teval-auc:0.897696\teval-f1_score_thr0.2:0.407473\teval-f1_score_thr0.3:0.401544\teval-f1_score_thr0.4:0.387629\teval-f1_score_thr0.5:0.367391\teval-f1_score_thr0.6:0.355606\teval-f1_score_thr0.7:0.340882\n"
     ]
    },
    {
     "name": "stderr",
     "output_type": "stream",
     "text": [
      "/home/ec2-user/anaconda3/envs/python3/lib/python3.6/site-packages/sklearn/metrics/classification.py:1135: UndefinedMetricWarning: F-score is ill-defined and being set to 0.0 due to no predicted samples.\n",
      "  'precision', 'predicted', average, warn_for)\n"
     ]
    },
    {
     "name": "stdout",
     "output_type": "stream",
     "text": [
      "threshold 0.12\n",
      "max f1_score 0.41564792176039117\n",
      "eta 0.3\n",
      "max_depth 10\n",
      "num_round 163\n",
      "------------------------------\n",
      "[21:19:07] /workspace/src/tree/updater_prune.cc:74: tree pruning end, 1 roots, 42 extra nodes, 0 pruned nodes, max_depth=10\n",
      "[0]\teval-auc:0.897588\teval-f1_score_thr0.2:0.407111\teval-f1_score_thr0.3:0.400387\teval-f1_score_thr0.4:0.384298\teval-f1_score_thr0.5:0.366594\teval-f1_score_thr0.6:0.354143\teval-f1_score_thr0.7:0.340882\n",
      "[21:19:08] /workspace/src/tree/updater_prune.cc:74: tree pruning end, 1 roots, 128 extra nodes, 0 pruned nodes, max_depth=10\n",
      "[1]\teval-auc:0.897547\teval-f1_score_thr0.2:0.408163\teval-f1_score_thr0.3:0.4\teval-f1_score_thr0.4:0.38517\teval-f1_score_thr0.5:0.367391\teval-f1_score_thr0.6:0.354545\teval-f1_score_thr0.7:0.34012\n"
     ]
    },
    {
     "name": "stderr",
     "output_type": "stream",
     "text": [
      "/home/ec2-user/anaconda3/envs/python3/lib/python3.6/site-packages/sklearn/metrics/classification.py:1135: UndefinedMetricWarning: F-score is ill-defined and being set to 0.0 due to no predicted samples.\n",
      "  'precision', 'predicted', average, warn_for)\n"
     ]
    },
    {
     "name": "stdout",
     "output_type": "stream",
     "text": [
      "threshold 0.13\n",
      "max f1_score 0.4154351395730706\n",
      "eta 0.3\n",
      "max_depth 10\n",
      "num_round 165\n",
      "------------------------------\n",
      "[21:19:12] /workspace/src/tree/updater_prune.cc:74: tree pruning end, 1 roots, 68 extra nodes, 0 pruned nodes, max_depth=10\n",
      "[0]\teval-auc:0.897638\teval-f1_score_thr0.2:0.40744\teval-f1_score_thr0.3:0.4\teval-f1_score_thr0.4:0.382716\teval-f1_score_thr0.5:0.368364\teval-f1_score_thr0.6:0.355606\teval-f1_score_thr0.7:0.342926\n",
      "[21:19:13] /workspace/src/tree/updater_prune.cc:74: tree pruning end, 1 roots, 52 extra nodes, 0 pruned nodes, max_depth=10\n",
      "[1]\teval-auc:0.897563\teval-f1_score_thr0.2:0.408163\teval-f1_score_thr0.3:0.399225\teval-f1_score_thr0.4:0.38311\teval-f1_score_thr0.5:0.366197\teval-f1_score_thr0.6:0.356009\teval-f1_score_thr0.7:0.342926\n"
     ]
    },
    {
     "name": "stderr",
     "output_type": "stream",
     "text": [
      "/home/ec2-user/anaconda3/envs/python3/lib/python3.6/site-packages/sklearn/metrics/classification.py:1135: UndefinedMetricWarning: F-score is ill-defined and being set to 0.0 due to no predicted samples.\n",
      "  'precision', 'predicted', average, warn_for)\n"
     ]
    },
    {
     "name": "stdout",
     "output_type": "stream",
     "text": [
      "threshold 0.12\n",
      "max f1_score 0.41530944625407157\n",
      "eta 0.3\n",
      "max_depth 10\n",
      "num_round 167\n",
      "------------------------------\n",
      "[21:19:17] /workspace/src/tree/updater_prune.cc:74: tree pruning end, 1 roots, 106 extra nodes, 0 pruned nodes, max_depth=10\n",
      "[0]\teval-auc:0.897381\teval-f1_score_thr0.2:0.4082\teval-f1_score_thr0.3:0.398453\teval-f1_score_thr0.4:0.38517\teval-f1_score_thr0.5:0.363439\teval-f1_score_thr0.6:0.356009\teval-f1_score_thr0.7:0.341697\n",
      "[21:19:19] /workspace/src/tree/updater_prune.cc:74: tree pruning end, 1 roots, 46 extra nodes, 0 pruned nodes, max_depth=10\n",
      "[1]\teval-auc:0.897338\teval-f1_score_thr0.2:0.405719\teval-f1_score_thr0.3:0.398453\teval-f1_score_thr0.4:0.385567\teval-f1_score_thr0.5:0.363834\teval-f1_score_thr0.6:0.355606\teval-f1_score_thr0.7:0.341697\n"
     ]
    },
    {
     "name": "stderr",
     "output_type": "stream",
     "text": [
      "/home/ec2-user/anaconda3/envs/python3/lib/python3.6/site-packages/sklearn/metrics/classification.py:1135: UndefinedMetricWarning: F-score is ill-defined and being set to 0.0 due to no predicted samples.\n",
      "  'precision', 'predicted', average, warn_for)\n"
     ]
    },
    {
     "name": "stdout",
     "output_type": "stream",
     "text": [
      "threshold 0.11\n",
      "max f1_score 0.4186795491143317\n",
      "eta 0.3\n",
      "max_depth 10\n",
      "num_round 169\n",
      "------------------------------\n",
      "[21:19:23] /workspace/src/tree/updater_prune.cc:74: tree pruning end, 1 roots, 78 extra nodes, 0 pruned nodes, max_depth=10\n",
      "[0]\teval-auc:0.897292\teval-f1_score_thr0.2:0.40678\teval-f1_score_thr0.3:0.397672\teval-f1_score_thr0.4:0.384378\teval-f1_score_thr0.5:0.366197\teval-f1_score_thr0.6:0.356009\teval-f1_score_thr0.7:0.339307\n",
      "[21:19:24] /workspace/src/tree/updater_prune.cc:74: tree pruning end, 1 roots, 34 extra nodes, 0 pruned nodes, max_depth=10\n",
      "[1]\teval-auc:0.89739\teval-f1_score_thr0.2:0.406417\teval-f1_score_thr0.3:0.396501\teval-f1_score_thr0.4:0.384378\teval-f1_score_thr0.5:0.364425\teval-f1_score_thr0.6:0.355606\teval-f1_score_thr0.7:0.339713\n"
     ]
    },
    {
     "name": "stderr",
     "output_type": "stream",
     "text": [
      "/home/ec2-user/anaconda3/envs/python3/lib/python3.6/site-packages/sklearn/metrics/classification.py:1135: UndefinedMetricWarning: F-score is ill-defined and being set to 0.0 due to no predicted samples.\n",
      "  'precision', 'predicted', average, warn_for)\n"
     ]
    },
    {
     "name": "stdout",
     "output_type": "stream",
     "text": [
      "threshold 0.14\n",
      "max f1_score 0.4181360201511335\n",
      "eta 0.3\n",
      "max_depth 10\n",
      "num_round 171\n",
      "------------------------------\n",
      "[21:19:28] /workspace/src/tree/updater_prune.cc:74: tree pruning end, 1 roots, 80 extra nodes, 0 pruned nodes, max_depth=10\n",
      "[0]\teval-auc:0.897166\teval-f1_score_thr0.2:0.4082\teval-f1_score_thr0.3:0.396887\teval-f1_score_thr0.4:0.381443\teval-f1_score_thr0.5:0.363043\teval-f1_score_thr0.6:0.355606\teval-f1_score_thr0.7:0.339307\n",
      "[21:19:29] /workspace/src/tree/updater_prune.cc:74: tree pruning end, 1 roots, 44 extra nodes, 0 pruned nodes, max_depth=10\n",
      "[1]\teval-auc:0.897282\teval-f1_score_thr0.2:0.4082\teval-f1_score_thr0.3:0.397661\teval-f1_score_thr0.4:0.380165\teval-f1_score_thr0.5:0.366412\teval-f1_score_thr0.6:0.354143\teval-f1_score_thr0.7:0.339713\n"
     ]
    },
    {
     "name": "stderr",
     "output_type": "stream",
     "text": [
      "/home/ec2-user/anaconda3/envs/python3/lib/python3.6/site-packages/sklearn/metrics/classification.py:1135: UndefinedMetricWarning: F-score is ill-defined and being set to 0.0 due to no predicted samples.\n",
      "  'precision', 'predicted', average, warn_for)\n"
     ]
    },
    {
     "name": "stdout",
     "output_type": "stream",
     "text": [
      "threshold 0.12\n",
      "max f1_score 0.4186426819296811\n",
      "eta 0.3\n",
      "max_depth 10\n",
      "num_round 173\n",
      "------------------------------\n",
      "[21:19:34] /workspace/src/tree/updater_prune.cc:74: tree pruning end, 1 roots, 94 extra nodes, 0 pruned nodes, max_depth=10\n",
      "[0]\teval-auc:0.897354\teval-f1_score_thr0.2:0.412132\teval-f1_score_thr0.3:0.398049\teval-f1_score_thr0.4:0.381347\teval-f1_score_thr0.5:0.365615\teval-f1_score_thr0.6:0.355606\teval-f1_score_thr0.7:0.339713\n",
      "[21:19:35] /workspace/src/tree/updater_prune.cc:74: tree pruning end, 1 roots, 74 extra nodes, 0 pruned nodes, max_depth=10\n",
      "[1]\teval-auc:0.897657\teval-f1_score_thr0.2:0.412132\teval-f1_score_thr0.3:0.396887\teval-f1_score_thr0.4:0.381347\teval-f1_score_thr0.5:0.363834\teval-f1_score_thr0.6:0.356413\teval-f1_score_thr0.7:0.341289\n"
     ]
    },
    {
     "name": "stderr",
     "output_type": "stream",
     "text": [
      "/home/ec2-user/anaconda3/envs/python3/lib/python3.6/site-packages/sklearn/metrics/classification.py:1135: UndefinedMetricWarning: F-score is ill-defined and being set to 0.0 due to no predicted samples.\n",
      "  'precision', 'predicted', average, warn_for)\n"
     ]
    },
    {
     "name": "stdout",
     "output_type": "stream",
     "text": [
      "threshold 0.13\n",
      "max f1_score 0.4206151288445552\n",
      "eta 0.3\n",
      "max_depth 10\n",
      "num_round 175\n",
      "------------------------------\n",
      "[21:19:40] /workspace/src/tree/updater_prune.cc:74: tree pruning end, 1 roots, 82 extra nodes, 0 pruned nodes, max_depth=10\n",
      "[0]\teval-auc:0.897556\teval-f1_score_thr0.2:0.408929\teval-f1_score_thr0.3:0.397661\teval-f1_score_thr0.4:0.379668\teval-f1_score_thr0.5:0.368192\teval-f1_score_thr0.6:0.352273\teval-f1_score_thr0.7:0.339713\n",
      "[21:19:41] /workspace/src/tree/updater_prune.cc:74: tree pruning end, 1 roots, 120 extra nodes, 0 pruned nodes, max_depth=10\n",
      "[1]\teval-auc:0.897627\teval-f1_score_thr0.2:0.408929\teval-f1_score_thr0.3:0.399221\teval-f1_score_thr0.4:0.384216\teval-f1_score_thr0.5:0.367213\teval-f1_score_thr0.6:0.354143\teval-f1_score_thr0.7:0.339713\n"
     ]
    },
    {
     "name": "stderr",
     "output_type": "stream",
     "text": [
      "/home/ec2-user/anaconda3/envs/python3/lib/python3.6/site-packages/sklearn/metrics/classification.py:1135: UndefinedMetricWarning: F-score is ill-defined and being set to 0.0 due to no predicted samples.\n",
      "  'precision', 'predicted', average, warn_for)\n"
     ]
    },
    {
     "name": "stdout",
     "output_type": "stream",
     "text": [
      "threshold 0.13\n",
      "max f1_score 0.4219269102990033\n",
      "eta 0.3\n",
      "max_depth 10\n",
      "num_round 177\n",
      "------------------------------\n",
      "[21:19:45] /workspace/src/tree/updater_prune.cc:74: tree pruning end, 1 roots, 102 extra nodes, 0 pruned nodes, max_depth=10\n",
      "[0]\teval-auc:0.897656\teval-f1_score_thr0.2:0.407507\teval-f1_score_thr0.3:0.397661\teval-f1_score_thr0.4:0.384216\teval-f1_score_thr0.5:0.367213\teval-f1_score_thr0.6:0.352673\teval-f1_score_thr0.7:0.339713\n",
      "[21:19:46] /workspace/src/tree/updater_prune.cc:74: tree pruning end, 1 roots, 88 extra nodes, 0 pruned nodes, max_depth=10\n",
      "[1]\teval-auc:0.89752\teval-f1_score_thr0.2:0.4082\teval-f1_score_thr0.3:0.398827\teval-f1_score_thr0.4:0.382046\teval-f1_score_thr0.5:0.365427\teval-f1_score_thr0.6:0.355606\teval-f1_score_thr0.7:0.337725\n"
     ]
    },
    {
     "name": "stderr",
     "output_type": "stream",
     "text": [
      "/home/ec2-user/anaconda3/envs/python3/lib/python3.6/site-packages/sklearn/metrics/classification.py:1135: UndefinedMetricWarning: F-score is ill-defined and being set to 0.0 due to no predicted samples.\n",
      "  'precision', 'predicted', average, warn_for)\n"
     ]
    },
    {
     "name": "stdout",
     "output_type": "stream",
     "text": [
      "threshold 0.12\n",
      "max f1_score 0.41810699588477374\n",
      "eta 0.3\n",
      "max_depth 10\n",
      "num_round 179\n",
      "------------------------------\n",
      "[21:19:51] /workspace/src/tree/updater_prune.cc:74: tree pruning end, 1 roots, 90 extra nodes, 0 pruned nodes, max_depth=10\n",
      "[0]\teval-auc:0.897644\teval-f1_score_thr0.2:0.406082\teval-f1_score_thr0.3:0.398438\teval-f1_score_thr0.4:0.386694\teval-f1_score_thr0.5:0.363636\teval-f1_score_thr0.6:0.356009\teval-f1_score_thr0.7:0.336918\n",
      "[21:19:52] /workspace/src/tree/updater_prune.cc:74: tree pruning end, 1 roots, 126 extra nodes, 0 pruned nodes, max_depth=10\n",
      "[1]\teval-auc:0.897311\teval-f1_score_thr0.2:0.407175\teval-f1_score_thr0.3:0.39726\teval-f1_score_thr0.4:0.382536\teval-f1_score_thr0.5:0.362239\teval-f1_score_thr0.6:0.354143\teval-f1_score_thr0.7:0.341289\n"
     ]
    },
    {
     "name": "stderr",
     "output_type": "stream",
     "text": [
      "/home/ec2-user/anaconda3/envs/python3/lib/python3.6/site-packages/sklearn/metrics/classification.py:1135: UndefinedMetricWarning: F-score is ill-defined and being set to 0.0 due to no predicted samples.\n",
      "  'precision', 'predicted', average, warn_for)\n"
     ]
    },
    {
     "name": "stdout",
     "output_type": "stream",
     "text": [
      "threshold 0.11\n",
      "max f1_score 0.41849148418491483\n",
      "eta 0.3\n",
      "max_depth 10\n",
      "num_round 181\n",
      "------------------------------\n",
      "[21:19:56] /workspace/src/tree/updater_prune.cc:74: tree pruning end, 1 roots, 66 extra nodes, 0 pruned nodes, max_depth=10\n",
      "[0]\teval-auc:0.897401\teval-f1_score_thr0.2:0.405381\teval-f1_score_thr0.3:0.398827\teval-f1_score_thr0.4:0.380853\teval-f1_score_thr0.5:0.363436\teval-f1_score_thr0.6:0.351873\teval-f1_score_thr0.7:0.342857\n",
      "[21:19:57] /workspace/src/tree/updater_prune.cc:74: tree pruning end, 1 roots, 48 extra nodes, 0 pruned nodes, max_depth=10\n",
      "[1]\teval-auc:0.897494\teval-f1_score_thr0.2:0.405018\teval-f1_score_thr0.3:0.394118\teval-f1_score_thr0.4:0.38125\teval-f1_score_thr0.5:0.363436\teval-f1_score_thr0.6:0.351873\teval-f1_score_thr0.7:0.342857\n"
     ]
    },
    {
     "name": "stderr",
     "output_type": "stream",
     "text": [
      "/home/ec2-user/anaconda3/envs/python3/lib/python3.6/site-packages/sklearn/metrics/classification.py:1135: UndefinedMetricWarning: F-score is ill-defined and being set to 0.0 due to no predicted samples.\n",
      "  'precision', 'predicted', average, warn_for)\n"
     ]
    },
    {
     "name": "stdout",
     "output_type": "stream",
     "text": [
      "threshold 0.1\n",
      "max f1_score 0.41759999999999997\n",
      "eta 0.3\n",
      "max_depth 10\n",
      "num_round 183\n",
      "------------------------------\n",
      "[21:20:02] /workspace/src/tree/updater_prune.cc:74: tree pruning end, 1 roots, 126 extra nodes, 0 pruned nodes, max_depth=10\n",
      "[0]\teval-auc:0.897547\teval-f1_score_thr0.2:0.405745\teval-f1_score_thr0.3:0.395303\teval-f1_score_thr0.4:0.382445\teval-f1_score_thr0.5:0.364238\teval-f1_score_thr0.6:0.353341\teval-f1_score_thr0.7:0.340476\n",
      "[21:20:03] /workspace/src/tree/updater_prune.cc:74: tree pruning end, 1 roots, 88 extra nodes, 0 pruned nodes, max_depth=10\n",
      "[1]\teval-auc:0.897794\teval-f1_score_thr0.2:0.405745\teval-f1_score_thr0.3:0.394531\teval-f1_score_thr0.4:0.385093\teval-f1_score_thr0.5:0.363036\teval-f1_score_thr0.6:0.354143\teval-f1_score_thr0.7:0.340476\n"
     ]
    },
    {
     "name": "stderr",
     "output_type": "stream",
     "text": [
      "/home/ec2-user/anaconda3/envs/python3/lib/python3.6/site-packages/sklearn/metrics/classification.py:1135: UndefinedMetricWarning: F-score is ill-defined and being set to 0.0 due to no predicted samples.\n",
      "  'precision', 'predicted', average, warn_for)\n"
     ]
    },
    {
     "name": "stdout",
     "output_type": "stream",
     "text": [
      "threshold 0.1\n",
      "max f1_score 0.41953562850280224\n",
      "eta 0.3\n",
      "max_depth 10\n",
      "num_round 185\n",
      "------------------------------\n",
      "[21:20:07] /workspace/src/tree/updater_prune.cc:74: tree pruning end, 1 roots, 52 extra nodes, 0 pruned nodes, max_depth=10\n",
      "[0]\teval-auc:0.897708\teval-f1_score_thr0.2:0.406475\teval-f1_score_thr0.3:0.398438\teval-f1_score_thr0.4:0.380457\teval-f1_score_thr0.5:0.363036\teval-f1_score_thr0.6:0.357631\teval-f1_score_thr0.7:0.340882\n",
      "[21:20:08] /workspace/src/tree/updater_prune.cc:74: tree pruning end, 1 roots, 64 extra nodes, 0 pruned nodes, max_depth=10\n",
      "[1]\teval-auc:0.897723\teval-f1_score_thr0.2:0.409009\teval-f1_score_thr0.3:0.39961\teval-f1_score_thr0.4:0.38125\teval-f1_score_thr0.5:0.360836\teval-f1_score_thr0.6:0.357631\teval-f1_score_thr0.7:0.340882\n"
     ]
    },
    {
     "name": "stderr",
     "output_type": "stream",
     "text": [
      "/home/ec2-user/anaconda3/envs/python3/lib/python3.6/site-packages/sklearn/metrics/classification.py:1135: UndefinedMetricWarning: F-score is ill-defined and being set to 0.0 due to no predicted samples.\n",
      "  'precision', 'predicted', average, warn_for)\n"
     ]
    },
    {
     "name": "stdout",
     "output_type": "stream",
     "text": [
      "threshold 0.11\n",
      "max f1_score 0.4191714053614948\n",
      "eta 0.3\n",
      "max_depth 10\n",
      "num_round 187\n",
      "------------------------------\n",
      "[21:20:13] /workspace/src/tree/updater_prune.cc:74: tree pruning end, 1 roots, 88 extra nodes, 0 pruned nodes, max_depth=10\n",
      "[0]\teval-auc:0.897532\teval-f1_score_thr0.2:0.410072\teval-f1_score_thr0.3:0.4\teval-f1_score_thr0.4:0.379167\teval-f1_score_thr0.5:0.365639\teval-f1_score_thr0.6:0.354949\teval-f1_score_thr0.7:0.340882\n",
      "[21:20:14] /workspace/src/tree/updater_prune.cc:74: tree pruning end, 1 roots, 88 extra nodes, 0 pruned nodes, max_depth=10\n",
      "[1]\teval-auc:0.897354\teval-f1_score_thr0.2:0.410811\teval-f1_score_thr0.3:0.401168\teval-f1_score_thr0.4:0.376691\teval-f1_score_thr0.5:0.364835\teval-f1_score_thr0.6:0.359091\teval-f1_score_thr0.7:0.343266\n"
     ]
    },
    {
     "name": "stderr",
     "output_type": "stream",
     "text": [
      "/home/ec2-user/anaconda3/envs/python3/lib/python3.6/site-packages/sklearn/metrics/classification.py:1135: UndefinedMetricWarning: F-score is ill-defined and being set to 0.0 due to no predicted samples.\n",
      "  'precision', 'predicted', average, warn_for)\n"
     ]
    },
    {
     "name": "stdout",
     "output_type": "stream",
     "text": [
      "threshold 0.1\n",
      "max f1_score 0.41793434747798236\n",
      "eta 0.3\n",
      "max_depth 10\n",
      "num_round 189\n",
      "------------------------------\n",
      "[21:20:18] /workspace/src/tree/updater_prune.cc:74: tree pruning end, 1 roots, 94 extra nodes, 0 pruned nodes, max_depth=10\n",
      "[0]\teval-auc:0.897345\teval-f1_score_thr0.2:0.414788\teval-f1_score_thr0.3:0.39961\teval-f1_score_thr0.4:0.377985\teval-f1_score_thr0.5:0.367033\teval-f1_score_thr0.6:0.359499\teval-f1_score_thr0.7:0.344828\n",
      "[21:20:20] /workspace/src/tree/updater_prune.cc:74: tree pruning end, 1 roots, 80 extra nodes, 0 pruned nodes, max_depth=10\n",
      "[1]\teval-auc:0.897616\teval-f1_score_thr0.2:0.413731\teval-f1_score_thr0.3:0.401951\teval-f1_score_thr0.4:0.381648\teval-f1_score_thr0.5:0.367033\teval-f1_score_thr0.6:0.360731\teval-f1_score_thr0.7:0.343266\n"
     ]
    },
    {
     "name": "stderr",
     "output_type": "stream",
     "text": [
      "/home/ec2-user/anaconda3/envs/python3/lib/python3.6/site-packages/sklearn/metrics/classification.py:1135: UndefinedMetricWarning: F-score is ill-defined and being set to 0.0 due to no predicted samples.\n",
      "  'precision', 'predicted', average, warn_for)\n"
     ]
    },
    {
     "name": "stdout",
     "output_type": "stream",
     "text": [
      "threshold 0.11\n",
      "max f1_score 0.41993464052287577\n",
      "eta 0.3\n",
      "max_depth 10\n",
      "num_round 191\n",
      "------------------------------\n",
      "[21:20:24] /workspace/src/tree/updater_prune.cc:74: tree pruning end, 1 roots, 64 extra nodes, 0 pruned nodes, max_depth=10\n",
      "[0]\teval-auc:0.897774\teval-f1_score_thr0.2:0.414414\teval-f1_score_thr0.3:0.401951\teval-f1_score_thr0.4:0.38125\teval-f1_score_thr0.5:0.363436\teval-f1_score_thr0.6:0.355097\teval-f1_score_thr0.7:0.341289\n",
      "[21:20:25] /workspace/src/tree/updater_prune.cc:74: tree pruning end, 1 roots, 68 extra nodes, 0 pruned nodes, max_depth=10\n",
      "[1]\teval-auc:0.897563\teval-f1_score_thr0.2:0.411552\teval-f1_score_thr0.3:0.401559\teval-f1_score_thr0.4:0.38125\teval-f1_score_thr0.5:0.363837\teval-f1_score_thr0.6:0.355505\teval-f1_score_thr0.7:0.340882\n"
     ]
    },
    {
     "name": "stderr",
     "output_type": "stream",
     "text": [
      "/home/ec2-user/anaconda3/envs/python3/lib/python3.6/site-packages/sklearn/metrics/classification.py:1135: UndefinedMetricWarning: F-score is ill-defined and being set to 0.0 due to no predicted samples.\n",
      "  'precision', 'predicted', average, warn_for)\n"
     ]
    },
    {
     "name": "stdout",
     "output_type": "stream",
     "text": [
      "threshold 0.11\n",
      "max f1_score 0.41803278688524587\n",
      "eta 0.3\n",
      "max_depth 10\n",
      "num_round 193\n",
      "------------------------------\n",
      "[21:20:30] /workspace/src/tree/updater_prune.cc:74: tree pruning end, 1 roots, 86 extra nodes, 0 pruned nodes, max_depth=10\n",
      "[0]\teval-auc:0.89764\teval-f1_score_thr0.2:0.414414\teval-f1_score_thr0.3:0.399608\teval-f1_score_thr0.4:0.375391\teval-f1_score_thr0.5:0.362431\teval-f1_score_thr0.6:0.356571\teval-f1_score_thr0.7:0.338902\n",
      "[21:20:31] /workspace/src/tree/updater_prune.cc:74: tree pruning end, 1 roots, 84 extra nodes, 0 pruned nodes, max_depth=10\n",
      "[1]\teval-auc:0.897471\teval-f1_score_thr0.2:0.41086\teval-f1_score_thr0.3:0.39726\teval-f1_score_thr0.4:0.37461\teval-f1_score_thr0.5:0.364835\teval-f1_score_thr0.6:0.358447\teval-f1_score_thr0.7:0.339713\n"
     ]
    },
    {
     "name": "stderr",
     "output_type": "stream",
     "text": [
      "/home/ec2-user/anaconda3/envs/python3/lib/python3.6/site-packages/sklearn/metrics/classification.py:1135: UndefinedMetricWarning: F-score is ill-defined and being set to 0.0 due to no predicted samples.\n",
      "  'precision', 'predicted', average, warn_for)\n"
     ]
    },
    {
     "name": "stdout",
     "output_type": "stream",
     "text": [
      "threshold 0.1\n",
      "max f1_score 0.4192\n",
      "eta 0.3\n",
      "max_depth 10\n",
      "num_round 195\n",
      "------------------------------\n",
      "[21:20:35] /workspace/src/tree/updater_prune.cc:74: tree pruning end, 1 roots, 94 extra nodes, 0 pruned nodes, max_depth=10\n",
      "[0]\teval-auc:0.897602\teval-f1_score_thr0.2:0.410488\teval-f1_score_thr0.3:0.396078\teval-f1_score_thr0.4:0.376691\teval-f1_score_thr0.5:0.363036\teval-f1_score_thr0.6:0.358857\teval-f1_score_thr0.7:0.338902\n",
      "[21:20:36] /workspace/src/tree/updater_prune.cc:74: tree pruning end, 1 roots, 62 extra nodes, 0 pruned nodes, max_depth=10\n",
      "[1]\teval-auc:0.897811\teval-f1_score_thr0.2:0.411232\teval-f1_score_thr0.3:0.394504\teval-f1_score_thr0.4:0.381347\teval-f1_score_thr0.5:0.363436\teval-f1_score_thr0.6:0.357798\teval-f1_score_thr0.7:0.338902\n"
     ]
    },
    {
     "name": "stderr",
     "output_type": "stream",
     "text": [
      "/home/ec2-user/anaconda3/envs/python3/lib/python3.6/site-packages/sklearn/metrics/classification.py:1135: UndefinedMetricWarning: F-score is ill-defined and being set to 0.0 due to no predicted samples.\n",
      "  'precision', 'predicted', average, warn_for)\n"
     ]
    },
    {
     "name": "stdout",
     "output_type": "stream",
     "text": [
      "threshold 0.11\n",
      "max f1_score 0.41924959216965735\n",
      "eta 0.3\n",
      "max_depth 10\n",
      "num_round 197\n",
      "------------------------------\n",
      "[21:20:41] /workspace/src/tree/updater_prune.cc:74: tree pruning end, 1 roots, 58 extra nodes, 0 pruned nodes, max_depth=10\n",
      "[0]\teval-auc:0.89772\teval-f1_score_thr0.2:0.409791\teval-f1_score_thr0.3:0.394118\teval-f1_score_thr0.4:0.380062\teval-f1_score_thr0.5:0.362431\teval-f1_score_thr0.6:0.359679\teval-f1_score_thr0.7:0.339307\n",
      "[21:20:42] /workspace/src/tree/updater_prune.cc:74: tree pruning end, 1 roots, 64 extra nodes, 0 pruned nodes, max_depth=10\n",
      "[1]\teval-auc:0.897692\teval-f1_score_thr0.2:0.412033\teval-f1_score_thr0.3:0.39803\teval-f1_score_thr0.4:0.378772\teval-f1_score_thr0.5:0.365639\teval-f1_score_thr0.6:0.358857\teval-f1_score_thr0.7:0.339713\n"
     ]
    },
    {
     "name": "stderr",
     "output_type": "stream",
     "text": [
      "/home/ec2-user/anaconda3/envs/python3/lib/python3.6/site-packages/sklearn/metrics/classification.py:1135: UndefinedMetricWarning: F-score is ill-defined and being set to 0.0 due to no predicted samples.\n",
      "  'precision', 'predicted', average, warn_for)\n"
     ]
    },
    {
     "name": "stdout",
     "output_type": "stream",
     "text": [
      "threshold 0.11\n",
      "max f1_score 0.4202780049059689\n",
      "eta 0.3\n",
      "max_depth 10\n",
      "num_round 199\n",
      "------------------------------\n",
      "[21:20:46] /workspace/src/tree/updater_prune.cc:74: tree pruning end, 1 roots, 70 extra nodes, 0 pruned nodes, max_depth=10\n",
      "[0]\teval-auc:0.897716\teval-f1_score_thr0.2:0.414234\teval-f1_score_thr0.3:0.397638\teval-f1_score_thr0.4:0.377871\teval-f1_score_thr0.5:0.363837\teval-f1_score_thr0.6:0.359679\teval-f1_score_thr0.7:0.339307\n",
      "[21:20:47] /workspace/src/tree/updater_prune.cc:74: tree pruning end, 1 roots, 64 extra nodes, 0 pruned nodes, max_depth=10\n",
      "[1]\teval-auc:0.897766\teval-f1_score_thr0.2:0.415301\teval-f1_score_thr0.3:0.397638\teval-f1_score_thr0.4:0.378265\teval-f1_score_thr0.5:0.364641\teval-f1_score_thr0.6:0.359679\teval-f1_score_thr0.7:0.34012\n",
      "threshold 0.16\n",
      "max f1_score 0.4195804195804196\n",
      "eta 0.3\n",
      "max_depth 10\n",
      "num_round 201\n",
      "------------------------------\n"
     ]
    },
    {
     "name": "stderr",
     "output_type": "stream",
     "text": [
      "/home/ec2-user/anaconda3/envs/python3/lib/python3.6/site-packages/sklearn/metrics/classification.py:1135: UndefinedMetricWarning: F-score is ill-defined and being set to 0.0 due to no predicted samples.\n",
      "  'precision', 'predicted', average, warn_for)\n"
     ]
    }
   ],
   "source": [
    "# Trianing step by step\n",
    "version = 0\n",
    "params = {\n",
    "    'objective': 'binary:logistic', \n",
    "    'eta':0.3, \n",
    "    'max_depth': 10, \n",
    "    'eval_metric': 'auc',\n",
    "    #'gamma': 0.01,\n",
    "    'scale_pos_weight': 22,\n",
    "    'seed': 1 # ,\n",
    "#     'subsample': 0.5,\n",
    "#     'max_delta_step': 10    \n",
    "}\n",
    "\n",
    "params_opt_bay = {\n",
    "    'max_depth': 12.0, \n",
    "    'gamma': 0.001, \n",
    "    'min_child_weight': 10.108909877670685, \n",
    "    'max_delta_step': 2.4592238788322622, \n",
    "    'subsample': 1.0, \n",
    "    'colsample_bytree': 0.4\n",
    "}\n",
    "\n",
    "num_round = 2\n",
    "\n",
    "# evals = [(dtest, 'eval')]\n",
    "\n",
    "#bst = xgb.train(params, dtrain, num_round, evals, feval=val_func)\n",
    "for i in range(0, 100):\n",
    "    bst = xgb.train(params, dtrain, num_round, evals, feval=val_func, xgb_model=bst)\n",
    "    threshold, max_f1_score = val_func_thr(bst, dtest, test_y)\n",
    "    print('threshold', threshold)\n",
    "    print('max f1_score', max_f1_score)\n",
    "    print('eta', params['eta'])\n",
    "    print('max_depth', params['max_depth'])\n",
    "    print('num_round', bst.best_ntree_limit)\n",
    "    print('------------------------------')\n",
    "    \n",
    "\n",
    "\n",
    "#pickle.dump(bst, open('models/pickles/cartera_vencida_version{}.pckl.model'.format(version),\"wb\"))\n",
    "#feat_imp.to_csv('models/feature_importances_version{}.csv'.format(version), index=False)"
   ]
  },
  {
   "cell_type": "code",
   "execution_count": 94,
   "metadata": {},
   "outputs": [
    {
     "name": "stdout",
     "output_type": "stream",
     "text": [
      "threshold 0.23\n",
      "max f1_score 0.8554344002813928\n",
      "eta 0.3\n",
      "max_depth 10\n",
      "num_round 150\n"
     ]
    },
    {
     "name": "stderr",
     "output_type": "stream",
     "text": [
      "/home/ec2-user/anaconda3/envs/python3/lib/python3.6/site-packages/sklearn/metrics/classification.py:1135: UndefinedMetricWarning: F-score is ill-defined and being set to 0.0 due to no predicted samples.\n",
      "  'precision', 'predicted', average, warn_for)\n"
     ]
    }
   ],
   "source": [
    "f1_sc = 0\n",
    "max_step = 0\n",
    "thr_sample = (dtest, test_y)\n",
    "_score_preds = bst.predict(thr_sample[0], ntree_limit=bst.best_ntree_limit)\n",
    "for thr_step in np.linspace(0, 1, 101):\n",
    "    _preds = predict(_score_preds, thr_step)\n",
    "    f1_sc_step = f1_score(thr_sample[1], _preds)\n",
    "    # print(thr_step, f1_sc_step)\n",
    "    if f1_sc_step >= f1_sc:\n",
    "        f1_sc = f1_sc_step\n",
    "        max_step = thr_step\n",
    "threshold = max_step\n",
    "print('threshold', threshold)\n",
    "print('max f1_score', f1_sc)\n",
    "print('eta', params['eta'])\n",
    "print('max_depth', params['max_depth'])\n",
    "print('num_round', bst.best_ntree_limit)"
   ]
  },
  {
   "cell_type": "code",
   "execution_count": 110,
   "metadata": {
    "scrolled": true
   },
   "outputs": [
    {
     "name": "stderr",
     "output_type": "stream",
     "text": [
      "/home/ec2-user/anaconda3/envs/python3/lib/python3.6/site-packages/sklearn/metrics/classification.py:1135: UndefinedMetricWarning: F-score is ill-defined and being set to 0.0 due to no predicted samples.\n",
      "  'precision', 'predicted', average, warn_for)\n",
      "/home/ec2-user/anaconda3/envs/python3/lib/python3.6/site-packages/sklearn/metrics/classification.py:1135: UndefinedMetricWarning: F-score is ill-defined and being set to 0.0 due to no predicted samples.\n",
      "  'precision', 'predicted', average, warn_for)\n",
      "/home/ec2-user/anaconda3/envs/python3/lib/python3.6/site-packages/sklearn/metrics/classification.py:1135: UndefinedMetricWarning: F-score is ill-defined and being set to 0.0 due to no predicted samples.\n",
      "  'precision', 'predicted', average, warn_for)\n"
     ]
    },
    {
     "data": {
      "image/png": "[encoded data removed]",
      "text/plain": [
       "<Figure size 432x288 with 1 Axes>"
      ]
     },
     "metadata": {},
     "output_type": "display_data"
    },
    {
     "name": "stderr",
     "output_type": "stream",
     "text": [
      "/home/ec2-user/anaconda3/envs/python3/lib/python3.6/site-packages/matplotlib/axes/_axes.py:6462: UserWarning: The 'normed' kwarg is deprecated, and has been replaced by the 'density' kwarg.\n",
      "  warnings.warn(\"The 'normed' kwarg is deprecated, and has been \"\n"
     ]
    },
    {
     "name": "stdout",
     "output_type": "stream",
     "text": [
      "threshold 0.9500000000000001\n",
      "max f1_score 0.395448079658606\n",
      "eta 0.03\n",
      "max_depth 5\n",
      "num_round 100\n"
     ]
    },
    {
     "data": {
      "image/png": "[encoded data removed]",
      "text/plain": [
       "<Figure size 432x288 with 1 Axes>"
      ]
     },
     "metadata": {},
     "output_type": "display_data"
    }
   ],
   "source": [
    "f1_sc = 0\n",
    "max_step = 0\n",
    "thr_sample = (dtest, test_y)\n",
    "_score_preds = bst.predict(thr_sample[0], ntree_limit=bst.best_ntree_limit)\n",
    "scores = []\n",
    "for thr_step in np.linspace(0, 1, 101):\n",
    "    _preds = predict(_score_preds, thr_step)\n",
    "    f1_sc_step = f1_score(thr_sample[1], _preds)\n",
    "    #print(thr_step, f1_sc_step)\n",
    "    scores.append(f1_sc_step)\n",
    "    if f1_sc_step >= f1_sc:\n",
    "        f1_sc = f1_sc_step\n",
    "        max_step = thr_step\n",
    "plt.plot(np.linspace(0, 1, 101), scores, linewidth=2.0)\n",
    "plt.show()\n",
    "sns.distplot(scores)\n",
    "\n",
    "threshold = max_step\n",
    "print('threshold', threshold)\n",
    "print('max f1_score', f1_sc)\n",
    "print('eta', params['eta'])\n",
    "print('max_depth', params['max_depth'])\n",
    "print('num_round', bst.best_ntree_limit)"
   ]
  },
  {
   "cell_type": "code",
   "execution_count": 100,
   "metadata": {},
   "outputs": [
    {
     "data": {
      "text/plain": [
       "82377"
      ]
     },
     "metadata": {},
     "output_type": "display_data"
    }
   ],
   "source": [
    "VALIDACION = rfc_key_features_data['FECHA'] > 201705\n",
    "display(VALIDACION.sum())\n",
    "validation_data = model_features_data[VALIDACION & MONTO_LINEA]\n",
    "validation_target = target_data[VALIDACION & MONTO_LINEA]\n",
    "\n",
    "\n",
    "val_y = validation_target.values\n",
    "val_X = validation_data.values\n",
    "\n",
    "dval = xgb.DMatrix(\n",
    "    val_X, \n",
    "    label=val_y, \n",
    "    feature_names=validation_data.columns\n",
    ")\n"
   ]
  },
  {
   "cell_type": "code",
   "execution_count": 243,
   "metadata": {},
   "outputs": [],
   "source": [
    "threshold = 0.2"
   ]
  },
  {
   "cell_type": "code",
   "execution_count": 111,
   "metadata": {},
   "outputs": [
    {
     "name": "stdout",
     "output_type": "stream",
     "text": [
      "thr 0.9500000000000001\n",
      "iter 100\n",
      "------              \tTrain                      \tTest                       \tValidation                 \n",
      "confusion matrix    \t[[27813   365]             \t[[8525  208]               \t[[12298   358]             \n",
      "                    \t [ 6586 26341]]            \t [ 217  139]]              \t [  251   241]]            \n",
      "confusion matrix pct\t[[45.51673349  0.59733246] \t[[93.79469689  2.28848058] \t[[93.53513842  2.72284758] \n",
      "                    \t [10.77816873 43.10776532]]\t [ 2.38750138  1.52932116]]\t [ 1.90903559  1.8329784 ]]\n",
      "f1_score            \t0.8834370231247798         \t0.395448079658606          \t0.4417965169569203         \n",
      "accuracy score      \t0.8862449881351772         \t0.9532401804378919         \t0.9536811682385153         \n",
      "recall score        \t0.7999817778722629         \t0.3904494382022472         \t0.4898373983739837         \n",
      "precision_score     \t0.9863326593274919         \t0.40057636887608067        \t0.4023372287145242         \n",
      "{'objective': 'binary:logistic', 'eta': 0.03, 'max_depth': 5, 'eval_metric': 'auc', 'alpha': 30, 'lambda': 1, 'gamma': 0.01, 'scale_pos_weight': 7, 'max_delta_step': 5, 'min_child_weight': 1}\n"
     ]
    }
   ],
   "source": [
    "# make predictions on datasets\n",
    "train_pred = predict(bst.predict(dtrain), threshold)\n",
    "test_pred = predict(bst.predict(dtest), threshold)\n",
    "val_pred = predict(bst.predict(dval), threshold)\n",
    "\n",
    "#cm_train = confusion_matrix(train_y, train_pred)\n",
    "cm_train = confusion_matrix(y_resampled, train_pred)\n",
    "cm_test = confusion_matrix(test_y, test_pred)\n",
    "cm_val = confusion_matrix(val_y, val_pred)\n",
    "\n",
    "cm_train_pct = cm_train / cm_train.astype(np.float).sum()*100\n",
    "cm_test_pct = cm_test / cm_test.astype(np.float).sum()*100\n",
    "cm_val_pct = cm_val / cm_val.astype(np.float).sum()*100\n",
    "\n",
    "summary = [\n",
    "    ['------', 'Train', 'Test', 'Validation'],\n",
    "    ['confusion matrix', cm_train, cm_test, cm_val],\n",
    "    ['confusion matrix pct', cm_train_pct, cm_test_pct, cm_val_pct],\n",
    "    #['f1_score', f1_score(train_y, train_pred), f1_score(test_y, test_pred), f1_score(val_y, val_pred)],    \n",
    "    #['accuracy score', accuracy_score(train_y, train_pred), accuracy_score(test_y, test_pred), accuracy_score(val_y, val_pred)],\n",
    "    #['recall score', recall_score(train_y, train_pred), recall_score(test_y, test_pred), recall_score(val_y, val_pred)],\n",
    "    #['precision_score', precision_score(train_y, train_pred),  precision_score(test_y, test_pred), precision_score(val_y, val_pred)]\n",
    "    ['f1_score', f1_score(y_resampled, train_pred), f1_score(test_y, test_pred), f1_score(val_y, val_pred)],\n",
    "    ['accuracy score', accuracy_score(y_resampled, train_pred), accuracy_score(test_y, test_pred), accuracy_score(val_y, val_pred)],\n",
    "    ['recall score', recall_score(y_resampled, train_pred), recall_score(test_y, test_pred), recall_score(val_y, val_pred)],\n",
    "    ['precision_score', precision_score(y_resampled, train_pred),  precision_score(test_y, test_pred), precision_score(val_y, val_pred)]\n",
    "]\n",
    "\n",
    "# print pretty table\n",
    "print('thr', threshold)\n",
    "print('iter', bst.best_ntree_limit)\n",
    "pretty_table(summary)\n",
    "print(params)\n"
   ]
  },
  {
   "cell_type": "code",
   "execution_count": 166,
   "metadata": {},
   "outputs": [
    {
     "name": "stdout",
     "output_type": "stream",
     "text": [
      "thr 0.5700000000000001\n",
      "iter 10\n",
      "------              \tTrain                      \tTest                       \tValidation                 \n",
      "confusion matrix    \t[[18551   396]             \t[[5992  171]               \t[[12225   431]             \n",
      "                    \t [ 3294 19602]]            \t [ 134  139]]              \t [  240   252]]            \n",
      "confusion matrix pct\t[[44.33477523  0.94639486] \t[[93.10130516  2.65692977] \t[[92.9799209   3.2780651 ] \n",
      "                    \t [ 7.87228449 46.84654542]]\t [ 2.08203853  2.15972654]]\t [ 1.82537268  1.91664131]]\n",
      "f1_score            \t0.9139739823751574         \t0.47684391080617494        \t0.428936170212766          \n",
      "accuracy score      \t0.9118132065100495         \t0.9526103169670603         \t0.9489656221478552         \n",
      "recall score        \t0.8561320754716981         \t0.5091575091575091         \t0.5121951219512195         \n",
      "precision_score     \t0.9801980198019802         \t0.4483870967741935         \t0.3689604685212299         \n",
      "{'objective': 'binary:logistic', 'eta': 0.03, 'max_depth': 5, 'eval_metric': 'auc', 'alpha': 30, 'lambda': 1, 'gamma': 0.01, 'max_delta_step': 5, 'min_child_weight': 1}\n"
     ]
    }
   ],
   "source": [
    "# make predictions on datasets\n",
    "train_pred = predict(bst.predict(dtrain), threshold)\n",
    "test_pred = predict(bst.predict(dtest), threshold)\n",
    "val_pred = predict(bst.predict(dval), threshold)\n",
    "\n",
    "# cm_train = confusion_matrix(train_y, train_pred)\n",
    "cm_train = confusion_matrix(y_resampled, train_pred)\n",
    "cm_test = confusion_matrix(test_y, test_pred)\n",
    "cm_val = confusion_matrix(val_y, val_pred)\n",
    "\n",
    "cm_train_pct = cm_train / cm_train.astype(np.float).sum()*100\n",
    "cm_test_pct = cm_test / cm_test.astype(np.float).sum()*100\n",
    "cm_val_pct = cm_val / cm_val.astype(np.float).sum()*100\n",
    "\n",
    "summary = [\n",
    "    ['------', 'Train', 'Test', 'Validation'],\n",
    "    ['confusion matrix', cm_train, cm_test, cm_val],\n",
    "    ['confusion matrix pct', cm_train_pct, cm_test_pct, cm_val_pct],\n",
    "    #['f1_score', f1_score(train_y, train_pred), f1_score(test_y, test_pred), f1_score(val_y, val_pred)],    \n",
    "    #['accuracy score', accuracy_score(train_y, train_pred), accuracy_score(test_y, test_pred), accuracy_score(val_y, val_pred)],\n",
    "    #['recall score', recall_score(train_y, train_pred), recall_score(test_y, test_pred), recall_score(val_y, val_pred)],\n",
    "    #['precision_score', precision_score(train_y, train_pred),  precision_score(test_y, test_pred), precision_score(val_y, val_pred)]\n",
    "    ['f1_score', f1_score(y_resampled, train_pred), f1_score(test_y, test_pred), f1_score(val_y, val_pred)],\n",
    "    ['accuracy score', accuracy_score(y_resampled, train_pred), accuracy_score(test_y, test_pred), accuracy_score(val_y, val_pred)],\n",
    "    ['recall score', recall_score(y_resampled, train_pred), recall_score(test_y, test_pred), recall_score(val_y, val_pred)],\n",
    "    ['precision_score', precision_score(y_resampled, train_pred),  precision_score(test_y, test_pred), precision_score(val_y, val_pred)]\n",
    "]\n",
    "\n",
    "# print pretty table\n",
    "print('thr', threshold)\n",
    "print('iter', bst.best_ntree_limit)\n",
    "pretty_table(summary)\n",
    "print(params)\n"
   ]
  },
  {
   "cell_type": "code",
   "execution_count": 112,
   "metadata": {},
   "outputs": [
    {
     "name": "stdout",
     "output_type": "stream",
     "text": [
      "FECHA \tF1 SCORE           \tACCURACY          \tRECALL             \tPRECISION          \n",
      "201501\t0.38772213247172865\t0.9599661983732967\t0.4013377926421405 \t0.375              \n",
      "201502\t0.35897435897435903\t0.9604138076638868\t0.3354632587859425 \t0.3860294117647059 \n",
      "201503\t0.4221879815100154 \t0.9614910659272952\t0.38591549295774646\t0.46598639455782315\n",
      "201504\t0.44385733157199475\t0.9573584523447787\t0.4148148148148148 \t0.4772727272727273 \n",
      "201505\t0.3989431968295905 \t0.9543996792944478\t0.36561743341404357\t0.438953488372093  \n",
      "201506\t0.4238578680203046 \t0.9558322794046114\t0.39667458432304037\t0.4550408719346049 \n",
      "201507\t0.4601990049751244 \t0.9582491582491582\t0.42725173210161665\t0.49865229110512127\n",
      "201508\t0.47540983606557374\t0.9567901234567902\t0.4765258215962441 \t0.4742990654205608 \n",
      "201509\t0.4797047970479705 \t0.9604192008982876\t0.4744525547445255 \t0.48507462686567165\n",
      "201510\t0.4795180722891566 \t0.9600702467880581\t0.47836538461538464\t0.4806763285024155 \n",
      "201511\t0.4433497536945813 \t0.9582332286083903\t0.43795620437956206\t0.4488778054862843 \n",
      "201512\t0.41031652989449   \t0.954450783301639 \t0.3747323340471092 \t0.4533678756476684 \n",
      "201601\t0.3602941176470588 \t0.9532467532467532\t0.3168103448275862 \t0.41761363636363635\n",
      "201602\t0.38932146829810904\t0.9514503006720906\t0.3556910569105691 \t0.42997542997543   \n",
      "201603\t0.41132075471698115\t0.945983379501385 \t0.4                \t0.42330097087378643\n",
      "201604\t0.4157844080846968 \t0.9478611922350112\t0.38640429338103754\t0.45               \n",
      "201605\t0.43125            \t0.9533851276359601\t0.3826247689463956 \t0.49403341288782815\n",
      "201606\t0.3821391484942887 \t0.9506346967559943\t0.3452157598499062 \t0.42790697674418604\n",
      "201607\t0.3957115009746589 \t0.9490843393282418\t0.3677536231884058 \t0.4282700421940928 \n",
      "201608\t0.452642073778664  \t0.9551580494976721\t0.43570057581573896\t0.470954356846473  \n",
      "201609\t0.43409316154608524\t0.9537427090084252\t0.44421906693711966\t0.42441860465116277\n",
      "201610\t0.4329411764705882 \t0.9575480007045974\t0.4134831460674157 \t0.454320987654321  \n",
      "201606\t0.3821391484942887 \t0.9506346967559943\t0.3452157598499062 \t0.42790697674418604\n",
      "201611\t0.3735632183908046 \t0.9580204120932024\t0.3672316384180791 \t0.38011695906432746\n",
      "201612\t0.42038216560509556\t0.9633802816901409\t0.4661016949152542 \t0.382830626450116  \n",
      "201701\t0.4347826086956522 \t0.9563269876819709\t0.43388429752066116\t0.43568464730290457\n",
      "201702\t0.41754051477597715\t0.9510141906518079\t0.43887775551102204\t0.3981818181818182 \n",
      "201703\t0.43975903614457834\t0.9555484744682546\t0.4085820895522388 \t0.47608695652173916\n",
      "201704\t0.4                \t0.9477134633834347\t0.43253968253968256\t0.3720136518771331 \n",
      "201705\t0.39344262295081966\t0.9501545288850146\t0.3805970149253731 \t0.40718562874251496\n",
      "201706\t0.3967391304347826 \t0.9478587645815392\t0.40036563071297987\t0.39317773788150806\n",
      "201707\t0.41570026761819806\t0.9492484115915079\t0.4017241379310345 \t0.43068391866913125\n",
      "201708\t0.4230055658627087 \t0.9518948182521269\t0.3986013986013986 \t0.4505928853754941 \n",
      "201709\t0.4330484330484331 \t0.9541122213681783\t0.4359464627151052 \t0.43018867924528303\n",
      "201710\t0.4266936299292215 \t0.9567307692307693\t0.422              \t0.43149284253578735\n",
      "201711\t0.4417965169569203 \t0.9536811682385153\t0.4898373983739837 \t0.4023372287145242 \n"
     ]
    }
   ],
   "source": [
    "dates = [201501, 201502, 201503, 201504, 201505, \n",
    "         201506, 201507, 201508, 201509, 201510, \n",
    "         201511, 201512, 201601, 201602, 201603, \n",
    "         201604, 201605, 201606, 201607, 201608,\n",
    "         201609, 201610, 201606, 201611, 201612,\n",
    "         201701, 201702, 201703, 201704, 201705,\n",
    "         201706, 201707, 201708, 201709, 201710,\n",
    "         201711]\n",
    "\n",
    "time_stats = [['FECHA', 'F1 SCORE', 'ACCURACY', 'RECALL', 'PRECISION']]\n",
    "\n",
    "for m in dates:\n",
    "    VALIDACION = rfc_key_features_data['FECHA'] == m\n",
    "    # display(VALIDACION.sum())\n",
    "    validation_data = model_features_data[VALIDACION & MONTO_LINEA]\n",
    "    validation_target = target_data[VALIDACION & MONTO_LINEA]\n",
    "\n",
    "\n",
    "    val_y = validation_target.values\n",
    "    val_X = validation_data.values\n",
    "\n",
    "    dval = xgb.DMatrix(\n",
    "        val_X, \n",
    "        label=val_y, \n",
    "        feature_names=validation_data.columns\n",
    "    )\n",
    "    time_stats.append([\n",
    "        m, \n",
    "        f1_score(val_y, predict(bst.predict(dval), threshold)),\n",
    "        accuracy_score(val_y, predict(bst.predict(dval), threshold)),        \n",
    "        recall_score(val_y, predict(bst.predict(dval), threshold)),\n",
    "        precision_score(val_y, predict(bst.predict(dval), threshold)),\n",
    "    ])\n",
    "pretty_table(time_stats)"
   ]
  },
  {
   "cell_type": "code",
   "execution_count": null,
   "metadata": {},
   "outputs": [],
   "source": []
  },
  {
   "cell_type": "code",
   "execution_count": 158,
   "metadata": {},
   "outputs": [
    {
     "name": "stdout",
     "output_type": "stream",
     "text": [
      "thr 0.62\n",
      "iter 700\n",
      "------              \tTrain                      \tValidation                 \n",
      "confusion matrix    \t[[45574     0]             \t[[11187    78]             \n",
      "                    \t [    0  1850]]            \t [  112   362]]            \n",
      "confusion matrix pct\t[[96.09902159  0.        ] \t[[95.29772553  0.66445183] \n",
      "                    \t [ 0.          3.90097841]]\t [ 0.95408468  3.08373797]]\n",
      "f1_score            \t1.0                        \t0.7921225382932165         \n",
      "accuracy score      \t1.0                        \t0.9838146349774257         \n",
      "recall score        \t1.0                        \t0.7637130801687764         \n",
      "precision_score     \t1.0                        \t0.8227272727272728         \n",
      "{'objective': 'binary:logistic', 'eta': 0.3, 'max_depth': 10, 'eval_metric': 'auc', 'scale_pos_weight': 17}\n"
     ]
    }
   ],
   "source": [
    "# make predictions on datasets\n",
    "train_pred = predict(bst.predict(dtrain), threshold)\n",
    "test_pred = predict(bst.predict(dtest), threshold)\n",
    "\n",
    "cm_train = confusion_matrix(train_y, train_pred)\n",
    "cm_test = confusion_matrix(test_y, test_pred)\n",
    "\n",
    "cm_train_pct = cm_train / cm_train.astype(np.float).sum()*100\n",
    "cm_test_pct = cm_test / cm_test.astype(np.float).sum()*100\n",
    "\n",
    "summary = [\n",
    "    ['------', 'Train', 'Validation', 'Test'],\n",
    "    ['confusion matrix', cm_train, cm_test],\n",
    "    ['confusion matrix pct', cm_train_pct, cm_test_pct],\n",
    "    ['f1_score', f1_score(train_y, train_pred), f1_score(test_y, test_pred)],\n",
    "    ['accuracy score', accuracy_score(train_y, train_pred), accuracy_score(test_y, test_pred)],\n",
    "    ['recall score', recall_score(train_y, train_pred), recall_score(test_y, test_pred)],\n",
    "    ['precision_score', precision_score(train_y, train_pred), precision_score(test_y, test_pred)]\n",
    "]\n",
    "\n",
    "# print pretty table\n",
    "print('thr', threshold)\n",
    "print('iter', bst.best_ntree_limit)\n",
    "pretty_table(summary)\n",
    "print(params)"
   ]
  }
 ],
 "metadata": {
  "kernelspec": {
   "display_name": "conda_python3",
   "language": "python",
   "name": "conda_python3"
  },
  "language_info": {
   "codemirror_mode": {
    "name": "ipython",
    "version": 3
   },
   "file_extension": ".py",
   "mimetype": "text/x-python",
   "name": "python",
   "nbconvert_exporter": "python",
   "pygments_lexer": "ipython3",
   "version": "3.6.5"
  }
 },
 "nbformat": 4,
 "nbformat_minor": 2
}
